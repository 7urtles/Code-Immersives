{
 "cells": [
  {
   "cell_type": "markdown",
   "metadata": {},
   "source": [
    "<a href=\"https://codeimmersives.com\"><img src = \"https://www.codeimmersives.com/wp-content/uploads/2019/09/CodeImmersives_Logo_RGB_NYC_BW.png\" width = 400> </a>\n",
    "\n",
    "\n",
    "<h1 align=center><font size = 5>Agenda</font></h1>"
   ]
  },
  {
   "cell_type": "markdown",
   "metadata": {},
   "source": [
    "### \n",
    "<div class=\"alert alert-block alert-info\" style=\"margin-top: 20px\">\n",
    "\n",
    "1.  [Review -json](#0)<br>\n",
    "2.  [json normalize](#2)<br>    \n",
    "3.  [Exercise](#3)<br> \n",
    "</div>\n",
    "<hr>"
   ]
  },
  {
   "cell_type": "markdown",
   "metadata": {},
   "source": [
    "<h2>Review</h2>\n",
    "json"
   ]
  },
  {
   "cell_type": "markdown",
   "metadata": {},
   "source": [
    "A useful tool for dealing with JSON files is [here](https://www.freeformatter.com/json-escape.html#ad-output).\n",
    "<code>\n",
    "https://www.freeformatter.com/json-escape.html#ad-output\n",
    "</code>\n",
    "You can transform your json formatted files if you're having trouble parsing them."
   ]
  },
  {
   "cell_type": "markdown",
   "metadata": {},
   "source": [
    "A better tool for dealing with JSON files is [here](https://jsonformatter.org/json-pretty-print).\n",
    "<code>\n",
    "https://jsonformatter.org/json-pretty-print\n",
    "</code>\n",
    "You can transform your json formatted files if you're having trouble parsing them."
   ]
  },
  {
   "cell_type": "markdown",
   "metadata": {},
   "source": [
    "<h2>More complex json file formats</h2>\n",
    "You will have to parse more difficult json file formats when dealing<br>\n",
    "with output from a graphQL query. To tackle this issue we have to <br>\n",
    "revert to using pandas and its json_normalize method.<br>\n",
    "For example you are getting movie data from one of the movie<br>\n",
    "data apis (ie. www.imdb.com, www.tmdb.com).  The file format <br>\n",
    "might look like the following:<br>\n",
    "    <code>\n",
    "    {\n",
    "  \"data\": {\n",
    "    \"human\": {\n",
    "      \"name\": \"Luke Skywalker\",\n",
    "      \"height\": 1.72\n",
    "    }\n",
    "  }\n",
    "}\n",
    "    </code>"
   ]
  },
  {
   "cell_type": "code",
   "execution_count": null,
   "metadata": {},
   "outputs": [],
   "source": [
    "import json\n",
    "\n",
    "movie_info = \"\"\"{\n",
    "  \"data\": {\n",
    "    \"human\": {\n",
    "      \"name\": \"Luke Skywalker\",\n",
    "      \"height\": 1.72\n",
    "    }\n",
    "  }\n",
    "}\"\"\"\n",
    "print(movie_info)\n",
    "print(type(movie_info))\n",
    "res = json.loads(movie_info)\n",
    "print(res)\n",
    "print(type(res))   # <--- Returns a dictionary\n",
    "print('*'*35)"
   ]
  },
  {
   "cell_type": "markdown",
   "metadata": {},
   "source": [
    "<h2>Exercise</h2>\n",
    "How would we extract the name and height values from this<br>\n",
    "dictionary?<br>\n",
    "The only way is to parse into the layers of the data structure<br>"
   ]
  },
  {
   "cell_type": "code",
   "execution_count": null,
   "metadata": {},
   "outputs": [],
   "source": [
    "# Place your code here\n",
    "\n"
   ]
  },
  {
   "cell_type": "code",
   "execution_count": null,
   "metadata": {},
   "outputs": [],
   "source": []
  },
  {
   "cell_type": "markdown",
   "metadata": {},
   "source": [
    "<h2>pandas to the rescue!</h2>\n",
    "We can use the <b>json_normalize</b> method to flatten the json data<br>\n",
    "so that we can get to the information we want."
   ]
  },
  {
   "cell_type": "code",
   "execution_count": null,
   "metadata": {},
   "outputs": [],
   "source": [
    "import pandas as pd\n",
    "\n",
    "res = json.loads(movie_info)\n",
    "df = pd.json_normalize(res)\n",
    "print(df)"
   ]
  },
  {
   "cell_type": "markdown",
   "metadata": {},
   "source": [
    "To change the column heading to an underscore instead of a period<br>\n",
    "we use the: sep = '_' optional kwarg"
   ]
  },
  {
   "cell_type": "code",
   "execution_count": null,
   "metadata": {},
   "outputs": [],
   "source": [
    "import pandas as pd\n",
    "\n",
    "res = json.loads(movie_info)\n",
    "df = pd.json_normalize(res,sep=\"_\")\n",
    "print(df)"
   ]
  },
  {
   "cell_type": "markdown",
   "metadata": {},
   "source": [
    "<h2>Exercise</h2>\n",
    "Flatten the following json data and replace the periods with <br>\n",
    "underscores for the column names:<br>\n",
    "<code>\n",
    "data = [{'id': 1,\n",
    "        'name': \"Ralph Reed\",'fitness': {'height': 70, 'weight': 200}},\n",
    "        {'name': \"Ayn Rand\",'fitness': {'height': 66, 'weight': 140}},\n",
    "    {'id': 2, 'name': 'Rachel Baker','fitness': \n",
    "    {'height': 62, 'weight': 120}}]\n",
    "</code>\n",
    "\n",
    "<br>\n",
    "<br>\n",
    "<br>\n",
    "\n",
    "\n",
    "\n"
   ]
  },
  {
   "cell_type": "markdown",
   "metadata": {},
   "source": [
    "<b>The key to the solution was replacing the single quotes with double quotes!!</b>"
   ]
  },
  {
   "cell_type": "code",
   "execution_count": null,
   "metadata": {},
   "outputs": [],
   "source": [
    "import json\n",
    "import pandas as pd\n",
    "\n",
    "data = \"\"\"[{'id': 1,\n",
    "        'name': \"Ralph Reed\",'fitness': {'height': 70, 'weight': 200}},\n",
    "        {'name': \"Ayn Rand\",'fitness': {'height': 66, 'weight': 140}},\n",
    "    {'id': 2, 'name': 'Rachel Baker','fitness': \n",
    "    {'height': 62, 'weight': 120}}]\"\"\"\n",
    "\n"
   ]
  },
  {
   "cell_type": "markdown",
   "metadata": {},
   "source": [
    "We can use the max_level kwarg to flatten the data to a <br>\n",
    "certain level.  The additional levels, if any, remain in dictionary format"
   ]
  },
  {
   "cell_type": "code",
   "execution_count": null,
   "metadata": {},
   "outputs": [],
   "source": [
    "import json\n",
    "import pandas as pd\n",
    "\n",
    "data = \"\"\"[{'id': 1,\n",
    "        'name': \"Ralph Reed\",'fitness': {'height': 70, 'weight': 200}},\n",
    "        {'name': \"Ayn Rand\",'fitness': {'height': 66, 'weight': 140}},\n",
    "    {'id': 2, 'name': 'Rachel Baker','fitness': \n",
    "    {'height': 62, 'weight': 120}}]\"\"\"\n",
    "\n"
   ]
  },
  {
   "cell_type": "markdown",
   "metadata": {},
   "source": [
    "If the data has imbeded lists that contain other dictionaries<br>\n",
    "we have to use another approach to extract the data.<br>\n",
    "In this case the data did not change after max_level = 1"
   ]
  },
  {
   "cell_type": "code",
   "execution_count": null,
   "metadata": {},
   "outputs": [],
   "source": [
    "import json\n",
    "import pandas as pd\n",
    "\n",
    "data = \"\"\"[{'state': 'Florida',\n",
    "    'shortname': 'FL',\n",
    "    'info': {'governor': 'Rick Scott'},\n",
    "    'counties': [\n",
    "        {'name': 'Dade', 'population': 12345},\n",
    "        {'name': 'Broward', 'population': 40000},\n",
    "        {'name': 'Palm Beach', 'population': 60000}]},\n",
    "    {'state': 'Ohio',\n",
    "    'shortname': 'OH',\n",
    "    'info': {'governor': 'John Kasich'},\n",
    "    'counties': [\n",
    "        {'name': 'Summit', 'population': 1234},\n",
    "        {'name': 'Cuyahoga', 'population': 1337}]},\n",
    "    {'state': 'New York',\n",
    "    'shortname': 'NY',\n",
    "    'info': {'governor': 'Andrew Cuuomo'},\n",
    "    'counties': [\n",
    "        {'name': 'Kings', 'population': 3200},\n",
    "        {'name': 'New York', 'population': 2700}]}       \n",
    "       ]\"\"\"\n",
    "data = data.replace(\"'\",'\"')    # <--- Remember double quotes only\n",
    "res = json.loads(data)\n",
    "df = pd.json_normalize(res, sep = \"_\", max_level = 0)  # Flatten to level 0\n",
    "print(df)\n",
    "print('='*35)\n",
    "df = pd.json_normalize(res, sep = \"_\", max_level = 1)  # Flatten to level 1\n",
    "print(df)\n",
    "print('='*35)\n",
    "df = pd.json_normalize(res, sep = \"_\", max_level = 4)  # Flatten to level 4\n",
    "print(df)"
   ]
  },
  {
   "cell_type": "markdown",
   "metadata": {},
   "source": [
    "Let's examine the solution below<br>\n",
    "1 - The first level keys are state,shortname, counties<br>\n",
    "2 - The 2nd level has a dictionary key of 'info' and a key of 'governor'<br>\n",
    "3 - The counties have a list with embeded dictionary values<br>\n",
    "NOTE: we wrapped the column names inside a list to extract the values<br>"
   ]
  },
  {
   "cell_type": "code",
   "execution_count": null,
   "metadata": {},
   "outputs": [],
   "source": [
    "import json\n",
    "import pandas as pd\n",
    "\n",
    "data = \"\"\"[\n",
    "    {'state': 'Florida',\n",
    "    'shortname': 'FL',\n",
    "        'info': {'governor': 'Rick Scott'},\n",
    "        'counties': [\n",
    "            {'name': 'Dade', 'population': 12345},\n",
    "            {'name': 'Broward', 'population': 40000},\n",
    "            {'name': 'Palm Beach', 'population': 60000}]},\n",
    "    {'state': 'Ohio',\n",
    "    'shortname': 'OH',\n",
    "        'info': {'governor': 'John Kasich'},\n",
    "        'counties': [\n",
    "            {'name': 'Summit', 'population': 1234},\n",
    "            {'name': 'Cuyahoga', 'population': 1337}]},\n",
    "    {'state': 'New York',\n",
    "    'shortname': 'NY',\n",
    "        'info': {'governor': 'Andrew Cuuomo'},\n",
    "        'counties': [\n",
    "            {'name': 'Kings', 'population': 3200},\n",
    "            {'name': 'New York', 'population': 2700}]}       \n",
    "       ]\"\"\"\n",
    "data = data.replace(\"'\",'\"')    # <--- Remember double quotes only\n",
    "res = json.loads(data)\n",
    "df = pd.json_normalize(res, 'counties',\\\n",
    "                       ['state', 'shortname',['info', 'governor']])  # Flatten to level 0\n",
    "print(df)\n",
    "print('='*35)\n",
    "\n",
    "# print(res)\n",
    "df = pd.json_normalize(res, 'counties',['state', 'shortname'])  # Flatten to level 0\n",
    "print(df)\n",
    "print('='*35)"
   ]
  },
  {
   "cell_type": "code",
   "execution_count": null,
   "metadata": {},
   "outputs": [],
   "source": [
    "import json\n",
    "import pandas as pd\n",
    "\n",
    "data = \"\"\"{\n",
    "  \"data\": {\n",
    "    \"Comparison\": {\n",
    "      \"name\": \"Luke Skywalker\",\n",
    "      \"appearsIn\": [\n",
    "        \"NEWHOPE\",\n",
    "        \"EMPIRE\",\n",
    "        \"JEDI\"\n",
    "      ],\n",
    "      \"friends\": [\n",
    "        {\n",
    "          \"name\": \"Han Solo\"\n",
    "        },\n",
    "        {\n",
    "          \"name\": \"Leia Organa\"\n",
    "        },\n",
    "        {\n",
    "          \"name\": \"C-3PO\"\n",
    "        },\n",
    "        {\n",
    "          \"name\": \"R2-D2\"\n",
    "        }\n",
    "      ]\n",
    "    },\n",
    "    \"Comparison1\": {\n",
    "      \"name\": \"R2-D2\",\n",
    "      \"appearsIn\": [\n",
    "        \"NEWHOPE\",\n",
    "        \"EMPIRE\",\n",
    "        \"JEDI\"\n",
    "      ],\n",
    "      \"friends\": [\n",
    "        {\n",
    "          \"name\": \"Luke Skywalker\"\n",
    "        },\n",
    "        {\n",
    "          \"name\": \"Han Solo\"\n",
    "        },\n",
    "        {\n",
    "          \"name\": \"Leia Organa\"\n",
    "        }\n",
    "      ]\n",
    "    }\n",
    "  }\n",
    "}\"\"\"\n",
    "\n",
    "res = json.loads(data)\n",
    "print(res['data'])\n",
    "df = pd.json_normalize(res['data'])  # Flatten to level 0\n",
    "print(df)\n",
    "print('='*35)\n",
    "df = pd.json_normalize(res['data'],max_level = 1, sep = '_')  # Flatten to level 0\n",
    "print(df)\n",
    "print('='*70)\n",
    "print(type(res['data']['Comparison'].values()))\n",
    "df = pd.json_normalize(res['data']['Comparison'],'appearsIn',['name'],sep = '_')  \n",
    "print(df)\n",
    "print('='*70)"
   ]
  },
  {
   "cell_type": "markdown",
   "metadata": {},
   "source": [
    "<h2>Exercise</h2>\n",
    "Use the file nyc_phil.txt<br>\n",
    "Create a dataframe with useful aspects of the json file<br>\n",
    "step 1 - go to https://jsonformatter.org/json-pretty-print and paste the data<br>\n",
    "click the 'make pretty' button<br>\n",
    "step 2 - Click on the 'tree view' on the right hand side of the window.<br>\n",
    "step 3 - Explore the levels<br>\n",
    "step 4 - for paramters use the kwargs - record_path = 'path'<br>\n",
    "In our case explore individually - 'works' and  'concerts'<br>\n",
    "step 5 - To include the flat data before the records use the kwargs - 'meta = [col1,col2,..]'<br>\n",
    "<code>\n",
    "meta=['id', 'orchestra','programID', 'season']\n",
    "</code>\n"
   ]
  },
  {
   "cell_type": "code",
   "execution_count": 6,
   "metadata": {},
   "outputs": [
    {
     "name": "stdout",
     "output_type": "stream",
     "text": [
      "Empty DataFrame\n",
      "Columns: [{\"programs\": [{\"season\": \"1842-43\",  \"orchestra\": \"New York Philharmonic\",  \"concerts\": [{\"Date\": \"1842-12-07T05:00:00Z\",  \"eventType\": \"Subscription Season\",  \"Venue\": \"Apollo Rooms\",  \"Location\": \"Manhattan,  NY\",  \"Time\": \"8:00PM\"}],  \"programID\": \"3853\",  \"works\": [{\"workTitle\": \"SYMPHONY NO. 5 IN C MINOR,  OP.67\",  \"conductorName\": \"Hill,  Ureli Corelli\",  \"ID\": \"52446*\",  \"soloists\": [],  \"composerName\": \"Beethoven,   Ludwig  van\"},  {\"workTitle\": \"OBERON\",  \"composerName\": \"Weber,   Carl  Maria Von\",  \"conductorName\": \"Timm,  Henry C.\",  \"ID\": \"8834*4\",  \"soloists\": [{\"soloistName\": \"Otto,  Antoinette\",  \"soloistRoles\": \"S\",  \"soloistInstrument\": \"Soprano\"}],  \"movement\": \"\\\"Ozean,  du Ungeheuer\\\" (Ocean,  thou mighty monster),  Reiza (Scene and Aria),  Act II\"},  {\"workTitle\": \"QUINTET,  PIANO,  D MINOR,  OP. 74\",  \"ID\": \"3642*\",  \"soloists\": [{\"soloistName\": \"Scharfenberg,  William\",  \"soloistRoles\": \"A\",  \"soloistInstrument\": \"Piano\"},  {\"soloistName\": \"Hill,  Ureli Corelli\".1,  \"soloistRoles\": \"A\".1,  \"soloistInstrument\": \"Violin\"},  {\"soloistName\": \"Derwort,  G. H.\",  \"soloistRoles\": \"A\".2,  \"soloistInstrument\": \"Viola\"},  {\"soloistName\": \"Boucher,  Alfred\",  \"soloistRoles\": \"A\".3,  \"soloistInstrument\": \"Cello\"},  {\"soloistName\": \"Rosier,  F. W.\",  \"soloistRoles\": \"A\".4,  \"soloistInstrument\": \"Contrabass\"}],  \"composerName\": \"Hummel,   Johann\"},  {\"interval\": \"Intermission\",  \"ID\": \"0*\",  \"soloists\": []},  {\"workTitle\": \"OBERON\".1,  \"composerName\": \"Weber.1,   Carl  Maria Von\".1,  \"conductorName\": \"Etienne,  Denis G.\",  \"ID\": \"8834*3\",  \"soloists\": [].1,  \"movement\": \"Overture\"},  {\"workTitle\": \"ARMIDA\",  \"composerName\": \"Rossini,   Gioachino\",  \"conductorName\": \"Timm.1,  Henry C.\".1,  \"ID\": \"8835*1\",  \"soloists\": [{\"soloistName\": \"Otto.1,  Antoinette\".1,  \"soloistRoles\": \"S\".1,  \"soloistInstrument\": \"Soprano\"},  {\"soloistName\": \"Horn,  Charles Edward\",  \"soloistRoles\": \"S\".2,  \"soloistInstrument\": \"Tenor\"}],  \"movement\": \"Duet\"},  {\"workTitle\": \"FIDELIO,  OP. 72\",  \"composerName\": \"Beethoven.1,   Ludwig  van\",  \"conductorName\": \"Timm.2,  Henry C.\".2,  \"ID\": \"8837*6\",  \"soloists\": [{\"soloistName\": \"Horn,  Charles Edward\".1,  \"soloistRoles\": \"S\".3,  \"soloistInstrument\": \"Tenor\"}].1,  \"movement\": \"\\\"In Des Lebens Fruhlingstagen...O spur ich nicht linde, \\\" Florestan (aria)\"},  {\"workTitle\": \"ABDUCTION FROM THE SERAGLIO, THE, ...]\n",
      "Index: []\n",
      "\n",
      "[0 rows x 10789 columns]\n"
     ]
    }
   ],
   "source": [
    "from flask import Flask\n",
    "from flask_sqlalchemy import SQLAlchemy\n",
    "import pandas as pd\n",
    "\n",
    "# flask app to set up the db \n",
    "app = Flask(__name__)\n",
    "app.config['SQLALCHEMY_TRACK_MODIFICATIONS'] = False\n",
    "# specifiying the database engine and filename\n",
    "app.config['SQLALCHEMY_DATABASE_URI'] = 'sqlite:///log.db'\n",
    "# creating database instance\n",
    "db = SQLAlchemy(app)\n",
    "\n",
    "\n",
    "# class/table model for storing data to database\n",
    "class Day(db.Model):\n",
    "    id = db.Column(db.Integer, primary_key=True)\n",
    "    Date = db.Column(db.String(20))\n",
    "    Symbol = db.Column(db.String(20))\n",
    "    Open = db.Column(db.Float)\n",
    "    High = db.Column(db.Float)\n",
    "    Low = db.Column(db.Float)\n",
    "    Close = db.Column(db.Float)\n",
    "    Volume = db.Column(db.Float)\n",
    "    Adj_Close = db.Column(db.Float)\n",
    "\n",
    "    def __repr__(self):\n",
    "        return f\"{self.Date}\"\n",
    "\n",
    "# create database and its tables\n",
    "db.create_all()\n",
    "\n",
    "# retrieve csv data\n",
    "crap = pd.read_csv('nyc_phil.txt')\n",
    "soloist_data = pd.json_normalize(data=crap['programs'], record_path=['works', 'soloists'], meta=['id'])\n",
    "soloist_data.head(3)\n",
    "print(days)\n",
    "# rename the column with whitespace in the name\n",
    "# days.rename(columns={'Adj Close':'Adj_Close'}, inplace=True)\n",
    "# make the indices dates for viewability,\n",
    "#  Transpose the table \n",
    "# days = days.set_index('Date').T.to_dict()\n",
    "\n",
    "# for day in days:\n",
    "#     days[day][\"Date\"] = day\n",
    "#     new_day = Day(**days[day])\n",
    "#     db.session.add(new_day)\n",
    "#     db.session.commit()"
   ]
  },
  {
   "cell_type": "code",
   "execution_count": null,
   "metadata": {},
   "outputs": [],
   "source": []
  },
  {
   "cell_type": "markdown",
   "metadata": {},
   "source": [
    "The code block labelled 'concert level data' is done a different way below"
   ]
  },
  {
   "cell_type": "code",
   "execution_count": null,
   "metadata": {},
   "outputs": [],
   "source": []
  },
  {
   "cell_type": "code",
   "execution_count": null,
   "metadata": {},
   "outputs": [],
   "source": []
  },
  {
   "cell_type": "markdown",
   "metadata": {},
   "source": [
    "This notebook is part of a course at www.codeimmersives.com called **Python Flask and Django**. If you accessed this notebook outside the course, \n",
    "you can get more information about this course online by clicking [here](https://www.codeimmersives.com/programs/python-aws/)."
   ]
  },
  {
   "cell_type": "markdown",
   "metadata": {},
   "source": [
    "<hr>\n",
    "\n",
    "Copyright &copy; 2021"
   ]
  }
 ],
 "metadata": {
  "kernelspec": {
   "display_name": "Python 3",
   "language": "python",
   "name": "python3"
  },
  "language_info": {
   "codemirror_mode": {
    "name": "ipython",
    "version": 3
   },
   "file_extension": ".py",
   "mimetype": "text/x-python",
   "name": "python",
   "nbconvert_exporter": "python",
   "pygments_lexer": "ipython3",
   "version": "3.10.2"
  }
 },
 "nbformat": 4,
 "nbformat_minor": 4
}
