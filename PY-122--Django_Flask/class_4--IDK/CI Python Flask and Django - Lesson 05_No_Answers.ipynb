{
 "cells": [
  {
   "cell_type": "markdown",
   "metadata": {},
   "source": [
    "### Agenda\n",
    "<div class=\"alert alert-block alert-info\" style=\"margin-top: 20px\">\n",
    "\n",
    "1.  [Review](#0)<br>\n",
    "2.  [Decorators](#2)<br> \n",
    "3.  [Flask](#3)<br> \n",
    "4.  [Exercise 1](#8) <br>    \n",
    "5.  [Exercise 2](#10) <br>   \n",
    "</div>\n",
    "<hr>"
   ]
  },
  {
   "cell_type": "markdown",
   "metadata": {},
   "source": [
    "<h2>Review</h2>"
   ]
  },
  {
   "cell_type": "markdown",
   "metadata": {},
   "source": [
    "<H2>Exercise</H2>\n",
    "You are working in the H.R. department and you have to mask the<br>\n",
    "sensitive employee salary data based on an employee's security clearance<br>\n",
    "<br>\n",
    "Create the following:<br>\n",
    "1 - A class called 'SecurityClearance' which accepts the emp name and their clearance level<br>\n",
    "2 - The levels = 0 to 4<br>\n",
    "3 - By default  if you create an instance and do not include the clearance it defaults to 0<br>\n",
    "4 - When you print the instance it prints: 'Name' your clearance is '3'<br>\n",
    "5 - You have a private class variable: \n",
    "    <code>\n",
    "    _clearance = { 0:'0', 1:'1' , 2:'2' , 3:'3', 4:'All'}\n",
    "    </code>\n",
    "   <br>\n",
    "6 - Create a private method called _showLevel which will give the value of the dictionary<br>\n",
    "7 - Create a new class called CleanDocument<br>\n",
    "8 - It contains the static method called getSalary which has parameter field and sec_level<br>\n",
    "9 - The salary is masked as follows<br>\n",
    "<code>\n",
    "Level - Salary<br>\n",
    "All- 22500 ---> 22500 - No masking<br>\n",
    "3 - 22500 --> $X2500<br>\n",
    "2 - 22500 --> $XX500<br>\n",
    "1 - 22500 --> $XXX00<br>\n",
    "0 - 22500 --> $XXXXX<br>\n",
    "</code>\n",
    "Create an employee for each level and print the following salaries for each level<br>\n",
    "salaries = [20000,150000,359822]"
   ]
  },
  {
   "cell_type": "code",
   "execution_count": null,
   "metadata": {},
   "outputs": [],
   "source": []
  },
  {
   "cell_type": "markdown",
   "metadata": {},
   "source": [
    "<h4>Passing arguments to a function and unpacking them</h4>\n",
    "Packing and unpacking *args"
   ]
  },
  {
   "cell_type": "code",
   "execution_count": null,
   "metadata": {},
   "outputs": [],
   "source": [
    "def numbers(*args):  #  There were 4 arguments sent to the function\n",
    "    print(args)      # all of the args are printed here.  The '*' packs all of them in 1 tuple named args\n",
    "    print(f'- first args[0]={args[0]}\\n- 2nd args[1]={args[1]}\\n- 3rd args[2]={args[2]}\\n- 4th args[3]={args[3]}')\n",
    "    res = 1\n",
    "    for arg in args:\n",
    "        res *= arg   # Multiply all of the functions \n",
    "    return res\n",
    "\n",
    "#\n",
    "print(numbers(2,3,4,5))"
   ]
  },
  {
   "cell_type": "markdown",
   "metadata": {},
   "source": [
    "<h2>Exercise</h2>"
   ]
  },
  {
   "cell_type": "markdown",
   "metadata": {},
   "source": [
    "Write a function that will alternate between adding and subtracting all of the numbers<br>\n",
    "sent as arguments to a function called alt_calc.<br>\n",
    "Send the following arguments to the function:<br>\n",
    "Example 1 - print(alt_calc(10,3,4))<br>\n",
    "Example 2 - print(alt_calc(20,16,6,8,14,3))"
   ]
  },
  {
   "cell_type": "code",
   "execution_count": null,
   "metadata": {},
   "outputs": [],
   "source": []
  },
  {
   "cell_type": "markdown",
   "metadata": {},
   "source": [
    "<h4>using **kwargs</h4>\n",
    "This time use keywords passed in, in any order"
   ]
  },
  {
   "cell_type": "code",
   "execution_count": null,
   "metadata": {},
   "outputs": [],
   "source": [
    "def arrange_notes(**kwargs):\n",
    "    print(f'kwargs = {kwargs}')   # kwargs are passed as a dictionary\n",
    "    ret = 'sing '\n",
    "    for key,value in kwargs.items():\n",
    "        print(f'{key} - {value}')\n",
    "        ret += value + ',' \n",
    "    return ret\n",
    "\n",
    "print(arrange_notes(note1 = 'do', note2 = 're', note3 = 'mi', note4 = 'fa'))  # Passed to function using key word arguments"
   ]
  },
  {
   "cell_type": "markdown",
   "metadata": {},
   "source": [
    "<h2>Exercise</h2>"
   ]
  },
  {
   "cell_type": "markdown",
   "metadata": {},
   "source": [
    "Pass the following dictionary as a key word argument called pemdas and print<br>\n",
    "out all of its keys and values<br>\n",
    "<code>\n",
    "order_of_operations = {'P': 'Parenthesis',\n",
    "                      'E': 'Exponents',\n",
    "                      'M': 'Multiplication',\n",
    "                      'D': 'Division',\n",
    "                      'A': 'Addition',\n",
    "                      'S': 'Subtraction'}\n",
    "</code>\n"
   ]
  },
  {
   "cell_type": "code",
   "execution_count": null,
   "metadata": {},
   "outputs": [],
   "source": []
  },
  {
   "cell_type": "markdown",
   "metadata": {},
   "source": [
    "<h2>Exercise</h2>"
   ]
  },
  {
   "cell_type": "markdown",
   "metadata": {},
   "source": [
    "You are working for a website that collects customer data.<br>\n",
    "Some of the phone number data is not formated corectly.<br>\n",
    "<br>\n",
    "Your job is to create a decorator that does the following:<br>\n",
    "1 - If there are 10 digits, format the number as (999)999-9999<br>\n",
    "2 - If there are 7 digits, format the number as 999-9999 but right justified<br>\n",
    "3 - If you detect that the phone number is all of the same number discard it ie. (111)111-1111 or 111-1111<br>\n",
    "4 - If there are mistakes in the phone number discard it ie. Less than 10 chars or 7, non numerics<br>\n",
    "<br>\n",
    "<code>\n",
    "customers = {'1-1234':['Fred Williams','(212)234-7222'],\n",
    "             '1-9934':['Eric Wade','(21)234-4567'],\n",
    "             '1-1774':['Gilda Ericson','(222)222-2222'],\n",
    "             '1-1664':['Whilma Rotgen','(212)234-7222'],\n",
    "             '1-3334':['Doris French','()334-7992'],\n",
    "             '1-7734':['James Alms',''],\n",
    "             '1-8239':['Henry Janus','(999)999-9999'],\n",
    "             '1-6254':['David Davis','4342667255'],\n",
    "            }\n",
    "</code>"
   ]
  },
  {
   "cell_type": "code",
   "execution_count": 6,
   "metadata": {},
   "outputs": [
    {
     "data": {
      "text/plain": [
       "\"{'1-1234': ['Fred Williams', '(212)234-7222'], '1-9934': ['Eric Wade', ''], '1-1774': ['Gilda Ericson', ''], '1-1664': ['Whilma Rotgen', '(212)234-7222'], '1-3334': ['Doris French', '334-7992'], '1-7734': ['James Alms', ''], '1-8239': ['Henry Janus', ''], '1-6254': ['David Davis', '(434)266-7255']}\""
      ]
     },
     "execution_count": 6,
     "metadata": {},
     "output_type": "execute_result"
    }
   ],
   "source": [
    "\n",
    "def something(function):\n",
    "    def inner():\n",
    "        customers = function()\n",
    "        # iterate dictionary items\n",
    "        for key,value in customers.items():\n",
    "            total = 0\n",
    "            # strip all non digits\n",
    "            value[1] = \"\".join(letter for letter in value[1] if letter.isdigit())\n",
    "            # if numbers isnt blank\n",
    "            if value[1] != \"\":\n",
    "                # iterate digits\n",
    "                for digit in value[1]:\n",
    "                    # keep a total of the digits\n",
    "                    total += int(digit)\n",
    "                # if the digits are all the same\n",
    "                if (total/(int(value[1][0])*len(value[1])) == 1):\n",
    "                    # scrap it\n",
    "                    value[1] = \"\"\n",
    "\n",
    "                # Check phone number length and format final number\n",
    "                match len(value[1]):\n",
    "                    case 10:\n",
    "                        value[1] = '(' + value[1][:3] + ')' +value[1][3:6] + '-' + value[1][6:]\n",
    "                    case 7: \n",
    "                        value[1] = value[1][:3] + '-' +value[1][3:]\n",
    "                    case _:\n",
    "                        value[1] = \"\"\n",
    "                # change dictionaries number value to the modified number\n",
    "                customers[key][1] = value[1]\n",
    "        return f'{customers}'\n",
    "    return inner                          \n",
    "\n",
    "\n",
    "@something\n",
    "def customer():\n",
    "        customers = {\n",
    "                '1-1234':['Fred Williams','(212)234-7222'],\n",
    "                '1-9934':['Eric Wade','(21)234-4567'],\n",
    "                '1-1774':['Gilda Ericson','(222)222-2222'],\n",
    "                '1-1664':['Whilma Rotgen','(212)234-7222'],\n",
    "                '1-3334':['Doris French','()334-7992'],\n",
    "                '1-7734':['James Alms',''],\n",
    "                '1-8239':['Henry Janus','(999)999-9999'],\n",
    "                '1-6254':['David Davis','4342667255'],\n",
    "        }\n",
    "        return customers\n",
    "    \n",
    "customer()"
   ]
  },
  {
   "cell_type": "markdown",
   "metadata": {},
   "source": [
    "<h2>Exercise</h2>"
   ]
  },
  {
   "cell_type": "markdown",
   "metadata": {},
   "source": [
    "Create a decorator that calculates the fuel mileage surcharges on vehicles<br>\n",
    "returned over the 50,000 lease agreement. <br>\n",
    "The rules are as follows:<br>\n",
    "Every rental is charged $500<br>\n",
    "For every mile over 50,000 charge 10 cent per mile up to 60,000 miles<br>\n",
    "For every mile over 60,000 charge 15 cent per mile up to 70,000 miles<br>\n",
    "For every mile over 70,000 charge 25 cent per mile<br>\n",
    "<code>\n",
    "mileage = [30000,55000,60000,65000,70000,75000,80000]\n",
    "</code>"
   ]
  },
  {
   "cell_type": "code",
   "execution_count": 15,
   "metadata": {},
   "outputs": [
    {
     "name": "stdout",
     "output_type": "stream",
     "text": [
      "3500.0\n",
      "6000.0\n",
      "9500.0\n",
      "10000.0\n",
      "18000.0\n",
      "18500.0\n",
      "19000.0\n"
     ]
    }
   ],
   "source": [
    "def mileage(function):\n",
    "    \n",
    "    def inner(mile):\n",
    "        miles = function(mile)\n",
    "        tier_1 = 70_000, .25\n",
    "        tier_2 = 60_000, .15\n",
    "        tier_3 = 50_000, .10\n",
    "\n",
    "        base_cost = 500\n",
    "        # do until total distance cost is calculated\n",
    "        while miles > 0:\n",
    "            # subtract 70,000 miles from the total miles driven, charging the tier 1 rate\n",
    "            if miles >= tier_1[0]:\n",
    "                miles -= tier_1[0]\n",
    "                base_cost += tier_1[0] * tier_1[1]\n",
    "            # subtract 60,000 miles from the total miles driven, charging the tier 2 rate\n",
    "            elif miles>= tier_2[0]:\n",
    "                miles -= tier_2[0]\n",
    "                base_cost += tier_2[0] * tier_2[1]\n",
    "            # subtract final miles from the total miles driven, charging the base rate\n",
    "            else:\n",
    "                base_cost += miles * tier_3[1]\n",
    "                miles -= miles\n",
    "        return base_cost\n",
    "    return inner\n",
    "\n",
    "@mileage\n",
    "def something(mile):\n",
    "    return mile\n",
    "\n",
    "mileage = [30000,55000,60000,65000,70000,75000,80000]\n",
    "\n",
    "for mile in mileage:\n",
    "    print(something(mile))"
   ]
  },
  {
   "cell_type": "markdown",
   "metadata": {},
   "source": [
    "<h2>Flask</h2>"
   ]
  },
  {
   "cell_type": "markdown",
   "metadata": {},
   "source": [
    "From this point forward we will be running our code in VS code and creating<br>\n",
    "programs with a .py extension.<br>\n",
    "We will run our code by executing from the terminal<br>\n",
    "<br>\n",
    "python test_flask.py\n",
    "<br>\n",
    "After running we will see the following message:<br>\n",
    "<code>\n",
    " * Serving Flask app \"test_flask\" (lazy loading)\n",
    " * Environment: production\n",
    "   WARNING: This is a development server. Do not use it in a production deployment.\n",
    "   Use a production WSGI server instead.\n",
    " * Debug mode: on\n",
    " * Restarting with stat\n",
    " * Debugger is active!\n",
    " * Debugger PIN: 781-154-690\n",
    " * Running on http://localhost:8000/ (Press CTRL+C to quit)\n",
    "</code>\n",
    "We know that our local server is up and running and waiting for requests<br>\n",
    "to hit our endpoints.<br>\n",
    "NOTICE: To restart the server after any code changes do a CTRL+C to quit on a windows machine<br>\n",
    "Run the code below.  You can change the port number if there is an issue<br>\n",
    "<br>\n",
    "After saving and running the code in VS Code open a browser window and type:<br>\n",
    "http://localhost:8000/<br>\n",
    "NOTE: Your port must match!!!!<br>\n",
    "Also with the debugger on you will be able to read your errors."
   ]
  },
  {
   "cell_type": "code",
   "execution_count": 1,
   "metadata": {},
   "outputs": [
    {
     "name": "stdout",
     "output_type": "stream",
     "text": [
      " * Serving Flask app '__main__' (lazy loading)\n",
      " * Environment: production\n",
      "\u001b[31m   WARNING: This is a development server. Do not use it in a production deployment.\u001b[0m\n",
      "\u001b[2m   Use a production WSGI server instead.\u001b[0m\n",
      " * Debug mode: on\n"
     ]
    },
    {
     "ename": "OSError",
     "evalue": "[Errno 48] Address already in use",
     "output_type": "error",
     "traceback": [
      "\u001b[0;31m---------------------------------------------------------------------------\u001b[0m",
      "\u001b[0;31mOSError\u001b[0m                                   Traceback (most recent call last)",
      "\u001b[1;32m/Users/charlesparmley/Documents/PY-122--Django_Flask/class_4--IDK/CI Python Flask and Django - Lesson 05_No_Answers.ipynb Cell 23'\u001b[0m in \u001b[0;36m<cell line: 10>\u001b[0;34m()\u001b[0m\n\u001b[1;32m      <a href='vscode-notebook-cell:/Users/charlesparmley/Documents/PY-122--Django_Flask/class_4--IDK/CI%20Python%20Flask%20and%20Django%20-%20Lesson%2005_No_Answers.ipynb#ch0000025?line=7'>8</a>\u001b[0m     \u001b[39mreturn\u001b[39;00m \u001b[39m'\u001b[39m\u001b[39m<h1>** Hello World ** !</h1>\u001b[39m\u001b[39m'\u001b[39m\n\u001b[1;32m     <a href='vscode-notebook-cell:/Users/charlesparmley/Documents/PY-122--Django_Flask/class_4--IDK/CI%20Python%20Flask%20and%20Django%20-%20Lesson%2005_No_Answers.ipynb#ch0000025?line=9'>10</a>\u001b[0m \u001b[39mif\u001b[39;00m \u001b[39m__name__\u001b[39m \u001b[39m==\u001b[39m \u001b[39m'\u001b[39m\u001b[39m__main__\u001b[39m\u001b[39m'\u001b[39m:\n\u001b[0;32m---> <a href='vscode-notebook-cell:/Users/charlesparmley/Documents/PY-122--Django_Flask/class_4--IDK/CI%20Python%20Flask%20and%20Django%20-%20Lesson%2005_No_Answers.ipynb#ch0000025?line=10'>11</a>\u001b[0m     app\u001b[39m.\u001b[39;49mrun(host\u001b[39m=\u001b[39;49m\u001b[39m'\u001b[39;49m\u001b[39m0.0.0.0\u001b[39;49m\u001b[39m'\u001b[39;49m,debug\u001b[39m=\u001b[39;49m\u001b[39mTrue\u001b[39;49;00m, port\u001b[39m=\u001b[39;49m\u001b[39m5000\u001b[39;49m)\n",
      "File \u001b[0;32m~/Documents/PY-122--Django_Flask/venv/lib/python3.10/site-packages/flask/app.py:920\u001b[0m, in \u001b[0;36mFlask.run\u001b[0;34m(self, host, port, debug, load_dotenv, **options)\u001b[0m\n\u001b[1;32m    <a href='file:///Users/charlesparmley/Documents/PY-122--Django_Flask/venv/lib/python3.10/site-packages/flask/app.py?line=916'>917</a>\u001b[0m \u001b[39mfrom\u001b[39;00m \u001b[39mwerkzeug\u001b[39;00m\u001b[39m.\u001b[39;00m\u001b[39mserving\u001b[39;00m \u001b[39mimport\u001b[39;00m run_simple\n\u001b[1;32m    <a href='file:///Users/charlesparmley/Documents/PY-122--Django_Flask/venv/lib/python3.10/site-packages/flask/app.py?line=918'>919</a>\u001b[0m \u001b[39mtry\u001b[39;00m:\n\u001b[0;32m--> <a href='file:///Users/charlesparmley/Documents/PY-122--Django_Flask/venv/lib/python3.10/site-packages/flask/app.py?line=919'>920</a>\u001b[0m     run_simple(t\u001b[39m.\u001b[39;49mcast(\u001b[39mstr\u001b[39;49m, host), port, \u001b[39mself\u001b[39;49m, \u001b[39m*\u001b[39;49m\u001b[39m*\u001b[39;49moptions)\n\u001b[1;32m    <a href='file:///Users/charlesparmley/Documents/PY-122--Django_Flask/venv/lib/python3.10/site-packages/flask/app.py?line=920'>921</a>\u001b[0m \u001b[39mfinally\u001b[39;00m:\n\u001b[1;32m    <a href='file:///Users/charlesparmley/Documents/PY-122--Django_Flask/venv/lib/python3.10/site-packages/flask/app.py?line=921'>922</a>\u001b[0m     \u001b[39m# reset the first request information if the development server\u001b[39;00m\n\u001b[1;32m    <a href='file:///Users/charlesparmley/Documents/PY-122--Django_Flask/venv/lib/python3.10/site-packages/flask/app.py?line=922'>923</a>\u001b[0m     \u001b[39m# reset normally.  This makes it possible to restart the server\u001b[39;00m\n\u001b[1;32m    <a href='file:///Users/charlesparmley/Documents/PY-122--Django_Flask/venv/lib/python3.10/site-packages/flask/app.py?line=923'>924</a>\u001b[0m     \u001b[39m# without reloader and that stuff from an interactive shell.\u001b[39;00m\n\u001b[1;32m    <a href='file:///Users/charlesparmley/Documents/PY-122--Django_Flask/venv/lib/python3.10/site-packages/flask/app.py?line=924'>925</a>\u001b[0m     \u001b[39mself\u001b[39m\u001b[39m.\u001b[39m_got_first_request \u001b[39m=\u001b[39m \u001b[39mFalse\u001b[39;00m\n",
      "File \u001b[0;32m~/Documents/PY-122--Django_Flask/venv/lib/python3.10/site-packages/werkzeug/serving.py:991\u001b[0m, in \u001b[0;36mrun_simple\u001b[0;34m(hostname, port, application, use_reloader, use_debugger, use_evalex, extra_files, exclude_patterns, reloader_interval, reloader_type, threaded, processes, request_handler, static_files, passthrough_errors, ssl_context)\u001b[0m\n\u001b[1;32m    <a href='file:///Users/charlesparmley/Documents/PY-122--Django_Flask/venv/lib/python3.10/site-packages/werkzeug/serving.py?line=988'>989</a>\u001b[0m s \u001b[39m=\u001b[39m socket\u001b[39m.\u001b[39msocket(address_family, socket\u001b[39m.\u001b[39mSOCK_STREAM)\n\u001b[1;32m    <a href='file:///Users/charlesparmley/Documents/PY-122--Django_Flask/venv/lib/python3.10/site-packages/werkzeug/serving.py?line=989'>990</a>\u001b[0m s\u001b[39m.\u001b[39msetsockopt(socket\u001b[39m.\u001b[39mSOL_SOCKET, socket\u001b[39m.\u001b[39mSO_REUSEADDR, \u001b[39m1\u001b[39m)\n\u001b[0;32m--> <a href='file:///Users/charlesparmley/Documents/PY-122--Django_Flask/venv/lib/python3.10/site-packages/werkzeug/serving.py?line=990'>991</a>\u001b[0m s\u001b[39m.\u001b[39;49mbind(server_address)\n\u001b[1;32m    <a href='file:///Users/charlesparmley/Documents/PY-122--Django_Flask/venv/lib/python3.10/site-packages/werkzeug/serving.py?line=991'>992</a>\u001b[0m s\u001b[39m.\u001b[39mset_inheritable(\u001b[39mTrue\u001b[39;00m)\n\u001b[1;32m    <a href='file:///Users/charlesparmley/Documents/PY-122--Django_Flask/venv/lib/python3.10/site-packages/werkzeug/serving.py?line=993'>994</a>\u001b[0m \u001b[39m# If we can open the socket by file descriptor, then we can just\u001b[39;00m\n\u001b[1;32m    <a href='file:///Users/charlesparmley/Documents/PY-122--Django_Flask/venv/lib/python3.10/site-packages/werkzeug/serving.py?line=994'>995</a>\u001b[0m \u001b[39m# reuse this one and our socket will survive the restarts.\u001b[39;00m\n",
      "\u001b[0;31mOSError\u001b[0m: [Errno 48] Address already in use"
     ]
    }
   ],
   "source": [
    "# Copy and paste this code into VS code and name it test_flask.py\n",
    "from flask import Flask\n",
    "\n",
    "app = Flask(__name__)\n",
    "\n",
    "@app.route('/')\n",
    "def index():\n",
    "    return '<h1>** Hello World ** !</h1>'\n",
    "\n",
    "if __name__ == '__main__':\n",
    "    app.run(host='0.0.0.0',debug=True, port=5000)"
   ]
  },
  {
   "cell_type": "markdown",
   "metadata": {},
   "source": [
    "We ran our first flask app and it didn't do much.  Let's add another endpoint<br>\n",
    "to our flask app.  Create a new program called test_flask2.py (code is below)and save it<br>\n",
    "Make sure you stop your previous flask service from running.  <br>\n",
    "python test_flask2.py<br>\n",
    "Open a new browser tab and type the following<br>\n",
    "http://localhost:8000/<br>\n",
    "http://localhost:8000/user/Frank<br>\n",
    "http://localhost:8000/user/Gregory<br>   \n",
    "NOTE: Everytime you save your code in VS Code it wil save the new endpoint\n"
   ]
  },
  {
   "cell_type": "code",
   "execution_count": 4,
   "metadata": {},
   "outputs": [
    {
     "name": "stdout",
     "output_type": "stream",
     "text": [
      " * Serving Flask app '__main__' (lazy loading)\n",
      " * Environment: production\n",
      "\u001b[31m   WARNING: This is a development server. Do not use it in a production deployment.\u001b[0m\n",
      "\u001b[2m   Use a production WSGI server instead.\u001b[0m\n",
      " * Debug mode: on\n"
     ]
    },
    {
     "name": "stderr",
     "output_type": "stream",
     "text": [
      " * Running on all addresses.\n",
      "   WARNING: This is a development server. Do not use it in a production deployment.\n",
      " * Running on http://192.168.50.130:4500/ (Press CTRL+C to quit)\n",
      " * Restarting with stat\n",
      "Traceback (most recent call last):\n",
      "  File \"/Users/charlesparmley/Documents/PY-122--Django_Flask/venv/lib/python3.10/site-packages/ipykernel_launcher.py\", line 16, in <module>\n",
      "    app.launch_new_instance()\n",
      "  File \"/Users/charlesparmley/Documents/PY-122--Django_Flask/venv/lib/python3.10/site-packages/traitlets/config/application.py\", line 845, in launch_instance\n",
      "    app.initialize(argv)\n",
      "  File \"/Users/charlesparmley/Documents/PY-122--Django_Flask/venv/lib/python3.10/site-packages/traitlets/config/application.py\", line 88, in inner\n",
      "    return method(app, *args, **kwargs)\n",
      "  File \"/Users/charlesparmley/Documents/PY-122--Django_Flask/venv/lib/python3.10/site-packages/ipykernel/kernelapp.py\", line 632, in initialize\n",
      "    self.init_sockets()\n",
      "  File \"/Users/charlesparmley/Documents/PY-122--Django_Flask/venv/lib/python3.10/site-packages/ipykernel/kernelapp.py\", line 282, in init_sockets\n",
      "    self.shell_port = self._bind_socket(self.shell_socket, self.shell_port)\n",
      "  File \"/Users/charlesparmley/Documents/PY-122--Django_Flask/venv/lib/python3.10/site-packages/ipykernel/kernelapp.py\", line 229, in _bind_socket\n",
      "    return self._try_bind_socket(s, port)\n",
      "  File \"/Users/charlesparmley/Documents/PY-122--Django_Flask/venv/lib/python3.10/site-packages/ipykernel/kernelapp.py\", line 205, in _try_bind_socket\n",
      "    s.bind(\"tcp://%s:%i\" % (self.ip, port))\n",
      "  File \"/Users/charlesparmley/Documents/PY-122--Django_Flask/venv/lib/python3.10/site-packages/zmq/sugar/socket.py\", line 214, in bind\n",
      "    super().bind(addr)\n",
      "  File \"zmq/backend/cython/socket.pyx\", line 540, in zmq.backend.cython.socket.Socket.bind\n",
      "  File \"zmq/backend/cython/checkrc.pxd\", line 28, in zmq.backend.cython.checkrc._check_rc\n",
      "zmq.error.ZMQError: Address already in use\n"
     ]
    },
    {
     "ename": "SystemExit",
     "evalue": "1",
     "output_type": "error",
     "traceback": [
      "An exception has occurred, use %tb to see the full traceback.\n",
      "\u001b[0;31mSystemExit\u001b[0m\u001b[0;31m:\u001b[0m 1\n"
     ]
    },
    {
     "name": "stderr",
     "output_type": "stream",
     "text": [
      "/Users/charlesparmley/Documents/PY-122--Django_Flask/venv/lib/python3.10/site-packages/IPython/core/interactiveshell.py:3369: UserWarning: To exit: use 'exit', 'quit', or Ctrl-D.\n",
      "  warn(\"To exit: use 'exit', 'quit', or Ctrl-D.\", stacklevel=1)\n"
     ]
    }
   ],
   "source": [
    "from flask import Flask\n",
    "app = Flask(__name__)\n",
    "\n",
    "\n",
    "@app.route('/')\n",
    "def hello():\n",
    "    return \"<h2>Hello World!</h2>\"\n",
    "\n",
    "@app.route('/user/<name>')     # <---- THE NEW ENDPOINT - The variable has to be <name>\n",
    "def hello_name(name):\n",
    "    return f\"<h1>-- Hello {name} --</h1>\"\n",
    "\n",
    "if __name__ == '__main__':\n",
    "    app.run(host='0.0.0.0',debug=True, port=4500)"
   ]
  },
  {
   "cell_type": "markdown",
   "metadata": {},
   "source": [
    "<h2>Exercise</h2>"
   ]
  },
  {
   "cell_type": "markdown",
   "metadata": {},
   "source": [
    "Let's create a new endpoint that will be used to check if a number is prime<br>\n",
    "The endpoint should be 'number/ name '<br>\n",
    "The endpoint should pass in a number and return whether the number is a prime or not<br>\n",
    "If the number is a prime use h1 to format the number otherwise use h4<br>\n",
    "http://localhost:8000/number/23<br>\n",
    "http://localhost:8000/number/12<br>\n",
    "http://localhost:8000/number/56<br>"
   ]
  },
  {
   "cell_type": "code",
   "execution_count": null,
   "metadata": {},
   "outputs": [],
   "source": [
    "# Copy and paste this code into VS code and name it test_flask.py\n",
    "from flask import Flask\n",
    "\n",
    "app = Flask(__name__)\n",
    "\n",
    "\n",
    "def factors(x):\n",
    "\tnumbers = []\n",
    "\tfor i in range(1, x + 1):\n",
    "\t\tif x % i == 0:\n",
    "\t\t\tnumbers.append(i)\n",
    "\treturn f\"The factors of {x} are: {numbers}\"\n",
    "\n",
    "def prime_factors(self, start=0):\n",
    "\t\tif start == 0: start == self.start\n",
    "\t\treturn [num for num in range(1,start+1) if start % num == 0 and self.check_prime(num) == True]\n",
    "\n",
    "def check_prime(start):\n",
    "\tx = \"\"\n",
    "\tif start < 4: x = \"\"\n",
    "\tif start % 2 == 0: x = \"not\"\n",
    "\ti = 3\n",
    "\twhile i < 20:\n",
    "\t\tif start % i == 0: x = \"not\"\n",
    "\t\ti+=2\n",
    "\treturn f\"{start} is {x} prime.\"\n",
    "\n",
    "\n",
    "@app.route('/factors/<number>')\n",
    "def ops1(number):\n",
    "    return factors(int(number))\n",
    "\n",
    "@app.route('/prime_factors/<number>')\n",
    "def ops2(number):\n",
    "    return prime_factors(int(number))\n",
    "\n",
    "@app.route('/is_prime/<number>')\n",
    "def ops3(number):\n",
    "    return str(check_prime(int(number)))\n",
    "\n",
    "if __name__ == '__main__':\n",
    "    app.run(host='0.0.0.0',debug=True, port=5500)\n",
    "\n"
   ]
  },
  {
   "cell_type": "markdown",
   "metadata": {},
   "source": [
    "<h2>Exercise</h2>"
   ]
  },
  {
   "cell_type": "markdown",
   "metadata": {},
   "source": [
    "<h2>Exercise</h2>"
   ]
  },
  {
   "cell_type": "markdown",
   "metadata": {},
   "source": [
    "Write an endpoint that allows you to enter a key and return<br>\n",
    "an item from the dictionary.  The endpoint is '/song'<br>\n",
    "If the note is not part of the song return 'The note ___ is not part of the song!'<br>\n",
    "Try:<br>\n",
    "http://localhost:8000/song/zi<br>\n",
    "http://localhost:8000/song/do<br>\n",
    "http://localhost:8000/song/me<br>\n",
    "<code>\n",
    "lyrics = {'do': 'Doe, a deer a female deer',\n",
    "         're': 'Ray, A drop of golden sun',\n",
    "         'me': 'Me, a name I call myself',\n",
    "         'fa': 'Far, a long long way to run',\n",
    "         'so': 'Sew, a needle pulling thread',\n",
    "         'la': 'La, a note to follow so',\n",
    "         'ti': 'Tea, a drink with jam and bread'}\n",
    "</code>"
   ]
  },
  {
   "cell_type": "code",
   "execution_count": null,
   "metadata": {},
   "outputs": [],
   "source": [
    "from flask import Flask\n",
    "\n",
    "app = Flask(__name__)\n",
    "\n",
    "@app.route('/<note>')\n",
    "def idk_yet(note):\n",
    "    lyrics = {'do': 'Doe, a deer a female deer',\n",
    "         're': 'Ray, A drop of golden sun',\n",
    "         'me': 'Me, a name I call myself',\n",
    "         'fa': 'Far, a long long way to run',\n",
    "         'so': 'Sew, a needle pulling thread',\n",
    "         'la': 'La, a note to follow so',\n",
    "         'ti': 'Tea, a drink with jam and bread'}\n",
    "    if note in lyrics:\n",
    "        return lyrics[note]\n",
    "    else: return 'Note not found'\n",
    "\n",
    "if __name__ == '__main__':\n",
    "    app.run(host='0.0.0.0', port=5500)"
   ]
  },
  {
   "cell_type": "markdown",
   "metadata": {},
   "source": [
    "<h2>Exercise</h2>"
   ]
  },
  {
   "cell_type": "markdown",
   "metadata": {},
   "source": [
    "Review HTML by clicking [here](https://www.w3schools.com/tags/ref_byfunc.asp)."
   ]
  }
 ],
 "metadata": {
  "kernelspec": {
   "display_name": "Python 3",
   "language": "python",
   "name": "python3"
  },
  "language_info": {
   "codemirror_mode": {
    "name": "ipython",
    "version": 3
   },
   "file_extension": ".py",
   "mimetype": "text/x-python",
   "name": "python",
   "nbconvert_exporter": "python",
   "pygments_lexer": "ipython3",
   "version": "3.10.2"
  }
 },
 "nbformat": 4,
 "nbformat_minor": 4
}
