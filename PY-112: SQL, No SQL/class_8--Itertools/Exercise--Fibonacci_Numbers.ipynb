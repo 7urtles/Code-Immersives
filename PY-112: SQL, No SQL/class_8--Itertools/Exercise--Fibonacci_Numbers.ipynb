{
 "cells": [
  {
   "cell_type": "code",
   "execution_count": 52,
   "metadata": {},
   "outputs": [
    {
     "name": "stdout",
     "output_type": "stream",
     "text": [
      "LOOP\n",
      "LOOP\n",
      "LOOP\n",
      "LOOP\n",
      "LOOP\n",
      "LOOP\n",
      "LOOP\n",
      "LOOP\n",
      "[0, 1, 1, 2, 3, 5, 8, 13, 21, 34, 55, 89, 144, 233, 377]\n"
     ]
    }
   ],
   "source": [
    "# Calculate the Fibonacci sequence to the 15th number\n",
    "# Loops occured: 8\n",
    "\n",
    "def fibonacci_gen(seed,specified):\n",
    "    sequence = []\n",
    "\n",
    "    # until we have the number of fibonacci's specified\n",
    "    while len(sequence) < specified:\n",
    "        print(\"LOOP\")\n",
    "        # Add first two numbers to the fib list|  Because of this the loop only runs half the times specified by user\n",
    "        sequence.append(seed[0])\n",
    "        sequence.append(seed[1])\n",
    "\n",
    "        # Increase first pair in the sequence by the previous pairs second item\n",
    "        seed[0] += seed[1]\n",
    "\n",
    "        # Increase second item by the new number\n",
    "        seed[1] += seed[0]\n",
    "    print(sequence[:specified]) # Trim list to the size we want\n",
    "\n",
    "fibonacci_gen([0,1],15)\n"
   ]
  },
  {
   "cell_type": "code",
   "execution_count": 51,
   "metadata": {},
   "outputs": [
    {
     "name": "stdout",
     "output_type": "stream",
     "text": [
      "RECURSION\n",
      "RECURSION\n",
      "RECURSION\n",
      "RECURSION\n",
      "RECURSION\n",
      "RECURSION\n",
      "RECURSION\n",
      "RECURSION\n",
      "[0, 1, 1, 2, 3, 5, 8, 13, 21, 34, 55, 89, 144, 233, 377]\n"
     ]
    }
   ],
   "source": [
    "# Touching on recursion\n",
    "# Recurdive depth: 8\n",
    "\n",
    "sequence = []\n",
    "def fibonacci_gen(seed,specified):\n",
    "    # add new seed items to sequence list\n",
    "    sequence.extend([seed[0],seed[1]]) # Again keeping the recursive depth to 1/2 the input number\n",
    "    seed[0] += seed[1]; seed[1] += seed[0] \n",
    "    print(\"RECURSION\")\n",
    "    # return fibonacci numbers if sequence length is reached\n",
    "    # if not go farther in recursion depth\n",
    "    return sequence[:specified] if len(sequence) >= specified \\\n",
    "    else fibonacci_gen(seed,specified)\n",
    "\n",
    "print(fibonacci_gen([0,1],15))"
   ]
  },
  {
   "cell_type": "code",
   "execution_count": 50,
   "metadata": {},
   "outputs": [
    {
     "name": "stdout",
     "output_type": "stream",
     "text": [
      "LOOP\n",
      "LOOP\n",
      "LOOP\n",
      "LOOP\n",
      "LOOP\n",
      "LOOP\n",
      "LOOP\n",
      "LOOP\n",
      "LOOP\n",
      "LOOP\n",
      "LOOP\n",
      "LOOP\n",
      "LOOP\n",
      "Non Recursive: [0, 1, 1, 2, 3, 5, 8, 13, 21, 34, 55, 89, 144, 233, 377]\n",
      "Recursion\n",
      "Recursion\n",
      "Recursion\n",
      "Recursion\n",
      "Recursion\n",
      "Recursion\n",
      "Recursion\n",
      "Recursion\n",
      "Recursion\n",
      "Recursion\n",
      "Recursion\n",
      "Recursion\n",
      "Recursion\n",
      "Recursive: [0, 1, 1, 2, 3, 5, 8, 13, 21, 34, 55, 89, 144, 233, 377]\n"
     ]
    }
   ],
   "source": [
    "# Converting Justins solution\n",
    "#-----------------------------\n",
    "\n",
    "# Justins solution:\n",
    "# Loops occured: 13\n",
    "def fib(sequence, iters):\n",
    "    for _ in range(iters-2):\n",
    "        sequence.append(sequence[-1] + sequence[-2])\n",
    "    return sequence\n",
    "\n",
    "print(f'Non Recursive: {fib([0, 1], 15)}')\n",
    "\n",
    "\n",
    "# Converted to use recursion:\n",
    "# Recursive depth 13\n",
    "def fib(sequence, iters):\n",
    "    sequence.append(sequence[-1] + sequence[-2])\n",
    "    return sequence if len(sequence) >= iters else fib(sequence, iters)\n",
    "     \n",
    "print(f'Recursive: {fib([0, 1], 15)}')"
   ]
  }
 ],
 "metadata": {
  "interpreter": {
   "hash": "31f2aee4e71d21fbe5cf8b01ff0e069b9275f58929596ceb00d14d90e3e16cd6"
  },
  "kernelspec": {
   "display_name": "Python 3.8.9 64-bit",
   "name": "python3"
  },
  "language_info": {
   "codemirror_mode": {
    "name": "ipython",
    "version": 3
   },
   "file_extension": ".py",
   "mimetype": "text/x-python",
   "name": "python",
   "nbconvert_exporter": "python",
   "pygments_lexer": "ipython3",
   "version": "3.8.9"
  },
  "orig_nbformat": 4
 },
 "nbformat": 4,
 "nbformat_minor": 2
}
