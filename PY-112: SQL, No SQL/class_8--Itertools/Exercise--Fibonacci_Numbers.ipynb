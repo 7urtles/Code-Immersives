{
 "cells": [
  {
   "cell_type": "code",
   "execution_count": 5,
   "metadata": {},
   "outputs": [
    {
     "name": "stdout",
     "output_type": "stream",
     "text": [
      "[0, 1, 1, 2, 3, 5, 8, 13, 21, 34, 55, 89, 144, 233, 377]\n"
     ]
    }
   ],
   "source": [
    "\n",
    "# Calculate the Fibonacci sequence to the 15th number\n",
    "def fibonacci_gen(seed,specified):\n",
    "    sequence = []\n",
    "\n",
    "    # until we have the number of fibonacci's specified\n",
    "    while len(sequence) < specified:\n",
    "        # Add first two numbers to the fib list\n",
    "        sequence.append(seed[0])\n",
    "        sequence.append(seed[1])\n",
    "\n",
    "        # Increase first pair in the sequence by the previous pairs second item\n",
    "        seed[0] += seed[1]\n",
    "\n",
    "        # Increase second item by the new number\n",
    "        seed[1] += seed[0]\n",
    "    print(sequence[:specified]) # Trim list to the size we want\n",
    "\n",
    "fibonacci_gen([0,1],15)\n"
   ]
  },
  {
   "cell_type": "code",
   "execution_count": 34,
   "metadata": {},
   "outputs": [
    {
     "name": "stdout",
     "output_type": "stream",
     "text": [
      "[0, 1, 1, 2, 3, 5, 8, 13, 21, 34, 55, 89, 144, 233, 377]\n"
     ]
    }
   ],
   "source": [
    "# Touching on recursion\n",
    "sequence = []\n",
    "def fibonacci_gen(seed,specified):\n",
    "    \n",
    "    # add new seed items to sequence list\n",
    "    sequence.extend([seed[0],seed[1]])\n",
    "    seed[0] += seed[1]; seed[1] += seed[0]\n",
    "\n",
    "    # return fibonacci numbers if sequence length is reached\n",
    "    # if not go farther in recursion depth\n",
    "    return sequence[:specified] if len(sequence) >= specified \\\n",
    "    else fibonacci_gen(seed,specified)\n",
    "\n",
    "print(fibonacci_gen([0,1],15))"
   ]
  }
 ],
 "metadata": {
  "interpreter": {
   "hash": "31f2aee4e71d21fbe5cf8b01ff0e069b9275f58929596ceb00d14d90e3e16cd6"
  },
  "kernelspec": {
   "display_name": "Python 3.8.9 64-bit",
   "name": "python3"
  },
  "language_info": {
   "codemirror_mode": {
    "name": "ipython",
    "version": 3
   },
   "file_extension": ".py",
   "mimetype": "text/x-python",
   "name": "python",
   "nbconvert_exporter": "python",
   "pygments_lexer": "ipython3",
   "version": "3.8.9"
  },
  "orig_nbformat": 4
 },
 "nbformat": 4,
 "nbformat_minor": 2
}
