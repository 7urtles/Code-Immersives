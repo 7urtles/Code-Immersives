{
 "cells": [
  {
   "cell_type": "code",
   "execution_count": 2,
   "metadata": {},
   "outputs": [],
   "source": [
    "# Using the console get:\n",
    "#   First Name\n",
    "#   Last Name\n",
    "\n",
    "# 1) Find Mean, Median, and Mode for all students\n",
    "# 2) Find the Mean Media and Mode for each gender\n",
    "\n",
    "# Don't want to repeatedly enter this info\n",
    "students_backup = {\n",
    "    'Frank Smith M' : 94,\n",
    "    'Sharon Post F' : 96,\n",
    "    'David Ware M' : 88,\n",
    "    'Warren Childs M' : 89,\n",
    "    'Sara Tolken F' : 85,\n",
    "    'Phillip Lee M' : 83,\n",
    "    'Tara Holds F' : 78,\n",
    "    'Samuel Jenkins M' : 86,\n",
    "    'Paula Fere F' : 88,\n",
    "    'Alonzo Moore M' : 55,\n",
    "}"
   ]
  },
  {
   "cell_type": "code",
   "execution_count": 4,
   "metadata": {},
   "outputs": [],
   "source": [
    "# mean\n",
    "def mean(numList):\n",
    "    return sum(numList)/len(numList)\n",
    "\n",
    "# median\n",
    "def median(numList):\n",
    "    numList_sorted = sorted(numList)\n",
    "    #              return the average of the middle two values in the list                  if the list is an even legth    else return the middle number from the list\n",
    "    return numList_sorted[int((int(len(numList_sorted)/2)+int(len(numList_sorted)/2)+1)/2)] if len(numList_sorted) % 2 == 0 else numList_sorted[int(len(numList_sorted)/2 + .5)]\n",
    "\n",
    "# mode\n",
    "def mode(numList):\n",
    "    # Compare how many times each numbers occur and return the one which occurs the most\n",
    "    counts = {number:numList.count(number) for number in numList}\n",
    "\n",
    "    # Working for any number of modes\n",
    "    results = sorted(counts.items())\n",
    "    mode = [results[0]]\n",
    "    for result in results:\n",
    "        if result[1] > mode[0][1]:\n",
    "            mode = [result]\n",
    "        elif result[1] == mode[0][1] and result not in mode:\n",
    "            mode.append(result)\n",
    "    return mode\n",
    "\n"
   ]
  },
  {
   "cell_type": "code",
   "execution_count": null,
   "metadata": {},
   "outputs": [],
   "source": [
    "# Will build a dictionary of students by giving it a fname, lname, gender(M/F), and a grade\n",
    "def enter_students():\n",
    "    students = {}\n",
    "    for _ in range(10):\n",
    "        first_name = input(f'\\nfirst name: ')\n",
    "        last_name = input(f'last name: ')\n",
    "        gender = input(f'gender [M or F]: ')\n",
    "        \n",
    "        # Forcing the user in a loop until they enter an integer for the grade\n",
    "        grade = ''\n",
    "        while grade == '':\n",
    "            try:\n",
    "                grade = int(input(f'enter grade: '))\n",
    "            except:\n",
    "                pass\n",
    "        students[\" \".join([first_name,last_name,gender])] = grade\n",
    "    return students\n",
    "\n",
    "# Create list of all grades\n",
    "grades_all = [grade for _,grade in students_backup.items()]\n",
    "\n",
    "# Seperate by Male\n",
    "grades_m = [grade for name,grade in students_backup.items() if name.split(\" \")[2] == 'M']\n",
    "\n",
    "# Seperate by Female\n",
    "grades_f = [grade for name,grade in students_backup.items() if name.split(\" \")[2] == 'F']\n",
    "\n",
    "# gathering all the dictionaries into a master dictionary\n",
    "grades_stats = {'All' : grades_all, 'M' : grades_m, 'F' : grades_f}\n",
    "\n",
    "for category, stats in grades_stats.items():\n",
    "    print(f'[{category}]\\n \\tmean: {mean(stats)} \\n\\tmedian: {median(stats)} \\n\\tmode: {mode(stats)}\\n')"
   ]
  }
 ],
 "metadata": {
  "interpreter": {
   "hash": "31f2aee4e71d21fbe5cf8b01ff0e069b9275f58929596ceb00d14d90e3e16cd6"
  },
  "kernelspec": {
   "display_name": "Python 3.8.9 64-bit",
   "name": "python3"
  },
  "language_info": {
   "codemirror_mode": {
    "name": "ipython",
    "version": 3
   },
   "file_extension": ".py",
   "mimetype": "text/x-python",
   "name": "python",
   "nbconvert_exporter": "python",
   "pygments_lexer": "ipython3",
   "version": "3.8.9"
  },
  "orig_nbformat": 4
 },
 "nbformat": 4,
 "nbformat_minor": 2
}
