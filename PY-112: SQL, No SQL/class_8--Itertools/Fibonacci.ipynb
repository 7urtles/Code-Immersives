{
 "cells": [
  {
   "cell_type": "code",
   "execution_count": 14,
   "metadata": {},
   "outputs": [
    {
     "name": "stdout",
     "output_type": "stream",
     "text": [
      "[0, 1, 1, 2, 3, 5, 8, 13, 21, 34, 55, 89, 144, 233, 377, 610]\n"
     ]
    }
   ],
   "source": [
    "# Calculate the Fibonacci sequence to the 15th number\n",
    "def fibonacci_gen(seed,specified):\n",
    "    number = seed[0]\n",
    "    new_number = seed[1]\n",
    "    sequence = []\n",
    "\n",
    "    # until we have the number of fibonacci's specified\n",
    "    while len(sequence) < specified:\n",
    "        # Add first two numbers to the fib list\n",
    "        sequence.append(number)\n",
    "        sequence.append(new_number)\n",
    "\n",
    "        # Increase first pair in the sequence by the previous pairs second item\n",
    "        number += new_number\n",
    "\n",
    "        # Increase second item by the new number\n",
    "        new_number += number\n",
    "    print(sequence)\n",
    "\n",
    "fibonacci_gen([0,1],15)"
   ]
  }
 ],
 "metadata": {
  "interpreter": {
   "hash": "31f2aee4e71d21fbe5cf8b01ff0e069b9275f58929596ceb00d14d90e3e16cd6"
  },
  "kernelspec": {
   "display_name": "Python 3.8.9 64-bit",
   "name": "python3"
  },
  "language_info": {
   "codemirror_mode": {
    "name": "ipython",
    "version": 3
   },
   "file_extension": ".py",
   "mimetype": "text/x-python",
   "name": "python",
   "nbconvert_exporter": "python",
   "pygments_lexer": "ipython3",
   "version": "3.8.9"
  },
  "orig_nbformat": 4
 },
 "nbformat": 4,
 "nbformat_minor": 2
}
