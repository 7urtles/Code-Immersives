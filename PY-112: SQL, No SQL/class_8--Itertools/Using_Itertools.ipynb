{
 "cells": [
  {
   "cell_type": "code",
   "execution_count": 20,
   "metadata": {},
   "outputs": [
    {
     "name": "stdout",
     "output_type": "stream",
     "text": [
      "('A', 'B') ('A', 'C') ('B', 'A') ('B', 'C') ('C', 'A') ('C', 'B')\n",
      "<itertools.combinations object at 0x107c48cc0>\n"
     ]
    },
    {
     "data": {
      "text/plain": [
       "[(3, 7), (-2, 12), (-94, 104), (2, 8)]"
      ]
     },
     "execution_count": 20,
     "metadata": {},
     "output_type": "execute_result"
    }
   ],
   "source": [
    "import itertools\n",
    "\n",
    "letters = ['A','B','C']\n",
    "numbers = [1,3,6,5,-2,22,7,-94,104,99,2,8,17,12]\n",
    "\n",
    "# Finding Permutations\n",
    "letter_permutations = itertools.permutations(letters,2)\n",
    "print(*letter_permutations)\n",
    "\n",
    "# Finding Number Combinations\n",
    "number_combinations = itertools.combinations(numbers,2)\n",
    "print(number_combinations)\n",
    "\n",
    "# Numbers that add up to 10\n",
    "[pair for pair in number_combinations if pair[0] + pair[1] == 10]"
   ]
  },
  {
   "cell_type": "markdown",
   "metadata": {},
   "source": []
  },
  {
   "cell_type": "code",
   "execution_count": null,
   "metadata": {},
   "outputs": [],
   "source": [
    "import itertools\n",
    "\n",
    "# Using the same list\n",
    "numbers = [1,3,6,5,-2,22,7,-94,104,99,2,8,17,12]\n",
    "\n",
    "# Checking if a given number is prime\n",
    "def is_prime(number):\n",
    "    for n in range(2,int(number**1/2)+1):\n",
    "        if number%n==0:\n",
    "            return False\n",
    "    return True\n",
    "\n",
    "# Find all 3 number combinations that add up to a prime number\n",
    "combinations = itertools.combinations(numbers, 3)\n",
    "[trio for trio in combinations if is_prime(sum(trio))==True]"
   ]
  }
 ],
 "metadata": {
  "interpreter": {
   "hash": "31f2aee4e71d21fbe5cf8b01ff0e069b9275f58929596ceb00d14d90e3e16cd6"
  },
  "kernelspec": {
   "display_name": "Python 3.8.9 64-bit",
   "name": "python3"
  },
  "language_info": {
   "codemirror_mode": {
    "name": "ipython",
    "version": 3
   },
   "file_extension": ".py",
   "mimetype": "text/x-python",
   "name": "python",
   "nbconvert_exporter": "python",
   "pygments_lexer": "ipython3",
   "version": "3.8.9"
  },
  "orig_nbformat": 4
 },
 "nbformat": 4,
 "nbformat_minor": 2
}
