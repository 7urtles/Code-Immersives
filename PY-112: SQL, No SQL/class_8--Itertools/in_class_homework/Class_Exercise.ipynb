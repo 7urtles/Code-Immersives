{
 "cells": [
  {
   "cell_type": "code",
   "execution_count": 1,
   "metadata": {},
   "outputs": [
    {
     "name": "stdout",
     "output_type": "stream",
     "text": [
      "[12, 14, 20, 22, 104, 8]\n"
     ]
    }
   ],
   "source": [
    "# Exercise 1\n",
    "# Find all even numbers in the following list\n",
    "x = [12,3,'William',14,5,20,'Olga',22,104,'Ralph',99,8,17]\n",
    "\n",
    "evens = []\n",
    "# Iterate the list items\n",
    "for number in x:\n",
    "    # Attempt to\n",
    "    try:\n",
    "        # See if the number is divisible by 2\n",
    "        if number % 2 == 0:\n",
    "            # If so add it to the list of even numbers\n",
    "            evens.append(number)\n",
    "    # If it wasn't an integer (if not a number, division error arises)\n",
    "    except:\n",
    "        # go to the next item\n",
    "        pass\n",
    "\n",
    "print(evens)"
   ]
  },
  {
   "cell_type": "code",
   "execution_count": 2,
   "metadata": {},
   "outputs": [
    {
     "name": "stdout",
     "output_type": "stream",
     "text": [
      "['manager', 'operations manager', 'operations manager (US)', 'operations manager (Canada)', 'Operations manager (Mexico)']\n"
     ]
    }
   ],
   "source": [
    "# Exercise 2\n",
    "# Extract all managers from the list of titles. 'Manager' in the title.\n",
    "titles = ['team leader','squad leader','manager','managing director','director of operations',\n",
    "         'operations manager','operations manager (US)', 'operations manager (Canada)',\n",
    "          'Operations manager (Mexico)']\n",
    "\n",
    "# Check every item, if 'manager' is in the title print it\n",
    "print([title for title in titles if 'manager' in title])"
   ]
  },
  {
   "cell_type": "code",
   "execution_count": 3,
   "metadata": {},
   "outputs": [
    {
     "name": "stdout",
     "output_type": "stream",
     "text": [
      "[(3, 7), (5, 5), (-2, 12), (-94, 104), (2, 8)]\n"
     ]
    }
   ],
   "source": [
    "# Exercise 3:\n",
    "# Find all 2 number combinations that add to 10\n",
    "x = [1,3,6,5,-2,22,7,-94,104,99,2,8,17,12]\n",
    "pairs = []\n",
    "# Go over every number in the list 'x'\n",
    "for number in x:\n",
    "    # Check it against other numbers in the list\n",
    "    for position in range(len(x)):\n",
    "        # If they total 10, and the combination is not already in the list\n",
    "        if number + x[position] == 10 and (x[position], number) not in pairs:\n",
    "            # Add it to the list\n",
    "            pairs.append((number, x[position]))\n",
    "print(pairs)"
   ]
  }
 ],
 "metadata": {
  "interpreter": {
   "hash": "31f2aee4e71d21fbe5cf8b01ff0e069b9275f58929596ceb00d14d90e3e16cd6"
  },
  "kernelspec": {
   "display_name": "Python 3.8.9 64-bit",
   "name": "python3"
  },
  "language_info": {
   "codemirror_mode": {
    "name": "ipython",
    "version": 3
   },
   "file_extension": ".py",
   "mimetype": "text/x-python",
   "name": "python",
   "nbconvert_exporter": "python",
   "pygments_lexer": "ipython3",
   "version": "3.8.9"
  },
  "orig_nbformat": 4
 },
 "nbformat": 4,
 "nbformat_minor": 2
}
