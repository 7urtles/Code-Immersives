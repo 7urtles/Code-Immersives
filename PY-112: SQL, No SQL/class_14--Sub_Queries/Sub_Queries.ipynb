{
 "cells": [
  {
   "cell_type": "markdown",
   "metadata": {},
   "source": [
    "<div style = 'text-align: center'>\n",
    "<h1>Sub Queries</h1>\n",
    "</div>"
   ]
  },
  {
   "cell_type": "code",
   "execution_count": 43,
   "metadata": {},
   "outputs": [
    {
     "name": "stdout",
     "output_type": "stream",
     "text": [
      "(100,)\n"
     ]
    }
   ],
   "source": [
    "import sqlite3\n",
    "connection = sqlite3.connect('employee_data.db')\n",
    "cursor = connection.cursor()\n",
    "# get managers by their id\n",
    "sales_stats = list(cursor.execute(\"\"\"select distinct \n",
    "sales.employee_id, employees.last_name, employees.first_name, sum(sales.sale_amount)\n",
    "from sales \n",
    "left join employees on\n",
    "employees.employee_id = sales.employee_id\n",
    "group by sales.employee_id\n",
    "having sum(sales.sale_amount) > 95000.0\"\"\"))\n",
    "\n",
    "# for i in sales_stats:\n",
    "#     print(i)\n",
    "\n",
    "\n",
    "\n",
    "\n",
    "# Multi Joins.....idk yet\n",
    "# with_department_names = list(cursor.execute(\"\"\"select distinct \n",
    "# sales.employee_id, employees.last_name, employees.first_name, employees.dept_name, sum(sales.sale_amount)\n",
    "# from sales \n",
    "# left join employees on employees.employee_id = sales.employee_id\n",
    "# left join employees employees2 on employees2.dept_id = departments.id\n",
    "# group by sales.employee_id\n",
    "# having sum(sales.sale_amount) > 95000.0\"\"\"))\n",
    "\n",
    "# for i in with_department_names:\n",
    "#     print(i)\n",
    "\n",
    "\n",
    "\n",
    "\n",
    "# SUB QUERIES.\n",
    "#   Queries within queries\n",
    "#   Uses the keywork 'in' to nest queries\n",
    "\n",
    "sales_stats = list(cursor.execute(\"\"\"\n",
    "select distinct sales.employee_id\n",
    "from sales \n",
    "left join employees on\n",
    "employees.employee_id = sales.employee_id\n",
    "group by sales.employee_id\n",
    "having sum(sales.sale_amount) > 95000.0\n",
    "\"\"\"))\n",
    "\n",
    "for i in sales_stats:\n",
    "    print(i)\n",
    "\n",
    "# SUB STRINGS\n",
    "# These explanations are not conducive to my learning\n",
    "connection.close()\n"
   ]
  }
 ],
 "metadata": {
  "interpreter": {
   "hash": "31f2aee4e71d21fbe5cf8b01ff0e069b9275f58929596ceb00d14d90e3e16cd6"
  },
  "kernelspec": {
   "display_name": "Python 3.8.9 64-bit",
   "name": "python3"
  },
  "language_info": {
   "codemirror_mode": {
    "name": "ipython",
    "version": 3
   },
   "file_extension": ".py",
   "mimetype": "text/x-python",
   "name": "python",
   "nbconvert_exporter": "python",
   "pygments_lexer": "ipython3",
   "version": "3.8.9"
  },
  "orig_nbformat": 4
 },
 "nbformat": 4,
 "nbformat_minor": 2
}
