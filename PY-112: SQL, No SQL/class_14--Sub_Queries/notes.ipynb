{
 "cells": [
  {
   "cell_type": "markdown",
   "metadata": {},
   "source": [
    "<div style = 'text-align: center'>\n",
    "<h1>Sub Queries</h1>\n",
    "</div>"
   ]
  },
  {
   "cell_type": "code",
   "execution_count": null,
   "metadata": {},
   "outputs": [],
   "source": [
    "import sqlite3\n",
    "connection = sqlite3.connect('employee_data.db')\n",
    "cursor = connection.cursor()\n",
    "# get managers by their id\n",
    "sales_stats = list(cursor.execute(\"\"\"select distinct \n",
    "sales.employee_id, employees.last_name, employees.first_name, sum(sales.sale_amount)\n",
    "from sales \n",
    "left join employees on\n",
    "employees.employee_id = sales.employee_id\n",
    "group by sales.employee_id\n",
    "having sum(sales.sale_amount) > 95000.0\"\"\"))\n",
    "\n",
    "# for i in sales_stats:\n",
    "#     print(i)\n",
    "\n",
    "\n",
    "\n",
    "\n",
    "# Multi Joins.....idk yet\n",
    "# with_department_names = list(cursor.execute(\"\"\"select distinct \n",
    "# sales.employee_id, employees.last_name, employees.first_name, employees.dept_name, sum(sales.sale_amount)\n",
    "# from sales \n",
    "# left join employees on employees.employee_id = sales.employee_id\n",
    "# left join employees employees2 on employees2.dept_id = departments.id\n",
    "# group by sales.employee_id\n",
    "# having sum(sales.sale_amount) > 95000.0\"\"\"))\n",
    "\n",
    "# for i in with_department_names:\n",
    "#     print(i)\n",
    "\n",
    "\n",
    "\n",
    "\n",
    "# SUB QUERIES.\n",
    "#   Queries within queries\n",
    "#   Uses the keywork 'in' to nest queries\n",
    "\n",
    "sales_stats = list(cursor.execute(\"\"\"\n",
    "select distinct sales.employee_id\n",
    "from sales \n",
    "left join employees on\n",
    "employees.employee_id = sales.employee_id\n",
    "group by sales.employee_id\n",
    "having sum(sales.sale_amount) > 95000.0\n",
    "\"\"\"))\n",
    "\n",
    "for i in sales_stats:\n",
    "    print(i)\n",
    "\n",
    "# SUB STRINGS\n",
    "# These explanations are not conducive to my learning\n",
    "connection.close()"
   ]
  },
  {
   "cell_type": "markdown",
   "metadata": {},
   "source": [
    "<div style='text-align:center'>\n",
    "<h1>Recursion</h1>\n",
    "<h5>Functions Calling Themselves</h5>\n",
    "</div>"
   ]
  },
  {
   "cell_type": "code",
   "execution_count": 2,
   "metadata": {},
   "outputs": [
    {
     "name": "stdout",
     "output_type": "stream",
     "text": [
      "n\n",
      "o\n",
      "h\n",
      "t\n",
      "y\n",
      "P\n"
     ]
    },
    {
     "ename": "IndexError",
     "evalue": "string index out of range",
     "output_type": "error",
     "traceback": [
      "\u001b[0;31m---------------------------------------------------------------------------\u001b[0m",
      "\u001b[0;31mIndexError\u001b[0m                                Traceback (most recent call last)",
      "\u001b[0;32m/var/folders/hl/rnkm2m_d3s92k66lxdhnvbpr0000gn/T/ipykernel_22020/1955102884.py\u001b[0m in \u001b[0;36m<module>\u001b[0;34m\u001b[0m\n\u001b[1;32m      3\u001b[0m     \u001b[0mprint\u001b[0m\u001b[0;34m(\u001b[0m\u001b[0mword\u001b[0m\u001b[0;34m[\u001b[0m\u001b[0;34m-\u001b[0m\u001b[0;36m1\u001b[0m\u001b[0;34m]\u001b[0m\u001b[0;34m)\u001b[0m\u001b[0;34m\u001b[0m\u001b[0;34m\u001b[0m\u001b[0m\n\u001b[1;32m      4\u001b[0m     \u001b[0mprint_reverse\u001b[0m\u001b[0;34m(\u001b[0m\u001b[0mword\u001b[0m\u001b[0;34m[\u001b[0m\u001b[0;34m:\u001b[0m\u001b[0;34m-\u001b[0m\u001b[0;36m1\u001b[0m\u001b[0;34m]\u001b[0m\u001b[0;34m)\u001b[0m\u001b[0;34m\u001b[0m\u001b[0;34m\u001b[0m\u001b[0m\n\u001b[0;32m----> 5\u001b[0;31m \u001b[0mprint_reverse\u001b[0m\u001b[0;34m(\u001b[0m\u001b[0;34m)\u001b[0m\u001b[0;34m\u001b[0m\u001b[0;34m\u001b[0m\u001b[0m\n\u001b[0m",
      "\u001b[0;32m/var/folders/hl/rnkm2m_d3s92k66lxdhnvbpr0000gn/T/ipykernel_22020/1955102884.py\u001b[0m in \u001b[0;36mprint_reverse\u001b[0;34m(word)\u001b[0m\n\u001b[1;32m      2\u001b[0m \u001b[0;32mdef\u001b[0m \u001b[0mprint_reverse\u001b[0m\u001b[0;34m(\u001b[0m\u001b[0mword\u001b[0m\u001b[0;34m=\u001b[0m\u001b[0;34m'Python'\u001b[0m\u001b[0;34m)\u001b[0m\u001b[0;34m:\u001b[0m\u001b[0;34m\u001b[0m\u001b[0;34m\u001b[0m\u001b[0m\n\u001b[1;32m      3\u001b[0m     \u001b[0mprint\u001b[0m\u001b[0;34m(\u001b[0m\u001b[0mword\u001b[0m\u001b[0;34m[\u001b[0m\u001b[0;34m-\u001b[0m\u001b[0;36m1\u001b[0m\u001b[0;34m]\u001b[0m\u001b[0;34m)\u001b[0m\u001b[0;34m\u001b[0m\u001b[0;34m\u001b[0m\u001b[0m\n\u001b[0;32m----> 4\u001b[0;31m     \u001b[0mprint_reverse\u001b[0m\u001b[0;34m(\u001b[0m\u001b[0mword\u001b[0m\u001b[0;34m[\u001b[0m\u001b[0;34m:\u001b[0m\u001b[0;34m-\u001b[0m\u001b[0;36m1\u001b[0m\u001b[0;34m]\u001b[0m\u001b[0;34m)\u001b[0m\u001b[0;34m\u001b[0m\u001b[0;34m\u001b[0m\u001b[0m\n\u001b[0m\u001b[1;32m      5\u001b[0m \u001b[0mprint_reverse\u001b[0m\u001b[0;34m(\u001b[0m\u001b[0;34m)\u001b[0m\u001b[0;34m\u001b[0m\u001b[0;34m\u001b[0m\u001b[0m\n",
      "\u001b[0;32m/var/folders/hl/rnkm2m_d3s92k66lxdhnvbpr0000gn/T/ipykernel_22020/1955102884.py\u001b[0m in \u001b[0;36mprint_reverse\u001b[0;34m(word)\u001b[0m\n\u001b[1;32m      2\u001b[0m \u001b[0;32mdef\u001b[0m \u001b[0mprint_reverse\u001b[0m\u001b[0;34m(\u001b[0m\u001b[0mword\u001b[0m\u001b[0;34m=\u001b[0m\u001b[0;34m'Python'\u001b[0m\u001b[0;34m)\u001b[0m\u001b[0;34m:\u001b[0m\u001b[0;34m\u001b[0m\u001b[0;34m\u001b[0m\u001b[0m\n\u001b[1;32m      3\u001b[0m     \u001b[0mprint\u001b[0m\u001b[0;34m(\u001b[0m\u001b[0mword\u001b[0m\u001b[0;34m[\u001b[0m\u001b[0;34m-\u001b[0m\u001b[0;36m1\u001b[0m\u001b[0;34m]\u001b[0m\u001b[0;34m)\u001b[0m\u001b[0;34m\u001b[0m\u001b[0;34m\u001b[0m\u001b[0m\n\u001b[0;32m----> 4\u001b[0;31m     \u001b[0mprint_reverse\u001b[0m\u001b[0;34m(\u001b[0m\u001b[0mword\u001b[0m\u001b[0;34m[\u001b[0m\u001b[0;34m:\u001b[0m\u001b[0;34m-\u001b[0m\u001b[0;36m1\u001b[0m\u001b[0;34m]\u001b[0m\u001b[0;34m)\u001b[0m\u001b[0;34m\u001b[0m\u001b[0;34m\u001b[0m\u001b[0m\n\u001b[0m\u001b[1;32m      5\u001b[0m \u001b[0mprint_reverse\u001b[0m\u001b[0;34m(\u001b[0m\u001b[0;34m)\u001b[0m\u001b[0;34m\u001b[0m\u001b[0;34m\u001b[0m\u001b[0m\n",
      "\u001b[0;32m/var/folders/hl/rnkm2m_d3s92k66lxdhnvbpr0000gn/T/ipykernel_22020/1955102884.py\u001b[0m in \u001b[0;36mprint_reverse\u001b[0;34m(word)\u001b[0m\n\u001b[1;32m      2\u001b[0m \u001b[0;32mdef\u001b[0m \u001b[0mprint_reverse\u001b[0m\u001b[0;34m(\u001b[0m\u001b[0mword\u001b[0m\u001b[0;34m=\u001b[0m\u001b[0;34m'Python'\u001b[0m\u001b[0;34m)\u001b[0m\u001b[0;34m:\u001b[0m\u001b[0;34m\u001b[0m\u001b[0;34m\u001b[0m\u001b[0m\n\u001b[1;32m      3\u001b[0m     \u001b[0mprint\u001b[0m\u001b[0;34m(\u001b[0m\u001b[0mword\u001b[0m\u001b[0;34m[\u001b[0m\u001b[0;34m-\u001b[0m\u001b[0;36m1\u001b[0m\u001b[0;34m]\u001b[0m\u001b[0;34m)\u001b[0m\u001b[0;34m\u001b[0m\u001b[0;34m\u001b[0m\u001b[0m\n\u001b[0;32m----> 4\u001b[0;31m     \u001b[0mprint_reverse\u001b[0m\u001b[0;34m(\u001b[0m\u001b[0mword\u001b[0m\u001b[0;34m[\u001b[0m\u001b[0;34m:\u001b[0m\u001b[0;34m-\u001b[0m\u001b[0;36m1\u001b[0m\u001b[0;34m]\u001b[0m\u001b[0;34m)\u001b[0m\u001b[0;34m\u001b[0m\u001b[0;34m\u001b[0m\u001b[0m\n\u001b[0m\u001b[1;32m      5\u001b[0m \u001b[0mprint_reverse\u001b[0m\u001b[0;34m(\u001b[0m\u001b[0;34m)\u001b[0m\u001b[0;34m\u001b[0m\u001b[0;34m\u001b[0m\u001b[0m\n",
      "\u001b[0;32m/var/folders/hl/rnkm2m_d3s92k66lxdhnvbpr0000gn/T/ipykernel_22020/1955102884.py\u001b[0m in \u001b[0;36mprint_reverse\u001b[0;34m(word)\u001b[0m\n\u001b[1;32m      2\u001b[0m \u001b[0;32mdef\u001b[0m \u001b[0mprint_reverse\u001b[0m\u001b[0;34m(\u001b[0m\u001b[0mword\u001b[0m\u001b[0;34m=\u001b[0m\u001b[0;34m'Python'\u001b[0m\u001b[0;34m)\u001b[0m\u001b[0;34m:\u001b[0m\u001b[0;34m\u001b[0m\u001b[0;34m\u001b[0m\u001b[0m\n\u001b[1;32m      3\u001b[0m     \u001b[0mprint\u001b[0m\u001b[0;34m(\u001b[0m\u001b[0mword\u001b[0m\u001b[0;34m[\u001b[0m\u001b[0;34m-\u001b[0m\u001b[0;36m1\u001b[0m\u001b[0;34m]\u001b[0m\u001b[0;34m)\u001b[0m\u001b[0;34m\u001b[0m\u001b[0;34m\u001b[0m\u001b[0m\n\u001b[0;32m----> 4\u001b[0;31m     \u001b[0mprint_reverse\u001b[0m\u001b[0;34m(\u001b[0m\u001b[0mword\u001b[0m\u001b[0;34m[\u001b[0m\u001b[0;34m:\u001b[0m\u001b[0;34m-\u001b[0m\u001b[0;36m1\u001b[0m\u001b[0;34m]\u001b[0m\u001b[0;34m)\u001b[0m\u001b[0;34m\u001b[0m\u001b[0;34m\u001b[0m\u001b[0m\n\u001b[0m\u001b[1;32m      5\u001b[0m \u001b[0mprint_reverse\u001b[0m\u001b[0;34m(\u001b[0m\u001b[0;34m)\u001b[0m\u001b[0;34m\u001b[0m\u001b[0;34m\u001b[0m\u001b[0m\n",
      "\u001b[0;32m/var/folders/hl/rnkm2m_d3s92k66lxdhnvbpr0000gn/T/ipykernel_22020/1955102884.py\u001b[0m in \u001b[0;36mprint_reverse\u001b[0;34m(word)\u001b[0m\n\u001b[1;32m      2\u001b[0m \u001b[0;32mdef\u001b[0m \u001b[0mprint_reverse\u001b[0m\u001b[0;34m(\u001b[0m\u001b[0mword\u001b[0m\u001b[0;34m=\u001b[0m\u001b[0;34m'Python'\u001b[0m\u001b[0;34m)\u001b[0m\u001b[0;34m:\u001b[0m\u001b[0;34m\u001b[0m\u001b[0;34m\u001b[0m\u001b[0m\n\u001b[1;32m      3\u001b[0m     \u001b[0mprint\u001b[0m\u001b[0;34m(\u001b[0m\u001b[0mword\u001b[0m\u001b[0;34m[\u001b[0m\u001b[0;34m-\u001b[0m\u001b[0;36m1\u001b[0m\u001b[0;34m]\u001b[0m\u001b[0;34m)\u001b[0m\u001b[0;34m\u001b[0m\u001b[0;34m\u001b[0m\u001b[0m\n\u001b[0;32m----> 4\u001b[0;31m     \u001b[0mprint_reverse\u001b[0m\u001b[0;34m(\u001b[0m\u001b[0mword\u001b[0m\u001b[0;34m[\u001b[0m\u001b[0;34m:\u001b[0m\u001b[0;34m-\u001b[0m\u001b[0;36m1\u001b[0m\u001b[0;34m]\u001b[0m\u001b[0;34m)\u001b[0m\u001b[0;34m\u001b[0m\u001b[0;34m\u001b[0m\u001b[0m\n\u001b[0m\u001b[1;32m      5\u001b[0m \u001b[0mprint_reverse\u001b[0m\u001b[0;34m(\u001b[0m\u001b[0;34m)\u001b[0m\u001b[0;34m\u001b[0m\u001b[0;34m\u001b[0m\u001b[0m\n",
      "\u001b[0;32m/var/folders/hl/rnkm2m_d3s92k66lxdhnvbpr0000gn/T/ipykernel_22020/1955102884.py\u001b[0m in \u001b[0;36mprint_reverse\u001b[0;34m(word)\u001b[0m\n\u001b[1;32m      2\u001b[0m \u001b[0;32mdef\u001b[0m \u001b[0mprint_reverse\u001b[0m\u001b[0;34m(\u001b[0m\u001b[0mword\u001b[0m\u001b[0;34m=\u001b[0m\u001b[0;34m'Python'\u001b[0m\u001b[0;34m)\u001b[0m\u001b[0;34m:\u001b[0m\u001b[0;34m\u001b[0m\u001b[0;34m\u001b[0m\u001b[0m\n\u001b[1;32m      3\u001b[0m     \u001b[0mprint\u001b[0m\u001b[0;34m(\u001b[0m\u001b[0mword\u001b[0m\u001b[0;34m[\u001b[0m\u001b[0;34m-\u001b[0m\u001b[0;36m1\u001b[0m\u001b[0;34m]\u001b[0m\u001b[0;34m)\u001b[0m\u001b[0;34m\u001b[0m\u001b[0;34m\u001b[0m\u001b[0m\n\u001b[0;32m----> 4\u001b[0;31m     \u001b[0mprint_reverse\u001b[0m\u001b[0;34m(\u001b[0m\u001b[0mword\u001b[0m\u001b[0;34m[\u001b[0m\u001b[0;34m:\u001b[0m\u001b[0;34m-\u001b[0m\u001b[0;36m1\u001b[0m\u001b[0;34m]\u001b[0m\u001b[0;34m)\u001b[0m\u001b[0;34m\u001b[0m\u001b[0;34m\u001b[0m\u001b[0m\n\u001b[0m\u001b[1;32m      5\u001b[0m \u001b[0mprint_reverse\u001b[0m\u001b[0;34m(\u001b[0m\u001b[0;34m)\u001b[0m\u001b[0;34m\u001b[0m\u001b[0;34m\u001b[0m\u001b[0m\n",
      "\u001b[0;32m/var/folders/hl/rnkm2m_d3s92k66lxdhnvbpr0000gn/T/ipykernel_22020/1955102884.py\u001b[0m in \u001b[0;36mprint_reverse\u001b[0;34m(word)\u001b[0m\n\u001b[1;32m      1\u001b[0m \u001b[0;31m# Print 'Python' in reverse recursively\u001b[0m\u001b[0;34m\u001b[0m\u001b[0;34m\u001b[0m\u001b[0;34m\u001b[0m\u001b[0m\n\u001b[1;32m      2\u001b[0m \u001b[0;32mdef\u001b[0m \u001b[0mprint_reverse\u001b[0m\u001b[0;34m(\u001b[0m\u001b[0mword\u001b[0m\u001b[0;34m=\u001b[0m\u001b[0;34m'Python'\u001b[0m\u001b[0;34m)\u001b[0m\u001b[0;34m:\u001b[0m\u001b[0;34m\u001b[0m\u001b[0;34m\u001b[0m\u001b[0m\n\u001b[0;32m----> 3\u001b[0;31m     \u001b[0mprint\u001b[0m\u001b[0;34m(\u001b[0m\u001b[0mword\u001b[0m\u001b[0;34m[\u001b[0m\u001b[0;34m-\u001b[0m\u001b[0;36m1\u001b[0m\u001b[0;34m]\u001b[0m\u001b[0;34m)\u001b[0m\u001b[0;34m\u001b[0m\u001b[0;34m\u001b[0m\u001b[0m\n\u001b[0m\u001b[1;32m      4\u001b[0m     \u001b[0mprint_reverse\u001b[0m\u001b[0;34m(\u001b[0m\u001b[0mword\u001b[0m\u001b[0;34m[\u001b[0m\u001b[0;34m:\u001b[0m\u001b[0;34m-\u001b[0m\u001b[0;36m1\u001b[0m\u001b[0;34m]\u001b[0m\u001b[0;34m)\u001b[0m\u001b[0;34m\u001b[0m\u001b[0;34m\u001b[0m\u001b[0m\n\u001b[1;32m      5\u001b[0m \u001b[0mprint_reverse\u001b[0m\u001b[0;34m(\u001b[0m\u001b[0;34m)\u001b[0m\u001b[0;34m\u001b[0m\u001b[0;34m\u001b[0m\u001b[0m\n",
      "\u001b[0;31mIndexError\u001b[0m: string index out of range"
     ]
    }
   ],
   "source": [
    "# Print 'Python' in reverse recursively\n",
    "def print_reverse(word='Python'):\n",
    "    print(word[-1])\n",
    "    print_reverse(word[:-1])\n",
    "    \n",
    "print_reverse()"
   ]
  },
  {
   "cell_type": "markdown",
   "metadata": {},
   "source": [
    "<div style = 'text-align: center'>\n",
    "<h1>MYSQL</h1>\n",
    "<h5>The usage begins</h5>\n",
    "</div>"
   ]
  },
  {
   "cell_type": "code",
   "execution_count": 4,
   "metadata": {},
   "outputs": [],
   "source": [
    "import mysql.connector\n",
    "import pickle\n",
    "\n",
    "# Open pickled password\n",
    "with open('insecure_data.dat', 'rb') as file:\n",
    "    password = pickle.load(file)\n",
    "\n",
    "# Storing the login info as a dictionary to later pass to the connection\n",
    "mysql_config = {\n",
    "    'user' : 'root',\n",
    "    'password' : password,\n",
    "    'host' : '127.0.0.1',\n",
    "}\n",
    "\n",
    "connection = mysql.connector.connect(**mysql_config)\n",
    "cursor = connection.cursor(buffered=True)\n",
    "\n",
    "# Creating a MYSQL database\n",
    "cursor.execute('CREATE DATABASE if not exists ABC_CORP ;')\n",
    "connection.close()"
   ]
  },
  {
   "cell_type": "markdown",
   "metadata": {},
   "source": [
    "<div style='text-align:center'>\n",
    "    <h3>Data Types Supported</h3>\n",
    "</div>\n",
    "<ol>\n",
    "    <li>char</li>\n",
    "    <li>varchar</li>\n",
    "    <li>int</li>\n",
    "    <li>float</li>\n",
    "    <li>double</li>\n",
    "    <li>decimal</li>\n",
    "    <li>date</li>\n",
    "    <li>datetime</li>\n",
    "    <li>timestamp</li>\n",
    "</ol>"
   ]
  },
  {
   "cell_type": "markdown",
   "metadata": {},
   "source": [
    "<div style='text-align:center'>\n",
    "    <h3>Creating Table</h3>\n",
    "</div>"
   ]
  },
  {
   "cell_type": "code",
   "execution_count": 12,
   "metadata": {},
   "outputs": [],
   "source": [
    "# Creating tables\n",
    "\n",
    "import mysql.connector\n",
    "import pickle\n",
    "\n",
    "# Open pickled password\n",
    "with open('insecure_data.dat', 'rb') as file:\n",
    "    password = pickle.load(file)\n",
    "\n",
    "# Storing the login info as a dictionary to later pass to the connection\n",
    "mysql_config = {\n",
    "    'user' : 'root',\n",
    "    'password' : password,\n",
    "    'host' : '127.0.0.1',\n",
    "    'database' : 'ABC_CORP',\n",
    "}\n",
    "\n",
    "connection = mysql.connector.connect(**mysql_config)\n",
    "cursor = connection.cursor(buffered=True)\n",
    "\n",
    "# Creating a MYSQL database\n",
    "cursor.execute('create table if not exists states (code char(2), state_name varchar(50)) ;')\n",
    "connection.close()"
   ]
  },
  {
   "cell_type": "markdown",
   "metadata": {},
   "source": [
    "<div style='text-align:center'>\n",
    "    <h3>Parse Data</h3>\n",
    "</div>"
   ]
  },
  {
   "cell_type": "code",
   "execution_count": 17,
   "metadata": {},
   "outputs": [
    {
     "name": "stdout",
     "output_type": "stream",
     "text": [
      "[['AL', 'Alabama'], ['AK', 'Alaska'], ['AZ', 'Arizona'], ['AR', 'Arkansas'], ['CA', 'California'], ['CO', 'Colorado'], ['CT', 'Connecticut'], ['DE', 'Delaware'], ['FL', 'Florida'], ['GA', 'Georgia'], ['HI', 'Hawaii'], ['ID', 'Idaho'], ['IL', 'Illinois'], ['IN', 'Indiana'], ['IA', 'Iowa'], ['KS', 'Kansas'], ['KY', 'Kentucky'], ['LA', 'Louisiana'], ['ME', 'Maine'], ['MD', 'Maryland'], ['MA', 'Massachusetts'], ['MI', 'Michigan'], ['MN', 'Minnesota'], ['MS', 'Mississippi'], ['MO', 'Missouri'], ['MT', 'Montana'], ['NE', 'Nebraska'], ['NV', 'Nevada'], ['NH', 'NewHampshire'], ['NJ', 'NewJersey'], ['NM', 'NewMexico'], ['NY', 'NewYork'], ['NC', 'NorthCarolina'], ['ND', 'NorthDakota'], ['OH', 'Ohio'], ['OK', 'Oklahoma'], ['OR', 'Oregon'], ['PA', 'Pennsylvania'], ['RI', 'RhodeIsland'], ['SC', 'SouthCarolina'], ['SD', 'SouthDakota'], ['TN', 'Tennessee'], ['TX', 'Texas'], ['UT', 'Utah'], ['VT', 'Vermont'], ['VA', 'Virginia'], ['WA', 'Washington'], ['WV', 'WestVirginia'], ['WI', 'Wisconsin'], ['WY', 'Wyoming']]\n"
     ]
    }
   ],
   "source": [
    "file_data = []\n",
    "with open('US_states_codes.txt','r') as file:\n",
    "    for line in file:\n",
    "        file_data.append(line.strip().replace(' ','').split('-')[::-1])\n",
    "print(file_data)"
   ]
  },
  {
   "cell_type": "markdown",
   "metadata": {},
   "source": [
    "<div style='text-align:center'>\n",
    "    <h3>Storing To Table</h3>\n",
    "    <p>%s &nbsp&nbsp not &nbsp&nbsp ?</p>\n",
    "</div>"
   ]
  },
  {
   "cell_type": "code",
   "execution_count": 31,
   "metadata": {},
   "outputs": [
    {
     "name": "stdout",
     "output_type": "stream",
     "text": [
      "['AL', 'Alabama']\n",
      "['AK', 'Alaska']\n",
      "['AZ', 'Arizona']\n",
      "['AR', 'Arkansas']\n",
      "['CA', 'California']\n",
      "['CO', 'Colorado']\n",
      "['CT', 'Connecticut']\n",
      "['DE', 'Delaware']\n",
      "['FL', 'Florida']\n",
      "['GA', 'Georgia']\n",
      "['HI', 'Hawaii']\n",
      "['ID', 'Idaho']\n",
      "['IL', 'Illinois']\n",
      "['IN', 'Indiana']\n",
      "['IA', 'Iowa']\n",
      "['KS', 'Kansas']\n",
      "['KY', 'Kentucky']\n",
      "['LA', 'Louisiana']\n",
      "['ME', 'Maine']\n",
      "['MD', 'Maryland']\n",
      "['MA', 'Massachusetts']\n",
      "['MI', 'Michigan']\n",
      "['MN', 'Minnesota']\n",
      "['MS', 'Mississippi']\n",
      "['MO', 'Missouri']\n",
      "['MT', 'Montana']\n",
      "['NE', 'Nebraska']\n",
      "['NV', 'Nevada']\n",
      "['NH', 'NewHampshire']\n",
      "['NJ', 'NewJersey']\n",
      "['NM', 'NewMexico']\n",
      "['NY', 'NewYork']\n",
      "['NC', 'NorthCarolina']\n",
      "['ND', 'NorthDakota']\n",
      "['OH', 'Ohio']\n",
      "['OK', 'Oklahoma']\n",
      "['OR', 'Oregon']\n",
      "['PA', 'Pennsylvania']\n",
      "['RI', 'RhodeIsland']\n",
      "['SC', 'SouthCarolina']\n",
      "['SD', 'SouthDakota']\n",
      "['TN', 'Tennessee']\n",
      "['TX', 'Texas']\n",
      "['UT', 'Utah']\n",
      "['VT', 'Vermont']\n",
      "['VA', 'Virginia']\n",
      "['WA', 'Washington']\n",
      "['WV', 'WestVirginia']\n",
      "['WI', 'Wisconsin']\n",
      "['WY', 'Wyoming']\n"
     ]
    }
   ],
   "source": [
    "# Creating tables\n",
    "\n",
    "import mysql.connector\n",
    "import pickle\n",
    "\n",
    "# Open pickled password\n",
    "with open('insecure_data.dat', 'rb') as file:\n",
    "    password = pickle.load(file)\n",
    "\n",
    "# Storing the login info as a dictionary to later pass to the connection\n",
    "mysql_config = {\n",
    "    'user' : 'root',\n",
    "    'password' : password,\n",
    "    'host' : '127.0.0.1',\n",
    "}\n",
    "\n",
    "connection = mysql.connector.connect(**mysql_config)\n",
    "cursor = connection.cursor(buffered=True)\n",
    "\n",
    "# Creating a MYSQL database\n",
    "for state in file_data:\n",
    "    print(state)\n",
    "    cursor.execute('insert into ABC_CORP.states values (%s,%s);',(state[0],state[1]))\n",
    "connection.close()"
   ]
  }
 ],
 "metadata": {
  "interpreter": {
   "hash": "31f2aee4e71d21fbe5cf8b01ff0e069b9275f58929596ceb00d14d90e3e16cd6"
  },
  "kernelspec": {
   "display_name": "Python 3.8.9 64-bit",
   "name": "python3"
  },
  "language_info": {
   "codemirror_mode": {
    "name": "ipython",
    "version": 3
   },
   "file_extension": ".py",
   "mimetype": "text/x-python",
   "name": "python",
   "nbconvert_exporter": "python",
   "pygments_lexer": "ipython3",
   "version": "3.8.9"
  },
  "orig_nbformat": 4
 },
 "nbformat": 4,
 "nbformat_minor": 2
}
