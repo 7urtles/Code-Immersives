{
 "cells": [
  {
   "cell_type": "code",
   "execution_count": 7,
   "metadata": {},
   "outputs": [
    {
     "name": "stdout",
     "output_type": "stream",
     "text": [
      "Blues: ['bluegreen', 'Bluegray', 'Skyblue'] \n",
      "Greens: ['bluegreen', 'oceangreen', 'Green']\n"
     ]
    }
   ],
   "source": [
    "# Shades of green and Shades of blue\n",
    "colors = ['bluegreen','orange','aqua','Bluegray','oceangreen','white','Green','Skyblue']\n",
    "\n",
    "# Green\n",
    "greens = [color for color in colors if 'green' in color.lower()]\n",
    "\n",
    "# Blue\n",
    "blues = [color for color in colors if 'blue' in color.lower()]\n",
    "\n",
    "print(f'Blues: {blues} \\nGreens: {greens}')"
   ]
  },
  {
   "cell_type": "code",
   "execution_count": 12,
   "metadata": {},
   "outputs": [
    {
     "name": "stdout",
     "output_type": "stream",
     "text": [
      "Method 1: [(111, 'Davis'), (222, 'Smith'), (333, 'Jones')]\n",
      "Method 2: [(111, 'Davis'), (222, 'Smith'), (333, 'Jones')]\n"
     ]
    }
   ],
   "source": [
    "lastNames = ['Davis','Smith','Jones']\n",
    "empId = [111,222,333]\n",
    "\n",
    "#Show 2 methods to display the data as below:\n",
    "[(111, 'Davis'), (222, 'Smith'), (333, 'Jones')]\n",
    "\n",
    "# Method 1\n",
    "# Pairing items by their index\n",
    "method_1 = [(empId[index], lastNames[index])for index in range(len(lastNames))]\n",
    "print(f\"Method 1: {method_1}\")\n",
    "\n",
    "# Method 2\n",
    "# zip() does the same as above, then convert to list to match the data type of example\n",
    "method_2 = list(zip(empId,lastNames))\n",
    "print(f\"Method 2: {method_2}\")"
   ]
  }
 ],
 "metadata": {
  "interpreter": {
   "hash": "31f2aee4e71d21fbe5cf8b01ff0e069b9275f58929596ceb00d14d90e3e16cd6"
  },
  "kernelspec": {
   "display_name": "Python 3.8.9 64-bit",
   "name": "python3"
  },
  "language_info": {
   "codemirror_mode": {
    "name": "ipython",
    "version": 3
   },
   "file_extension": ".py",
   "mimetype": "text/x-python",
   "name": "python",
   "nbconvert_exporter": "python",
   "pygments_lexer": "ipython3",
   "version": "3.8.9"
  },
  "orig_nbformat": 4
 },
 "nbformat": 4,
 "nbformat_minor": 2
}
