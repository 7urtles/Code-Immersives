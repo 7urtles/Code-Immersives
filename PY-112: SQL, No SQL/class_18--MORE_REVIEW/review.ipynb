{
 "cells": [
  {
   "cell_type": "code",
   "execution_count": 49,
   "metadata": {},
   "outputs": [],
   "source": [
    "import sqlite3\n",
    "\n",
    "# CREATE FIRST TABLE\n",
    "population_data = []\n",
    "\n",
    "with open('World_country_populations.csv') as file:\n",
    "    for line in file:\n",
    "        population_data.append(line.strip().split(','))\n",
    "\n",
    "\n",
    "connection = sqlite3.connect('country_data.db')\n",
    "cursor = connection.cursor()\n",
    "cursor.execute('create table if not exists countries (num int, country, population int, migrants int, median_age int)')\n",
    "for country in population_data[1:]:\n",
    "    cursor.execute('insert into countries values(?,?,?,?,?)',(int(country[0]), country[1], country[2], country[7], country[9]))\n",
    "connection.commit()\n",
    "connection.close()"
   ]
  },
  {
   "cell_type": "code",
   "execution_count": 50,
   "metadata": {},
   "outputs": [],
   "source": [
    "import sqlite3\n",
    "\n",
    "# CREATE SECOND TABLE\n",
    "gdp_data = []\n",
    "\n",
    "with open('GDP_countries.txt') as file:\n",
    "    for line in file:\n",
    "        gdp_data.append(line.strip().split('\\t'))\n",
    "\n",
    "connection = sqlite3.connect('gdp_data.db')\n",
    "cursor = connection.cursor()\n",
    "cursor.execute('create table if not exists gdp_countries (country_Territory, region, estimate_1, year_1, estimate_2, year_2, estimate_3, year_3, estimate_4, year_4, estimate_5, year_5)')\n",
    "\n",
    "for country in population_data[1:]:\n",
    "    cursor.execute('insert into gdp_countries values(?,?,?,?,?,?,?,?,?,?,?,?)',country)\n",
    "\n",
    "connection.commit()\n",
    "connection.close()"
   ]
  },
  {
   "cell_type": "code",
   "execution_count": 78,
   "metadata": {},
   "outputs": [
    {
     "name": "stdout",
     "output_type": "stream",
     "text": [
      "7795232630\n"
     ]
    }
   ],
   "source": [
    "# Calculate the population range\n",
    "# Find countries at the bottom 20%\n",
    "# Find total population of the bottom 50%\n",
    "# Find the mean population\n",
    "\n",
    "connection = sqlite3.connect('country_data.db')\n",
    "cursor = connection.cursor()\n",
    "data = list(cursor.execute('select * from countries order by population desc'))\n",
    "connection.close()\n",
    "\n",
    "# Countries within lowest 20% population\n",
    "countries_bottom_20 = (int(len(data)*.2))\n",
    "# print(data[:countries_bottom_20:-1])\n",
    "\n",
    "# Combined population of the bottom 50%\n",
    "countries_bottom_50 = (int(len(data)*.5))\n",
    "total = 0\n",
    "for country in range(-1,-countries_bottom_50,-1):\n",
    "    total += data[country][2]\n",
    "# print(total)\n",
    "\n",
    "# Find combined population of all countries\n",
    "total = 0\n",
    "for country in data:\n",
    "    total += country[2]\n",
    "# print(total)"
   ]
  }
 ],
 "metadata": {
  "interpreter": {
   "hash": "31f2aee4e71d21fbe5cf8b01ff0e069b9275f58929596ceb00d14d90e3e16cd6"
  },
  "kernelspec": {
   "display_name": "Python 3.8.9 64-bit",
   "language": "python",
   "name": "python3"
  },
  "language_info": {
   "codemirror_mode": {
    "name": "ipython",
    "version": 3
   },
   "file_extension": ".py",
   "mimetype": "text/x-python",
   "name": "python",
   "nbconvert_exporter": "python",
   "pygments_lexer": "ipython3",
   "version": "3.8.9"
  },
  "orig_nbformat": 4
 },
 "nbformat": 4,
 "nbformat_minor": 2
}
