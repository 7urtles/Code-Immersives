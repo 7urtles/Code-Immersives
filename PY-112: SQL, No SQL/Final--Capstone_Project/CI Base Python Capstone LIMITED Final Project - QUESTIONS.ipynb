{
 "cells": [
  {
   "cell_type": "markdown",
   "metadata": {},
   "source": [
    "##### <h1 align=center><font size=5>CI Python Capstone Final Project</font></h1>"
   ]
  },
  {
   "cell_type": "markdown",
   "metadata": {},
   "source": [
    "## Description"
   ]
  },
  {
   "cell_type": "markdown",
   "metadata": {},
   "source": [
    "<p>The final project is an automatic grading system.  The goal is open each of the files included in\n",
    "the compressed file</p>"
   ]
  },
  {
   "cell_type": "markdown",
   "metadata": {},
   "source": [
    "### Instructions\n",
    "<div class=\"alert alert-block alert-info\" style=\"margin-top: 20px\">\n",
    "\n",
    "1.  [Create a class roster by parsing the file names](#0)<br>\n",
    "2.  [Create a student exam GPA](#2)<br>\n",
    "3.  [Create a summary report](#4) <br>\n",
    "4.  [Create an input screen for weighted average](#6) <br> \n",
    "5.  [Apply weighted average- create report](#8) <br>  \n",
    "</div>\n",
    "<hr>"
   ]
  },
  {
   "cell_type": "code",
   "execution_count": null,
   "metadata": {},
   "outputs": [],
   "source": [
    "data_dir = r''"
   ]
  },
  {
   "cell_type": "markdown",
   "metadata": {},
   "source": [
    "### Class roster<a id=\"0\"></a>\n",
    "#### 10 points\n",
    "#### Create a file called 'PYTHON_PTI_CAPSTONE_CLASS_ROSTER.TXT'\n",
    "#### In should contain an unduplicate list of class names\n",
    "#### 1. Lastname, Firstname\n",
    "#### 2. Lastname,Firstname\n",
    "#### NOTE: The names should be in alphabetical order by last name, first name and in proper case\n",
    "#### You must parse the file names to get the student names:  CAPSTONE_lastname_firstname_QUIZ.......txt"
   ]
  },
  {
   "cell_type": "code",
   "execution_count": null,
   "metadata": {},
   "outputs": [],
   "source": [
    "# Add your code here"
   ]
  },
  {
   "cell_type": "markdown",
   "metadata": {},
   "source": [
    "### Class roster with mean test scores<a id=\"2\"></a>\n",
    "#### 30 points\n",
    "#### Create a file called 'PYTHON_PTI_CAPSTONE_CLASS_ROSTER_GPA.TXT'\n",
    "#### In should contain an unduplicate list of student names their graded scores and their mean\n",
    "#### 1. Lastname, Firstname - Test Score 1, Test Score 2, ... Final Exam Score, Mean\n",
    "#### 2. Lastname, Firstname - Test Score 1, Test Score 2, ... Final Exam Score, Mean\n",
    "#### NOTE: The names should be in alphabetical order by last name, first name and in proper case\n",
    "#### Use the file 'CAPSTONE_QUIZ_KEY_LESSON_1' through 5 to score the exams and calculate the mean"
   ]
  },
  {
   "cell_type": "code",
   "execution_count": null,
   "metadata": {},
   "outputs": [],
   "source": [
    "# Add your code here"
   ]
  },
  {
   "cell_type": "markdown",
   "metadata": {},
   "source": [
    "### Class summary report<a id=\"4\"></a>\n",
    "#### 15 points\n",
    "#### Create a file called 'PYTHON_PTI_CAPSTONE_SUMMARY REPORT.TXT'\n",
    "#### It should contain the following\n",
    "#### 1. There were X students\n",
    "#### 2. Exam 1 - mean\n",
    "#### 3. Exam 2 - mean\n",
    "#### 4. Exam 3 - mean\n",
    "#### 5. Exam 4 - mean\n",
    "#### 6. Exam 5 - mean\n",
    "#### 7. Final exam - mean"
   ]
  },
  {
   "cell_type": "code",
   "execution_count": null,
   "metadata": {},
   "outputs": [],
   "source": [
    "# Add your code here"
   ]
  },
  {
   "cell_type": "markdown",
   "metadata": {},
   "source": [
    "### Class summary report<a id=\"6\"></a>\n",
    "#### 15 points\n",
    "#### Create an input screen which saves the following weights: Exam 1 through 5 are 15 points and final is 25 points\n",
    "#### Exam #\n",
    "#### Weight"
   ]
  },
  {
   "cell_type": "code",
   "execution_count": null,
   "metadata": {},
   "outputs": [],
   "source": []
  },
  {
   "cell_type": "markdown",
   "metadata": {},
   "source": [
    "### Final grade for roster<a id=\"8\"></a>\n",
    "#### 30 points\n",
    "#### List every student from highest to lowest final grade without weights PYTHON_PTI_CAPSTONE_GRADES.TXT\n",
    "#### List every student from highest to lowest final grade with weights  PYTHON_PTI_CAPSTONE_WEIGHTED_GRADES.TXT\n",
    "#### Use must open and use the PYTHON_PTI_CAPSTONE_WEIGHTS.TXT File created above\n",
    "#### 1. Last name, first name - Final grade\n",
    "#### 2. Last name, first name - Final grade\n",
    "#### Add a summary\n",
    "#### Mean, Mode, Median"
   ]
  },
  {
   "cell_type": "code",
   "execution_count": null,
   "metadata": {},
   "outputs": [],
   "source": []
  }
 ],
 "metadata": {
  "kernelspec": {
   "display_name": "Python 3",
   "language": "python",
   "name": "python3"
  },
  "language_info": {
   "codemirror_mode": {
    "name": "ipython",
    "version": 3
   },
   "file_extension": ".py",
   "mimetype": "text/x-python",
   "name": "python",
   "nbconvert_exporter": "python",
   "pygments_lexer": "ipython3",
   "version": "3.7.4"
  }
 },
 "nbformat": 4,
 "nbformat_minor": 4
}
