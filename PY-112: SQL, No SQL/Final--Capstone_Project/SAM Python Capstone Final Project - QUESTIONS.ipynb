{
 "cells": [
  {
   "cell_type": "markdown",
   "metadata": {},
   "source": [
    "##### <h1 align=center><font size=5>SAM Python Capstone Final Project</font></h1>"
   ]
  },
  {
   "cell_type": "markdown",
   "metadata": {},
   "source": [
    "## Description"
   ]
  },
  {
   "cell_type": "markdown",
   "metadata": {},
   "source": [
    "<p>The final project is an automatic grading system.  The goal is open each of the files included in\n",
    "the compressed file</p>"
   ]
  },
  {
   "cell_type": "markdown",
   "metadata": {},
   "source": [
    "### Instructions\n",
    "1.  [Create a class roster by parsing the file names](#0)<br>\n",
    "2.  [Create a student exam GPA](#2)<br>\n",
    "3.  [Create a summary report](#4) <br>\n",
    "4.  [Create an input screen for weighted average](#6) <br> \n",
    "5.  [Apply weighted average- create report](#8) <br>  "
   ]
  },
  {
   "cell_type": "markdown",
   "metadata": {},
   "source": [
    "### Class roster<a id=\"0\"></a>\n",
    "#### 10 points\n",
    "#### Create a file called 'PYTHON_PTI_CAPSTONE_CLASS_ROSTER.TXT'\n",
    "#### In should contain an unduplicate list of class names\n",
    "#### 1. Lastname, Firstname\n",
    "#### 2. Lastname,Firstname\n",
    "#### NOTE: The names should be in alphabetical order by last name, first name and in proper case\n",
    "#### You must parse the file names to get the student names:  CAPSTONE_lastname_firstname_QUIZ.......txt"
   ]
  },
  {
   "cell_type": "code",
   "execution_count": null,
   "metadata": {},
   "outputs": [],
   "source": [
    "# Give partial credit on multiple answer questions if some are correct\n",
    "partial_credit = True\n",
    "\n",
    "# ------- CREATING CLASS ROSTER ------- 10 Pts ------------------------------------------------------------\n",
    "roster = 'python_pti_capstone_class_roster.txt'\n",
    "\n",
    "import os\n",
    "file_names = os.listdir('./PYTHON_PTI_CAPSTONE_PROJECT_FILES')\n",
    "\n",
    "# List of student names sorted by last name\n",
    "student_roster = sorted(set([\n",
    "    # parsed \n",
    "    ' '.join(student.lower().replace('capstone_','').split(\"_\")[:2]) for student in file_names\n",
    "    ]))\n",
    "\n",
    "# Write them to the specified filename and close the file\n",
    "file = open(roster, 'w')\n",
    "[file.write(student.split()[0].capitalize()+ ' ' + student.split()[1].capitalize() +'\\n') for student in student_roster if student != 'final exam' and student != 'quiz key']\n",
    "file.close()\n",
    "#----------------------------------------------------------------------------------------------------------"
   ]
  },
  {
   "cell_type": "code",
   "execution_count": null,
   "metadata": {},
   "outputs": [],
   "source": [
    "# Create function that takes in the name of a file and returns the grade\n",
    "from pathlib import Path\n",
    "def grade_assignment(assignment_name='CAPSTONE_davis_FRANK_QUIZ_1_LESSON_1.TXT'):\n",
    "    '''\n",
    "    Takes in a file name and returns the score by comparing the exam against the key line by line.\n",
    "    Paritial credit is possible for multi-answer questions if the partial_credit is set to True.\n",
    "    '''\n",
    "    file_names = os.listdir('./PYTHON_PTI_CAPSTONE_PROJECT_FILES')\n",
    "\n",
    "    # List of student names sorted by last name\n",
    "    keys = sorted(set([\n",
    "        key for key in file_names if 'key' in key.lower()\n",
    "    ]))\n",
    "\n",
    "    # Use the last character+file_extension to match the key to the assignment provided\n",
    "    assignment_key = [key for key in keys if key.split('_')[-1].lower() == assignment_name.split('_')[-1].lower()]\n",
    "    if len(assignment_key) == 0:\n",
    "        assignment_key = 'CAPSTONE_FINAL_EXAM_KEY.TXT'\n",
    "    else:\n",
    "        assignment_key = assignment_key[0]\n",
    "\n",
    "    #------------------- Could be a seperate function -----------------\n",
    "    # read the students answers\n",
    "    student_answers = open(Path('./PYTHON_PTI_CAPSTONE_PROJECT_FILES/' + assignment_name), 'r')\n",
    "    student_answers = [answer.strip().replace(',','').replace('-','') for answer in student_answers]\n",
    "    # read the key answers\n",
    "    key_answers = open(Path('./PYTHON_PTI_CAPSTONE_PROJECT_FILES/' + assignment_key), 'r')\n",
    "    key_answers = [answer.strip().replace(',','').replace('-','') for answer in key_answers]\n",
    "    #-------------------------------------------------------------------\n",
    "\n",
    "    # remember how many questions/points on the assignment\n",
    "    number_of_questions = len(key_answers)\n",
    "    grade = 0 # just initializing\n",
    "    # give the student a point for every question they got correct\n",
    "    for question in range(number_of_questions):\n",
    "        question_value = 0\n",
    "        # Avoiding index errors by caused by mismatching lengths\n",
    "        try:\n",
    "            question_points_possible = len(key_answers[question])-1\n",
    "            question_points_earned = 0\n",
    "\n",
    "            if partial_credit == True:\n",
    "                for answer in range(question_points_possible):\n",
    "                    # If the student answer matches the key, give give a point\n",
    "                    if key_answers[question][answer+1] == student_answers[question][answer+1]:\n",
    "                        question_points_earned += 1\n",
    "                    question_value += 1\n",
    "            else:  \n",
    "                # print(key_answers[question],student_answers[question])\n",
    "                if student_answers[question] == key_answers[question]:\n",
    "                    grade += 1\n",
    "        except:\n",
    "            # didn't answer a question... that's embarrassing\n",
    "            pass\n",
    "        if partial_credit == True:\n",
    "            question_score = question_points_earned / question_value\n",
    "        grade += question_score\n",
    "        \n",
    "    # return their grade EXAMPLE 90.0\n",
    "    return (grade/number_of_questions)*100\n",
    "\n",
    "grade_assignment()"
   ]
  },
  {
   "cell_type": "code",
   "execution_count": null,
   "metadata": {},
   "outputs": [],
   "source": [
    "# BUILDING GRADE DICTIONARY--Temporary\n",
    "import pickle\n",
    "student_dictionary = {}\n",
    "\n",
    "# student names in lower case\n",
    "students_lower = []\n",
    "file = open(roster,'r')\n",
    "for line in file:\n",
    "    students_lower.append(line.strip())\n",
    "\n",
    "# get list of all assignements (sort assignments by name for cleanliness)\n",
    "file_names = os.listdir('./PYTHON_PTI_CAPSTONE_PROJECT_FILES')\n",
    "assignments = sorted([assignment for assignment in file_names])\n",
    "# Get all assignments per student and create the dictionary\n",
    "for student in students_lower:   \n",
    "    student_dictionary[student] = {\n",
    "        # get assignment grade during dict construction\n",
    "        item : int(grade_assignment(item)) for item in assignments if '_'.join(student.lower().split()) in item.lower()\n",
    "    }\n",
    "\n",
    "    # update the students dictionary item with... the average of their scores\n",
    "    student_dictionary[student]['mean'] = \\\n",
    "    int(sum([grade for _ ,grade in student_dictionary[student].items()])/6)\n",
    "\n",
    "# save the student_dictionary via Pickle\n",
    "with open('student_data.dat', 'wb') as file:\n",
    "    pickle.dump(student_dictionary, file, protocol=pickle.HIGHEST_PROTOCOL)"
   ]
  },
  {
   "cell_type": "markdown",
   "metadata": {},
   "source": [
    "### Class roster with mean test scores<a id=\"2\"></a>\n",
    "#### 30 points\n",
    "#### Create a file called 'PYTHON_PTI_CAPSTONE_CLASS_ROSTER_GPA.TXT'\n",
    "#### In should contain an unduplicate list of student names their graded scores and their mean\n",
    "#### 1. Lastname, Firstname - Test Score 1, Test Score 2, ... Final Exam Score, Mean\n",
    "#### 2. Lastname, Firstname - Test Score 1, Test Score 2, ... Final Exam Score, Mean\n",
    "#### NOTE: The names should be in alphabetical order by last name, first name and in proper case\n",
    "#### Use the file 'CAPSTONE_QUIZ_KEY_LESSON_1' through 5 to score the exams and calculate the mean"
   ]
  },
  {
   "cell_type": "code",
   "execution_count": null,
   "metadata": {},
   "outputs": [],
   "source": [
    "filename = 'PYTHON_PTI_CAPSTONE_CLASS_ROSTER_GPA.TXT'\n",
    "# -----CLass Roster With Mean Scores----------30 pts------------------------------\n",
    "\n",
    "student_exam_grades = []\n",
    "for student in student_dictionary.items():\n",
    "    # put the students grades into a line\n",
    "    line = [str(grade) for _,grade in student[1].items()]\n",
    "    # arrange the final grade to appear before the mean, and insert the students name\n",
    "    line.insert(-1,line.pop(0)), line.insert(0,student[0])\n",
    "    student_exam_grades.append(line)\n",
    "\n",
    "# Storing with Pickle\n",
    "with open('student_exam_grades.dat', 'wb') as file:\n",
    "    pickle.dump(student_exam_grades, file, protocol=pickle.HIGHEST_PROTOCOL)\n",
    "\n",
    "# Storing as text file\n",
    "file = open(filename, 'w')\n",
    "for line in student_exam_grades:\n",
    "    # Write the line to the specified file\n",
    "    file.write(' '.join(line)+'\\n')\n",
    "file.close()\n",
    "#---------------------------------------------------------------------------------"
   ]
  },
  {
   "cell_type": "code",
   "execution_count": null,
   "metadata": {},
   "outputs": [],
   "source": [
    "import statistics\n",
    "# Now that the students names and their grades are in a convenient object\n",
    "#    A single dictionary can be built containing all the exam and student statistics required\n",
    "def data_constructor(weight1=0,weight2=0):\n",
    "     with open('student_exam_grades.dat', 'rb') as file:\n",
    "          student_exam_grades = pickle.load(file)\n",
    "\n",
    "     # Will need all the file names \n",
    "     file_names = os.listdir('./PYTHON_PTI_CAPSTONE_PROJECT_FILES')\n",
    "\n",
    "     # Exam names\n",
    "     exam_key_names = sorted([name for name in file_names if 'key' in name.lower()])\n",
    "     exam_key_names = exam_key_names + [exam_key_names.pop(0)]\n",
    "\n",
    "     #Initializing now to add to them dynamically later\n",
    "     class_data = {'exams':{},'students':{}}\n",
    "\n",
    "     # Exclude counting the student name and their average score\n",
    "     for index in range(len(student_exam_grades[0][1:-1])):\n",
    "\n",
    "          # Gather student scores on the assignment\n",
    "          grades = [int(student_exam_grades[exam][index+1]) for exam in range(len(student_exam_grades)-1)]\n",
    "\n",
    "          # create a item with the key being the assignment name, and fill it will required statistics\n",
    "          class_data['exams'][exam_key_names[index]] = {\n",
    "               'class_score_mean' : statistics.mean(grades),\n",
    "               'class_score_median' : statistics.median(grades),\n",
    "               'class_score_mode'  : statistics.mode(grades),\n",
    "               'standard_deviation' : statistics.stdev(grades),\n",
    "               'times_taken' : len(student_exam_grades),\n",
    "               'weight' : weight2 if 'final' in exam_key_names[index].lower() else weight1,\n",
    "          },\n",
    "\n",
    "     # for every student\n",
    "     for student in range(len(student_exam_grades)):\n",
    "          class_data['students'][student_exam_grades[student][0]] = {}\n",
    "          for name in file_names:\n",
    "               # if the test belongs to the student\n",
    "               if student_exam_grades[student][0].replace(' ','_').lower() in name.lower():\n",
    "                    # sore the student as a key,value      EXAMPLE:  student_name:{ assignment1:score, assignment2:score, etc.. }\n",
    "                    class_data['students'][student_exam_grades[student][0]][name] = \\\n",
    "                    student_exam_grades[student][len(class_data['students'][student_exam_grades[student][0]])+1]\n",
    "\n",
    "                    'score'\n",
    "\n",
    "     # Save the constructed data object\n",
    "     with open('class_data.dat', 'wb') as file:\n",
    "          pickle.dump(class_data, file, protocol=pickle.HIGHEST_PROTOCOL)\n",
    "     return class_data   \n",
    "data_constructor()"
   ]
  },
  {
   "cell_type": "markdown",
   "metadata": {},
   "source": [
    "### Class summary report<a id=\"4\"></a>\n",
    "#### 15 points\n",
    "#### Create a file called 'PYTHON_PTI_CAPSTONE_SUMMARY REPORT.TXT'\n",
    "#### It should contain the following\n",
    "#### 1. There were X students\n",
    "#### 2. Exam 1 - mean, standard deviation\n",
    "#### 3. Exam 2 - mean, standard deviation\n",
    "#### 4. Exam 3 - mean, standard deviation\n",
    "#### 5. Exam 4 - mean, standard deviation\n",
    "#### 6. Exam 5 - mean, standard deviation\n",
    "#### 7. Final exam - mean, standard deviation"
   ]
  },
  {
   "cell_type": "code",
   "execution_count": null,
   "metadata": {},
   "outputs": [],
   "source": [
    "filename = 'PYTHON_PTI_CAPSTONE_SUMMARY REPORT.TXT'\n",
    "\n",
    "with open('class_data.dat', 'rb') as file:\n",
    "     student_exam_grades = pickle.load(file)\n",
    "\n",
    "file = open('PYTHON_PTI_CAPSTONE_SUMMARY REPORT.TXT', 'w')\n",
    "for index, item in enumerate(student_exam_grades['exams']):\n",
    "     file.write(f'''{index+1}. {item} - mean: {student_exam_grades['exams'][item][0]['class_score_mean']}, standard deviation: {student_exam_grades['exams'][item][0]['standard_deviation']}\\n''')\n",
    "file.close()"
   ]
  },
  {
   "cell_type": "markdown",
   "metadata": {},
   "source": [
    "### Class summary report<a id=\"6\"></a>\n",
    "#### 15 points\n",
    "#### Create an input screen which saves the following weights: Exam 1 through 5 are 15 points and final is 25 points\n",
    "#### Exam #\n",
    "#### Weight\n",
    "#### NOTE: BONUS - Pickle the data as a dictionary instead of creating a file 'PYTHON_PTI_CAPSTONE_WEIGHTS.TXT'"
   ]
  },
  {
   "cell_type": "code",
   "execution_count": null,
   "metadata": {},
   "outputs": [],
   "source": [
    "# The weights were initialized with a value of zero, when calling the function\n",
    "#   the dictionary will be reconstructed with provided weight values and re-pickled\n",
    "\n",
    "data_constructor(input('Enter weight for Exams 1-5'),input('Enter weight for Final'))"
   ]
  },
  {
   "cell_type": "markdown",
   "metadata": {},
   "source": [
    "### Final grade for roster<a id=\"8\"></a>\n",
    "#### 30 points\n",
    "#### List every student from highest to lowest final grade without weights PYTHON_PTI_CAPSTONE_GRADES.TXT\n",
    "#### List every student from highest to lowest final grade with weights  PYTHON_PTI_CAPSTONE_WEIGHTED_GRADES.TXT\n",
    "#### Use must open and use the PYTHON_PTI_CAPSTONE_WEIGHTS.TXT File created above\n",
    "#### 1. Last name, first name - Final grade\n",
    "#### 2. Last name, first name - Final grade\n",
    "#### Add a summary\n",
    "#### Mean, Mode, Median, Standard deviation\n",
    "#### How many students are within 1 standard deviation of the mean\n",
    "#### How many students are within 2 standard deviations of the mean\n",
    "#### How many students are within 3 standard deviations of the mean\n",
    "#### Is this a normal distribution?"
   ]
  },
  {
   "cell_type": "code",
   "execution_count": null,
   "metadata": {},
   "outputs": [],
   "source": [
    "# The burnout is real........."
   ]
  }
 ],
 "metadata": {
  "interpreter": {
   "hash": "31f2aee4e71d21fbe5cf8b01ff0e069b9275f58929596ceb00d14d90e3e16cd6"
  },
  "kernelspec": {
   "display_name": "Python 3.8.9 64-bit",
   "name": "python3"
  },
  "language_info": {
   "codemirror_mode": {
    "name": "ipython",
    "version": 3
   },
   "file_extension": ".py",
   "mimetype": "text/x-python",
   "name": "python",
   "nbconvert_exporter": "python",
   "pygments_lexer": "ipython3",
   "version": "3.8.9"
  }
 },
 "nbformat": 4,
 "nbformat_minor": 4
}
