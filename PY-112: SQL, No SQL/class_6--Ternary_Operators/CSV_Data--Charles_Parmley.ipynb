{
 "cells": [
  {
   "cell_type": "code",
   "execution_count": 107,
   "metadata": {},
   "outputs": [],
   "source": [
    "# .xml files are not supported without importing a library, however .csv files are:\n",
    "\n",
    "import sqlite3\n",
    "number_of_columns = 13\n",
    "employee_data = []\n",
    "with open('ABC_CORP_DATA.csv', 'r') as csv:\n",
    "    # Reading lines from the .csv\n",
    "    line = csv.readline()\n",
    "    while line:\n",
    "        # Split the line into a list at every ','\n",
    "        line = line.split(',')\n",
    "        # Remove '\\n' and save line to list\n",
    "        employee_data.append(line[:-1])\n",
    "\n",
    "        line = csv.readline()\n",
    "\n",
    "# List of table column names\n",
    "column_names = employee_data.pop(0)\n",
    "# Replace spaces with undersores in every column name\n",
    "column_names = [(name.replace(' ', '_')+' text') for name in column_names][:number_of_columns]\n",
    "# Create a string of question marks the same length as column_names\n",
    "question_marks = '?,'*(len(column_names)-1)+'?'\n",
    "\n",
    "connection = sqlite3.connect('employee_data')\n",
    "cursor = connection.cursor()\n",
    "\n",
    "# Create the table and columns using column_names\n",
    "cursor.execute(f'create table if not exists employees{str(tuple(column_names))}')\n",
    "# Insert employee data. question_marks is the number of values required, employee_data is a list of our employees data\n",
    "cursor.executemany(f\"insert into employees values({question_marks})\",[line[:number_of_columns] for line in employee_data])\n",
    "\n",
    "connection.commit()\n",
    "connection.close()"
   ]
  }
 ],
 "metadata": {
  "interpreter": {
   "hash": "aee8b7b246df8f9039afb4144a1f6fd8d2ca17a180786b69acc140d282b71a49"
  },
  "kernelspec": {
   "display_name": "Python 3.10.0 64-bit",
   "name": "python3"
  },
  "language_info": {
   "codemirror_mode": {
    "name": "ipython",
    "version": 3
   },
   "file_extension": ".py",
   "mimetype": "text/x-python",
   "name": "python",
   "nbconvert_exporter": "python",
   "pygments_lexer": "ipython3",
   "version": "3.10.0"
  },
  "orig_nbformat": 4
 },
 "nbformat": 4,
 "nbformat_minor": 2
}
