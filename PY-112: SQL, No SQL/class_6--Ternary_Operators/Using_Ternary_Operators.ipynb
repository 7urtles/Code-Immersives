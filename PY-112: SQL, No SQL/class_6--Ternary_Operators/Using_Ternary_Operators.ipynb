{
 "cells": [
  {
   "cell_type": "code",
   "execution_count": null,
   "metadata": {},
   "outputs": [],
   "source": [
    "#   [USING TERNARY OPERATORS] evaluation in one line.....\n",
    "#----------------------------------------------------------\n",
    "\n",
    "# Create three functions.\n",
    "\n",
    "# Function 1:\n",
    "#   return whether a number is odd or even\n",
    "\n",
    "# Function 2:\n",
    "#   return whether or not a number is prime\n",
    "\n",
    "# Function 3:\n",
    "#   return 'prime' or 'composite'"
   ]
  },
  {
   "cell_type": "code",
   "execution_count": 22,
   "metadata": {},
   "outputs": [
    {
     "name": "stdout",
     "output_type": "stream",
     "text": [
      "Odd\n"
     ]
    }
   ],
   "source": [
    "\n",
    "# When using ternary operations (single line if/else statements):\n",
    "#   The syntax is:  X if CONDITION else Y\n",
    "#   The true/false evaluation determines whether X or Y is the result\n",
    "\n",
    "def odd_or_even(number):\n",
    "    return 'Even' if number % 2==0 else 'Odd'\n",
    "        \n",
    "print(odd_or_even(5))"
   ]
  },
  {
   "cell_type": "code",
   "execution_count": 31,
   "metadata": {},
   "outputs": [
    {
     "name": "stdout",
     "output_type": "stream",
     "text": [
      "False\n"
     ]
    }
   ],
   "source": [
    "def is_prime(number):\n",
    "    # False if the condition is 0, otherwise True <-- Do for every number in the below range  \n",
    "    prime = [False if number%num==0 else True for num in range(2,int(number**1/2)+1)] # <--- The math makes a list of numbers ending\n",
    "    return False if False in prime else True                                                                        #       on the square root of the supplied number \n",
    "\n",
    "print(is_prime(81))"
   ]
  },
  {
   "cell_type": "code",
   "execution_count": 12,
   "metadata": {},
   "outputs": [
    {
     "name": "stdout",
     "output_type": "stream",
     "text": [
      "Only use non-zero numbers over 1\n"
     ]
    }
   ],
   "source": [
    "def prime_or_composite(number):\n",
    "    if number == 4:\n",
    "                return 'Composite'\n",
    "    if number>1:\n",
    "        for i in range(2,number//2):\n",
    "            if(number%i)==0:\n",
    "                return 'Composite'\n",
    "        else:\n",
    "            return 'Prime'\n",
    "    return 'Only use non-zero numbers over 1'\n",
    "\n",
    "print(prime_or_composite(1))"
   ]
  }
 ],
 "metadata": {
  "interpreter": {
   "hash": "aee8b7b246df8f9039afb4144a1f6fd8d2ca17a180786b69acc140d282b71a49"
  },
  "kernelspec": {
   "display_name": "Python 3.10.0 64-bit",
   "name": "python3"
  },
  "language_info": {
   "codemirror_mode": {
    "name": "ipython",
    "version": 3
   },
   "file_extension": ".py",
   "mimetype": "text/x-python",
   "name": "python",
   "nbconvert_exporter": "python",
   "pygments_lexer": "ipython3",
   "version": "3.10.0"
  },
  "orig_nbformat": 4
 },
 "nbformat": 4,
 "nbformat_minor": 2
}
