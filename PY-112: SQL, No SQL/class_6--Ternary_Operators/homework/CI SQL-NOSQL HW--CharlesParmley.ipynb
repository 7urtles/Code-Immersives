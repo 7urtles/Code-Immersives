{
 "cells": [
  {
   "cell_type": "markdown",
   "metadata": {},
   "source": [
    "<h2>HW</h2>\n",
    "Mersenne Primes<br>\n",
    "Named for the French Minim friar who studied them <br>\n",
    "Are prime numbers that are 1 less than a power of 2<br>\n",
    "$$\n",
    "2^n-1 \n",
    "$$\n",
    "Find the Mersenne primes up to a power of 35"
   ]
  },
  {
   "cell_type": "code",
   "execution_count": 13,
   "metadata": {},
   "outputs": [
    {
     "name": "stdout",
     "output_type": "stream",
     "text": [
      "0 1 3 7 15 31 63 127 255 511 1023 2047 4095 8191 16383 32767 65535 131071 262143 524287 1048575 2097151 4194303 8388607 16777215 33554431 67108863 134217727 268435455 536870911 1073741823 2147483647 4294967295 8589934591 17179869183\n"
     ]
    }
   ],
   "source": [
    " mersenne_primes = [2**number-1 for number in range(35)]\n",
    " print(*mersenne_primes)"
   ]
  },
  {
   "cell_type": "markdown",
   "metadata": {},
   "source": [
    "A twin prime is a pair of prime numbers separated by 2<br>\n",
    "For example 3,5 and 5,7 and 11,13 are twin primes.<br>\n",
    "Find all twin primes between 1000 and 3000"
   ]
  },
  {
   "cell_type": "code",
   "execution_count": 43,
   "metadata": {},
   "outputs": [
    {
     "name": "stdout",
     "output_type": "stream",
     "text": [
      "(1019, 1021) (1031, 1033) (1049, 1051) (1061, 1063) (1091, 1093) (1151, 1153) (1229, 1231) (1277, 1279) (1289, 1291) (1301, 1303) (1319, 1321) (1427, 1429) (1451, 1453) (1481, 1483) (1487, 1489) (1607, 1609) (1619, 1621) (1667, 1669) (1697, 1699) (1721, 1723) (1787, 1789) (1871, 1873) (1877, 1879) (1931, 1933) (1949, 1951) (1997, 1999) (2027, 2029) (2081, 2083) (2087, 2089) (2111, 2113) (2129, 2131) (2141, 2143) (2237, 2239) (2267, 2269) (2309, 2311) (2339, 2341) (2381, 2383) (2549, 2551) (2591, 2593) (2657, 2659) (2687, 2689) (2711, 2713) (2729, 2731) (2789, 2791) (2801, 2803) (2969, 2971)\n"
     ]
    }
   ],
   "source": [
    "def is_prime(number):\n",
    "    prime = [False if number%num==0 else True for num in range(2,int(number**1/2)+1)] # <--- The math makes a list of numbers ending\n",
    "    return False if False in prime else True                                                                        #       on the square root of the supplied number \n",
    "\n",
    "twin_primes = [(num, num+2) for num in range(1000,2999) if is_prime(num) and is_prime(num+2)]\n",
    "print(*twin_primes)"
   ]
  },
  {
   "cell_type": "markdown",
   "metadata": {},
   "source": [
    "Fermat primes are prime numbers such that for the number n:<br>\n",
    "$$\n",
    "2^{n} + 1\n",
    "$$\n",
    "is also a prime number.  There are only 5 known fermat primes greater than 2.  They are all under 100,000"
   ]
  },
  {
   "cell_type": "code",
   "execution_count": 56,
   "metadata": {},
   "outputs": [
    {
     "name": "stdout",
     "output_type": "stream",
     "text": [
      "3 5 17 257 65537\n"
     ]
    }
   ],
   "source": [
    "# 2^2^number=1\n",
    "# Only the first 5 fermat numbers are prime (thanks wikipedia) so only doing 5 numbers\n",
    "fermat = [2 ** 2 ** number + 1 for number in range(5) if is_prime(2 ** 2 ** number + 1)]\n",
    "print(*fermat)"
   ]
  },
  {
   "cell_type": "markdown",
   "metadata": {},
   "source": [
    "Write a function to return all of the factors of<br>\n",
    "of the numbers 50 through 150."
   ]
  },
  {
   "cell_type": "code",
   "execution_count": 41,
   "metadata": {},
   "outputs": [
    {
     "data": {
      "text/plain": [
       "{50: [1, 2, 5, 10, 25, 50],\n",
       " 51: [1, 3, 17, 51],\n",
       " 52: [1, 2, 4, 13, 26, 52],\n",
       " 53: [1, 53],\n",
       " 54: [1, 2, 3, 6, 9, 18, 27, 54],\n",
       " 55: [1, 5, 11, 55],\n",
       " 56: [1, 2, 4, 7, 8, 14, 28, 56],\n",
       " 57: [1, 3, 19, 57],\n",
       " 58: [1, 2, 29, 58],\n",
       " 59: [1, 59],\n",
       " 60: [1, 2, 3, 4, 5, 6, 10, 12, 15, 20, 30, 60],\n",
       " 61: [1, 61],\n",
       " 62: [1, 2, 31, 62],\n",
       " 63: [1, 3, 7, 9, 21, 63],\n",
       " 64: [1, 2, 4, 8, 16, 32, 64],\n",
       " 65: [1, 5, 13, 65],\n",
       " 66: [1, 2, 3, 6, 11, 22, 33, 66],\n",
       " 67: [1, 67],\n",
       " 68: [1, 2, 4, 17, 34, 68],\n",
       " 69: [1, 3, 23, 69],\n",
       " 70: [1, 2, 5, 7, 10, 14, 35, 70],\n",
       " 71: [1, 71],\n",
       " 72: [1, 2, 3, 4, 6, 8, 9, 12, 18, 24, 36, 72],\n",
       " 73: [1, 73],\n",
       " 74: [1, 2, 37, 74],\n",
       " 75: [1, 3, 5, 15, 25, 75],\n",
       " 76: [1, 2, 4, 19, 38, 76],\n",
       " 77: [1, 7, 11, 77],\n",
       " 78: [1, 2, 3, 6, 13, 26, 39, 78],\n",
       " 79: [1, 79],\n",
       " 80: [1, 2, 4, 5, 8, 10, 16, 20, 40, 80],\n",
       " 81: [1, 3, 9, 27, 81],\n",
       " 82: [1, 2, 41, 82],\n",
       " 83: [1, 83],\n",
       " 84: [1, 2, 3, 4, 6, 7, 12, 14, 21, 28, 42, 84],\n",
       " 85: [1, 5, 17, 85],\n",
       " 86: [1, 2, 43, 86],\n",
       " 87: [1, 3, 29, 87],\n",
       " 88: [1, 2, 4, 8, 11, 22, 44, 88],\n",
       " 89: [1, 89],\n",
       " 90: [1, 2, 3, 5, 6, 9, 10, 15, 18, 30, 45, 90],\n",
       " 91: [1, 7, 13, 91],\n",
       " 92: [1, 2, 4, 23, 46, 92],\n",
       " 93: [1, 3, 31, 93],\n",
       " 94: [1, 2, 47, 94],\n",
       " 95: [1, 5, 19, 95],\n",
       " 96: [1, 2, 3, 4, 6, 8, 12, 16, 24, 32, 48, 96],\n",
       " 97: [1, 97],\n",
       " 98: [1, 2, 7, 14, 49, 98],\n",
       " 99: [1, 3, 9, 11, 33, 99],\n",
       " 100: [1, 2, 4, 5, 10, 20, 25, 50, 100],\n",
       " 101: [1, 101],\n",
       " 102: [1, 2, 3, 6, 17, 34, 51, 102],\n",
       " 103: [1, 103],\n",
       " 104: [1, 2, 4, 8, 13, 26, 52, 104],\n",
       " 105: [1, 3, 5, 7, 15, 21, 35, 105],\n",
       " 106: [1, 2, 53, 106],\n",
       " 107: [1, 107],\n",
       " 108: [1, 2, 3, 4, 6, 9, 12, 18, 27, 36, 54, 108],\n",
       " 109: [1, 109],\n",
       " 110: [1, 2, 5, 10, 11, 22, 55, 110],\n",
       " 111: [1, 3, 37, 111],\n",
       " 112: [1, 2, 4, 7, 8, 14, 16, 28, 56, 112],\n",
       " 113: [1, 113],\n",
       " 114: [1, 2, 3, 6, 19, 38, 57, 114],\n",
       " 115: [1, 5, 23, 115],\n",
       " 116: [1, 2, 4, 29, 58, 116],\n",
       " 117: [1, 3, 9, 13, 39, 117],\n",
       " 118: [1, 2, 59, 118],\n",
       " 119: [1, 7, 17, 119],\n",
       " 120: [1, 2, 3, 4, 5, 6, 8, 10, 12, 15, 20, 24, 30, 40, 60, 120],\n",
       " 121: [1, 11, 121],\n",
       " 122: [1, 2, 61, 122],\n",
       " 123: [1, 3, 41, 123],\n",
       " 124: [1, 2, 4, 31, 62, 124],\n",
       " 125: [1, 5, 25, 125],\n",
       " 126: [1, 2, 3, 6, 7, 9, 14, 18, 21, 42, 63, 126],\n",
       " 127: [1, 127],\n",
       " 128: [1, 2, 4, 8, 16, 32, 64, 128],\n",
       " 129: [1, 3, 43, 129],\n",
       " 130: [1, 2, 5, 10, 13, 26, 65, 130],\n",
       " 131: [1, 131],\n",
       " 132: [1, 2, 3, 4, 6, 11, 12, 22, 33, 44, 66, 132],\n",
       " 133: [1, 7, 19, 133],\n",
       " 134: [1, 2, 67, 134],\n",
       " 135: [1, 3, 5, 9, 15, 27, 45, 135],\n",
       " 136: [1, 2, 4, 8, 17, 34, 68, 136],\n",
       " 137: [1, 137],\n",
       " 138: [1, 2, 3, 6, 23, 46, 69, 138],\n",
       " 139: [1, 139],\n",
       " 140: [1, 2, 4, 5, 7, 10, 14, 20, 28, 35, 70, 140],\n",
       " 141: [1, 3, 47, 141],\n",
       " 142: [1, 2, 71, 142],\n",
       " 143: [1, 11, 13, 143],\n",
       " 144: [1, 2, 3, 4, 6, 8, 9, 12, 16, 18, 24, 36, 48, 72, 144],\n",
       " 145: [1, 5, 29, 145],\n",
       " 146: [1, 2, 73, 146],\n",
       " 147: [1, 3, 7, 21, 49, 147],\n",
       " 148: [1, 2, 4, 37, 74, 148],\n",
       " 149: [1, 149],\n",
       " 150: [1, 2, 3, 5, 6, 10, 15, 25, 30, 50, 75, 150]}"
      ]
     },
     "execution_count": 41,
     "metadata": {},
     "output_type": "execute_result"
    }
   ],
   "source": [
    "\n",
    "\n",
    "def print_factors():\n",
    "    factors = {}\n",
    "    for num in range(50,151):\n",
    "        factors[num] = [number for number in range(1, num + 1) if num % number == 0] \n",
    "    return factors\n",
    "print_factors()"
   ]
  }
 ],
 "metadata": {
  "interpreter": {
   "hash": "aee8b7b246df8f9039afb4144a1f6fd8d2ca17a180786b69acc140d282b71a49"
  },
  "kernelspec": {
   "display_name": "Python 3.10.0 64-bit",
   "name": "python3"
  },
  "language_info": {
   "codemirror_mode": {
    "name": "ipython",
    "version": 3
   },
   "file_extension": ".py",
   "mimetype": "text/x-python",
   "name": "python",
   "nbconvert_exporter": "python",
   "pygments_lexer": "ipython3",
   "version": "3.10.0"
  }
 },
 "nbformat": 4,
 "nbformat_minor": 2
}
