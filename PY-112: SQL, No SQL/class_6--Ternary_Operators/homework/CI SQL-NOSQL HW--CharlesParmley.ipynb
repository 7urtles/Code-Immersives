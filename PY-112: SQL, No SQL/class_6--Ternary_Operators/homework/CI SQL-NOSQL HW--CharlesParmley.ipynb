{
 "cells": [
  {
   "cell_type": "markdown",
   "metadata": {},
   "source": [
    "<h2>HW</h2>\n",
    "Mersenne Primes<br>\n",
    "Named for the French Minim friar who studied them <br>\n",
    "Are prime numbers that are 1 less than a power of 2<br>\n",
    "$$\n",
    "2^n-1 \n",
    "$$\n",
    "Find the Mersenne primes up to a power of 35"
   ]
  },
  {
   "cell_type": "code",
   "execution_count": 63,
   "metadata": {},
   "outputs": [],
   "source": [
    "def is_prime(number):\n",
    "    prime = [False if number%num==0 else True for num in range(2,int(number**1/2)+1)] # <--- The math makes a list of numbers ending\n",
    "    return False if False in prime else True  \n",
    "    \n",
    "def is_prime2(number):\n",
    "    for num in range(2,int(number**1/2)+1):\n",
    "        if number % num == 0:\n",
    "            return False\n",
    "        return True"
   ]
  },
  {
   "cell_type": "code",
   "execution_count": 67,
   "metadata": {},
   "outputs": [
    {
     "name": "stdout",
     "output_type": "stream",
     "text": [
      "[7, 15, 31, 63, 127, 255, 511, 1023, 2047, 4095, 8191, 16383, 32767, 65535, 131071, 262143, 524287, 1048575, 2097151, 4194303, 8388607, 16777215, 33554431, 67108863, 134217727, 268435455, 536870911, 1073741823, 2147483647, 4294967295, 8589934591, 17179869183]\n"
     ]
    }
   ],
   "source": [
    "mersenne_primes = [2**number-1 for number in range(35) if is_prime2(2**number-1)]\n",
    "\n",
    "print(mersenne_primes)"
   ]
  },
  {
   "cell_type": "markdown",
   "metadata": {},
   "source": [
    "A twin prime is a pair of prime numbers separated by 2<br>\n",
    "For example 3,5 and 5,7 and 11,13 are twin primes.<br>\n",
    "Find all twin primes between 1000 and 3000"
   ]
  },
  {
   "cell_type": "code",
   "execution_count": 53,
   "metadata": {},
   "outputs": [
    {
     "name": "stdout",
     "output_type": "stream",
     "text": [
      "(1019, 1021) (1031, 1033) (1049, 1051) (1061, 1063) (1091, 1093) (1151, 1153) (1229, 1231) (1277, 1279) (1289, 1291) (1301, 1303) (1319, 1321) (1427, 1429) (1451, 1453) (1481, 1483) (1487, 1489) (1607, 1609) (1619, 1621) (1667, 1669) (1697, 1699) (1721, 1723) (1787, 1789) (1871, 1873) (1877, 1879) (1931, 1933) (1949, 1951) (1997, 1999) (2027, 2029) (2081, 2083) (2087, 2089) (2111, 2113) (2129, 2131) (2141, 2143) (2237, 2239) (2267, 2269) (2309, 2311) (2339, 2341) (2381, 2383) (2549, 2551) (2591, 2593) (2657, 2659) (2687, 2689) (2711, 2713) (2729, 2731) (2789, 2791) (2801, 2803) (2969, 2971)\n"
     ]
    }
   ],
   "source": [
    "twin_primes = [(num, num+2) for num in range(1000,2999) if is_prime(num) and is_prime(num+2)]\n",
    "print(*twin_primes)"
   ]
  },
  {
   "cell_type": "markdown",
   "metadata": {},
   "source": [
    "Fermat primes are prime numbers such that for the number n:<br>\n",
    "$$\n",
    "2^{n} + 1\n",
    "$$\n",
    "is also a prime number.  There are only 5 known fermat primes greater than 2.  They are all under 100,000"
   ]
  },
  {
   "cell_type": "code",
   "execution_count": 5,
   "metadata": {},
   "outputs": [
    {
     "name": "stdout",
     "output_type": "stream",
     "text": [
      "3 5 17 257 65537\n"
     ]
    }
   ],
   "source": [
    "# 2^2^number+1\n",
    "# Only the first 5 fermat numbers are prime (thanks wikipedia) so only doing 5 numbers\n",
    "fermat = [2 ** 2 ** number + 1 for number in range(5) if is_prime(2 ** 2 ** number + 1)]\n",
    "print(*fermat)"
   ]
  },
  {
   "cell_type": "markdown",
   "metadata": {},
   "source": [
    "Write a function to return all of the factors of<br>\n",
    "of the numbers 50 through 150."
   ]
  },
  {
   "cell_type": "code",
   "execution_count": null,
   "metadata": {},
   "outputs": [],
   "source": [
    "def print_factors():\n",
    "    factors = {}\n",
    "    for num in range(50,151):\n",
    "        factors[num] = [number for number in range(1, num + 1) if num % number == 0] \n",
    "    return factors\n",
    "list_of_factors = print_factors()\n",
    "print_factors()"
   ]
  }
 ],
 "metadata": {
  "interpreter": {
   "hash": "31f2aee4e71d21fbe5cf8b01ff0e069b9275f58929596ceb00d14d90e3e16cd6"
  },
  "kernelspec": {
   "display_name": "Python 3.8.9 64-bit",
   "name": "python3"
  },
  "language_info": {
   "codemirror_mode": {
    "name": "ipython",
    "version": 3
   },
   "file_extension": ".py",
   "mimetype": "text/x-python",
   "name": "python",
   "nbconvert_exporter": "python",
   "pygments_lexer": "ipython3",
   "version": "3.8.9"
  }
 },
 "nbformat": 4,
 "nbformat_minor": 2
}
