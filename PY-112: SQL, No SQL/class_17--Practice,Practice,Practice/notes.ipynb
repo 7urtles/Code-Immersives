{
 "cells": [
  {
   "cell_type": "markdown",
   "metadata": {},
   "source": [
    "<div style='text-align:center;'>\n",
    "<h1>More Exercises?</h1>\n",
    "<p>This can all be assumed to be practice towars the final exam</p>\n",
    "<div>"
   ]
  },
  {
   "cell_type": "code",
   "execution_count": 53,
   "metadata": {},
   "outputs": [
    {
     "name": "stdout",
     "output_type": "stream",
     "text": [
      "month: 0, spent: 0\n",
      "month: 1, spent: 77.2\n",
      "month: 2, spent: 100.47999999999999\n",
      "month: 3, spent: 81.21000000000001\n",
      "month: 4, spent: 17.27\n",
      "month: 5, spent: 0\n",
      "month: 6, spent: 0\n",
      "month: 7, spent: 0\n",
      "month: 8, spent: 0\n",
      "month: 9, spent: 0\n",
      "month: 10, spent: 0\n",
      "month: 11, spent: 0\n",
      "\n",
      "\n",
      "\n",
      "item: milk \n",
      "average price: 5.123333333333334\n",
      "\n",
      "item: eggs \n",
      "average price: 7.01\n",
      "\n",
      "item: beer \n",
      "average price: 19.389999999999997\n",
      "\n",
      "item: coffee \n",
      "average price: 6.19\n",
      "\n",
      "item: diapers \n",
      "average price: 7.656666666666666\n",
      "\n",
      "item: flour \n",
      "average price: 4.29\n",
      "\n",
      "item: broccoli \n",
      "average price: 2.79\n",
      "\n",
      "item: onions \n",
      "average price: 2.39\n",
      "\n",
      "Food stats (number_bought, total_spent)\n",
      "----------------------------------------\n",
      "milk (3, 15.370000000000001)\n",
      "eggs (5, 35.05)\n",
      "beer (5, 96.94999999999999)\n",
      "coffee (1, 6.19)\n",
      "diapers (3, 22.97)\n",
      "flour (2, 8.58)\n",
      "broccoli (1, 2.79)\n",
      "onions (1, 2.39)\n",
      "peppers (0, 0)\n"
     ]
    }
   ],
   "source": [
    "# 1 - What was the total grocery bill for each month\n",
    "# 2 - What was the average price paid for each commodity (remove misspellings) \n",
    "# 3 - Create a dictionary with the item name as key and the value a tuple with\n",
    "# (the number of times item purchased,Total spent across all months)\n",
    "\n",
    "grocery_list = {\n",
    "    '2021-1-3':{'milk': 4.99},\n",
    "    '2021-1-10':{'milk': 4.99,'eggs': 6.99, 'beer': 14.99},\n",
    "    '2021-1-17':{'Milk': 4.99,'eggs': 7.99, 'coffee': 6.79},\n",
    "    '2021-1-24':{'milk': 4.49,'diapers': 16.99, 'flour': 3.99},\n",
    "    '2021-2-1':{'Broccoli': 2.99,'Onions': 1.99, 'peppers': 3.69},\n",
    "    '2021-2-6':{'milk': 4.99,'eggs': 6.99, 'beer': 19.99},\n",
    "    '2021-2-17':{'milk': 5.09,'broccoli': 2.79, 'beer': 21.99},\n",
    "    '2021-2-28':{'Diapers': 4.99,'eggs': 6.99, 'beer': 17.99},\n",
    "    '2021-3-5':{'Coffee': 6.19,'eggs': 6.99, 'beer': 18.99},\n",
    "    '2021-3-13':{'diapers': 4.99,'eggs': 6.49, 'Onions': 2.39},\n",
    "    '2021-3-20':{'Flour': 4.19,'Beer': 17.99, 'Diapers': 12.99},\n",
    "    '2021-4-1':{'milk': 5.29,'eggs': 7.59,'Flour': 4.39}\n",
    "}\n",
    "\n",
    "totals = []\n",
    "# Initializing a new dictionary with each month as a key, and 0 for a starting total value\n",
    "monthly_spending_data = {month : 0 for month in range(12)}\n",
    "food_data = {}\n",
    "\n",
    "for date in grocery_list:\n",
    "    # [PART 1]\n",
    "    # save the date as a string\n",
    "    date_string = date\n",
    "    # split the date into a list: [year, month, day]\n",
    "    date = date.split('-')\n",
    "    # Add the spending total for that day to the respective month\n",
    "    monthly_spending_data[int(date[1])] += sum(grocery_list[date_string].values())\n",
    "\n",
    "    # [PART 2]\n",
    "    try:\n",
    "        # Iterate the items bought for the day\n",
    "        for food_name in grocery_list[date_string]:\n",
    "            # Increment the amount spent for each item bought that day\n",
    "            food_data[food_name.lower()]['total'] += grocery_list[date_string][food_name]\n",
    "            # Increment the number of times we purchased the item\n",
    "            food_data[food_name.lower()]['number_purchased'] += 1\n",
    "\n",
    "    # If the dictionary entries do not exist yet\n",
    "    except:\n",
    "        # Initialize them so that they can be incremented\n",
    "        for food_name in grocery_list[date_string]:\n",
    "            food_data[food_name.lower()] = {'number_purchased':0, 'total':0}\n",
    "\n",
    "# Print Part 1\n",
    "for month in monthly_spending_data:\n",
    "    print(f\"month: {month}, spent: {monthly_spending_data[month]}\") \n",
    "print('\\n\\n')\n",
    "\n",
    "# Print Part 2\n",
    "for food in food_data:\n",
    "    if food_data[food]['number_purchased'] > 0:\n",
    "        print(f\"item: {food} \\naverage price: {food_data[food]['total']/food_data[food]['number_purchased']}\\n\")\n",
    "        pass\n",
    "\n",
    "\n",
    "# # [PART 3]\n",
    "for food in food_data:\n",
    "    food_data[food] = (food_data[food]['number_purchased'], food_data[food]['total'])\n",
    "\n",
    "print(f\"Food stats (number_bought, total_spent)\\n{'-'*40}\")\n",
    "for food in food_data:\n",
    "    print(food, food_data[food])"
   ]
  },
  {
   "cell_type": "code",
   "execution_count": 2,
   "metadata": {},
   "outputs": [
    {
     "name": "stdout",
     "output_type": "stream",
     "text": [
      "['Red', 'Yellow', 'Blue', 'Red', 'Yellow', 'Blue', 'Teal', 'Green']\n"
     ]
    }
   ],
   "source": [
    "# Exercise\n",
    "# Flatten the following list within a list: \n",
    "items = [['Red','Yellow','Blue'],['Orange','Silver','Black'],['Teal','Green']]\n",
    "# iterate every item in the list except the first one\n",
    "for item in range(0,len(items[1:])):\n",
    "    # combine the item with the first one, while also removing the original from the list\n",
    "    items[0] += items.pop(item) \n",
    "items=items[0]\n",
    "print(items)"
   ]
  }
 ],
 "metadata": {
  "interpreter": {
   "hash": "31f2aee4e71d21fbe5cf8b01ff0e069b9275f58929596ceb00d14d90e3e16cd6"
  },
  "kernelspec": {
   "display_name": "Python 3.8.9 64-bit",
   "language": "python",
   "name": "python3"
  },
  "language_info": {
   "codemirror_mode": {
    "name": "ipython",
    "version": 3
   },
   "file_extension": ".py",
   "mimetype": "text/x-python",
   "name": "python",
   "nbconvert_exporter": "python",
   "pygments_lexer": "ipython3",
   "version": "3.8.9"
  },
  "orig_nbformat": 4
 },
 "nbformat": 4,
 "nbformat_minor": 2
}
