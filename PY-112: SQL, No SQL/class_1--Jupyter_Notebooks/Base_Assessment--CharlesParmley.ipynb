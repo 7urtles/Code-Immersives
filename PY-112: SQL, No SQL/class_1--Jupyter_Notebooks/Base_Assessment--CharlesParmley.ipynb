{
 "cells": [
  {
   "cell_type": "markdown",
   "metadata": {},
   "source": [
    "<a href=\"https://codeimmersives.com\"><img src = \"https://www.codeimmersives.com/wp-content/uploads/2019/09/CodeImmersives_Logo_RGB_NYC_BW.png\" width = 400> </a>\n",
    "\n",
    "\n",
    "<h1 align=center><font size = 5>Python Assessment</font></h1>"
   ]
  },
  {
   "cell_type": "markdown",
   "metadata": {},
   "source": [
    "<h2 #0>Exercise 1</h2><a id=\"0\"></a>\n",
    "<code>\n",
    "purchases = {'2021-01-01': \n",
    "                 {'item-001': \n",
    "                      {'name': 'Alka Seltzer'},\n",
    "                 'item-002': \n",
    "                      {'name': 'Rolaids'},\n",
    "                 'item-003': \n",
    "                      {'name': 'Orange juice'}  }                \n",
    "            }\n",
    "</code>\n",
    "<br>\n",
    "<h4>List all of the names of items purchased</h4>"
   ]
  },
  {
   "cell_type": "code",
   "execution_count": 22,
   "metadata": {},
   "outputs": [
    {
     "name": "stdout",
     "output_type": "stream",
     "text": [
      "Alka Seltzer\n",
      "Rolaids\n",
      "Orange juice\n"
     ]
    }
   ],
   "source": [
    "purchases = {'2021-01-01': \n",
    "                 {'item-001': \n",
    "                      {'name': 'Alka Seltzer'},\n",
    "                 'item-002': \n",
    "                      {'name': 'Rolaids'},\n",
    "                 'item-003': \n",
    "                      {'name': 'Orange juice'}  }                \n",
    "            }\n",
    "for key1,item in purchases.items():\n",
    "    for key2,content in item.items():\n",
    "        print(content['name'])"
   ]
  },
  {
   "cell_type": "markdown",
   "metadata": {},
   "source": [
    "<h2>Exercise 2</h2><a id=\"2\"></a>\n",
    "<code>\n",
    "purchases = {'2021-01-01': \n",
    "                 {'item-001': \n",
    "                      {'name': 'Alka Seltzer'},\n",
    "                 'item-002': \n",
    "                      {'name': 'Rolaids'},\n",
    "                 'item-003': \n",
    "                      {'name': 'Orange juice'}  }                \n",
    "            }\n",
    "</code>\n",
    "<br>\n",
    "1 - Add a 4th item with a key of 'item-004' and name of 'Bloody Mary'<br>\n",
    "2 - Add a 5th item with a key of 'item-005' and name of 'Pineapple Juice'<br>\n",
    "3 - print all item names purchased<br>\n",
    "4 - print all juice items"
   ]
  },
  {
   "cell_type": "code",
   "execution_count": 45,
   "metadata": {},
   "outputs": [
    {
     "name": "stdout",
     "output_type": "stream",
     "text": [
      "Orange juice\n",
      "Pineapple Juice\n"
     ]
    }
   ],
   "source": [
    "purchases['2021-01-01']['item-004'] = {'name':'Bloody Mary'}\n",
    "purchases['2021-01-01']['item-005'] = {'name':'Pineapple Juice'}\n",
    "\n",
    "for index, item in purchases['2021-01-01'].items():\n",
    "    if 'juice' in purchases['2021-01-01'][index]['name'].lower():\n",
    "        print(purchases['2021-01-01'][index]['name'])"
   ]
  },
  {
   "cell_type": "markdown",
   "metadata": {},
   "source": [
    "<h2>Exercise 2.5</h2>\n",
    "<strong>Extract all methods with the name 'item' as part of the name</strong>"
   ]
  },
  {
   "cell_type": "code",
   "execution_count": 159,
   "metadata": {},
   "outputs": [
    {
     "name": "stdout",
     "output_type": "stream",
     "text": [
      "['item', 'items', 'items_copy']\n",
      "True\n"
     ]
    }
   ],
   "source": [
    "results = [method for method in dir() if 'item' in method]\n",
    "print(results)"
   ]
  },
  {
   "cell_type": "markdown",
   "metadata": {},
   "source": [
    "<h2>Exercise 3</h2><a id=\"4\"></a>\n",
    "<code>\n",
    "items = ['Alka Seltzer', 'Rolaids', 'Orange juice', 'Bloody Mary', 'Pineapple Juice']\n",
    "</code>\n",
    "<br>\n",
    "1 - Randomly pick 3 items out of the list using iteration and name it basket1 - WITHOUT REPLACEMENT<br>\n",
    "2a - Randomly pick 3 items out of the list using iteration and name it basket2 - WITH REPLACEMENT<br>\n",
    "2b - List the items remaining in the basket"
   ]
  },
  {
   "cell_type": "code",
   "execution_count": 204,
   "metadata": {},
   "outputs": [
    {
     "name": "stdout",
     "output_type": "stream",
     "text": [
      "Basket 1: ['Alka Seltzer', 'Alka Seltzer', 'Bloody Mary']\n",
      "Basket 2: ['Pineapple Juice', 'Orange juice', 'Alka Seltzer']\n",
      "Remaining items:\n",
      "Rolaids\n"
     ]
    }
   ],
   "source": [
    "from random import randint, choice\n",
    "items = ['Alka Seltzer', 'Rolaids', 'Orange juice', 'Bloody Mary', 'Pineapple Juice']\n",
    "\n",
    "#1\n",
    "basket1 = [choice(items) for _ in range(0,3)]\n",
    "print(f'Basket 1: {basket1}')\n",
    "\n",
    "#2a\n",
    "basket2 = [items.pop(randint(0,len(items)-1)) for _ in range(0,3)]\n",
    "print(f'Basket 2: {basket2}')\n",
    "\n",
    "#2b\n",
    "print(\"Remaining items:\")\n",
    "for item in items:\n",
    "    if item not in basket1 and item not in basket2:\n",
    "        print(item)"
   ]
  },
  {
   "cell_type": "markdown",
   "metadata": {},
   "source": [
    "<h2>Exercise 4</h2><a id=\"6\"></a>\n",
    "From the numbers 1 through 120 pick all numbers that are divisible by 3 and 5"
   ]
  },
  {
   "cell_type": "code",
   "execution_count": 208,
   "metadata": {},
   "outputs": [
    {
     "name": "stdout",
     "output_type": "stream",
     "text": [
      "[1, 2, 3, 4, 5, 6, 7, 8, 9, 10, 11, 12, 13, 14, 16, 17, 18, 19, 20, 21, 22, 23, 24, 25, 26, 27, 28, 29, 31, 32, 33, 34, 35, 36, 37, 38, 39, 40, 41, 42, 43, 44, 46, 47, 48, 49, 50, 51, 52, 53, 54, 55, 56, 57, 58, 59, 61, 62, 63, 64, 65, 66, 67, 68, 69, 70, 71, 72, 73, 74, 76, 77, 78, 79, 80, 81, 82, 83, 84, 85, 86, 87, 88, 89, 91, 92, 93, 94, 95, 96, 97, 98, 99, 100, 101, 102, 103, 104, 106, 107, 108, 109, 110, 111, 112, 113, 114, 115, 116, 117, 118, 119]\n"
     ]
    }
   ],
   "source": [
    "numbers = [number for number in range(1,121) if number % 15 != 0]\n",
    "print(numbers)"
   ]
  },
  {
   "cell_type": "markdown",
   "metadata": {},
   "source": [
    "<h2>Exercise 5</h2><a id=\"8\"></a>\n",
    "From the numbers 1 through 300 pick all numbers that the sum of the digits are divisible by 9<br>\n",
    "For example the number 261 if we add the digits 2 + 6 + 1 = 9"
   ]
  },
  {
   "cell_type": "code",
   "execution_count": 219,
   "metadata": {},
   "outputs": [
    {
     "name": "stdout",
     "output_type": "stream",
     "text": [
      "Numbers divisible by 9:\n",
      "[9, 18, 27, 36, 45, 54, 63, 72, 81, 90, 99, 108, 117, 126, 135, 144, 153, 162, 171, 180, 189, 198, 207, 216, 225, 234, 243, 252, 261, 270, 279, 288, 297]\n"
     ]
    }
   ],
   "source": [
    "divisible_9 = []\n",
    "for num in range(1,301):\n",
    "    total = 0\n",
    "    for digit in str(num):\n",
    "        total += int(digit)\n",
    "    if total % 9 == 0:\n",
    "        divisible_9.append(int(num))\n",
    "\n",
    "print(f'Numbers divisible by 9:\\n{divisible_9}')"
   ]
  },
  {
   "cell_type": "markdown",
   "metadata": {},
   "source": [
    "<h2>Exercise 5.5</h2>\n",
    "Count backwards from 130 to 100 by 3s"
   ]
  },
  {
   "cell_type": "code",
   "execution_count": 222,
   "metadata": {},
   "outputs": [
    {
     "name": "stdout",
     "output_type": "stream",
     "text": [
      "[130, 127, 124, 121, 118, 115, 112, 109, 106, 103, 100]\n"
     ]
    }
   ],
   "source": [
    "backwards_three = [number for number in range(130,99,-3)]\n",
    "print(backwards_three)"
   ]
  },
  {
   "cell_type": "markdown",
   "metadata": {},
   "source": [
    "<h2>Exercise 6</h2><a id=\"10\"></a>\n",
    "<code>\n",
    "numbers = [2,7,9,12,15,3,11,22,17,6,0,-8]\n",
    "</code><br>\n",
    "List all 2 number combinations that add up to 9<br>\n",
    "List all 2 number permutations that add up to 9<br>"
   ]
  },
  {
   "cell_type": "code",
   "execution_count": 32,
   "metadata": {},
   "outputs": [
    {
     "name": "stdout",
     "output_type": "stream",
     "text": [
      "Combination pairs: [(2, 7)]\n",
      "Permutation pairs: [(2, 7), (9, 0), (3, 6), (17, -8)]\n"
     ]
    }
   ],
   "source": [
    "numbers = [2,7,9,12,15,3,11,22,17,6,0,-8]\n",
    "combination_9 = []\n",
    "permutations_9 = []\n",
    "goal = 9\n",
    "for index, number in enumerate(numbers):\n",
    "    try:\n",
    "        if number + numbers[index+1] == goal:\n",
    "            combination_9.append((number,numbers[index+1]))\n",
    "    except:\n",
    "        pass\n",
    "print(f'Combination pairs: {combination_9}')\n",
    "\n",
    "for index, number in enumerate(numbers):\n",
    "    for index2, number2 in enumerate(numbers):\n",
    "        if number + number2 == goal and index != index2 and (number2,number) not in permutations_9:\n",
    "            permutations_9.append((number,number2))\n",
    "print(f'Permutation pairs: {permutations_9}')"
   ]
  },
  {
   "cell_type": "markdown",
   "metadata": {},
   "source": [
    "<h2>Exercise 7</h2><a id=\"22\"></a>\n",
    "<code>\n",
    "list_1 = ['chair','stools','dresser','picture frame']\n",
    "list_2 = ['mirror','rug','tv stand','chair','dresser']\n",
    "</code><br>\n",
    "1 - Print an unduplicated list of all items in both lists (union)<br>\n",
    "2 - Which items are duplicated in each list (intersection)"
   ]
  },
  {
   "cell_type": "code",
   "execution_count": 59,
   "metadata": {},
   "outputs": [
    {
     "name": "stdout",
     "output_type": "stream",
     "text": [
      "All items: ['chair', 'stools', 'dresser', 'picture frame', 'mirror', 'rug', 'tv stand']\n",
      "Repeating items: ['chair', 'dresser']\n"
     ]
    }
   ],
   "source": [
    "list_1 = ['chair','stools','dresser','picture frame']\n",
    "list_2 = ['mirror','rug','tv stand','chair','dresser']\n",
    "\n",
    "combined_list = [item for item in list_1]\n",
    "\n",
    "for item in list_2:\n",
    "    if item not in combined_list:\n",
    "        combined_list.append(item)\n",
    "\n",
    "print(f'All items: {combined_list}')\n",
    "print(f'Repeating items: {[item for item in combined_list if item in list_1 and item in list_2 ]}')"
   ]
  },
  {
   "cell_type": "markdown",
   "metadata": {},
   "source": [
    "<h2>Exercise 8</h2><a id=\"14\"></a>\n",
    "Create a simulated deck of cards as a list <br>\n",
    "Cards have the following attributes:<br>\n",
    "4 suits - Clubs, Spades, Diamonds and Hearts<br>\n",
    "Cards numbered 2 through 10 plus Jack, Queen, King and Ace"
   ]
  },
  {
   "cell_type": "code",
   "execution_count": 113,
   "metadata": {},
   "outputs": [
    {
     "name": "stdout",
     "output_type": "stream",
     "text": [
      "Here is a deck of 52 cards: \n",
      "['2 Clubs', '3 Clubs', '4 Clubs', '5 Clubs', '6 Clubs', '7 Clubs', '8 Clubs', '9 Clubs', '10 Clubs', 'J Clubs', 'Q Clubs', 'K Clubs', 'A Clubs', '2 Spades', '3 Spades', '4 Spades', '5 Spades', '6 Spades', '7 Spades', '8 Spades', '9 Spades', '10 Spades', 'J Spades', 'Q Spades', 'K Spades', 'A Spades', '2 Diamonds', '3 Diamonds', '4 Diamonds', '5 Diamonds', '6 Diamonds', '7 Diamonds', '8 Diamonds', '9 Diamonds', '10 Diamonds', 'J Diamonds', 'Q Diamonds', 'K Diamonds', 'A Diamonds', '2 Hearts', '3 Hearts', '4 Hearts', '5 Hearts', '6 Hearts', '7 Hearts', '8 Hearts', '9 Hearts', '10 Hearts', 'J Hearts', 'Q Hearts', 'K Hearts', 'A Hearts']\n"
     ]
    }
   ],
   "source": [
    "cards = []\n",
    "suits = ('Clubs', 'Spades', 'Diamonds', 'Hearts')\n",
    "card_values = [str(num) for num in range(2,11)]\n",
    "card_values += ['J','Q','K','A',]\n",
    "for suit in suits:\n",
    "    for value in card_values:\n",
    "        cards.append(value+' '+suit)\n",
    "print(f'Here is a deck of 52 cards: \\n{cards}')"
   ]
  },
  {
   "cell_type": "markdown",
   "metadata": {},
   "source": [
    "<h2>Exercise 9</h2><a id=\"16\"></a>\n",
    "a - Recreate a simulated deck of cards as a dictionary where the key is the name<br>\n",
    "and the value is the value of the card.  Remember the Ace can be a 1 or 11<br>\n",
    "b - Deal 3 players (player_1, player_2, player_3) 2 cards and determine who has the higher amount<br>\n",
    "NOTE: Deal with the fact the Ace returns a tuple take the higher amount for now"
   ]
  },
  {
   "cell_type": "code",
   "execution_count": 111,
   "metadata": {},
   "outputs": [
    {
     "name": "stdout",
     "output_type": "stream",
     "text": [
      "Here is a messy deck of 52 cards: \n",
      "{1: {'value': {'2': 2}, 'suit': 'Clubs'}, 2: {'value': {'3': 3}, 'suit': 'Clubs'}, 3: {'value': {'4': 4}, 'suit': 'Clubs'}, 4: {'value': {'5': 5}, 'suit': 'Clubs'}, 5: {'value': {'6': 6}, 'suit': 'Clubs'}, 6: {'value': {'7': 7}, 'suit': 'Clubs'}, 7: {'value': {'8': 8}, 'suit': 'Clubs'}, 8: {'value': {'9': 9}, 'suit': 'Clubs'}, 9: {'value': {'10': 10}, 'suit': 'Clubs'}, 10: {'value': {'J': 10}, 'suit': 'Clubs'}, 11: {'value': {'Q': 10}, 'suit': 'Clubs'}, 12: {'value': {'K': 10}, 'suit': 'Clubs'}, 13: {'value': {'A': 11}, 'suit': 'Clubs'}, 14: {'value': {'2': 2}, 'suit': 'Spades'}, 15: {'value': {'3': 3}, 'suit': 'Spades'}, 16: {'value': {'4': 4}, 'suit': 'Spades'}, 17: {'value': {'5': 5}, 'suit': 'Spades'}, 18: {'value': {'6': 6}, 'suit': 'Spades'}, 19: {'value': {'7': 7}, 'suit': 'Spades'}, 20: {'value': {'8': 8}, 'suit': 'Spades'}, 21: {'value': {'9': 9}, 'suit': 'Spades'}, 22: {'value': {'10': 10}, 'suit': 'Spades'}, 23: {'value': {'J': 10}, 'suit': 'Spades'}, 24: {'value': {'Q': 10}, 'suit': 'Spades'}, 25: {'value': {'K': 10}, 'suit': 'Spades'}, 26: {'value': {'A': 11}, 'suit': 'Spades'}, 27: {'value': {'2': 2}, 'suit': 'Diamonds'}, 28: {'value': {'3': 3}, 'suit': 'Diamonds'}, 29: {'value': {'4': 4}, 'suit': 'Diamonds'}, 30: {'value': {'5': 5}, 'suit': 'Diamonds'}, 31: {'value': {'6': 6}, 'suit': 'Diamonds'}, 32: {'value': {'7': 7}, 'suit': 'Diamonds'}, 33: {'value': {'8': 8}, 'suit': 'Diamonds'}, 34: {'value': {'9': 9}, 'suit': 'Diamonds'}, 35: {'value': {'10': 10}, 'suit': 'Diamonds'}, 36: {'value': {'J': 10}, 'suit': 'Diamonds'}, 37: {'value': {'Q': 10}, 'suit': 'Diamonds'}, 38: {'value': {'K': 10}, 'suit': 'Diamonds'}, 39: {'value': {'A': 11}, 'suit': 'Diamonds'}, 40: {'value': {'2': 2}, 'suit': 'Hearts'}, 41: {'value': {'3': 3}, 'suit': 'Hearts'}, 42: {'value': {'4': 4}, 'suit': 'Hearts'}, 43: {'value': {'5': 5}, 'suit': 'Hearts'}, 44: {'value': {'6': 6}, 'suit': 'Hearts'}, 45: {'value': {'7': 7}, 'suit': 'Hearts'}, 46: {'value': {'8': 8}, 'suit': 'Hearts'}, 47: {'value': {'9': 9}, 'suit': 'Hearts'}, 48: {'value': {'10': 10}, 'suit': 'Hearts'}, 49: {'value': {'J': 10}, 'suit': 'Hearts'}, 50: {'value': {'Q': 10}, 'suit': 'Hearts'}, 51: {'value': {'K': 10}, 'suit': 'Hearts'}, 52: {'value': {'A': 11}, 'suit': 'Hearts'}}\n",
      "\n",
      "Here are the players and their hands:\n",
      "player_1 [{'value': {'3': 3}, 'suit': 'Clubs'}, {'value': {'K': 10}, 'suit': 'Clubs'}]\n",
      "player_2 [{'value': {'3': 3}, 'suit': 'Diamonds'}, {'value': {'7': 7}, 'suit': 'Diamonds'}]\n",
      "player_3 [{'value': {'K': 10}, 'suit': 'Clubs'}, {'value': {'7': 7}, 'suit': 'Spades'}]\n",
      "\n",
      "Winner!:\n",
      "player_3, score: 17\n"
     ]
    }
   ],
   "source": [
    "# A\n",
    "cards = {}\n",
    "suits = ('Clubs', 'Spades', 'Diamonds', 'Hearts')\n",
    "card_values = [{str(num):num} for num in range(2,11)]\n",
    "card_values += [{'J':10},{'Q':10},{'K':10},{'A':11}]\n",
    "deck_index = 1\n",
    "for suit in suits:\n",
    "    for value in card_values:\n",
    "        cards[deck_index] = {'value':value,'suit':suit}\n",
    "        deck_index += 1\n",
    "\n",
    "print(f'Here is a messy deck of 52 cards: \\n{cards}')\n",
    "\n",
    "\n",
    "# B\n",
    "import random\n",
    "player_1 = []\n",
    "player_2 = []\n",
    "player_3 = []\n",
    "players = {'player_1':player_1, 'player_2':player_2, 'player_3':player_3}\n",
    "\n",
    "for number in range(0,2):\n",
    "    for player in players:\n",
    "        players[player].append(cards[random.randint(1,len(cards))])\n",
    "\n",
    "print(f'\\nHere are the players and their hands:')\n",
    "for player in players:\n",
    "    print(player, players[player])\n",
    "\n",
    "# Bb\n",
    "winning_player = 'default'\n",
    "winning_score = 0\n",
    "for player in players:\n",
    "    score = 0\n",
    "    for card in range(len(players[player])):\n",
    "        score += sum([value for _,value in players[player][card]['value'].items()])\n",
    "    if score > winning_score:\n",
    "        winning_player = player\n",
    "        winning_score = score\n",
    "    elif score == winning_score:\n",
    "        winning_player += f', {player}'\n",
    "    \n",
    "print(f'\\nWinner!:\\n{winning_player}, score: {winning_score}')"
   ]
  },
  {
   "cell_type": "markdown",
   "metadata": {},
   "source": [
    "<h2>Exercise 10</h2>\n",
    "Create a program the outputs the first day of the month, the last day of the month,<br>\n",
    "and the number of days in the month as a list<br>\n",
    "Example<br>\n",
    "(1/1/2020,1/31/2020,31 days)<br>\n",
    "(2/1/2020,2/29/2020,29 days)<br>\n",
    "<br>\n",
    "NOTE: Do not import calendar"
   ]
  },
  {
   "cell_type": "code",
   "execution_count": 104,
   "metadata": {},
   "outputs": [
    {
     "name": "stdout",
     "output_type": "stream",
     "text": [
      "10/1/2021, 10/31/2021, 31 days\n"
     ]
    }
   ],
   "source": [
    "def date_finder(month, year):\n",
    "    leap_year = True\n",
    "    if year % 100 == 0:\n",
    "        leap_year = False\n",
    "    if month in (1, 3, 5, 7, 8, 10, 12):\n",
    "        days = 31\n",
    "        print(f'{month}/{1}/{year}, {month}/{days}/{year}, {days} days')\n",
    "        return\n",
    "    elif month == 2:\n",
    "        if leap_year == True:\n",
    "            days = 29\n",
    "            print(f'{month}/{1}/{year}, {month}/{days}/{year}, {days} days')\n",
    "            return\n",
    "        days = 28\n",
    "        print(f'{month}/{1}/{year}, {month}/{days}/{year}, {days} days')\n",
    "        return\n",
    "    days = 30\n",
    "    print(f'{month}/{1}/{year}, {month}/{days}/{year}, {days} days')\n",
    "    return\n",
    "\n",
    "date_finder(10, 2021)"
   ]
  },
  {
   "cell_type": "markdown",
   "metadata": {},
   "source": [
    "This notebook is part of a python assessment for a knowledge check for a course at www.codeimmersives.com . If you accessed this notebook outside the course, you can get more information about this course online by \n",
    "clicking [here](https://www.codeimmersives.com/programs/python-aws/)."
   ]
  },
  {
   "cell_type": "markdown",
   "metadata": {},
   "source": [
    "<hr>\n",
    "\n",
    "Copyright &copy; 2021  Code Immersives"
   ]
  }
 ],
 "metadata": {
  "interpreter": {
   "hash": "aee8b7b246df8f9039afb4144a1f6fd8d2ca17a180786b69acc140d282b71a49"
  },
  "kernelspec": {
   "display_name": "Python 3.10.0 64-bit",
   "name": "python3"
  },
  "language_info": {
   "codemirror_mode": {
    "name": "ipython",
    "version": 3
   },
   "file_extension": ".py",
   "mimetype": "text/x-python",
   "name": "python",
   "nbconvert_exporter": "python",
   "pygments_lexer": "ipython3",
   "version": "3.10.0"
  }
 },
 "nbformat": 4,
 "nbformat_minor": 4
}
