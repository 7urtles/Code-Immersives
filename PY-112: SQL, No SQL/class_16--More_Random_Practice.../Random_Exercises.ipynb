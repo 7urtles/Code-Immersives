{
 "cells": [
  {
   "cell_type": "markdown",
   "metadata": {},
   "source": [
    "<div style='text-align:center;'>\n",
    "<h1>There's not really a topic....</h1>\n",
    "<p>Please forgive the recent decline in note structure.<br>\n",
    "There isn't much of a theme for class sessions anymore.</p>\n",
    "<div>"
   ]
  },
  {
   "cell_type": "code",
   "execution_count": null,
   "metadata": {},
   "outputs": [],
   "source": [
    "# from 1000 to 3000 \n",
    "#   find numbers whos digit total is divisible by 2\n",
    "#   find numbers whos digit total is divisible by 5"
   ]
  },
  {
   "cell_type": "code",
   "execution_count": null,
   "metadata": {},
   "outputs": [],
   "source": [
    "even_totals = []\n",
    "div_by_5 = []\n",
    "\n",
    "for number in range(1000,3001):\n",
    "    total = 0\n",
    "    for num in list(str(number)):\n",
    "        total += int(num)\n",
    "    if total % 2 == 0:\n",
    "        even_totals.append(number)\n",
    "    if total % 5 == 0:\n",
    "        div_by_5.append(number)\n",
    "   \n",
    "print(f'{len(even_totals)} numbers whos digits total an even number: \\n{even_totals}\\n\\n')\n",
    "print(f'{len(div_by_5)} numbers whos digits total are divisible by 5: \\n{div_by_5}\\n\\n')"
   ]
  },
  {
   "cell_type": "code",
   "execution_count": null,
   "metadata": {},
   "outputs": [],
   "source": [
    "# Take the following words and sum up their ascii values\n",
    "# For the first word 'Love'\n",
    "# L = 76\n",
    "# o = 111\n",
    "# v = 118\n",
    "# e = 11\n",
    "# The sum is 406 \n",
    "words = ['Love','Python','Dictionary','List','Tuple','Set','Ternary']\n",
    "# Return the word and the sum as a list of tuples:\n",
    "\n",
    "# Output = ('Love',416)\n",
    "summary = []\n",
    "for word in words:\n",
    "    total = 0\n",
    "    for letter in word:\n",
    "        total += ord(letter)\n",
    "    summary.append((total,word))\n",
    "print(summary)"
   ]
  },
  {
   "cell_type": "code",
   "execution_count": 3,
   "metadata": {},
   "outputs": [
    {
     "name": "stdout",
     "output_type": "stream",
     "text": [
      "1\n",
      "3\n",
      "5\n",
      "7\n",
      "9\n",
      "11\n",
      "13\n",
      "15\n",
      "17\n",
      "19\n",
      "21\n",
      "23\n",
      "25\n",
      "27\n",
      "29\n",
      "31\n",
      "33\n",
      "35\n",
      "37\n",
      "39\n"
     ]
    },
    {
     "data": {
      "text/plain": [
       "[None,\n",
       " None,\n",
       " None,\n",
       " None,\n",
       " None,\n",
       " None,\n",
       " None,\n",
       " None,\n",
       " None,\n",
       " None,\n",
       " None,\n",
       " None,\n",
       " None,\n",
       " None,\n",
       " None,\n",
       " None,\n",
       " None,\n",
       " None,\n",
       " None,\n",
       " None]"
      ]
     },
     "execution_count": 3,
     "metadata": {},
     "output_type": "execute_result"
    }
   ],
   "source": [
    "# Exercise\n",
    "# What is the difference between the square of a number(n) and the square of (n-1)\n",
    "\n",
    "# For example n = 3 ---> 3 squared - 2 squared = 9 - 4 = 5\n",
    "# Do for numbers 1 through 20\n",
    "\n",
    "# n**2 - (n-1)**2\n",
    "\n",
    "[print(number**2 - (number-1)**2) for number in range(1,21)] "
   ]
  },
  {
   "cell_type": "code",
   "execution_count": null,
   "metadata": {},
   "outputs": [],
   "source": [
    "# Exercise\n",
    "# For numbers 100 to 200\n",
    "# If a number is not prime, find the sum of it's factors\n",
    "# Output the number, the sum of the factors, and the factors to the console\n",
    "\n",
    "def find_factors(number = 1):\n",
    "    factors = []\n",
    "    for whole_number in range(1, number + 1):\n",
    "        if number % whole_number == 0:\n",
    "            factors.append(whole_number)\n",
    "    return factors\n",
    "\n",
    "for number in range(100,201):\n",
    "    factors = find_factors(number)\n",
    "    if len(factors) > 4:\n",
    "        print(f'Number: {number} \\nSum_of_Factors: {sum(factors)} \\nFactors: {factors}\\n')"
   ]
  },
  {
   "cell_type": "code",
   "execution_count": null,
   "metadata": {},
   "outputs": [],
   "source": [
    "data = {\"countries\":[{\"name\":\"Algeria\",\"code\":\"DZ\"},{\"name\":\"Argentina\",\"code\":\"AR\"},{\"name\":\"Australia\",\"code\":\"AU\"},{\"name\":\"Austria\",\"code\":\"AT\"},{\"name\":\"Austria-Hungary\"},{\"name\":\"Austrian Empire\"},{\"name\":\"Azerbaijan\",\"code\":\"AZ\"},{\"name\":\"Bangladesh\",\"code\":\"BD\"},{\"name\":\"Barbados\",\"code\":\"BB\"},{\"name\":\"Bavaria\",\"code\":\"DE\"},{\"name\":\"Belarus\",\"code\":\"BY\"},{\"name\":\"Belgian Congo\",\"code\":\"CD\"},{\"name\":\"Belgium\",\"code\":\"BE\"},{\"name\":\"Bosnia\",\"code\":\"BA\"},{\"name\":\"Bosnia and Herzegovina\",\"code\":\"BA\"},{\"name\":\"Brazil\",\"code\":\"BR\"},{\"name\":\"British India\",\"code\":\"IN\"},{\"name\":\"British Mandate of Palestine\",\"code\":\"IL\"},{\"name\":\"British Protectorate of Palestine\",\"code\":\"IL\"},{\"name\":\"British West Indies\",\"code\":\"LC\"},{\"name\":\"Bulgaria\",\"code\":\"BG\"},{\"name\":\"Burma\",\"code\":\"MM\"},{\"name\":\"Canada\",\"code\":\"CA\"},{\"name\":\"Chile\",\"code\":\"CL\"},{\"name\":\"China\",\"code\":\"CN\"},{\"name\":\"Colombia\",\"code\":\"CO\"},{\"name\":\"Costa Rica\",\"code\":\"CR\"},{\"name\":\"Crete\",\"code\":\"GR\"},{\"name\":\"Croatia\",\"code\":\"HR\"},{\"name\":\"Cyprus\",\"code\":\"CY\"},{\"name\":\"Czech Republic\",\"code\":\"CZ\"},{\"name\":\"Czechoslovakia\",\"code\":\"CZ\"},{\"name\":\"Democratic Republic of the Congo\",\"code\":\"CD\"},{\"name\":\"Democratic Republic of Vietnam\",\"code\":\"VN\"},{\"name\":\"Denmark\",\"code\":\"DK\"},{\"name\":\"East Friesland\",\"code\":\"DE\"},{\"name\":\"East Germany\",\"code\":\"DE\"},{\"name\":\"East Timor\",\"code\":\"TL\"},{\"name\":\"Egypt\",\"code\":\"EG\"},{\"name\":\"Ethiopia\",\"code\":\"ET\"},{\"name\":\"Faroe Islands (Denmark)\",\"code\":\"DK\"},{\"name\":\"Finland\",\"code\":\"FI\"},{\"name\":\"France\",\"code\":\"FR\"},{\"name\":\"Free City of Danzig\",\"code\":\"PL\"},{\"name\":\"French Algeria\",\"code\":\"DZ\"},{\"name\":\"Gabon\",\"code\":\"GA\"},{\"name\":\"German-occupied Poland\",\"code\":\"PL\"},{\"name\":\"Germany\",\"code\":\"DE\"},{\"name\":\"Ghana\",\"code\":\"GH\"},{\"name\":\"Gold Coast\",\"code\":\"GH\"},{\"name\":\"Greece\",\"code\":\"GR\"},{\"name\":\"Greenland\",\"code\":\"GL\"},{\"name\":\"Guadeloupe Island\",\"code\":\"GP\"},{\"name\":\"Guatemala\",\"code\":\"GT\"},{\"name\":\"Hesse-Kassel\",\"code\":\"DE\"},{\"name\":\"Hungarian Empire\",\"code\":\"CZ\"},{\"name\":\"Hungary\",\"code\":\"HU\"},{\"name\":\"Iceland\",\"code\":\"IS\"},{\"name\":\"India\",\"code\":\"IN\"},{\"name\":\"Indonesia\",\"code\":\"ID\"},{\"name\":\"Iran\",\"code\":\"IR\"},{\"name\":\"Iraq\",\"code\":\"IQ\"},{\"name\":\"Ireland\",\"code\":\"IE\"},{\"name\":\"Israel\",\"code\":\"IL\"},{\"name\":\"Italy\",\"code\":\"IT\"},{\"name\":\"Jamaica\",\"code\":\"JM\"},{\"name\":\"Japan\",\"code\":\"JP\"},{\"name\":\"Java, Dutch East Indies\",\"code\":\"ID\"},{\"name\":\"Kenya\",\"code\":\"KE\"},{\"name\":\"Korea\",\"code\":\"BR\"},{\"name\":\"Latvia\",\"code\":\"LV\"},{\"name\":\"Liberia\",\"code\":\"LR\"},{\"name\":\"Lithuania\",\"code\":\"LT\"},{\"name\":\"Luxembourg\",\"code\":\"LU\"},{\"name\":\"Madagascar\",\"code\":\"MG\"},{\"name\":\"Mauritius\",\"code\":\"MU\"},{\"name\":\"Mecklenburg\",\"code\":\"DE\"},{\"name\":\"Mexico\",\"code\":\"MX\"},{\"name\":\"Morocco\",\"code\":\"MA\"},{\"name\":\"Myanmar\",\"code\":\"MM\"},{\"name\":\"New Zealand\",\"code\":\"NZ\"},{\"name\":\"Nigeria\",\"code\":\"NG\"},{\"name\":\"North Macedonia\",\"code\":\"MK\"},{\"name\":\"Northern Ireland\",\"code\":\"GB\"},{\"name\":\"Northern Rhodesia\",\"code\":\"ZM\"},{\"name\":\"Norway\",\"code\":\"NO\"},{\"name\":\"Ottoman Empire\",\"code\":\"TR\"},{\"name\":\"Pakistan\",\"code\":\"PK\"},{\"name\":\"Palestine\",\"code\":\"US\"},{\"name\":\"Persia\",\"code\":\"IR\"},{\"name\":\"Peru\",\"code\":\"PE\"},{\"name\":\"Philippines\",\"code\":\"PH\"},{\"name\":\"Poland\",\"code\":\"PL\"},{\"name\":\"Poland, Russian Empire\",\"code\":\"PL\"},{\"name\":\"Portugal\",\"code\":\"PT\"},{\"name\":\"Prussia\",\"code\":\"PL\"},{\"name\":\"Puerto Rico\",\"code\":\"PR\"},{\"name\":\"Republic of Macedonia\",\"code\":\"MK\"},{\"name\":\"Romania\",\"code\":\"RO\"},{\"name\":\"Russia\",\"code\":\"RU\"},{\"name\":\"Russia, Soviet Union\",\"code\":\"RU\"},{\"name\":\"Russian Empire\",\"code\":\"AZ\"},{\"name\":\"Saint Lucia\",\"code\":\"LC\"},{\"name\":\"Schleswig\",\"code\":\"DE\"},{\"name\":\"Scotland\",\"code\":\"GB\"},{\"name\":\"Serbia\",\"code\":\"RS\"},{\"name\":\"Singapore\",\"code\":\"SG\"},{\"name\":\"Slovakia\",\"code\":\"SK\"},{\"name\":\"Slovenia\",\"code\":\"SI\"},{\"name\":\"South Africa\",\"code\":\"ZA\"},{\"name\":\"South Korea\",\"code\":\"KR\"},{\"name\":\"Southern Rhodesia\",\"code\":\"ZW\"},{\"name\":\"Spain\",\"code\":\"ES\"},{\"name\":\"Sweden\",\"code\":\"SE\"},{\"name\":\"Switzerland\",\"code\":\"CH\"},{\"name\":\"Taiwan\",\"code\":\"TW\"},{\"name\":\"the Netherlands\",\"code\":\"NL\"},{\"name\":\"Tibet\",\"code\":\"CN\"},{\"name\":\"Trinidad and Tobago\",\"code\":\"TT\"},{\"name\":\"Tunisia\",\"code\":\"TN\"},{\"name\":\"Turkey\",\"code\":\"TR\"},{\"name\":\"Tuscany\",\"code\":\"IT\"},{\"name\":\"Ukraine\",\"code\":\"UA\"},{\"name\":\"Union of South Africa\",\"code\":\"ZA\"},{\"name\":\"United Kingdom\",\"code\":\"GB\"},{\"name\":\"USA\",\"code\":\"US\"},{\"name\":\"USSR\",\"code\":\"RU\"},{\"name\":\"Venezuela\",\"code\":\"VE\"},{\"name\":\"Vietnam\",\"code\":\"VN\"},{\"name\":\"West Germany\",\"code\":\"DE\"},{\"name\":\"W\\u00fcrttemberg\",\"code\":\"DE\"},{\"name\":\"Yemen\",\"code\":\"YE\"},{\"name\":\"Yugoslavia\",\"code\":\"YU\"},{\"name\":\"Zambia\",\"code\":\"ZM\"},{\"name\":\"Zimbabwe\",\"code\":\"ZW\"}]}\n",
    "# Print :\n",
    "#   The country codes and country names as a list of tuples\n",
    "#   A list of the coutry codes in reverse alphabetical order\n",
    "#   A total of the number of countries\n",
    "\n",
    "countries_list = []\n",
    "for country in data['countries']:\n",
    "    try:\n",
    "        countries_list.append((country['code'], country['name']))\n",
    "    except:\n",
    "        countries_list.append(('N/A', country['name']))\n",
    "\n",
    "print(f'Country codes and country names as a list of tuples: \\n{countries_list}\\n')\n",
    "print(f'Reverse alphabetical by country code: \\n{sorted(countries_list)[::-1]}\\n')\n",
    "print(f'Total contries: {len(countries_list)}')"
   ]
  },
  {
   "cell_type": "code",
   "execution_count": 2,
   "metadata": {},
   "outputs": [
    {
     "name": "stdout",
     "output_type": "stream",
     "text": [
      "{'name': ['Morgan', 'Debra'], 'grades': {'Quiz-1': 93, 'Quiz-2': 95, 'Quiz-3': 90}, 'stats': {'mean': 92.66666666666667, 'median': 93, 'mode': 93}} \n",
      "\n",
      "{'name': ['Palmer', 'Sara'], 'grades': {'Quiz-1': 80, 'Quiz-2': 92, 'Quiz-3': 84}, 'stats': {'mean': 85.33333333333333, 'median': 84, 'mode': 80}} \n",
      "\n",
      "{'name': ['Delgado', 'Luis'], 'grades': {'Quiz-1': 88, 'Quiz-2': 94, 'Quiz-3': 88}, 'stats': {'mean': 90, 'median': 88, 'mode': 88}} \n",
      "\n",
      "{'name': ['Cruz', 'Maria'], 'grades': {'Quiz-1': 85, 'Quiz-2': 92, 'Quiz-3': 90}, 'stats': {'mean': 89, 'median': 90, 'mode': 85}} \n",
      "\n",
      "{'name': ['Korencho', 'Victor'], 'grades': {'Quiz-1': 88, 'Quiz-2': 97, 'Quiz-3': 93}, 'stats': {'mean': 92.66666666666667, 'median': 93, 'mode': 88}} \n",
      "\n"
     ]
    },
    {
     "data": {
      "text/plain": [
       "[None, None, None, None, None]"
      ]
     },
     "execution_count": 2,
     "metadata": {},
     "output_type": "execute_result"
    }
   ],
   "source": [
    "import statistics\n",
    "grades = {'100': {'Quiz-1': 80, 'Quiz-2': 92, 'Quiz-3': 84},\n",
    "         '101': {'Quiz-1': 93, 'Quiz-2': 95, 'Quiz-3': 90},\n",
    "         '102': {'Quiz-1': 88, 'Quiz-2': 94, 'Quiz-3': 88},\n",
    "         '103': {'Quiz-1': 88, 'Quiz-2': 97, 'Quiz-3': 93},\n",
    "         '104': {'Quiz-1': 85, 'Quiz-2': 92, 'Quiz-3': 90}}\n",
    "\n",
    "students = {'101': ['Morgan','Debra'],\n",
    "           '100': ['Palmer','Sara'],\n",
    "           '102': ['Delgado','Luis'],\n",
    "           '104': ['Cruz','Maria'],\n",
    "           '103': ['Korencho','Victor']}\n",
    "        \n",
    "stats = {}\n",
    "\n",
    "# 1 - Calculate the mean, median for each individual Quiz\n",
    "# For example: process the grades, and median for Quiz 1 then Quiz 2 then Quiz 3\n",
    "# 2 - Calculate the mean for each student:\n",
    "# Sample output --> 1 - last name, First initial Mean grade\n",
    "\n",
    "for student in students:\n",
    "    stats[student] = {\n",
    "        'name' : students[student], \n",
    "        'grades' : grades[student], \n",
    "        'stats' : {\n",
    "            'mean':statistics.mean([grades[student]['Quiz-1'],grades[student]['Quiz-2'],grades[student]['Quiz-3']]),\n",
    "            'median':statistics.median([grades[student]['Quiz-1'],grades[student]['Quiz-2'],grades[student]['Quiz-3']]),\n",
    "            'mode':statistics.mode([grades[student]['Quiz-1'],grades[student]['Quiz-2'],grades[student]['Quiz-3']])\n",
    "        }\n",
    "    }\n",
    "\n",
    "[print(stats[item],'\\n') for item in stats]"
   ]
  },
  {
   "cell_type": "code",
   "execution_count": 60,
   "metadata": {},
   "outputs": [
    {
     "name": "stdout",
     "output_type": "stream",
     "text": [
      "Average percentage of people likely to refuse the vaccine:\n",
      "12.024%\n",
      "\n",
      "States with over 60% vaccinated:\n",
      "['California', 'Colorado', 'Connecticut', 'Delaware', 'Florida', 'Illinois', 'Maine', 'Maryland', 'Massachusetts', 'Minnesota', 'New Hampshire', 'New Jersey', 'New Mexico', 'New York', 'Oregon', 'Pennsylvania', 'Rhode Island', 'Vermont', 'Virginia', 'Washington']\n",
      "\n"
     ]
    }
   ],
   "source": [
    "# Using the vax rate file show:\n",
    "#   The average percentage of people across states who refuse vaccination.\n",
    "#   The states where the vax rate is over 60% in population order\n",
    "\n",
    "covid_data = []\n",
    "with open('covid_vax_rates.txt') as file:\n",
    "    for line in file:\n",
    "        # remove (, % \\t \\n) characters and split the line into a list\n",
    "        line = line.strip().replace('%','').replace('\\t',' ').replace(',','').split(' ')\n",
    "        if len(line) > 5:\n",
    "            # Combine multi word state names into one string\n",
    "            line[0] = line[0]+ ' ' + line.pop(1)\n",
    "        covid_data.append(line)\n",
    "\n",
    "# Initializing Values\n",
    "mean_likely_to_refuse = 0\n",
    "states_vaxxed_over_60 = []\n",
    "\n",
    "# loop state data\n",
    "for state in covid_data[1:]:\n",
    "    # Total of 'percent likely to refuse' category\n",
    "    mean_likely_to_refuse += float(state[1])\n",
    "\n",
    "    \n",
    "    # If vax rate over 60, store the state name\n",
    "    if float(state[2]) > 60:\n",
    "        states_vaxxed_over_60.append(state[0])\n",
    "\n",
    "# Find the mean requested above\n",
    "mean_likely_to_refuse = mean_likely_to_refuse/len(covid_data[1:])\n",
    "\n",
    "# Anser 1 \n",
    "print(f'Average percentage of people likely to refuse the vaccine:\\n{mean_likely_to_refuse}%\\n')\n",
    "\n",
    "# Answer 2\n",
    "print(f'States with over 60% vaccinated:\\n{states_vaxxed_over_60}\\n')"
   ]
  }
 ],
 "metadata": {
  "interpreter": {
   "hash": "31f2aee4e71d21fbe5cf8b01ff0e069b9275f58929596ceb00d14d90e3e16cd6"
  },
  "kernelspec": {
   "display_name": "Python 3.8.9 64-bit",
   "language": "python",
   "name": "python3"
  },
  "language_info": {
   "codemirror_mode": {
    "name": "ipython",
    "version": 3
   },
   "file_extension": ".py",
   "mimetype": "text/x-python",
   "name": "python",
   "nbconvert_exporter": "python",
   "pygments_lexer": "ipython3",
   "version": "3.8.9"
  },
  "orig_nbformat": 4
 },
 "nbformat": 4,
 "nbformat_minor": 2
}
