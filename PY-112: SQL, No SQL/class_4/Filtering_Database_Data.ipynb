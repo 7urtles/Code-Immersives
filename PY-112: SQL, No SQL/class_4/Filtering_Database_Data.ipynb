{
 "cells": [
  {
   "cell_type": "code",
   "execution_count": 3,
   "metadata": {},
   "outputs": [],
   "source": [
    "import os\n",
    "import sqlite3\n",
    "from pathlib import Path"
   ]
  },
  {
   "cell_type": "code",
   "execution_count": 4,
   "metadata": {},
   "outputs": [],
   "source": [
    "# Creating a database:\n",
    "# If the database you try to connect to does not exist, it will be created\n",
    "connection = sqlite3.connect('test_database.db')"
   ]
  },
  {
   "cell_type": "code",
   "execution_count": 9,
   "metadata": {},
   "outputs": [],
   "source": [
    "# execute a structured language query (SQL) to make a table\n",
    "if not Path('test_database.db'):\n",
    "    connection.execute(\"create table customers (first_name text, last_name text, address text, city text, state text, zip text)\")\n",
    "\n",
    "# commit the changes or nothing will be saved\n",
    "connection.commit()\n",
    "\n",
    "# close the connection to database\n",
    "connection.close()"
   ]
  },
  {
   "cell_type": "code",
   "execution_count": 10,
   "metadata": {},
   "outputs": [
    {
     "name": "stdout",
     "output_type": "stream",
     "text": [
      "('customers',)\n"
     ]
    }
   ],
   "source": [
    "# viewing tables in a database\n",
    "connection = sqlite3.connect('test_database.db')\n",
    "\n",
    "# using 'sqlite_master' as a table name in a query will return the available tables\n",
    "table_names = connection.execute('select name from sqlite_master')\n",
    "for name in table_names:\n",
    "    print(name)\n",
    "\n",
    "# close the db when done. It's important yo\n",
    "connection.close()"
   ]
  },
  {
   "cell_type": "code",
   "execution_count": 3,
   "metadata": {},
   "outputs": [],
   "source": [
    "# inserting data into a table\n",
    "connection = sqlite3.connect('test_database.db')\n",
    "\n",
    "connection.execute(\"insert into customers values (?,?,?,?,?,?)\",('Charles2', 'Parmley', 'address', 'KC', 'MO', '64105'))\n",
    "connection.commit()\n",
    "connection.close()"
   ]
  },
  {
   "cell_type": "code",
   "execution_count": 6,
   "metadata": {},
   "outputs": [],
   "source": [
    "# Adding multiple values at once\n",
    "connection = sqlite3.connect('test_database.db')\n",
    "cur = connection.cursor()\n",
    "customers = [\n",
    "    ('Bill', 'Kay', 'address', 'Overland Park', 'MO', '64105'),\n",
    "    ('Steve', 'Johnson', 'address', 'Lenexa', 'MO', '64105'),\n",
    "    ('Mark', 'Ida', 'address', 'Blue Valley', 'MO', '64105'),\n",
    "    ('Roger', 'Bragent', 'address', 'Olathe', 'MO', '64105')\n",
    "]\n",
    "for customer in customers:\n",
    "    cur.execute(\"insert into customers values (?,?,?,?,?,?)\", customer)\n",
    "connection.commit()\n",
    "connection.close()"
   ]
  },
  {
   "cell_type": "code",
   "execution_count": 19,
   "metadata": {},
   "outputs": [
    {
     "name": "stdout",
     "output_type": "stream",
     "text": [
      "['KC', 'Overland Park', 'Lenexa', 'Blue Valley', 'Olathe']\n"
     ]
    }
   ],
   "source": [
    "# Reading from multiple rows at once\n",
    "connection = sqlite3.connect('test_database.db')\n",
    "cursor = connection.cursor()\n",
    "customers = connection.execute('select * from customers')\n",
    "\n",
    "cities = []\n",
    "for customer in customers:\n",
    "    cities.append(customer[3])\n",
    "print(cities)"
   ]
  },
  {
   "cell_type": "code",
   "execution_count": 21,
   "metadata": {},
   "outputs": [
    {
     "name": "stdout",
     "output_type": "stream",
     "text": [
      "['Blue Valley', 'KC', 'Lenexa', 'Olathe', 'Overland Park']\n",
      "['Overland Park', 'Olathe', 'Lenexa', 'KC', 'Blue Valley']\n"
     ]
    }
   ],
   "source": [
    "# Using core python put cities in alphabetical order\n",
    "sorted_cities = sorted(cities)\n",
    "print(sorted_cities)\n",
    "\n",
    "#to reverse it\n",
    "sorted_cities.reverse()\n",
    "print(sorted_cities)"
   ]
  },
  {
   "cell_type": "code",
   "execution_count": 14,
   "metadata": {},
   "outputs": [
    {
     "name": "stdout",
     "output_type": "stream",
     "text": [
      "['Blue Valley', 'KC', 'Lenexa', 'Olathe', 'Overland Park']\n"
     ]
    }
   ],
   "source": [
    "# Do the same in SQL using 'order by'\n",
    "connection = sqlite3.connect('test_database.db')\n",
    "cursor = connection.cursor()\n",
    "sorted_customers_by_city = cursor.execute('select * from customers order by city') # add 'desc' at the end for descending order\n",
    "\n",
    "sorted_cities  = []\n",
    "for customer in sorted_customers_by_city:\n",
    "    sorted_cities.append(customer[3])\n",
    "print(sorted_cities)"
   ]
  },
  {
   "cell_type": "code",
   "execution_count": 27,
   "metadata": {},
   "outputs": [
    {
     "name": "stdout",
     "output_type": "stream",
     "text": [
      "Charles\n",
      "Bill\n",
      "Steve\n",
      "Mark\n",
      "Roger\n",
      "1\n"
     ]
    }
   ],
   "source": [
    "# List all customers whos customers start with a certain letter\n",
    "connection = sqlite3.connect('test_database.db')\n",
    "cursor = connection.cursor()\n",
    "customers = cursor.execute('select * from customers')\n",
    "\n",
    "count = 0\n",
    "letter = 'C'\n",
    "for customer in customers:\n",
    "    print(customer[0])\n",
    "    if customer[0][0] == letter:\n",
    "        count += 1\n",
    "print(f'{letter} : {count}')"
   ]
  },
  {
   "cell_type": "code",
   "execution_count": 46,
   "metadata": {},
   "outputs": [
    {
     "name": "stdout",
     "output_type": "stream",
     "text": [
      "{'Charles': 1, 'Bill': 1, 'Steve': 1, 'Mark': 1, 'Roger': 1}\n"
     ]
    }
   ],
   "source": [
    "# Return a count of all customer names with the number of times the first name occurs\n",
    "connection = sqlite3.connect('test_database.db')\n",
    "cursor = connection.cursor()\n",
    "customers = cursor.execute('select * from customers')\n",
    "\n",
    "# Change the cursor object into a list\n",
    "customers = list(customers)\n",
    "\n",
    "\n",
    "# Store customers first names\n",
    "names = [customer[0] for customer in customers]\n",
    "name_dict ={name : names.count(name) for name in names}\n",
    "\n",
    "\n",
    "print(name_dict)\n"
   ]
  },
  {
   "cell_type": "code",
   "execution_count": 48,
   "metadata": {},
   "outputs": [
    {
     "name": "stdout",
     "output_type": "stream",
     "text": [
      "[('Charles', 'Parmley', 'address', 'KC', 'MO', '64105'), ('Bill', 'Kay', 'address', 'Overland Park', 'MO', '64105'), ('Steve', 'Johnson', 'address', 'Lenexa', 'MO', '64105'), ('Mark', 'Ida', 'address', 'Blue Valley', 'MO', '64105'), ('Roger', 'Bragent', 'address', 'Olathe', 'MO', '64105')]\n"
     ]
    }
   ],
   "source": [
    "# fetchall()\n",
    "connection = sqlite3.connect('test_database.db')\n",
    "cursor = connection.cursor()\n",
    "\n",
    "# Grab the table items you want\n",
    "cursor.execute('select * from customers')\n",
    "\n",
    "# use .fetchall() on the cursor object to store them as a list of tuples\n",
    "customers = cursor.fetchall()\n",
    "print(customers)"
   ]
  },
  {
   "cell_type": "code",
   "execution_count": 51,
   "metadata": {},
   "outputs": [
    {
     "name": "stdout",
     "output_type": "stream",
     "text": [
      "[('Charles', 'Parmley', 'address', 'KC', 'MO', '64105'), ('Bill', 'Kay', 'address', 'Overland Park', 'MO', '64105')]\n"
     ]
    }
   ],
   "source": [
    "# fetchmany()\n",
    "connection = sqlite3.connect('test_database.db')\n",
    "cursor = connection.cursor()\n",
    "\n",
    "cursor.execute('select * from customers')\n",
    "\n",
    "amount_of_customers_specified = cursor.fetchmany(2)\n",
    "\n",
    "print(amount_of_customers_specified)"
   ]
  },
  {
   "cell_type": "code",
   "execution_count": 83,
   "metadata": {},
   "outputs": [
    {
     "name": "stdout",
     "output_type": "stream",
     "text": [
      "[('Charles', 'Parmley', 'address', 'KC', 'MO', '64105')]\n"
     ]
    }
   ],
   "source": [
    "# using the 'where' clause to fetchone()\n",
    "connection = sqlite3.connect('test_database.db')\n",
    "cursor = connection.cursor()\n",
    "\n",
    "name = 'Charles'\n",
    "city = 'KC'\n",
    "specified_customers = cursor.execute(\"select * from customers where first_name = 'Charles'\")\n",
    "\n",
    "customers = [customer for customer in specified_customers]\n",
    "print(customers)\n",
    "connection.close()"
   ]
  },
  {
   "cell_type": "code",
   "execution_count": 84,
   "metadata": {},
   "outputs": [],
   "source": [
    "# Createa a table called departments\n",
    "'''\n",
    "\n",
    "Table structure:\n",
    "department_code text, department_name text\n",
    "\n",
    "'''\n",
    "\n",
    "connection = sqlite3.connect('test_database.db')\n",
    "cursor.execute('create table departments (department_code text, department_name text)')\n",
    "connection.commit()\n",
    "connection.close()"
   ]
  },
  {
   "cell_type": "code",
   "execution_count": 105,
   "metadata": {},
   "outputs": [],
   "source": [
    "# fill department table with data\n",
    "departments = [\n",
    "('FIN', 'Finance'),\n",
    "('ACC', 'Accounting'),\n",
    "('HR', 'Human Resources'),\n",
    "('I.T.', 'Information Technology'),\n",
    "('BACK', 'Back Office'),\n",
    "('SALE', 'Sales'),\n",
    "]\n",
    "\n",
    "connection = sqlite3.connect('test_database.db')\n",
    "\n",
    "# list comprehension to add values ----- slow vs executemany() I think?\n",
    "# [connection.execute('insert into departments values(?,?)',(department[0],department[1])) for department in departments]\n",
    "\n",
    "# The better practice is to use .executemany() to insert multiple values\n",
    "connection.executemany('insert into departments values(?,?)', departments)\n",
    "connection.commit()\n",
    "connection.close()"
   ]
  },
  {
   "cell_type": "code",
   "execution_count": 110,
   "metadata": {},
   "outputs": [
    {
     "name": "stdout",
     "output_type": "stream",
     "text": [
      "[('ACC', 'Accounting'), ('BACK', 'Back Office'), ('SALE', 'Sales')]\n"
     ]
    }
   ],
   "source": [
    "# List all department codes with a inside it using python to filter\n",
    "connection = sqlite3.connect('test_database.db')\n",
    "cursor = connection.cursor()\n",
    "\n",
    "department_data = cursor.execute('select * from departments')\n",
    "print([department for department in department_data if 'A' in department[0]])\n",
    "connection.close()\n"
   ]
  },
  {
   "cell_type": "code",
   "execution_count": 134,
   "metadata": {},
   "outputs": [
    {
     "name": "stdout",
     "output_type": "stream",
     "text": [
      "('FIN',)\n",
      "('ACC',)\n",
      "('HR',)\n",
      "('I.T.',)\n",
      "('BACK',)\n",
      "('SALE',)\n"
     ]
    }
   ],
   "source": [
    "# List all department codes with a inside it using SQL syntax to filter\n",
    "\n",
    "'''\n",
    "LIKE ‘a%’ - Searches for all the values starting with a.\n",
    "\n",
    "LIKE ‘%a’  -Searches for all the values which end with a.\n",
    "\n",
    "LIKE ‘_a%’ - Searches for all the values where ‘a’ is at the second position. \n",
    "    -The '_' represents a single character, the second character must be ‘a’ and \n",
    "     after 'a' there might be some characters present or not.\n",
    "'''\n",
    "\n",
    "\n",
    "connection = sqlite3.connect('test_database.db')\n",
    "cursor = connection.cursor()\n",
    "items = cursor.execute(\"select department_code from departments where department_code not like 'A'\")\n",
    "\n",
    "[print(item) for item in items]\n",
    "connection.close()"
   ]
  },
  {
   "cell_type": "code",
   "execution_count": 135,
   "metadata": {},
   "outputs": [],
   "source": [
    "# Homework: \n",
    "    # Iterate department names and return:\n",
    "        # count of each letter regardless of case\n",
    "        # count of blank spaces\n",
    "        # list of letters found in alphabetic order\n",
    "\n"
   ]
  },
  {
   "cell_type": "code",
   "execution_count": null,
   "metadata": {},
   "outputs": [],
   "source": []
  }
 ],
 "metadata": {
  "interpreter": {
   "hash": "aee8b7b246df8f9039afb4144a1f6fd8d2ca17a180786b69acc140d282b71a49"
  },
  "kernelspec": {
   "display_name": "Python 3.10.0 64-bit",
   "name": "python3"
  },
  "language_info": {
   "codemirror_mode": {
    "name": "ipython",
    "version": 3
   },
   "file_extension": ".py",
   "mimetype": "text/x-python",
   "name": "python",
   "nbconvert_exporter": "python",
   "pygments_lexer": "ipython3",
   "version": "3.10.0"
  },
  "orig_nbformat": 4
 },
 "nbformat": 4,
 "nbformat_minor": 2
}
