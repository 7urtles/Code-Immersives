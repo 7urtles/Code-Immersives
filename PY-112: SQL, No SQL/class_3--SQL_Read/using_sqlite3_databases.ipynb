{
 "cells": [
  {
   "cell_type": "code",
   "execution_count": 2,
   "metadata": {},
   "outputs": [],
   "source": [
    "import sqlite3\n",
    "from pathlib import Path"
   ]
  },
  {
   "cell_type": "code",
   "execution_count": 5,
   "metadata": {},
   "outputs": [],
   "source": [
    "# Creating a database:\n",
    "# If the database you try to connect to does not exist, it will be created\n",
    "connection = sqlite3.connect('test_database.db')"
   ]
  },
  {
   "cell_type": "code",
   "execution_count": 9,
   "metadata": {},
   "outputs": [],
   "source": [
    "# execute a structured language query (SQL) to make a table\n",
    "if not Path('test_database.db'):\n",
    "    connection.execute(\"create table customers (first_name text, last_name text, address text, city text, state text, zip text)\")\n",
    "\n",
    "# commit the changes or nothing will be saved\n",
    "connection.commit()\n",
    "\n",
    "# close the connection to database\n",
    "connection.close()"
   ]
  },
  {
   "cell_type": "code",
   "execution_count": 10,
   "metadata": {},
   "outputs": [
    {
     "name": "stdout",
     "output_type": "stream",
     "text": [
      "('customers',)\n"
     ]
    }
   ],
   "source": [
    "# viewing tables in a database\n",
    "connection = sqlite3.connect('test_database.db')\n",
    "\n",
    "# using 'sqlite_master' as a table name in a query will return the available tables\n",
    "table_names = connection.execute('select name from sqlite_master')\n",
    "for name in table_names:\n",
    "    print(name)\n",
    "\n",
    "# close the db when done. It's important yo\n",
    "connection.close()"
   ]
  },
  {
   "cell_type": "code",
   "execution_count": 3,
   "metadata": {},
   "outputs": [],
   "source": [
    "# inserting data into a table\n",
    "connection = sqlite3.connect('test_database.db')\n",
    "\n",
    "connection.execute(\"insert into customers values (?,?,?,?,?,?)\",('Charles2', 'Parmley', 'address', 'KC', 'MO', '64105'))\n",
    "connection.commit()\n",
    "connection.close()"
   ]
  },
  {
   "cell_type": "code",
   "execution_count": 6,
   "metadata": {},
   "outputs": [],
   "source": [
    "# Adding multiple values at once\n",
    "connection = sqlite3.connect('test_database.db')\n",
    "cur = connection.cursor()\n",
    "customers = [\n",
    "    ('Bill', 'Kay', 'address', 'Overland Park', 'MO', '64105'),\n",
    "    ('Steve', 'Johnson', 'address', 'Lenexa', 'MO', '64105'),\n",
    "    ('Mark', 'Ida', 'address', 'Blue Valley', 'MO', '64105'),\n",
    "    ('Roger', 'Bragent', 'address', 'Olathe', 'MO', '64105')\n",
    "]\n",
    "for customer in customers:\n",
    "    cur.execute(\"insert into customers values (?,?,?,?,?,?)\", customer)\n",
    "connection.commit()\n",
    "connection.close()"
   ]
  },
  {
   "cell_type": "code",
   "execution_count": 9,
   "metadata": {},
   "outputs": [
    {
     "name": "stdout",
     "output_type": "stream",
     "text": [
      "['KC', 'Overland Park', 'Lenexa', 'Blue Valley', 'Olathe']\n"
     ]
    }
   ],
   "source": [
    "# Reading from multiple rows at once\n",
    "connection = sqlite3.connect('test_database.db')\n",
    "cursor = connection.cursor()\n",
    "customers = connection.execute('select * from customers')\n",
    "\n",
    "cities = []\n",
    "for customer in customers:\n",
    "    cities.append(customer[3])\n",
    "print(cities)\n",
    "\n"
   ]
  }
 ],
 "metadata": {
  "interpreter": {
   "hash": "c6e4e9f98eb68ad3b7c296f83d20e6de614cb42e90992a65aa266555a3137d0d"
  },
  "kernelspec": {
   "display_name": "Python 3.9.6 64-bit ('base': conda)",
   "name": "python3"
  },
  "language_info": {
   "codemirror_mode": {
    "name": "ipython",
    "version": 3
   },
   "file_extension": ".py",
   "mimetype": "text/x-python",
   "name": "python",
   "nbconvert_exporter": "python",
   "pygments_lexer": "ipython3",
   "version": "3.9.6"
  },
  "orig_nbformat": 4
 },
 "nbformat": 4,
 "nbformat_minor": 2
}
