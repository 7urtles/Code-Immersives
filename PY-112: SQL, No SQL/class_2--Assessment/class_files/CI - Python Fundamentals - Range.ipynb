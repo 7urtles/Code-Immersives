{
 "cells": [
  {
   "cell_type": "markdown",
   "metadata": {},
   "source": [
    "<a href=\"https://codeimmersives.com\"><img src = \"https://www.codeimmersives.com/wp-content/uploads/2019/09/CodeImmersives_Logo_RGB_NYC_BW.png\" width = 400> </a>\n",
    "\n",
    "\n",
    "<h1 align=center><font size = 5>Agenda</font></h1>"
   ]
  },
  {
   "cell_type": "code",
   "execution_count": null,
   "metadata": {},
   "outputs": [],
   "source": []
  },
  {
   "cell_type": "markdown",
   "metadata": {},
   "source": [
    "<h2>Range</h2>\n",
    "The range function is a flexible python built in function used to<br>\n",
    "create a series of numbers.  The range function returns a range object.<br>\n",
    "To get the results cast the range object as a list or iterate through the <br>\n",
    "range object.<br>"
   ]
  },
  {
   "cell_type": "markdown",
   "metadata": {},
   "source": [
    "To generate a list of 10 numbers 0 through 9 type:<br>\n",
    "<code>\n",
    "x = range(10)\n",
    "for i in x:\n",
    "    print(i)\n",
    "</code>\n",
    "<br>\n"
   ]
  },
  {
   "cell_type": "code",
   "execution_count": 14,
   "metadata": {},
   "outputs": [
    {
     "name": "stdout",
     "output_type": "stream",
     "text": [
      "0\n",
      "1\n",
      "2\n",
      "3\n",
      "4\n",
      "5\n",
      "6\n",
      "7\n",
      "8\n",
      "9\n"
     ]
    }
   ],
   "source": [
    "x = range(10)\n",
    "for i in x:\n",
    "    print(i)"
   ]
  },
  {
   "cell_type": "markdown",
   "metadata": {},
   "source": [
    "If we assign a variable to the output of a range statement<br>\n",
    "we have to use the list() function to cast the variable to<br>\n",
    "see the elements.<br>\n",
    "<code>\n",
    "x = range(10)\n",
    "print(x)\n",
    "</code>\n",
    "<br>\n",
    "Will return:<br>\n",
    "<code>\n",
    "range(0, 10)\n",
    "</code><br>\n",
    "To see all of the range object elements convert it to a list<br>\n",
    "<code>\n",
    "x = range(10)\n",
    "print(list(x))\n",
    "</code><br>\n",
    "Will return:<br>\n",
    "<code>\n",
    "[0, 1, 2, 3, 4, 5, 6, 7, 8, 9]\n",
    "</code>"
   ]
  },
  {
   "cell_type": "markdown",
   "metadata": {},
   "source": [
    "If you type:<br><br>\n",
    "<code>\n",
    "x = range(0)\n",
    "print(list(x))\n",
    "\n",
    "'''Does not run the print statement'''\n",
    "for i in x:\n",
    "    print(i)\n",
    "</code><br><br>\n",
    "It will return an empty list"
   ]
  },
  {
   "cell_type": "code",
   "execution_count": 7,
   "metadata": {},
   "outputs": [
    {
     "name": "stdout",
     "output_type": "stream",
     "text": [
      "range(0, -10)\n",
      "[]\n",
      "\n"
     ]
    }
   ],
   "source": []
  },
  {
   "cell_type": "markdown",
   "metadata": {},
   "source": [
    "If you enter a negative number as a parameter to the range function it<br>\n",
    "creates a range object but it is empty.<br><br>\n",
    "<code>\n",
    "x = range(-10)\n",
    "print(x)\n",
    "print(list(x))\n",
    "\n",
    "for i in x:\n",
    "    print(i,end=',')\n",
    "print()\n",
    "</code>\n",
    "<br>"
   ]
  },
  {
   "cell_type": "markdown",
   "metadata": {},
   "source": [
    "Therefore the range function will take any object that resolves to an integer<br>\n",
    "as an input parameter.  <br>\n",
    "<code>\n",
    "x = [3,2,5,7,4]\n",
    "for i in range(len(x)):\n",
    "    print(x[i], endl = ',')  # Use the index of the list to get the values\n",
    "print()\n",
    "</code>\n",
    "<br>\n",
    "NOTE: You must use the index of the original list which is controlled by i to<br>\n",
    "get x[i]   <br>"
   ]
  },
  {
   "cell_type": "markdown",
   "metadata": {},
   "source": [
    "<h2>Range optional parameters</h2>\n",
    "You can use the range optional parameters.  The 2nd parameter passed<br>\n",
    "tells the range object the end point.  The default is counting by 1.<br>\n",
    "For example:<br>\n",
    "<code>\n",
    "for i in range(10,21):\n",
    "    print(i,endl=', ')\n",
    "print()\n",
    "</code>\n",
    "<br>\n",
    "This will count the numbers from 10 to 20.<br> <br>\n",
    "NOTE: The range object will go from the beginning number to 1 less than the end number. <br>\n"
   ]
  },
  {
   "cell_type": "code",
   "execution_count": 14,
   "metadata": {},
   "outputs": [
    {
     "name": "stdout",
     "output_type": "stream",
     "text": [
      "10,11,12,13,14,15,16,17,18,19,20,\n"
     ]
    }
   ],
   "source": [
    "for i in range(10,21):\n",
    "    print(i,end=',')\n",
    "print()"
   ]
  },
  {
   "cell_type": "markdown",
   "metadata": {},
   "source": [
    "The range function can also count starting from negative numbers<br>\n",
    "To print the numbers -10 to 0 type:<br><br>\n",
    "<code>\n",
    "for i in range(-10,1):\n",
    "    print(i)\n",
    "</code>"
   ]
  },
  {
   "cell_type": "markdown",
   "metadata": {},
   "source": [
    "Lastly, the range function will take a 3rd parameter called the<br>\n",
    "step.  The step tells you how many numbers to skip in the series.<br>\n",
    "To print all of the odd numbers from 100 to 120 type the following:\n",
    "<br>\n",
    "<code>\n",
    "for i in range(101,120,2):\n",
    "    print(i,end=',')\n",
    "</code>\n",
    "<br>"
   ]
  },
  {
   "cell_type": "code",
   "execution_count": 16,
   "metadata": {},
   "outputs": [
    {
     "name": "stdout",
     "output_type": "stream",
     "text": [
      "101,103,105,107,109,111,113,115,117,119,"
     ]
    }
   ],
   "source": [
    "for i in range(101,120,2):\n",
    "    print(i,end=',')"
   ]
  },
  {
   "cell_type": "markdown",
   "metadata": {},
   "source": [
    "The step parameter can also be a negative number which will allow<br>\n",
    "you to count backwards.  For example: <br>\n",
    "<code>\n",
    "for i in range(10,-1,-1):\n",
    "    print(i,end=',')\n",
    "</code>"
   ]
  },
  {
   "cell_type": "code",
   "execution_count": 17,
   "metadata": {},
   "outputs": [
    {
     "name": "stdout",
     "output_type": "stream",
     "text": [
      "10,9,8,7,6,5,4,3,2,1,0,"
     ]
    }
   ],
   "source": [
    "for i in range(10,-1,-1):\n",
    "    print(i,end=',')"
   ]
  },
  {
   "cell_type": "markdown",
   "metadata": {},
   "source": [
    "<h2>Exercise</h2>\n",
    "1 - You have the following string and want to print out<br>\n",
    "every 3rd character.<br>\n",
    "<code>\n",
    "phrase = 'Learning at Code Immersives is challenging, but fun'\n",
    "</code>\n",
    "<br>\n",
    "2 - Print the answer as a string with no spaces or commas"
   ]
  },
  {
   "cell_type": "markdown",
   "metadata": {},
   "source": [
    "<h4>Solution</h4>"
   ]
  },
  {
   "cell_type": "code",
   "execution_count": 29,
   "metadata": {},
   "outputs": [
    {
     "name": "stdout",
     "output_type": "stream",
     "text": [
      "a,i, , ,d,I,e,i,s,s,h,l,g,g,b, ,n,\n",
      "['a', 'i', ' ', ' ', 'd', 'I', 'e', 'i', 's', 's', 'h', 'l', 'g', 'g', 'b', ' ', 'n']\n",
      "\n",
      "aidIeisshlggbn\n"
     ]
    }
   ],
   "source": [
    "phrase = 'Learning at Code Immersives is challenging, but fun'\n",
    "for i in range(2,len(phrase),3):\n",
    "    print(phrase[i], end=',')\n",
    "#\n",
    "# list comprehension\n",
    "print()\n",
    "res = [phrase[x] for x in range(2,len(phrase),3)]\n",
    "print(res)\n",
    "#\n",
    "print()\n",
    "res = ''.join([phrase[x].strip() for x in range(2,len(phrase),3) if x])\n",
    "print(res)"
   ]
  },
  {
   "cell_type": "code",
   "execution_count": 26,
   "metadata": {},
   "outputs": [
    {
     "name": "stdout",
     "output_type": "stream",
     "text": [
      "\n"
     ]
    }
   ],
   "source": [
    "x = ' '\n",
    "print(x.strip())"
   ]
  },
  {
   "cell_type": "markdown",
   "metadata": {},
   "source": [
    "<h2>Exercise</h2>\n",
    "Print all of the odd numbers between 50 and 100"
   ]
  },
  {
   "cell_type": "markdown",
   "metadata": {},
   "source": [
    "<h4>Solution</h4>"
   ]
  },
  {
   "cell_type": "code",
   "execution_count": 30,
   "metadata": {},
   "outputs": [
    {
     "name": "stdout",
     "output_type": "stream",
     "text": [
      "[51, 53, 55, 57, 59, 61, 63, 65, 67, 69, 71, 73, 75, 77, 79, 81, 83, 85, 87, 89, 91, 93, 95, 97, 99]\n"
     ]
    }
   ],
   "source": [
    "print([x for x in range(50,101) if x % 2 == 1])"
   ]
  },
  {
   "cell_type": "markdown",
   "metadata": {},
   "source": [
    "This notebook is part of a course at www.codeimmersives.com . If you accessed this notebook outside the course, you can get more information about this course online by clicking here."
   ]
  },
  {
   "cell_type": "markdown",
   "metadata": {},
   "source": [
    "<hr>\n",
    "\n",
    "Copyright &copy; 2021  Code Immersives"
   ]
  }
 ],
 "metadata": {
  "kernelspec": {
   "display_name": "Python 3",
   "language": "python",
   "name": "python3"
  },
  "language_info": {
   "codemirror_mode": {
    "name": "ipython",
    "version": 3
   },
   "file_extension": ".py",
   "mimetype": "text/x-python",
   "name": "python",
   "nbconvert_exporter": "python",
   "pygments_lexer": "ipython3",
   "version": "3.8.7"
  }
 },
 "nbformat": 4,
 "nbformat_minor": 4
}
