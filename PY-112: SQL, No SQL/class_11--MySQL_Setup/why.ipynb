{
 "cells": [
  {
   "cell_type": "code",
   "execution_count": 4,
   "metadata": {},
   "outputs": [],
   "source": [
    "import sqlite3\n",
    "\n",
    "line_elements = []\n",
    "with open('employee_data.csv') as f:\n",
    "    headLine = f.readline()\n",
    "    content = f.readlines()\n",
    "    for emp in (content):\n",
    "        line_elements.append(emp.replace(\"'\",'').replace(\"\\n\",'').split(','))\n",
    "\n",
    "conn = sqlite3.connect('employee_table.db')  # <== create the database\n",
    "c = conn.cursor()\n",
    "c.executescript('''\n",
    "    create table IF NOT EXISTS employees (\n",
    "        emp_id TEXT,\n",
    "        marital_status TEXT,\n",
    "        last_name TEXT,\n",
    "        first_name TEXT,\n",
    "        hire_date TEXT,\n",
    "        gender TEXT,\n",
    "        dept_id TEXT,\n",
    "        dept_name TEXT,\n",
    "        manager_id INT,\n",
    "        status TEXT,\n",
    "        term_date TEXT,\n",
    "        region TEXT,\n",
    "        sick_days_accumulated INTEGER,\n",
    "        sick_day1 INTEGER,\n",
    "        sick_day2 INTEGER,\n",
    "        sick_day3 INTEGER\n",
    "    );\n",
    "    ''')\n",
    "for employee in line_elements:\n",
    "    c.execute('''INSERT INTO employees VALUES (?,?,?,?,?,?,?,?,?,?,?,?,?,?,?,?)''', (employee))\n",
    "conn.commit()"
   ]
  }
 ],
 "metadata": {
  "interpreter": {
   "hash": "31f2aee4e71d21fbe5cf8b01ff0e069b9275f58929596ceb00d14d90e3e16cd6"
  },
  "kernelspec": {
   "display_name": "Python 3.8.9 64-bit",
   "name": "python3"
  },
  "language_info": {
   "codemirror_mode": {
    "name": "ipython",
    "version": 3
   },
   "file_extension": ".py",
   "mimetype": "text/x-python",
   "name": "python",
   "nbconvert_exporter": "python",
   "pygments_lexer": "ipython3",
   "version": "3.8.9"
  },
  "orig_nbformat": 4
 },
 "nbformat": 4,
 "nbformat_minor": 2
}
