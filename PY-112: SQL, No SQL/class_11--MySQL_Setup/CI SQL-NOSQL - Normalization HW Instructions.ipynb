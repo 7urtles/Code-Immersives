{
 "cells": [
  {
   "cell_type": "markdown",
   "metadata": {},
   "source": [
    "<h1>Instructions</h1>\n",
    "Normalize the following block of data by copying the data below, except the triple quotes, <br>\n",
    "and placing the data in a file called employee_data.csv<br>\n",
    "1 - Import the file using core python<br>\n",
    "2 - Normalize the data and separate into component tables<br>\n",
    "3 - Use SQL to create the tables and populate them<br>\n",
    "4 - Answer the following questions using SQL<br>\n",
    "- Provide a count of the employees by gender<br>\n",
    "- Provide a count of the employees by dept name<br>\n",
    "- Provide a list of employees in last name, first name order<br>\n",
    "- Provide a list of employees in tenure order (active employees only) in descending order<br>\n",
    "- Provide a list of employees by manager name in alphabetical order by last name<br>\n",
    "- Provide a list of employees by region<br>\n",
    "- Provide a list of employees who have exceeded their allotment of sick days<br>"
   ]
  },
  {
   "cell_type": "code",
   "execution_count": 24,
   "metadata": {},
   "outputs": [],
   "source": [
    "import sqlite3\n",
    "employee_data = []\n",
    "with open('data.csv', 'r') as file:\n",
    "    for line in file:\n",
    "        employee_data.append(line.replace(\"'\",'').split(',')[1:])\n",
    "\n",
    "connection = sqlite3.connect('employee_data.db')\n",
    "cursor = connection.cursor()\n",
    "cursor.execute('''create table if not exists employees (\n",
    "    marital_status text, \n",
    "    last_name text, \n",
    "    first_name text, \n",
    "     hire_date text, \n",
    "     gender text, \n",
    "     dept_id text, \n",
    "     dept_name text, \n",
    "    manager_id text, \n",
    "    status text, \n",
    "    term_date text, \n",
    "    region text, \n",
    "    sick_days_accumulated text, \n",
    "    sick_day1 text, \n",
    "    sick_day2 text, \n",
    "    sick_day3 text\n",
    ")''')\n",
    "\n",
    "for employee in employee_data[1:]:\n",
    "    cursor.execute('''insert into employees values (?,?,?,?,?,?,?,?,?,?,?,?,?,?,?)''', (employee))\n",
    "\n",
    "connection.commit()\n",
    "connection.close()"
   ]
  },
  {
   "cell_type": "code",
   "execution_count": 26,
   "metadata": {},
   "outputs": [
    {
     "name": "stdout",
     "output_type": "stream",
     "text": [
      "Male employees: 18 \n",
      "Female employees: 19\n"
     ]
    }
   ],
   "source": [
    "import sqlite3\n",
    "\n",
    "male_employees = []\n",
    "female_employees = []\n",
    "\n",
    "connection = sqlite3.connect('employee_data.db')\n",
    "cursor = connection.cursor()\n",
    "# employees by name\n",
    "male = list(cursor.execute(\"\"\"select * from employees where gender = 'Male'\"\"\"))\n",
    "female = list(cursor.execute(\"\"\"select * from employees where gender = 'Female'\"\"\"))\n",
    "\n",
    "# by department name\n",
    "male = list(cursor.execute(\"\"\"select * from employees where gender = 'Male'\"\"\"))\n",
    "connection.close()\n",
    "\n",
    "print(f'Male employees: {len(male)} \\nFemale employees: {len(female)}')"
   ]
  }
 ],
 "metadata": {
  "interpreter": {
   "hash": "31f2aee4e71d21fbe5cf8b01ff0e069b9275f58929596ceb00d14d90e3e16cd6"
  },
  "kernelspec": {
   "display_name": "Python 3.8.9 64-bit",
   "name": "python3"
  },
  "language_info": {
   "codemirror_mode": {
    "name": "ipython",
    "version": 3
   },
   "file_extension": ".py",
   "mimetype": "text/x-python",
   "name": "python",
   "nbconvert_exporter": "python",
   "pygments_lexer": "ipython3",
   "version": "3.8.9"
  }
 },
 "nbformat": 4,
 "nbformat_minor": 4
}
