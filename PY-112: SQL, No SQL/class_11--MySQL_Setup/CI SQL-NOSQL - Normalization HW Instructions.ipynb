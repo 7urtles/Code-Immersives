{
 "cells": [
  {
   "cell_type": "markdown",
   "metadata": {},
   "source": [
    "<h1>Instructions</h1>\n",
    "Normalize the following block of data by copying the data below, except the triple quotes, <br>\n",
    "and placing the data in a file called employee_data.csv<br>\n",
    "1 - Import the file using core python<br>\n",
    "2 - Normalize the data and separate into component tables<br>\n",
    "3 - Use SQL to create the tables and populate them<br>\n",
    "4 - Answer the following questions using SQL<br>\n",
    "- Provide a count of the employees by gender<br>\n",
    "- Provide a count of the employees by dept name<br>\n",
    "- Provide a list of employees in last name, first name order<br>\n",
    "- Provide a list of employees in tenure order (active employees only) in descending order<br>\n",
    "- Provide a list of employees by manager name in alphabetical order by last name<br>\n",
    "- Provide a list of employees by region<br>\n",
    "- Provide a list of employees who have exceeded their allotment of sick days<br>"
   ]
  },
  {
   "cell_type": "code",
   "execution_count": 320,
   "metadata": {},
   "outputs": [],
   "source": [
    "import sqlite3\n",
    "employee_data = []\n",
    "with open('employee_data.csv', 'r') as file:\n",
    "    for line in file:\n",
    "        employee_data.append(line.replace(\"'\",'').split(',')[1:])\n",
    "\n",
    "connection = sqlite3.connect('employee_data.db')\n",
    "cursor = connection.cursor()\n",
    "cursor.execute('''create table if not exists employees (\n",
    "    marital_status text, \n",
    "    last_name text, \n",
    "    first_name text, \n",
    "    hire_date text, \n",
    "    gender text, \n",
    "    dept_id text, \n",
    "    dept_name text, \n",
    "    manager_id int, \n",
    "    status text, \n",
    "    term_date text, \n",
    "    region text, \n",
    "    sick_days_accumulated text, \n",
    "    sick_day1 text, \n",
    "    sick_day2 text, \n",
    "    sick_day3 text\n",
    ")''')\n",
    "\n",
    "for employee in employee_data[1:]:\n",
    "    cursor.execute('''insert into employees values (?,?,?,?,?,?,?,?,?,?,?,?,?,?,?)''', (employee))\n",
    "\n",
    "connection.commit()\n",
    "connection.close()"
   ]
  },
  {
   "cell_type": "code",
   "execution_count": 321,
   "metadata": {},
   "outputs": [
    {
     "name": "stdout",
     "output_type": "stream",
     "text": [
      "Accounting [('Rivera', 'Jewels'), ('Freach', 'Greta'), ('Gantt', 'Jackson'), ('Davidson', 'Wilma'), ('Xi', 'Yu'), ('Martinez', 'Margarita'), ('Regis', 'Lucy')] \n",
      "\n",
      "Information Technology [('Jones', 'Pamala'), ('Ramos', 'Diego'), ('Sanchez', 'Jorge'), ('Sung', 'Henry'), ('Pollard', 'Franz'), ('Keller', 'Bradley'), ('Lagos', 'Leeland'), ('Holland', 'Henry'), ('Torrez', 'Lea')] \n",
      "\n",
      "Warehouse [('Sing', 'Hu'), ('Breen', 'Margret'), ('Opus', 'Oliver'), ('Lee', 'Tatum'), ('Jackson', 'Jessica'), ('Forrest', 'Peter'), ('Jones', 'Jessica')] \n",
      "\n",
      "Executive [('Saulzman', 'Randle')] \n",
      "\n",
      "Finance [('Davidson', 'Fred'), ('Williams', 'William'), ('Davis', 'Elizabeth'), ('Jarvis', 'Melvin'), ('Quinones', 'Maribel'), ('Nulland', 'Nicholas'), ('Saunders', 'Asia')] \n",
      "\n",
      "Human Resources [('Ellis', 'Francis'), ('Yee', 'Sue'), ('Tate', 'Rachael'), ('Williamson', 'Ursula'), ('French', 'Sara'), ('Ute', 'Ulsula')] \n",
      "\n"
     ]
    },
    {
     "data": {
      "text/plain": [
       "[None, None, None, None, None, None]"
      ]
     },
     "execution_count": 321,
     "metadata": {},
     "output_type": "execute_result"
    }
   ],
   "source": [
    "import sqlite3\n",
    "\n",
    "male_employees = []\n",
    "female_employees = []\n",
    "\n",
    "connection = sqlite3.connect('employee_data.db')\n",
    "cursor = connection.cursor()\n",
    "\n",
    "# employees by name\n",
    "male = list(cursor.execute(\"\"\"select * from employees where gender = 'Male'\"\"\"))\n",
    "female = list(cursor.execute(\"\"\"select * from employees where gender = 'Female'\"\"\"))\n",
    "\n",
    "# get department names\n",
    "department_names = set(cursor.execute(\"\"\"select dept_name from employees\"\"\"))\n",
    "department_names = [name[0] for name in department_names]\n",
    "\n",
    "# Count of employeess by department name\n",
    "by_department={}\n",
    "for department in department_names:\n",
    "    by_department[department] = list(cursor.execute(\"select last_name,first_name from employees where dept_name = ?\",(department,)))    \n",
    "[print(department,by_department[department],'\\n') for department in by_department]\n",
    "\n"
   ]
  },
  {
   "cell_type": "code",
   "execution_count": 322,
   "metadata": {},
   "outputs": [
    {
     "name": "stdout",
     "output_type": "stream",
     "text": [
      "Breen Margret\n",
      "Davidson Fred\n",
      "Davidson Wilma\n",
      "Davis Elizabeth\n",
      "Ellis Francis\n",
      "Forrest Peter\n",
      "Freach Greta\n",
      "French Sara\n",
      "Gantt Jackson\n",
      "Holland Henry\n",
      "Jackson Jessica\n",
      "Jarvis Melvin\n",
      "Jones Pamala\n",
      "Jones Jessica\n",
      "Keller Bradley\n",
      "Lagos Leeland\n",
      "Lee Tatum\n",
      "Martinez Margarita\n",
      "Nulland Nicholas\n",
      "Opus Oliver\n",
      "Pollard Franz\n",
      "Quinones Maribel\n",
      "Ramos Diego\n",
      "Regis Lucy\n",
      "Rivera Jewels\n",
      "Sanchez Jorge\n",
      "Saulzman Randle\n",
      "Saunders Asia\n",
      "Sing Hu\n",
      "Sung Henry\n",
      "Tate Rachael\n",
      "Torrez Lea\n",
      "Ute Ulsula\n",
      "Williams William\n",
      "Williamson Ursula\n",
      "Xi Yu\n",
      "Yee Sue\n"
     ]
    }
   ],
   "source": [
    "# Employees alphabetically by last name\n",
    "sorted_last_name = list(cursor.execute(\"select last_name,first_name from employees order by last_name asc\"))    \n",
    "for i in sorted_last_name:\n",
    "    print(' '.join(i))"
   ]
  },
  {
   "cell_type": "code",
   "execution_count": 323,
   "metadata": {},
   "outputs": [
    {
     "name": "stdout",
     "output_type": "stream",
     "text": [
      "Sing Hu\n",
      "Yee Sue\n",
      "Jackson Jessica\n",
      "Martinez Margarita\n",
      "Lee Tatum\n",
      "French Sara\n",
      "Opus Oliver\n",
      "Rivera Jewels\n",
      "Jones Jessica\n",
      "Forrest Peter\n",
      "Ute Ulsula\n",
      "Williamson Ursula\n"
     ]
    }
   ],
   "source": [
    "# list of active employees by tenure order desc\n",
    "sorted_tenure = list(cursor.execute(\"select last_name,first_name from employees where status = 'NON-EXEMPT' order by hire_date desc\"))    \n",
    "for i in sorted_tenure:\n",
    "    print(' '.join(i))"
   ]
  },
  {
   "cell_type": "code",
   "execution_count": 324,
   "metadata": {},
   "outputs": [
    {
     "name": "stdout",
     "output_type": "stream",
     "text": [
      "1 [('French', 'Sara'), ('Tate', 'Rachael'), ('Ute', 'Ulsula'), ('Williamson', 'Ursula'), ('Yee', 'Sue')] \n",
      "\n",
      "2 [('Holland', 'Henry'), ('Keller', 'Bradley'), ('Lagos', 'Leeland'), ('Pollard', 'Franz'), ('Ramos', 'Diego'), ('Sanchez', 'Jorge'), ('Sung', 'Henry'), ('Torrez', 'Lea')] \n",
      "\n",
      "3 [('Davis', 'Elizabeth'), ('Jarvis', 'Melvin'), ('Nulland', 'Nicholas'), ('Quinones', 'Maribel'), ('Saunders', 'Asia'), ('Williams', 'William')] \n",
      "\n",
      "19 [('Freach', 'Greta'), ('Gantt', 'Jackson'), ('Martinez', 'Margarita'), ('Regis', 'Lucy'), ('Rivera', 'Jewels')] \n",
      "\n",
      "30 [('Breen', 'Margret'), ('Jackson', 'Jessica'), ('Jones', 'Jessica'), ('Lee', 'Tatum'), ('Opus', 'Oliver'), ('Sing', 'Hu')] \n",
      "\n",
      "37 [('Davidson', 'Fred'), ('Davidson', 'Wilma'), ('Ellis', 'Francis'), ('Forrest', 'Peter'), ('Jones', 'Pamala'), ('Saulzman', 'Randle'), ('Xi', 'Yu')] \n",
      "\n"
     ]
    }
   ],
   "source": [
    "# get manager id's\n",
    "manager_ids = set(cursor.execute(\"\"\"select manager_id from employees\"\"\"))\n",
    "manager_ids = [name[0] for name in manager_ids]\n",
    "\n",
    "# list of employees by manager name, in order alphabetically by managers last name (there is no manager name in provided data......?)\n",
    "# sorted_manager = list(cursor.execute(\"select last_name,first_name from employees order by manager_id desc\"))\n",
    "managers={}\n",
    "for manager_id in manager_ids:\n",
    "    managers[manager_id] = (list(cursor.execute(\"select last_name,first_name from employees where manager_id = ? order by last_name asc\",(manager_id,))) )\n",
    "managers = dict(sorted(managers.items()))\n",
    "for i in managers:\n",
    "    print(i,managers[i],'\\n')"
   ]
  },
  {
   "cell_type": "code",
   "execution_count": 325,
   "metadata": {},
   "outputs": [
    {
     "name": "stdout",
     "output_type": "stream",
     "text": [
      "EAST [('Breen', 'Margret'), ('Keller', 'Bradley'), ('Nulland', 'Nicholas'), ('Opus', 'Oliver'), ('Pollard', 'Franz'), ('Saulzman', 'Randle')] \n",
      "\n",
      "NORTH EAST [('Davidson', 'Fred'), ('Ellis', 'Francis'), ('Jones', 'Pamala'), ('Ramos', 'Diego'), ('Rivera', 'Jewels'), ('Sanchez', 'Jorge'), ('Sing', 'Hu'), ('Yee', 'Sue')] \n",
      "\n",
      "NORTH WEST [('Jackson', 'Jessica'), ('Lee', 'Tatum'), ('Saunders', 'Asia'), ('Ute', 'Ulsula')] \n",
      "\n",
      "SOUTH EAST [('Forrest', 'Peter'), ('Holland', 'Henry'), ('Jones', 'Jessica'), ('Lagos', 'Leeland'), ('Martinez', 'Margarita'), ('Regis', 'Lucy'), ('Torrez', 'Lea')] \n",
      "\n",
      "SOUTH WEST [('Davidson', 'Wilma'), ('Davis', 'Elizabeth'), ('Freach', 'Greta'), ('Gantt', 'Jackson'), ('Jarvis', 'Melvin'), ('Sung', 'Henry'), ('Tate', 'Rachael'), ('Williams', 'William')] \n",
      "\n",
      "WEST [('French', 'Sara'), ('Quinones', 'Maribel'), ('Williamson', 'Ursula'), ('Xi', 'Yu')] \n",
      "\n"
     ]
    }
   ],
   "source": [
    "# get regions\n",
    "regions = set(cursor.execute(\"\"\"select region from employees\"\"\"))\n",
    "regions = [region[0] for region in regions]\n",
    "\n",
    "# lists of employees by region, alphatbetically\n",
    "by_region = {}\n",
    "for region in regions:\n",
    "    by_region[region] = (list(cursor.execute(\"select last_name,first_name from employees where region = ? order by last_name asc\",(region,))) )\n",
    "by_region = dict(sorted(by_region.items()))\n",
    "for i in by_region:\n",
    "    print(i,by_region[i],'\\n')"
   ]
  },
  {
   "cell_type": "code",
   "execution_count": 326,
   "metadata": {},
   "outputs": [
    {
     "name": "stdout",
     "output_type": "stream",
     "text": [
      "Martinez Margarita\n"
     ]
    }
   ],
   "source": [
    "# lists of employees exceeding their allotment of sick days\n",
    "# get names\n",
    "names = set(cursor.execute(\"\"\"select last_name,first_name from employees order by last_name asc\"\"\"))\n",
    "names = [name for name in names]\n",
    "\n",
    "# lists of employees sick day data\n",
    "sick_days = {}\n",
    "for name in names:\n",
    "    sick_days[' '.join(name)] = (list(cursor.execute(\"select sick_days_accumulated,sick_day1,sick_day2,sick_day3 from employees where last_name = ?\",(name[0],))) )\n",
    "by_region = dict(sorted(by_region.items()))\n",
    "\n",
    "employees_exceeding = [] \n",
    "\n",
    "for employee in sick_days:\n",
    "    # create key/value of employee/sick_day_data\n",
    "    sick_days[employee] = list(sick_days[employee][0])\n",
    "    for i in range(len(sick_days[employee])):\n",
    "        try:\n",
    "            # remove unwanted data\n",
    "            sick_days[employee].remove('')\n",
    "        except:\n",
    "            pass\n",
    "        # lol\n",
    "        try:\n",
    "            sick_days[employee].remove('\\n')\n",
    "        except:\n",
    "            pass\n",
    "\n",
    "    # if they used more sick days than they have\n",
    "    if int(sick_days[employee][0]) < len(sick_days[employee][1:]):\n",
    "        (sick_days[employee])\n",
    "        employees_exceeding.append(employee)\n",
    "    \n",
    "for i in employees_exceeding:\n",
    "    print(i)\n",
    "connection.close()"
   ]
  }
 ],
 "metadata": {
  "interpreter": {
   "hash": "31f2aee4e71d21fbe5cf8b01ff0e069b9275f58929596ceb00d14d90e3e16cd6"
  },
  "kernelspec": {
   "display_name": "Python 3.8.9 64-bit",
   "name": "python3"
  },
  "language_info": {
   "codemirror_mode": {
    "name": "ipython",
    "version": 3
   },
   "file_extension": ".py",
   "mimetype": "text/x-python",
   "name": "python",
   "nbconvert_exporter": "python",
   "pygments_lexer": "ipython3",
   "version": "3.8.9"
  }
 },
 "nbformat": 4,
 "nbformat_minor": 4
}
