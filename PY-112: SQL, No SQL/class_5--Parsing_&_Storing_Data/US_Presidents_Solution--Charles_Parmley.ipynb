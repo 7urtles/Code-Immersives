{
 "cells": [
  {
   "cell_type": "code",
   "execution_count": 26,
   "metadata": {},
   "outputs": [],
   "source": [
    "# from the provided file:\n",
    "    # Add the data to a database\n",
    "    # seperate the data into the following:\n",
    "        # first_name\n",
    "        # last_name\n",
    "        # middle_name\n",
    "        # begin_term\n",
    "        # end_term\n",
    "        # presedential order\n",
    "\n",
    "    # Create a report to as a new file with the following in presedential order:\n",
    "        # order text, \n",
    "        # last_name text, \n",
    "        # first_name text, \n",
    "        # middle_initial text, \n",
    "        # begin_term text, \n",
    "        # end_term text, \n",
    "        # years in office real,"
   ]
  },
  {
   "cell_type": "code",
   "execution_count": 77,
   "metadata": {},
   "outputs": [],
   "source": [
    "import sqlite3\n",
    "\n",
    "data = {}\n",
    "with open(\"US_Presidents_unordered.txt\", \"r\") as file:\n",
    "    line = file.readline()\n",
    "    while line:\n",
    "        # Skip first line in file\n",
    "        if 'Name,Term_Start,Term_End' not in line: \n",
    "            # Filter / , ' . characters out of the string\n",
    "            line = line.replace('\\'','').replace('.','').replace(',',' ')\n",
    "\n",
    "            # Change the string into a list seperated by spaces\n",
    "            line = line.split()\n",
    "\n",
    "            # If there is no middle name\n",
    "            if len(line) == 5:\n",
    "\n",
    "                # Insert n/a as the middle name\n",
    "                line.insert(2, 'n/a')\n",
    "\n",
    "            # Store presidents years in office at the end of the list\n",
    "            #(Using difference of the end/start term dates)\n",
    "            line.append(str(int(line[5][-4:]) - int(line[4][-4:])))\n",
    "\n",
    "            # store data into a dictionary with their order number as a key\n",
    "            data[line[0]] = tuple(line[1:2]+line[2:])\n",
    "        line = file.readline()\n",
    "\n",
    "# Sort dictionary by it's items index, then convert back to a dictionary\n",
    "data = dict(sorted(data.items()))\n",
    "\n",
    "# Build a list of strings to write to the file\n",
    "data_to_write = [(str(index)+ \" \" + ' '.join(data[index])).split() for index in data]"
   ]
  },
  {
   "cell_type": "code",
   "execution_count": 78,
   "metadata": {},
   "outputs": [],
   "source": [
    "# Open the file in write mode (will be created if it doesn't exist)\n",
    "file = open(\"solution.txt\", 'w')\n",
    "\n",
    "# Format the list to a writeable string\n",
    "[file.write(\" \".join(line)+'\\n') for line in data_to_write]\n",
    "file.close()"
   ]
  },
  {
   "cell_type": "code",
   "execution_count": 76,
   "metadata": {},
   "outputs": [
    {
     "name": "stdout",
     "output_type": "stream",
     "text": [
      "[['1', 'George', 'n/a', 'Washington', '04/30/1789', '03/04/1797', '8'], ['10', 'John', 'n/a', 'Tyler', '04/04/1841', '03/04/1845', '4'], ['11', 'James', 'K', 'Polk', '03/04/1845', '03/04/1849', '4'], ['12', 'Zachary', 'n/a', 'Taylor', '03/04/1849', '07/09/1850', '1'], ['13', 'Millard', 'n/a', 'Fillmore', '07/09/1850', '03/04/1853', '3'], ['14', 'Franklin', 'n/a', 'Pierce', '03/04/1853', '03/04/1857', '4'], ['15', 'James', 'n/a', 'Buchanan', '03/04/1857', '03/04/1861', '4'], ['16', 'Abraham', 'n/a', 'Lincoln', '03/04/1861', '04/15/1865', '4'], ['17', 'Andrew', 'n/a', 'Johnson', '04/15/1865', '03/04/1869', '4'], ['18', 'Ulysses', 'S', 'Grant', '03/04/1869', '03/04/1877', '8'], ['19', 'Rutherford', 'B', 'Hayes', '03/04/1877', '03/04/1881', '4'], ['2', 'John', 'n/a', 'Adams', '03/04/1797', '03/04/1801', '4'], ['20', 'James', 'n/a', 'Garfield', '03/04/1881', '09/19/1881', '0'], ['21', 'Chester', 'n/a', 'Arthur', '09/19/1881', '03/04/1885', '4'], ['22', 'Grover', 'n/a', 'Cleveland', '03/04/1885', '03/04/1889', '4'], ['23', 'Benjamin', 'n/a', 'Harrison', '03/04/1889', '03/04/1893', '4'], ['24', 'Grover', 'n/a', 'Cleveland', '03/04/1893', '03/04/1897', '4'], ['25', 'William', 'n/a', 'McKinley', '03/04/1897', '09/14/1901', '4'], ['26', 'Theodore', 'n/a', 'Roosevelt', '09/14/1901', '03/04/1909', '8'], ['27', 'William', 'Howard', 'Taft', '03/04/1909', '03/04/1913', '4'], ['28', 'Woodrow', 'n/a', 'Wilson', '03/04/1913', '03/04/1921', '8'], ['29', 'Warren', 'G', 'Harding', '03/04/1921', '08/02/1923', '2'], ['3', 'Thomas', 'n/a', 'Jefferson', '03/04/1801', '03/04/1809', '8'], ['30', 'Calvin', 'n/a', 'Coolidge', '08/02/1923', '03/04/1929', '6'], ['31', 'Herbert', 'n/a', 'Hoover', '03/04/1929', '03/04/1933', '4'], ['32', 'Franklin', 'D', 'Roosevelt', '03/04/1933', '04/12/1945', '12'], ['33', 'Harry', 'S', 'Truman', '04/12/1945', '01/20/1953', '8'], ['34', 'Dwight', 'n/a', 'Eisenhower', '01/20/1953', '01/20/1961', '8'], ['35', 'John', 'F', 'Kennedy', '01/20/1961', '11/22/1963', '2'], ['36', 'Lyndon', 'B', 'Johnson', '11/22/1963', '01/20/1969', '6'], ['37', 'Richard', 'n/a', 'Nixon', '01/20/1969', '08/09/1974', '5'], ['38', 'Gerald', 'n/a', 'Ford', '08/09/1974', '01/20/1977', '3'], ['39', 'Jimmy', 'n/a', 'Carter', '01/20/1977', '01/20/1981', '4'], ['4', 'James', 'n/a', 'Madison', '03/04/1809', '03/04/1817', '8'], ['40', 'Ronald', 'n/a', 'Reagan', '01/20/1981', '01/20/1989', '8'], ['41', 'George', 'n/a', 'Bush', '01/20/1989', '01/20/1993', '4'], ['42', 'Bill', 'n/a', 'Clinton', '01/20/1993', '01/20/2001', '8'], ['43', 'George', 'W', 'Bush', '01/20/2001', '01/20/2009', '8'], ['44', 'Barack', 'n/a', 'Obama', '01/20/2009', '01/20/2017', '8'], ['5', 'James', 'n/a', 'Monroe', '03/04/1817', '03/04/1825', '8'], ['6', 'John', 'Quincy', 'Adams', '03/04/1825', '03/04/1829', '4'], ['7', 'Andrew', 'n/a', 'Jackson', '03/04/1829', '03/04/1837', '8'], ['8', 'Martin', 'Van', 'Buren', '03/04/1837', '03/04/1841', '4'], ['9', 'William', 'Henry', 'Harrison', '03/04/1841', '04/04/1841', '0']]\n"
     ]
    }
   ],
   "source": [
    "# Save that data to the database\n",
    "connection = sqlite3.connect('presidents.db')\n",
    "connection.execute('''create table if not exists presidents (\n",
    "        order_number text, \n",
    "        first_name text, \n",
    "        middle_initial text, \n",
    "        last_name text, \n",
    "        begin_term text, \n",
    "        end_term text, \n",
    "        years_in_office real\n",
    ")''')\n",
    "[connection.executemany('insert into presidents values(?,?,?,?,?,?,?)',(data_to_write))]\n",
    "connection.commit()\n",
    "connection.close()"
   ]
  }
 ],
 "metadata": {
  "interpreter": {
   "hash": "aee8b7b246df8f9039afb4144a1f6fd8d2ca17a180786b69acc140d282b71a49"
  },
  "kernelspec": {
   "display_name": "Python 3.10.0 64-bit",
   "name": "python3"
  },
  "language_info": {
   "codemirror_mode": {
    "name": "ipython",
    "version": 3
   },
   "file_extension": ".py",
   "mimetype": "text/x-python",
   "name": "python",
   "nbconvert_exporter": "python",
   "pygments_lexer": "ipython3",
   "version": "3.10.0"
  },
  "orig_nbformat": 4
 },
 "nbformat": 4,
 "nbformat_minor": 2
}
