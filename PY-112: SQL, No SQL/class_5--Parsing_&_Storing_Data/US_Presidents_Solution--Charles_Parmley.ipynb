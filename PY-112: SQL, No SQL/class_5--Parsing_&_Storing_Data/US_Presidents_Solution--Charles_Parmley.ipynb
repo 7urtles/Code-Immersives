{
 "cells": [
  {
   "cell_type": "code",
   "execution_count": 26,
   "metadata": {},
   "outputs": [],
   "source": [
    "# from the provided file 'US_Presidents_unordered.txt':\n",
    "    # seperate the data into the following:\n",
    "        # first_name\n",
    "        # last_name\n",
    "        # middle_name\n",
    "        # begin_term\n",
    "        # end_term\n",
    "        # presedential order\n",
    "\n",
    "    # Create a report as a new txt file containing the following in presidential order:\n",
    "        # order_number\n",
    "        # last_name\n",
    "        # first_name \n",
    "        # middle_initial\n",
    "        # begin_term\n",
    "        # end_term \n",
    "        # years_in_office\n",
    "\n",
    "    # Save the data into a database into the respective columns:\n",
    "        # order text, \n",
    "        # last_name text, \n",
    "        # first_name text, \n",
    "        # middle_initial text, \n",
    "        # begin_term text, \n",
    "        # end_term text, \n",
    "        # years in office real,\n"
   ]
  },
  {
   "cell_type": "code",
   "execution_count": 77,
   "metadata": {},
   "outputs": [],
   "source": [
    "import sqlite3\n",
    "\n",
    "data = {}\n",
    "with open(\"US_Presidents_unordered.txt\", \"r\") as file:\n",
    "    line = file.readline()\n",
    "    while line:\n",
    "        # Skip first line in file\n",
    "        if 'Name,Term_Start,Term_End' not in line: \n",
    "            # Filter / , ' . characters out of the string\n",
    "            line = line.replace('\\'','').replace('.','').replace(',',' ')\n",
    "\n",
    "            # Change the string into a list of items seperated by spaces\n",
    "            line = line.split()\n",
    "\n",
    "            # If there is no middle name\n",
    "            if len(line) == 5:\n",
    "\n",
    "                # Insert n/a as the middle name\n",
    "                line.insert(2, 'n/a')\n",
    "\n",
    "            # Store presidents years in office at the end of the list\n",
    "            # (Using difference of the end/start term dates)\n",
    "            line.append(str(int(line[5][-4:]) - int(line[4][-4:])))\n",
    "\n",
    "            # store data into a dictionary with the presidents order number as a key\n",
    "            data[line[0]] = tuple(line[1:2]+line[2:])\n",
    "        line = file.readline()\n",
    "\n",
    "# Sort dictionary by it's items index, then convert back to a dictionary\n",
    "data = dict(sorted(data.items()))\n",
    "\n",
    "# Build a list of strings to write to the file\n",
    "data_to_write = [(str(index)+ \" \" + ' '.join(data[index])).split() for index in data]"
   ]
  },
  {
   "cell_type": "code",
   "execution_count": 78,
   "metadata": {},
   "outputs": [],
   "source": [
    "# Open the file in write mode (will be created if it doesn't exist)\n",
    "file = open(\"solution.txt\", 'w')\n",
    "\n",
    "# Format the list to a writeable string\n",
    "[file.write(\" \".join(line)+'\\n') for line in data_to_write]\n",
    "file.close()"
   ]
  },
  {
   "cell_type": "code",
   "execution_count": 79,
   "metadata": {},
   "outputs": [],
   "source": [
    "# Save that data to the database\n",
    "connection = sqlite3.connect('presidents.db')\n",
    "connection.execute('''create table if not exists presidents (\n",
    "        order_number text, \n",
    "        first_name text, \n",
    "        middle_initial text, \n",
    "        last_name text, \n",
    "        begin_term text, \n",
    "        end_term text, \n",
    "        years_in_office real\n",
    ")''')\n",
    "[connection.executemany('insert into presidents values(?,?,?,?,?,?,?)',(data_to_write))]\n",
    "connection.commit()\n",
    "connection.close()"
   ]
  }
 ],
 "metadata": {
  "interpreter": {
   "hash": "aee8b7b246df8f9039afb4144a1f6fd8d2ca17a180786b69acc140d282b71a49"
  },
  "kernelspec": {
   "display_name": "Python 3.10.0 64-bit",
   "name": "python3"
  },
  "language_info": {
   "codemirror_mode": {
    "name": "ipython",
    "version": 3
   },
   "file_extension": ".py",
   "mimetype": "text/x-python",
   "name": "python",
   "nbconvert_exporter": "python",
   "pygments_lexer": "ipython3",
   "version": "3.10.0"
  },
  "orig_nbformat": 4
 },
 "nbformat": 4,
 "nbformat_minor": 2
}
