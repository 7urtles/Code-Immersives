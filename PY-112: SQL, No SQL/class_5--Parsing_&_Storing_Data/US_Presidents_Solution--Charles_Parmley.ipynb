{
 "cells": [
  {
   "cell_type": "code",
   "execution_count": 26,
   "metadata": {},
   "outputs": [],
   "source": [
    "# from the provided file 'US_Presidents_unordered.txt':\n",
    "    # seperate the data into the following in order:\n",
    "        # first_name\n",
    "        # middle_intial\n",
    "        # last_name\n",
    "        # begin_term\n",
    "        # end_term\n",
    "        # presedential order\n",
    "\n",
    "    # Create a report as a new txt file containing the following in presidential order:\n",
    "        # order_number\n",
    "        # first_name \n",
    "        # middle_initial\n",
    "        # last_name\n",
    "        # begin_term\n",
    "        # end_term \n",
    "        # years_in_office\n",
    "\n",
    "    # Save the data into a database into the respective columns in presidential order:\n",
    "        # order text,  \n",
    "        # first_name text, \n",
    "        # middle_initial text,\n",
    "        # last_name text \n",
    "        # begin_term text, \n",
    "        # end_term text, \n",
    "        # years_in_office real,"
   ]
  },
  {
   "cell_type": "code",
   "execution_count": 101,
   "metadata": {},
   "outputs": [],
   "source": [
    "import sqlite3\n",
    "\n",
    "data = {}\n",
    "with open(\"US_Presidents_unordered.txt\", \"r\") as file:\n",
    "    line = file.readline()\n",
    "    while line:\n",
    "        # Skip first line in file\n",
    "        if 'Name,Term_Start,Term_End' not in line: \n",
    "            # Filter / , ' . characters out of the string\n",
    "            line = line.replace('\\'','').replace('.','').replace(',',' ')\n",
    "\n",
    "            # Change the string into a list of items seperated by spaces\n",
    "            line = line.split()\n",
    "\n",
    "            # If there is no middle name\n",
    "            if len(line) == 5:\n",
    "\n",
    "                # Insert n/a as the middle name\n",
    "                line.insert(2, ' ')\n",
    "\n",
    "            # Store presidents years in office at the end of the list\n",
    "            # (Using the difference of the end/start dates)\n",
    "            line.append(str(int(line[5][-4:]) - int(line[4][-4:])))\n",
    "\n",
    "            # store data into a dictionary with the presidents order number as a key\n",
    "            data[int(line[0])] = line\n",
    "        line = file.readline()\n",
    "\n",
    "# Sort dictionary by it's items index, then convert back to a dictionary\n",
    "data = dict(sorted(data.items()))"
   ]
  },
  {
   "cell_type": "code",
   "execution_count": 102,
   "metadata": {},
   "outputs": [],
   "source": [
    "# Open the file in write mode (will be created if it doesn't exist)\n",
    "file = open(\"solution.txt\", 'w')\n",
    "# Format the list to a writeable string\n",
    "[file.write(' '.join(data[line])+'\\n') for line in data]\n",
    "file.close()"
   ]
  },
  {
   "cell_type": "code",
   "execution_count": 105,
   "metadata": {},
   "outputs": [],
   "source": [
    "# Save that data to the database\n",
    "connection = sqlite3.connect('united_states.db')\n",
    "cursor = connection.cursor()\n",
    "cursor.execute('''create table if not exists presidents (\n",
    "        order_number text, \n",
    "        first_name text, \n",
    "        middle_initial text, \n",
    "        last_name text, \n",
    "        begin_term text, \n",
    "        end_term text, \n",
    "        years_in_office real\n",
    ")''')\n",
    "[cursor.execute('insert into presidents values(?,?,?,?,?,?,?)', data[item]) for item in data]\n",
    "connection.commit()\n",
    "connection.close()"
   ]
  },
  {
   "cell_type": "code",
   "execution_count": 106,
   "metadata": {},
   "outputs": [
    {
     "name": "stdout",
     "output_type": "stream",
     "text": [
      "('1', 'George', ' ', 'Washington', '04/30/1789', '03/04/1797', 8.0)\n",
      "('2', 'John', ' ', 'Adams', '03/04/1797', '03/04/1801', 4.0)\n",
      "('3', 'Thomas', ' ', 'Jefferson', '03/04/1801', '03/04/1809', 8.0)\n",
      "('4', 'James', ' ', 'Madison', '03/04/1809', '03/04/1817', 8.0)\n",
      "('5', 'James', ' ', 'Monroe', '03/04/1817', '03/04/1825', 8.0)\n",
      "('6', 'John', 'Quincy', 'Adams', '03/04/1825', '03/04/1829', 4.0)\n",
      "('7', 'Andrew', ' ', 'Jackson', '03/04/1829', '03/04/1837', 8.0)\n",
      "('8', 'Martin', 'Van', 'Buren', '03/04/1837', '03/04/1841', 4.0)\n",
      "('9', 'William', 'Henry', 'Harrison', '03/04/1841', '04/04/1841', 0.0)\n",
      "('10', 'John', ' ', 'Tyler', '04/04/1841', '03/04/1845', 4.0)\n",
      "('11', 'James', 'K', 'Polk', '03/04/1845', '03/04/1849', 4.0)\n",
      "('12', 'Zachary', ' ', 'Taylor', '03/04/1849', '07/09/1850', 1.0)\n",
      "('13', 'Millard', ' ', 'Fillmore', '07/09/1850', '03/04/1853', 3.0)\n",
      "('14', 'Franklin', ' ', 'Pierce', '03/04/1853', '03/04/1857', 4.0)\n",
      "('15', 'James', ' ', 'Buchanan', '03/04/1857', '03/04/1861', 4.0)\n",
      "('16', 'Abraham', ' ', 'Lincoln', '03/04/1861', '04/15/1865', 4.0)\n",
      "('17', 'Andrew', ' ', 'Johnson', '04/15/1865', '03/04/1869', 4.0)\n",
      "('18', 'Ulysses', 'S', 'Grant', '03/04/1869', '03/04/1877', 8.0)\n",
      "('19', 'Rutherford', 'B', 'Hayes', '03/04/1877', '03/04/1881', 4.0)\n",
      "('20', 'James', ' ', 'Garfield', '03/04/1881', '09/19/1881', 0.0)\n",
      "('21', 'Chester', ' ', 'Arthur', '09/19/1881', '03/04/1885', 4.0)\n",
      "('22', 'Grover', ' ', 'Cleveland', '03/04/1885', '03/04/1889', 4.0)\n",
      "('23', 'Benjamin', ' ', 'Harrison', '03/04/1889', '03/04/1893', 4.0)\n",
      "('24', 'Grover', ' ', 'Cleveland', '03/04/1893', '03/04/1897', 4.0)\n",
      "('25', 'William', ' ', 'McKinley', '03/04/1897', '09/14/1901', 4.0)\n",
      "('26', 'Theodore', ' ', 'Roosevelt', '09/14/1901', '03/04/1909', 8.0)\n",
      "('27', 'William', 'Howard', 'Taft', '03/04/1909', '03/04/1913', 4.0)\n",
      "('28', 'Woodrow', ' ', 'Wilson', '03/04/1913', '03/04/1921', 8.0)\n",
      "('29', 'Warren', 'G', 'Harding', '03/04/1921', '08/02/1923', 2.0)\n",
      "('30', 'Calvin', ' ', 'Coolidge', '08/02/1923', '03/04/1929', 6.0)\n",
      "('31', 'Herbert', ' ', 'Hoover', '03/04/1929', '03/04/1933', 4.0)\n",
      "('32', 'Franklin', 'D', 'Roosevelt', '03/04/1933', '04/12/1945', 12.0)\n",
      "('33', 'Harry', 'S', 'Truman', '04/12/1945', '01/20/1953', 8.0)\n",
      "('34', 'Dwight', ' ', 'Eisenhower', '01/20/1953', '01/20/1961', 8.0)\n",
      "('35', 'John', 'F', 'Kennedy', '01/20/1961', '11/22/1963', 2.0)\n",
      "('36', 'Lyndon', 'B', 'Johnson', '11/22/1963', '01/20/1969', 6.0)\n",
      "('37', 'Richard', ' ', 'Nixon', '01/20/1969', '08/09/1974', 5.0)\n",
      "('38', 'Gerald', ' ', 'Ford', '08/09/1974', '01/20/1977', 3.0)\n",
      "('39', 'Jimmy', ' ', 'Carter', '01/20/1977', '01/20/1981', 4.0)\n",
      "('40', 'Ronald', ' ', 'Reagan', '01/20/1981', '01/20/1989', 8.0)\n",
      "('41', 'George', ' ', 'Bush', '01/20/1989', '01/20/1993', 4.0)\n",
      "('42', 'Bill', ' ', 'Clinton', '01/20/1993', '01/20/2001', 8.0)\n",
      "('43', 'George', 'W', 'Bush', '01/20/2001', '01/20/2009', 8.0)\n",
      "('44', 'Barack', ' ', 'Obama', '01/20/2009', '01/20/2017', 8.0)\n"
     ]
    }
   ],
   "source": [
    "# Retreive presidents from the database in presidential order\n",
    "connection = sqlite3.connect('united_states.db')\n",
    "cursor = connection.cursor()\n",
    "presidents = cursor.execute('select * from presidents')\n",
    "[print(president) for president in presidents]\n",
    "connection.close()"
   ]
  },
  {
   "cell_type": "code",
   "execution_count": 107,
   "metadata": {},
   "outputs": [
    {
     "name": "stdout",
     "output_type": "stream",
     "text": [
      "('2', 'John', ' ', 'Adams', '03/04/1797', '03/04/1801', 4.0)\n",
      "('6', 'John', 'Quincy', 'Adams', '03/04/1825', '03/04/1829', 4.0)\n",
      "('21', 'Chester', ' ', 'Arthur', '09/19/1881', '03/04/1885', 4.0)\n",
      "('26', 'Theodore', ' ', 'Roosevelt', '09/14/1901', '03/04/1909', 8.0)\n",
      "('32', 'Franklin', 'D', 'Roosevelt', '03/04/1933', '04/12/1945', 12.0)\n",
      "('40', 'Ronald', ' ', 'Reagan', '01/20/1981', '01/20/1989', 8.0)\n"
     ]
    },
    {
     "data": {
      "text/plain": [
       "[None, None, None, None, None, None]"
      ]
     },
     "execution_count": 107,
     "metadata": {},
     "output_type": "execute_result"
    }
   ],
   "source": [
    "# Query all presidents whose last name begins with 'R' or 'A'\n",
    "connection = sqlite3.connect('united_states.db')\n",
    "cursor = connection.cursor()\n",
    "R = list(cursor.execute(\"select * from presidents where last_name like 'R%' or last_name like 'A%'\"))\n",
    "connection.close()\n",
    "[print(president)for president in R]"
   ]
  },
  {
   "cell_type": "code",
   "execution_count": 110,
   "metadata": {},
   "outputs": [
    {
     "name": "stdout",
     "output_type": "stream",
     "text": [
      "{'g': 17, 'e': 55, 'o': 49, 'r': 59, 'w': 14, 'a': 57, 's': 29, 'h': 29, 'i': 32, 'n': 53, 't': 19, 'j': 15, 'd': 23, 'm': 23, 'f': 10, 'q': 1, 'u': 9, 'c': 16, 'y': 12, 'k': 8, 'v': 9, 'b': 12, 'l': 35, 'p': 2, 'z': 1, 'x': 1}\n"
     ]
    }
   ],
   "source": [
    "# Get a count of all the letters and how often they occur\n",
    "# Smashing all of the names into a string\n",
    "massive_string = ''.join([''.join(data[president][1:4]) for president in data]).lower().replace(' ','')\n",
    "# key:value pairs of letters and how often they occur\n",
    "results = {letter : massive_string.count(letter) for letter in massive_string}\n",
    "print(results)"
   ]
  },
  {
   "cell_type": "code",
   "execution_count": 152,
   "metadata": {},
   "outputs": [
    {
     "name": "stdout",
     "output_type": "stream",
     "text": [
      "{'1700s': 2, '1800s': 24, '1900s': 18, '2000s': 3}\n"
     ]
    }
   ],
   "source": [
    "# Number of presidents in a century\n",
    "term_dates = [(data[president][4][-4:-2],data[president][5][-4:-2]) for president in data]\n",
    "results = {'1700s':0, '1800s':0, '1900s':0, '2000s':0}\n",
    "\n",
    "# Checking centuries against the presidents active years\n",
    "for term in term_dates:\n",
    "    for century in results:\n",
    "        if century[:2] in term:\n",
    "            results[century] += 1\n",
    "print(results)"
   ]
  }
 ],
 "metadata": {
  "interpreter": {
   "hash": "aee8b7b246df8f9039afb4144a1f6fd8d2ca17a180786b69acc140d282b71a49"
  },
  "kernelspec": {
   "display_name": "Python 3.10.0 64-bit",
   "name": "python3"
  },
  "language_info": {
   "codemirror_mode": {
    "name": "ipython",
    "version": 3
   },
   "file_extension": ".py",
   "mimetype": "text/x-python",
   "name": "python",
   "nbconvert_exporter": "python",
   "pygments_lexer": "ipython3",
   "version": "3.10.0"
  },
  "orig_nbformat": 4
 },
 "nbformat": 4,
 "nbformat_minor": 2
}
