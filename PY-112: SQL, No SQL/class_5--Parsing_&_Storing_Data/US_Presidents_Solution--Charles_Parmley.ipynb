{
 "cells": [
  {
   "cell_type": "code",
   "execution_count": 26,
   "metadata": {},
   "outputs": [],
   "source": [
    "# from the provided file:\n",
    "    # Add the data to a database\n",
    "    # seperate the data into the following:\n",
    "        # first_name\n",
    "        # last_name\n",
    "        # middle_name\n",
    "        # begin_term\n",
    "        # end_term\n",
    "        # presedential order\n",
    "\n",
    "    # Create a report to as a new file with the following in presedential order:\n",
    "        # order text, \n",
    "        # last_name text, \n",
    "        # first_name text, \n",
    "        # middle_initial text, \n",
    "        # begin_term text, \n",
    "        # end_term text, \n",
    "        # years in office real,"
   ]
  },
  {
   "cell_type": "code",
   "execution_count": null,
   "metadata": {},
   "outputs": [],
   "source": [
    "import sqlite3\n",
    "\n",
    "file = open(\"US_Presidents_unordered.txt\", 'r')\n",
    "data = [list(line.split(',')) for line in file.readlines()]\n",
    "file.close()\n",
    "data.pop(0)\n",
    "\n",
    "# removing unwanted characters\n",
    "for item in data:\n",
    "    item += item.pop(0).split(' ')\n",
    "    item[0] = item[0].strip('\\'')\n",
    "    item[1] = item[1].strip() # remove newline character\n",
    "    item[1] = item[1].replace('\\'','').replace('\\'','')\n",
    "    item[2] = item[2].replace('.','').replace('\\'','')\n",
    "    try:\n",
    "        item[4] = item[4].strip('\\'')\n",
    "        item[5] = item[5].strip('\\'')\n",
    "    except:\n",
    "        pass\n",
    "    item.insert(0,item.pop(2))\n",
    "\n",
    "# Create dictionary with the president number as the key\n",
    "data = {int(item[0]) : tuple(item[1:2]+item[2:]) for item in data}\n",
    "\n",
    "# Sort dictionary by it's items index, then convert back to a dictionary\n",
    "data = dict(sorted(data.items()))\n",
    "\n",
    "# Build a list of strings to write to the file\n",
    "data_to_write = [str(index)+ \" \" + ' '.join(data[index]) for index in data]\n",
    "data_to_write = [item.split() for item in data_to_write]\n",
    "\n",
    "# Add a blank value if a presidents middle name does not exist\n",
    "for item in data_to_write:\n",
    "    if len(item) < 6:\n",
    "        item.insert(4, 'n/a')\n",
    "        \n",
    "# Add the presidents years in office to the end of each line\n",
    "[item.append(str(int(item[2][-4:]) - int(item[1][-4:])))for item in data_to_write]\n"
   ]
  },
  {
   "cell_type": "code",
   "execution_count": 478,
   "metadata": {},
   "outputs": [],
   "source": [
    "# Open the file in write mode (will be created if it doesn't exist)\n",
    "file = open(\"solution.txt\", 'w')\n",
    "\n",
    "# Format the list to a writeable string\n",
    "[file.write(\" \".join(line)+'\\n') for line in data_to_write]\n",
    "file.close()"
   ]
  },
  {
   "cell_type": "code",
   "execution_count": 479,
   "metadata": {},
   "outputs": [],
   "source": [
    "# Save that data to the database\n",
    "connection = sqlite3.connect('presidents.db')\n",
    "\n",
    "connection.execute('''create table if not exists presidents (\n",
    "        order_number text, \n",
    "        last_name text, \n",
    "        first_name text, \n",
    "        middle_initial text, \n",
    "        begin_term text, \n",
    "        end_term text, \n",
    "        years_in_office real\n",
    ")''')\n",
    "[connection.execute('insert into presidents values(?,?,?,?,?,?,?)',(data_to_write[key])) for key,_ in enumerate(data_to_write)]\n",
    "connection.commit()\n",
    "connection.close()"
   ]
  }
 ],
 "metadata": {
  "interpreter": {
   "hash": "aee8b7b246df8f9039afb4144a1f6fd8d2ca17a180786b69acc140d282b71a49"
  },
  "kernelspec": {
   "display_name": "Python 3.10.0 64-bit",
   "name": "python3"
  },
  "language_info": {
   "codemirror_mode": {
    "name": "ipython",
    "version": 3
   },
   "file_extension": ".py",
   "mimetype": "text/x-python",
   "name": "python",
   "nbconvert_exporter": "python",
   "pygments_lexer": "ipython3",
   "version": "3.10.0"
  },
  "orig_nbformat": 4
 },
 "nbformat": 4,
 "nbformat_minor": 2
}
