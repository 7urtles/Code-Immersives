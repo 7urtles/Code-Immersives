{
 "cells": [
  {
   "cell_type": "code",
   "execution_count": 1,
   "metadata": {},
   "outputs": [],
   "source": [
    "# No idea what we are doing yet........\n"
   ]
  },
  {
   "cell_type": "code",
   "execution_count": 5,
   "metadata": {},
   "outputs": [],
   "source": [
    "# Create the database\n",
    "import sqlite3\n",
    "\n",
    "connection = sqlite3.connect('library.db')\n",
    "# Executing many commands with .executescript()\n",
    "cursor = connection.executescript(\"\"\"\n",
    "create table if not exists person(\n",
    "    first_name text, last_name text, age integer\n",
    ");\n",
    "\n",
    "create table if not exists books(\n",
    "    title text, author text, published text\n",
    ");\n",
    "\n",
    "insert into books values(\n",
    "    'Dirk Gently''s Holistic Dective Agency',\n",
    "    'Douglas Adams',\n",
    "    1987\n",
    ");\n",
    "\"\"\")\n",
    "connection.commit()\n",
    "connection.close()\n",
    "\n"
   ]
  },
  {
   "cell_type": "code",
   "execution_count": 6,
   "metadata": {},
   "outputs": [
    {
     "name": "stdout",
     "output_type": "stream",
     "text": [
      "('person',)\n",
      "('books',)\n"
     ]
    }
   ],
   "source": [
    "# Check created tables\n",
    "connection = sqlite3.connect('library.db')\n",
    "cursor = connection.cursor()\n",
    "cursor.execute('select name from sqlite_master')\n",
    "tables = cursor.fetchall()\n",
    "for table in tables:\n",
    "    print(table)\n",
    "connection.close()\n"
   ]
  }
 ],
 "metadata": {
  "interpreter": {
   "hash": "31f2aee4e71d21fbe5cf8b01ff0e069b9275f58929596ceb00d14d90e3e16cd6"
  },
  "kernelspec": {
   "display_name": "Python 3.8.9 64-bit",
   "name": "python3"
  },
  "language_info": {
   "codemirror_mode": {
    "name": "ipython",
    "version": 3
   },
   "file_extension": ".py",
   "mimetype": "text/x-python",
   "name": "python",
   "nbconvert_exporter": "python",
   "pygments_lexer": "ipython3",
   "version": "3.8.9"
  },
  "orig_nbformat": 4
 },
 "nbformat": 4,
 "nbformat_minor": 2
}
