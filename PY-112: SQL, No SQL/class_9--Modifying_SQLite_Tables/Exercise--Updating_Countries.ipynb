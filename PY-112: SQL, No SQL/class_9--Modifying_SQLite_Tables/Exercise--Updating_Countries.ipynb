{
 "cells": [
  {
   "cell_type": "code",
   "execution_count": 67,
   "metadata": {},
   "outputs": [],
   "source": [
    "# Create table containing:\n",
    "#   country_name    text\n",
    "#   population      integer\n",
    "#   country_order   integer\n",
    "\n",
    "# Print countries in Alpha order\n",
    "# Print in order by population size\n",
    "# Assign country order to the blank courty order field"
   ]
  },
  {
   "cell_type": "code",
   "execution_count": 126,
   "metadata": {},
   "outputs": [],
   "source": [
    "import sqlite3\n",
    "\n",
    "# Open or create the database\n",
    "connection = sqlite3.connect('country_data.db')\n",
    "\n",
    "# create the table if it does not exist\n",
    "connection.execute('create table if not exists countries (country_name text, population integer, country_order integer)')\n",
    "connection.commit()\n",
    "connection.close()"
   ]
  },
  {
   "cell_type": "code",
   "execution_count": 137,
   "metadata": {},
   "outputs": [],
   "source": [
    "# Read the file data\n",
    "with open('Country_pops.csv', 'r') as file:\n",
    "    # Remove line break characters and split the string at the comma, filter out categories\n",
    "\n",
    "    # order by name\n",
    "    data = {\n",
    "        # Replace a whole bunch of nonsense characters in the key string\n",
    "        line.replace('**','').replace('$','').replace('@','').replace('!','').split(',')[0][:-1] : \\\n",
    "        # Replace gobbledegok in value string and cast to and integer\n",
    "        int(line.replace('\\n','').replace('--','').replace('\"','').split(',')[1]) \\\n",
    "        # Do the above for every line in the file\n",
    "        for line in file if 'Country' not in line\n",
    "    }\n",
    "\n",
    "data = dict(sorted(data.items()))"
   ]
  },
  {
   "cell_type": "code",
   "execution_count": 128,
   "metadata": {},
   "outputs": [],
   "source": [
    "# Add data to database\n",
    "import sqlite3\n",
    "\n",
    "connection = sqlite3.connect('country_data.db')\n",
    "\n",
    "# Send all the items to the database\n",
    "for country in data.items():\n",
    "    connection.execute('insert into countries values (?,?,?)',(country[0],country[1], 'blank'))\n",
    "\n",
    "connection.commit()\n",
    "connection.close()"
   ]
  },
  {
   "cell_type": "code",
   "execution_count": 135,
   "metadata": {},
   "outputs": [],
   "source": [
    "# Retrieve countries sorted by population size\n",
    "import sqlite3\n",
    "\n",
    "connection = sqlite3.connect('country_data.db')\n",
    "cursor = connection.cursor()\n",
    "sorted_population = list(cursor.execute('select country_name,population from countries order by population desc'))\n",
    "\n",
    "# Update all the database entries with a country_order\n",
    "for order_number, country in enumerate(sorted_population):\n",
    "    cursor.execute('update countries set country_order = ? where country_name = ?', (order_number, country[0]))\n",
    "connection.commit()\n",
    "\n",
    "connection.close()"
   ]
  }
 ],
 "metadata": {
  "interpreter": {
   "hash": "31f2aee4e71d21fbe5cf8b01ff0e069b9275f58929596ceb00d14d90e3e16cd6"
  },
  "kernelspec": {
   "display_name": "Python 3.8.9 64-bit",
   "name": "python3"
  },
  "language_info": {
   "codemirror_mode": {
    "name": "ipython",
    "version": 3
   },
   "file_extension": ".py",
   "mimetype": "text/x-python",
   "name": "python",
   "nbconvert_exporter": "python",
   "pygments_lexer": "ipython3",
   "version": "3.8.9"
  },
  "orig_nbformat": 4
 },
 "nbformat": 4,
 "nbformat_minor": 2
}
