{
 "cells": [
  {
   "cell_type": "code",
   "execution_count": 1,
   "metadata": {},
   "outputs": [],
   "source": [
    "# No idea what we are doing yet........\n"
   ]
  },
  {
   "cell_type": "code",
   "execution_count": 5,
   "metadata": {},
   "outputs": [],
   "source": [
    "# Create the database\n",
    "import sqlite3\n",
    "\n",
    "connection = sqlite3.connect('library.db')\n",
    "# Executing many commands with .executescript()\n",
    "cursor = connection.executescript(\"\"\"\n",
    "create table if not exists person(\n",
    "    first_name text, last_name text, age integer\n",
    ");\n",
    "\n",
    "create table if not exists books(\n",
    "    title text, author text, published text\n",
    ");\n",
    "\n",
    "insert into books values(\n",
    "    'Dirk Gently''s Holistic Dective Agency',\n",
    "    'Douglas Adams',\n",
    "    1987, '0', '0'\n",
    ");\n",
    "INSERT into books values ('Outliers','Malcolm Gladwell', 1684, '0', '0');\n",
    "INSERT into books values ('Humble Pie','Matt Parker', 1952, '0', '0');\n",
    "INSERT into books values ('52 Small Changes','Brett Blumenthal', 1765, '0', '0');\n",
    "INSERT into books values ('Blink','Malcolm Gladwell', 1647, '0', '0');\n",
    "INSERT into books values ('The Tipping Point','Malcolm Gladwell', 1945, '0', '0');\n",
    "INSERT into books values ('All the Powers of Earth','Sidney Blumenthal', 1976, '0', '0');\n",
    "\"\"\")\n",
    "connection.commit()\n",
    "connection.close()"
   ]
  },
  {
   "cell_type": "code",
   "execution_count": 20,
   "metadata": {},
   "outputs": [
    {
     "name": "stdout",
     "output_type": "stream",
     "text": [
      "('person',)\n",
      "('books',)\n"
     ]
    }
   ],
   "source": [
    "# Check created tables\n",
    "connection = sqlite3.connect('library.db')\n",
    "cursor = connection.cursor()\n",
    "cursor.execute('select name from sqlite_master')\n",
    "tables = cursor.fetchall()\n",
    "for table in tables:\n",
    "    print(table)\n",
    "connection.close()"
   ]
  },
  {
   "cell_type": "code",
   "execution_count": 1,
   "metadata": {},
   "outputs": [
    {
     "ename": "OperationalError",
     "evalue": "no such column: \"title\"",
     "output_type": "error",
     "traceback": [
      "\u001b[0;31m---------------------------------------------------------------------------\u001b[0m",
      "\u001b[0;31mOperationalError\u001b[0m                          Traceback (most recent call last)",
      "\u001b[0;32m/var/folders/hl/rnkm2m_d3s92k66lxdhnvbpr0000gn/T/ipykernel_89216/3876649606.py\u001b[0m in \u001b[0;36m<module>\u001b[0;34m\u001b[0m\n\u001b[1;32m      4\u001b[0m \u001b[0mcursor\u001b[0m \u001b[0;34m=\u001b[0m \u001b[0mconnection\u001b[0m\u001b[0;34m.\u001b[0m\u001b[0mcursor\u001b[0m\u001b[0;34m(\u001b[0m\u001b[0;34m)\u001b[0m\u001b[0;34m\u001b[0m\u001b[0;34m\u001b[0m\u001b[0m\n\u001b[1;32m      5\u001b[0m \u001b[0;31m# changing column names\u001b[0m\u001b[0;34m\u001b[0m\u001b[0;34m\u001b[0m\u001b[0;34m\u001b[0m\u001b[0m\n\u001b[0;32m----> 6\u001b[0;31m \u001b[0mcursor\u001b[0m\u001b[0;34m.\u001b[0m\u001b[0mexecute\u001b[0m\u001b[0;34m(\u001b[0m\u001b[0;34m'alter table books rename column title to sub_title'\u001b[0m\u001b[0;34m)\u001b[0m\u001b[0;34m\u001b[0m\u001b[0;34m\u001b[0m\u001b[0m\n\u001b[0m\u001b[1;32m      7\u001b[0m \u001b[0mconnection\u001b[0m\u001b[0;34m.\u001b[0m\u001b[0mcommit\u001b[0m\u001b[0;34m(\u001b[0m\u001b[0;34m)\u001b[0m\u001b[0;34m\u001b[0m\u001b[0;34m\u001b[0m\u001b[0m\n\u001b[1;32m      8\u001b[0m \u001b[0;34m\u001b[0m\u001b[0m\n",
      "\u001b[0;31mOperationalError\u001b[0m: no such column: \"title\""
     ]
    }
   ],
   "source": [
    "import sqlite3\n",
    "\n",
    "connection = sqlite3.connect('library.db')\n",
    "cursor = connection.cursor()\n",
    "# changing column names\n",
    "cursor.execute('alter table books rename column title to sub_title')\n",
    "connection.commit()\n",
    "\n",
    "cursor.execute('select * from books')\n",
    "books = cursor.fetchall()\n",
    "\n",
    "[print(book) for book in books]"
   ]
  },
  {
   "cell_type": "code",
   "execution_count": 3,
   "metadata": {},
   "outputs": [
    {
     "name": "stdout",
     "output_type": "stream",
     "text": [
      "[(\"Dirk Gently's Holistic Dective Agency\", 'Douglas Adams', '1987', None, None, None), (\"Dirk Gently's Holistic Dective Agency\", 'Douglas Adams', '1987', '0', '0', None), ('Outliers', 'Malcolm Gladwell', '1684', '0', '0', None), (\"Dirk Gently's Holistic Dective Agency\", 'Douglas Adams', '1987', '0', '0', None), ('Outliers', 'Malcolm Gladwell', '1684', '0', '0', None), ('Humble Pie', 'Matt Parker', '1952', '0', '0', None), (\"Dirk Gently's Holistic Dective Agency\", 'Douglas Adams', '1987', '0', '0', None), ('Outliers', 'Malcolm Gladwell', '1684', '0', '0', None), ('Humble Pie', 'Matt Parker', '1952', '0', '0', None), ('52 Small Changes', 'Brett Blumenthal', '1765', '0', '0', None), ('Blink', 'Malcolm Gladwell', '1647', '0', '0', None), ('The Tipping Point', 'Malcolm Gladwell', '1945', '0', '0', None), ('All the Powers of Earth', 'Sidney Blumenthal', '1976', '0', '0', None), (\"Dirk Gently's Holistic Dective Agency\", 'Douglas Adams', '1987', '0', '0', None), ('Outliers', 'Malcolm Gladwell', '1684', '0', '0', None), ('Humble Pie', 'Matt Parker', '1952', '0', '0', None), ('52 Small Changes', 'Brett Blumenthal', '1765', '0', '0', None), ('Blink', 'Malcolm Gladwell', '1647', '0', '0', None), ('The Tipping Point', 'Malcolm Gladwell', '1945', '0', '0', None), ('All the Powers of Earth', 'Sidney Blumenthal', '1976', '0', '0', None)]\n"
     ]
    }
   ],
   "source": [
    "# Adding column to a table\n",
    "import sqlite3\n",
    "\n",
    "connection = sqlite3.connect('library.db')\n",
    "cursor = connection.cursor()\n",
    "\n",
    "\n",
    "try:\n",
    "    # Syntax for adding columns\n",
    "    cursor.execute('alter table books add column likes int')\n",
    "    cursor.execute('alter table books add column price text')\n",
    "    cursor.execute('alter table books add column ebook_price text')\n",
    "    connection.commit()\n",
    "except:\n",
    "    pass\n",
    "\n",
    "cursor.execute('select * from books')\n",
    "books = cursor.fetchall()\n",
    "\n",
    "print([book for book in books])\n",
    "\n",
    "connection.close()"
   ]
  },
  {
   "cell_type": "code",
   "execution_count": 24,
   "metadata": {},
   "outputs": [
    {
     "name": "stdout",
     "output_type": "stream",
     "text": [
      "(\"Dirk Gently's Holistic Dective Agency\", 'Douglas Adams', '1987', None, None)\n"
     ]
    }
   ],
   "source": [
    "import sqlite3\n",
    "connection = sqlite3.connect('library.db')\n",
    "cursor = connection.cursor()\n",
    "cursor.execute('''\n",
    "    update books set price = '12.99' where author = 'Malcolm Gladwell'\n",
    "''')\n",
    "connection.commit()\n",
    "books = cursor.execute('select * from books')\n",
    "[print(book) for book in books]\n",
    "connection.close()"
   ]
  }
 ],
 "metadata": {
  "interpreter": {
   "hash": "31f2aee4e71d21fbe5cf8b01ff0e069b9275f58929596ceb00d14d90e3e16cd6"
  },
  "kernelspec": {
   "display_name": "Python 3.8.9 64-bit",
   "name": "python3"
  },
  "language_info": {
   "codemirror_mode": {
    "name": "ipython",
    "version": 3
   },
   "file_extension": ".py",
   "mimetype": "text/x-python",
   "name": "python",
   "nbconvert_exporter": "python",
   "pygments_lexer": "ipython3",
   "version": "3.8.9"
  },
  "orig_nbformat": 4
 },
 "nbformat": 4,
 "nbformat_minor": 2
}
