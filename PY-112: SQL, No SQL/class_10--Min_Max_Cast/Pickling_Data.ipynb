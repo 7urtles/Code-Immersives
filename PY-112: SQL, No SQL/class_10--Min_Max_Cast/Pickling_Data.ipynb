{
 "cells": [
  {
   "cell_type": "code",
   "execution_count": null,
   "metadata": {},
   "outputs": [],
   "source": [
    "# Pickle Pickle Pickle"
   ]
  },
  {
   "cell_type": "code",
   "execution_count": 1,
   "metadata": {},
   "outputs": [
    {
     "name": "stdout",
     "output_type": "stream",
     "text": [
      "['here', 'are', 'some', 'things']\n"
     ]
    }
   ],
   "source": [
    "import pickle\n",
    "\n",
    "things = ['here', 'are', 'some', 'things']\n",
    "\n",
    "# Take a list and dump its pickled contents into a file\n",
    "with open('practice_data.dat','wb') as file:\n",
    "    # pickle.dump() takes the data,file-to-write,protocol\n",
    "    pickle.dump(things, file, protocol=pickle.HIGHEST_PROTOCOL)\n",
    "\n",
    "# this will get forgotten when the variable is re-used with pickled data...\n",
    "things.extend(['what','is','going','on'])\n",
    "\n",
    "# Loading pickled data from a file:\n",
    "with open('practice_data.dat','rb') as file:\n",
    "    things = pickle.load(file)\n",
    "print(things)"
   ]
  },
  {
   "cell_type": "code",
   "execution_count": 4,
   "metadata": {},
   "outputs": [
    {
     "name": "stdout",
     "output_type": "stream",
     "text": [
      "{'username': 'help', 'password': 'me'}\n"
     ]
    }
   ],
   "source": [
    "an_item = {'username':'help', 'password':'me'}\n",
    "\n",
    "with open('practice_data.dat', 'wb') as file:\n",
    "    pickle.dump(an_item, file, protocol=pickle.HIGHEST_PROTOCOL)\n",
    "\n",
    "# Deleting an variable to prove only pickled data will be used\n",
    "del an_item\n",
    "\n",
    "with open('practice_data.dat' ,'rb') as file:\n",
    "    data = pickle.load(file)\n",
    "print(data)"
   ]
  }
 ],
 "metadata": {
  "interpreter": {
   "hash": "31f2aee4e71d21fbe5cf8b01ff0e069b9275f58929596ceb00d14d90e3e16cd6"
  },
  "kernelspec": {
   "display_name": "Python 3.8.9 64-bit",
   "name": "python3"
  },
  "language_info": {
   "codemirror_mode": {
    "name": "ipython",
    "version": 3
   },
   "file_extension": ".py",
   "mimetype": "text/x-python",
   "name": "python",
   "nbconvert_exporter": "python",
   "pygments_lexer": "ipython3",
   "version": "3.8.9"
  },
  "orig_nbformat": 4
 },
 "nbformat": 4,
 "nbformat_minor": 2
}
