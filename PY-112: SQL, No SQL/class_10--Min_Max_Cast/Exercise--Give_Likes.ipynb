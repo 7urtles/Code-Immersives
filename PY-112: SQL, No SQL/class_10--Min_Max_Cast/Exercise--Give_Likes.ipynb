{
 "cells": [
  {
   "cell_type": "code",
   "execution_count": null,
   "metadata": {},
   "outputs": [],
   "source": [
    "# Using library.db from class_9\n",
    "\n",
    "# If the author last name is 'Gladwell' give 10000 likes\n",
    "# If book name is Humble Pie give it 7000 Likes\n",
    "# If the tile has word earth in it give 5000 likes and ebook_price of 8.49"
   ]
  },
  {
   "cell_type": "code",
   "execution_count": 20,
   "metadata": {},
   "outputs": [],
   "source": [
    "import sqlite3\n",
    "\n",
    "connection = sqlite3.connect('library.db')\n",
    "cursor = connection.cursor()\n",
    "\n",
    "# Part One\n",
    "cursor.execute(\"update books set likes = 10000 where author like '%Gladwell'\")\n",
    "\n",
    "# Part Two\n",
    "cursor.execute(\"update books set likes = 5000 where sub_title = 'Humble Pie'\")\n",
    "\n",
    "# Part Three\n",
    "cursor.execute(\n",
    "    \"\"\"\n",
    "    update books set likes = 5000,\n",
    "    ebook_price = 8.49 where \n",
    "    sub_title like '%Earth'\n",
    "    \"\"\"\n",
    ")\n",
    "\n",
    "connection.commit()\n",
    "connection.close()\n"
   ]
  }
 ],
 "metadata": {
  "interpreter": {
   "hash": "31f2aee4e71d21fbe5cf8b01ff0e069b9275f58929596ceb00d14d90e3e16cd6"
  },
  "kernelspec": {
   "display_name": "Python 3.8.9 64-bit",
   "name": "python3"
  },
  "language_info": {
   "codemirror_mode": {
    "name": "ipython",
    "version": 3
   },
   "file_extension": ".py",
   "mimetype": "text/x-python",
   "name": "python",
   "nbconvert_exporter": "python",
   "pygments_lexer": "ipython3",
   "version": "3.8.9"
  },
  "orig_nbformat": 4
 },
 "nbformat": 4,
 "nbformat_minor": 2
}
