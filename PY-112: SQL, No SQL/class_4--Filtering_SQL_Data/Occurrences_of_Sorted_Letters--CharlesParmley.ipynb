{
 "cells": [
  {
   "cell_type": "code",
   "execution_count": 85,
   "metadata": {},
   "outputs": [
    {
     "name": "stdout",
     "output_type": "stream",
     "text": [
      "\n",
      "\tA sorted list of tuples pairs sorted a-z,\n",
      "\tand how many times letters occur regardless of case:\n",
      "\n",
      "[(' ', 3), ('a', 6), ('b', 1), ('c', 7), ('e', 6), ('f', 4), ('g', 2), ('h', 2), ('i', 5), ('k', 1), ('l', 2), ('m', 2), ('n', 8), ('o', 7), ('r', 3), ('s', 4), ('t', 3), ('u', 3), ('y', 1)]\n"
     ]
    }
   ],
   "source": [
    "\n",
    "import sqlite3\n",
    "\n",
    "'''\n",
    " Iterate department names and return:\n",
    "        count of each letter regardless of case\n",
    "        count of blank spaces\n",
    "        list of letters found in alphabetic order\n",
    "'''\n",
    "def occurrences_of_sorted_letters():\n",
    "    '''\n",
    "    Finding, Sorting, and Counting letters from a group of names.\n",
    "    '''\n",
    "    connection = sqlite3.connect('test_database.db')\n",
    "    cursor = connection.cursor()\n",
    "    # Because the the department variable is not a copy of the database data, \n",
    "    #   only a pointer:\n",
    "\n",
    "    # Closing the database before operations on that variable are complete\n",
    "    #   will result in an error \"Cannot operate on closed database\"\n",
    "\n",
    "    # Creating a list of the database data resolves that error occurring and allows\n",
    "    #   the database to be closed immediately.\n",
    "    departments = list(cursor.execute('select department_name from departments'))\n",
    "    connection.close()\n",
    "\n",
    "    letters = ''\n",
    "    # Put all the department names into one string\n",
    "    for name in departments:\n",
    "        letters += name[0]\n",
    "\n",
    "    # make the string lowercase\n",
    "    letters = letters.lower()\n",
    "\n",
    "    # create dictionary of the letters and how many times they occur\n",
    "    results = {letter : letters.count(letter) for letter in letters}\n",
    "\n",
    "    # get sorted list of tuples from the dictionary\n",
    "    results = sorted(results.items())\n",
    "\n",
    "    # return the sorted results\n",
    "    return results\n",
    "\n",
    "print(f'\\n\\tA sorted list of tuples pairs sorted a-z,\\n\\tand how many times letters occur regardless of case:\\n')\n",
    "print(occurrences_of_sorted_letters())\n"
   ]
  }
 ],
 "metadata": {
  "interpreter": {
   "hash": "c6e4e9f98eb68ad3b7c296f83d20e6de614cb42e90992a65aa266555a3137d0d"
  },
  "kernelspec": {
   "display_name": "Python 3.9.6 64-bit ('base': conda)",
   "name": "python3"
  },
  "language_info": {
   "codemirror_mode": {
    "name": "ipython",
    "version": 3
   },
   "file_extension": ".py",
   "mimetype": "text/x-python",
   "name": "python",
   "nbconvert_exporter": "python",
   "pygments_lexer": "ipython3",
   "version": "3.9.6"
  },
  "orig_nbformat": 4
 },
 "nbformat": 4,
 "nbformat_minor": 2
}
