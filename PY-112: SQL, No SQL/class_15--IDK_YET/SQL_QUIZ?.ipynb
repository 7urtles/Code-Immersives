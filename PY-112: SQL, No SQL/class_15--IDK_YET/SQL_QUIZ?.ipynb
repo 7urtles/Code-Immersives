{
 "cells": [
  {
   "cell_type": "code",
   "execution_count": null,
   "metadata": {},
   "outputs": [],
   "source": [
    "# List all states with the word 'New'\n",
    "# How many states have more than 1 word names\n",
    "# List all of the states with a direction in their name\n",
    "# Print all the states where the name is 'Rhode Island', 'Maine', or 'New Hampshire'"
   ]
  },
  {
   "cell_type": "code",
   "execution_count": 29,
   "metadata": {},
   "outputs": [
    {
     "name": "stdout",
     "output_type": "stream",
     "text": [
      "['New Hampshire', 'New Jersey', 'New Mexico', 'New York'] \n",
      "\n",
      "10 \n",
      "\n",
      "['North Carolina', 'North Dakota', 'South Carolina', 'South Dakota', 'West Virginia'] \n",
      "\n",
      "['Maine', 'New Hampshire', 'Rhode Island'] \n",
      "\n"
     ]
    }
   ],
   "source": [
    "states_with_new = []\n",
    "multiple_word_names = []\n",
    "direction_names = []\n",
    "random_states = []\n",
    "with open('US_states_codes.txt') as file:\n",
    "    for line in file:\n",
    "        line = line.split('-')[0][4:-1]\n",
    "\n",
    "        # List all states with the word 'New'\n",
    "        if 'new' in line.lower():\n",
    "            states_with_new.append(line)\n",
    "\n",
    "        # How many states have more than 1 word names\n",
    "        if ' ' in line:\n",
    "            multiple_word_names.append(line)\n",
    "\n",
    "        # List all of the states with a direction in their name\n",
    "        if ' ' in line and 't' in line.split(' ')[0]:\n",
    "            direction_names.append(line)\n",
    "\n",
    "        # Print all the states where the name is 'Rhode Island', 'Maine', or 'New Hampshire'\n",
    "        if 'Rhode Island' in line:\n",
    "            random_states.append(line)\n",
    "        elif 'Maine' in line:\n",
    "            random_states.append(line)\n",
    "        elif 'New Hampshire' in line:\n",
    "            random_states.append(line)\n",
    "\n",
    "print(states_with_new, '\\n')\n",
    "print(len(multiple_word_names),'\\n')\n",
    "print(direction_names, '\\n')\n",
    "print(random_states, '\\n')"
   ]
  },
  {
   "cell_type": "code",
   "execution_count": null,
   "metadata": {},
   "outputs": [],
   "source": []
  }
 ],
 "metadata": {
  "interpreter": {
   "hash": "31f2aee4e71d21fbe5cf8b01ff0e069b9275f58929596ceb00d14d90e3e16cd6"
  },
  "kernelspec": {
   "display_name": "Python 3.8.9 64-bit",
   "language": "python",
   "name": "python3"
  },
  "language_info": {
   "codemirror_mode": {
    "name": "ipython",
    "version": 3
   },
   "file_extension": ".py",
   "mimetype": "text/x-python",
   "name": "python",
   "nbconvert_exporter": "python",
   "pygments_lexer": "ipython3",
   "version": "3.8.9"
  },
  "orig_nbformat": 4
 },
 "nbformat": 4,
 "nbformat_minor": 2
}
