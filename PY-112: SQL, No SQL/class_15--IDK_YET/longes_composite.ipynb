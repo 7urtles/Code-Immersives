{
 "cells": [
  {
   "cell_type": "code",
   "execution_count": 16,
   "metadata": {},
   "outputs": [
    {
     "name": "stdout",
     "output_type": "stream",
     "text": [
      "[2, 4, 6, 12]\n"
     ]
    }
   ],
   "source": [
    "def is_prime(a):  \n",
    "    # Checking that given number is more than 1  \n",
    "    if a > 1:  \n",
    "        # Iterating over the given number with for loop  \n",
    "        for j in range(2, int(a/2) + 1):  \n",
    "            # If the given number is divisible or not  \n",
    "            if (a % j) == 0:  \n",
    "                return False \n",
    "        # Else it is a prime number  \n",
    "        else:  \n",
    "            return True\n",
    "    # If the given number is 1  \n",
    "    else:  \n",
    "        return True\n",
    "\n",
    "def print_factors(x):\n",
    "    factor_list = []\n",
    "    for i in range(1, x + 1):\n",
    "        if x % i == 0:\n",
    "            factor_list.append(i)\n",
    "    return factor_list\n",
    "\n",
    "longest_factor_list = []\n",
    "# iterate required range\n",
    "for i in range(1000,3000):\n",
    "    # get the list of factors\n",
    "    factors = print_factors(i)\n",
    "    for i in factors:\n",
    "        if is_prime(i) == True:\n",
    "            factors.remove(i)\n",
    "    # if the factor length is longer than the curent longest, update it\n",
    "    if len(factors) > len(longest_factor_list):\n",
    "        longest_factor_list = factors\n",
    "\n",
    "\n",
    "print(longest_factor_list)"
   ]
  }
 ],
 "metadata": {
  "interpreter": {
   "hash": "31f2aee4e71d21fbe5cf8b01ff0e069b9275f58929596ceb00d14d90e3e16cd6"
  },
  "kernelspec": {
   "display_name": "Python 3.8.9 64-bit",
   "language": "python",
   "name": "python3"
  },
  "language_info": {
   "codemirror_mode": {
    "name": "ipython",
    "version": 3
   },
   "file_extension": ".py",
   "mimetype": "text/x-python",
   "name": "python",
   "nbconvert_exporter": "python",
   "pygments_lexer": "ipython3",
   "version": "3.8.9"
  },
  "orig_nbformat": 4
 },
 "nbformat": 4,
 "nbformat_minor": 2
}
