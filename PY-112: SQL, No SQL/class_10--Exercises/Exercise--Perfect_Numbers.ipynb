{
 "cells": [
  {
   "cell_type": "code",
   "execution_count": null,
   "metadata": {},
   "outputs": [],
   "source": [
    "# Perfect numbers are numbers whos factors (excluding the number) add up to its self\n",
    "\n",
    "# Check the first 5000 numbers and see which are perfect numbers"
   ]
  },
  {
   "cell_type": "code",
   "execution_count": 11,
   "metadata": {},
   "outputs": [
    {
     "name": "stdout",
     "output_type": "stream",
     "text": [
      "[0, 6, 28, 496]\n"
     ]
    }
   ],
   "source": [
    "# Find Factors\n",
    "def sum_of_factors(num):      # Find the factors, and exclude the original number\n",
    "    factors = [number for number in range(1, num + 1) if num % number == 0][:-1]\n",
    "    return sum(factors) # Return the sum of the factor set\n",
    "\n",
    "# List of numbers,  ,  check numbers up to 5000     if the sum of their factors (excluding its self) equal the number\n",
    "perfect_numbers = [number for number in range(5000) if sum_of_factors(number) == number]\n",
    "\n",
    "print(perfect_numbers)"
   ]
  }
 ],
 "metadata": {
  "interpreter": {
   "hash": "31f2aee4e71d21fbe5cf8b01ff0e069b9275f58929596ceb00d14d90e3e16cd6"
  },
  "kernelspec": {
   "display_name": "Python 3.8.9 64-bit",
   "name": "python3"
  },
  "language_info": {
   "codemirror_mode": {
    "name": "ipython",
    "version": 3
   },
   "file_extension": ".py",
   "mimetype": "text/x-python",
   "name": "python",
   "nbconvert_exporter": "python",
   "pygments_lexer": "ipython3",
   "version": "3.8.9"
  },
  "orig_nbformat": 4
 },
 "nbformat": 4,
 "nbformat_minor": 2
}
