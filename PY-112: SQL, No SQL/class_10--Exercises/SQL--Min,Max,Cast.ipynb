{
 "cells": [
  {
   "cell_type": "code",
   "execution_count": 21,
   "metadata": {},
   "outputs": [
    {
     "name": "stdout",
     "output_type": "stream",
     "text": [
      "Uncasted Sorted:\n",
      "Min: [('0',)]\n",
      "Max: [('8.49',)]\n",
      "\n",
      "Casted Sorted:\n",
      "Min: [(0.0,)]\n",
      "Max: [(8.49,)]\n"
     ]
    }
   ],
   "source": [
    "# Finding Min, Max....And doing Casting in SQLITE3\n",
    "\n",
    "import sqlite3\n",
    "connection = sqlite3.connect('library.db')\n",
    "cursor = connection.cursor()\n",
    "\n",
    "#----------------------------------------------------\n",
    "# Finding min/max of a column within the query...\n",
    "# Syntax is: \n",
    "#       min(column_name)\n",
    "#       max(column_name)\n",
    "\n",
    "print('Uncasted Sorted:')\n",
    "# Finding the mininum:\n",
    "#   order the books by a column ascending, then select out the min\n",
    "books = list(cursor.execute('select min(ebook_price) from books order by ebook_price asc'))\n",
    "print(f'Min: {books}')\n",
    "\n",
    "# Finding the maximum:\n",
    "#   order the books by a column descending, then select out the max\n",
    "books = list(cursor.execute('select max(ebook_price) from books order by ebook_price desc'))\n",
    "print(f'Max: {books}')\n",
    "\n",
    "\n",
    "\n",
    "#----------------------------------------------------\n",
    "# Casting the price to a number within the query...\n",
    "# Syntax is: \n",
    "# #     cast(column_name as data_type)\n",
    "\n",
    "# min:\n",
    "print('\\nCasted Sorted:')\n",
    "\n",
    "books = list(cursor.execute('select min(cast(ebook_price as real)) from books order by ebook_price asc'))\n",
    "print(f'Min: {books}')\n",
    "\n",
    "# max:\n",
    "books = list(cursor.execute('select max(cast(ebook_price as real)) from books order by ebook_price asc'))\n",
    "print(f'Max: {books}')\n",
    "connection.close()"
   ]
  }
 ],
 "metadata": {
  "interpreter": {
   "hash": "31f2aee4e71d21fbe5cf8b01ff0e069b9275f58929596ceb00d14d90e3e16cd6"
  },
  "kernelspec": {
   "display_name": "Python 3.8.9 64-bit",
   "name": "python3"
  },
  "language_info": {
   "codemirror_mode": {
    "name": "ipython",
    "version": 3
   },
   "file_extension": ".py",
   "mimetype": "text/x-python",
   "name": "python",
   "nbconvert_exporter": "python",
   "pygments_lexer": "ipython3",
   "version": "3.8.9"
  },
  "orig_nbformat": 4
 },
 "nbformat": 4,
 "nbformat_minor": 2
}
