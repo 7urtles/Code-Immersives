{
 "cells": [
  {
   "cell_type": "code",
   "execution_count": 1,
   "metadata": {},
   "outputs": [
    {
     "name": "stdout",
     "output_type": "stream",
     "text": [
      "1\n",
      "[2, 3, 4]\n"
     ]
    }
   ],
   "source": [
    "# Unpacking variables\n",
    "\n",
    "values = [1,2,3,4]\n",
    "\n",
    "# assiging *b will put all the remaining values into b\n",
    "a,*b = values\n",
    "print(a)\n",
    "print(b)\n"
   ]
  },
  {
   "cell_type": "code",
   "execution_count": null,
   "metadata": {},
   "outputs": [],
   "source": [
    "# return prime factors of numbers between 2 and 50\n",
    "\n",
    "def print_factors(): # need the factors\n",
    "    factors = {}\n",
    "    for num in range(50,151):\n",
    "        factors[num] = [number for number in range(1, num + 1) if num % number == 0] \n",
    "    return factors\n",
    "list_of_factors = print_factors()\n",
    "\n",
    "def is_prime(number): # and need to check for primes\n",
    "    for num in range(2,int(number**1/2)+1):\n",
    "        if number % num == 0:\n",
    "            return False\n",
    "        return True\n",
    "\n",
    "# find the factors\n",
    "def prime_factors(list_of_factors):\n",
    "    for number,factors in list_of_factors.items():\n",
    "        if \n",
    "prime_factors(list_of_factors)"
   ]
  },
  {
   "cell_type": "code",
   "execution_count": 132,
   "metadata": {},
   "outputs": [],
   "source": [
    "numList = [88,89,90,91,84,86,88,91,88,91]\n",
    "\n",
    "# mean\n",
    "def mean():\n",
    "    return sum(numList)/len(numList)\n",
    "print(f\"mean: {mean()}\")\n",
    "\n",
    "# median\n",
    "def median():\n",
    "    numList_sorted = sorted(numList)\n",
    "    #              return the average of the middle two values in the list                  if the list is an even legth    else return the middle number from the list\n",
    "    return numList_sorted[int((int(len(numList_sorted)/2)+int(len(numList_sorted)/2)+1)/2)] if len(numList_sorted) % 2 == 0 else numList_sorted[int(len(numList_sorted)/2 + .5)]\n",
    "print(f\"median: {median()}\")\n",
    "\n",
    "# mode\n",
    "def mode():\n",
    "    # Compare how many times each numbers occur and return the one which occurs the most\n",
    "    counts = {number:numList.count(number) for number in numList}\n",
    "\n",
    "    \n",
    "    # The walrus list comp only works for a list with one mode.... would be nice to adapt to work with multiple modes\n",
    "    mode = numList[0]\n",
    "    [mode:=number for number in numList if numList.count(number) > mode]\n",
    "    print(f\"Walrus list comp modes (incorrect): {mode}\")\n",
    "\n",
    "    # Working for any number of modes\n",
    "    results = sorted(counts.items())\n",
    "    mode = [results[0]]\n",
    "    for result in results:\n",
    "        if result[1] > mode[0][1]:\n",
    "            mode = [result]\n",
    "        elif result[1] == mode[0][1] and result not in mode:\n",
    "            mode.append(result)\n",
    "    return mode\n",
    "\n",
    "print(f\"modes: {mode()}\")"
   ]
  }
 ],
 "metadata": {
  "interpreter": {
   "hash": "31f2aee4e71d21fbe5cf8b01ff0e069b9275f58929596ceb00d14d90e3e16cd6"
  },
  "kernelspec": {
   "display_name": "Python 3.8.9 64-bit",
   "name": "python3"
  },
  "language_info": {
   "codemirror_mode": {
    "name": "ipython",
    "version": 3
   },
   "file_extension": ".py",
   "mimetype": "text/x-python",
   "name": "python",
   "nbconvert_exporter": "python",
   "pygments_lexer": "ipython3",
   "version": "3.8.9"
  },
  "orig_nbformat": 4
 },
 "nbformat": 4,
 "nbformat_minor": 2
}
