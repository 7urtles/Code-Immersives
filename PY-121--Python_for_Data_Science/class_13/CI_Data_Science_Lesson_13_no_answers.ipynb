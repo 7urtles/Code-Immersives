{
  "cells": [
    {
      "cell_type": "markdown",
      "metadata": {
        "id": "NrmesXn_6xGN"
      },
      "source": [
        "\n",
        "\n",
        "\n",
        "\n",
        "\n",
        "<a href=\"https://codeimmersives.com\"><img src = \"https://www.codeimmersives.com/wp-content/uploads/2019/09/CodeImmersives_Logo_RGB_NYC_BW.png\" width = 400> </a>\n",
        "\n",
        "\n",
        "<h1 align=center><font size = 5>Agenda</font></h1>"
      ]
    },
    {
      "cell_type": "markdown",
      "metadata": {
        "id": "ETs9WrSZ64t3"
      },
      "source": [
        "### \n",
        "<div class=\"alert alert-block alert-info\" style=\"margin-top: 20px\">\n",
        "\n",
        "1.  [Exercise Review](#0)<br>\n",
        "2.  [Pandas Probelm Walkthrough](#2)<br>\n",
        "2.  [Pandas Problem Walkthrough 2](#10)<br> \n",
        "3.  [Pandas Problem Walkthrough 3](#12)\n",
        "4.  [Exercise] \n",
        "<br>     \n",
        "</div>\n",
        "<hr>"
      ]
    },
    {
      "cell_type": "markdown",
      "metadata": {
        "id": "Weh3fFcCUl73"
      },
      "source": [
        "<h2>Creata a dataframe using a list of lists</h2>"
      ]
    },
    {
      "cell_type": "code",
      "execution_count": 1,
      "metadata": {
        "id": "hcOA6zuQUl73",
        "outputId": "b2cee529-9a69-446e-c6da-e062d98a40dd"
      },
      "outputs": [
        {
          "data": {
            "text/html": [
              "<div>\n",
              "<style scoped>\n",
              "    .dataframe tbody tr th:only-of-type {\n",
              "        vertical-align: middle;\n",
              "    }\n",
              "\n",
              "    .dataframe tbody tr th {\n",
              "        vertical-align: top;\n",
              "    }\n",
              "\n",
              "    .dataframe thead th {\n",
              "        text-align: right;\n",
              "    }\n",
              "</style>\n",
              "<table border=\"1\" class=\"dataframe\">\n",
              "  <thead>\n",
              "    <tr style=\"text-align: right;\">\n",
              "      <th></th>\n",
              "      <th>col 1</th>\n",
              "      <th>col 2</th>\n",
              "      <th>col 3</th>\n",
              "    </tr>\n",
              "  </thead>\n",
              "  <tbody>\n",
              "    <tr>\n",
              "      <th>row_1</th>\n",
              "      <td>1</td>\n",
              "      <td>0</td>\n",
              "      <td>0</td>\n",
              "    </tr>\n",
              "    <tr>\n",
              "      <th>row_2</th>\n",
              "      <td>0</td>\n",
              "      <td>1</td>\n",
              "      <td>0</td>\n",
              "    </tr>\n",
              "    <tr>\n",
              "      <th>row_3</th>\n",
              "      <td>0</td>\n",
              "      <td>0</td>\n",
              "      <td>1</td>\n",
              "    </tr>\n",
              "  </tbody>\n",
              "</table>\n",
              "</div>"
            ],
            "text/plain": [
              "       col 1  col 2  col 3\n",
              "row_1      1      0      0\n",
              "row_2      0      1      0\n",
              "row_3      0      0      1"
            ]
          },
          "execution_count": 1,
          "metadata": {},
          "output_type": "execute_result"
        }
      ],
      "source": [
        "import numpy as nd\n",
        "import pandas as pd\n",
        "idx = ['row_1','row_2','row_3']\n",
        "df = pd.DataFrame([[1,0,0],[0, 1, 0],[0,0,1]],index=idx,columns=['col 1','col 2','col 3'])\n",
        "df"
      ]
    },
    {
      "cell_type": "code",
      "execution_count": null,
      "metadata": {
        "id": "FqL3XFvlB0hF"
      },
      "outputs": [],
      "source": []
    },
    {
      "cell_type": "code",
      "execution_count": 2,
      "metadata": {
        "colab": {
          "base_uri": "https://localhost:8080/",
          "height": 423
        },
        "id": "02bGUnb6Ul73",
        "outputId": "5ec459b4-4e92-4ceb-b422-9f0ea3cfcba7"
      },
      "outputs": [
        {
          "ename": "FileNotFoundError",
          "evalue": "[Errno 2] No such file or directory: 'AMD.csv'",
          "output_type": "error",
          "traceback": [
            "\u001b[0;31m---------------------------------------------------------------------------\u001b[0m",
            "\u001b[0;31mFileNotFoundError\u001b[0m                         Traceback (most recent call last)",
            "\u001b[1;32m/Users/charlesparmley/Desktop/PY-121--Python_for_Data_Science/class_13/CI_Data_Science_Lesson_13_no_answers.ipynb Cell 6'\u001b[0m in \u001b[0;36m<module>\u001b[0;34m\u001b[0m\n\u001b[1;32m      <a href='vscode-notebook-cell:/Users/charlesparmley/Desktop/PY-121--Python_for_Data_Science/class_13/CI_Data_Science_Lesson_13_no_answers.ipynb#ch0000005?line=0'>1</a>\u001b[0m \u001b[39mimport\u001b[39;00m \u001b[39mpandas\u001b[39;00m \u001b[39mas\u001b[39;00m \u001b[39mpd\u001b[39;00m\n\u001b[0;32m----> <a href='vscode-notebook-cell:/Users/charlesparmley/Desktop/PY-121--Python_for_Data_Science/class_13/CI_Data_Science_Lesson_13_no_answers.ipynb#ch0000005?line=1'>2</a>\u001b[0m amd \u001b[39m=\u001b[39m pd\u001b[39m.\u001b[39;49mread_csv(\u001b[39m'\u001b[39;49m\u001b[39mAMD.csv\u001b[39;49m\u001b[39m'\u001b[39;49m)\n\u001b[1;32m      <a href='vscode-notebook-cell:/Users/charlesparmley/Desktop/PY-121--Python_for_Data_Science/class_13/CI_Data_Science_Lesson_13_no_answers.ipynb#ch0000005?line=2'>3</a>\u001b[0m amd\n",
            "File \u001b[0;32m~/Desktop/PY-121--Python_for_Data_Science/venv/lib/python3.10/site-packages/pandas/util/_decorators.py:311\u001b[0m, in \u001b[0;36mdeprecate_nonkeyword_arguments.<locals>.decorate.<locals>.wrapper\u001b[0;34m(*args, **kwargs)\u001b[0m\n\u001b[1;32m    <a href='file:///~/Desktop/PY-121--Python_for_Data_Science/venv/lib/python3.10/site-packages/pandas/util/_decorators.py?line=304'>305</a>\u001b[0m \u001b[39mif\u001b[39;00m \u001b[39mlen\u001b[39m(args) \u001b[39m>\u001b[39m num_allow_args:\n\u001b[1;32m    <a href='file:///~/Desktop/PY-121--Python_for_Data_Science/venv/lib/python3.10/site-packages/pandas/util/_decorators.py?line=305'>306</a>\u001b[0m     warnings\u001b[39m.\u001b[39mwarn(\n\u001b[1;32m    <a href='file:///~/Desktop/PY-121--Python_for_Data_Science/venv/lib/python3.10/site-packages/pandas/util/_decorators.py?line=306'>307</a>\u001b[0m         msg\u001b[39m.\u001b[39mformat(arguments\u001b[39m=\u001b[39marguments),\n\u001b[1;32m    <a href='file:///~/Desktop/PY-121--Python_for_Data_Science/venv/lib/python3.10/site-packages/pandas/util/_decorators.py?line=307'>308</a>\u001b[0m         \u001b[39mFutureWarning\u001b[39;00m,\n\u001b[1;32m    <a href='file:///~/Desktop/PY-121--Python_for_Data_Science/venv/lib/python3.10/site-packages/pandas/util/_decorators.py?line=308'>309</a>\u001b[0m         stacklevel\u001b[39m=\u001b[39mstacklevel,\n\u001b[1;32m    <a href='file:///~/Desktop/PY-121--Python_for_Data_Science/venv/lib/python3.10/site-packages/pandas/util/_decorators.py?line=309'>310</a>\u001b[0m     )\n\u001b[0;32m--> <a href='file:///~/Desktop/PY-121--Python_for_Data_Science/venv/lib/python3.10/site-packages/pandas/util/_decorators.py?line=310'>311</a>\u001b[0m \u001b[39mreturn\u001b[39;00m func(\u001b[39m*\u001b[39;49margs, \u001b[39m*\u001b[39;49m\u001b[39m*\u001b[39;49mkwargs)\n",
            "File \u001b[0;32m~/Desktop/PY-121--Python_for_Data_Science/venv/lib/python3.10/site-packages/pandas/io/parsers/readers.py:680\u001b[0m, in \u001b[0;36mread_csv\u001b[0;34m(filepath_or_buffer, sep, delimiter, header, names, index_col, usecols, squeeze, prefix, mangle_dupe_cols, dtype, engine, converters, true_values, false_values, skipinitialspace, skiprows, skipfooter, nrows, na_values, keep_default_na, na_filter, verbose, skip_blank_lines, parse_dates, infer_datetime_format, keep_date_col, date_parser, dayfirst, cache_dates, iterator, chunksize, compression, thousands, decimal, lineterminator, quotechar, quoting, doublequote, escapechar, comment, encoding, encoding_errors, dialect, error_bad_lines, warn_bad_lines, on_bad_lines, delim_whitespace, low_memory, memory_map, float_precision, storage_options)\u001b[0m\n\u001b[1;32m    <a href='file:///~/Desktop/PY-121--Python_for_Data_Science/venv/lib/python3.10/site-packages/pandas/io/parsers/readers.py?line=664'>665</a>\u001b[0m kwds_defaults \u001b[39m=\u001b[39m _refine_defaults_read(\n\u001b[1;32m    <a href='file:///~/Desktop/PY-121--Python_for_Data_Science/venv/lib/python3.10/site-packages/pandas/io/parsers/readers.py?line=665'>666</a>\u001b[0m     dialect,\n\u001b[1;32m    <a href='file:///~/Desktop/PY-121--Python_for_Data_Science/venv/lib/python3.10/site-packages/pandas/io/parsers/readers.py?line=666'>667</a>\u001b[0m     delimiter,\n\u001b[0;32m   (...)\u001b[0m\n\u001b[1;32m    <a href='file:///~/Desktop/PY-121--Python_for_Data_Science/venv/lib/python3.10/site-packages/pandas/io/parsers/readers.py?line=675'>676</a>\u001b[0m     defaults\u001b[39m=\u001b[39m{\u001b[39m\"\u001b[39m\u001b[39mdelimiter\u001b[39m\u001b[39m\"\u001b[39m: \u001b[39m\"\u001b[39m\u001b[39m,\u001b[39m\u001b[39m\"\u001b[39m},\n\u001b[1;32m    <a href='file:///~/Desktop/PY-121--Python_for_Data_Science/venv/lib/python3.10/site-packages/pandas/io/parsers/readers.py?line=676'>677</a>\u001b[0m )\n\u001b[1;32m    <a href='file:///~/Desktop/PY-121--Python_for_Data_Science/venv/lib/python3.10/site-packages/pandas/io/parsers/readers.py?line=677'>678</a>\u001b[0m kwds\u001b[39m.\u001b[39mupdate(kwds_defaults)\n\u001b[0;32m--> <a href='file:///~/Desktop/PY-121--Python_for_Data_Science/venv/lib/python3.10/site-packages/pandas/io/parsers/readers.py?line=679'>680</a>\u001b[0m \u001b[39mreturn\u001b[39;00m _read(filepath_or_buffer, kwds)\n",
            "File \u001b[0;32m~/Desktop/PY-121--Python_for_Data_Science/venv/lib/python3.10/site-packages/pandas/io/parsers/readers.py:575\u001b[0m, in \u001b[0;36m_read\u001b[0;34m(filepath_or_buffer, kwds)\u001b[0m\n\u001b[1;32m    <a href='file:///~/Desktop/PY-121--Python_for_Data_Science/venv/lib/python3.10/site-packages/pandas/io/parsers/readers.py?line=571'>572</a>\u001b[0m _validate_names(kwds\u001b[39m.\u001b[39mget(\u001b[39m\"\u001b[39m\u001b[39mnames\u001b[39m\u001b[39m\"\u001b[39m, \u001b[39mNone\u001b[39;00m))\n\u001b[1;32m    <a href='file:///~/Desktop/PY-121--Python_for_Data_Science/venv/lib/python3.10/site-packages/pandas/io/parsers/readers.py?line=573'>574</a>\u001b[0m \u001b[39m# Create the parser.\u001b[39;00m\n\u001b[0;32m--> <a href='file:///~/Desktop/PY-121--Python_for_Data_Science/venv/lib/python3.10/site-packages/pandas/io/parsers/readers.py?line=574'>575</a>\u001b[0m parser \u001b[39m=\u001b[39m TextFileReader(filepath_or_buffer, \u001b[39m*\u001b[39;49m\u001b[39m*\u001b[39;49mkwds)\n\u001b[1;32m    <a href='file:///~/Desktop/PY-121--Python_for_Data_Science/venv/lib/python3.10/site-packages/pandas/io/parsers/readers.py?line=576'>577</a>\u001b[0m \u001b[39mif\u001b[39;00m chunksize \u001b[39mor\u001b[39;00m iterator:\n\u001b[1;32m    <a href='file:///~/Desktop/PY-121--Python_for_Data_Science/venv/lib/python3.10/site-packages/pandas/io/parsers/readers.py?line=577'>578</a>\u001b[0m     \u001b[39mreturn\u001b[39;00m parser\n",
            "File \u001b[0;32m~/Desktop/PY-121--Python_for_Data_Science/venv/lib/python3.10/site-packages/pandas/io/parsers/readers.py:933\u001b[0m, in \u001b[0;36mTextFileReader.__init__\u001b[0;34m(self, f, engine, **kwds)\u001b[0m\n\u001b[1;32m    <a href='file:///~/Desktop/PY-121--Python_for_Data_Science/venv/lib/python3.10/site-packages/pandas/io/parsers/readers.py?line=929'>930</a>\u001b[0m     \u001b[39mself\u001b[39m\u001b[39m.\u001b[39moptions[\u001b[39m\"\u001b[39m\u001b[39mhas_index_names\u001b[39m\u001b[39m\"\u001b[39m] \u001b[39m=\u001b[39m kwds[\u001b[39m\"\u001b[39m\u001b[39mhas_index_names\u001b[39m\u001b[39m\"\u001b[39m]\n\u001b[1;32m    <a href='file:///~/Desktop/PY-121--Python_for_Data_Science/venv/lib/python3.10/site-packages/pandas/io/parsers/readers.py?line=931'>932</a>\u001b[0m \u001b[39mself\u001b[39m\u001b[39m.\u001b[39mhandles: IOHandles \u001b[39m|\u001b[39m \u001b[39mNone\u001b[39;00m \u001b[39m=\u001b[39m \u001b[39mNone\u001b[39;00m\n\u001b[0;32m--> <a href='file:///~/Desktop/PY-121--Python_for_Data_Science/venv/lib/python3.10/site-packages/pandas/io/parsers/readers.py?line=932'>933</a>\u001b[0m \u001b[39mself\u001b[39m\u001b[39m.\u001b[39m_engine \u001b[39m=\u001b[39m \u001b[39mself\u001b[39;49m\u001b[39m.\u001b[39;49m_make_engine(f, \u001b[39mself\u001b[39;49m\u001b[39m.\u001b[39;49mengine)\n",
            "File \u001b[0;32m~/Desktop/PY-121--Python_for_Data_Science/venv/lib/python3.10/site-packages/pandas/io/parsers/readers.py:1217\u001b[0m, in \u001b[0;36mTextFileReader._make_engine\u001b[0;34m(self, f, engine)\u001b[0m\n\u001b[1;32m   <a href='file:///~/Desktop/PY-121--Python_for_Data_Science/venv/lib/python3.10/site-packages/pandas/io/parsers/readers.py?line=1212'>1213</a>\u001b[0m     mode \u001b[39m=\u001b[39m \u001b[39m\"\u001b[39m\u001b[39mrb\u001b[39m\u001b[39m\"\u001b[39m\n\u001b[1;32m   <a href='file:///~/Desktop/PY-121--Python_for_Data_Science/venv/lib/python3.10/site-packages/pandas/io/parsers/readers.py?line=1213'>1214</a>\u001b[0m \u001b[39m# error: No overload variant of \"get_handle\" matches argument types\u001b[39;00m\n\u001b[1;32m   <a href='file:///~/Desktop/PY-121--Python_for_Data_Science/venv/lib/python3.10/site-packages/pandas/io/parsers/readers.py?line=1214'>1215</a>\u001b[0m \u001b[39m# \"Union[str, PathLike[str], ReadCsvBuffer[bytes], ReadCsvBuffer[str]]\"\u001b[39;00m\n\u001b[1;32m   <a href='file:///~/Desktop/PY-121--Python_for_Data_Science/venv/lib/python3.10/site-packages/pandas/io/parsers/readers.py?line=1215'>1216</a>\u001b[0m \u001b[39m# , \"str\", \"bool\", \"Any\", \"Any\", \"Any\", \"Any\", \"Any\"\u001b[39;00m\n\u001b[0;32m-> <a href='file:///~/Desktop/PY-121--Python_for_Data_Science/venv/lib/python3.10/site-packages/pandas/io/parsers/readers.py?line=1216'>1217</a>\u001b[0m \u001b[39mself\u001b[39m\u001b[39m.\u001b[39mhandles \u001b[39m=\u001b[39m get_handle(  \u001b[39m# type: ignore[call-overload]\u001b[39;49;00m\n\u001b[1;32m   <a href='file:///~/Desktop/PY-121--Python_for_Data_Science/venv/lib/python3.10/site-packages/pandas/io/parsers/readers.py?line=1217'>1218</a>\u001b[0m     f,\n\u001b[1;32m   <a href='file:///~/Desktop/PY-121--Python_for_Data_Science/venv/lib/python3.10/site-packages/pandas/io/parsers/readers.py?line=1218'>1219</a>\u001b[0m     mode,\n\u001b[1;32m   <a href='file:///~/Desktop/PY-121--Python_for_Data_Science/venv/lib/python3.10/site-packages/pandas/io/parsers/readers.py?line=1219'>1220</a>\u001b[0m     encoding\u001b[39m=\u001b[39;49m\u001b[39mself\u001b[39;49m\u001b[39m.\u001b[39;49moptions\u001b[39m.\u001b[39;49mget(\u001b[39m\"\u001b[39;49m\u001b[39mencoding\u001b[39;49m\u001b[39m\"\u001b[39;49m, \u001b[39mNone\u001b[39;49;00m),\n\u001b[1;32m   <a href='file:///~/Desktop/PY-121--Python_for_Data_Science/venv/lib/python3.10/site-packages/pandas/io/parsers/readers.py?line=1220'>1221</a>\u001b[0m     compression\u001b[39m=\u001b[39;49m\u001b[39mself\u001b[39;49m\u001b[39m.\u001b[39;49moptions\u001b[39m.\u001b[39;49mget(\u001b[39m\"\u001b[39;49m\u001b[39mcompression\u001b[39;49m\u001b[39m\"\u001b[39;49m, \u001b[39mNone\u001b[39;49;00m),\n\u001b[1;32m   <a href='file:///~/Desktop/PY-121--Python_for_Data_Science/venv/lib/python3.10/site-packages/pandas/io/parsers/readers.py?line=1221'>1222</a>\u001b[0m     memory_map\u001b[39m=\u001b[39;49m\u001b[39mself\u001b[39;49m\u001b[39m.\u001b[39;49moptions\u001b[39m.\u001b[39;49mget(\u001b[39m\"\u001b[39;49m\u001b[39mmemory_map\u001b[39;49m\u001b[39m\"\u001b[39;49m, \u001b[39mFalse\u001b[39;49;00m),\n\u001b[1;32m   <a href='file:///~/Desktop/PY-121--Python_for_Data_Science/venv/lib/python3.10/site-packages/pandas/io/parsers/readers.py?line=1222'>1223</a>\u001b[0m     is_text\u001b[39m=\u001b[39;49mis_text,\n\u001b[1;32m   <a href='file:///~/Desktop/PY-121--Python_for_Data_Science/venv/lib/python3.10/site-packages/pandas/io/parsers/readers.py?line=1223'>1224</a>\u001b[0m     errors\u001b[39m=\u001b[39;49m\u001b[39mself\u001b[39;49m\u001b[39m.\u001b[39;49moptions\u001b[39m.\u001b[39;49mget(\u001b[39m\"\u001b[39;49m\u001b[39mencoding_errors\u001b[39;49m\u001b[39m\"\u001b[39;49m, \u001b[39m\"\u001b[39;49m\u001b[39mstrict\u001b[39;49m\u001b[39m\"\u001b[39;49m),\n\u001b[1;32m   <a href='file:///~/Desktop/PY-121--Python_for_Data_Science/venv/lib/python3.10/site-packages/pandas/io/parsers/readers.py?line=1224'>1225</a>\u001b[0m     storage_options\u001b[39m=\u001b[39;49m\u001b[39mself\u001b[39;49m\u001b[39m.\u001b[39;49moptions\u001b[39m.\u001b[39;49mget(\u001b[39m\"\u001b[39;49m\u001b[39mstorage_options\u001b[39;49m\u001b[39m\"\u001b[39;49m, \u001b[39mNone\u001b[39;49;00m),\n\u001b[1;32m   <a href='file:///~/Desktop/PY-121--Python_for_Data_Science/venv/lib/python3.10/site-packages/pandas/io/parsers/readers.py?line=1225'>1226</a>\u001b[0m )\n\u001b[1;32m   <a href='file:///~/Desktop/PY-121--Python_for_Data_Science/venv/lib/python3.10/site-packages/pandas/io/parsers/readers.py?line=1226'>1227</a>\u001b[0m \u001b[39massert\u001b[39;00m \u001b[39mself\u001b[39m\u001b[39m.\u001b[39mhandles \u001b[39mis\u001b[39;00m \u001b[39mnot\u001b[39;00m \u001b[39mNone\u001b[39;00m\n\u001b[1;32m   <a href='file:///~/Desktop/PY-121--Python_for_Data_Science/venv/lib/python3.10/site-packages/pandas/io/parsers/readers.py?line=1227'>1228</a>\u001b[0m f \u001b[39m=\u001b[39m \u001b[39mself\u001b[39m\u001b[39m.\u001b[39mhandles\u001b[39m.\u001b[39mhandle\n",
            "File \u001b[0;32m~/Desktop/PY-121--Python_for_Data_Science/venv/lib/python3.10/site-packages/pandas/io/common.py:789\u001b[0m, in \u001b[0;36mget_handle\u001b[0;34m(path_or_buf, mode, encoding, compression, memory_map, is_text, errors, storage_options)\u001b[0m\n\u001b[1;32m    <a href='file:///~/Desktop/PY-121--Python_for_Data_Science/venv/lib/python3.10/site-packages/pandas/io/common.py?line=783'>784</a>\u001b[0m \u001b[39melif\u001b[39;00m \u001b[39misinstance\u001b[39m(handle, \u001b[39mstr\u001b[39m):\n\u001b[1;32m    <a href='file:///~/Desktop/PY-121--Python_for_Data_Science/venv/lib/python3.10/site-packages/pandas/io/common.py?line=784'>785</a>\u001b[0m     \u001b[39m# Check whether the filename is to be opened in binary mode.\u001b[39;00m\n\u001b[1;32m    <a href='file:///~/Desktop/PY-121--Python_for_Data_Science/venv/lib/python3.10/site-packages/pandas/io/common.py?line=785'>786</a>\u001b[0m     \u001b[39m# Binary mode does not support 'encoding' and 'newline'.\u001b[39;00m\n\u001b[1;32m    <a href='file:///~/Desktop/PY-121--Python_for_Data_Science/venv/lib/python3.10/site-packages/pandas/io/common.py?line=786'>787</a>\u001b[0m     \u001b[39mif\u001b[39;00m ioargs\u001b[39m.\u001b[39mencoding \u001b[39mand\u001b[39;00m \u001b[39m\"\u001b[39m\u001b[39mb\u001b[39m\u001b[39m\"\u001b[39m \u001b[39mnot\u001b[39;00m \u001b[39min\u001b[39;00m ioargs\u001b[39m.\u001b[39mmode:\n\u001b[1;32m    <a href='file:///~/Desktop/PY-121--Python_for_Data_Science/venv/lib/python3.10/site-packages/pandas/io/common.py?line=787'>788</a>\u001b[0m         \u001b[39m# Encoding\u001b[39;00m\n\u001b[0;32m--> <a href='file:///~/Desktop/PY-121--Python_for_Data_Science/venv/lib/python3.10/site-packages/pandas/io/common.py?line=788'>789</a>\u001b[0m         handle \u001b[39m=\u001b[39m \u001b[39mopen\u001b[39;49m(\n\u001b[1;32m    <a href='file:///~/Desktop/PY-121--Python_for_Data_Science/venv/lib/python3.10/site-packages/pandas/io/common.py?line=789'>790</a>\u001b[0m             handle,\n\u001b[1;32m    <a href='file:///~/Desktop/PY-121--Python_for_Data_Science/venv/lib/python3.10/site-packages/pandas/io/common.py?line=790'>791</a>\u001b[0m             ioargs\u001b[39m.\u001b[39;49mmode,\n\u001b[1;32m    <a href='file:///~/Desktop/PY-121--Python_for_Data_Science/venv/lib/python3.10/site-packages/pandas/io/common.py?line=791'>792</a>\u001b[0m             encoding\u001b[39m=\u001b[39;49mioargs\u001b[39m.\u001b[39;49mencoding,\n\u001b[1;32m    <a href='file:///~/Desktop/PY-121--Python_for_Data_Science/venv/lib/python3.10/site-packages/pandas/io/common.py?line=792'>793</a>\u001b[0m             errors\u001b[39m=\u001b[39;49merrors,\n\u001b[1;32m    <a href='file:///~/Desktop/PY-121--Python_for_Data_Science/venv/lib/python3.10/site-packages/pandas/io/common.py?line=793'>794</a>\u001b[0m             newline\u001b[39m=\u001b[39;49m\u001b[39m\"\u001b[39;49m\u001b[39m\"\u001b[39;49m,\n\u001b[1;32m    <a href='file:///~/Desktop/PY-121--Python_for_Data_Science/venv/lib/python3.10/site-packages/pandas/io/common.py?line=794'>795</a>\u001b[0m         )\n\u001b[1;32m    <a href='file:///~/Desktop/PY-121--Python_for_Data_Science/venv/lib/python3.10/site-packages/pandas/io/common.py?line=795'>796</a>\u001b[0m     \u001b[39melse\u001b[39;00m:\n\u001b[1;32m    <a href='file:///~/Desktop/PY-121--Python_for_Data_Science/venv/lib/python3.10/site-packages/pandas/io/common.py?line=796'>797</a>\u001b[0m         \u001b[39m# Binary mode\u001b[39;00m\n\u001b[1;32m    <a href='file:///~/Desktop/PY-121--Python_for_Data_Science/venv/lib/python3.10/site-packages/pandas/io/common.py?line=797'>798</a>\u001b[0m         handle \u001b[39m=\u001b[39m \u001b[39mopen\u001b[39m(handle, ioargs\u001b[39m.\u001b[39mmode)\n",
            "\u001b[0;31mFileNotFoundError\u001b[0m: [Errno 2] No such file or directory: 'AMD.csv'"
          ]
        }
      ],
      "source": [
        "import pandas as pd\n",
        "amd = pd.read_csv('AMD.csv')\n",
        "amd"
      ]
    },
    {
      "cell_type": "markdown",
      "metadata": {
        "id": "ZzE-OiU4-fgH"
      },
      "source": [
        "<h2> US Cities Step by Step </h2> \n",
        "1) load the data and view the first 5 entries\n"
      ]
    },
    {
      "cell_type": "markdown",
      "metadata": {
        "id": "dLVGJXYU-4iM"
      },
      "source": [
        "2) View the object types of each column"
      ]
    },
    {
      "cell_type": "code",
      "execution_count": null,
      "metadata": {
        "id": "dDSEr63mUl74",
        "outputId": "4b83fd3b-b9eb-48ff-9d2e-79295c027484"
      },
      "outputs": [],
      "source": [
        "df.dtypes"
      ]
    },
    {
      "cell_type": "markdown",
      "metadata": {
        "id": "cCHfXaE7-82P"
      },
      "source": [
        "Slice the 50th to 75th row entries and all columns without loc[]"
      ]
    },
    {
      "cell_type": "code",
      "execution_count": null,
      "metadata": {
        "id": "7TkKWCrJUl74"
      },
      "outputs": [],
      "source": [
        "df[50:75]"
      ]
    },
    {
      "cell_type": "markdown",
      "metadata": {
        "id": "Jiq8nXjEBmd8"
      },
      "source": [
        "Slice the 60th to 75th row for the Population column using loc[]"
      ]
    },
    {
      "cell_type": "code",
      "execution_count": null,
      "metadata": {
        "id": "Hw5fn0VgUl75"
      },
      "outputs": [],
      "source": [
        "df.loc[60:75, 'Population']"
      ]
    },
    {
      "cell_type": "markdown",
      "metadata": {
        "id": "uVX-dn4jDLli"
      },
      "source": [
        "Filter only cities with Mayors who began terms in 2016."
      ]
    },
    {
      "cell_type": "code",
      "execution_count": null,
      "metadata": {
        "id": "2t6TVnS1Ul75"
      },
      "outputs": [],
      "source": [
        "df[df.Begin_Term == 2016 ]"
      ]
    },
    {
      "cell_type": "markdown",
      "metadata": {
        "id": "SsmdwdYgDTD-"
      },
      "source": [
        "Count the total number of cities."
      ]
    },
    {
      "cell_type": "code",
      "execution_count": null,
      "metadata": {
        "id": "wzKepVJ0Ul75",
        "outputId": "76106537-771f-4d7d-b481-7db61544d5b0"
      },
      "outputs": [],
      "source": [
        "df.count()"
      ]
    },
    {
      "cell_type": "markdown",
      "metadata": {
        "id": "6rpWZF3SDVpJ"
      },
      "source": [
        "Count the mean year that the Mayors began their terms. "
      ]
    },
    {
      "cell_type": "code",
      "execution_count": null,
      "metadata": {
        "id": "RHbeAcDFUl75",
        "outputId": "6ea4a13e-0973-48de-fe56-0c77d9bc4705"
      },
      "outputs": [],
      "source": [
        "df.Begin_Term.describe().loc['mean']"
      ]
    },
    {
      "cell_type": "markdown",
      "metadata": {
        "id": "S1d0FereUl76"
      },
      "source": [
        "<h2>Use .unique() for unique values<h2>"
      ]
    },
    {
      "cell_type": "code",
      "execution_count": null,
      "metadata": {
        "id": "dnqX2dakUl76"
      },
      "outputs": [],
      "source": [
        "df.Begin_Term.unique()"
      ]
    },
    {
      "cell_type": "code",
      "execution_count": null,
      "metadata": {
        "id": "4g0BDsq1Ul76"
      },
      "outputs": [],
      "source": [
        "df['Begin_Term'].unique()"
      ]
    },
    {
      "cell_type": "code",
      "execution_count": null,
      "metadata": {
        "id": "KEECFwKeUl76"
      },
      "outputs": [],
      "source": [
        "df.groupby(['Begin_Term'])['Order'].count()"
      ]
    },
    {
      "cell_type": "code",
      "execution_count": null,
      "metadata": {
        "id": "pz9BWGQSUl76"
      },
      "outputs": [],
      "source": [
        "# Look at how many records are there per state\n",
        "df.groupby(['Begin_Term']).count().sort_values('foo1')"
      ]
    },
    {
      "cell_type": "markdown",
      "metadata": {
        "id": "TSUQOkejDbN0"
      },
      "source": [
        "<h2> Exercise 1 </h2>\n",
        "\n",
        "Using the US_Cities.delimited.txt file and Pandas\n",
        "\n",
        "1) Clean the data \n",
        "\n",
        "2) Create a separate column for cites and states \n",
        "\n",
        "3) Count how many cites have Republican and how many have Democrat Mayors \n",
        "\n",
        "4) Which city has the highest budget and which has the lowest budget?\n",
        "\n",
        "5) Create a column called 'Budget per capita'. Which calcs how many dollars per perosn the city has\n",
        "\n",
        "6) Then return which cities have the lowest and highest"
      ]
    },
    {
      "cell_type": "code",
      "execution_count": null,
      "metadata": {},
      "outputs": [],
      "source": []
    },
    {
      "cell_type": "markdown",
      "metadata": {
        "id": "Gba7wm4VEAA0"
      },
      "source": [
        "<h2> Exercise 2 </h2> \n",
        "\n",
        "Using the class_heights.txt file and Pandas\n",
        "\n",
        "1) Clean the data\n",
        "\n",
        "2) Make column names Title Case \n",
        "\n",
        "3) Sort gender column by Gender. Female first\n",
        "\n",
        "4) Convert heights to centimeters\n",
        "\n",
        "5) Count how many of each gender are in the total class_heights\n",
        "\n",
        "6) Calc the average height of each gender and the class total\n",
        "\n",
        "7) Calc the median, mode, and standard deviantion for the total class"
      ]
    },
    {
      "cell_type": "code",
      "execution_count": null,
      "metadata": {},
      "outputs": [],
      "source": [
        "import pandas as pd\n",
        "\n",
        "data = pd.read_csv('class_heights.txt', delimiter='|')\n",
        "print(data)"
      ]
    },
    {
      "cell_type": "code",
      "execution_count": null,
      "metadata": {
        "colab": {
          "base_uri": "https://localhost:8080/",
          "height": 423
        },
        "id": "IHlp5YWNUl76",
        "outputId": "22f4706f-7afe-4ec8-db1c-ffd3572f916b"
      },
      "outputs": [],
      "source": [
        "import pandas as pd\n",
        "\n",
        "data = pd.read_csv('class_heights.txt', delimiter='|')\n",
        "data.columns = data.columns.str.title()\n",
        "print(data)"
      ]
    },
    {
      "cell_type": "code",
      "execution_count": null,
      "metadata": {
        "id": "13kNz9PNUl76"
      },
      "outputs": [],
      "source": [
        "import pandas as pd\n",
        "\n",
        "data = pd.read_csv('class_heights.txt', delimiter='|')\n",
        "data.columns = data.columns.str.title()\n",
        "data.sort_values('Gender',inplace=True)\n",
        "print(data)"
      ]
    },
    {
      "cell_type": "code",
      "execution_count": null,
      "metadata": {
        "id": "Fwy5Yfx2Ul77"
      },
      "outputs": [],
      "source": [
        "import pandas as pd\n",
        "\n",
        "data = pd.read_csv('class_heights.txt', delimiter='|')\n",
        "data.columns = data.columns.str.title()\n",
        "data.sort_values('Gender',inplace=True)\n",
        "\n",
        "\n",
        "print(data['Gender'].value_counts())"
      ]
    },
    {
      "cell_type": "code",
      "execution_count": null,
      "metadata": {
        "id": "clr6rDkAUl77"
      },
      "outputs": [],
      "source": []
    },
    {
      "cell_type": "code",
      "execution_count": null,
      "metadata": {
        "id": "ZKI2ZRDnUl77"
      },
      "outputs": [],
      "source": []
    },
    {
      "cell_type": "markdown",
      "metadata": {
        "id": "yHItIEdBEkrd"
      },
      "source": [
        "<h2> Example Walkthrough: Create your own DataFrame and Square it based on row conditions </h2>"
      ]
    },
    {
      "cell_type": "code",
      "execution_count": 1,
      "metadata": {
        "id": "VqOo-AI5Ul78",
        "outputId": "2e868d82-c0de-4603-ff0e-eb3fdb0fc8bc"
      },
      "outputs": [
        {
          "data": {
            "text/plain": [
              "21"
            ]
          },
          "execution_count": 1,
          "metadata": {},
          "output_type": "execute_result"
        }
      ],
      "source": [
        "import pandas as pd\n",
        "import numpy as np\n",
        "  \n",
        "# creating and initializing a nested list\n",
        "values_list = [[15, 2.5, 100], [20, 4.5, 50], [25, 5.2, 80],\n",
        "               [45, 5.8, 48], [40, 6.3, 70], [41, 6.4, 90],\n",
        "               [51, 2.3, 111]]\n",
        "  \n",
        "# creating a pandas dataframe\n",
        "df = pd.DataFrame(values_list, columns=['Field_1', 'Field_2', 'Field_3'],\n",
        "                  index=['a', 'b', 'c', 'd', 'e', 'f', 'g'])\n",
        "  \n",
        "  \n",
        "# Apply function numpy.square() to square \n",
        "# the values of 3 rows only i.e. with row\n",
        "# index name 'a', 'e' and 'g' only\n",
        "df = df.apply(lambda x: np.square(x) if x.name in [\n",
        "              'a', 'e', 'g'] else x, axis=1)\n",
        "  \n",
        "# printing dataframe\n",
        "df.size"
      ]
    },
    {
      "cell_type": "markdown",
      "metadata": {
        "id": "8E82v2QqUl78"
      },
      "source": [
        "<h2>To filter or search for values - isin([])</h2>"
      ]
    },
    {
      "cell_type": "code",
      "execution_count": null,
      "metadata": {
        "id": "6gtV2HWtUl78",
        "outputId": "64e36262-e66b-4e6b-d6c9-fa435ff41864"
      },
      "outputs": [],
      "source": [
        "import pandas as pd\n",
        "df = pd.DataFrame({'num_legs': [2, 4,0,8,4], 'num_wings': [2, 0,0,0,4]},\n",
        "\n",
        "                  index=['falcon', 'dog','snake','spider','dragonfly'])\n",
        "df"
      ]
    },
    {
      "cell_type": "code",
      "execution_count": null,
      "metadata": {
        "id": "bWIKbtrpUl78",
        "outputId": "f22748c4-8541-4aea-d0cc-64f51dd24fc9"
      },
      "outputs": [],
      "source": [
        "df.isin([8])"
      ]
    },
    {
      "cell_type": "code",
      "execution_count": null,
      "metadata": {
        "id": "R8dhnP44Ul78",
        "outputId": "3c7936bf-e409-49fb-8404-d61bee66cb4c"
      },
      "outputs": [],
      "source": [
        "df.isin([2,4])"
      ]
    },
    {
      "cell_type": "markdown",
      "metadata": {
        "id": "X-izprnRUl79"
      },
      "source": [
        "<h2>isin() filter by column</h2>"
      ]
    },
    {
      "cell_type": "code",
      "execution_count": null,
      "metadata": {
        "id": "Ivpo7uGCUl79",
        "outputId": "18319ecb-3cc6-4ffc-e2b7-5944479fc4de"
      },
      "outputs": [],
      "source": [
        "filter = [2,4]\n",
        "num_legs = df[df.num_legs.isin(filter)]\n",
        "num_legs"
      ]
    },
    {
      "cell_type": "code",
      "execution_count": null,
      "metadata": {
        "id": "LE9jSzijUl79"
      },
      "outputs": [],
      "source": []
    },
    {
      "cell_type": "markdown",
      "metadata": {
        "id": "pNP6etycUl79"
      },
      "source": [
        "<h2> Exercise 3</h2>\n",
        "\n",
        "Create a class that operates on words\n",
        "\n",
        "1 - method 'remove_vowels' - Strips all vowels out\n",
        "\n",
        "2 - method 'strip_constants' - Strips constants\n",
        "\n",
        "3 - method 'strip_fixed' - Strips based on a skip\n",
        "\n",
        "4 - print gives the word and and counts the number of vowels and the number of constants\n",
        "\n",
        "5 - Add a method that randomly removes up to n chars but has to be less than the length - 1(colapses) \n",
        "\n",
        "6 - On all removal options add option to replace the removal with a specified character. The default is an underscore '_'"
      ]
    },
    {
      "cell_type": "code",
      "execution_count": 111,
      "metadata": {},
      "outputs": [
        {
          "name": "stdout",
          "output_type": "stream",
          "text": [
            "No vowels: __rdv_rk\n",
            "\n",
            "No consonants: aa___a__\n",
            "\n",
            "Removing by step: -ard-ark\n",
            "\n",
            "Info: \n",
            "Word: aardvark\n",
            "Consonants: 5\n",
            "Vowels: 3\n",
            "\n",
            "Removing random indices: aardv__k\n"
          ]
        }
      ],
      "source": [
        "from random import randint\n",
        "from string import ascii_lowercase\n",
        "\n",
        "class wordOps:\n",
        "    def __init__(self, word):\n",
        "        self.word = word\n",
        "        self.vowels = tuple('aeiou')\n",
        "        self.consonants = tuple(self.remove_vowels(ascii_lowercase))\n",
        "\n",
        "    def remove_vowels(self, input_string = False, replacer='_'):\n",
        "        word = input_string if input_string else self.word\n",
        "        for vowel in self.vowels:\n",
        "            word = word.replace(vowel,f\"{replacer}\")\n",
        "        return word\n",
        "\n",
        "    def strip_consonants(self, replacer='_'):\n",
        "        word = self.word\n",
        "        for consonant in self.consonants:\n",
        "            word = word.replace(consonant,f\"{replacer}\")\n",
        "        return word\n",
        "\n",
        "    def strip_fixed(self, step_count,replacer='_'):\n",
        "        word = self.word\n",
        "\n",
        "        for num in range(0, len(word), step_count):\n",
        "            word = word[:num] + f\"{replacer}\" + word[num+1:]\n",
        "        return word\n",
        "\n",
        "    def show(self):\n",
        "        word = self.word\n",
        "        consonants,vowels = 0,0\n",
        "        for letter in word:\n",
        "            if letter in self.consonants:\n",
        "                consonants+=1\n",
        "            elif letter in self.vowels:\n",
        "                vowels+=1\n",
        "        return f\"\\nWord: {self.word}\\nConsonants: {consonants}\\nVowels: {vowels}\\n\"\n",
        "\n",
        "    def rand_remove(self, amount_to_remove, replacer='_'):\n",
        "        word = self.word\n",
        "        # check if user requested to remove more characters are in string\n",
        "        if len(word) < amount_to_remove: raise IndexError('Index too high')\n",
        "\n",
        "        # iterate amount of times specified\n",
        "        for _ in range(amount_to_remove):\n",
        "            # pick a random index of the word\n",
        "            position = randint(0, len(word))\n",
        "            # remove the letter at that index\n",
        "            word = word[:position] + f\"{replacer}\" + word[position+1:]\n",
        "        return word\n",
        "\n",
        "# for any replacer function, give an extra argument as a char to change the replacement character \"_\" by default\n",
        "word = wordOps('aardvark')\n",
        "print(f'No vowels: {word.remove_vowels()}\\n')\n",
        "print(f'No consonants: {word.strip_consonants()}\\n')\n",
        "print(f\"Removing by step: {word.strip_fixed(4, '-')}\\n\")\n",
        "print(f'Info: {word.show()}')\n",
        "print(f'Removing random indices: {word.rand_remove(3)}')"
      ]
    },
    {
      "cell_type": "code",
      "execution_count": 9,
      "metadata": {},
      "outputs": [
        {
          "name": "stdout",
          "output_type": "stream",
          "text": [
            "     0    1    2\n",
            "0  0.0  0.0  0.0\n",
            "1  0.0  0.0  0.0\n",
            "2  0.0  0.0  0.0\n"
          ]
        },
        {
          "data": {
            "text/plain": [
              "9"
            ]
          },
          "execution_count": 9,
          "metadata": {},
          "output_type": "execute_result"
        }
      ],
      "source": [
        "import pandas as pd\n",
        "import numpy as np\n",
        "\n",
        "df = pd.DataFrame(np.zeros([3,3]))\n",
        "print(df)\n",
        "\n",
        "df.size"
      ]
    }
  ],
  "metadata": {
    "colab": {
      "name": "CI Data Science-Lesson 13 with some answers.ipynb",
      "provenance": []
    },
    "kernelspec": {
      "display_name": "Python 3.10.2 64-bit",
      "metadata": {
        "interpreter": {
          "hash": "aee8b7b246df8f9039afb4144a1f6fd8d2ca17a180786b69acc140d282b71a49"
        }
      },
      "name": "python3"
    },
    "language_info": {
      "codemirror_mode": {
        "name": "ipython",
        "version": 3
      },
      "file_extension": ".py",
      "mimetype": "text/x-python",
      "name": "python",
      "nbconvert_exporter": "python",
      "pygments_lexer": "ipython3",
      "version": "3.10.2"
    }
  },
  "nbformat": 4,
  "nbformat_minor": 0
}
