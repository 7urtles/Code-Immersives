{
 "cells": [
  {
   "cell_type": "markdown",
   "metadata": {},
   "source": [
    "<a href=\"https://codeimmersives.com\"><img src = \"https://www.codeimmersives.com/wp-content/uploads/2019/09/CodeImmersives_Logo_RGB_NYC_BW.png\" width = 400> </a>\n",
    "\n",
    "\n",
    "<h1 align=center><font size = 5>Agenda</font></h1>"
   ]
  },
  {
   "cell_type": "markdown",
   "metadata": {},
   "source": [
    "<h3>You are a consulting firm tasked to examine the hiring practice of a division of a public company.\n",
    "You are given the HR records of all past and present employees.  A complaint has been filed that this division\n",
    "discriminates against women and low wage workers.  Examine the data and come up with a conclusion.\n",
    "\n",
    "<h3>The output should be in a jupyter notebook with the following name:\n",
    "Lastname_firstname_DATASCIENCE_CAPSTONE_202106\n",
    "Each answer should have a clear label of what you are answering using markdown</h3>"
   ]
  },
  {
   "cell_type": "markdown",
   "metadata": {},
   "source": [
    "# SET UP SECTION \n",
    "Add your set up directory here"
   ]
  },
  {
   "cell_type": "code",
   "execution_count": 460,
   "metadata": {},
   "outputs": [],
   "source": [
    "import pandas as pd\n",
    "df = pd.read_csv('ACTIVE_EMPLOYEES_BY_DEPT.csv')\n",
    "# TEXT COLOR FOR ALL PLOTS! CHANGE TO YOUR PREFERENCE IF NEEDED\n",
    "text_color = 'white'\n",
    "# text_color = 'black'"
   ]
  },
  {
   "cell_type": "markdown",
   "metadata": {},
   "source": [
    "<h2>Part 1-a</h2>\n",
    "1 - Import employee file only the gender,salarly grade and dept columns"
   ]
  },
  {
   "cell_type": "code",
   "execution_count": 461,
   "metadata": {},
   "outputs": [
    {
     "name": "stdout",
     "output_type": "stream",
     "text": [
      "    gender  sg    salary  dept\n",
      "0        F   1    $77582    hr\n",
      "1        M   1     38136  comp\n",
      "2        M   4    107483   fin\n",
      "3        M   7  3X429110  comp\n",
      "4        M   7  3X646818  proj\n",
      "..     ...  ..       ...   ...\n",
      "673      M   6  3X499553   acc\n",
      "674      M   4    114045    hr\n",
      "675      M   1     33030  comp\n",
      "676      M   2     51120  proj\n",
      "677      M   2     44124  proj\n",
      "\n",
      "[678 rows x 4 columns]\n"
     ]
    }
   ],
   "source": [
    "import pandas as pd\n",
    "df = pd.read_csv('emp_file_CAPSTONE.txt', usecols=['gender', 'salary', 'sg', 'dept'])\n",
    "print(df)"
   ]
  },
  {
   "cell_type": "markdown",
   "metadata": {},
   "source": [
    "2 - Fix the column dept capitalize it"
   ]
  },
  {
   "cell_type": "code",
   "execution_count": 462,
   "metadata": {},
   "outputs": [
    {
     "name": "stdout",
     "output_type": "stream",
     "text": [
      "['Hr' 'Comp' 'Fin' 'Proj' 'Acc' 'I.t.' 'Pub']\n"
     ]
    }
   ],
   "source": [
    "df['dept'] = df['dept'].str.capitalize()\n",
    "print(df.dept.unique())"
   ]
  },
  {
   "cell_type": "markdown",
   "metadata": {},
   "source": [
    "3 - Create a dataframe for every salary grade (index) with columns 'male' and 'Female'"
   ]
  },
  {
   "cell_type": "code",
   "execution_count": 463,
   "metadata": {},
   "outputs": [
    {
     "data": {
      "text/html": [
       "<div>\n",
       "<style scoped>\n",
       "    .dataframe tbody tr th:only-of-type {\n",
       "        vertical-align: middle;\n",
       "    }\n",
       "\n",
       "    .dataframe tbody tr th {\n",
       "        vertical-align: top;\n",
       "    }\n",
       "\n",
       "    .dataframe thead th {\n",
       "        text-align: right;\n",
       "    }\n",
       "</style>\n",
       "<table border=\"1\" class=\"dataframe\">\n",
       "  <thead>\n",
       "    <tr style=\"text-align: right;\">\n",
       "      <th>gender</th>\n",
       "      <th>Female</th>\n",
       "      <th>Male</th>\n",
       "    </tr>\n",
       "    <tr>\n",
       "      <th>Pay_Grade</th>\n",
       "      <th></th>\n",
       "      <th></th>\n",
       "    </tr>\n",
       "  </thead>\n",
       "  <tbody>\n",
       "    <tr>\n",
       "      <th>1</th>\n",
       "      <td>22.0</td>\n",
       "      <td>65.0</td>\n",
       "    </tr>\n",
       "    <tr>\n",
       "      <th>2</th>\n",
       "      <td>26.0</td>\n",
       "      <td>68.0</td>\n",
       "    </tr>\n",
       "    <tr>\n",
       "      <th>3</th>\n",
       "      <td>32.0</td>\n",
       "      <td>70.0</td>\n",
       "    </tr>\n",
       "    <tr>\n",
       "      <th>4</th>\n",
       "      <td>22.0</td>\n",
       "      <td>81.0</td>\n",
       "    </tr>\n",
       "    <tr>\n",
       "      <th>5</th>\n",
       "      <td>34.0</td>\n",
       "      <td>54.0</td>\n",
       "    </tr>\n",
       "    <tr>\n",
       "      <th>6</th>\n",
       "      <td>34.0</td>\n",
       "      <td>58.0</td>\n",
       "    </tr>\n",
       "    <tr>\n",
       "      <th>7</th>\n",
       "      <td>31.0</td>\n",
       "      <td>81.0</td>\n",
       "    </tr>\n",
       "  </tbody>\n",
       "</table>\n",
       "</div>"
      ],
      "text/plain": [
       "gender     Female  Male\n",
       "Pay_Grade              \n",
       "1            22.0  65.0\n",
       "2            26.0  68.0\n",
       "3            32.0  70.0\n",
       "4            22.0  81.0\n",
       "5            34.0  54.0\n",
       "6            34.0  58.0\n",
       "7            31.0  81.0"
      ]
     },
     "execution_count": 463,
     "metadata": {},
     "output_type": "execute_result"
    }
   ],
   "source": [
    "# Transpose date into correct orientation\n",
    "df = pd.crosstab(df['gender'], df['sg']).T\n",
    "# Rename the index column\n",
    "df.index.rename('Pay_Grade', inplace=True)\n",
    "# Set column names and display\n",
    "df.rename(columns={'F':\"Female\", 'M':\"Male\"}, inplace=True)\n",
    "df=df.astype('float')\n",
    "df"
   ]
  },
  {
   "cell_type": "markdown",
   "metadata": {},
   "source": [
    "4 - Create pie charts for every Salary Grade with the ratio of men to women"
   ]
  },
  {
   "cell_type": "code",
   "execution_count": 464,
   "metadata": {},
   "outputs": [
    {
     "data": {
      "image/png": "[encoded data removed]",
      "text/plain": [
       "<Figure size 432x288 with 1 Axes>"
      ]
     },
     "metadata": {},
     "output_type": "display_data"
    },
    {
     "data": {
      "image/png": "[encoded data removed]",
      "text/plain": [
       "<Figure size 432x288 with 1 Axes>"
      ]
     },
     "metadata": {},
     "output_type": "display_data"
    },
    {
     "data": {
      "image/png": "[encoded data removed]",
      "text/plain": [
       "<Figure size 432x288 with 1 Axes>"
      ]
     },
     "metadata": {},
     "output_type": "display_data"
    },
    {
     "data": {
      "image/png": "[encoded data removed]",
      "text/plain": [
       "<Figure size 432x288 with 1 Axes>"
      ]
     },
     "metadata": {},
     "output_type": "display_data"
    },
    {
     "data": {
      "image/png": "[encoded data removed]",
      "text/plain": [
       "<Figure size 432x288 with 1 Axes>"
      ]
     },
     "metadata": {},
     "output_type": "display_data"
    },
    {
     "data": {
      "image/png": "[encoded data removed]",
      "text/plain": [
       "<Figure size 432x288 with 1 Axes>"
      ]
     },
     "metadata": {},
     "output_type": "display_data"
    },
    {
     "data": {
      "image/png": "[encoded data removed]",
      "text/plain": [
       "<Figure size 432x288 with 1 Axes>"
      ]
     },
     "metadata": {},
     "output_type": "display_data"
    }
   ],
   "source": [
    "import matplotlib.pyplot as plt\n",
    "plt.rcParams.update({'text.color': f\"{text_color}\",\n",
    "                     'axes.labelcolor': f\"{text_color}\"})\n",
    "_=[df.iloc[i-1].plot(kind='pie',subplots=True,ax=plt.subplots(1,1)[1], autopct='%1.1f%%') for i in df.index]"
   ]
  },
  {
   "cell_type": "markdown",
   "metadata": {},
   "source": [
    "5 - Create a dataframe for every Dept (index) with columns 'Male' and 'Female'"
   ]
  },
  {
   "cell_type": "code",
   "execution_count": 465,
   "metadata": {},
   "outputs": [],
   "source": [
    "import pandas as pd\n",
    "df = pd.read_csv('emp_file_CAPSTONE.txt', usecols=['gender','dept'])\n",
    "\n",
    "# Transpose date into correct orientation\n",
    "df = pd.crosstab(df['dept'],df['gender'])\n",
    "# Rename the index column\n",
    "df.index.rename('Dept', inplace=True)\n",
    "# Set column names and display\n",
    "df.rename(columns={'F':\"Female\", 'M':\"Male\"}, inplace=True)\n",
    "df=df.astype('float')\n"
   ]
  },
  {
   "cell_type": "markdown",
   "metadata": {},
   "source": [
    "6 - Create pie charts for every Dept with the ratio of men to women"
   ]
  },
  {
   "cell_type": "code",
   "execution_count": 466,
   "metadata": {},
   "outputs": [
    {
     "data": {
      "image/png": "[encoded data removed]",
      "text/plain": [
       "<Figure size 432x288 with 1 Axes>"
      ]
     },
     "metadata": {},
     "output_type": "display_data"
    },
    {
     "data": {
      "image/png": "[encoded data removed]",
      "text/plain": [
       "<Figure size 432x288 with 1 Axes>"
      ]
     },
     "metadata": {},
     "output_type": "display_data"
    },
    {
     "data": {
      "image/png": "[encoded data removed]",
      "text/plain": [
       "<Figure size 432x288 with 1 Axes>"
      ]
     },
     "metadata": {},
     "output_type": "display_data"
    },
    {
     "data": {
      "image/png": "[encoded data removed]",
      "text/plain": [
       "<Figure size 432x288 with 1 Axes>"
      ]
     },
     "metadata": {},
     "output_type": "display_data"
    },
    {
     "data": {
      "image/png": "[encoded data removed]",
      "text/plain": [
       "<Figure size 432x288 with 1 Axes>"
      ]
     },
     "metadata": {},
     "output_type": "display_data"
    },
    {
     "data": {
      "image/png": "[encoded data removed]",
      "text/plain": [
       "<Figure size 432x288 with 1 Axes>"
      ]
     },
     "metadata": {},
     "output_type": "display_data"
    },
    {
     "data": {
      "image/png": "[encoded data removed]",
      "text/plain": [
       "<Figure size 432x288 with 1 Axes>"
      ]
     },
     "metadata": {},
     "output_type": "display_data"
    }
   ],
   "source": [
    "import matplotlib.pyplot as plt\n",
    "\n",
    "_=[df.loc[i].plot(kind='pie',subplots=True,ax=plt.subplots(1,1)[1], autopct='%1.1f%%') for i in df.index]"
   ]
  },
  {
   "cell_type": "markdown",
   "metadata": {},
   "source": [
    "<h2>Part 1-b</h2>\n",
    "1 - Import employee file all columns"
   ]
  },
  {
   "cell_type": "code",
   "execution_count": 467,
   "metadata": {},
   "outputs": [],
   "source": [
    "import pandas as pd\n",
    "import numpy as np\n",
    "df=pd.read_csv('emp_file_CAPSTONE.txt')"
   ]
  },
  {
   "cell_type": "markdown",
   "metadata": {},
   "source": [
    "2 - Fix the case on the last name"
   ]
  },
  {
   "cell_type": "code",
   "execution_count": 468,
   "metadata": {},
   "outputs": [
    {
     "data": {
      "text/plain": [
       "array(['hr', 'comp', 'fin', 'proj', 'acc', 'I.T.', 'pub'], dtype=object)"
      ]
     },
     "execution_count": 468,
     "metadata": {},
     "output_type": "execute_result"
    }
   ],
   "source": [
    "df['ln']=df['ln'].str.capitalize()\n",
    "df.dept.unique()"
   ]
  },
  {
   "cell_type": "markdown",
   "metadata": {},
   "source": [
    "3 - Create a field call Name which has the lastname, First name MI"
   ]
  },
  {
   "cell_type": "code",
   "execution_count": 469,
   "metadata": {},
   "outputs": [
    {
     "data": {
      "text/html": [
       "<div>\n",
       "<style scoped>\n",
       "    .dataframe tbody tr th:only-of-type {\n",
       "        vertical-align: middle;\n",
       "    }\n",
       "\n",
       "    .dataframe tbody tr th {\n",
       "        vertical-align: top;\n",
       "    }\n",
       "\n",
       "    .dataframe thead th {\n",
       "        text-align: right;\n",
       "    }\n",
       "</style>\n",
       "<table border=\"1\" class=\"dataframe\">\n",
       "  <thead>\n",
       "    <tr style=\"text-align: right;\">\n",
       "      <th></th>\n",
       "      <th>fn</th>\n",
       "      <th>ln</th>\n",
       "      <th>mi</th>\n",
       "      <th>gender</th>\n",
       "      <th>sg</th>\n",
       "      <th>salary</th>\n",
       "      <th>dept</th>\n",
       "      <th>hiredate</th>\n",
       "      <th>termdate</th>\n",
       "      <th>name</th>\n",
       "    </tr>\n",
       "  </thead>\n",
       "  <tbody>\n",
       "    <tr>\n",
       "      <th>0</th>\n",
       "      <td>Madison</td>\n",
       "      <td>Wilton</td>\n",
       "      <td>W</td>\n",
       "      <td>F</td>\n",
       "      <td>1</td>\n",
       "      <td>$77582</td>\n",
       "      <td>hr</td>\n",
       "      <td>11/22/2015</td>\n",
       "      <td></td>\n",
       "      <td>Wilton Madison W</td>\n",
       "    </tr>\n",
       "    <tr>\n",
       "      <th>1</th>\n",
       "      <td>James</td>\n",
       "      <td>Smith</td>\n",
       "      <td>A</td>\n",
       "      <td>M</td>\n",
       "      <td>1</td>\n",
       "      <td>38136</td>\n",
       "      <td>comp</td>\n",
       "      <td>1/17/2018</td>\n",
       "      <td></td>\n",
       "      <td>Smith James A</td>\n",
       "    </tr>\n",
       "    <tr>\n",
       "      <th>2</th>\n",
       "      <td>John</td>\n",
       "      <td>Johnson</td>\n",
       "      <td>NaN</td>\n",
       "      <td>M</td>\n",
       "      <td>4</td>\n",
       "      <td>107483</td>\n",
       "      <td>fin</td>\n",
       "      <td>6/2/2017</td>\n",
       "      <td></td>\n",
       "      <td>Johnson John</td>\n",
       "    </tr>\n",
       "    <tr>\n",
       "      <th>3</th>\n",
       "      <td>Robert</td>\n",
       "      <td>Williams</td>\n",
       "      <td>W</td>\n",
       "      <td>M</td>\n",
       "      <td>7</td>\n",
       "      <td>3X429110</td>\n",
       "      <td>comp</td>\n",
       "      <td>11/25/2013</td>\n",
       "      <td></td>\n",
       "      <td>Williams Robert W</td>\n",
       "    </tr>\n",
       "    <tr>\n",
       "      <th>4</th>\n",
       "      <td>Michael</td>\n",
       "      <td>Brown</td>\n",
       "      <td>J</td>\n",
       "      <td>M</td>\n",
       "      <td>7</td>\n",
       "      <td>3X646818</td>\n",
       "      <td>proj</td>\n",
       "      <td>1/20/2012</td>\n",
       "      <td></td>\n",
       "      <td>Brown Michael J</td>\n",
       "    </tr>\n",
       "    <tr>\n",
       "      <th>...</th>\n",
       "      <td>...</td>\n",
       "      <td>...</td>\n",
       "      <td>...</td>\n",
       "      <td>...</td>\n",
       "      <td>...</td>\n",
       "      <td>...</td>\n",
       "      <td>...</td>\n",
       "      <td>...</td>\n",
       "      <td>...</td>\n",
       "      <td>...</td>\n",
       "    </tr>\n",
       "    <tr>\n",
       "      <th>673</th>\n",
       "      <td>Lawrence</td>\n",
       "      <td>Rubio</td>\n",
       "      <td>NaN</td>\n",
       "      <td>M</td>\n",
       "      <td>6</td>\n",
       "      <td>3X499553</td>\n",
       "      <td>acc</td>\n",
       "      <td>11/14/2011</td>\n",
       "      <td></td>\n",
       "      <td>Rubio Lawrence</td>\n",
       "    </tr>\n",
       "    <tr>\n",
       "      <th>674</th>\n",
       "      <td>Austin</td>\n",
       "      <td>Choi</td>\n",
       "      <td>NaN</td>\n",
       "      <td>M</td>\n",
       "      <td>4</td>\n",
       "      <td>114045</td>\n",
       "      <td>hr</td>\n",
       "      <td>6/10/2017</td>\n",
       "      <td></td>\n",
       "      <td>Choi Austin</td>\n",
       "    </tr>\n",
       "    <tr>\n",
       "      <th>675</th>\n",
       "      <td>Joe</td>\n",
       "      <td>Huffman</td>\n",
       "      <td>G</td>\n",
       "      <td>M</td>\n",
       "      <td>1</td>\n",
       "      <td>33030</td>\n",
       "      <td>comp</td>\n",
       "      <td>3/22/2016</td>\n",
       "      <td></td>\n",
       "      <td>Huffman Joe G</td>\n",
       "    </tr>\n",
       "    <tr>\n",
       "      <th>676</th>\n",
       "      <td>Noah</td>\n",
       "      <td>Boyer</td>\n",
       "      <td>F</td>\n",
       "      <td>M</td>\n",
       "      <td>2</td>\n",
       "      <td>51120</td>\n",
       "      <td>proj</td>\n",
       "      <td>10/8/2017</td>\n",
       "      <td></td>\n",
       "      <td>Boyer Noah F</td>\n",
       "    </tr>\n",
       "    <tr>\n",
       "      <th>677</th>\n",
       "      <td>Jesse</td>\n",
       "      <td>Garrison</td>\n",
       "      <td>G</td>\n",
       "      <td>M</td>\n",
       "      <td>2</td>\n",
       "      <td>44124</td>\n",
       "      <td>proj</td>\n",
       "      <td>3/1/2017</td>\n",
       "      <td></td>\n",
       "      <td>Garrison Jesse G</td>\n",
       "    </tr>\n",
       "  </tbody>\n",
       "</table>\n",
       "<p>678 rows × 10 columns</p>\n",
       "</div>"
      ],
      "text/plain": [
       "           fn        ln   mi gender  sg    salary  dept    hiredate termdate  \\\n",
       "0     Madison    Wilton    W      F   1    $77582    hr  11/22/2015            \n",
       "1       James     Smith    A      M   1     38136  comp   1/17/2018            \n",
       "2        John   Johnson  NaN      M   4    107483   fin    6/2/2017            \n",
       "3      Robert  Williams    W      M   7  3X429110  comp  11/25/2013            \n",
       "4     Michael     Brown    J      M   7  3X646818  proj   1/20/2012            \n",
       "..        ...       ...  ...    ...  ..       ...   ...         ...      ...   \n",
       "673  Lawrence     Rubio  NaN      M   6  3X499553   acc  11/14/2011            \n",
       "674    Austin      Choi  NaN      M   4    114045    hr   6/10/2017            \n",
       "675       Joe   Huffman    G      M   1     33030  comp   3/22/2016            \n",
       "676      Noah     Boyer    F      M   2     51120  proj   10/8/2017            \n",
       "677     Jesse  Garrison    G      M   2     44124  proj    3/1/2017            \n",
       "\n",
       "                  name  \n",
       "0     Wilton Madison W  \n",
       "1        Smith James A  \n",
       "2        Johnson John   \n",
       "3    Williams Robert W  \n",
       "4      Brown Michael J  \n",
       "..                 ...  \n",
       "673    Rubio Lawrence   \n",
       "674       Choi Austin   \n",
       "675      Huffman Joe G  \n",
       "676       Boyer Noah F  \n",
       "677   Garrison Jesse G  \n",
       "\n",
       "[678 rows x 10 columns]"
      ]
     },
     "execution_count": 469,
     "metadata": {},
     "output_type": "execute_result"
    }
   ],
   "source": [
    "# this line nukes the I.T. column, recognized too late to fix :()\n",
    "df['name']=df[['ln','fn','mi']].fillna('').astype('str').agg(' '.join, axis=1)\n",
    "df"
   ]
  },
  {
   "cell_type": "markdown",
   "metadata": {},
   "source": [
    "4 - Create a alphabetic list of employees by last name, first name (Name)"
   ]
  },
  {
   "cell_type": "code",
   "execution_count": 470,
   "metadata": {},
   "outputs": [
    {
     "data": {
      "text/html": [
       "<div>\n",
       "<style scoped>\n",
       "    .dataframe tbody tr th:only-of-type {\n",
       "        vertical-align: middle;\n",
       "    }\n",
       "\n",
       "    .dataframe tbody tr th {\n",
       "        vertical-align: top;\n",
       "    }\n",
       "\n",
       "    .dataframe thead th {\n",
       "        text-align: right;\n",
       "    }\n",
       "</style>\n",
       "<table border=\"1\" class=\"dataframe\">\n",
       "  <thead>\n",
       "    <tr style=\"text-align: right;\">\n",
       "      <th></th>\n",
       "      <th>fn</th>\n",
       "      <th>ln</th>\n",
       "      <th>mi</th>\n",
       "      <th>gender</th>\n",
       "      <th>sg</th>\n",
       "      <th>salary</th>\n",
       "      <th>dept</th>\n",
       "      <th>hiredate</th>\n",
       "      <th>termdate</th>\n",
       "      <th>name</th>\n",
       "    </tr>\n",
       "  </thead>\n",
       "  <tbody>\n",
       "    <tr>\n",
       "      <th>645</th>\n",
       "      <td>Raymond</td>\n",
       "      <td>Abbott</td>\n",
       "      <td>NaN</td>\n",
       "      <td>M</td>\n",
       "      <td>7</td>\n",
       "      <td>3X654139</td>\n",
       "      <td>pub</td>\n",
       "      <td>12/28/2002</td>\n",
       "      <td></td>\n",
       "      <td>Abbott Raymond</td>\n",
       "    </tr>\n",
       "    <tr>\n",
       "      <th>665</th>\n",
       "      <td>Keith</td>\n",
       "      <td>Acevedo</td>\n",
       "      <td>A</td>\n",
       "      <td>M</td>\n",
       "      <td>6</td>\n",
       "      <td>3X406173</td>\n",
       "      <td>hr</td>\n",
       "      <td>5/6/2007</td>\n",
       "      <td></td>\n",
       "      <td>Acevedo Keith A</td>\n",
       "    </tr>\n",
       "    <tr>\n",
       "      <th>302</th>\n",
       "      <td>Patricia</td>\n",
       "      <td>Acosta</td>\n",
       "      <td>NaN</td>\n",
       "      <td>F</td>\n",
       "      <td>2</td>\n",
       "      <td>58475</td>\n",
       "      <td>hr</td>\n",
       "      <td>3/5/2018</td>\n",
       "      <td></td>\n",
       "      <td>Acosta Patricia</td>\n",
       "    </tr>\n",
       "    <tr>\n",
       "      <th>42</th>\n",
       "      <td>Benjamin</td>\n",
       "      <td>Adams</td>\n",
       "      <td>NaN</td>\n",
       "      <td>M</td>\n",
       "      <td>2</td>\n",
       "      <td>67712</td>\n",
       "      <td>comp</td>\n",
       "      <td>3/21/2015</td>\n",
       "      <td></td>\n",
       "      <td>Adams Benjamin</td>\n",
       "    </tr>\n",
       "    <tr>\n",
       "      <th>449</th>\n",
       "      <td>Dennis</td>\n",
       "      <td>Adkins</td>\n",
       "      <td>NaN</td>\n",
       "      <td>M</td>\n",
       "      <td>4</td>\n",
       "      <td>111088</td>\n",
       "      <td>I.T.</td>\n",
       "      <td>5/1/2017</td>\n",
       "      <td></td>\n",
       "      <td>Adkins Dennis</td>\n",
       "    </tr>\n",
       "    <tr>\n",
       "      <th>...</th>\n",
       "      <td>...</td>\n",
       "      <td>...</td>\n",
       "      <td>...</td>\n",
       "      <td>...</td>\n",
       "      <td>...</td>\n",
       "      <td>...</td>\n",
       "      <td>...</td>\n",
       "      <td>...</td>\n",
       "      <td>...</td>\n",
       "      <td>...</td>\n",
       "    </tr>\n",
       "    <tr>\n",
       "      <th>540</th>\n",
       "      <td>Brandon</td>\n",
       "      <td>Zamora</td>\n",
       "      <td>NaN</td>\n",
       "      <td>M</td>\n",
       "      <td>6</td>\n",
       "      <td>3X410395</td>\n",
       "      <td>proj</td>\n",
       "      <td>10/6/2014</td>\n",
       "      <td></td>\n",
       "      <td>Zamora Brandon</td>\n",
       "    </tr>\n",
       "    <tr>\n",
       "      <th>667</th>\n",
       "      <td>Gerald</td>\n",
       "      <td>Zavala</td>\n",
       "      <td>J</td>\n",
       "      <td>M</td>\n",
       "      <td>5</td>\n",
       "      <td>132100</td>\n",
       "      <td>proj</td>\n",
       "      <td>6/9/2014</td>\n",
       "      <td></td>\n",
       "      <td>Zavala Gerald J</td>\n",
       "    </tr>\n",
       "    <tr>\n",
       "      <th>472</th>\n",
       "      <td>Sean</td>\n",
       "      <td>Zhang</td>\n",
       "      <td>W</td>\n",
       "      <td>M</td>\n",
       "      <td>6</td>\n",
       "      <td>3X534783</td>\n",
       "      <td>proj</td>\n",
       "      <td>1/11/2005</td>\n",
       "      <td>6/6/2006</td>\n",
       "      <td>Zhang Sean W</td>\n",
       "    </tr>\n",
       "    <tr>\n",
       "      <th>379</th>\n",
       "      <td>Janice</td>\n",
       "      <td>Zimmerman</td>\n",
       "      <td>NaN</td>\n",
       "      <td>F</td>\n",
       "      <td>5</td>\n",
       "      <td>125626</td>\n",
       "      <td>fin</td>\n",
       "      <td>3/2/2012</td>\n",
       "      <td></td>\n",
       "      <td>Zimmerman Janice</td>\n",
       "    </tr>\n",
       "    <tr>\n",
       "      <th>600</th>\n",
       "      <td>Bradley</td>\n",
       "      <td>Zuniga</td>\n",
       "      <td>NaN</td>\n",
       "      <td>M</td>\n",
       "      <td>2</td>\n",
       "      <td>48491</td>\n",
       "      <td>fin</td>\n",
       "      <td>12/20/2016</td>\n",
       "      <td></td>\n",
       "      <td>Zuniga Bradley</td>\n",
       "    </tr>\n",
       "  </tbody>\n",
       "</table>\n",
       "<p>678 rows × 10 columns</p>\n",
       "</div>"
      ],
      "text/plain": [
       "           fn         ln   mi gender  sg    salary  dept    hiredate  \\\n",
       "645   Raymond     Abbott  NaN      M   7  3X654139   pub  12/28/2002   \n",
       "665     Keith    Acevedo    A      M   6  3X406173    hr    5/6/2007   \n",
       "302  Patricia     Acosta  NaN      F   2     58475    hr    3/5/2018   \n",
       "42   Benjamin      Adams  NaN      M   2     67712  comp   3/21/2015   \n",
       "449    Dennis     Adkins  NaN      M   4    111088  I.T.    5/1/2017   \n",
       "..        ...        ...  ...    ...  ..       ...   ...         ...   \n",
       "540   Brandon     Zamora  NaN      M   6  3X410395  proj   10/6/2014   \n",
       "667    Gerald     Zavala    J      M   5    132100  proj    6/9/2014   \n",
       "472      Sean      Zhang    W      M   6  3X534783  proj   1/11/2005   \n",
       "379    Janice  Zimmerman  NaN      F   5    125626   fin    3/2/2012   \n",
       "600   Bradley     Zuniga  NaN      M   2     48491   fin  12/20/2016   \n",
       "\n",
       "      termdate               name  \n",
       "645               Abbott Raymond   \n",
       "665               Acevedo Keith A  \n",
       "302              Acosta Patricia   \n",
       "42                Adams Benjamin   \n",
       "449                Adkins Dennis   \n",
       "..         ...                ...  \n",
       "540               Zamora Brandon   \n",
       "667               Zavala Gerald J  \n",
       "472  6/6/2006        Zhang Sean W  \n",
       "379             Zimmerman Janice   \n",
       "600               Zuniga Bradley   \n",
       "\n",
       "[678 rows x 10 columns]"
      ]
     },
     "execution_count": 470,
     "metadata": {},
     "output_type": "execute_result"
    }
   ],
   "source": [
    "df.sort_values(['ln','fn','mi'],inplace=True)\n",
    "new=df\n",
    "new"
   ]
  },
  {
   "cell_type": "markdown",
   "metadata": {},
   "source": [
    "5 - Create a alphabetic list of employees by last name, first name (Name) for each dept"
   ]
  },
  {
   "cell_type": "code",
   "execution_count": 471,
   "metadata": {},
   "outputs": [
    {
     "data": {
      "text/html": [
       "<div>\n",
       "<style scoped>\n",
       "    .dataframe tbody tr th:only-of-type {\n",
       "        vertical-align: middle;\n",
       "    }\n",
       "\n",
       "    .dataframe tbody tr th {\n",
       "        vertical-align: top;\n",
       "    }\n",
       "\n",
       "    .dataframe thead th {\n",
       "        text-align: right;\n",
       "    }\n",
       "</style>\n",
       "<table border=\"1\" class=\"dataframe\">\n",
       "  <thead>\n",
       "    <tr style=\"text-align: right;\">\n",
       "      <th>name</th>\n",
       "      <th>Abbott Raymond</th>\n",
       "      <th>Acevedo Keith A</th>\n",
       "      <th>Acosta Patricia</th>\n",
       "      <th>Adams Benjamin</th>\n",
       "      <th>Adkins Dennis</th>\n",
       "      <th>Aguilar Shirley J</th>\n",
       "      <th>Aguirre James</th>\n",
       "      <th>Alexander Kimberly F</th>\n",
       "      <th>Ali Zachary</th>\n",
       "      <th>Allen Nicholas</th>\n",
       "      <th>...</th>\n",
       "      <th>Yates Stephen</th>\n",
       "      <th>Yoder Bobby</th>\n",
       "      <th>York Benjamin G</th>\n",
       "      <th>Young Gary G</th>\n",
       "      <th>Yu Nathan J</th>\n",
       "      <th>Zamora Brandon</th>\n",
       "      <th>Zavala Gerald J</th>\n",
       "      <th>Zhang Sean W</th>\n",
       "      <th>Zimmerman Janice</th>\n",
       "      <th>Zuniga Bradley</th>\n",
       "    </tr>\n",
       "    <tr>\n",
       "      <th>dept</th>\n",
       "      <th></th>\n",
       "      <th></th>\n",
       "      <th></th>\n",
       "      <th></th>\n",
       "      <th></th>\n",
       "      <th></th>\n",
       "      <th></th>\n",
       "      <th></th>\n",
       "      <th></th>\n",
       "      <th></th>\n",
       "      <th></th>\n",
       "      <th></th>\n",
       "      <th></th>\n",
       "      <th></th>\n",
       "      <th></th>\n",
       "      <th></th>\n",
       "      <th></th>\n",
       "      <th></th>\n",
       "      <th></th>\n",
       "      <th></th>\n",
       "      <th></th>\n",
       "    </tr>\n",
       "  </thead>\n",
       "  <tbody>\n",
       "    <tr>\n",
       "      <th>I.T.</th>\n",
       "      <td>0</td>\n",
       "      <td>0</td>\n",
       "      <td>0</td>\n",
       "      <td>0</td>\n",
       "      <td>1</td>\n",
       "      <td>0</td>\n",
       "      <td>0</td>\n",
       "      <td>0</td>\n",
       "      <td>0</td>\n",
       "      <td>1</td>\n",
       "      <td>...</td>\n",
       "      <td>0</td>\n",
       "      <td>1</td>\n",
       "      <td>0</td>\n",
       "      <td>0</td>\n",
       "      <td>0</td>\n",
       "      <td>0</td>\n",
       "      <td>0</td>\n",
       "      <td>0</td>\n",
       "      <td>0</td>\n",
       "      <td>0</td>\n",
       "    </tr>\n",
       "    <tr>\n",
       "      <th>acc</th>\n",
       "      <td>0</td>\n",
       "      <td>0</td>\n",
       "      <td>0</td>\n",
       "      <td>0</td>\n",
       "      <td>0</td>\n",
       "      <td>0</td>\n",
       "      <td>0</td>\n",
       "      <td>0</td>\n",
       "      <td>0</td>\n",
       "      <td>0</td>\n",
       "      <td>...</td>\n",
       "      <td>0</td>\n",
       "      <td>0</td>\n",
       "      <td>0</td>\n",
       "      <td>0</td>\n",
       "      <td>0</td>\n",
       "      <td>0</td>\n",
       "      <td>0</td>\n",
       "      <td>0</td>\n",
       "      <td>0</td>\n",
       "      <td>0</td>\n",
       "    </tr>\n",
       "    <tr>\n",
       "      <th>comp</th>\n",
       "      <td>0</td>\n",
       "      <td>0</td>\n",
       "      <td>0</td>\n",
       "      <td>1</td>\n",
       "      <td>0</td>\n",
       "      <td>0</td>\n",
       "      <td>0</td>\n",
       "      <td>0</td>\n",
       "      <td>1</td>\n",
       "      <td>0</td>\n",
       "      <td>...</td>\n",
       "      <td>0</td>\n",
       "      <td>0</td>\n",
       "      <td>0</td>\n",
       "      <td>0</td>\n",
       "      <td>0</td>\n",
       "      <td>0</td>\n",
       "      <td>0</td>\n",
       "      <td>0</td>\n",
       "      <td>0</td>\n",
       "      <td>0</td>\n",
       "    </tr>\n",
       "    <tr>\n",
       "      <th>fin</th>\n",
       "      <td>0</td>\n",
       "      <td>0</td>\n",
       "      <td>0</td>\n",
       "      <td>0</td>\n",
       "      <td>0</td>\n",
       "      <td>1</td>\n",
       "      <td>0</td>\n",
       "      <td>0</td>\n",
       "      <td>0</td>\n",
       "      <td>0</td>\n",
       "      <td>...</td>\n",
       "      <td>0</td>\n",
       "      <td>0</td>\n",
       "      <td>0</td>\n",
       "      <td>0</td>\n",
       "      <td>0</td>\n",
       "      <td>0</td>\n",
       "      <td>0</td>\n",
       "      <td>0</td>\n",
       "      <td>1</td>\n",
       "      <td>1</td>\n",
       "    </tr>\n",
       "    <tr>\n",
       "      <th>hr</th>\n",
       "      <td>0</td>\n",
       "      <td>1</td>\n",
       "      <td>1</td>\n",
       "      <td>0</td>\n",
       "      <td>0</td>\n",
       "      <td>0</td>\n",
       "      <td>0</td>\n",
       "      <td>0</td>\n",
       "      <td>0</td>\n",
       "      <td>0</td>\n",
       "      <td>...</td>\n",
       "      <td>0</td>\n",
       "      <td>0</td>\n",
       "      <td>0</td>\n",
       "      <td>0</td>\n",
       "      <td>0</td>\n",
       "      <td>0</td>\n",
       "      <td>0</td>\n",
       "      <td>0</td>\n",
       "      <td>0</td>\n",
       "      <td>0</td>\n",
       "    </tr>\n",
       "    <tr>\n",
       "      <th>proj</th>\n",
       "      <td>0</td>\n",
       "      <td>0</td>\n",
       "      <td>0</td>\n",
       "      <td>0</td>\n",
       "      <td>0</td>\n",
       "      <td>0</td>\n",
       "      <td>1</td>\n",
       "      <td>0</td>\n",
       "      <td>0</td>\n",
       "      <td>0</td>\n",
       "      <td>...</td>\n",
       "      <td>1</td>\n",
       "      <td>0</td>\n",
       "      <td>0</td>\n",
       "      <td>0</td>\n",
       "      <td>0</td>\n",
       "      <td>1</td>\n",
       "      <td>1</td>\n",
       "      <td>1</td>\n",
       "      <td>0</td>\n",
       "      <td>0</td>\n",
       "    </tr>\n",
       "    <tr>\n",
       "      <th>pub</th>\n",
       "      <td>1</td>\n",
       "      <td>0</td>\n",
       "      <td>0</td>\n",
       "      <td>0</td>\n",
       "      <td>0</td>\n",
       "      <td>0</td>\n",
       "      <td>0</td>\n",
       "      <td>1</td>\n",
       "      <td>0</td>\n",
       "      <td>0</td>\n",
       "      <td>...</td>\n",
       "      <td>0</td>\n",
       "      <td>0</td>\n",
       "      <td>1</td>\n",
       "      <td>1</td>\n",
       "      <td>1</td>\n",
       "      <td>0</td>\n",
       "      <td>0</td>\n",
       "      <td>0</td>\n",
       "      <td>0</td>\n",
       "      <td>0</td>\n",
       "    </tr>\n",
       "  </tbody>\n",
       "</table>\n",
       "<p>7 rows × 678 columns</p>\n",
       "</div>"
      ],
      "text/plain": [
       "name  Abbott Raymond   Acevedo Keith A  Acosta Patricia   Adams Benjamin   \\\n",
       "dept                                                                        \n",
       "I.T.                0                0                 0                0   \n",
       "acc                 0                0                 0                0   \n",
       "comp                0                0                 0                1   \n",
       "fin                 0                0                 0                0   \n",
       "hr                  0                1                 1                0   \n",
       "proj                0                0                 0                0   \n",
       "pub                 1                0                 0                0   \n",
       "\n",
       "name  Adkins Dennis   Aguilar Shirley J  Aguirre James   Alexander Kimberly F  \\\n",
       "dept                                                                            \n",
       "I.T.               1                  0               0                     0   \n",
       "acc                0                  0               0                     0   \n",
       "comp               0                  0               0                     0   \n",
       "fin                0                  1               0                     0   \n",
       "hr                 0                  0               0                     0   \n",
       "proj               0                  0               1                     0   \n",
       "pub                0                  0               0                     1   \n",
       "\n",
       "name  Ali Zachary   Allen Nicholas   ...  Yates Stephen   Yoder Bobby   \\\n",
       "dept                                 ...                                 \n",
       "I.T.             0                1  ...               0             1   \n",
       "acc              0                0  ...               0             0   \n",
       "comp             1                0  ...               0             0   \n",
       "fin              0                0  ...               0             0   \n",
       "hr               0                0  ...               0             0   \n",
       "proj             0                0  ...               1             0   \n",
       "pub              0                0  ...               0             0   \n",
       "\n",
       "name  York Benjamin G  Young Gary G  Yu Nathan J  Zamora Brandon   \\\n",
       "dept                                                                \n",
       "I.T.                0             0            0                0   \n",
       "acc                 0             0            0                0   \n",
       "comp                0             0            0                0   \n",
       "fin                 0             0            0                0   \n",
       "hr                  0             0            0                0   \n",
       "proj                0             0            0                1   \n",
       "pub                 1             1            1                0   \n",
       "\n",
       "name  Zavala Gerald J  Zhang Sean W  Zimmerman Janice   Zuniga Bradley   \n",
       "dept                                                                     \n",
       "I.T.                0             0                  0                0  \n",
       "acc                 0             0                  0                0  \n",
       "comp                0             0                  0                0  \n",
       "fin                 0             0                  1                1  \n",
       "hr                  0             0                  0                0  \n",
       "proj                1             1                  0                0  \n",
       "pub                 0             0                  0                0  \n",
       "\n",
       "[7 rows x 678 columns]"
      ]
     },
     "execution_count": 471,
     "metadata": {},
     "output_type": "execute_result"
    }
   ],
   "source": [
    "# thought about making this a dict with keys being depts and names being a literal list...\n",
    "# This is surprisingly readable and searchable. Assuming the word 'list' in the questions are not meant literally...\n",
    "df = pd.crosstab(df['dept'], df['name'])\n",
    "df"
   ]
  },
  {
   "cell_type": "markdown",
   "metadata": {},
   "source": [
    "6 - Create a horizontal bar chart with the number of employees per dept"
   ]
  },
  {
   "cell_type": "code",
   "execution_count": 472,
   "metadata": {},
   "outputs": [
    {
     "data": {
      "text/plain": [
       "<AxesSubplot:>"
      ]
     },
     "execution_count": 472,
     "metadata": {},
     "output_type": "execute_result"
    },
    {
     "data": {
      "image/png": "[encoded data removed]",
      "text/plain": [
       "<Figure size 432x288 with 1 Axes>"
      ]
     },
     "metadata": {
      "needs_background": "light"
     },
     "output_type": "display_data"
    }
   ],
   "source": [
    "new['dept'].value_counts().plot(kind='barh')"
   ]
  },
  {
   "cell_type": "markdown",
   "metadata": {},
   "source": [
    "<h2>Part 2 - a</h2>\n",
    "1 - Remove the NaN from the mi"
   ]
  },
  {
   "cell_type": "code",
   "execution_count": 473,
   "metadata": {},
   "outputs": [
    {
     "data": {
      "text/html": [
       "<div>\n",
       "<style scoped>\n",
       "    .dataframe tbody tr th:only-of-type {\n",
       "        vertical-align: middle;\n",
       "    }\n",
       "\n",
       "    .dataframe tbody tr th {\n",
       "        vertical-align: top;\n",
       "    }\n",
       "\n",
       "    .dataframe thead th {\n",
       "        text-align: right;\n",
       "    }\n",
       "</style>\n",
       "<table border=\"1\" class=\"dataframe\">\n",
       "  <thead>\n",
       "    <tr style=\"text-align: right;\">\n",
       "      <th></th>\n",
       "      <th>fn</th>\n",
       "      <th>ln</th>\n",
       "      <th>mi</th>\n",
       "      <th>gender</th>\n",
       "      <th>sg</th>\n",
       "      <th>salary</th>\n",
       "      <th>dept</th>\n",
       "      <th>hiredate</th>\n",
       "      <th>termdate</th>\n",
       "      <th>name</th>\n",
       "    </tr>\n",
       "  </thead>\n",
       "  <tbody>\n",
       "    <tr>\n",
       "      <th>645</th>\n",
       "      <td>Raymond</td>\n",
       "      <td>Abbott</td>\n",
       "      <td></td>\n",
       "      <td>M</td>\n",
       "      <td>7</td>\n",
       "      <td>3X654139</td>\n",
       "      <td>PUB</td>\n",
       "      <td>12/28/2002</td>\n",
       "      <td></td>\n",
       "      <td>Abbott Raymond</td>\n",
       "    </tr>\n",
       "    <tr>\n",
       "      <th>665</th>\n",
       "      <td>Keith</td>\n",
       "      <td>Acevedo</td>\n",
       "      <td>A</td>\n",
       "      <td>M</td>\n",
       "      <td>6</td>\n",
       "      <td>3X406173</td>\n",
       "      <td>HR</td>\n",
       "      <td>5/6/2007</td>\n",
       "      <td></td>\n",
       "      <td>Acevedo Keith A</td>\n",
       "    </tr>\n",
       "    <tr>\n",
       "      <th>302</th>\n",
       "      <td>Patricia</td>\n",
       "      <td>Acosta</td>\n",
       "      <td></td>\n",
       "      <td>F</td>\n",
       "      <td>2</td>\n",
       "      <td>58475</td>\n",
       "      <td>HR</td>\n",
       "      <td>3/5/2018</td>\n",
       "      <td></td>\n",
       "      <td>Acosta Patricia</td>\n",
       "    </tr>\n",
       "    <tr>\n",
       "      <th>42</th>\n",
       "      <td>Benjamin</td>\n",
       "      <td>Adams</td>\n",
       "      <td></td>\n",
       "      <td>M</td>\n",
       "      <td>2</td>\n",
       "      <td>67712</td>\n",
       "      <td>COMP</td>\n",
       "      <td>3/21/2015</td>\n",
       "      <td></td>\n",
       "      <td>Adams Benjamin</td>\n",
       "    </tr>\n",
       "    <tr>\n",
       "      <th>449</th>\n",
       "      <td>Dennis</td>\n",
       "      <td>Adkins</td>\n",
       "      <td></td>\n",
       "      <td>M</td>\n",
       "      <td>4</td>\n",
       "      <td>111088</td>\n",
       "      <td>I.T.</td>\n",
       "      <td>5/1/2017</td>\n",
       "      <td></td>\n",
       "      <td>Adkins Dennis</td>\n",
       "    </tr>\n",
       "    <tr>\n",
       "      <th>...</th>\n",
       "      <td>...</td>\n",
       "      <td>...</td>\n",
       "      <td>...</td>\n",
       "      <td>...</td>\n",
       "      <td>...</td>\n",
       "      <td>...</td>\n",
       "      <td>...</td>\n",
       "      <td>...</td>\n",
       "      <td>...</td>\n",
       "      <td>...</td>\n",
       "    </tr>\n",
       "    <tr>\n",
       "      <th>540</th>\n",
       "      <td>Brandon</td>\n",
       "      <td>Zamora</td>\n",
       "      <td></td>\n",
       "      <td>M</td>\n",
       "      <td>6</td>\n",
       "      <td>3X410395</td>\n",
       "      <td>PROJ</td>\n",
       "      <td>10/6/2014</td>\n",
       "      <td></td>\n",
       "      <td>Zamora Brandon</td>\n",
       "    </tr>\n",
       "    <tr>\n",
       "      <th>667</th>\n",
       "      <td>Gerald</td>\n",
       "      <td>Zavala</td>\n",
       "      <td>J</td>\n",
       "      <td>M</td>\n",
       "      <td>5</td>\n",
       "      <td>132100</td>\n",
       "      <td>PROJ</td>\n",
       "      <td>6/9/2014</td>\n",
       "      <td></td>\n",
       "      <td>Zavala Gerald J</td>\n",
       "    </tr>\n",
       "    <tr>\n",
       "      <th>472</th>\n",
       "      <td>Sean</td>\n",
       "      <td>Zhang</td>\n",
       "      <td>W</td>\n",
       "      <td>M</td>\n",
       "      <td>6</td>\n",
       "      <td>3X534783</td>\n",
       "      <td>PROJ</td>\n",
       "      <td>1/11/2005</td>\n",
       "      <td>6/6/2006</td>\n",
       "      <td>Zhang Sean W</td>\n",
       "    </tr>\n",
       "    <tr>\n",
       "      <th>379</th>\n",
       "      <td>Janice</td>\n",
       "      <td>Zimmerman</td>\n",
       "      <td></td>\n",
       "      <td>F</td>\n",
       "      <td>5</td>\n",
       "      <td>125626</td>\n",
       "      <td>FIN</td>\n",
       "      <td>3/2/2012</td>\n",
       "      <td></td>\n",
       "      <td>Zimmerman Janice</td>\n",
       "    </tr>\n",
       "    <tr>\n",
       "      <th>600</th>\n",
       "      <td>Bradley</td>\n",
       "      <td>Zuniga</td>\n",
       "      <td></td>\n",
       "      <td>M</td>\n",
       "      <td>2</td>\n",
       "      <td>48491</td>\n",
       "      <td>FIN</td>\n",
       "      <td>12/20/2016</td>\n",
       "      <td></td>\n",
       "      <td>Zuniga Bradley</td>\n",
       "    </tr>\n",
       "  </tbody>\n",
       "</table>\n",
       "<p>678 rows × 10 columns</p>\n",
       "</div>"
      ],
      "text/plain": [
       "           fn         ln mi gender  sg    salary  dept    hiredate   termdate  \\\n",
       "645   Raymond     Abbott         M   7  3X654139   PUB  12/28/2002              \n",
       "665     Keith    Acevedo  A      M   6  3X406173    HR    5/6/2007              \n",
       "302  Patricia     Acosta         F   2     58475    HR    3/5/2018              \n",
       "42   Benjamin      Adams         M   2     67712  COMP   3/21/2015              \n",
       "449    Dennis     Adkins         M   4    111088  I.T.    5/1/2017              \n",
       "..        ...        ... ..    ...  ..       ...   ...         ...        ...   \n",
       "540   Brandon     Zamora         M   6  3X410395  PROJ   10/6/2014              \n",
       "667    Gerald     Zavala  J      M   5    132100  PROJ    6/9/2014              \n",
       "472      Sean      Zhang  W      M   6  3X534783  PROJ   1/11/2005  6/6/2006    \n",
       "379    Janice  Zimmerman         F   5    125626   FIN    3/2/2012              \n",
       "600   Bradley     Zuniga         M   2     48491   FIN  12/20/2016              \n",
       "\n",
       "                  name  \n",
       "645    Abbott Raymond   \n",
       "665    Acevedo Keith A  \n",
       "302   Acosta Patricia   \n",
       "42     Adams Benjamin   \n",
       "449     Adkins Dennis   \n",
       "..                 ...  \n",
       "540    Zamora Brandon   \n",
       "667    Zavala Gerald J  \n",
       "472       Zhang Sean W  \n",
       "379  Zimmerman Janice   \n",
       "600    Zuniga Bradley   \n",
       "\n",
       "[678 rows x 10 columns]"
      ]
     },
     "execution_count": 473,
     "metadata": {},
     "output_type": "execute_result"
    }
   ],
   "source": [
    "new['mi']=new['mi'].replace(np.nan, '')\n",
    "new.dept = new.dept.str.upper()\n",
    "new"
   ]
  },
  {
   "cell_type": "markdown",
   "metadata": {},
   "source": [
    "2 - Import the dept_CAPSTONE.txt file"
   ]
  },
  {
   "cell_type": "code",
   "execution_count": 474,
   "metadata": {},
   "outputs": [
    {
     "data": {
      "text/html": [
       "<div>\n",
       "<style scoped>\n",
       "    .dataframe tbody tr th:only-of-type {\n",
       "        vertical-align: middle;\n",
       "    }\n",
       "\n",
       "    .dataframe tbody tr th {\n",
       "        vertical-align: top;\n",
       "    }\n",
       "\n",
       "    .dataframe thead th {\n",
       "        text-align: right;\n",
       "    }\n",
       "</style>\n",
       "<table border=\"1\" class=\"dataframe\">\n",
       "  <thead>\n",
       "    <tr style=\"text-align: right;\">\n",
       "      <th></th>\n",
       "      <th>deptCode</th>\n",
       "      <th>deptName</th>\n",
       "    </tr>\n",
       "  </thead>\n",
       "  <tbody>\n",
       "    <tr>\n",
       "      <th>0</th>\n",
       "      <td>fin</td>\n",
       "      <td>Finance</td>\n",
       "    </tr>\n",
       "    <tr>\n",
       "      <th>1</th>\n",
       "      <td>acc</td>\n",
       "      <td>Acco0unting</td>\n",
       "    </tr>\n",
       "    <tr>\n",
       "      <th>2</th>\n",
       "      <td>pub</td>\n",
       "      <td>Public Relations</td>\n",
       "    </tr>\n",
       "    <tr>\n",
       "      <th>3</th>\n",
       "      <td>hr</td>\n",
       "      <td>Human resou0rses$</td>\n",
       "    </tr>\n",
       "    <tr>\n",
       "      <th>4</th>\n",
       "      <td>comp</td>\n",
       "      <td>Lega@l and Compliance</td>\n",
       "    </tr>\n",
       "    <tr>\n",
       "      <th>5</th>\n",
       "      <td>proj</td>\n",
       "      <td>Project Management</td>\n",
       "    </tr>\n",
       "    <tr>\n",
       "      <th>6</th>\n",
       "      <td>I.T.</td>\n",
       "      <td>Informa1tion Technology</td>\n",
       "    </tr>\n",
       "  </tbody>\n",
       "</table>\n",
       "</div>"
      ],
      "text/plain": [
       "  deptCode                 deptName\n",
       "0      fin                  Finance\n",
       "1      acc              Acco0unting\n",
       "2      pub         Public Relations\n",
       "3       hr        Human resou0rses$\n",
       "4     comp    Lega@l and Compliance\n",
       "5     proj       Project Management\n",
       "6     I.T.  Informa1tion Technology"
      ]
     },
     "execution_count": 474,
     "metadata": {},
     "output_type": "execute_result"
    }
   ],
   "source": [
    "import pandas as pd\n",
    "df=pd.read_csv('dept_CAPSTONE.txt', names=['deptCode','deptName'], header=0)\n",
    "df=df.replace('\\'', '', regex=True)\n",
    "df.columns=df.columns.str.strip('\\'')\n",
    "df"
   ]
  },
  {
   "cell_type": "markdown",
   "metadata": {},
   "source": [
    "3 - Make the deptCode all caps"
   ]
  },
  {
   "cell_type": "code",
   "execution_count": 475,
   "metadata": {},
   "outputs": [],
   "source": [
    "df['deptCode']=df['deptCode'].str.upper()"
   ]
  },
  {
   "cell_type": "markdown",
   "metadata": {},
   "source": [
    "4 - Remove the non alpha characters in the dept name"
   ]
  },
  {
   "cell_type": "code",
   "execution_count": 476,
   "metadata": {},
   "outputs": [
    {
     "name": "stderr",
     "output_type": "stream",
     "text": [
      "/var/folders/hl/rnkm2m_d3s92k66lxdhnvbpr0000gn/T/ipykernel_8726/56829498.py:1: FutureWarning: The default value of regex will change from True to False in a future version.\n",
      "  df['deptName']=df['deptName'].str.replace(r'[^A-Za-z ]+', '')\n"
     ]
    },
    {
     "data": {
      "text/html": [
       "<div>\n",
       "<style scoped>\n",
       "    .dataframe tbody tr th:only-of-type {\n",
       "        vertical-align: middle;\n",
       "    }\n",
       "\n",
       "    .dataframe tbody tr th {\n",
       "        vertical-align: top;\n",
       "    }\n",
       "\n",
       "    .dataframe thead th {\n",
       "        text-align: right;\n",
       "    }\n",
       "</style>\n",
       "<table border=\"1\" class=\"dataframe\">\n",
       "  <thead>\n",
       "    <tr style=\"text-align: right;\">\n",
       "      <th></th>\n",
       "      <th>dept</th>\n",
       "      <th>deptName</th>\n",
       "    </tr>\n",
       "  </thead>\n",
       "  <tbody>\n",
       "    <tr>\n",
       "      <th>0</th>\n",
       "      <td>FIN</td>\n",
       "      <td>Finance</td>\n",
       "    </tr>\n",
       "    <tr>\n",
       "      <th>1</th>\n",
       "      <td>ACC</td>\n",
       "      <td>Accounting</td>\n",
       "    </tr>\n",
       "    <tr>\n",
       "      <th>2</th>\n",
       "      <td>PUB</td>\n",
       "      <td>Public Relations</td>\n",
       "    </tr>\n",
       "    <tr>\n",
       "      <th>3</th>\n",
       "      <td>HR</td>\n",
       "      <td>Human resourses</td>\n",
       "    </tr>\n",
       "    <tr>\n",
       "      <th>4</th>\n",
       "      <td>COMP</td>\n",
       "      <td>Legal and Compliance</td>\n",
       "    </tr>\n",
       "    <tr>\n",
       "      <th>5</th>\n",
       "      <td>PROJ</td>\n",
       "      <td>Project Management</td>\n",
       "    </tr>\n",
       "    <tr>\n",
       "      <th>6</th>\n",
       "      <td>I.T.</td>\n",
       "      <td>Information Technology</td>\n",
       "    </tr>\n",
       "  </tbody>\n",
       "</table>\n",
       "</div>"
      ],
      "text/plain": [
       "   dept                deptName\n",
       "0   FIN                 Finance\n",
       "1   ACC              Accounting\n",
       "2   PUB        Public Relations\n",
       "3    HR         Human resourses\n",
       "4  COMP    Legal and Compliance\n",
       "5  PROJ      Project Management\n",
       "6  I.T.  Information Technology"
      ]
     },
     "execution_count": 476,
     "metadata": {},
     "output_type": "execute_result"
    }
   ],
   "source": [
    "df['deptName']=df['deptName'].str.replace(r'[^A-Za-z ]+', '')\n",
    "df.rename(columns={'deptCode':'dept'}, inplace=True)\n",
    "df"
   ]
  },
  {
   "cell_type": "markdown",
   "metadata": {},
   "source": [
    "5 - Make the dept name each word initial caps"
   ]
  },
  {
   "cell_type": "code",
   "execution_count": 477,
   "metadata": {},
   "outputs": [
    {
     "data": {
      "text/html": [
       "<div>\n",
       "<style scoped>\n",
       "    .dataframe tbody tr th:only-of-type {\n",
       "        vertical-align: middle;\n",
       "    }\n",
       "\n",
       "    .dataframe tbody tr th {\n",
       "        vertical-align: top;\n",
       "    }\n",
       "\n",
       "    .dataframe thead th {\n",
       "        text-align: right;\n",
       "    }\n",
       "</style>\n",
       "<table border=\"1\" class=\"dataframe\">\n",
       "  <thead>\n",
       "    <tr style=\"text-align: right;\">\n",
       "      <th></th>\n",
       "      <th>dept</th>\n",
       "      <th>deptName</th>\n",
       "    </tr>\n",
       "  </thead>\n",
       "  <tbody>\n",
       "    <tr>\n",
       "      <th>0</th>\n",
       "      <td>FIN</td>\n",
       "      <td>Finance</td>\n",
       "    </tr>\n",
       "    <tr>\n",
       "      <th>1</th>\n",
       "      <td>ACC</td>\n",
       "      <td>Accounting</td>\n",
       "    </tr>\n",
       "    <tr>\n",
       "      <th>2</th>\n",
       "      <td>PUB</td>\n",
       "      <td>Public Relations</td>\n",
       "    </tr>\n",
       "    <tr>\n",
       "      <th>3</th>\n",
       "      <td>HR</td>\n",
       "      <td>Human Resourses</td>\n",
       "    </tr>\n",
       "    <tr>\n",
       "      <th>4</th>\n",
       "      <td>COMP</td>\n",
       "      <td>Legal And Compliance</td>\n",
       "    </tr>\n",
       "    <tr>\n",
       "      <th>5</th>\n",
       "      <td>PROJ</td>\n",
       "      <td>Project Management</td>\n",
       "    </tr>\n",
       "    <tr>\n",
       "      <th>6</th>\n",
       "      <td>I.T.</td>\n",
       "      <td>Information Technology</td>\n",
       "    </tr>\n",
       "  </tbody>\n",
       "</table>\n",
       "</div>"
      ],
      "text/plain": [
       "   dept                deptName\n",
       "0   FIN                 Finance\n",
       "1   ACC              Accounting\n",
       "2   PUB        Public Relations\n",
       "3    HR         Human Resourses\n",
       "4  COMP    Legal And Compliance\n",
       "5  PROJ      Project Management\n",
       "6  I.T.  Information Technology"
      ]
     },
     "execution_count": 477,
     "metadata": {},
     "output_type": "execute_result"
    }
   ],
   "source": [
    "df['deptName'] = df['deptName'].str.title()\n",
    "df"
   ]
  },
  {
   "cell_type": "markdown",
   "metadata": {},
   "source": [
    "6 - Combine the emp_file and the dept_file and join both tables on dept code"
   ]
  },
  {
   "cell_type": "code",
   "execution_count": 478,
   "metadata": {},
   "outputs": [
    {
     "data": {
      "text/html": [
       "<div>\n",
       "<style scoped>\n",
       "    .dataframe tbody tr th:only-of-type {\n",
       "        vertical-align: middle;\n",
       "    }\n",
       "\n",
       "    .dataframe tbody tr th {\n",
       "        vertical-align: top;\n",
       "    }\n",
       "\n",
       "    .dataframe thead th {\n",
       "        text-align: right;\n",
       "    }\n",
       "</style>\n",
       "<table border=\"1\" class=\"dataframe\">\n",
       "  <thead>\n",
       "    <tr style=\"text-align: right;\">\n",
       "      <th></th>\n",
       "      <th>fn</th>\n",
       "      <th>ln</th>\n",
       "      <th>mi</th>\n",
       "      <th>gender</th>\n",
       "      <th>sg</th>\n",
       "      <th>salary</th>\n",
       "      <th>dept</th>\n",
       "      <th>hiredate</th>\n",
       "      <th>termdate</th>\n",
       "      <th>name</th>\n",
       "      <th>deptName</th>\n",
       "    </tr>\n",
       "  </thead>\n",
       "  <tbody>\n",
       "    <tr>\n",
       "      <th>0</th>\n",
       "      <td>Raymond</td>\n",
       "      <td>Abbott</td>\n",
       "      <td></td>\n",
       "      <td>M</td>\n",
       "      <td>7</td>\n",
       "      <td>3X654139</td>\n",
       "      <td>PUB</td>\n",
       "      <td>12/28/2002</td>\n",
       "      <td></td>\n",
       "      <td>Abbott Raymond</td>\n",
       "      <td>Public Relations</td>\n",
       "    </tr>\n",
       "    <tr>\n",
       "      <th>1</th>\n",
       "      <td>Kimberly</td>\n",
       "      <td>Alexander</td>\n",
       "      <td>F</td>\n",
       "      <td>F</td>\n",
       "      <td>7</td>\n",
       "      <td>3X532531</td>\n",
       "      <td>PUB</td>\n",
       "      <td>3/3/2005</td>\n",
       "      <td></td>\n",
       "      <td>Alexander Kimberly F</td>\n",
       "      <td>Public Relations</td>\n",
       "    </tr>\n",
       "    <tr>\n",
       "      <th>2</th>\n",
       "      <td>Joseph</td>\n",
       "      <td>Ball</td>\n",
       "      <td>A</td>\n",
       "      <td>M</td>\n",
       "      <td>1</td>\n",
       "      <td>38818</td>\n",
       "      <td>PUB</td>\n",
       "      <td>9/6/2017</td>\n",
       "      <td></td>\n",
       "      <td>Ball Joseph A</td>\n",
       "      <td>Public Relations</td>\n",
       "    </tr>\n",
       "    <tr>\n",
       "      <th>3</th>\n",
       "      <td>Logan</td>\n",
       "      <td>Banks</td>\n",
       "      <td></td>\n",
       "      <td>M</td>\n",
       "      <td>3</td>\n",
       "      <td>84847</td>\n",
       "      <td>PUB</td>\n",
       "      <td>8/12/2016</td>\n",
       "      <td></td>\n",
       "      <td>Banks Logan</td>\n",
       "      <td>Public Relations</td>\n",
       "    </tr>\n",
       "    <tr>\n",
       "      <th>4</th>\n",
       "      <td>Evelyn</td>\n",
       "      <td>Barker</td>\n",
       "      <td>G</td>\n",
       "      <td>F</td>\n",
       "      <td>6</td>\n",
       "      <td>3X408885</td>\n",
       "      <td>PUB</td>\n",
       "      <td>7/30/2014</td>\n",
       "      <td></td>\n",
       "      <td>Barker Evelyn G</td>\n",
       "      <td>Public Relations</td>\n",
       "    </tr>\n",
       "    <tr>\n",
       "      <th>...</th>\n",
       "      <td>...</td>\n",
       "      <td>...</td>\n",
       "      <td>...</td>\n",
       "      <td>...</td>\n",
       "      <td>...</td>\n",
       "      <td>...</td>\n",
       "      <td>...</td>\n",
       "      <td>...</td>\n",
       "      <td>...</td>\n",
       "      <td>...</td>\n",
       "      <td>...</td>\n",
       "    </tr>\n",
       "    <tr>\n",
       "      <th>673</th>\n",
       "      <td>Donna</td>\n",
       "      <td>Wade</td>\n",
       "      <td></td>\n",
       "      <td>F</td>\n",
       "      <td>6</td>\n",
       "      <td>3X410424</td>\n",
       "      <td>ACC</td>\n",
       "      <td>7/9/2010</td>\n",
       "      <td>8/31/2016</td>\n",
       "      <td>Wade Donna</td>\n",
       "      <td>Accounting</td>\n",
       "    </tr>\n",
       "    <tr>\n",
       "      <th>674</th>\n",
       "      <td>Russell</td>\n",
       "      <td>Walsh</td>\n",
       "      <td>F</td>\n",
       "      <td>M</td>\n",
       "      <td>2</td>\n",
       "      <td>73281</td>\n",
       "      <td>ACC</td>\n",
       "      <td>12/16/2015</td>\n",
       "      <td></td>\n",
       "      <td>Walsh Russell F</td>\n",
       "      <td>Accounting</td>\n",
       "    </tr>\n",
       "    <tr>\n",
       "      <th>675</th>\n",
       "      <td>Marie</td>\n",
       "      <td>Warren</td>\n",
       "      <td></td>\n",
       "      <td>F</td>\n",
       "      <td>3</td>\n",
       "      <td>68500</td>\n",
       "      <td>ACC</td>\n",
       "      <td>5/19/2016</td>\n",
       "      <td></td>\n",
       "      <td>Warren Marie</td>\n",
       "      <td>Accounting</td>\n",
       "    </tr>\n",
       "    <tr>\n",
       "      <th>676</th>\n",
       "      <td>Gabriel</td>\n",
       "      <td>Weiss</td>\n",
       "      <td></td>\n",
       "      <td>M</td>\n",
       "      <td>5</td>\n",
       "      <td>129114</td>\n",
       "      <td>ACC</td>\n",
       "      <td>9/8/2016</td>\n",
       "      <td>10/24/2019</td>\n",
       "      <td>Weiss Gabriel</td>\n",
       "      <td>Accounting</td>\n",
       "    </tr>\n",
       "    <tr>\n",
       "      <th>677</th>\n",
       "      <td>Ryan</td>\n",
       "      <td>Willis</td>\n",
       "      <td></td>\n",
       "      <td>M</td>\n",
       "      <td>4</td>\n",
       "      <td>90350</td>\n",
       "      <td>ACC</td>\n",
       "      <td>3/14/2017</td>\n",
       "      <td></td>\n",
       "      <td>Willis Ryan</td>\n",
       "      <td>Accounting</td>\n",
       "    </tr>\n",
       "  </tbody>\n",
       "</table>\n",
       "<p>678 rows × 11 columns</p>\n",
       "</div>"
      ],
      "text/plain": [
       "           fn         ln mi gender  sg    salary dept    hiredate  \\\n",
       "0     Raymond     Abbott         M   7  3X654139  PUB  12/28/2002   \n",
       "1    Kimberly  Alexander  F      F   7  3X532531  PUB    3/3/2005   \n",
       "2      Joseph       Ball  A      M   1     38818  PUB    9/6/2017   \n",
       "3       Logan      Banks         M   3     84847  PUB   8/12/2016   \n",
       "4      Evelyn     Barker  G      F   6  3X408885  PUB   7/30/2014   \n",
       "..        ...        ... ..    ...  ..       ...  ...         ...   \n",
       "673     Donna       Wade         F   6  3X410424  ACC    7/9/2010   \n",
       "674   Russell      Walsh  F      M   2     73281  ACC  12/16/2015   \n",
       "675     Marie     Warren         F   3     68500  ACC   5/19/2016   \n",
       "676   Gabriel      Weiss         M   5    129114  ACC    9/8/2016   \n",
       "677      Ryan     Willis         M   4     90350  ACC   3/14/2017   \n",
       "\n",
       "        termdate                  name          deptName  \n",
       "0                      Abbott Raymond   Public Relations  \n",
       "1                 Alexander Kimberly F  Public Relations  \n",
       "2                        Ball Joseph A  Public Relations  \n",
       "3                         Banks Logan   Public Relations  \n",
       "4                      Barker Evelyn G  Public Relations  \n",
       "..           ...                   ...               ...  \n",
       "673   8/31/2016            Wade Donna         Accounting  \n",
       "674                    Walsh Russell F        Accounting  \n",
       "675                      Warren Marie         Accounting  \n",
       "676  10/24/2019         Weiss Gabriel         Accounting  \n",
       "677                       Willis Ryan         Accounting  \n",
       "\n",
       "[678 rows x 11 columns]"
      ]
     },
     "execution_count": 478,
     "metadata": {},
     "output_type": "execute_result"
    }
   ],
   "source": [
    "import pandas as pd\n",
    "new = new.merge(df,on='dept',how='inner')\n",
    "new"
   ]
  },
  {
   "cell_type": "markdown",
   "metadata": {},
   "source": [
    "7 - Create a file called ACTIVE_EMPLOYEES_BY_DEPT. Print list of all employees by dept by hire date (Descending order)\n",
    "\twith terminated employees eliminated"
   ]
  },
  {
   "cell_type": "code",
   "execution_count": 479,
   "metadata": {},
   "outputs": [
    {
     "name": "stdout",
     "output_type": "stream",
     "text": [
      "                  name dept    hiredate\n",
      "0      Salazar Janice   ACC  2003-11-08\n",
      "1      Benitez Roger F  ACC  2003-11-29\n",
      "2      Suarez Charles   ACC  2004-04-11\n",
      "3    Baldwin Natalie G  ACC  2004-12-05\n",
      "4        Barron Adam G  ACC  2005-04-29\n",
      "..                 ...  ...         ...\n",
      "612     Gilbert Ethan   PUB  2018-07-16\n",
      "613   Franklin Tyler J  PUB  2018-08-03\n",
      "614    Barrera Jerry P  PUB  2018-09-19\n",
      "615    Robinson Ryan A  PUB  2018-10-12\n",
      "616     Rosales Jacob   PUB  2018-10-13\n",
      "\n",
      "[617 rows x 3 columns]\n"
     ]
    }
   ],
   "source": [
    "# Convert date columns to datetime objects. Coercing errors ignores them and \n",
    "# makes empty entries NaT aka 'Not a Time'\n",
    "new[['hiredate','termdate']]=new[['hiredate','termdate']].apply(pd.to_datetime,errors='coerce')\n",
    "# Sort the dataframe by the dept then by hiredate \n",
    "new.sort_values(['dept','hiredate'],inplace=True)\n",
    "new[new.termdate.isnull()].to_csv('ACTIVE_EMPLOYEES_BY_DEPT.txt',columns=['name','dept','hiredate'],index=False)\n",
    "\n",
    "print(pd.read_csv('ACTIVE_EMPLOYEES_BY_DEPT.txt'))\n",
    "\n",
    "# If you want dataframe output and not resulting csv output uncomment below\n",
    "# new[['dept','hiredate','name']]"
   ]
  },
  {
   "cell_type": "markdown",
   "metadata": {},
   "source": [
    "8 - Create a histogram that shows a count of the number of employees per dept by years employed"
   ]
  },
  {
   "cell_type": "code",
   "execution_count": 480,
   "metadata": {},
   "outputs": [
    {
     "data": {
      "image/png": "[encoded data removed]",
      "text/plain": [
       "<Figure size 1440x1440 with 7 Axes>"
      ]
     },
     "metadata": {
      "needs_background": "light"
     },
     "output_type": "display_data"
    }
   ],
   "source": [
    "import pandas as pd\n",
    "# Terminated employees are no longer employees so assuming output file from previous question is\n",
    "# appropriate\n",
    "df=pd.read_csv('ACTIVE_EMPLOYEES_BY_DEPT.txt')\n",
    "df['yearsEmployed'] = pd.Timestamp.now().year-pd.to_datetime(df.hiredate).dt.year\n",
    "df = pd.crosstab(df['yearsEmployed'],df['dept'])\n",
    "histo = df.plot(kind='hist',figsize=(20,20), subplots=True).flatten()\n",
    "[x.legend().get_frame().set_color(\"darkslategray\") for x in histo]\n",
    "_=[x.set_xlabel('Years Employed') for x in histo]\n",
    "_=[x.set_ylabel('Number Employees') for x in histo]\n",
    "#histo #  Uncomment this line if histogram does not display"
   ]
  },
  {
   "cell_type": "markdown",
   "metadata": {},
   "source": [
    "<h2>Part 2 - b - SALARY ANALYSIS</h2>\n",
    "NOTE: A normal distribution has the following attributes:<br>\n",
    "68% within 1 standard deviation, 95% within 2 STD, 99% within 3 STD<br>\n",
    "1 - Decode the salaries column"
   ]
  },
  {
   "cell_type": "code",
   "execution_count": 481,
   "metadata": {},
   "outputs": [
    {
     "data": {
      "text/plain": [
       "array(['PUB', 'PROJ', 'HR', 'FIN', 'COMP', 'ACC'], dtype=object)"
      ]
     },
     "execution_count": 481,
     "metadata": {},
     "output_type": "execute_result"
    }
   ],
   "source": [
    "# The number in front of the X in the encoded salary indicates what index within\n",
    "#    the scale array to use for the decoded digit in a given salary.\n",
    "# The number 3 in front of the X means the decoded number is the -3rd index from the original\n",
    "\n",
    "import pandas as pd\n",
    "\n",
    "df = pd.read_csv('ACTIVE_EMPLOYEES_BY_DEPT.csv')\n",
    "\n",
    "def decoder(salary):\n",
    "    scale = [0,1,2,3,4,5,6,7,8,9]\n",
    "    # get rid of dollar sign\n",
    "    salary = salary.replace('$','')\n",
    "    # Proceed only if salary is encoded\n",
    "    if 'X' not in salary: return int(salary)\n",
    "    # make salary mutable\n",
    "    salary = list(salary)\n",
    "    # Remove the 'X'\n",
    "    salary.pop(1)\n",
    "    # Keep first digit as the scale 'index adjuster'\n",
    "    decode_key = int(salary.pop(0))\n",
    "    # iterate the salary digits\n",
    "    for x in range(len(salary)):\n",
    "        # find each digits index in the scale list, adjust index by decode key\n",
    "        #   and set that salary digit to the decoded value\n",
    "        salary[x]=str(scale[scale.index(int(salary[x]))-decode_key])\n",
    "    # return decoded salary\n",
    "    return int(''.join(salary))\n",
    "# Apply the above function to the encoded salaries and save it to a new column\n",
    "df['decoded'] = df.salary.apply(decoder)\n",
    "decoded_salaries = df\n",
    "df.deptCode.unique()"
   ]
  },
  {
   "cell_type": "markdown",
   "metadata": {},
   "source": [
    "2 - Create a histogram of all salaries in deciles"
   ]
  },
  {
   "cell_type": "code",
   "execution_count": 482,
   "metadata": {},
   "outputs": [
    {
     "data": {
      "text/plain": [
       "<AxesSubplot:xlabel='Salary', ylabel='Frequency'>"
      ]
     },
     "execution_count": 482,
     "metadata": {},
     "output_type": "execute_result"
    },
    {
     "data": {
      "image/png": "[encoded data removed]",
      "text/plain": [
       "<Figure size 432x432 with 1 Axes>"
      ]
     },
     "metadata": {
      "needs_background": "light"
     },
     "output_type": "display_data"
    }
   ],
   "source": [
    "histo = df['decoded'].plot(kind='hist',figsize=(6,6))\n",
    "histo.set_xlabel('Salary')\n",
    "histo.set_ylabel('Frequency')\n",
    "histo"
   ]
  },
  {
   "cell_type": "markdown",
   "metadata": {},
   "source": [
    "3 - Calculate the mean, mode, median, and standard deviation of the salaries"
   ]
  },
  {
   "cell_type": "code",
   "execution_count": 483,
   "metadata": {},
   "outputs": [
    {
     "name": "stdout",
     "output_type": "stream",
     "text": [
      "Mean:\n",
      "123370.087890625\n",
      "\n",
      "NO MODE\n",
      "Median:\n",
      "103303.0\n",
      "\n",
      "Standard Deviation:\n",
      "80006.15767222963\n"
     ]
    }
   ],
   "source": [
    "print(f'Mean:\\n{df.decoded.mean()}\\n')\n",
    "# print(f'Modes:\\n{df.decoded.mode()}\\n')\n",
    "print('NO MODE')\n",
    "print(f'Median:\\n{df.decoded.median()}\\n')\n",
    "print(f'Standard Deviation:\\n{df.decoded.std()}')\n"
   ]
  },
  {
   "cell_type": "markdown",
   "metadata": {},
   "source": [
    "4 - Is the salary distribution a normal distribution?"
   ]
  },
  {
   "cell_type": "code",
   "execution_count": 484,
   "metadata": {},
   "outputs": [
    {
     "name": "stdout",
     "output_type": "stream",
     "text": [
      "NO\n"
     ]
    },
    {
     "data": {
      "image/png": "[encoded data removed]",
      "text/plain": [
       "<Figure size 360x360 with 1 Axes>"
      ]
     },
     "metadata": {
      "needs_background": "light"
     },
     "output_type": "display_data"
    }
   ],
   "source": [
    "import seaborn as sb\n",
    "sb.displot(df.decoded,kde=True)\n",
    "print('NO')"
   ]
  },
  {
   "cell_type": "markdown",
   "metadata": {},
   "source": [
    "5 - Calculate the mean, mode, median, and standard deviation of the salaries of men"
   ]
  },
  {
   "cell_type": "code",
   "execution_count": 485,
   "metadata": {},
   "outputs": [
    {
     "name": "stdout",
     "output_type": "stream",
     "text": [
      "Mean:\n",
      "124506.92917847025\n",
      "\n",
      "NO MODE\n",
      "Median:\n",
      "103140.0\n",
      "\n",
      "Standard Deviation:\n",
      "82939.05426075381\n"
     ]
    }
   ],
   "source": [
    "male_salaries = df.loc[df.gender=='M']\n",
    "print(f'Mean:\\n{male_salaries.decoded.mean()}\\n')\n",
    "# print(f'Modes:\\n{male_salaries.decoded.mode()}\\n')\n",
    "print('NO MODE')\n",
    "print(f'Median:\\n{male_salaries.decoded.median()}\\n')\n",
    "print(f'Standard Deviation:\\n{male_salaries.decoded.std()}')"
   ]
  },
  {
   "cell_type": "markdown",
   "metadata": {},
   "source": [
    "6 - Calculate the mean, mode, median, and standard deviation of the salaries of women"
   ]
  },
  {
   "cell_type": "code",
   "execution_count": 486,
   "metadata": {},
   "outputs": [
    {
     "name": "stdout",
     "output_type": "stream",
     "text": [
      "Mean:\n",
      "120846.1572327044\n",
      "\n",
      "No Mode\n",
      "Median:\n",
      "104220.0\n",
      "\n",
      "Standard Deviation:\n",
      "73263.27842826446\n"
     ]
    }
   ],
   "source": [
    "female_salaries = df.loc[df.gender=='F']\n",
    "print(f'Mean:\\n{female_salaries.decoded.mean()}\\n')\n",
    "# print(f'Modes:\\n{female_salaries.decoded.mode()}\\n')\n",
    "print('No Mode')\n",
    "print(f'Median:\\n{female_salaries.decoded.median()}\\n')\n",
    "print(f'Standard Deviation:\\n{female_salaries.decoded.std()}')"
   ]
  },
  {
   "cell_type": "markdown",
   "metadata": {},
   "source": [
    "7 - Is the standard deviation, mean, mode, median higher for men? Calulate the % difference"
   ]
  },
  {
   "cell_type": "code",
   "execution_count": 487,
   "metadata": {},
   "outputs": [
    {
     "name": "stdout",
     "output_type": "stream",
     "text": [
      "Male mean salary higher by 2.94%\n",
      "NO MODE, uncomment above to show proof if required\n",
      "Female median salary higher by 1.05%\n",
      "Male stdDev salary higher by 11.67%\n"
     ]
    }
   ],
   "source": [
    "print(f'Male mean salary higher by {round((1-female_salaries.decoded.mean()/male_salaries.decoded.mean())*100,2)}%')\n",
    "# print(f'Male mode salary higher by\\n{round((1-female_salaries.decoded.mode()/male_salaries.decoded.mode())*100,2)}')\n",
    "print('NO MODE, uncomment above to show proof if required')\n",
    "print(f'Female median salary higher by {round((female_salaries.decoded.median()/male_salaries.decoded.median()-1)*100,2)}%')\n",
    "print(f'Male stdDev salary higher by {round((1-female_salaries.decoded.std()/male_salaries.decoded.std())*100,2)}%')"
   ]
  },
  {
   "cell_type": "markdown",
   "metadata": {},
   "source": [
    "8 - Write up- Do you think there is salary bias?"
   ]
  },
  {
   "cell_type": "code",
   "execution_count": 488,
   "metadata": {},
   "outputs": [
    {
     "name": "stdout",
     "output_type": "stream",
     "text": [
      "The mean salary for men is ~$3,000 higher for men than it is for women. With the womens standard deviation being lower\n",
      "this may indicate a no bias, or a bias favoring the men depending on whether the outlier salaries causing the mens higher standard\n",
      "deviation are above or below the average.\n"
     ]
    }
   ],
   "source": [
    "print(\"\"\"The mean salary for men is ~$3,000 higher for men than it is for women. With the womens standard deviation being lower\n",
    "this may indicate a no bias, or a bias favoring the men depending on whether the outlier salaries causing the mens higher standard\n",
    "deviation are above or below the average.\"\"\")"
   ]
  },
  {
   "cell_type": "markdown",
   "metadata": {},
   "source": [
    "<h2>Part 2 - c</h2>\n",
    "The salary grades of 5 - 7 are considered executive salary grades - Exempt or EXECUTIVE<br>\n",
    "1 - create a new column called 'Status' Label each employee record in alpha order by name as EXEMPT or NON-EXEMPT"
   ]
  },
  {
   "cell_type": "code",
   "execution_count": 489,
   "metadata": {},
   "outputs": [
    {
     "name": "stderr",
     "output_type": "stream",
     "text": [
      "/var/folders/hl/rnkm2m_d3s92k66lxdhnvbpr0000gn/T/ipykernel_8726/4136733616.py:2: SettingWithCopyWarning: \n",
      "A value is trying to be set on a copy of a slice from a DataFrame\n",
      "\n",
      "See the caveats in the documentation: https://pandas.pydata.org/pandas-docs/stable/user_guide/indexing.html#returning-a-view-versus-a-copy\n",
      "  df['Status'].loc[(df['sg'] >= 5)],df['Status'].loc[(df['sg'] < 5)] = 'EXEMPT','NON-EXEMPT'\n"
     ]
    },
    {
     "data": {
      "text/plain": [
       "array(['PUB', 'PROJ', 'HR', 'FIN', 'COMP', 'ACC'], dtype=object)"
      ]
     },
     "execution_count": 489,
     "metadata": {},
     "output_type": "execute_result"
    }
   ],
   "source": [
    "df['Status'] = ''\n",
    "df['Status'].loc[(df['sg'] >= 5)],df['Status'].loc[(df['sg'] < 5)] = 'EXEMPT','NON-EXEMPT'\n",
    "df.deptCode.unique()"
   ]
  },
  {
   "cell_type": "markdown",
   "metadata": {},
   "source": [
    "2 - Calculate the mean, mode, median, and standard deviation of the salaries of each salary grade"
   ]
  },
  {
   "cell_type": "code",
   "execution_count": 490,
   "metadata": {},
   "outputs": [
    {
     "name": "stdout",
     "output_type": "stream",
     "text": [
      "\n",
      "-----------\n",
      "Salary Grade: 2\n",
      "Mean:\n",
      "53987.464788732395\n",
      "\n",
      "NO MODE. Uncomment above if proof is needed\n",
      "\n",
      "Median:\n",
      "52082.0\n",
      "\n",
      "Standard Deviation:\n",
      "8423.965311336437\n",
      "\n",
      "-----------\n",
      "Salary Grade: 3\n",
      "Mean:\n",
      "79075.05\n",
      "\n",
      "NO MODE. Uncomment above if proof is needed\n",
      "\n",
      "Median:\n",
      "78271.0\n",
      "\n",
      "Standard Deviation:\n",
      "9517.893026734142\n",
      "\n",
      "-----------\n",
      "Salary Grade: 1\n",
      "Mean:\n",
      "32864.584615384614\n",
      "\n",
      "NO MODE. Uncomment above if proof is needed\n",
      "\n",
      "Median:\n",
      "32513.0\n",
      "\n",
      "Standard Deviation:\n",
      "8053.594853177965\n",
      "\n",
      "-----------\n",
      "Salary Grade: 5\n",
      "Mean:\n",
      "129009.02985074627\n",
      "\n",
      "NO MODE. Uncomment above if proof is needed\n",
      "\n",
      "Median:\n",
      "129655.0\n",
      "\n",
      "Standard Deviation:\n",
      "11073.768992355996\n",
      "\n",
      "-----------\n",
      "Salary Grade: 4\n",
      "Mean:\n",
      "104077.31325301205\n",
      "\n",
      "NO MODE. Uncomment above if proof is needed\n",
      "\n",
      "Median:\n",
      "103988.0\n",
      "\n",
      "Standard Deviation:\n",
      "9745.557305426857\n",
      "\n",
      "-----------\n",
      "Salary Grade: 7\n",
      "Mean:\n",
      "272029.08974358975\n",
      "\n",
      "NO MODE. Uncomment above if proof is needed\n",
      "\n",
      "Median:\n",
      "262586.0\n",
      "\n",
      "Standard Deviation:\n",
      "51828.11693039101\n",
      "\n",
      "-----------\n",
      "Salary Grade: 6\n",
      "Mean:\n",
      "181910.0294117647\n",
      "\n",
      "NO MODE. Uncomment above if proof is needed\n",
      "\n",
      "Median:\n",
      "182601.0\n",
      "\n",
      "Standard Deviation:\n",
      "12761.821684835591\n"
     ]
    }
   ],
   "source": [
    "sg_stats=[df.decoded.loc[df.sg == grade].rename(grade,inplace=True) for grade in df.sg.unique()]\n",
    "\n",
    "for grade in sg_stats:\n",
    "    print(f'\\n-----------\\nSalary Grade: {grade.name}')\n",
    "    print(f'Mean:\\n{grade.mean()}\\n')\n",
    "    # print(f'Modes:\\n{grade.mode()}\\n')\n",
    "    print('NO MODE. Uncomment above if proof is needed\\n')\n",
    "    print(f'Median:\\n{grade.median()}\\n')\n",
    "    print(f'Standard Deviation:\\n{grade.std()}')"
   ]
  },
  {
   "cell_type": "markdown",
   "metadata": {},
   "source": [
    "3 - Calculate the mean, mode, median, and standard deviation of the salaries of EXEMPT employees"
   ]
  },
  {
   "cell_type": "code",
   "execution_count": 491,
   "metadata": {},
   "outputs": [
    {
     "name": "stdout",
     "output_type": "stream",
     "text": [
      "Mean:\n",
      "198271.15492957746\n",
      "\n",
      "NO MODE. Uncomment above if proof is needed\n",
      "\n",
      "Median:\n",
      "185599.0\n",
      "\n",
      "Standard Deviation:\n",
      "68328.95116556568\n"
     ]
    }
   ],
   "source": [
    "ex=df.decoded.loc[df.Status == 'EXEMPT']\n",
    "print(f'Mean:\\n{ex.mean()}\\n')\n",
    "# print(f'Modes:\\n{ex.mode()}\\n')\n",
    "print('NO MODE. Uncomment above if proof is needed\\n')\n",
    "print(f'Median:\\n{ex.median()}\\n')\n",
    "print(f'Standard Deviation:\\n{ex.std()}')"
   ]
  },
  {
   "cell_type": "markdown",
   "metadata": {},
   "source": [
    "4 - Calculate the mean, mode, median, and standard deviation of the salaries of NON-EXEMPT employees"
   ]
  },
  {
   "cell_type": "code",
   "execution_count": 492,
   "metadata": {},
   "outputs": [
    {
     "name": "stdout",
     "output_type": "stream",
     "text": [
      "Mean:\n",
      "70012.47157190635\n",
      "\n",
      "NO MODE. Uncomment above if proof is needed\n",
      "\n",
      "Median:\n",
      "70288.0\n",
      "\n",
      "Standard Deviation:\n",
      "28074.595214500987\n"
     ]
    }
   ],
   "source": [
    "ex=df.decoded.loc[df.Status == 'NON-EXEMPT']\n",
    "print(f'Mean:\\n{ex.mean()}\\n')\n",
    "# print(f'Modes:\\n{ex.mode()}\\n')\n",
    "print('NO MODE. Uncomment above if proof is needed\\n')\n",
    "print(f'Median:\\n{ex.median()}\\n')\n",
    "print(f'Standard Deviation:\\n{ex.std()}')"
   ]
  },
  {
   "cell_type": "markdown",
   "metadata": {},
   "source": [
    "5 - Create pie charts of the employee status of EXEMPT count by gender and NON-EXEMPT count by gender"
   ]
  },
  {
   "cell_type": "code",
   "execution_count": 493,
   "metadata": {},
   "outputs": [
    {
     "data": {
      "text/html": [
       "<div>\n",
       "<style scoped>\n",
       "    .dataframe tbody tr th:only-of-type {\n",
       "        vertical-align: middle;\n",
       "    }\n",
       "\n",
       "    .dataframe tbody tr th {\n",
       "        vertical-align: top;\n",
       "    }\n",
       "\n",
       "    .dataframe thead th {\n",
       "        text-align: right;\n",
       "    }\n",
       "</style>\n",
       "<table border=\"1\" class=\"dataframe\">\n",
       "  <thead>\n",
       "    <tr style=\"text-align: right;\">\n",
       "      <th>Status</th>\n",
       "      <th>EXEMPT</th>\n",
       "      <th>NON-EXEMPT</th>\n",
       "    </tr>\n",
       "    <tr>\n",
       "      <th>gender</th>\n",
       "      <th></th>\n",
       "      <th></th>\n",
       "    </tr>\n",
       "  </thead>\n",
       "  <tbody>\n",
       "    <tr>\n",
       "      <th>F</th>\n",
       "      <td>77</td>\n",
       "      <td>82</td>\n",
       "    </tr>\n",
       "    <tr>\n",
       "      <th>M</th>\n",
       "      <td>136</td>\n",
       "      <td>217</td>\n",
       "    </tr>\n",
       "  </tbody>\n",
       "</table>\n",
       "</div>"
      ],
      "text/plain": [
       "Status  EXEMPT  NON-EXEMPT\n",
       "gender                    \n",
       "F           77          82\n",
       "M          136         217"
      ]
     },
     "execution_count": 493,
     "metadata": {},
     "output_type": "execute_result"
    },
    {
     "data": {
      "image/png": "[encoded data removed]",
      "text/plain": [
       "<Figure size 432x288 with 2 Axes>"
      ]
     },
     "metadata": {},
     "output_type": "display_data"
    }
   ],
   "source": [
    "temp = pd.crosstab(df['gender'],df['Status'])\n",
    "temp.plot(kind='pie',subplots=True, autopct='%1.1f%%',legend=False)\n",
    "temp"
   ]
  },
  {
   "cell_type": "markdown",
   "metadata": {},
   "source": [
    "6 - Create scatter plots of salary grade by mean salary"
   ]
  },
  {
   "cell_type": "code",
   "execution_count": 494,
   "metadata": {},
   "outputs": [
    {
     "data": {
      "text/plain": [
       "<matplotlib.collections.PathCollection at 0x289f20760>"
      ]
     },
     "execution_count": 494,
     "metadata": {},
     "output_type": "execute_result"
    },
    {
     "data": {
      "image/png": "[encoded data removed]",
      "text/plain": [
       "<Figure size 432x288 with 1 Axes>"
      ]
     },
     "metadata": {
      "needs_background": "light"
     },
     "output_type": "display_data"
    }
   ],
   "source": [
    "# RIP this code. Cause of death: Question interpretation complications\n",
    "# df.plot(kind='scatter',x='sg',y='decoded').set_xlabel([df.decoded.loc[df.sg==x].mean() for x in df.sg.unique()])\n",
    "plt.scatter([x for x in df.sg.unique()],[df.decoded.loc[df.sg==x].mean() for x in df.sg.unique()])"
   ]
  },
  {
   "cell_type": "markdown",
   "metadata": {},
   "source": [
    "7 - Create a scatter plots of salary grade by mean salary for men"
   ]
  },
  {
   "cell_type": "code",
   "execution_count": 495,
   "metadata": {},
   "outputs": [
    {
     "data": {
      "text/plain": [
       "<matplotlib.collections.PathCollection at 0x289d14e80>"
      ]
     },
     "execution_count": 495,
     "metadata": {},
     "output_type": "execute_result"
    },
    {
     "data": {
      "image/png": "[encoded data removed]",
      "text/plain": [
       "<Figure size 432x288 with 1 Axes>"
      ]
     },
     "metadata": {
      "needs_background": "light"
     },
     "output_type": "display_data"
    }
   ],
   "source": [
    "men = df.loc[df.gender=='M']\n",
    "plt.scatter([x for x in men.sg.unique()],[men.decoded.loc[men.sg==x].mean() for x in men.sg.unique()])"
   ]
  },
  {
   "cell_type": "markdown",
   "metadata": {},
   "source": [
    "8 - Create a scatter plots of salary grade by mean salary for women"
   ]
  },
  {
   "cell_type": "code",
   "execution_count": 496,
   "metadata": {},
   "outputs": [
    {
     "data": {
      "text/plain": [
       "<matplotlib.collections.PathCollection at 0x16b6a4820>"
      ]
     },
     "execution_count": 496,
     "metadata": {},
     "output_type": "execute_result"
    },
    {
     "data": {
      "image/png": "[encoded data removed]",
      "text/plain": [
       "<Figure size 432x288 with 1 Axes>"
      ]
     },
     "metadata": {
      "needs_background": "light"
     },
     "output_type": "display_data"
    }
   ],
   "source": [
    "women = df.loc[df.gender=='F']\n",
    "plt.scatter([x for x in women.sg.unique()],[women.decoded.loc[women.sg==x].mean() for x in women.sg.unique()])"
   ]
  },
  {
   "cell_type": "markdown",
   "metadata": {},
   "source": [
    "9 - Create a horizontal bar chart of EXEMPT employees by mean salary for men and women (1 chart)"
   ]
  },
  {
   "cell_type": "code",
   "execution_count": 497,
   "metadata": {},
   "outputs": [
    {
     "data": {
      "text/plain": [
       "<BarContainer object of 2 artists>"
      ]
     },
     "execution_count": 497,
     "metadata": {},
     "output_type": "execute_result"
    },
    {
     "data": {
      "image/png": "[encoded data removed]",
      "text/plain": [
       "<Figure size 432x288 with 1 Axes>"
      ]
     },
     "metadata": {
      "needs_background": "light"
     },
     "output_type": "display_data"
    }
   ],
   "source": [
    "ex = df.loc[df.Status=='EXEMPT']\n",
    "plt.barh([x for x in ex.gender.unique()],[ex.decoded.loc[ex.gender==x].mean() for x in ex.gender.unique()])"
   ]
  },
  {
   "cell_type": "markdown",
   "metadata": {},
   "source": [
    "10- Create a horizontal bar chart of NON-EXEMPT employees by mean salary for men and women (1 chart)"
   ]
  },
  {
   "cell_type": "code",
   "execution_count": 498,
   "metadata": {},
   "outputs": [
    {
     "data": {
      "text/plain": [
       "<BarContainer object of 2 artists>"
      ]
     },
     "execution_count": 498,
     "metadata": {},
     "output_type": "execute_result"
    },
    {
     "data": {
      "image/png": "[encoded data removed]",
      "text/plain": [
       "<Figure size 432x288 with 1 Axes>"
      ]
     },
     "metadata": {
      "needs_background": "light"
     },
     "output_type": "display_data"
    }
   ],
   "source": [
    "ex = df.loc[df.Status!='EXEMPT']\n",
    "plt.barh([x for x in ex.gender.unique()],[ex.decoded.loc[ex.gender==x].mean() for x in ex.gender.unique()])"
   ]
  },
  {
   "cell_type": "markdown",
   "metadata": {},
   "source": [
    "<h2>Part 3a - Create employee Id</h2>\n",
    "To construct the employee id for everyone use the following formula<br>\n",
    "First 3 letters of the last name + first 3 letters of the last name + a random 2 digit number from (1 - 99)<br>\n",
    "For example the employee name is Kevin Smith id = 'SMIKEV07'<br>\n",
    "In the case of people with the same last name and first name generate a new number<br>\n",
    "No duplication<br>\n",
    "1 - List all employees in employee id order<br>"
   ]
  },
  {
   "cell_type": "code",
   "execution_count": 499,
   "metadata": {},
   "outputs": [
    {
     "data": {
      "text/html": [
       "<div>\n",
       "<style scoped>\n",
       "    .dataframe tbody tr th:only-of-type {\n",
       "        vertical-align: middle;\n",
       "    }\n",
       "\n",
       "    .dataframe tbody tr th {\n",
       "        vertical-align: top;\n",
       "    }\n",
       "\n",
       "    .dataframe thead th {\n",
       "        text-align: right;\n",
       "    }\n",
       "</style>\n",
       "<table border=\"1\" class=\"dataframe\">\n",
       "  <thead>\n",
       "    <tr style=\"text-align: right;\">\n",
       "      <th></th>\n",
       "      <th>fn</th>\n",
       "      <th>ln</th>\n",
       "      <th>mi</th>\n",
       "      <th>gender</th>\n",
       "      <th>sg</th>\n",
       "      <th>salary</th>\n",
       "      <th>dept</th>\n",
       "      <th>hiredate</th>\n",
       "      <th>termdate</th>\n",
       "      <th>name</th>\n",
       "      <th>deptName</th>\n",
       "      <th>code</th>\n",
       "    </tr>\n",
       "  </thead>\n",
       "  <tbody>\n",
       "    <tr>\n",
       "      <th>594</th>\n",
       "      <td>Samuel</td>\n",
       "      <td>Ballard</td>\n",
       "      <td></td>\n",
       "      <td>M</td>\n",
       "      <td>6</td>\n",
       "      <td>3X422137</td>\n",
       "      <td>ACC</td>\n",
       "      <td>2002-12-03</td>\n",
       "      <td>2019-11-15</td>\n",
       "      <td>Ballard Samuel</td>\n",
       "      <td>Accounting</td>\n",
       "      <td>SamBal423</td>\n",
       "    </tr>\n",
       "    <tr>\n",
       "      <th>606</th>\n",
       "      <td>Dennis</td>\n",
       "      <td>Chase</td>\n",
       "      <td></td>\n",
       "      <td>M</td>\n",
       "      <td>7</td>\n",
       "      <td>3X509923</td>\n",
       "      <td>ACC</td>\n",
       "      <td>2002-12-31</td>\n",
       "      <td>2014-05-23</td>\n",
       "      <td>Chase Dennis</td>\n",
       "      <td>Accounting</td>\n",
       "      <td>DenCha552</td>\n",
       "    </tr>\n",
       "    <tr>\n",
       "      <th>661</th>\n",
       "      <td>Janice</td>\n",
       "      <td>Salazar</td>\n",
       "      <td></td>\n",
       "      <td>F</td>\n",
       "      <td>7</td>\n",
       "      <td>3X679195</td>\n",
       "      <td>ACC</td>\n",
       "      <td>2003-11-08</td>\n",
       "      <td>NaT</td>\n",
       "      <td>Salazar Janice</td>\n",
       "      <td>Accounting</td>\n",
       "      <td>JanSal605</td>\n",
       "    </tr>\n",
       "    <tr>\n",
       "      <th>597</th>\n",
       "      <td>Roger</td>\n",
       "      <td>Benitez</td>\n",
       "      <td>F</td>\n",
       "      <td>M</td>\n",
       "      <td>7</td>\n",
       "      <td>3X662857</td>\n",
       "      <td>ACC</td>\n",
       "      <td>2003-11-29</td>\n",
       "      <td>NaT</td>\n",
       "      <td>Benitez Roger F</td>\n",
       "      <td>Accounting</td>\n",
       "      <td>RogBen201</td>\n",
       "    </tr>\n",
       "    <tr>\n",
       "      <th>666</th>\n",
       "      <td>Charles</td>\n",
       "      <td>Suarez</td>\n",
       "      <td></td>\n",
       "      <td>M</td>\n",
       "      <td>7</td>\n",
       "      <td>3X655783</td>\n",
       "      <td>ACC</td>\n",
       "      <td>2004-04-11</td>\n",
       "      <td>NaT</td>\n",
       "      <td>Suarez Charles</td>\n",
       "      <td>Accounting</td>\n",
       "      <td>ChaSua787</td>\n",
       "    </tr>\n",
       "    <tr>\n",
       "      <th>...</th>\n",
       "      <td>...</td>\n",
       "      <td>...</td>\n",
       "      <td>...</td>\n",
       "      <td>...</td>\n",
       "      <td>...</td>\n",
       "      <td>...</td>\n",
       "      <td>...</td>\n",
       "      <td>...</td>\n",
       "      <td>...</td>\n",
       "      <td>...</td>\n",
       "      <td>...</td>\n",
       "      <td>...</td>\n",
       "    </tr>\n",
       "    <tr>\n",
       "      <th>29</th>\n",
       "      <td>Ethan</td>\n",
       "      <td>Gilbert</td>\n",
       "      <td></td>\n",
       "      <td>M</td>\n",
       "      <td>3</td>\n",
       "      <td>79105</td>\n",
       "      <td>PUB</td>\n",
       "      <td>2018-07-16</td>\n",
       "      <td>NaT</td>\n",
       "      <td>Gilbert Ethan</td>\n",
       "      <td>Public Relations</td>\n",
       "      <td>EthGil562</td>\n",
       "    </tr>\n",
       "    <tr>\n",
       "      <th>27</th>\n",
       "      <td>Tyler</td>\n",
       "      <td>Franklin</td>\n",
       "      <td>J</td>\n",
       "      <td>M</td>\n",
       "      <td>3</td>\n",
       "      <td>86583</td>\n",
       "      <td>PUB</td>\n",
       "      <td>2018-08-03</td>\n",
       "      <td>NaT</td>\n",
       "      <td>Franklin Tyler J</td>\n",
       "      <td>Public Relations</td>\n",
       "      <td>TylFra978</td>\n",
       "    </tr>\n",
       "    <tr>\n",
       "      <th>5</th>\n",
       "      <td>Jerry</td>\n",
       "      <td>Barrera</td>\n",
       "      <td>P</td>\n",
       "      <td>M</td>\n",
       "      <td>3</td>\n",
       "      <td>75908</td>\n",
       "      <td>PUB</td>\n",
       "      <td>2018-09-19</td>\n",
       "      <td>NaT</td>\n",
       "      <td>Barrera Jerry P</td>\n",
       "      <td>Public Relations</td>\n",
       "      <td>JerBar282</td>\n",
       "    </tr>\n",
       "    <tr>\n",
       "      <th>63</th>\n",
       "      <td>Ryan</td>\n",
       "      <td>Robinson</td>\n",
       "      <td>A</td>\n",
       "      <td>M</td>\n",
       "      <td>3</td>\n",
       "      <td>93952</td>\n",
       "      <td>PUB</td>\n",
       "      <td>2018-10-12</td>\n",
       "      <td>NaT</td>\n",
       "      <td>Robinson Ryan A</td>\n",
       "      <td>Public Relations</td>\n",
       "      <td>RyaRob611</td>\n",
       "    </tr>\n",
       "    <tr>\n",
       "      <th>66</th>\n",
       "      <td>Jacob</td>\n",
       "      <td>Rosales</td>\n",
       "      <td></td>\n",
       "      <td>M</td>\n",
       "      <td>2</td>\n",
       "      <td>54720</td>\n",
       "      <td>PUB</td>\n",
       "      <td>2018-10-13</td>\n",
       "      <td>NaT</td>\n",
       "      <td>Rosales Jacob</td>\n",
       "      <td>Public Relations</td>\n",
       "      <td>JacRos453</td>\n",
       "    </tr>\n",
       "  </tbody>\n",
       "</table>\n",
       "<p>678 rows × 12 columns</p>\n",
       "</div>"
      ],
      "text/plain": [
       "          fn        ln mi gender  sg    salary dept   hiredate   termdate  \\\n",
       "594   Samuel   Ballard         M   6  3X422137  ACC 2002-12-03 2019-11-15   \n",
       "606   Dennis     Chase         M   7  3X509923  ACC 2002-12-31 2014-05-23   \n",
       "661   Janice   Salazar         F   7  3X679195  ACC 2003-11-08        NaT   \n",
       "597    Roger   Benitez  F      M   7  3X662857  ACC 2003-11-29        NaT   \n",
       "666  Charles    Suarez         M   7  3X655783  ACC 2004-04-11        NaT   \n",
       "..       ...       ... ..    ...  ..       ...  ...        ...        ...   \n",
       "29     Ethan   Gilbert         M   3     79105  PUB 2018-07-16        NaT   \n",
       "27     Tyler  Franklin  J      M   3     86583  PUB 2018-08-03        NaT   \n",
       "5      Jerry   Barrera  P      M   3     75908  PUB 2018-09-19        NaT   \n",
       "63      Ryan  Robinson  A      M   3     93952  PUB 2018-10-12        NaT   \n",
       "66     Jacob   Rosales         M   2     54720  PUB 2018-10-13        NaT   \n",
       "\n",
       "                 name          deptName       code  \n",
       "594   Ballard Samuel         Accounting  SamBal423  \n",
       "606     Chase Dennis         Accounting  DenCha552  \n",
       "661   Salazar Janice         Accounting  JanSal605  \n",
       "597   Benitez Roger F        Accounting  RogBen201  \n",
       "666   Suarez Charles         Accounting  ChaSua787  \n",
       "..                ...               ...        ...  \n",
       "29     Gilbert Ethan   Public Relations  EthGil562  \n",
       "27   Franklin Tyler J  Public Relations  TylFra978  \n",
       "5     Barrera Jerry P  Public Relations  JerBar282  \n",
       "63    Robinson Ryan A  Public Relations  RyaRob611  \n",
       "66     Rosales Jacob   Public Relations  JacRos453  \n",
       "\n",
       "[678 rows x 12 columns]"
      ]
     },
     "execution_count": 499,
     "metadata": {},
     "output_type": "execute_result"
    }
   ],
   "source": [
    "# fn[:3]+ln[:3]+str(random.randint(1-1000))\n",
    "from random import randint\n",
    "\n",
    "new['code'] = [new.loc[row].fn[:3]+new.loc[row].ln[:3]+str(randint(100,1000)) for row in new.index]\n",
    "new"
   ]
  },
  {
   "cell_type": "markdown",
   "metadata": {},
   "source": [
    "<h2>Part 3b1-3b3 -Raises</h2>\n",
    "1 - Import the file raises_CAPSTONE.txt<br>\n",
    "2 - The rules for giving a raise are in the file but be careful of the order that your run the raise<br>\n",
    "3 - Based on each employees salary calculate 2 fields 'Raise_Amount' and 'New_Salary'<br>"
   ]
  },
  {
   "cell_type": "code",
   "execution_count": 500,
   "metadata": {},
   "outputs": [
    {
     "name": "stdout",
     "output_type": "stream",
     "text": [
      "Output for 3B1-3B3:\n"
     ]
    },
    {
     "data": {
      "text/html": [
       "<div>\n",
       "<style scoped>\n",
       "    .dataframe tbody tr th:only-of-type {\n",
       "        vertical-align: middle;\n",
       "    }\n",
       "\n",
       "    .dataframe tbody tr th {\n",
       "        vertical-align: top;\n",
       "    }\n",
       "\n",
       "    .dataframe thead th {\n",
       "        text-align: right;\n",
       "    }\n",
       "</style>\n",
       "<table border=\"1\" class=\"dataframe\">\n",
       "  <thead>\n",
       "    <tr style=\"text-align: right;\">\n",
       "      <th></th>\n",
       "      <th>fn</th>\n",
       "      <th>ln</th>\n",
       "      <th>mi</th>\n",
       "      <th>gender</th>\n",
       "      <th>sg</th>\n",
       "      <th>salary</th>\n",
       "      <th>dept</th>\n",
       "      <th>hiredate</th>\n",
       "      <th>termdate</th>\n",
       "      <th>deptCode</th>\n",
       "      <th>deptName</th>\n",
       "      <th>decoded</th>\n",
       "      <th>Status</th>\n",
       "      <th>yearsEmployed</th>\n",
       "      <th>Raise_Percent</th>\n",
       "      <th>Raise_Amount</th>\n",
       "      <th>New_Salary</th>\n",
       "    </tr>\n",
       "  </thead>\n",
       "  <tbody>\n",
       "    <tr>\n",
       "      <th>0</th>\n",
       "      <td>Jacob</td>\n",
       "      <td>ROSALES</td>\n",
       "      <td>NaN</td>\n",
       "      <td>M</td>\n",
       "      <td>2</td>\n",
       "      <td>54720</td>\n",
       "      <td>PUB</td>\n",
       "      <td>2018-10-13</td>\n",
       "      <td>NaN</td>\n",
       "      <td>PUB</td>\n",
       "      <td>Public Relations</td>\n",
       "      <td>54720</td>\n",
       "      <td>NON-EXEMPT</td>\n",
       "      <td>4</td>\n",
       "      <td>0.04</td>\n",
       "      <td>2188.80</td>\n",
       "      <td>56908.80</td>\n",
       "    </tr>\n",
       "    <tr>\n",
       "      <th>1</th>\n",
       "      <td>Ryan</td>\n",
       "      <td>ROBINSON</td>\n",
       "      <td>A</td>\n",
       "      <td>M</td>\n",
       "      <td>3</td>\n",
       "      <td>93952</td>\n",
       "      <td>PUB</td>\n",
       "      <td>2018-10-12</td>\n",
       "      <td>NaN</td>\n",
       "      <td>PUB</td>\n",
       "      <td>Public Relations</td>\n",
       "      <td>93952</td>\n",
       "      <td>NON-EXEMPT</td>\n",
       "      <td>4</td>\n",
       "      <td>0.04</td>\n",
       "      <td>3758.08</td>\n",
       "      <td>97710.08</td>\n",
       "    </tr>\n",
       "    <tr>\n",
       "      <th>2</th>\n",
       "      <td>Jerry</td>\n",
       "      <td>BARRERA</td>\n",
       "      <td>P</td>\n",
       "      <td>M</td>\n",
       "      <td>3</td>\n",
       "      <td>75908</td>\n",
       "      <td>PUB</td>\n",
       "      <td>2018-09-19</td>\n",
       "      <td>NaN</td>\n",
       "      <td>PUB</td>\n",
       "      <td>Public Relations</td>\n",
       "      <td>75908</td>\n",
       "      <td>NON-EXEMPT</td>\n",
       "      <td>4</td>\n",
       "      <td>0.04</td>\n",
       "      <td>3036.32</td>\n",
       "      <td>78944.32</td>\n",
       "    </tr>\n",
       "    <tr>\n",
       "      <th>3</th>\n",
       "      <td>Tyler</td>\n",
       "      <td>FRANKLIN</td>\n",
       "      <td>J</td>\n",
       "      <td>M</td>\n",
       "      <td>3</td>\n",
       "      <td>86583</td>\n",
       "      <td>PUB</td>\n",
       "      <td>2018-08-03</td>\n",
       "      <td>NaN</td>\n",
       "      <td>PUB</td>\n",
       "      <td>Public Relations</td>\n",
       "      <td>86583</td>\n",
       "      <td>NON-EXEMPT</td>\n",
       "      <td>4</td>\n",
       "      <td>0.04</td>\n",
       "      <td>3463.32</td>\n",
       "      <td>90046.32</td>\n",
       "    </tr>\n",
       "    <tr>\n",
       "      <th>4</th>\n",
       "      <td>Ethan</td>\n",
       "      <td>GILBERT</td>\n",
       "      <td>NaN</td>\n",
       "      <td>M</td>\n",
       "      <td>3</td>\n",
       "      <td>79105</td>\n",
       "      <td>PUB</td>\n",
       "      <td>2018-07-16</td>\n",
       "      <td>NaN</td>\n",
       "      <td>PUB</td>\n",
       "      <td>Public Relations</td>\n",
       "      <td>79105</td>\n",
       "      <td>NON-EXEMPT</td>\n",
       "      <td>4</td>\n",
       "      <td>0.04</td>\n",
       "      <td>3164.20</td>\n",
       "      <td>82269.20</td>\n",
       "    </tr>\n",
       "    <tr>\n",
       "      <th>...</th>\n",
       "      <td>...</td>\n",
       "      <td>...</td>\n",
       "      <td>...</td>\n",
       "      <td>...</td>\n",
       "      <td>...</td>\n",
       "      <td>...</td>\n",
       "      <td>...</td>\n",
       "      <td>...</td>\n",
       "      <td>...</td>\n",
       "      <td>...</td>\n",
       "      <td>...</td>\n",
       "      <td>...</td>\n",
       "      <td>...</td>\n",
       "      <td>...</td>\n",
       "      <td>...</td>\n",
       "      <td>...</td>\n",
       "      <td>...</td>\n",
       "    </tr>\n",
       "    <tr>\n",
       "      <th>507</th>\n",
       "      <td>Adam</td>\n",
       "      <td>BARRON</td>\n",
       "      <td>G</td>\n",
       "      <td>M</td>\n",
       "      <td>7</td>\n",
       "      <td>3X666950</td>\n",
       "      <td>ACC</td>\n",
       "      <td>2005-04-29</td>\n",
       "      <td>NaN</td>\n",
       "      <td>ACC</td>\n",
       "      <td>Accounting</td>\n",
       "      <td>333627</td>\n",
       "      <td>EXEMPT</td>\n",
       "      <td>17</td>\n",
       "      <td>0.10</td>\n",
       "      <td>33362.70</td>\n",
       "      <td>366989.70</td>\n",
       "    </tr>\n",
       "    <tr>\n",
       "      <th>508</th>\n",
       "      <td>Natalie</td>\n",
       "      <td>BALDWIN</td>\n",
       "      <td>G</td>\n",
       "      <td>F</td>\n",
       "      <td>7</td>\n",
       "      <td>3X558595</td>\n",
       "      <td>ACC</td>\n",
       "      <td>2004-12-05</td>\n",
       "      <td>NaN</td>\n",
       "      <td>ACC</td>\n",
       "      <td>Accounting</td>\n",
       "      <td>225262</td>\n",
       "      <td>EXEMPT</td>\n",
       "      <td>18</td>\n",
       "      <td>0.10</td>\n",
       "      <td>22526.20</td>\n",
       "      <td>247788.20</td>\n",
       "    </tr>\n",
       "    <tr>\n",
       "      <th>509</th>\n",
       "      <td>Charles</td>\n",
       "      <td>SUAREZ</td>\n",
       "      <td>NaN</td>\n",
       "      <td>M</td>\n",
       "      <td>7</td>\n",
       "      <td>3X655783</td>\n",
       "      <td>ACC</td>\n",
       "      <td>2004-04-11</td>\n",
       "      <td>NaN</td>\n",
       "      <td>ACC</td>\n",
       "      <td>Accounting</td>\n",
       "      <td>322450</td>\n",
       "      <td>EXEMPT</td>\n",
       "      <td>18</td>\n",
       "      <td>0.10</td>\n",
       "      <td>32245.00</td>\n",
       "      <td>354695.00</td>\n",
       "    </tr>\n",
       "    <tr>\n",
       "      <th>510</th>\n",
       "      <td>Roger</td>\n",
       "      <td>BENITEZ</td>\n",
       "      <td>F</td>\n",
       "      <td>M</td>\n",
       "      <td>7</td>\n",
       "      <td>3X662857</td>\n",
       "      <td>ACC</td>\n",
       "      <td>2003-11-29</td>\n",
       "      <td>NaN</td>\n",
       "      <td>ACC</td>\n",
       "      <td>Accounting</td>\n",
       "      <td>339524</td>\n",
       "      <td>EXEMPT</td>\n",
       "      <td>19</td>\n",
       "      <td>0.10</td>\n",
       "      <td>33952.40</td>\n",
       "      <td>373476.40</td>\n",
       "    </tr>\n",
       "    <tr>\n",
       "      <th>511</th>\n",
       "      <td>Janice</td>\n",
       "      <td>SALAZAR</td>\n",
       "      <td>NaN</td>\n",
       "      <td>F</td>\n",
       "      <td>7</td>\n",
       "      <td>3X679195</td>\n",
       "      <td>ACC</td>\n",
       "      <td>2003-11-08</td>\n",
       "      <td>NaN</td>\n",
       "      <td>ACC</td>\n",
       "      <td>Accounting</td>\n",
       "      <td>346862</td>\n",
       "      <td>EXEMPT</td>\n",
       "      <td>19</td>\n",
       "      <td>0.10</td>\n",
       "      <td>34686.20</td>\n",
       "      <td>381548.20</td>\n",
       "    </tr>\n",
       "  </tbody>\n",
       "</table>\n",
       "<p>512 rows × 17 columns</p>\n",
       "</div>"
      ],
      "text/plain": [
       "          fn        ln   mi gender  sg    salary dept    hiredate  termdate  \\\n",
       "0      Jacob   ROSALES  NaN      M   2     54720  PUB  2018-10-13       NaN   \n",
       "1       Ryan  ROBINSON    A      M   3     93952  PUB  2018-10-12       NaN   \n",
       "2      Jerry   BARRERA    P      M   3     75908  PUB  2018-09-19       NaN   \n",
       "3      Tyler  FRANKLIN    J      M   3     86583  PUB  2018-08-03       NaN   \n",
       "4      Ethan   GILBERT  NaN      M   3     79105  PUB  2018-07-16       NaN   \n",
       "..       ...       ...  ...    ...  ..       ...  ...         ...       ...   \n",
       "507     Adam    BARRON    G      M   7  3X666950  ACC  2005-04-29       NaN   \n",
       "508  Natalie   BALDWIN    G      F   7  3X558595  ACC  2004-12-05       NaN   \n",
       "509  Charles    SUAREZ  NaN      M   7  3X655783  ACC  2004-04-11       NaN   \n",
       "510    Roger   BENITEZ    F      M   7  3X662857  ACC  2003-11-29       NaN   \n",
       "511   Janice   SALAZAR  NaN      F   7  3X679195  ACC  2003-11-08       NaN   \n",
       "\n",
       "    deptCode          deptName  decoded      Status  yearsEmployed  \\\n",
       "0        PUB  Public Relations    54720  NON-EXEMPT              4   \n",
       "1        PUB  Public Relations    93952  NON-EXEMPT              4   \n",
       "2        PUB  Public Relations    75908  NON-EXEMPT              4   \n",
       "3        PUB  Public Relations    86583  NON-EXEMPT              4   \n",
       "4        PUB  Public Relations    79105  NON-EXEMPT              4   \n",
       "..       ...               ...      ...         ...            ...   \n",
       "507      ACC        Accounting   333627      EXEMPT             17   \n",
       "508      ACC        Accounting   225262      EXEMPT             18   \n",
       "509      ACC        Accounting   322450      EXEMPT             18   \n",
       "510      ACC        Accounting   339524      EXEMPT             19   \n",
       "511      ACC        Accounting   346862      EXEMPT             19   \n",
       "\n",
       "     Raise_Percent  Raise_Amount  New_Salary  \n",
       "0             0.04       2188.80    56908.80  \n",
       "1             0.04       3758.08    97710.08  \n",
       "2             0.04       3036.32    78944.32  \n",
       "3             0.04       3463.32    90046.32  \n",
       "4             0.04       3164.20    82269.20  \n",
       "..             ...           ...         ...  \n",
       "507           0.10      33362.70   366989.70  \n",
       "508           0.10      22526.20   247788.20  \n",
       "509           0.10      32245.00   354695.00  \n",
       "510           0.10      33952.40   373476.40  \n",
       "511           0.10      34686.20   381548.20  \n",
       "\n",
       "[512 rows x 17 columns]"
      ]
     },
     "execution_count": 500,
     "metadata": {},
     "output_type": "execute_result"
    }
   ],
   "source": [
    "raises = pd.read_csv('raises_CAPSTONE.txt')\n",
    "raises.raise_amount = raises.raise_amount.apply(lambda x: float(x.replace('%','').replace('\\'',''))*.01)\n",
    "raise_list = raises.raise_amount.to_list()\n",
    "\n",
    "\n",
    "def find_raise(length_employed:int):\n",
    "    for num in range(len(raise_list)):\n",
    "        try:\n",
    "            if length_employed >= raises.iloc[num].years and length_employed < raises.iloc[num+1].years:\n",
    "                return raise_list[num] \n",
    "        except:\n",
    "            return raise_list[num]\n",
    "\n",
    "new = decoded_salaries\n",
    "new['yearsEmployed'] = pd.Timestamp.now().year-pd.to_datetime(new.hiredate).dt.year\n",
    "new['Raise_Percent']=new.yearsEmployed.apply(find_raise)\n",
    "new['Raise_Amount']=new.decoded*new.Raise_Percent\n",
    "new['New_Salary']=new.decoded+new.Raise_Amount\n",
    "\n",
    "print('Output for 3B1-3B3:')\n",
    "new\n"
   ]
  },
  {
   "cell_type": "markdown",
   "metadata": {},
   "source": [
    "4 - Calculate the total salary for each dept<br>"
   ]
  },
  {
   "cell_type": "code",
   "execution_count": 501,
   "metadata": {},
   "outputs": [],
   "source": [
    "salary_by_dept = pd.DataFrame([(new.loc[new.deptCode == code].New_Salary.sum(),code) for code in new.deptCode.unique()])\n",
    "salary_by_dept.columns=['Total_Salary','Dept']\n",
    "salary_by_dept.reset_index(drop=True, inplace=True)"
   ]
  },
  {
   "cell_type": "markdown",
   "metadata": {},
   "source": [
    "5 - Chart the total salary for each dept in 1 bar chart<br>"
   ]
  },
  {
   "cell_type": "code",
   "execution_count": 502,
   "metadata": {},
   "outputs": [
    {
     "data": {
      "image/png": "[encoded data removed]",
      "text/plain": [
       "<Figure size 432x288 with 1 Axes>"
      ]
     },
     "metadata": {
      "needs_background": "light"
     },
     "output_type": "display_data"
    },
    {
     "data": {
      "text/plain": [
       "array([2, 3, 1, 5, 4, 7, 6])"
      ]
     },
     "execution_count": 502,
     "metadata": {},
     "output_type": "execute_result"
    }
   ],
   "source": [
    "salary_by_dept.plot(kind='bar',rot=0,legend=False)\n",
    "plt.ticklabel_format(style='plain', axis='y')\n",
    "plt.xticks(salary_by_dept.index,list(salary_by_dept.Dept))\n",
    "plt.show()\n",
    "df.sg.unique()"
   ]
  },
  {
   "cell_type": "markdown",
   "metadata": {},
   "source": [
    "6 - Create a pie chart that shows the percentage that each dept has of the total money allocated for raises<br>"
   ]
  },
  {
   "cell_type": "code",
   "execution_count": 503,
   "metadata": {},
   "outputs": [
    {
     "data": {
      "image/png": "[encoded data removed]",
      "text/plain": [
       "<Figure size 720x720 with 1 Axes>"
      ]
     },
     "metadata": {},
     "output_type": "display_data"
    },
    {
     "data": {
      "text/html": [
       "<div>\n",
       "<style scoped>\n",
       "    .dataframe tbody tr th:only-of-type {\n",
       "        vertical-align: middle;\n",
       "    }\n",
       "\n",
       "    .dataframe tbody tr th {\n",
       "        vertical-align: top;\n",
       "    }\n",
       "\n",
       "    .dataframe thead th {\n",
       "        text-align: right;\n",
       "    }\n",
       "</style>\n",
       "<table border=\"1\" class=\"dataframe\">\n",
       "  <thead>\n",
       "    <tr style=\"text-align: right;\">\n",
       "      <th></th>\n",
       "      <th>Raise_amount</th>\n",
       "      <th>Dept</th>\n",
       "    </tr>\n",
       "    <tr>\n",
       "      <th>Dept</th>\n",
       "      <th></th>\n",
       "      <th></th>\n",
       "    </tr>\n",
       "  </thead>\n",
       "  <tbody>\n",
       "    <tr>\n",
       "      <th>PUB</th>\n",
       "      <td>801190.24</td>\n",
       "      <td>PUB</td>\n",
       "    </tr>\n",
       "    <tr>\n",
       "      <th>PROJ</th>\n",
       "      <td>820038.72</td>\n",
       "      <td>PROJ</td>\n",
       "    </tr>\n",
       "    <tr>\n",
       "      <th>HR</th>\n",
       "      <td>990228.34</td>\n",
       "      <td>HR</td>\n",
       "    </tr>\n",
       "    <tr>\n",
       "      <th>FIN</th>\n",
       "      <td>911160.96</td>\n",
       "      <td>FIN</td>\n",
       "    </tr>\n",
       "    <tr>\n",
       "      <th>COMP</th>\n",
       "      <td>897221.48</td>\n",
       "      <td>COMP</td>\n",
       "    </tr>\n",
       "    <tr>\n",
       "      <th>ACC</th>\n",
       "      <td>965276.36</td>\n",
       "      <td>ACC</td>\n",
       "    </tr>\n",
       "  </tbody>\n",
       "</table>\n",
       "</div>"
      ],
      "text/plain": [
       "      Raise_amount  Dept\n",
       "Dept                    \n",
       "PUB      801190.24   PUB\n",
       "PROJ     820038.72  PROJ\n",
       "HR       990228.34    HR\n",
       "FIN      911160.96   FIN\n",
       "COMP     897221.48  COMP\n",
       "ACC      965276.36   ACC"
      ]
     },
     "execution_count": 503,
     "metadata": {},
     "output_type": "execute_result"
    }
   ],
   "source": [
    "salary_by_dept = pd.DataFrame([(new.loc[new.deptCode == code].Raise_Amount.sum(),code) for code in new.deptCode.unique()])\n",
    "salary_by_dept.columns=['Raise_amount','Dept']\n",
    "salary_by_dept.index = salary_by_dept.Dept\n",
    "salary_by_dept.plot(kind='pie', y='Raise_amount', autopct='%1.1f%%',figsize=(10,10),legend=False)\n",
    "plt.show()\n",
    "salary_by_dept\n"
   ]
  },
  {
   "cell_type": "markdown",
   "metadata": {},
   "source": [
    "7 - Create a pie chart to show the percent of men vs women for the raise money allocated<br>\n"
   ]
  },
  {
   "cell_type": "code",
   "execution_count": 504,
   "metadata": {},
   "outputs": [
    {
     "data": {
      "image/png": "[encoded data removed]",
      "text/plain": [
       "<Figure size 720x720 with 1 Axes>"
      ]
     },
     "metadata": {},
     "output_type": "display_data"
    }
   ],
   "source": [
    "salary_by_gender = pd.DataFrame([(new.loc[new.gender == code].Raise_Amount.sum(),code) for code in new.gender.unique()])\n",
    "salary_by_gender.columns=['Raise_amount','gender']\n",
    "salary_by_gender.index = salary_by_gender.gender\n",
    "salary_by_gender.plot(kind='pie', y='Raise_amount', autopct='%1.1f%%',figsize=(10,10),legend=False)\n",
    "plt.show()"
   ]
  },
  {
   "cell_type": "markdown",
   "metadata": {},
   "source": [
    "8- Create a pie chart to show the percent of men vs women for the raise money allocated by dept."
   ]
  },
  {
   "cell_type": "code",
   "execution_count": 505,
   "metadata": {},
   "outputs": [
    {
     "data": {
      "image/png": "[encoded data removed]",
      "text/plain": [
       "<Figure size 1440x1440 with 6 Axes>"
      ]
     },
     "metadata": {},
     "output_type": "display_data"
    }
   ],
   "source": [
    "test = new.pivot_table(index='gender', columns='dept', values='Raise_Amount')\n",
    "test.plot(kind='pie', subplots=True, autopct='%1.1f%%',figsize=(20,20),legend=False)\n",
    "plt.show()"
   ]
  },
  {
   "cell_type": "markdown",
   "metadata": {},
   "source": [
    "9 - Create a dataframe for promotions.  If the persons salary excedes the salary max for their salary grade. create a column<br>\n",
    "called 'Promotion' and add the string 'PROMOTION DUE' otherwise leave blank<br>"
   ]
  },
  {
   "cell_type": "code",
   "execution_count": 506,
   "metadata": {},
   "outputs": [
    {
     "name": "stderr",
     "output_type": "stream",
     "text": [
      "/var/folders/hl/rnkm2m_d3s92k66lxdhnvbpr0000gn/T/ipykernel_8726/2585091165.py:6: FutureWarning: The default value of regex will change from True to False in a future version. In addition, single character regular expressions will *not* be treated as literal strings when regex=True.\n",
      "  pay_grades[['low','high']] = pay_grades[['low','high']].apply(lambda x: x.str.replace('$','').replace('nan','0').astype(int))\n"
     ]
    },
    {
     "data": {
      "text/html": [
       "<div>\n",
       "<style scoped>\n",
       "    .dataframe tbody tr th:only-of-type {\n",
       "        vertical-align: middle;\n",
       "    }\n",
       "\n",
       "    .dataframe tbody tr th {\n",
       "        vertical-align: top;\n",
       "    }\n",
       "\n",
       "    .dataframe thead th {\n",
       "        text-align: right;\n",
       "    }\n",
       "</style>\n",
       "<table border=\"1\" class=\"dataframe\">\n",
       "  <thead>\n",
       "    <tr style=\"text-align: right;\">\n",
       "      <th></th>\n",
       "      <th>fn</th>\n",
       "      <th>ln</th>\n",
       "      <th>mi</th>\n",
       "      <th>gender</th>\n",
       "      <th>sg</th>\n",
       "      <th>salary</th>\n",
       "      <th>dept</th>\n",
       "      <th>hiredate</th>\n",
       "      <th>termdate</th>\n",
       "      <th>deptCode</th>\n",
       "      <th>deptName</th>\n",
       "      <th>decoded</th>\n",
       "      <th>Status</th>\n",
       "      <th>yearsEmployed</th>\n",
       "      <th>Raise_Percent</th>\n",
       "      <th>Raise_Amount</th>\n",
       "      <th>New_Salary</th>\n",
       "      <th>Promotion</th>\n",
       "    </tr>\n",
       "  </thead>\n",
       "  <tbody>\n",
       "    <tr>\n",
       "      <th>0</th>\n",
       "      <td>Jacob</td>\n",
       "      <td>ROSALES</td>\n",
       "      <td>NaN</td>\n",
       "      <td>M</td>\n",
       "      <td>2</td>\n",
       "      <td>54720</td>\n",
       "      <td>PUB</td>\n",
       "      <td>2018-10-13</td>\n",
       "      <td>NaN</td>\n",
       "      <td>PUB</td>\n",
       "      <td>Public Relations</td>\n",
       "      <td>54720</td>\n",
       "      <td>NON-EXEMPT</td>\n",
       "      <td>4</td>\n",
       "      <td>0.04</td>\n",
       "      <td>2188.80</td>\n",
       "      <td>56908.80</td>\n",
       "      <td>None</td>\n",
       "    </tr>\n",
       "    <tr>\n",
       "      <th>1</th>\n",
       "      <td>Ryan</td>\n",
       "      <td>ROBINSON</td>\n",
       "      <td>A</td>\n",
       "      <td>M</td>\n",
       "      <td>3</td>\n",
       "      <td>93952</td>\n",
       "      <td>PUB</td>\n",
       "      <td>2018-10-12</td>\n",
       "      <td>NaN</td>\n",
       "      <td>PUB</td>\n",
       "      <td>Public Relations</td>\n",
       "      <td>93952</td>\n",
       "      <td>NON-EXEMPT</td>\n",
       "      <td>4</td>\n",
       "      <td>0.04</td>\n",
       "      <td>3758.08</td>\n",
       "      <td>97710.08</td>\n",
       "      <td>PROMOTION DUE</td>\n",
       "    </tr>\n",
       "    <tr>\n",
       "      <th>2</th>\n",
       "      <td>Jerry</td>\n",
       "      <td>BARRERA</td>\n",
       "      <td>P</td>\n",
       "      <td>M</td>\n",
       "      <td>3</td>\n",
       "      <td>75908</td>\n",
       "      <td>PUB</td>\n",
       "      <td>2018-09-19</td>\n",
       "      <td>NaN</td>\n",
       "      <td>PUB</td>\n",
       "      <td>Public Relations</td>\n",
       "      <td>75908</td>\n",
       "      <td>NON-EXEMPT</td>\n",
       "      <td>4</td>\n",
       "      <td>0.04</td>\n",
       "      <td>3036.32</td>\n",
       "      <td>78944.32</td>\n",
       "      <td>None</td>\n",
       "    </tr>\n",
       "    <tr>\n",
       "      <th>3</th>\n",
       "      <td>Tyler</td>\n",
       "      <td>FRANKLIN</td>\n",
       "      <td>J</td>\n",
       "      <td>M</td>\n",
       "      <td>3</td>\n",
       "      <td>86583</td>\n",
       "      <td>PUB</td>\n",
       "      <td>2018-08-03</td>\n",
       "      <td>NaN</td>\n",
       "      <td>PUB</td>\n",
       "      <td>Public Relations</td>\n",
       "      <td>86583</td>\n",
       "      <td>NON-EXEMPT</td>\n",
       "      <td>4</td>\n",
       "      <td>0.04</td>\n",
       "      <td>3463.32</td>\n",
       "      <td>90046.32</td>\n",
       "      <td>PROMOTION DUE</td>\n",
       "    </tr>\n",
       "    <tr>\n",
       "      <th>4</th>\n",
       "      <td>Ethan</td>\n",
       "      <td>GILBERT</td>\n",
       "      <td>NaN</td>\n",
       "      <td>M</td>\n",
       "      <td>3</td>\n",
       "      <td>79105</td>\n",
       "      <td>PUB</td>\n",
       "      <td>2018-07-16</td>\n",
       "      <td>NaN</td>\n",
       "      <td>PUB</td>\n",
       "      <td>Public Relations</td>\n",
       "      <td>79105</td>\n",
       "      <td>NON-EXEMPT</td>\n",
       "      <td>4</td>\n",
       "      <td>0.04</td>\n",
       "      <td>3164.20</td>\n",
       "      <td>82269.20</td>\n",
       "      <td>None</td>\n",
       "    </tr>\n",
       "    <tr>\n",
       "      <th>...</th>\n",
       "      <td>...</td>\n",
       "      <td>...</td>\n",
       "      <td>...</td>\n",
       "      <td>...</td>\n",
       "      <td>...</td>\n",
       "      <td>...</td>\n",
       "      <td>...</td>\n",
       "      <td>...</td>\n",
       "      <td>...</td>\n",
       "      <td>...</td>\n",
       "      <td>...</td>\n",
       "      <td>...</td>\n",
       "      <td>...</td>\n",
       "      <td>...</td>\n",
       "      <td>...</td>\n",
       "      <td>...</td>\n",
       "      <td>...</td>\n",
       "      <td>...</td>\n",
       "    </tr>\n",
       "    <tr>\n",
       "      <th>507</th>\n",
       "      <td>Adam</td>\n",
       "      <td>BARRON</td>\n",
       "      <td>G</td>\n",
       "      <td>M</td>\n",
       "      <td>7</td>\n",
       "      <td>3X666950</td>\n",
       "      <td>ACC</td>\n",
       "      <td>2005-04-29</td>\n",
       "      <td>NaN</td>\n",
       "      <td>ACC</td>\n",
       "      <td>Accounting</td>\n",
       "      <td>333627</td>\n",
       "      <td>EXEMPT</td>\n",
       "      <td>17</td>\n",
       "      <td>0.10</td>\n",
       "      <td>33362.70</td>\n",
       "      <td>366989.70</td>\n",
       "      <td>PROMOTION DUE</td>\n",
       "    </tr>\n",
       "    <tr>\n",
       "      <th>508</th>\n",
       "      <td>Natalie</td>\n",
       "      <td>BALDWIN</td>\n",
       "      <td>G</td>\n",
       "      <td>F</td>\n",
       "      <td>7</td>\n",
       "      <td>3X558595</td>\n",
       "      <td>ACC</td>\n",
       "      <td>2004-12-05</td>\n",
       "      <td>NaN</td>\n",
       "      <td>ACC</td>\n",
       "      <td>Accounting</td>\n",
       "      <td>225262</td>\n",
       "      <td>EXEMPT</td>\n",
       "      <td>18</td>\n",
       "      <td>0.10</td>\n",
       "      <td>22526.20</td>\n",
       "      <td>247788.20</td>\n",
       "      <td>PROMOTION DUE</td>\n",
       "    </tr>\n",
       "    <tr>\n",
       "      <th>509</th>\n",
       "      <td>Charles</td>\n",
       "      <td>SUAREZ</td>\n",
       "      <td>NaN</td>\n",
       "      <td>M</td>\n",
       "      <td>7</td>\n",
       "      <td>3X655783</td>\n",
       "      <td>ACC</td>\n",
       "      <td>2004-04-11</td>\n",
       "      <td>NaN</td>\n",
       "      <td>ACC</td>\n",
       "      <td>Accounting</td>\n",
       "      <td>322450</td>\n",
       "      <td>EXEMPT</td>\n",
       "      <td>18</td>\n",
       "      <td>0.10</td>\n",
       "      <td>32245.00</td>\n",
       "      <td>354695.00</td>\n",
       "      <td>PROMOTION DUE</td>\n",
       "    </tr>\n",
       "    <tr>\n",
       "      <th>510</th>\n",
       "      <td>Roger</td>\n",
       "      <td>BENITEZ</td>\n",
       "      <td>F</td>\n",
       "      <td>M</td>\n",
       "      <td>7</td>\n",
       "      <td>3X662857</td>\n",
       "      <td>ACC</td>\n",
       "      <td>2003-11-29</td>\n",
       "      <td>NaN</td>\n",
       "      <td>ACC</td>\n",
       "      <td>Accounting</td>\n",
       "      <td>339524</td>\n",
       "      <td>EXEMPT</td>\n",
       "      <td>19</td>\n",
       "      <td>0.10</td>\n",
       "      <td>33952.40</td>\n",
       "      <td>373476.40</td>\n",
       "      <td>PROMOTION DUE</td>\n",
       "    </tr>\n",
       "    <tr>\n",
       "      <th>511</th>\n",
       "      <td>Janice</td>\n",
       "      <td>SALAZAR</td>\n",
       "      <td>NaN</td>\n",
       "      <td>F</td>\n",
       "      <td>7</td>\n",
       "      <td>3X679195</td>\n",
       "      <td>ACC</td>\n",
       "      <td>2003-11-08</td>\n",
       "      <td>NaN</td>\n",
       "      <td>ACC</td>\n",
       "      <td>Accounting</td>\n",
       "      <td>346862</td>\n",
       "      <td>EXEMPT</td>\n",
       "      <td>19</td>\n",
       "      <td>0.10</td>\n",
       "      <td>34686.20</td>\n",
       "      <td>381548.20</td>\n",
       "      <td>PROMOTION DUE</td>\n",
       "    </tr>\n",
       "  </tbody>\n",
       "</table>\n",
       "<p>512 rows × 18 columns</p>\n",
       "</div>"
      ],
      "text/plain": [
       "          fn        ln   mi gender  sg    salary dept    hiredate  termdate  \\\n",
       "0      Jacob   ROSALES  NaN      M   2     54720  PUB  2018-10-13       NaN   \n",
       "1       Ryan  ROBINSON    A      M   3     93952  PUB  2018-10-12       NaN   \n",
       "2      Jerry   BARRERA    P      M   3     75908  PUB  2018-09-19       NaN   \n",
       "3      Tyler  FRANKLIN    J      M   3     86583  PUB  2018-08-03       NaN   \n",
       "4      Ethan   GILBERT  NaN      M   3     79105  PUB  2018-07-16       NaN   \n",
       "..       ...       ...  ...    ...  ..       ...  ...         ...       ...   \n",
       "507     Adam    BARRON    G      M   7  3X666950  ACC  2005-04-29       NaN   \n",
       "508  Natalie   BALDWIN    G      F   7  3X558595  ACC  2004-12-05       NaN   \n",
       "509  Charles    SUAREZ  NaN      M   7  3X655783  ACC  2004-04-11       NaN   \n",
       "510    Roger   BENITEZ    F      M   7  3X662857  ACC  2003-11-29       NaN   \n",
       "511   Janice   SALAZAR  NaN      F   7  3X679195  ACC  2003-11-08       NaN   \n",
       "\n",
       "    deptCode          deptName  decoded      Status  yearsEmployed  \\\n",
       "0        PUB  Public Relations    54720  NON-EXEMPT              4   \n",
       "1        PUB  Public Relations    93952  NON-EXEMPT              4   \n",
       "2        PUB  Public Relations    75908  NON-EXEMPT              4   \n",
       "3        PUB  Public Relations    86583  NON-EXEMPT              4   \n",
       "4        PUB  Public Relations    79105  NON-EXEMPT              4   \n",
       "..       ...               ...      ...         ...            ...   \n",
       "507      ACC        Accounting   333627      EXEMPT             17   \n",
       "508      ACC        Accounting   225262      EXEMPT             18   \n",
       "509      ACC        Accounting   322450      EXEMPT             18   \n",
       "510      ACC        Accounting   339524      EXEMPT             19   \n",
       "511      ACC        Accounting   346862      EXEMPT             19   \n",
       "\n",
       "     Raise_Percent  Raise_Amount  New_Salary      Promotion  \n",
       "0             0.04       2188.80    56908.80           None  \n",
       "1             0.04       3758.08    97710.08  PROMOTION DUE  \n",
       "2             0.04       3036.32    78944.32           None  \n",
       "3             0.04       3463.32    90046.32  PROMOTION DUE  \n",
       "4             0.04       3164.20    82269.20           None  \n",
       "..             ...           ...         ...            ...  \n",
       "507           0.10      33362.70   366989.70  PROMOTION DUE  \n",
       "508           0.10      22526.20   247788.20  PROMOTION DUE  \n",
       "509           0.10      32245.00   354695.00  PROMOTION DUE  \n",
       "510           0.10      33952.40   373476.40  PROMOTION DUE  \n",
       "511           0.10      34686.20   381548.20  PROMOTION DUE  \n",
       "\n",
       "[512 rows x 18 columns]"
      ]
     },
     "execution_count": 506,
     "metadata": {},
     "output_type": "execute_result"
    }
   ],
   "source": [
    "pay_grades = pd.read_csv('salary_grade_CAPSTONE.txt')\n",
    "pay_grades.set_axis(['grade','low','high'], axis=1, inplace=True)\n",
    "\n",
    "\n",
    "pay_grades = pay_grades[['low','high']].astype(str)\n",
    "pay_grades[['low','high']] = pay_grades[['low','high']].apply(lambda x: x.str.replace('$','').replace('nan','0').astype(int))\n",
    "pay_grades.index+=1\n",
    "\n",
    "new['Promotion'] = ''\n",
    "def promotion_checker(row:pd.Series):\n",
    "    for i in pay_grades.index:\n",
    "        if row.sg == i and row.New_Salary >= pay_grades.iloc[i-1].high:\n",
    "            return 'PROMOTION DUE'\n",
    "new.Promotion = new.apply(promotion_checker,axis=1)\n",
    "new"
   ]
  },
  {
   "cell_type": "markdown",
   "metadata": {},
   "source": [
    "<h2>Part 4 - Analysis</h2>\n",
    "1 - Write about any conclusions you drew from the data.\n",
    "2 - Are there any additional charts or analysis you could include to bolster your conclusions"
   ]
  },
  {
   "cell_type": "markdown",
   "metadata": {},
   "source": [
    "1)\n",
    "The only potential descrimination that I can see is a large gender gap among the 'Exempt' employees and   'Raise Amounts'. However I do not see any relevant statistics that could be used to dertimine the cause, being that raises are giving due to time with the company and no other factors.\n",
    "\n",
    "2)\n",
    "Checking the retention rate for each department, and pay-grade may show a bias in the retention rate explaining the above desparity. Requests for additional analysis must be submitted to auditing company for approvel. The employee providing the above charts and analysis is no longer with the company and is not avaliable for contact."
   ]
  },
  {
   "cell_type": "markdown",
   "metadata": {},
   "source": [
    "This notebook is part of a course at www.codeimmersives.com called Data Science. If you accessed this notebook outside the course, you can get more information about this course online by clicking here."
   ]
  },
  {
   "cell_type": "markdown",
   "metadata": {},
   "source": [
    "<hr>\n",
    "\n",
    "Copyright &copy; 2021  Code Immersives"
   ]
  }
 ],
 "metadata": {
  "kernelspec": {
   "display_name": "Python 3",
   "language": "python",
   "name": "python3"
  },
  "language_info": {
   "codemirror_mode": {
    "name": "ipython",
    "version": 3
   },
   "file_extension": ".py",
   "mimetype": "text/x-python",
   "name": "python",
   "nbconvert_exporter": "python",
   "pygments_lexer": "ipython3",
   "version": "3.10.2"
  }
 },
 "nbformat": 4,
 "nbformat_minor": 2
}
