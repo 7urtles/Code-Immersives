{
 "cells": [
  {
   "cell_type": "code",
   "execution_count": 4,
   "metadata": {},
   "outputs": [
    {
     "name": "stdout",
     "output_type": "stream",
     "text": [
      "[('1/1/2022', '1/31/2022', '31 days'), ('2/1/2022', '2/28/2022', '28 days'), ('3/1/2022', '3/31/2022', '31 days'), ('4/1/2022', '4/30/2022', '30 days'), ('5/1/2022', '5/31/2022', '31 days'), ('6/1/2022', '6/30/2022', '30 days'), ('7/1/2022', '7/31/2022', '31 days'), ('8/1/2022', '8/31/2022', '31 days'), ('9/1/2022', '9/30/2022', '30 days'), ('10/1/2022', '10/31/2022', '31 days'), ('11/1/2022', '11/30/2022', '30 days'), ('12/1/2022', '12/31/2022', '31 days')]\n"
     ]
    }
   ],
   "source": [
    "import datetime\n",
    "\n",
    "def year_data(year:int)->list:\n",
    "    '''Provided a year as an integer, return a list of tuples containing details about each month'''\n",
    "    year_data = []\n",
    "    # start on the first day of the next year\n",
    "    date = datetime.date(year+1,1,1)\n",
    "    # for each month\n",
    "    for _ in range(12):\n",
    "        # go back in time a number of days to get to the previous months last day (ie the number of days in that month)\n",
    "        date -= datetime.timedelta(days=date.day)\n",
    "        # string formatting to present the data for that month, and append that tuple to the year data\n",
    "        year_data.append((f\"{date.month}/{1}/{date.year}\",f\"{date.month}/{date.day}/{date.year}\",f\"{date.day} days\"))\n",
    "    # flip the order to ascending by month value\n",
    "    return year_data[::-1]\n",
    "\n",
    "print(year_data(2022))"
   ]
  }
 ],
 "metadata": {
  "interpreter": {
   "hash": "7e1998ff7f8aa20ada591c520b972326324e5ea05489af9e422744c7c09f6dad"
  },
  "kernelspec": {
   "display_name": "Python 3.10.2 64-bit",
   "language": "python",
   "name": "python3"
  },
  "language_info": {
   "codemirror_mode": {
    "name": "ipython",
    "version": 3
   },
   "file_extension": ".py",
   "mimetype": "text/x-python",
   "name": "python",
   "nbconvert_exporter": "python",
   "pygments_lexer": "ipython3",
   "version": "3.10.2"
  },
  "orig_nbformat": 4
 },
 "nbformat": 4,
 "nbformat_minor": 2
}
