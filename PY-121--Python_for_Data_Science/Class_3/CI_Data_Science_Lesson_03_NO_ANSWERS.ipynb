{
  "cells": [
    {
      "cell_type": "markdown",
      "metadata": {
        "id": "WnBWxaAHVie2"
      },
      "source": [
        "<a href=\"https://codeimmersives.com\"><img src = \"https://www.codeimmersives.com/wp-content/uploads/2019/09/CodeImmersives_Logo_RGB_NYC_BW.png\" width = 400> </a>\n",
        "\n",
        "\n",
        "<h1 align=center><font size = 5>Agenda</font></h1>"
      ]
    },
    {
      "cell_type": "markdown",
      "metadata": {
        "id": "vlSwU3s3Vie5"
      },
      "source": [
        "### \n",
        "<div class=\"alert alert-block alert-info\" style=\"margin-top: 20px\">\n",
        "\n",
        "1.  [Review](#0)<br>\n",
        "2.  [Skewness](#2)<br> \n",
        "3.  [Kutosis](#4)<br>    \n",
        "4.  [Aggregating Data](#6)<br> \n",
        "5.  [Quartiles](#8)<br>   \n",
        "6.  [Deciles](#10)<br>     \n",
        "7.  [Exercise 1](#12)<br> \n",
        "8.  [Exercise 2](#14)<br>\n",
        "9.  [Exercise 3](#16)<br>    \n",
        "</div>\n",
        "<hr>"
      ]
    },
    {
      "cell_type": "markdown",
      "metadata": {
        "id": "NxNV7X1_Vie6"
      },
      "source": [
        "<h2>Review</h2><a id=\"0\"></a>"
      ]
    },
    {
      "cell_type": "markdown",
      "metadata": {
        "id": "u-ULB846Vie7"
      },
      "source": [
        "<h2>Exercise</h2>\n",
        "You have the following dictionary that contains sales data.<br>\n",
        "<code>\n",
        "sales = {'Jan': 150, 'Feb':200, 'Mar': 175,\n",
        "        'April': 75, 'May': 80, 'Jun': 300,\n",
        "        'July': 250, 'August':130, 'September': 195,\n",
        "        'October': 75, 'November': 120, 'December': 400}\n",
        "</code>\n",
        "<br>\n",
        "Answer the following:<br>\n",
        "1 - List the months where sales are greater than or equal to 150<br>\n",
        "2 - Return a tuple of all months and sales amounts greater than or equal to 300<br>\n",
        "3 - List all 3 consecutive month periods where sales are below 500<br>\n",
        "4 - Include the total sales amount for answer 3"
      ]
    },
    {
      "cell_type": "markdown",
      "metadata": {
        "id": "w3_nnFmTVie7"
      },
      "source": [
        "<h4>Solution</h4>"
      ]
    },
    {
      "cell_type": "code",
      "execution_count": 1,
      "metadata": {
        "id": "dNVHsxJeVie8"
      },
      "outputs": [
        {
          "name": "stdout",
          "output_type": "stream",
          "text": [
            "\n",
            "Question 1\n",
            "['Jan', 'Feb', 'Mar', 'Jun', 'July', 'September', 'December']\n",
            "\n",
            "\n",
            "Question 2\n",
            "('Jun', 'December')\n",
            "\n",
            "\n",
            "Question 3\n",
            "['Feb', 'Mar', 'April']\n",
            "['Mar', 'April', 'May']\n",
            "['April', 'May', 'Jun']\n",
            "['August', 'September', 'October']\n",
            "['September', 'October', 'November']\n",
            "\n",
            "\n",
            "Question 4\n",
            "('Feb', 200)\n",
            "('Mar', 175)\n",
            "('April', 75)\n",
            "('August', 130)\n",
            "('September', 195)\n"
          ]
        },
        {
          "data": {
            "text/plain": [
              "[None, None, None, None, None]"
            ]
          },
          "execution_count": 1,
          "metadata": {},
          "output_type": "execute_result"
        }
      ],
      "source": [
        "sales = {'Jan': 150, 'Feb':200, 'Mar': 175,\n",
        "        'April': 75, 'May': 80, 'Jun': 300,\n",
        "        'July': 250, 'August':130, 'September': 195,\n",
        "        'October': 75, 'November': 120, 'December': 400}\n",
        "\n",
        "\n",
        "print(\"\\nQuestion 1\")\n",
        "print([month for month,amount in sales.items() if amount >= 150])\n",
        "print(\"\\n\\nQuestion 2\")\n",
        "print(tuple(month for month,amount in sales.items() if amount >= 300))\n",
        "print(\"\\n\\nQuestion 3\")\n",
        "[print(list(sales.keys())[num:num+3]) for num,_ in enumerate(sales.items()) if sum(list(sales.values())[num:num+3]) < 500 and len(list(sales.values())[num:num+3])==3]\n",
        "print(\"\\n\\nQuestion 4\")\n",
        "[print(list(sales.items())[num:num+3][0]) for num,_ in enumerate(sales.items()) if sum(list(sales.values())[num:num+3]) < 500  and len(list(sales.values())[num:num+3])==3]\n",
        "\n",
        "    "
      ]
    },
    {
      "cell_type": "markdown",
      "metadata": {
        "id": "yMUzQenuVie-"
      },
      "source": [
        "<h2>Exercise</h2>\n",
        "<code>\n",
        "stock_price = [23.5, 24.1, 22.7, 24.2, 25.2, 28.4, 27.8, 26.5, 27.5, 28.2]\n",
        "</code>\n",
        "<br>\n",
        "1 - Calculate the mean stock price<br>\n",
        "2 - Count the number of times the stock price was greater than 25<br>\n",
        "3 - Calculate the daily rate of return for the series<br>\n",
        "NOTE: rate of return is ((current price-previous price)/previous_price) * 100<br>\n",
        "Example: price was 100 next day 105 then ((105-100)/100)*100 = 5% gain<br>\n",
        "4 - How many days was the price up 3% or down 3% from the previous day?<br>\n"
      ]
    },
    {
      "cell_type": "markdown",
      "metadata": {
        "id": "JP8BF2NVVie_"
      },
      "source": [
        "<h4>Solution</h4>"
      ]
    },
    {
      "cell_type": "code",
      "execution_count": 2,
      "metadata": {
        "id": "dvoM4Vy8VifA"
      },
      "outputs": [
        {
          "name": "stdout",
          "output_type": "stream",
          "text": [
            "Mean Stock Price: \n",
            "25.81\n",
            "\n",
            "\n",
            "Times Price Above 25: 6\n",
            "\n",
            "\n",
            "Daily Return Rates: \n",
            "[(1, 5.809128630705403), (2, -6.607929515418502), (3, -4.132231404958678), (4, -12.698412698412694), (5, 2.112676056338021), (6, 4.676258992805757), (7, -3.7735849056603774), (8, -2.5454545454545427)]\n",
            "\n",
            "\n",
            "Days Varied > 3%: \n",
            "[(1, 5.809128630705403), (2, -6.607929515418502), (3, -4.132231404958678), (4, -12.698412698412694), (6, 4.676258992805757), (7, -3.7735849056603774)]\n",
            "\n",
            "\n"
          ]
        }
      ],
      "source": [
        "import statistics\n",
        "stock_price = [23.5, 24.1, 22.7, 24.2, 25.2, 28.4, 27.8, 26.5, 27.5, 28.2]\n",
        "\n",
        "print(f\"Mean Stock Price: \\n{statistics.mean(stock_price)}\\n\\n\")\n",
        "\n",
        "print(f\"Times Price Above 25: {len(tuple(stock for stock in stock_price if stock > 25))}\\n\\n\")\n",
        "\n",
        "print(f\"Daily Return Rates: \\n{[(day, ((stock_price[day]-stock_price[day+1])/stock_price[day])*100) for day in range(1,len(stock_price)-1)]}\\n\\n\")\n",
        "\n",
        "print(f\"Days Varied > 3%: \\n{[(day, ((stock_price[day]-stock_price[day+1])/stock_price[day])*100) for day in range(1,len(stock_price)-1) if abs((stock_price[day]-stock_price[day+1])/stock_price[day])*100 > 3]}\\n\\n\")"
      ]
    },
    {
      "cell_type": "markdown",
      "metadata": {
        "id": "6QJ_j_8zVifA"
      },
      "source": [
        "<h2>Skewness</h2>\n",
        "Skewness is a measure of symetry, or better the lack of symetry.<br>\n",
        "A distribution of data set is symetric if it looks the same on the left and right side of the mean.<br>\n",
        "We aggregate the data and use a histogram to visualize if the distribution is normal.<br>\n",
        "<br>\n",
        "The skewness formula is as follows:<br>\n",
        "Fisher-Pearson coefficient<br>\n",
        "<br>\n",
        "$\\sum_{i=1}^{n} ((X_i - mean)^3$/n)/$s^3$<br><br>\n",
        "We can also use the formula for the adjusted Fisher-Pearson coefficient of skewness<br>\n",
        "<br>\n",
        "$\\sqrt N(N-1)/(N-2)$ $\\sum_{i=1}^{n} ((X_i - mean)^3$/n)/$s^3$<br><br>\n",
        "As the size of our sample goes up the first part of the equations coverges to 1<br>\n",
        "<br>\n",
        "The skewness of a nomal distribution is 0<br>"
      ]
    },
    {
      "cell_type": "markdown",
      "metadata": {
        "id": "m-LDhbQVVifB"
      },
      "source": [
        "<h2>Kurtosis</h2>\n",
        "The kurtosis for a standard normal distribution is three. <br>\n",
        "The formula for excess kutosis is:<br>\n",
        "<br>\n",
        "$\\sum_{i=1}^{n} ((X_i - mean)^4$/n)/$s^4$ -3 \n",
        "<br><br>\n",
        "This definition is used so that the standard normal distribution has a kurtosis of zero. <br>\n",
        "In addition, with the second definition positive kurtosis indicates a \"heavy-tailed\" distribution <br>\n",
        "and negative kurtosis indicates a \"light tailed\" distribution.<br>\n",
        "<br>\n",
        "Which definition of kurtosis is used is a matter of convention. <br>\n",
        "When using software to compute the sample kurtosis, you need to be aware of which convention <br>\n",
        "is being followed. Many sources use the term kurtosis when they are actually computing \"excess kurtosis\", <br>\n",
        "so it may not always be clear. <br>"
      ]
    },
    {
      "cell_type": "markdown",
      "metadata": {
        "id": "8W2KYbU8VifB"
      },
      "source": [
        "<h2>Exercise</h2>\n",
        "Calculate the skewness (Fisher-Pearson coefficient) of our original grades file.<br>\n",
        "Calculate the skewness (adjusted Fisher-Pearson coefficient) of our original grades file.<br>\n",
        "Calculate the excess kurtosis of our data set>br>\n",
        "<code>\n",
        "grades = [68.0, 90.0, 69.0, 86.0, 78.0, 97.0, 95.0, 83.0, 84.0, 74.0, 84.0, 71.0, 79.0, 82.0, 79.0, 69.0, 99.0, 93.0, \n",
        " 77.0, 77.0, 75.0, 83.0, 86.0, 89.0, 76.0, 88.0, 65.0, 65.0, 78.0, 77.0, 82.0, 97.0, 87.0, 83.0, 67.0, 83.0, \n",
        " 67.0, 77.0, 79.0, 79.0, 68.0, 69.0, 89.0, 79.0, 66.0, 85.0, 93.0, 74.0, 70.0, 83.0, 90.0, 75.0, 94.0, 77.0, \n",
        " 92.0, 84.0, 93.0, 83.0, 79.0, 87.0, 62.0, 85.0, 99.0, 76.0, 96.0, 89.0, 66.0, 85.0, 70.0, 83.0, 77.0, 96.0, \n",
        " 92.0, 76.0, 95.0, 84.0, 74.0, 83.0, 83.0, 89.0, 81.0, 91.0, 83.0, 74.0, 93.0, 73.0, 73.0, 84.0, 84.0, 83.0, \n",
        " 91.0, 68.0, 88.0, 72.0, 84.0, 93.0, 86.0, 83.0, 83.0, 77.0]\n",
        "</code>\n"
      ]
    },
    {
      "cell_type": "markdown",
      "metadata": {
        "id": "akFOYpKXVifB"
      },
      "source": [
        "<h4>Solution</h4>"
      ]
    },
    {
      "cell_type": "code",
      "execution_count": 3,
      "metadata": {
        "id": "Vou0VBi1VifC"
      },
      "outputs": [
        {
          "name": "stdout",
          "output_type": "stream",
          "text": [
            "1. Skewness: -0.08707468050413962\n",
            "\n",
            "\n",
            "2. Kurtosis: 2.2320828380154665\n",
            "\n",
            "\n"
          ]
        }
      ],
      "source": [
        "import statistics\n",
        "\n",
        "grades = [68.0, 90.0, 69.0, 86.0, 78.0, 97.0, 95.0, 83.0, 84.0, 74.0, 84.0, 71.0, 79.0, 82.0, 79.0, 69.0, 99.0, 93.0, \n",
        " 77.0, 77.0, 75.0, 83.0, 86.0, 89.0, 76.0, 88.0, 65.0, 65.0, 78.0, 77.0, 82.0, 97.0, 87.0, 83.0, 67.0, 83.0, \n",
        " 67.0, 77.0, 79.0, 79.0, 68.0, 69.0, 89.0, 79.0, 66.0, 85.0, 93.0, 74.0, 70.0, 83.0, 90.0, 75.0, 94.0, 77.0, \n",
        " 92.0, 84.0, 93.0, 83.0, 79.0, 87.0, 62.0, 85.0, 99.0, 76.0, 96.0, 89.0, 66.0, 85.0, 70.0, 83.0, 77.0, 96.0, \n",
        " 92.0, 76.0, 95.0, 84.0, 74.0, 83.0, 83.0, 89.0, 81.0, 91.0, 83.0, 74.0, 93.0, 73.0, 73.0, 84.0, 84.0, 83.0, \n",
        " 91.0, 68.0, 88.0, 72.0, 84.0, 93.0, 86.0, 83.0, 83.0, 77.0]\n",
        "\n",
        "mean_grades = sum(grades) / len(grades)\n",
        "print(f\"1. Skewness: {(sum([(num - mean_grades)**3 for num in grades]) / len(grades))/statistics.stdev(grades)**3}\\n\\n\")\n",
        "\n",
        "print(f\"2. Kurtosis: {(sum([(num - mean_grades)**4 for num in grades]) / len(grades))/statistics.stdev(grades)**4}\\n\\n\")"
      ]
    },
    {
      "cell_type": "markdown",
      "metadata": {
        "id": "m2cgkiQ1VifC"
      },
      "source": [
        "<h2>Aggregating Data</h2>\n",
        "To visualize the 100 grade values the chart would look crowded<br>\n",
        "Let's chart the data now.<br>"
      ]
    },
    {
      "cell_type": "code",
      "execution_count": 4,
      "metadata": {
        "id": "Z5j3BgzAVifD"
      },
      "outputs": [
        {
          "data": {
            "text/plain": [
              "[<matplotlib.lines.Line2D at 0x1079ff7c0>]"
            ]
          },
          "execution_count": 4,
          "metadata": {},
          "output_type": "execute_result"
        },
        {
          "data": {
            "image/png": "[encoded data removed]",
            "text/plain": [
              "<Figure size 432x288 with 1 Axes>"
            ]
          },
          "metadata": {
            "needs_background": "light"
          },
          "output_type": "display_data"
        }
      ],
      "source": [
        "import matplotlib.pyplot as plt\n",
        "plt.plot(grades)"
      ]
    },
    {
      "cell_type": "markdown",
      "metadata": {
        "id": "xXXESTzAVifD"
      },
      "source": [
        "We notice that the grades data is crowded.  We need to add meaning to <br>\n",
        "the visualization of this data.  We do this by aggregating the data.<br>\n",
        "<br>"
      ]
    },
    {
      "cell_type": "markdown",
      "metadata": {
        "id": "_Vb0x4ZhVifD"
      },
      "source": [
        "<h2>Exercise</h2>\n",
        "If we have a group of numbers from 0 to 20 how can we set the boundaries <br>\n",
        "For creating a frequency distribution histogram in qurtiles<br>"
      ]
    },
    {
      "cell_type": "code",
      "execution_count": 19,
      "metadata": {
        "id": "b4Kl2pUdVifD"
      },
      "outputs": [
        {
          "name": "stdout",
          "output_type": "stream",
          "text": [
            "{0: [52.0, 62.0], 1: [62.0, 72.0], 2: [72.0, 82.0], 3: [82.0, 92.0]}\n",
            "[0, 16, 28, 40]\n"
          ]
        },
        {
          "data": {
            "image/png": "[encoded data removed]",
            "text/plain": [
              "<Figure size 432x288 with 1 Axes>"
            ]
          },
          "metadata": {
            "needs_background": "light"
          },
          "output_type": "display_data"
        }
      ],
      "source": [
        "import matplotlib.pyplot as plt\n",
        "import math\n",
        "grade_list =[68.0, 90.0, 69.0, 86.0, 78.0, 97.0, 95.0, 83.0, 84.0, 74.0, 84.0, 71.0, 79.0, 82.0, 79.0, 69.0, 99.0, 93.0, \n",
        " 77.0, 77.0, 75.0, 83.0, 86.0, 89.0, 76.0, 88.0, 65.0, 65.0, 78.0, 77.0, 82.0, 97.0, 87.0, 83.0, 67.0, 83.0, \n",
        " 67.0, 77.0, 79.0, 79.0, 68.0, 69.0, 89.0, 79.0, 66.0, 85.0, 93.0, 74.0, 70.0, 83.0, 90.0, 75.0, 94.0, 77.0, \n",
        " 92.0, 84.0, 93.0, 83.0, 79.0, 87.0, 62.0, 85.0, 99.0, 76.0, 96.0, 89.0, 66.0, 85.0, 70.0, 83.0, 77.0, 96.0, \n",
        " 92.0, 76.0, 95.0, 84.0, 74.0, 83.0, 83.0, 89.0, 81.0, 91.0, 83.0, 74.0, 93.0, 73.0, 73.0, 84.0, 84.0, 83.0, \n",
        " 91.0, 68.0, 88.0, 72.0, 84.0, 93.0, 86.0, 83.0, 83.0, 77.0]\n",
        "\n",
        "\n",
        "#create boundaries\n",
        " # range/10 rounded up\n",
        "interval = math.ceil((max(grade_list)-min(grade_list))/4)\n",
        "# dicts to hold quartile boundaries\n",
        "quartiles = {n:[] for n in range(4)}\n",
        "# first boundary\n",
        "min_grade = min(grade_list)\n",
        "grade_dist = []\n",
        "# iterate quartile dict\n",
        "for key,_ in quartiles.items():\n",
        "        # boundaries for each quartile\n",
        "        beg = min_grade + (interval*int(key-1))\n",
        "        end = min_grade + interval*int(key)\n",
        "        # save boundaries as quartile value\n",
        "        quartiles[key] = [beg,end]\n",
        "        # count grades appearences in quartile\n",
        "        sum_int = sum([1 for grade in grade_list if grade >= beg and grade < end])\n",
        "        grade_dist.append(sum_int)\n",
        "        \n",
        "print(quartiles)\n",
        "print(grade_dist)\n",
        "xAxis = range(1,5)\n",
        "plt.bar(xAxis,grade_dist)\n",
        "plt.title('Frequency distribution')\n",
        "plt.xlabel('exam')\n",
        "plt.ylabel('score')\n",
        "plt.show()\n"
      ]
    },
    {
      "cell_type": "markdown",
      "metadata": {
        "id": "BWtBLjxdVifE"
      },
      "source": [
        "<h4>Deciles</h4>\n",
        "Break the data set into 10 equal parts and chart the number of items that<br>\n",
        "fall within each boundary."
      ]
    },
    {
      "cell_type": "markdown",
      "metadata": {
        "id": "eewU4AkjVifE"
      },
      "source": [
        "<h2>Exercise</h2>\n",
        "Creating the boundaries for the deciles consists of dividing the range into<br>\n",
        "10 intervals.  Create a function to calculate the boundaries for deciles of<br>\n",
        "a data set the goes from 100 to 150."
      ]
    },
    {
      "cell_type": "markdown",
      "metadata": {
        "id": "S7KLRLMnVifE"
      },
      "source": [
        "<h4>Solution</h4>"
      ]
    },
    {
      "cell_type": "code",
      "execution_count": 20,
      "metadata": {
        "id": "ZrH5WEwKVifF"
      },
      "outputs": [
        {
          "data": {
            "text/plain": [
              "({1: [100, 106],\n",
              "  2: [106, 112],\n",
              "  3: [112, 118],\n",
              "  4: [118, 124],\n",
              "  5: [124, 130],\n",
              "  6: [130, 136],\n",
              "  7: [136, 142],\n",
              "  8: [142, 148],\n",
              "  9: [148, 154],\n",
              "  10: [154, 160]},\n",
              " [14, 25, 35, 49, 60, 74, 80, 88, 101, 101])"
            ]
          },
          "execution_count": 20,
          "metadata": {},
          "output_type": "execute_result"
        }
      ],
      "source": [
        "import matplotlib.pyplot as plt\n",
        "import math\n",
        "from random import randint\n",
        "\n",
        "grade_list = sorted([randint(100,151) for _ in range(101)])\n",
        "\n",
        "# create boundaries\n",
        "def create_boundaries(input_list:list,classes:int=10,cumalitive:bool=False)->dict:\n",
        "    # range/10 rounded up\n",
        "    interval = math.ceil((max(input_list)-min(input_list))/classes)\n",
        "    # dicts to hold decile boundaries\n",
        "    deciles = {n:[] for n in range(1,classes+1)}\n",
        "    min_grade = min(input_list)\n",
        "    grade_dist = []\n",
        "    # iterate empty deciles\n",
        "    for key,_ in deciles.items():\n",
        "        # beg, end are the min_grade adjusted by the current interval,\n",
        "        #   increasing the adjustment values every iteration\n",
        "        beg = min_grade + (interval*int(key-1))\n",
        "        end = min_grade + interval*int(key)\n",
        "        deciles[key] = [beg,end]\n",
        "        # Find how many grades fall within the current deciles boundaries\n",
        "        if not cumalitive:\n",
        "            numbers_in_decile = sum([1 for grade in input_list if grade >= beg and grade < end])\n",
        "        else:\n",
        "            numbers_in_decile = sum([1 for grade in input_list if grade < end])\n",
        "        # store distance found into dist list\n",
        "        grade_dist.append(numbers_in_decile)\n",
        "    return deciles, grade_dist\n",
        "create_boundaries(grade_list)"
      ]
    },
    {
      "cell_type": "markdown",
      "metadata": {
        "id": "hCmMqw1kVifF"
      },
      "source": [
        "<h4>Frequency distribution chart</h4>"
      ]
    },
    {
      "cell_type": "code",
      "execution_count": 7,
      "metadata": {
        "id": "dwT02FeNVifF"
      },
      "outputs": [
        {
          "name": "stdout",
          "output_type": "stream",
          "text": [
            "{1: [101, 106], 2: [106, 111], 3: [111, 116], 4: [116, 121], 5: [121, 126], 6: [126, 131], 7: [131, 136], 8: [136, 141], 9: [141, 146], 10: [146, 151]}\n",
            "[8, 12, 10, 14, 9, 7, 6, 8, 19, 8]\n"
          ]
        },
        {
          "data": {
            "image/png": "[encoded data removed]",
            "text/plain": [
              "<Figure size 432x288 with 1 Axes>"
            ]
          },
          "metadata": {
            "needs_background": "light"
          },
          "output_type": "display_data"
        }
      ],
      "source": [
        "def plot_it(input_list:list, xRange:int=10, title:str='Frequency distribution')->None:\n",
        "    xAxis = range(1,1+xRange)\n",
        "    plt.bar(xAxis,input_list[1])\n",
        "    plt.title(title)\n",
        "    plt.xlabel('exam')\n",
        "    plt.ylabel('score')\n",
        "    plt.show()\n",
        "    \n",
        "results = create_boundaries(grade_list)\n",
        "plot_it(results)"
      ]
    },
    {
      "cell_type": "markdown",
      "metadata": {
        "id": "1rLJJDmvVifF"
      },
      "source": [
        "<h4>Cumulative Frequency distribution chart</h4>"
      ]
    },
    {
      "cell_type": "code",
      "execution_count": 8,
      "metadata": {
        "id": "AyOOdQqiVifG"
      },
      "outputs": [
        {
          "name": "stdout",
          "output_type": "stream",
          "text": [
            "{1: [62.0, 72.0], 2: [72.0, 82.0], 3: [82.0, 92.0], 4: [92.0, 102.0]}\n",
            "[16, 44, 84, 100]\n"
          ]
        },
        {
          "data": {
            "image/png": "[encoded data removed]",
            "text/plain": [
              "<Figure size 432x288 with 1 Axes>"
            ]
          },
          "metadata": {
            "needs_background": "light"
          },
          "output_type": "display_data"
        }
      ],
      "source": [
        "import matplotlib.pyplot as plt\n",
        "import math\n",
        "\n",
        "#create boundaries\n",
        "interval = math.ceil((max(grades)-min(grades))/4)\n",
        "quartiles = {1:[],2:[],3:[],4:[]}\n",
        "val = 0\n",
        "min_grade = min(grades)\n",
        "grade_dist = []\n",
        "for k,v in quartiles.items():\n",
        "    beg = min_grade+(interval*int(k-1))\n",
        "    end = min_grade + interval*int(k)\n",
        "    quartiles[k] = [beg,end]\n",
        "    sum_int = sum([1 for x in grades if x < end])\n",
        "    grade_dist.append(sum_int)\n",
        "\n",
        "\n",
        "print(quartiles)\n",
        "print(grade_dist)\n",
        "xAxis = range(1,5)\n",
        "plt.bar(xAxis,grade_dist)\n",
        "plt.title('Cumulative Frequency distribution')\n",
        "plt.xlabel('exam')\n",
        "plt.ylabel('score')\n",
        "plt.show()"
      ]
    },
    {
      "cell_type": "markdown",
      "metadata": {
        "id": "NVi4aAQRVifG"
      },
      "source": [
        "<h2>Exercise</h2>\n",
        "Suppose we have data like the following:<br>\n",
        "<code>\n",
        "sat_scores = [540, 590, 780, 720, 680, 570, 590, 600, 600, 610]\n",
        "</code>\n",
        "<br>\n",
        "Calculate what percentage of students are above the 50th percentile and what percentage<br>\n",
        "score below the 50th percentile<br>\n",
        "HINT: You need to calculate the median of the data set<br>"
      ]
    },
    {
      "cell_type": "code",
      "execution_count": 9,
      "metadata": {
        "id": "tuRiJoTSVifG"
      },
      "outputs": [
        {
          "name": "stdout",
          "output_type": "stream",
          "text": [
            "Over 50th Percentile: 40.0%\n",
            "Under 50th Percentile: 40.0%\n"
          ]
        }
      ],
      "source": [
        "import statistics\n",
        "sat_scores = [540, 590, 780, 720, 680, 570, 590, 600, 600, 610]\n",
        "length = len(sat_scores)\n",
        "over_50th = len([score for score in sat_scores if score > statistics.median(sat_scores)])/length\n",
        "under_50th = len([score for score in sat_scores if score < statistics.median(sat_scores)])/length\n",
        "\n",
        "print(f'Over 50th Percentile: {over_50th*100}%')\n",
        "print(f'Under 50th Percentile: {under_50th*100}%')"
      ]
    },
    {
      "cell_type": "markdown",
      "metadata": {
        "id": "kvGI8zRGVifH"
      },
      "source": [
        "<h2>Exercise</h2>\n",
        "Take the grades data and chart the frequency distribution and the cumulative<br>\n",
        "frequency distribution in quartiles"
      ]
    },
    {
      "cell_type": "code",
      "execution_count": 10,
      "metadata": {
        "id": "004nNXerVifH"
      },
      "outputs": [
        {
          "name": "stdout",
          "output_type": "stream",
          "text": [
            "{1: [540, 600], 2: [600, 660], 3: [660, 720], 4: [720, 780]}\n",
            "[4, 3, 1, 1]\n"
          ]
        },
        {
          "data": {
            "image/png": "[encoded data removed]",
            "text/plain": [
              "<Figure size 432x288 with 1 Axes>"
            ]
          },
          "metadata": {
            "needs_background": "light"
          },
          "output_type": "display_data"
        },
        {
          "name": "stdout",
          "output_type": "stream",
          "text": [
            "{1: [540, 600], 2: [600, 660], 3: [660, 720], 4: [720, 780]}\n",
            "[4, 7, 8, 9]\n"
          ]
        },
        {
          "data": {
            "image/png": "[encoded data removed]",
            "text/plain": [
              "<Figure size 432x288 with 1 Axes>"
            ]
          },
          "metadata": {
            "needs_background": "light"
          },
          "output_type": "display_data"
        }
      ],
      "source": [
        "sat_scores = [540, 590, 780, 720, 680, 570, 590, 600, 600, 610]\n",
        "classes = 4\n",
        "results = create_boundaries(sat_scores,classes)\n",
        "plot_it(results, classes)\n",
        "\n",
        "classes = 4\n",
        "cum_results = create_boundaries(sat_scores,classes,True)\n",
        "plot_it(cum_results, classes, 'Cumalitive Frequency Distribution')"
      ]
    },
    {
      "cell_type": "markdown",
      "metadata": {
        "id": "_vtYGlSEVifH"
      },
      "source": [
        "This notebook is part of a course at www.codeimmersives.com called Data Science. If you accessed this notebook outside the course, you can get more information about this course online by clicking here."
      ]
    },
    {
      "cell_type": "markdown",
      "metadata": {
        "id": "DgISkQCXVifH"
      },
      "source": [
        "<hr>\n",
        "\n",
        "Copyright &copy; 2021  Code Immersives"
      ]
    }
  ],
  "metadata": {
    "colab": {
      "collapsed_sections": [],
      "name": "CI Data Science - Lesson 03 - NO ANSWERS (1).ipynb",
      "provenance": []
    },
    "kernelspec": {
      "display_name": "Python 3",
      "language": "python",
      "name": "python3"
    },
    "language_info": {
      "codemirror_mode": {
        "name": "ipython",
        "version": 3
      },
      "file_extension": ".py",
      "mimetype": "text/x-python",
      "name": "python",
      "nbconvert_exporter": "python",
      "pygments_lexer": "ipython3",
      "version": "3.10.2"
    }
  },
  "nbformat": 4,
  "nbformat_minor": 0
}
