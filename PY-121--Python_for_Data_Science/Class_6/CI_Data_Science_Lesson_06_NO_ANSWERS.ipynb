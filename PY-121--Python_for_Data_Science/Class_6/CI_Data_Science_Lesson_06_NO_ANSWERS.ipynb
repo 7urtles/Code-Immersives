{
  "cells": [
    {
      "cell_type": "markdown",
      "metadata": {
        "id": "3BvIIlDM_x6e"
      },
      "source": [
        "<a href=\"https://codeimmersives.com\"><img src = \"https://www.codeimmersives.com/wp-content/uploads/2019/09/CodeImmersives_Logo_RGB_NYC_BW.png\" width = 400> </a>\n",
        "\n",
        "\n",
        "<h1 align=center><font size = 5>Agenda</font></h1>"
      ]
    },
    {
      "cell_type": "markdown",
      "metadata": {
        "id": "MVO_08TW_x6h"
      },
      "source": [
        "### \n",
        "<div class=\"alert alert-block alert-info\" style=\"margin-top: 20px\">\n",
        "\n",
        "1.  [Review](#0)<br>\n",
        "2.  [Numpy Intro and Installation](#2)<br>\n",
        "2.  [Exercise](#10)<br> \n",
        "3.  [Exercise](#12)<br>     \n",
        "</div>\n",
        "<hr>"
      ]
    },
    {
      "cell_type": "markdown",
      "metadata": {
        "id": "qDn1jdEE_x6h"
      },
      "source": [
        "<h2>Review</h2>"
      ]
    },
    {
      "cell_type": "markdown",
      "metadata": {
        "id": "mzwc0Abl_x6i"
      },
      "source": [
        "<h2>Exercise</h2>\n",
        "The following list represents the diameters of circles:<br>\n",
        "<code>\n",
        "circle_diameters = [1,2,3,5,8,13,21]\n",
        "</code><br>\n",
        "1 - Calculate the area of each circle<br>\n",
        "2 - Calculate the circumference of each circle<br>\n",
        "<br>\n",
        "Use Numpy for the solution"
      ]
    },
    {
      "cell_type": "markdown",
      "metadata": {
        "id": "heqKy-Ya_x6i"
      },
      "source": [
        "<h4>Solution</h4>"
      ]
    },
    {
      "cell_type": "code",
      "execution_count": 70,
      "metadata": {
        "id": "uXH1dmRf_x6j"
      },
      "outputs": [
        {
          "name": "stdout",
          "output_type": "stream",
          "text": [
            "Areas: [0.7853981633974483, 3.141592653589793, 7.0685834705770345, 19.634954084936208, 50.26548245743669, 132.73228961416876, 346.3605900582747]\n",
            "\n",
            "Circumferences: [3.141592653589793, 6.283185307179586, 9.42477796076938, 15.707963267948966, 25.132741228718345, 40.840704496667314, 65.97344572538566]\n"
          ]
        }
      ],
      "source": [
        "import numpy as np\n",
        "circle_diameters = [1,2,3,5,8,13,21]\n",
        "def area_circle(num):\n",
        "    return np.pi*(num/2)**2\n",
        "\n",
        "def circumference(num):\n",
        "    return 2 * np.pi * num/2\n",
        "print(f\"Areas: {list(map(area_circle, circle_diameters))}\\n\")\n",
        "print(f\"Circumferences: {list(map(circumference, circle_diameters))}\")\n"
      ]
    },
    {
      "cell_type": "markdown",
      "metadata": {
        "id": "p685WCMG_x6j"
      },
      "source": [
        "<h2>Exercise</h2>\n",
        "For each tuple in the list print the area of each rectangle<br><br>\n",
        "Each element in the list represents the length and the width\n",
        "<code>\n",
        "dimensions = [(20,2),(2,3),(4,4),(6,6)]\n",
        "</code><br>\n",
        "Solve as a non numpy problem"
      ]
    },
    {
      "cell_type": "markdown",
      "metadata": {
        "id": "-cv9b0JK_x6k"
      },
      "source": [
        "<h4>Solution</h4>"
      ]
    },
    {
      "cell_type": "code",
      "execution_count": 71,
      "metadata": {
        "id": "qKVzzZtO_x6l"
      },
      "outputs": [
        {
          "name": "stdout",
          "output_type": "stream",
          "text": [
            "40 6 16 36\n"
          ]
        }
      ],
      "source": [
        "import numpy as np\n",
        "dimensions = [(20,2),(2,3),(4,4),(6,6)]\n",
        "\n",
        "def area(length_width:tuple)->float:\n",
        "    return np.prod(length_width)\n",
        "\n",
        "print(*map(area, dimensions))"
      ]
    },
    {
      "cell_type": "markdown",
      "metadata": {
        "id": "8U2_5Ein_x6l"
      },
      "source": [
        "<h2>Exercise</h2>\n",
        "The following dictionary represents the dimensions of an apartment in <br>\n",
        "New York City.  <br><br>\n",
        "<code>\n",
        "apartment = {'Bedroom 1':(12,12), 'Bedroom 2': (12,10), 'Bathroom 1': (6,8),\n",
        "    'Bathroom 2': (6,8), 'Kitchen': (10,8), 'Foyer': (14,4), 'Dining Room': (12,10),\n",
        "    'Living Room': (12,15)}\n",
        "</code><br>\n",
        "1 - Calculate the square footage of each room<br>\n",
        "2 - Calculate the total square footage of the apartment<br>\n",
        "3 - If the apartment is selling for $90 a square foot.  How much is it selling for?<br><br>\n",
        "NOTE: Selling price is the Square footage * price per square foot as 12<br>\n",
        "Do not use numpy"
      ]
    },
    {
      "cell_type": "code",
      "execution_count": 93,
      "metadata": {
        "id": "9z7fAdR-_x6l"
      },
      "outputs": [
        {
          "name": "stdout",
          "output_type": "stream",
          "text": [
            "Each rooms square footage: [144, 120, 48, 48, 80, 56, 120, 180]\n",
            "Apartment Price: $71640\n"
          ]
        }
      ],
      "source": [
        "apartments = {'Bedroom 1':(12,12), 'Bedroom 2': (12,10), 'Bathroom 1': (6,8), 'Bathroom 2': (6,8), 'Kitchen': (10,8), 'Foyer': (14,4), 'Dining Room': (12,10), 'Living Room': (12,15)}\n",
        "names = list(apartments.keys())\n",
        "sizes = list(apartments.values())\n",
        "room_areas = list(map(area, sizes))\n",
        "square_foot_cost = 90\n",
        "apartment_price = sum(room_areas) * square_foot_cost\n",
        "\n",
        "\n",
        "print(f\"Each rooms square footage: {room_areas}\")\n",
        "print(f\"Apartment Price: ${apartment_price}\")"
      ]
    },
    {
      "cell_type": "markdown",
      "metadata": {
        "id": "tB19HJEs_x6m"
      },
      "source": [
        "<h2>Exercise</h2>\n",
        "5 friends go out to dinner and their individual amounts were tallied on 1 bill<br>\n",
        "<code>\n",
        "dinner = [36, 42, 27, 32, 39]\n",
        "</code><br>\n",
        "Using numpy calculate the following:<br>\n",
        "1 - The average meal price<br>\n",
        "2 - The median meal price<br>\n",
        "3 - The maximum cost for the meal<br>\n",
        "4 - The least expensive meal<br>\n",
        "5 - The difference each person varied from the mean<br>\n",
        "6 - Add a 20% tip to each persons meal then Add 8.875 tax to the pre tax meal amount<br>\n",
        "7 - What percentage of the total bill is each person contributing?<br>\n",
        "8 - It was the birthday of the person who had the most expensive meal.  <br>\n",
        "Distribute the cost of their meal amoungst the other patrons.<br>"
      ]
    },
    {
      "cell_type": "markdown",
      "metadata": {
        "id": "s7NsHUXj_x6n"
      },
      "source": [
        "<h4>Solution</h4>"
      ]
    },
    {
      "cell_type": "code",
      "execution_count": 159,
      "metadata": {
        "id": "G0vqzfww_x6n"
      },
      "outputs": [
        {
          "name": "stdout",
          "output_type": "stream",
          "text": [
            "35.2\n",
            "36.0\n",
            "42\n",
            "27\n",
            "1.0 7.0 -8.0 -3.0 4.0\n",
            "46.4 54.13 34.8 41.24 50.26\n",
            "20.46 23.86 15.34 18.18 22.16\n",
            "57.23 45.63 52.07 61.09\n"
          ]
        }
      ],
      "source": [
        "import numpy as np\n",
        "def tip_and_tax(meal_price:float, tip_amount:float=.2, tax_rate:float=8.875):\n",
        "    total = meal_price + (meal_price*tip_amount) + (meal_price*(tax_rate/100))\n",
        "    return round(total, 2)\n",
        "\n",
        "\n",
        "\n",
        "dinners = [36, 42, 27, 32, 39]\n",
        "average_meal_price = np.mean(dinners)\n",
        "print(average_meal_price)\n",
        "\n",
        "median_meal_price = np.median(dinners)\n",
        "print(median_meal_price)\n",
        "\n",
        "max_meal_price = np.max(dinners)\n",
        "print(max_meal_price)\n",
        "\n",
        "min_meal_price = np.min(dinners)\n",
        "print(min_meal_price)\n",
        "\n",
        "varied_from_mean = np.around(np.add(dinners, -average_meal_price), decimals=2)\n",
        "print(*varied_from_mean)\n",
        "\n",
        "meal_totals = list(map(tip_and_tax, dinners))\n",
        "print(*meal_totals)\n",
        "\n",
        "def percent_contributed(meal_cost, tables_bill=meal_totals):\n",
        "    return round(meal_cost/sum(tables_bill)*100,2)\n",
        "\n",
        "percents_contributed = list(map(percent_contributed, meal_totals))\n",
        "print(*percents_contributed)\n",
        "\n",
        "birthday = dinners.index(max_meal_price)\n",
        "birthday_meal_cost = meal_totals.pop(birthday)\n",
        "\n",
        "def distribute_birthday_meal(meal, birthday_cost=birthday_meal_cost):\n",
        "    return round(meal+birthday_cost/5,2)\n",
        "\n",
        "new_prices = list(map(distribute_birthday_meal, meal_totals))\n",
        "print(*new_prices)"
      ]
    },
    {
      "cell_type": "markdown",
      "metadata": {
        "id": "_HNYUDgS_x6o"
      },
      "source": [
        "<h2>Numpy continued</h2>"
      ]
    },
    {
      "cell_type": "markdown",
      "metadata": {
        "id": "RvNmY-MD_x6o"
      },
      "source": [
        "Strings can also be stored in a numpy array.<br>\n",
        "<code>\n",
        "import numpy as np\n",
        "pasta_shapes = ['Macaroni','Rigatoni','Angel Hair','Spaghetti','Linguini']\n",
        "shapes = np.array(pasta_shapes)\n",
        "shapes = np.sort(shapes)\n",
        "print(shapes)\n",
        "print(shapes.dtype)\n",
        "</code>"
      ]
    },
    {
      "cell_type": "code",
      "execution_count": 169,
      "metadata": {
        "id": "qJ3klNaU_x6o"
      },
      "outputs": [
        {
          "name": "stdout",
          "output_type": "stream",
          "text": [
            "[0 1]\n",
            "Note rows and columns in array:\n",
            "[[1 2]\n",
            " [3 4]]\n",
            "\n",
            "First row second column: 2\n",
            "\n"
          ]
        }
      ],
      "source": [
        "pastas = ['Macaroni','Rigatoni','Angel Hair','Spaghetti','Linguini']\n",
        "\n",
        "# casting a list into a numpy array allows use of extra methods provided by numpy\n",
        "new_array = np.array(pastas)\n",
        "print(f\"Numpy array:\\n{new_array}\\n\")\n",
        "\n",
        "# 2D arrays are allowed\n",
        "array2D = [[0,1],[2,3]]\n",
        "array2D = np.array(array2D)\n",
        "print(f\"2D numpy array:\\n{array2D}\\n\")\n",
        "\n",
        "# so are 3D arrays\n",
        "array3D = [[[1,2],[3,4]] , [[5,6],[7,8]]]\n",
        "array3D = np.array(array3D)\n",
        "print(f\"3D numpy array:\\n{array3D}\\n\")\n",
        "\n",
        "\n",
        "#CREATING ARRAYS\n",
        "print(np.arange(0,2, dtype=int))\n",
        "\n",
        "\n",
        "# the 'ndim' is an argument and also attibute of numpy.array() and stands for \"number of dimensions\"\n",
        "# finding existing array dimension using ndim\n",
        "dimensions = array3D.ndim\n",
        "print(f\"3D numpy array dimensions: {dimensions}\\n\")\n",
        "\n",
        "# specifying dimensions when creating an array using ndim\n",
        "array10D = np.array([1,2,3], ndmin = 10)\n",
        "print(f\"New 10D array: {array10D}\\n\")\n",
        "\n",
        "# slicing with numpy arrays works as it does for base python collection types\n",
        "\n",
        "# Accessing Arrays:\n",
        "# Numpy arrays are made of rows and column, as shown when printed out\n",
        "new_array = np.array([[1,2],[3,4]])\n",
        "print(f\"Note rows and columns in array:\\n{new_array}\\n\")\n",
        "# providing integer arguments inside brackets [1,2] will access rows and columns of numpy arrays\n",
        "# The following will access the first row, second column\n",
        "results = new_array[0,1]\n",
        "# Example:\n",
        "print(f\"First row second column: {results}\\n\")\n",
        "\n",
        "# or for a 3d array\n",
        "new_3D_array = np.array([ [[1,2],[3,4]], [[5,6],[7,8]] ])\n",
        "print(f\"Note rows and columns in array:\\n{new_3D_array}\\n\")\n",
        "results = new_3D_array[0,1,1]\n",
        "print(f\"First nested array, second row, second column: {results}\\n\")\n",
        "# same concept applies if extra dimensions are added\n",
        "\n"
      ]
    },
    {
      "cell_type": "markdown",
      "metadata": {
        "id": "7QT7Iz8b_x6o"
      },
      "source": [
        "We can use short cut abreviations to assign the data types to numpy<br>\n",
        "arrays:<br>\n",
        "For i, u, f, S and U we can define size as well. <br>\n",
        "We can combine each letter with a size as well like: 4,8<br>\n",
        "<br>\n",
        "<code>\n",
        "import numpy as np\n",
        "arr = np.array(list(range(1,11)), dtype='i8')\n",
        "print(arr, arr.dtype)\n",
        "</code>"
      ]
    },
    {
      "cell_type": "markdown",
      "metadata": {
        "id": "Z21nOOVe_x6p"
      },
      "source": [
        "<h2>Casting</h2>\n",
        "We can convert python data type into numpy data type using 2 methods<br>\n",
        "<br>\n",
        "Method 1<br>\n",
        "Use dtype parameter<br>\n",
        "<br>\n",
        "<code>\n",
        "arr_string = np.array(list(range(1,11)), dtype='S')\n",
        "print(arr_string)\n",
        "</code><br>\n",
        "Method 2<br>\n",
        "Use astype()<br>\n",
        "<code>\n",
        "import numpy as np\n",
        "arr = np.array(list(range(1,11)), dtype='i8')\n",
        "arr_2 = arr.astype('S')\n",
        "print(arr_2)\n",
        "</code>"
      ]
    },
    {
      "cell_type": "code",
      "execution_count": null,
      "metadata": {
        "id": "xeproktY_x6p"
      },
      "outputs": [],
      "source": []
    },
    {
      "cell_type": "markdown",
      "metadata": {
        "id": "X7Ih3dzW_x6p"
      },
      "source": [
        "<h2>Exercise</h2>\n",
        "Take the following floating point number and cast them as integers<br>\n",
        "Use both methods.<br>\n",
        "<code>\n",
        "rainfall = [2.3,3.7,2.4,1.9]\n",
        "</code>"
      ]
    },
    {
      "cell_type": "markdown",
      "metadata": {
        "id": "o3Xz2QtS_x6p"
      },
      "source": [
        "<h4>Solution</h4>"
      ]
    },
    {
      "cell_type": "code",
      "execution_count": null,
      "metadata": {
        "id": "0hUOCwlU_x6p"
      },
      "outputs": [],
      "source": []
    },
    {
      "cell_type": "code",
      "execution_count": null,
      "metadata": {
        "id": "ddA5-MpD_x6q"
      },
      "outputs": [],
      "source": [
        "import numpy as np\n",
        " \n"
      ]
    },
    {
      "cell_type": "code",
      "execution_count": null,
      "metadata": {
        "id": "C_tVi4KG_x6q"
      },
      "outputs": [],
      "source": [
        "import numpy as np\n",
        " \n"
      ]
    },
    {
      "cell_type": "code",
      "execution_count": null,
      "metadata": {
        "id": "An2WMTQ6_x6q"
      },
      "outputs": [],
      "source": []
    },
    {
      "cell_type": "code",
      "execution_count": null,
      "metadata": {
        "id": "C0NBP-CB_x6q"
      },
      "outputs": [],
      "source": []
    },
    {
      "cell_type": "code",
      "execution_count": null,
      "metadata": {
        "id": "9MV1vJHF_x6r"
      },
      "outputs": [],
      "source": []
    },
    {
      "cell_type": "markdown",
      "metadata": {
        "id": "15zdbmFY_x6r"
      },
      "source": [
        "This notebook is part of a course at www.codeimmersives.com called Data Science. If you accessed this notebook outside the course, you can get more information about this course online by clicking here."
      ]
    },
    {
      "cell_type": "markdown",
      "metadata": {
        "id": "-mRTyVbl_x6r"
      },
      "source": [
        "<hr>\n",
        "\n",
        "Copyright &copy; 2021  Code Immersives"
      ]
    }
  ],
  "metadata": {
    "colab": {
      "name": "CI Data Science - Lesson 06 - NO ANSWERS.ipynb",
      "provenance": []
    },
    "kernelspec": {
      "display_name": "Python 3",
      "language": "python",
      "name": "python3"
    },
    "language_info": {
      "codemirror_mode": {
        "name": "ipython",
        "version": 3
      },
      "file_extension": ".py",
      "mimetype": "text/x-python",
      "name": "python",
      "nbconvert_exporter": "python",
      "pygments_lexer": "ipython3",
      "version": "3.9.5"
    }
  },
  "nbformat": 4,
  "nbformat_minor": 0
}
