{
  "cells": [
    {
      "cell_type": "markdown",
      "metadata": {
        "id": "FIA8kQVbSoZ9"
      },
      "source": [
        "<a href=\"https://codeimmersives.com\"><img src = \"https://www.codeimmersives.com/wp-content/uploads/2019/09/CodeImmersives_Logo_RGB_NYC_BW.png\" width = 400> </a>\n",
        "\n",
        "\n",
        "<h1 align=center><font size = 5>Agenda</font></h1>"
      ]
    },
    {
      "cell_type": "markdown",
      "metadata": {
        "id": "2rZC8T7lSoaD"
      },
      "source": [
        "### \n",
        "<div class=\"alert alert-block alert-info\" style=\"margin-top: 20px\">\n",
        "\n",
        "1.  [Review](#0)<br>\n",
        "2.  [Pandas](#2)<br>\n",
        "2.  [Exercise](#10)<br> \n",
        "3.  [Exercise](#12)<br>     \n",
        "</div>\n",
        "<hr>"
      ]
    },
    {
      "cell_type": "markdown",
      "metadata": {
        "id": "WrN_S-vrSoaE"
      },
      "source": [
        "<h2>Review</h2>"
      ]
    },
    {
      "cell_type": "code",
      "execution_count": 145,
      "metadata": {
        "id": "deFie1eaSoaE"
      },
      "outputs": [],
      "source": [
        "project_files = 'C:\\\\Projects\\\\Code immersives\\\\pandas\\\\'"
      ]
    },
    {
      "cell_type": "markdown",
      "metadata": {
        "id": "Lgz4-AQrSoaG"
      },
      "source": [
        "<h2>Exercise</h2>\n",
        "<br>\n",
        "1 - On which day did you purchase the most items?<br>\n",
        "2 - Put the table in the order of most items purchased in descending order<br>"
      ]
    },
    {
      "cell_type": "markdown",
      "metadata": {
        "id": "SimnLwkOSoaI"
      },
      "source": [
        "<h4>Solution</h4>"
      ]
    },
    {
      "cell_type": "code",
      "execution_count": 146,
      "metadata": {
        "id": "CLsN5WPBSoaI"
      },
      "outputs": [
        {
          "name": "stdout",
          "output_type": "stream",
          "text": [
            "2020/01/02 [('2020/01/02', ['Shampoo', 'Razors', 'Mints', 'Lotion', 'Suntan lotion']), ('2020/01/03', ['Flip Flops', 'Water bottle']), ('2020/01/04', ['32 ounce Gaterade']), ('2020/01/05', ['Cashews 32 ounce can', 'Fiji Water'])]\n"
          ]
        }
      ],
      "source": [
        "\n",
        "purchases = {\n",
        "    '2020/01/02': ['Shampoo','Razors','Mints','Lotion','Suntan lotion'],\n",
        "    '2020/01/03': ['Flip Flops','Water bottle'],\n",
        "    '2020/01/04': ['32 ounce Gaterade'],\n",
        "    '2020/01/05': ['Cashews 32 ounce can','Fiji Water']\n",
        "}\n",
        "\n",
        "heighest = max(purchases,key=purchases.get)\n",
        "descending = sorted(purchases.items(), key=len, reverse=True)\n",
        "\n",
        "print(heighest, descending)"
      ]
    },
    {
      "cell_type": "markdown",
      "metadata": {
        "id": "RgKidd1wSoaJ"
      },
      "source": [
        "<h2>Exercise</h2>\n",
        "Find and print the top 3 salespeople by sold amount adding up their amounts<br>"
      ]
    },
    {
      "cell_type": "markdown",
      "metadata": {
        "id": "c6SbBK1tSoaJ"
      },
      "source": [
        "<h4>Solution</h4>"
      ]
    },
    {
      "cell_type": "code",
      "execution_count": 147,
      "metadata": {
        "id": "HjTSg2NhSoaK"
      },
      "outputs": [
        {
          "name": "stdout",
          "output_type": "stream",
          "text": [
            "[('Susan', [130000, 90000, 120000, 80000]), ('Florence', [150000, 99000, 102000, 69000]), ('Hal', [100000, 100000, 105000, 99000])]\n"
          ]
        }
      ],
      "source": [
        "sales = {\n",
        "    'Susan':[130000,90000,120000,80000],\n",
        "    'Hal':[100000,100000,105000,99000],\n",
        "    'Joyce':[90000,111000,88000,85000],\n",
        "    'Florence':[150000,99000,102000,69000],\n",
        "    'Samuel':[85000,90000,77000,92000]\n",
        "}\n",
        "\n",
        "sorted_sums = sorted(sales.items(), key=lambda x: sum(x[1]), reverse=True)\n",
        "print(sorted_sums[:3])\n"
      ]
    },
    {
      "cell_type": "markdown",
      "metadata": {
        "id": "l7-AD31ISoaK"
      },
      "source": [
        "<h2>Exercise</h2>\n",
        "<br>\n",
        "1 - You only have $20. Purchase items until you run out of money<br>\n",
        "2 - How could you put together a basket with the lowest cost purchasing as many items as <br>possible but buying an item only once?"
      ]
    },
    {
      "cell_type": "code",
      "execution_count": 148,
      "metadata": {
        "id": "ZVi6FMZdSoaL"
      },
      "outputs": [
        {
          "data": {
            "text/plain": [
              "(3.5600000000000023,\n",
              " [('Tooth Brush', 0.99),\n",
              "  ('Gum', 1.99),\n",
              "  ('Hair Gel', 2.49),\n",
              "  ('Cotton swaps', 2.99),\n",
              "  ('Toothpaste', 3.99),\n",
              "  ('Body Wash', 3.99)])"
            ]
          },
          "execution_count": 148,
          "metadata": {},
          "output_type": "execute_result"
        }
      ],
      "source": [
        "cartItems = {'Toothpaste':3.99, 'Lotion':5.99, 'Cotton swaps':2.99,'Deoderant':4.99,'Hair Spray':8.99,'Conditioner':11.99, 'Gum':1.99, 'Hair Gel':2.49, 'Body Wash':3.99, 'Tooth Brush': .99}\n",
        "wallet = 20\n",
        "\n",
        "def shopping(store, wallet):\n",
        "    purchases = []\n",
        "\n",
        "    sorted_items = sorted(store.items(), key=lambda x: x[1])\n",
        "\n",
        "    item = sorted_items.pop(0)\n",
        "\n",
        "    while wallet >= item[1]:\n",
        "        purchases.append(item)\n",
        "        wallet -= item[1]\n",
        "        item = sorted_items.pop(0)        \n",
        "    \n",
        "    return (wallet, purchases)\n",
        "\n",
        "shopping(cartItems, wallet)\n"
      ]
    },
    {
      "cell_type": "markdown",
      "metadata": {
        "id": "eOvDKiemSoaM"
      },
      "source": [
        "<h2>Exercise</h2>\n",
        "<code>\n",
        "numbers = (23,43,14,23,19,52,15,13)\n",
        "</code><br>\n",
        "You should stop iterating over the numbers and stop when you find <br>\n",
        "a number divisible by 13"
      ]
    },
    {
      "cell_type": "markdown",
      "metadata": {
        "id": "-BUZZhZOSoaM"
      },
      "source": [
        "<h4>Solution</h4>"
      ]
    },
    {
      "cell_type": "code",
      "execution_count": null,
      "metadata": {
        "id": "qB2Cs0ZeBj0Q"
      },
      "outputs": [],
      "source": []
    },
    {
      "cell_type": "code",
      "execution_count": null,
      "metadata": {},
      "outputs": [],
      "source": []
    },
    {
      "cell_type": "markdown",
      "metadata": {
        "id": "ozO0Et9TSoaP"
      },
      "source": [
        "<h2>Exercise</h2>\n",
        "Open the file grades.txt using python not pandas and calculate the<br>\n",
        "mean value.<br>"
      ]
    },
    {
      "cell_type": "markdown",
      "metadata": {
        "id": "fxvZLTP1SoaQ"
      },
      "source": [
        "<h4>Solution</h4>"
      ]
    },
    {
      "cell_type": "code",
      "execution_count": 149,
      "metadata": {
        "id": "JtKBZLihSoaQ"
      },
      "outputs": [
        {
          "name": "stdout",
          "output_type": "stream",
          "text": [
            "81.51 [68, 90, 69, 86, 78, 97, 95, 83, 84, 74, 84, 71, 79, 82, 79, 69, 99, 93, 77, 77, 75, 83, 86, 89, 76, 88, 65, 65, 78, 77, 82, 97, 87, 83, 67, 83, 67, 77, 79, 79, 68, 69, 89, 79, 66, 85, 93, 74, 70, 83, 90, 75, 94, 77, 92, 84, 93, 83, 79, 87, 62, 85, 99, 76, 96, 89, 66, 85, 70, 83, 77, 96, 92, 76, 95, 84, 74, 83, 83, 89, 81, 91, 83, 74, 93, 73, 73, 84, 84, 83, 91, 68, 88, 72, 84, 93, 86, 83, 83, 77]\n"
          ]
        }
      ],
      "source": [
        "with open('grades.txt') as f:\n",
        "    data = [int(item) for item in f.readlines()]\n",
        "f.close()\n",
        "\n",
        "mean = sum(data)/len(data)\n",
        "\n",
        "print(mean, data)"
      ]
    },
    {
      "cell_type": "code",
      "execution_count": 163,
      "metadata": {
        "id": "Dw7_of_TSoaQ"
      },
      "outputs": [
        {
          "ename": "ValueError",
          "evalue": "invalid literal for int() with base 10: '8,405,837 '",
          "output_type": "error",
          "traceback": [
            "\u001b[0;31m---------------------------------------------------------------------------\u001b[0m",
            "\u001b[0;31mValueError\u001b[0m                                Traceback (most recent call last)",
            "\u001b[1;32m/Users/charlesparmley/Desktop/PY-121--Python_for_Data_Science/class_10/CI_Data_Science_Lesson_11_NO_ANSWERS (1).ipynb Cell 20'\u001b[0m in \u001b[0;36m<module>\u001b[0;34m\u001b[0m\n\u001b[1;32m      <a href='vscode-notebook-cell:/Users/charlesparmley/Desktop/PY-121--Python_for_Data_Science/class_10/CI_Data_Science_Lesson_11_NO_ANSWERS%20%281%29.ipynb#ch0000019?line=6'>7</a>\u001b[0m df \u001b[39m=\u001b[39m pd\u001b[39m.\u001b[39mread_csv(\u001b[39m'\u001b[39m\u001b[39mUS_Cities_delimited.txt\u001b[39m\u001b[39m'\u001b[39m, delimiter\u001b[39m=\u001b[39m\u001b[39m'\u001b[39m\u001b[39m|\u001b[39m\u001b[39m'\u001b[39m)\n\u001b[1;32m      <a href='vscode-notebook-cell:/Users/charlesparmley/Desktop/PY-121--Python_for_Data_Science/class_10/CI_Data_Science_Lesson_11_NO_ANSWERS%20%281%29.ipynb#ch0000019?line=8'>9</a>\u001b[0m \u001b[39m#1\u001b[39;00m\n\u001b[1;32m     <a href='vscode-notebook-cell:/Users/charlesparmley/Desktop/PY-121--Python_for_Data_Science/class_10/CI_Data_Science_Lesson_11_NO_ANSWERS%20%281%29.ipynb#ch0000019?line=9'>10</a>\u001b[0m \n\u001b[1;32m     <a href='vscode-notebook-cell:/Users/charlesparmley/Desktop/PY-121--Python_for_Data_Science/class_10/CI_Data_Science_Lesson_11_NO_ANSWERS%20%281%29.ipynb#ch0000019?line=10'>11</a>\u001b[0m \u001b[39m#2\u001b[39;00m\n\u001b[0;32m---> <a href='vscode-notebook-cell:/Users/charlesparmley/Desktop/PY-121--Python_for_Data_Science/class_10/CI_Data_Science_Lesson_11_NO_ANSWERS%20%281%29.ipynb#ch0000019?line=11'>12</a>\u001b[0m \u001b[39mprint\u001b[39m(df\u001b[39m.\u001b[39mloc[(df\u001b[39m.\u001b[39mGovern_Type \u001b[39m==\u001b[39m \u001b[39m'\u001b[39m\u001b[39mStrong mayor \u001b[39m\u001b[39m'\u001b[39m) \u001b[39m&\u001b[39m (df\u001b[39m.\u001b[39;49mPopulation\u001b[39m.\u001b[39;49mastype(\u001b[39mint\u001b[39;49m) \u001b[39m>\u001b[39m\u001b[39m=\u001b[39m \u001b[39m1_000_000\u001b[39m)])\n",
            "File \u001b[0;32m~/Desktop/PY-121--Python_for_Data_Science/venv/lib/python3.10/site-packages/pandas/core/generic.py:5920\u001b[0m, in \u001b[0;36mNDFrame.astype\u001b[0;34m(self, dtype, copy, errors)\u001b[0m\n\u001b[1;32m   <a href='file:///~/Desktop/PY-121--Python_for_Data_Science/venv/lib/python3.10/site-packages/pandas/core/generic.py?line=5912'>5913</a>\u001b[0m     results \u001b[39m=\u001b[39m [\n\u001b[1;32m   <a href='file:///~/Desktop/PY-121--Python_for_Data_Science/venv/lib/python3.10/site-packages/pandas/core/generic.py?line=5913'>5914</a>\u001b[0m         \u001b[39mself\u001b[39m\u001b[39m.\u001b[39miloc[:, i]\u001b[39m.\u001b[39mastype(dtype, copy\u001b[39m=\u001b[39mcopy)\n\u001b[1;32m   <a href='file:///~/Desktop/PY-121--Python_for_Data_Science/venv/lib/python3.10/site-packages/pandas/core/generic.py?line=5914'>5915</a>\u001b[0m         \u001b[39mfor\u001b[39;00m i \u001b[39min\u001b[39;00m \u001b[39mrange\u001b[39m(\u001b[39mlen\u001b[39m(\u001b[39mself\u001b[39m\u001b[39m.\u001b[39mcolumns))\n\u001b[1;32m   <a href='file:///~/Desktop/PY-121--Python_for_Data_Science/venv/lib/python3.10/site-packages/pandas/core/generic.py?line=5915'>5916</a>\u001b[0m     ]\n\u001b[1;32m   <a href='file:///~/Desktop/PY-121--Python_for_Data_Science/venv/lib/python3.10/site-packages/pandas/core/generic.py?line=5917'>5918</a>\u001b[0m \u001b[39melse\u001b[39;00m:\n\u001b[1;32m   <a href='file:///~/Desktop/PY-121--Python_for_Data_Science/venv/lib/python3.10/site-packages/pandas/core/generic.py?line=5918'>5919</a>\u001b[0m     \u001b[39m# else, only a single dtype is given\u001b[39;00m\n\u001b[0;32m-> <a href='file:///~/Desktop/PY-121--Python_for_Data_Science/venv/lib/python3.10/site-packages/pandas/core/generic.py?line=5919'>5920</a>\u001b[0m     new_data \u001b[39m=\u001b[39m \u001b[39mself\u001b[39;49m\u001b[39m.\u001b[39;49m_mgr\u001b[39m.\u001b[39;49mastype(dtype\u001b[39m=\u001b[39;49mdtype, copy\u001b[39m=\u001b[39;49mcopy, errors\u001b[39m=\u001b[39;49merrors)\n\u001b[1;32m   <a href='file:///~/Desktop/PY-121--Python_for_Data_Science/venv/lib/python3.10/site-packages/pandas/core/generic.py?line=5920'>5921</a>\u001b[0m     \u001b[39mreturn\u001b[39;00m \u001b[39mself\u001b[39m\u001b[39m.\u001b[39m_constructor(new_data)\u001b[39m.\u001b[39m__finalize__(\u001b[39mself\u001b[39m, method\u001b[39m=\u001b[39m\u001b[39m\"\u001b[39m\u001b[39mastype\u001b[39m\u001b[39m\"\u001b[39m)\n\u001b[1;32m   <a href='file:///~/Desktop/PY-121--Python_for_Data_Science/venv/lib/python3.10/site-packages/pandas/core/generic.py?line=5922'>5923</a>\u001b[0m \u001b[39m# GH 33113: handle empty frame or series\u001b[39;00m\n",
            "File \u001b[0;32m~/Desktop/PY-121--Python_for_Data_Science/venv/lib/python3.10/site-packages/pandas/core/internals/managers.py:419\u001b[0m, in \u001b[0;36mBaseBlockManager.astype\u001b[0;34m(self, dtype, copy, errors)\u001b[0m\n\u001b[1;32m    <a href='file:///~/Desktop/PY-121--Python_for_Data_Science/venv/lib/python3.10/site-packages/pandas/core/internals/managers.py?line=417'>418</a>\u001b[0m \u001b[39mdef\u001b[39;00m \u001b[39mastype\u001b[39m(\u001b[39mself\u001b[39m: T, dtype, copy: \u001b[39mbool\u001b[39m \u001b[39m=\u001b[39m \u001b[39mFalse\u001b[39;00m, errors: \u001b[39mstr\u001b[39m \u001b[39m=\u001b[39m \u001b[39m\"\u001b[39m\u001b[39mraise\u001b[39m\u001b[39m\"\u001b[39m) \u001b[39m-\u001b[39m\u001b[39m>\u001b[39m T:\n\u001b[0;32m--> <a href='file:///~/Desktop/PY-121--Python_for_Data_Science/venv/lib/python3.10/site-packages/pandas/core/internals/managers.py?line=418'>419</a>\u001b[0m     \u001b[39mreturn\u001b[39;00m \u001b[39mself\u001b[39;49m\u001b[39m.\u001b[39;49mapply(\u001b[39m\"\u001b[39;49m\u001b[39mastype\u001b[39;49m\u001b[39m\"\u001b[39;49m, dtype\u001b[39m=\u001b[39;49mdtype, copy\u001b[39m=\u001b[39;49mcopy, errors\u001b[39m=\u001b[39;49merrors)\n",
            "File \u001b[0;32m~/Desktop/PY-121--Python_for_Data_Science/venv/lib/python3.10/site-packages/pandas/core/internals/managers.py:304\u001b[0m, in \u001b[0;36mBaseBlockManager.apply\u001b[0;34m(self, f, align_keys, ignore_failures, **kwargs)\u001b[0m\n\u001b[1;32m    <a href='file:///~/Desktop/PY-121--Python_for_Data_Science/venv/lib/python3.10/site-packages/pandas/core/internals/managers.py?line=301'>302</a>\u001b[0m         applied \u001b[39m=\u001b[39m b\u001b[39m.\u001b[39mapply(f, \u001b[39m*\u001b[39m\u001b[39m*\u001b[39mkwargs)\n\u001b[1;32m    <a href='file:///~/Desktop/PY-121--Python_for_Data_Science/venv/lib/python3.10/site-packages/pandas/core/internals/managers.py?line=302'>303</a>\u001b[0m     \u001b[39melse\u001b[39;00m:\n\u001b[0;32m--> <a href='file:///~/Desktop/PY-121--Python_for_Data_Science/venv/lib/python3.10/site-packages/pandas/core/internals/managers.py?line=303'>304</a>\u001b[0m         applied \u001b[39m=\u001b[39m \u001b[39mgetattr\u001b[39;49m(b, f)(\u001b[39m*\u001b[39;49m\u001b[39m*\u001b[39;49mkwargs)\n\u001b[1;32m    <a href='file:///~/Desktop/PY-121--Python_for_Data_Science/venv/lib/python3.10/site-packages/pandas/core/internals/managers.py?line=304'>305</a>\u001b[0m \u001b[39mexcept\u001b[39;00m (\u001b[39mTypeError\u001b[39;00m, \u001b[39mNotImplementedError\u001b[39;00m):\n\u001b[1;32m    <a href='file:///~/Desktop/PY-121--Python_for_Data_Science/venv/lib/python3.10/site-packages/pandas/core/internals/managers.py?line=305'>306</a>\u001b[0m     \u001b[39mif\u001b[39;00m \u001b[39mnot\u001b[39;00m ignore_failures:\n",
            "File \u001b[0;32m~/Desktop/PY-121--Python_for_Data_Science/venv/lib/python3.10/site-packages/pandas/core/internals/blocks.py:582\u001b[0m, in \u001b[0;36mBlock.astype\u001b[0;34m(self, dtype, copy, errors)\u001b[0m\n\u001b[1;32m    <a href='file:///~/Desktop/PY-121--Python_for_Data_Science/venv/lib/python3.10/site-packages/pandas/core/internals/blocks.py?line=563'>564</a>\u001b[0m \u001b[39m\"\"\"\u001b[39;00m\n\u001b[1;32m    <a href='file:///~/Desktop/PY-121--Python_for_Data_Science/venv/lib/python3.10/site-packages/pandas/core/internals/blocks.py?line=564'>565</a>\u001b[0m \u001b[39mCoerce to the new dtype.\u001b[39;00m\n\u001b[1;32m    <a href='file:///~/Desktop/PY-121--Python_for_Data_Science/venv/lib/python3.10/site-packages/pandas/core/internals/blocks.py?line=565'>566</a>\u001b[0m \n\u001b[0;32m   (...)\u001b[0m\n\u001b[1;32m    <a href='file:///~/Desktop/PY-121--Python_for_Data_Science/venv/lib/python3.10/site-packages/pandas/core/internals/blocks.py?line=577'>578</a>\u001b[0m \u001b[39mBlock\u001b[39;00m\n\u001b[1;32m    <a href='file:///~/Desktop/PY-121--Python_for_Data_Science/venv/lib/python3.10/site-packages/pandas/core/internals/blocks.py?line=578'>579</a>\u001b[0m \u001b[39m\"\"\"\u001b[39;00m\n\u001b[1;32m    <a href='file:///~/Desktop/PY-121--Python_for_Data_Science/venv/lib/python3.10/site-packages/pandas/core/internals/blocks.py?line=579'>580</a>\u001b[0m values \u001b[39m=\u001b[39m \u001b[39mself\u001b[39m\u001b[39m.\u001b[39mvalues\n\u001b[0;32m--> <a href='file:///~/Desktop/PY-121--Python_for_Data_Science/venv/lib/python3.10/site-packages/pandas/core/internals/blocks.py?line=581'>582</a>\u001b[0m new_values \u001b[39m=\u001b[39m astype_array_safe(values, dtype, copy\u001b[39m=\u001b[39;49mcopy, errors\u001b[39m=\u001b[39;49merrors)\n\u001b[1;32m    <a href='file:///~/Desktop/PY-121--Python_for_Data_Science/venv/lib/python3.10/site-packages/pandas/core/internals/blocks.py?line=583'>584</a>\u001b[0m new_values \u001b[39m=\u001b[39m maybe_coerce_values(new_values)\n\u001b[1;32m    <a href='file:///~/Desktop/PY-121--Python_for_Data_Science/venv/lib/python3.10/site-packages/pandas/core/internals/blocks.py?line=584'>585</a>\u001b[0m newb \u001b[39m=\u001b[39m \u001b[39mself\u001b[39m\u001b[39m.\u001b[39mmake_block(new_values)\n",
            "File \u001b[0;32m~/Desktop/PY-121--Python_for_Data_Science/venv/lib/python3.10/site-packages/pandas/core/dtypes/cast.py:1292\u001b[0m, in \u001b[0;36mastype_array_safe\u001b[0;34m(values, dtype, copy, errors)\u001b[0m\n\u001b[1;32m   <a href='file:///~/Desktop/PY-121--Python_for_Data_Science/venv/lib/python3.10/site-packages/pandas/core/dtypes/cast.py?line=1288'>1289</a>\u001b[0m     dtype \u001b[39m=\u001b[39m dtype\u001b[39m.\u001b[39mnumpy_dtype\n\u001b[1;32m   <a href='file:///~/Desktop/PY-121--Python_for_Data_Science/venv/lib/python3.10/site-packages/pandas/core/dtypes/cast.py?line=1290'>1291</a>\u001b[0m \u001b[39mtry\u001b[39;00m:\n\u001b[0;32m-> <a href='file:///~/Desktop/PY-121--Python_for_Data_Science/venv/lib/python3.10/site-packages/pandas/core/dtypes/cast.py?line=1291'>1292</a>\u001b[0m     new_values \u001b[39m=\u001b[39m astype_array(values, dtype, copy\u001b[39m=\u001b[39;49mcopy)\n\u001b[1;32m   <a href='file:///~/Desktop/PY-121--Python_for_Data_Science/venv/lib/python3.10/site-packages/pandas/core/dtypes/cast.py?line=1292'>1293</a>\u001b[0m \u001b[39mexcept\u001b[39;00m (\u001b[39mValueError\u001b[39;00m, \u001b[39mTypeError\u001b[39;00m):\n\u001b[1;32m   <a href='file:///~/Desktop/PY-121--Python_for_Data_Science/venv/lib/python3.10/site-packages/pandas/core/dtypes/cast.py?line=1293'>1294</a>\u001b[0m     \u001b[39m# e.g. astype_nansafe can fail on object-dtype of strings\u001b[39;00m\n\u001b[1;32m   <a href='file:///~/Desktop/PY-121--Python_for_Data_Science/venv/lib/python3.10/site-packages/pandas/core/dtypes/cast.py?line=1294'>1295</a>\u001b[0m     \u001b[39m#  trying to convert to float\u001b[39;00m\n\u001b[1;32m   <a href='file:///~/Desktop/PY-121--Python_for_Data_Science/venv/lib/python3.10/site-packages/pandas/core/dtypes/cast.py?line=1295'>1296</a>\u001b[0m     \u001b[39mif\u001b[39;00m errors \u001b[39m==\u001b[39m \u001b[39m\"\u001b[39m\u001b[39mignore\u001b[39m\u001b[39m\"\u001b[39m:\n",
            "File \u001b[0;32m~/Desktop/PY-121--Python_for_Data_Science/venv/lib/python3.10/site-packages/pandas/core/dtypes/cast.py:1237\u001b[0m, in \u001b[0;36mastype_array\u001b[0;34m(values, dtype, copy)\u001b[0m\n\u001b[1;32m   <a href='file:///~/Desktop/PY-121--Python_for_Data_Science/venv/lib/python3.10/site-packages/pandas/core/dtypes/cast.py?line=1233'>1234</a>\u001b[0m     values \u001b[39m=\u001b[39m values\u001b[39m.\u001b[39mastype(dtype, copy\u001b[39m=\u001b[39mcopy)\n\u001b[1;32m   <a href='file:///~/Desktop/PY-121--Python_for_Data_Science/venv/lib/python3.10/site-packages/pandas/core/dtypes/cast.py?line=1235'>1236</a>\u001b[0m \u001b[39melse\u001b[39;00m:\n\u001b[0;32m-> <a href='file:///~/Desktop/PY-121--Python_for_Data_Science/venv/lib/python3.10/site-packages/pandas/core/dtypes/cast.py?line=1236'>1237</a>\u001b[0m     values \u001b[39m=\u001b[39m astype_nansafe(values, dtype, copy\u001b[39m=\u001b[39;49mcopy)\n\u001b[1;32m   <a href='file:///~/Desktop/PY-121--Python_for_Data_Science/venv/lib/python3.10/site-packages/pandas/core/dtypes/cast.py?line=1238'>1239</a>\u001b[0m \u001b[39m# in pandas we don't store numpy str dtypes, so convert to object\u001b[39;00m\n\u001b[1;32m   <a href='file:///~/Desktop/PY-121--Python_for_Data_Science/venv/lib/python3.10/site-packages/pandas/core/dtypes/cast.py?line=1239'>1240</a>\u001b[0m \u001b[39mif\u001b[39;00m \u001b[39misinstance\u001b[39m(dtype, np\u001b[39m.\u001b[39mdtype) \u001b[39mand\u001b[39;00m \u001b[39missubclass\u001b[39m(values\u001b[39m.\u001b[39mdtype\u001b[39m.\u001b[39mtype, \u001b[39mstr\u001b[39m):\n",
            "File \u001b[0;32m~/Desktop/PY-121--Python_for_Data_Science/venv/lib/python3.10/site-packages/pandas/core/dtypes/cast.py:1154\u001b[0m, in \u001b[0;36mastype_nansafe\u001b[0;34m(arr, dtype, copy, skipna)\u001b[0m\n\u001b[1;32m   <a href='file:///~/Desktop/PY-121--Python_for_Data_Science/venv/lib/python3.10/site-packages/pandas/core/dtypes/cast.py?line=1149'>1150</a>\u001b[0m \u001b[39melif\u001b[39;00m is_object_dtype(arr\u001b[39m.\u001b[39mdtype):\n\u001b[1;32m   <a href='file:///~/Desktop/PY-121--Python_for_Data_Science/venv/lib/python3.10/site-packages/pandas/core/dtypes/cast.py?line=1150'>1151</a>\u001b[0m \n\u001b[1;32m   <a href='file:///~/Desktop/PY-121--Python_for_Data_Science/venv/lib/python3.10/site-packages/pandas/core/dtypes/cast.py?line=1151'>1152</a>\u001b[0m     \u001b[39m# work around NumPy brokenness, #1987\u001b[39;00m\n\u001b[1;32m   <a href='file:///~/Desktop/PY-121--Python_for_Data_Science/venv/lib/python3.10/site-packages/pandas/core/dtypes/cast.py?line=1152'>1153</a>\u001b[0m     \u001b[39mif\u001b[39;00m np\u001b[39m.\u001b[39missubdtype(dtype\u001b[39m.\u001b[39mtype, np\u001b[39m.\u001b[39minteger):\n\u001b[0;32m-> <a href='file:///~/Desktop/PY-121--Python_for_Data_Science/venv/lib/python3.10/site-packages/pandas/core/dtypes/cast.py?line=1153'>1154</a>\u001b[0m         \u001b[39mreturn\u001b[39;00m lib\u001b[39m.\u001b[39;49mastype_intsafe(arr, dtype)\n\u001b[1;32m   <a href='file:///~/Desktop/PY-121--Python_for_Data_Science/venv/lib/python3.10/site-packages/pandas/core/dtypes/cast.py?line=1155'>1156</a>\u001b[0m     \u001b[39m# if we have a datetime/timedelta array of objects\u001b[39;00m\n\u001b[1;32m   <a href='file:///~/Desktop/PY-121--Python_for_Data_Science/venv/lib/python3.10/site-packages/pandas/core/dtypes/cast.py?line=1156'>1157</a>\u001b[0m     \u001b[39m# then coerce to a proper dtype and recall astype_nansafe\u001b[39;00m\n\u001b[1;32m   <a href='file:///~/Desktop/PY-121--Python_for_Data_Science/venv/lib/python3.10/site-packages/pandas/core/dtypes/cast.py?line=1158'>1159</a>\u001b[0m     \u001b[39melif\u001b[39;00m is_datetime64_dtype(dtype):\n",
            "File \u001b[0;32m~/Desktop/PY-121--Python_for_Data_Science/venv/lib/python3.10/site-packages/pandas/_libs/lib.pyx:668\u001b[0m, in \u001b[0;36mpandas._libs.lib.astype_intsafe\u001b[0;34m()\u001b[0m\n",
            "\u001b[0;31mValueError\u001b[0m: invalid literal for int() with base 10: '8,405,837 '"
          ]
        }
      ],
      "source": [
        "import pandas as pd \n",
        "\n",
        "# 1. Number of cities\n",
        "# 2. Number of cities with a 'strong mayor' and a population > 1 million\n",
        "# 3. Sum of city budgets of cities with 3 largest populations\n",
        "\n",
        "df = pd.read_csv('US_Cities_delimited.txt', delimiter='|')\n",
        "\n",
        "#1\n",
        "\n",
        "#2\n",
        "print(df.loc[(df.Govern_Type == 'Strong mayor ') & (df.Population.astype(int) >= 1_000_000)])"
      ]
    },
    {
      "cell_type": "markdown",
      "metadata": {
        "id": "G0lGzjLISoaQ"
      },
      "source": [
        "Let's open and examine the US_Cities_delimited.txt<br>\n",
        "We can add a new parameter to the read_csv mrthod which<br>\n",
        "allows us the select the delimeter of the file<br>\n",
        "<code>\n",
        "df = pd.read_csv( project_files + 'US_Cities_delimited.txt',delimiter='|')\n",
        "df.dtypes\n",
        "</code><br>\n",
        "NOTE: Most of the columns are labeled object.  We need to clean the fields and cast<br>\n",
        "them with the correct data type."
      ]
    },
    {
      "cell_type": "code",
      "execution_count": null,
      "metadata": {
        "id": "cPJySe-MSoaQ"
      },
      "outputs": [],
      "source": []
    },
    {
      "cell_type": "markdown",
      "metadata": {
        "id": "EwolBq2HSoaQ"
      },
      "source": [
        "Let's look at 1 column of our data<br><br>\n",
        "NOTE: The returned data was more rows than could fit on the screen.  "
      ]
    },
    {
      "cell_type": "code",
      "execution_count": 151,
      "metadata": {
        "id": "r4qOzLvpSoaR"
      },
      "outputs": [
        {
          "data": {
            "text/plain": [
              "0     8,405,837 \n",
              "1     3,884,307 \n",
              "2     2,718,782 \n",
              "3     2,195,914 \n",
              "4     1,553,165 \n",
              "         ...    \n",
              "95      224,922 \n",
              "96      214,237 \n",
              "97      213,708 \n",
              "98      212,113 \n",
              "99      207,878 \n",
              "Name: Population, Length: 100, dtype: object"
            ]
          },
          "execution_count": 151,
          "metadata": {},
          "output_type": "execute_result"
        }
      ],
      "source": [
        "import pandas as pd\n",
        "df = pd.read_csv('US_Cities_delimited.txt',delimiter='|')    \n",
        "df['Population']"
      ]
    },
    {
      "cell_type": "markdown",
      "metadata": {
        "id": "QE_Oa6cwSoaR"
      },
      "source": [
        "We can slice the column data to show all or parts of our data<br>\n",
        "<code>\n",
        "import pandas as pd\n",
        "df = pd.read_csv( project_files + 'US_Cities_delimited.txt',delimiter='|')    \n",
        "df['Population']\n",
        "df.head()\n",
        "<code>\n",
        "or use df.tail()  # For the end of the data frame"
      ]
    },
    {
      "cell_type": "code",
      "execution_count": null,
      "metadata": {
        "id": "jiq6Ap3YSoaR"
      },
      "outputs": [],
      "source": []
    },
    {
      "cell_type": "markdown",
      "metadata": {
        "id": "1uHsRepfSoaR"
      },
      "source": [
        "We can display a portion of the file using head and tail\n",
        "<code>\n",
        "df.head(10) # First 10 values\n",
        "df.tail(10) # Last 10 values\n",
        "\n",
        "df['Begin_Term'].head()<br>\n",
        "df['Begin_Term'].describe()<br>\n",
        "df['Population'].describe()<br>\n",
        "df[25:51]  # Examine certain rows\n",
        "df[25:]\n",
        "df[df.Begin_Term == 2016]   # filter data\n",
        "df[df.End_Term == 2022]\n",
        "df[df.End_Term - df.Begin_Term >= 10] # Query every mayor who has served more than 10 years\n",
        "df['Begin_Term'].unique()    \n",
        "df.groupby(['Begin_Term']).count()\n",
        "    # Exercise: how many cities have a budget of 1 Billion and their population is less than 1 million\n",
        "</code>"
      ]
    },
    {
      "cell_type": "code",
      "execution_count": 152,
      "metadata": {
        "id": "oevpRFlsCZQu"
      },
      "outputs": [
        {
          "ename": "TypeError",
          "evalue": "'>' not supported between instances of 'str' and 'int'",
          "output_type": "error",
          "traceback": [
            "\u001b[0;31m---------------------------------------------------------------------------\u001b[0m",
            "\u001b[0;31mTypeError\u001b[0m                                 Traceback (most recent call last)",
            "\u001b[1;32m/Users/charlesparmley/Desktop/PY-121--Python_for_Data_Science/class_10/CI_Data_Science_Lesson_11_NO_ANSWERS (1).ipynb Cell 28'\u001b[0m in \u001b[0;36m<module>\u001b[0;34m\u001b[0m\n\u001b[0;32m----> <a href='vscode-notebook-cell:/Users/charlesparmley/Desktop/PY-121--Python_for_Data_Science/class_10/CI_Data_Science_Lesson_11_NO_ANSWERS%20%281%29.ipynb#ch0000027?line=0'>1</a>\u001b[0m df[(df\u001b[39m.\u001b[39;49mBudget \u001b[39m>\u001b[39;49m \u001b[39m1000000000\u001b[39;49m) \u001b[39m&\u001b[39m (df\u001b[39m.\u001b[39mPopulation \u001b[39m<\u001b[39m \u001b[39m1000000\u001b[39m)]\n",
            "File \u001b[0;32m~/Desktop/PY-121--Python_for_Data_Science/venv/lib/python3.10/site-packages/pandas/core/ops/common.py:70\u001b[0m, in \u001b[0;36m_unpack_zerodim_and_defer.<locals>.new_method\u001b[0;34m(self, other)\u001b[0m\n\u001b[1;32m     <a href='file:///~/Desktop/PY-121--Python_for_Data_Science/venv/lib/python3.10/site-packages/pandas/core/ops/common.py?line=65'>66</a>\u001b[0m             \u001b[39mreturn\u001b[39;00m \u001b[39mNotImplemented\u001b[39m\n\u001b[1;32m     <a href='file:///~/Desktop/PY-121--Python_for_Data_Science/venv/lib/python3.10/site-packages/pandas/core/ops/common.py?line=67'>68</a>\u001b[0m other \u001b[39m=\u001b[39m item_from_zerodim(other)\n\u001b[0;32m---> <a href='file:///~/Desktop/PY-121--Python_for_Data_Science/venv/lib/python3.10/site-packages/pandas/core/ops/common.py?line=69'>70</a>\u001b[0m \u001b[39mreturn\u001b[39;00m method(\u001b[39mself\u001b[39;49m, other)\n",
            "File \u001b[0;32m~/Desktop/PY-121--Python_for_Data_Science/venv/lib/python3.10/site-packages/pandas/core/arraylike.py:56\u001b[0m, in \u001b[0;36mOpsMixin.__gt__\u001b[0;34m(self, other)\u001b[0m\n\u001b[1;32m     <a href='file:///~/Desktop/PY-121--Python_for_Data_Science/venv/lib/python3.10/site-packages/pandas/core/arraylike.py?line=53'>54</a>\u001b[0m \u001b[39m@unpack_zerodim_and_defer\u001b[39m(\u001b[39m\"\u001b[39m\u001b[39m__gt__\u001b[39m\u001b[39m\"\u001b[39m)\n\u001b[1;32m     <a href='file:///~/Desktop/PY-121--Python_for_Data_Science/venv/lib/python3.10/site-packages/pandas/core/arraylike.py?line=54'>55</a>\u001b[0m \u001b[39mdef\u001b[39;00m \u001b[39m__gt__\u001b[39m(\u001b[39mself\u001b[39m, other):\n\u001b[0;32m---> <a href='file:///~/Desktop/PY-121--Python_for_Data_Science/venv/lib/python3.10/site-packages/pandas/core/arraylike.py?line=55'>56</a>\u001b[0m     \u001b[39mreturn\u001b[39;00m \u001b[39mself\u001b[39;49m\u001b[39m.\u001b[39;49m_cmp_method(other, operator\u001b[39m.\u001b[39;49mgt)\n",
            "File \u001b[0;32m~/Desktop/PY-121--Python_for_Data_Science/venv/lib/python3.10/site-packages/pandas/core/series.py:5620\u001b[0m, in \u001b[0;36mSeries._cmp_method\u001b[0;34m(self, other, op)\u001b[0m\n\u001b[1;32m   <a href='file:///~/Desktop/PY-121--Python_for_Data_Science/venv/lib/python3.10/site-packages/pandas/core/series.py?line=5616'>5617</a>\u001b[0m rvalues \u001b[39m=\u001b[39m extract_array(other, extract_numpy\u001b[39m=\u001b[39m\u001b[39mTrue\u001b[39;00m, extract_range\u001b[39m=\u001b[39m\u001b[39mTrue\u001b[39;00m)\n\u001b[1;32m   <a href='file:///~/Desktop/PY-121--Python_for_Data_Science/venv/lib/python3.10/site-packages/pandas/core/series.py?line=5618'>5619</a>\u001b[0m \u001b[39mwith\u001b[39;00m np\u001b[39m.\u001b[39merrstate(\u001b[39mall\u001b[39m\u001b[39m=\u001b[39m\u001b[39m\"\u001b[39m\u001b[39mignore\u001b[39m\u001b[39m\"\u001b[39m):\n\u001b[0;32m-> <a href='file:///~/Desktop/PY-121--Python_for_Data_Science/venv/lib/python3.10/site-packages/pandas/core/series.py?line=5619'>5620</a>\u001b[0m     res_values \u001b[39m=\u001b[39m ops\u001b[39m.\u001b[39;49mcomparison_op(lvalues, rvalues, op)\n\u001b[1;32m   <a href='file:///~/Desktop/PY-121--Python_for_Data_Science/venv/lib/python3.10/site-packages/pandas/core/series.py?line=5621'>5622</a>\u001b[0m \u001b[39mreturn\u001b[39;00m \u001b[39mself\u001b[39m\u001b[39m.\u001b[39m_construct_result(res_values, name\u001b[39m=\u001b[39mres_name)\n",
            "File \u001b[0;32m~/Desktop/PY-121--Python_for_Data_Science/venv/lib/python3.10/site-packages/pandas/core/ops/array_ops.py:283\u001b[0m, in \u001b[0;36mcomparison_op\u001b[0;34m(left, right, op)\u001b[0m\n\u001b[1;32m    <a href='file:///~/Desktop/PY-121--Python_for_Data_Science/venv/lib/python3.10/site-packages/pandas/core/ops/array_ops.py?line=279'>280</a>\u001b[0m     \u001b[39mreturn\u001b[39;00m invalid_comparison(lvalues, rvalues, op)\n\u001b[1;32m    <a href='file:///~/Desktop/PY-121--Python_for_Data_Science/venv/lib/python3.10/site-packages/pandas/core/ops/array_ops.py?line=281'>282</a>\u001b[0m \u001b[39melif\u001b[39;00m is_object_dtype(lvalues\u001b[39m.\u001b[39mdtype) \u001b[39mor\u001b[39;00m \u001b[39misinstance\u001b[39m(rvalues, \u001b[39mstr\u001b[39m):\n\u001b[0;32m--> <a href='file:///~/Desktop/PY-121--Python_for_Data_Science/venv/lib/python3.10/site-packages/pandas/core/ops/array_ops.py?line=282'>283</a>\u001b[0m     res_values \u001b[39m=\u001b[39m comp_method_OBJECT_ARRAY(op, lvalues, rvalues)\n\u001b[1;32m    <a href='file:///~/Desktop/PY-121--Python_for_Data_Science/venv/lib/python3.10/site-packages/pandas/core/ops/array_ops.py?line=284'>285</a>\u001b[0m \u001b[39melse\u001b[39;00m:\n\u001b[1;32m    <a href='file:///~/Desktop/PY-121--Python_for_Data_Science/venv/lib/python3.10/site-packages/pandas/core/ops/array_ops.py?line=285'>286</a>\u001b[0m     res_values \u001b[39m=\u001b[39m _na_arithmetic_op(lvalues, rvalues, op, is_cmp\u001b[39m=\u001b[39m\u001b[39mTrue\u001b[39;00m)\n",
            "File \u001b[0;32m~/Desktop/PY-121--Python_for_Data_Science/venv/lib/python3.10/site-packages/pandas/core/ops/array_ops.py:73\u001b[0m, in \u001b[0;36mcomp_method_OBJECT_ARRAY\u001b[0;34m(op, x, y)\u001b[0m\n\u001b[1;32m     <a href='file:///~/Desktop/PY-121--Python_for_Data_Science/venv/lib/python3.10/site-packages/pandas/core/ops/array_ops.py?line=70'>71</a>\u001b[0m     result \u001b[39m=\u001b[39m libops\u001b[39m.\u001b[39mvec_compare(x\u001b[39m.\u001b[39mravel(), y\u001b[39m.\u001b[39mravel(), op)\n\u001b[1;32m     <a href='file:///~/Desktop/PY-121--Python_for_Data_Science/venv/lib/python3.10/site-packages/pandas/core/ops/array_ops.py?line=71'>72</a>\u001b[0m \u001b[39melse\u001b[39;00m:\n\u001b[0;32m---> <a href='file:///~/Desktop/PY-121--Python_for_Data_Science/venv/lib/python3.10/site-packages/pandas/core/ops/array_ops.py?line=72'>73</a>\u001b[0m     result \u001b[39m=\u001b[39m libops\u001b[39m.\u001b[39;49mscalar_compare(x\u001b[39m.\u001b[39;49mravel(), y, op)\n\u001b[1;32m     <a href='file:///~/Desktop/PY-121--Python_for_Data_Science/venv/lib/python3.10/site-packages/pandas/core/ops/array_ops.py?line=73'>74</a>\u001b[0m \u001b[39mreturn\u001b[39;00m result\u001b[39m.\u001b[39mreshape(x\u001b[39m.\u001b[39mshape)\n",
            "File \u001b[0;32m~/Desktop/PY-121--Python_for_Data_Science/venv/lib/python3.10/site-packages/pandas/_libs/ops.pyx:107\u001b[0m, in \u001b[0;36mpandas._libs.ops.scalar_compare\u001b[0;34m()\u001b[0m\n",
            "\u001b[0;31mTypeError\u001b[0m: '>' not supported between instances of 'str' and 'int'"
          ]
        }
      ],
      "source": [
        "df[(df.Budget > 1000000000) & (df.Population < 1000000)]"
      ]
    },
    {
      "cell_type": "code",
      "execution_count": null,
      "metadata": {
        "id": "Lw3tW526SoaR"
      },
      "outputs": [],
      "source": []
    },
    {
      "cell_type": "code",
      "execution_count": null,
      "metadata": {
        "id": "RVrzrXf7SoaR"
      },
      "outputs": [],
      "source": []
    },
    {
      "cell_type": "code",
      "execution_count": null,
      "metadata": {
        "id": "_tjFeNLtSoaS"
      },
      "outputs": [],
      "source": []
    },
    {
      "cell_type": "code",
      "execution_count": null,
      "metadata": {
        "id": "jxlV9rozSoaS"
      },
      "outputs": [],
      "source": []
    },
    {
      "cell_type": "code",
      "execution_count": null,
      "metadata": {
        "id": "kACf08L0SoaS"
      },
      "outputs": [],
      "source": []
    },
    {
      "cell_type": "code",
      "execution_count": null,
      "metadata": {
        "id": "o6GAUqjSSoaS"
      },
      "outputs": [],
      "source": []
    },
    {
      "cell_type": "code",
      "execution_count": null,
      "metadata": {
        "id": "KDIbvYnVSoaS"
      },
      "outputs": [],
      "source": []
    },
    {
      "cell_type": "code",
      "execution_count": null,
      "metadata": {
        "id": "SRlL77NhSoaS"
      },
      "outputs": [],
      "source": []
    },
    {
      "cell_type": "code",
      "execution_count": null,
      "metadata": {
        "id": "dz_gVVsNSoaS"
      },
      "outputs": [],
      "source": []
    },
    {
      "cell_type": "markdown",
      "metadata": {
        "id": "N6e9ZWUHSoaS"
      },
      "source": [
        "<h2>Exercise</h2>\n",
        "Find the greatest number in the list without using the max() function or<br>\n",
        "sorting the list<br>\n",
        "<code>\n",
        "x = [1,2,0,5,1,4,-1,2]\n",
        "</code>"
      ]
    },
    {
      "cell_type": "markdown",
      "metadata": {
        "id": "mKKGlw3_SoaS"
      },
      "source": [
        "<h4>Solution</h4>"
      ]
    },
    {
      "cell_type": "code",
      "execution_count": null,
      "metadata": {
        "id": "mgL9o3k5SoaS"
      },
      "outputs": [],
      "source": []
    },
    {
      "cell_type": "markdown",
      "metadata": {
        "id": "zpIdbMWPSoaT"
      },
      "source": [
        "<h2>Exercise</h2>\n",
        "<code>\n",
        "titles = ['team leader','squad leader','manager','managing director','director of operations','operations manager','operations manager (US)', 'operations manager (Canada)',\n",
        "'Operations manager (Mexico)']\n",
        "</code><br>\n",
        "Find every title that has to do with operations."
      ]
    },
    {
      "cell_type": "markdown",
      "metadata": {
        "id": "-_dlfbzASoaT"
      },
      "source": [
        "<h4>Solution</h4>"
      ]
    },
    {
      "cell_type": "code",
      "execution_count": null,
      "metadata": {
        "id": "GOtz65C5SoaT"
      },
      "outputs": [],
      "source": []
    },
    {
      "cell_type": "markdown",
      "metadata": {
        "id": "d7cVgKWPSoaT"
      },
      "source": [
        "This notebook is part of a course at www.codeimmersives.com called Data Science. If you accessed this notebook outside the course, you can get more information about this course online by clicking here."
      ]
    },
    {
      "cell_type": "markdown",
      "metadata": {
        "id": "Q0mHIuEESoaT"
      },
      "source": [
        "<hr>\n",
        "\n",
        "Copyright &copy; 2021  Code Immersives"
      ]
    }
  ],
  "metadata": {
    "colab": {
      "name": "CI Data Science - Lesson 11 - NO ANSWERS.ipynb",
      "provenance": []
    },
    "kernelspec": {
      "display_name": "Python 3",
      "language": "python",
      "name": "python3"
    },
    "language_info": {
      "codemirror_mode": {
        "name": "ipython",
        "version": 3
      },
      "file_extension": ".py",
      "mimetype": "text/x-python",
      "name": "python",
      "nbconvert_exporter": "python",
      "pygments_lexer": "ipython3",
      "version": "3.10.2"
    }
  },
  "nbformat": 4,
  "nbformat_minor": 0
}
