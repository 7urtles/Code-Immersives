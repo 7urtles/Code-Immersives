{
  "cells": [
    {
      "cell_type": "markdown",
      "metadata": {
        "id": "37oGrGvmgUCT"
      },
      "source": [
        "<a href=\"https://codeimmersives.com\"><img src = \"https://www.codeimmersives.com/wp-content/uploads/2019/09/CodeImmersives_Logo_RGB_NYC_BW.png\" width = 400> </a>\n",
        "\n",
        "\n",
        "<h1 align=center><font size = 5>Agenda</font></h1>"
      ]
    },
    {
      "cell_type": "markdown",
      "metadata": {
        "id": "WKszCNLMgUCX"
      },
      "source": [
        "### \n",
        "<div class=\"alert alert-block alert-info\" style=\"margin-top: 20px\">\n",
        "\n",
        "1.  [Review](#0)<br>\n",
        "2.  [Pandas continued](#2)<br>\n",
        "2.  [Exercise](#10)<br> \n",
        "3.  [Exercise](#12)<br>     \n",
        "</div>\n",
        "<hr>"
      ]
    },
    {
      "cell_type": "markdown",
      "metadata": {
        "id": "SVgN50XLgUCY"
      },
      "source": [
        "<h2>Review</h2>"
      ]
    },
    {
      "cell_type": "markdown",
      "metadata": {
        "id": "RmsYv_SEgUCb"
      },
      "source": [
        "<h2>Pandas Series continued</h2>"
      ]
    },
    {
      "cell_type": "markdown",
      "metadata": {
        "id": "BDQfV0pMgUCb"
      },
      "source": [
        "We can sort a series by using the sort_values method.<br>\n",
        "<code>\n",
        "import pandas as pd\n",
        "x = [27,4,14,23,33,14,22,11]\n",
        "ps = pd.Series(x).sort_values(ascending = False)\n",
        "ps\n",
        "</code><br>\n",
        "NOTE: We can use the ascending = True to sort the series in ascending order"
      ]
    },
    {
      "cell_type": "code",
      "execution_count": 730,
      "metadata": {
        "id": "BvfkCpsagUCc"
      },
      "outputs": [
        {
          "data": {
            "text/plain": [
              "4    33\n",
              "0    27\n",
              "3    23\n",
              "6    22\n",
              "2    14\n",
              "5    14\n",
              "7    11\n",
              "1     4\n",
              "dtype: int64"
            ]
          },
          "execution_count": 730,
          "metadata": {},
          "output_type": "execute_result"
        }
      ],
      "source": [
        "import pandas as pd\n",
        "x = [27,4,14,23,33,14,22,11]\n",
        "ps = pd.Series(x).sort_values(ascending = False)\n",
        "ps"
      ]
    },
    {
      "cell_type": "markdown",
      "metadata": {
        "id": "p2-yjEZRgUCd"
      },
      "source": [
        "We can also sort a series using a lambda expression.  Consider the <br>\n",
        "following list of strings:<br>\n",
        "<code>\n",
        "ps = pd.Series(['a', 'B', 'c', 'D', 'e'])\n",
        "ps.sort_values(key=lambda x: x.str.lower())\n",
        "ps\n",
        "</code><br>\n",
        "NOTE: We can use the str method to change all values in a series to a string"
      ]
    },
    {
      "cell_type": "code",
      "execution_count": 731,
      "metadata": {
        "id": "2-f9tgBwgUCd",
        "outputId": "64dd2523-31a0-4a3d-be12-384d1f569dba"
      },
      "outputs": [
        {
          "name": "stdout",
          "output_type": "stream",
          "text": [
            "0    a\n",
            "2    B\n",
            "1    C\n",
            "3    c\n",
            "4    D\n",
            "5    e\n",
            "dtype: object\n"
          ]
        }
      ],
      "source": [
        "ps = pd.Series(['a', 'C', 'B', 'c', 'D', 'e'])\n",
        "ps.sort_values(inplace=True, key=lambda x: x.str.lower())\n",
        "print(ps)"
      ]
    },
    {
      "cell_type": "markdown",
      "metadata": {
        "id": "GO_RbKebgUCe"
      },
      "source": [
        "<H2>Exercise</h2>\n",
        "Take the following list of cities and alphabetize them and put them<br>\n",
        "In the proper case:  ALBANY ---> Albany<br>\n"
      ]
    },
    {
      "cell_type": "markdown",
      "metadata": {
        "id": "6EGHXjCbgUCf"
      },
      "source": [
        "<h4>Solution</h4>"
      ]
    },
    {
      "cell_type": "code",
      "execution_count": 732,
      "metadata": {
        "id": "VjLBK0uogUCf"
      },
      "outputs": [
        {
          "name": "stdout",
          "output_type": "stream",
          "text": [
            "3        Albany\n",
            "2        Boston\n",
            "1      Hartford\n",
            "0    Providence\n",
            "4       Trenton\n",
            "dtype: object\n"
          ]
        }
      ],
      "source": [
        "import pandas as pd\n",
        "\n",
        "cities = ['PROVIDENCE', 'HARTFORD','BOSTON','ALBANY','TRENTON']\n",
        "ps = pd.Series(cities).str.capitalize().sort_values()\n",
        "\n",
        "print(ps)"
      ]
    },
    {
      "cell_type": "markdown",
      "metadata": {
        "id": "cNa8yZhogUCg"
      },
      "source": [
        "<h4>Pandas Series.str methods</h4>\n",
        "Here is a list of str methods to try:<br>\n",
        "str.contains<br>\n",
        "str.count<br>\n",
        "str.endswith<br>\n",
        "str.find<br>\n",
        "str.index<br>\n",
        "str.join<br>\n",
        "str.get<br>\n",
        "str.len<br>\n",
        "str.split<br>\n",
        "str.isalnum<br> \n",
        "\n",
        "\n"
      ]
    },
    {
      "cell_type": "markdown",
      "metadata": {
        "id": "1szRdQMTow3I"
      },
      "source": [
        "<h2> Exercise </h2> \n",
        "1) use pd.str to get a boolean matrix for which words in the series contain 'og' - use pd.str.contains <br>\n",
        "2) Use pd.str.count to get the count of 'a' in the series<br>\n",
        "3) Use pd.str.count to get the count of dollar signs in the series *hint* special characters need a double backslash before them ('\\\\') <br>  \n",
        "4) Use pd.str.endswith() to see how many strings end with 't' in the series <code>  </code> <br>\n",
        "5) Use pd.str.join() to join all elements in the series using a hyphen '-' to join. "
      ]
    },
    {
      "cell_type": "markdown",
      "metadata": {
        "id": "zABSPuB_o13w"
      },
      "source": [
        "Solution:"
      ]
    },
    {
      "cell_type": "code",
      "execution_count": 733,
      "metadata": {
        "id": "NVQy4BUGgUCg"
      },
      "outputs": [
        {
          "name": "stdout",
          "output_type": "stream",
          "text": [
            "0    False\n",
            "1     True\n",
            "2    False\n",
            "3    False\n",
            "4      NaN\n",
            "dtype: object\n",
            "[0               Mouse\n",
            "1                 dog\n",
            "2    house and parrot\n",
            "3                  23\n",
            "4                 NaN\n",
            "dtype: object, 0           A\n",
            "1           B\n",
            "2        Aaba\n",
            "3        Baca\n",
            "4         NaN\n",
            "5        CABA\n",
            "6         cat\n",
            "7    aardvark\n",
            "dtype: object, 0               $\n",
            "1               B\n",
            "2            Aab$\n",
            "3            $$ca\n",
            "4            C$B$\n",
            "5             cat\n",
            "6          canna$\n",
            "7         findme_\n",
            "8     dollarsign$\n",
            "9        infinite\n",
            "10            lo$\n",
            "dtype: object, 0            bat\n",
            "1           bear\n",
            "2            caT\n",
            "3            NaN\n",
            "4           lost\n",
            "5          later\n",
            "6     tattletale\n",
            "7           tops\n",
            "8          taste\n",
            "9           tart\n",
            "10         tango\n",
            "11         taint\n",
            "12     tarentino\n",
            "13           tot\n",
            "dtype: object, 0     lion-elephant-zebra\n",
            "1                     NaN\n",
            "2          cat-gerbil-dog\n",
            "3                     NaN\n",
            "4    duck-swan-fish-guppy\n",
            "dtype: object]\n"
          ]
        }
      ],
      "source": [
        "import numpy as np\n",
        "import pandas as pd\n",
        "\n",
        "\n",
        "#1\n",
        "num_1 = pd.Series(['Mouse', 'dog', 'house and parrot', '23', np.NaN] )\n",
        "print(num_1.str.contains('og'))\n",
        "#2\n",
        "num_2 = pd.Series(['A', 'B', 'Aaba', 'Baca', np.nan, 'CABA', 'cat','aardvark'] )\n",
        "num_2.str.count('a')\n",
        "\n",
        "#3\n",
        "num_3 = pd.Series(['$', 'B', 'Aab$', '$$ca', 'C$B$', 'cat', 'canna$', 'findme_', 'dollarsign$', 'infinite', 'lo$'])\n",
        "num_3.str.count('\\\\$')\n",
        "\n",
        "# 4\n",
        "num_4 = pd.Series(['bat', 'bear', 'caT', np.nan, 'lost', 'later', 'tattletale', 'tops', 'taste', 'tart', 'tango', 'taint', 'tarentino', 'tot'])\n",
        "num_4.str.endswith('t').count()\n",
        "# 5\n",
        "num_5 = pd.Series([['lion', 'elephant', 'zebra'],\n",
        "[1.1, 2.2, 3.3],\n",
        "['cat', 'gerbil', 'dog'],\n",
        "['cow', 4.5, 'goat'],\n",
        "['duck', 'swan', 'fish', 'guppy']] )\n",
        "\n",
        "num_5 = num_5.str.join('-')\n",
        "\n",
        "print([num_1, num_2, num_3, num_4, num_5])"
      ]
    },
    {
      "cell_type": "markdown",
      "metadata": {
        "id": "z_HSdP-dgUCh"
      },
      "source": [
        "We can split the data in a series and unpack the results into columns<br>\n",
        "<br>\n",
        "<code>\n",
        "cities = ['PROVIDENCE, Rhode Island', 'Harford, Connecticut','Boston, Massachusetts']\n",
        "ps = pd.Series(cities).str.split(expand = True)\n",
        "ps\n",
        "</code><br>\n",
        "NOTE: We use the expand key word argument to create the multiple columns"
      ]
    },
    {
      "cell_type": "code",
      "execution_count": 734,
      "metadata": {
        "id": "dTRrJEsDgUCh",
        "outputId": "687d7ef4-f5db-4263-a3dd-d9c2b9b8d9a5"
      },
      "outputs": [
        {
          "data": {
            "text/html": [
              "<div>\n",
              "<style scoped>\n",
              "    .dataframe tbody tr th:only-of-type {\n",
              "        vertical-align: middle;\n",
              "    }\n",
              "\n",
              "    .dataframe tbody tr th {\n",
              "        vertical-align: top;\n",
              "    }\n",
              "\n",
              "    .dataframe thead th {\n",
              "        text-align: right;\n",
              "    }\n",
              "</style>\n",
              "<table border=\"1\" class=\"dataframe\">\n",
              "  <thead>\n",
              "    <tr style=\"text-align: right;\">\n",
              "      <th></th>\n",
              "      <th>0</th>\n",
              "      <th>1</th>\n",
              "      <th>2</th>\n",
              "    </tr>\n",
              "  </thead>\n",
              "  <tbody>\n",
              "    <tr>\n",
              "      <th>0</th>\n",
              "      <td>PROVIDENCE,</td>\n",
              "      <td>Rhode</td>\n",
              "      <td>Island</td>\n",
              "    </tr>\n",
              "    <tr>\n",
              "      <th>1</th>\n",
              "      <td>Harford,</td>\n",
              "      <td>Connecticut</td>\n",
              "      <td>None</td>\n",
              "    </tr>\n",
              "    <tr>\n",
              "      <th>2</th>\n",
              "      <td>Boston,</td>\n",
              "      <td>Massachusetts</td>\n",
              "      <td>None</td>\n",
              "    </tr>\n",
              "  </tbody>\n",
              "</table>\n",
              "</div>"
            ],
            "text/plain": [
              "             0              1       2\n",
              "0  PROVIDENCE,          Rhode  Island\n",
              "1     Harford,    Connecticut    None\n",
              "2      Boston,  Massachusetts    None"
            ]
          },
          "execution_count": 734,
          "metadata": {},
          "output_type": "execute_result"
        }
      ],
      "source": [
        "cities = ['PROVIDENCE, Rhode Island', 'Harford, Connecticut','Boston, Massachusetts']\n",
        "ps = pd.Series(cities).str.split(expand = True)\n",
        "ps"
      ]
    },
    {
      "cell_type": "markdown",
      "metadata": {
        "id": "eqRCMmtWgUCi"
      },
      "source": [
        "We can remove a row by dropping its index<br>\n",
        "<br>\n",
        "<code>\n",
        "import pandas as pd\n",
        "favorites = {'1st place':'Pineapple',\n",
        "            '2nd place': 'Grapes',\n",
        "            '3rd place': 'Granny Smith Apples',\n",
        "            '4th place': 'Strawberries'}\n",
        "ps = pd.Series(favorites.values(), index = favorites.keys())\n",
        "new_ps = ps.drop(labels='4th place')\n",
        "new_ps\n",
        "</code>"
      ]
    },
    {
      "cell_type": "code",
      "execution_count": 735,
      "metadata": {
        "colab": {
          "base_uri": "https://localhost:8080/"
        },
        "id": "4GQUM09mgUCi",
        "outputId": "a5ab9f40-eae9-40c8-c52f-eb2c2e43f8e1"
      },
      "outputs": [
        {
          "data": {
            "text/plain": [
              "1st place              Pineapple\n",
              "2nd place                 Grapes\n",
              "3rd place    Granny Smith Apples\n",
              "dtype: object"
            ]
          },
          "execution_count": 735,
          "metadata": {},
          "output_type": "execute_result"
        }
      ],
      "source": [
        "import pandas as pd\n",
        "favorites = {'1st place':'Pineapple',\n",
        "            '2nd place': 'Grapes',\n",
        "            '3rd place': 'Granny Smith Apples',\n",
        "            '4th place': 'Strawberries'}\n",
        "ps = pd.Series(favorites)\n",
        "new_ps = ps.drop(labels='4th place')\n",
        "new_ps"
      ]
    },
    {
      "cell_type": "markdown",
      "metadata": {
        "id": "hqL-88T7gUCj"
      },
      "source": [
        "<h4>Pandas Series sum</h4>\n",
        "We can sum up all of our values in the series<br>\n",
        "<code>\n",
        "import pandas as pd\n",
        "data = [90,93,97,88, 89]\n",
        "ps = pd.Series(data)\n",
        "print(ps.sum())\n",
        "</code>"
      ]
    },
    {
      "cell_type": "code",
      "execution_count": 736,
      "metadata": {
        "id": "DzNB0Y73gUCj",
        "outputId": "7eb86215-501e-483a-fb2b-1eaa8a7eb9ee"
      },
      "outputs": [
        {
          "name": "stdout",
          "output_type": "stream",
          "text": [
            "457\n"
          ]
        }
      ],
      "source": [
        "import pandas as pd\n",
        "data = [90,93,97,88, 89]\n",
        "ps = pd.Series(data)\n",
        "print(ps.sum())"
      ]
    },
    {
      "cell_type": "markdown",
      "metadata": {
        "deletable": true,
        "editable": true,
        "id": "GX9mbVFij8i0"
      },
      "source": [
        "### DataFrame"
      ]
    },
    {
      "cell_type": "code",
      "execution_count": 737,
      "metadata": {
        "deletable": true,
        "editable": true,
        "id": "cTmTCDKqj8i0"
      },
      "outputs": [],
      "source": [
        "data = {'state': ['Ohio', 'Ohio', 'Ohio', 'Nevada', 'Nevada', 'Nevada'],\n",
        "        'year': [2000, 2001, 2002, 2001, 2002, 2003],\n",
        "        'pop': [1.5, 1.7, 3.6, 2.4, 2.9, 3.2]}\n",
        "frame = pd.DataFrame(data)"
      ]
    },
    {
      "cell_type": "code",
      "execution_count": 738,
      "metadata": {
        "colab": {
          "base_uri": "https://localhost:8080/",
          "height": 238
        },
        "deletable": true,
        "editable": true,
        "id": "2XgspYJMj8i0",
        "outputId": "8026ca4c-6d59-43a2-aea2-7c29ddedcd13"
      },
      "outputs": [
        {
          "data": {
            "text/html": [
              "<div>\n",
              "<style scoped>\n",
              "    .dataframe tbody tr th:only-of-type {\n",
              "        vertical-align: middle;\n",
              "    }\n",
              "\n",
              "    .dataframe tbody tr th {\n",
              "        vertical-align: top;\n",
              "    }\n",
              "\n",
              "    .dataframe thead th {\n",
              "        text-align: right;\n",
              "    }\n",
              "</style>\n",
              "<table border=\"1\" class=\"dataframe\">\n",
              "  <thead>\n",
              "    <tr style=\"text-align: right;\">\n",
              "      <th></th>\n",
              "      <th>state</th>\n",
              "      <th>year</th>\n",
              "      <th>pop</th>\n",
              "    </tr>\n",
              "  </thead>\n",
              "  <tbody>\n",
              "    <tr>\n",
              "      <th>0</th>\n",
              "      <td>Ohio</td>\n",
              "      <td>2000</td>\n",
              "      <td>1.5</td>\n",
              "    </tr>\n",
              "    <tr>\n",
              "      <th>1</th>\n",
              "      <td>Ohio</td>\n",
              "      <td>2001</td>\n",
              "      <td>1.7</td>\n",
              "    </tr>\n",
              "    <tr>\n",
              "      <th>2</th>\n",
              "      <td>Ohio</td>\n",
              "      <td>2002</td>\n",
              "      <td>3.6</td>\n",
              "    </tr>\n",
              "    <tr>\n",
              "      <th>3</th>\n",
              "      <td>Nevada</td>\n",
              "      <td>2001</td>\n",
              "      <td>2.4</td>\n",
              "    </tr>\n",
              "    <tr>\n",
              "      <th>4</th>\n",
              "      <td>Nevada</td>\n",
              "      <td>2002</td>\n",
              "      <td>2.9</td>\n",
              "    </tr>\n",
              "    <tr>\n",
              "      <th>5</th>\n",
              "      <td>Nevada</td>\n",
              "      <td>2003</td>\n",
              "      <td>3.2</td>\n",
              "    </tr>\n",
              "  </tbody>\n",
              "</table>\n",
              "</div>"
            ],
            "text/plain": [
              "    state  year  pop\n",
              "0    Ohio  2000  1.5\n",
              "1    Ohio  2001  1.7\n",
              "2    Ohio  2002  3.6\n",
              "3  Nevada  2001  2.4\n",
              "4  Nevada  2002  2.9\n",
              "5  Nevada  2003  3.2"
            ]
          },
          "execution_count": 738,
          "metadata": {},
          "output_type": "execute_result"
        }
      ],
      "source": [
        "frame"
      ]
    },
    {
      "cell_type": "code",
      "execution_count": 739,
      "metadata": {
        "colab": {
          "base_uri": "https://localhost:8080/",
          "height": 206
        },
        "deletable": true,
        "editable": true,
        "id": "ylSiIu3rj8i0",
        "outputId": "c9f1d6ba-e0de-44b8-e455-b6adeb414d00"
      },
      "outputs": [
        {
          "data": {
            "text/html": [
              "<div>\n",
              "<style scoped>\n",
              "    .dataframe tbody tr th:only-of-type {\n",
              "        vertical-align: middle;\n",
              "    }\n",
              "\n",
              "    .dataframe tbody tr th {\n",
              "        vertical-align: top;\n",
              "    }\n",
              "\n",
              "    .dataframe thead th {\n",
              "        text-align: right;\n",
              "    }\n",
              "</style>\n",
              "<table border=\"1\" class=\"dataframe\">\n",
              "  <thead>\n",
              "    <tr style=\"text-align: right;\">\n",
              "      <th></th>\n",
              "      <th>state</th>\n",
              "      <th>year</th>\n",
              "      <th>pop</th>\n",
              "    </tr>\n",
              "  </thead>\n",
              "  <tbody>\n",
              "    <tr>\n",
              "      <th>0</th>\n",
              "      <td>Ohio</td>\n",
              "      <td>2000</td>\n",
              "      <td>1.5</td>\n",
              "    </tr>\n",
              "    <tr>\n",
              "      <th>1</th>\n",
              "      <td>Ohio</td>\n",
              "      <td>2001</td>\n",
              "      <td>1.7</td>\n",
              "    </tr>\n",
              "    <tr>\n",
              "      <th>2</th>\n",
              "      <td>Ohio</td>\n",
              "      <td>2002</td>\n",
              "      <td>3.6</td>\n",
              "    </tr>\n",
              "    <tr>\n",
              "      <th>3</th>\n",
              "      <td>Nevada</td>\n",
              "      <td>2001</td>\n",
              "      <td>2.4</td>\n",
              "    </tr>\n",
              "    <tr>\n",
              "      <th>4</th>\n",
              "      <td>Nevada</td>\n",
              "      <td>2002</td>\n",
              "      <td>2.9</td>\n",
              "    </tr>\n",
              "  </tbody>\n",
              "</table>\n",
              "</div>"
            ],
            "text/plain": [
              "    state  year  pop\n",
              "0    Ohio  2000  1.5\n",
              "1    Ohio  2001  1.7\n",
              "2    Ohio  2002  3.6\n",
              "3  Nevada  2001  2.4\n",
              "4  Nevada  2002  2.9"
            ]
          },
          "execution_count": 739,
          "metadata": {},
          "output_type": "execute_result"
        }
      ],
      "source": [
        "frame.head()"
      ]
    },
    {
      "cell_type": "code",
      "execution_count": 740,
      "metadata": {
        "deletable": true,
        "editable": true,
        "id": "8dKFOKS-j8i1"
      },
      "outputs": [
        {
          "data": {
            "text/html": [
              "<div>\n",
              "<style scoped>\n",
              "    .dataframe tbody tr th:only-of-type {\n",
              "        vertical-align: middle;\n",
              "    }\n",
              "\n",
              "    .dataframe tbody tr th {\n",
              "        vertical-align: top;\n",
              "    }\n",
              "\n",
              "    .dataframe thead th {\n",
              "        text-align: right;\n",
              "    }\n",
              "</style>\n",
              "<table border=\"1\" class=\"dataframe\">\n",
              "  <thead>\n",
              "    <tr style=\"text-align: right;\">\n",
              "      <th></th>\n",
              "      <th>year</th>\n",
              "      <th>state</th>\n",
              "      <th>pop</th>\n",
              "    </tr>\n",
              "  </thead>\n",
              "  <tbody>\n",
              "    <tr>\n",
              "      <th>0</th>\n",
              "      <td>2000</td>\n",
              "      <td>Ohio</td>\n",
              "      <td>1.5</td>\n",
              "    </tr>\n",
              "    <tr>\n",
              "      <th>1</th>\n",
              "      <td>2001</td>\n",
              "      <td>Ohio</td>\n",
              "      <td>1.7</td>\n",
              "    </tr>\n",
              "    <tr>\n",
              "      <th>2</th>\n",
              "      <td>2002</td>\n",
              "      <td>Ohio</td>\n",
              "      <td>3.6</td>\n",
              "    </tr>\n",
              "    <tr>\n",
              "      <th>3</th>\n",
              "      <td>2001</td>\n",
              "      <td>Nevada</td>\n",
              "      <td>2.4</td>\n",
              "    </tr>\n",
              "    <tr>\n",
              "      <th>4</th>\n",
              "      <td>2002</td>\n",
              "      <td>Nevada</td>\n",
              "      <td>2.9</td>\n",
              "    </tr>\n",
              "    <tr>\n",
              "      <th>5</th>\n",
              "      <td>2003</td>\n",
              "      <td>Nevada</td>\n",
              "      <td>3.2</td>\n",
              "    </tr>\n",
              "  </tbody>\n",
              "</table>\n",
              "</div>"
            ],
            "text/plain": [
              "   year   state  pop\n",
              "0  2000    Ohio  1.5\n",
              "1  2001    Ohio  1.7\n",
              "2  2002    Ohio  3.6\n",
              "3  2001  Nevada  2.4\n",
              "4  2002  Nevada  2.9\n",
              "5  2003  Nevada  3.2"
            ]
          },
          "execution_count": 740,
          "metadata": {},
          "output_type": "execute_result"
        }
      ],
      "source": [
        "pd.DataFrame(data, columns=['year', 'state', 'pop'])"
      ]
    },
    {
      "cell_type": "code",
      "execution_count": 741,
      "metadata": {
        "colab": {
          "base_uri": "https://localhost:8080/"
        },
        "id": "FZTiyIbFsqij",
        "outputId": "cc83dd5c-dae2-4a66-834b-2a02e5aecf30"
      },
      "outputs": [
        {
          "data": {
            "text/plain": [
              "state    Ohio\n",
              "year     2001\n",
              "pop       1.7\n",
              "Name: 1, dtype: object"
            ]
          },
          "execution_count": 741,
          "metadata": {},
          "output_type": "execute_result"
        }
      ],
      "source": [
        "frame.loc[1]"
      ]
    },
    {
      "cell_type": "code",
      "execution_count": 742,
      "metadata": {
        "id": "BV8GVZM3s1NL"
      },
      "outputs": [
        {
          "data": {
            "text/html": [
              "<div>\n",
              "<style scoped>\n",
              "    .dataframe tbody tr th:only-of-type {\n",
              "        vertical-align: middle;\n",
              "    }\n",
              "\n",
              "    .dataframe tbody tr th {\n",
              "        vertical-align: top;\n",
              "    }\n",
              "\n",
              "    .dataframe thead th {\n",
              "        text-align: right;\n",
              "    }\n",
              "</style>\n",
              "<table border=\"1\" class=\"dataframe\">\n",
              "  <thead>\n",
              "    <tr style=\"text-align: right;\">\n",
              "      <th></th>\n",
              "      <th>year</th>\n",
              "      <th>state</th>\n",
              "      <th>pop</th>\n",
              "      <th>area</th>\n",
              "    </tr>\n",
              "  </thead>\n",
              "  <tbody>\n",
              "    <tr>\n",
              "      <th>0</th>\n",
              "      <td>2000</td>\n",
              "      <td>Ohio</td>\n",
              "      <td>1.5</td>\n",
              "      <td>NaN</td>\n",
              "    </tr>\n",
              "    <tr>\n",
              "      <th>1</th>\n",
              "      <td>2001</td>\n",
              "      <td>Ohio</td>\n",
              "      <td>1.7</td>\n",
              "      <td>NaN</td>\n",
              "    </tr>\n",
              "    <tr>\n",
              "      <th>2</th>\n",
              "      <td>2002</td>\n",
              "      <td>Ohio</td>\n",
              "      <td>3.6</td>\n",
              "      <td>NaN</td>\n",
              "    </tr>\n",
              "    <tr>\n",
              "      <th>3</th>\n",
              "      <td>2001</td>\n",
              "      <td>Nevada</td>\n",
              "      <td>2.4</td>\n",
              "      <td>NaN</td>\n",
              "    </tr>\n",
              "    <tr>\n",
              "      <th>4</th>\n",
              "      <td>2002</td>\n",
              "      <td>Nevada</td>\n",
              "      <td>2.9</td>\n",
              "      <td>NaN</td>\n",
              "    </tr>\n",
              "    <tr>\n",
              "      <th>5</th>\n",
              "      <td>2003</td>\n",
              "      <td>Nevada</td>\n",
              "      <td>3.2</td>\n",
              "      <td>NaN</td>\n",
              "    </tr>\n",
              "  </tbody>\n",
              "</table>\n",
              "</div>"
            ],
            "text/plain": [
              "   year   state  pop area\n",
              "0  2000    Ohio  1.5  NaN\n",
              "1  2001    Ohio  1.7  NaN\n",
              "2  2002    Ohio  3.6  NaN\n",
              "3  2001  Nevada  2.4  NaN\n",
              "4  2002  Nevada  2.9  NaN\n",
              "5  2003  Nevada  3.2  NaN"
            ]
          },
          "execution_count": 742,
          "metadata": {},
          "output_type": "execute_result"
        }
      ],
      "source": [
        "frame = pd.DataFrame(data, columns = ['year', 'state', 'pop', 'area'])\n",
        "frame"
      ]
    },
    {
      "cell_type": "markdown",
      "metadata": {
        "id": "8NS4hhE2qeg-"
      },
      "source": [
        "<h2> Exercise </h2>\n",
        "1) Edit the states dataframe to create a new dataframe frame2 that adds a 'debt' column  <br> \n",
        "2) change the indices to be string numbers from one to six ('one', ... 'six) <br>\n",
        "3) Print all the values in the years column for viewing <br>\n",
        "4) Print row 'three' with all it's values using loc[] <br>\n",
        "5) Use numpy's arange() function to fill the debt column frame2['debt'] with a range of numbers (Hint: you need to match the range to the number of rows in the frame for broadcasting to work)."
      ]
    },
    {
      "cell_type": "markdown",
      "metadata": {
        "id": "0nqHjN3Xqwuw"
      },
      "source": [
        "Solution"
      ]
    },
    {
      "cell_type": "code",
      "execution_count": 743,
      "metadata": {
        "deletable": true,
        "editable": true,
        "id": "z2B6y9vzj8i1"
      },
      "outputs": [
        {
          "name": "stdout",
          "output_type": "stream",
          "text": [
            "   year   state  pop debt\n",
            "0  2000    Ohio  1.5  NaN\n",
            "1  2001    Ohio  1.7  NaN\n",
            "2  2002    Ohio  3.6  NaN\n",
            "3  2001  Nevada  2.4  NaN\n",
            "4  2002  Nevada  2.9  NaN\n",
            "5  2003  Nevada  3.2  NaN\n",
            "       year   state  pop debt\n",
            "zero   2000    Ohio  1.5  NaN\n",
            "one    2001    Ohio  1.7  NaN\n",
            "two    2002    Ohio  3.6  NaN\n",
            "three  2001  Nevada  2.4  NaN\n",
            "four   2002  Nevada  2.9  NaN\n",
            "five   2003  Nevada  3.2  NaN\n",
            "zero     2000\n",
            "one      2001\n",
            "two      2002\n",
            "three    2001\n",
            "four     2002\n",
            "five     2003\n",
            "Name: year, dtype: int64\n",
            "year     2002\n",
            "state    Ohio\n",
            "pop       3.6\n",
            "debt      NaN\n",
            "Name: two, dtype: object\n",
            "       year   state  pop debt\n",
            "zero   2000    Ohio  1.5    0\n",
            "one    2001    Ohio  1.7    1\n",
            "two    2002    Ohio  3.6    2\n",
            "three  2001  Nevada  2.4    3\n",
            "four   2002  Nevada  2.9    4\n",
            "five   2003  Nevada  3.2    5\n"
          ]
        }
      ],
      "source": [
        "import numpy as np\n",
        "import pandas as pd\n",
        "states = {\n",
        "    'state': ['Ohio', 'Ohio', 'Ohio', 'Nevada', 'Nevada', 'Nevada'],\n",
        "    'year': [2000, 2001, 2002, 2001, 2002, 2003],\n",
        "    'pop': [1.5, 1.7, 3.6, 2.4, 2.9, 3.2]\n",
        "}\n",
        "numbers = pd.Series(['zero', 'one', 'two', 'three', 'four', 'five'])\n",
        "\n",
        "#1\n",
        "states = pd.DataFrame(states, columns=['year', 'state', 'pop', 'debt'])\n",
        "print(states)\n",
        "\n",
        "#2\n",
        "states = states.set_index(numbers)\n",
        "print(states)\n",
        "\n",
        "#3\n",
        "print(states['year'])\n",
        "\n",
        "#4\n",
        "print(states.loc['two'])\n",
        "\n",
        "#5\n",
        "states['debt'] = np.arange(len(states['debt'])).astype('str')\n",
        "print(states)"
      ]
    },
    {
      "cell_type": "markdown",
      "metadata": {
        "id": "hbVLEJTQtVGH"
      },
      "source": [
        "Now instead of an arange, say we wanted to specify the debt column manually ourselves, we can do this by creating another series and assigning the column to the series (remember how dataframes contain series)."
      ]
    },
    {
      "cell_type": "code",
      "execution_count": 744,
      "metadata": {
        "colab": {
          "base_uri": "https://localhost:8080/",
          "height": 238
        },
        "deletable": true,
        "editable": true,
        "id": "aWpUpKbkj8i2",
        "outputId": "e06bf47d-f3d5-420d-fcce-2ab399b56478"
      },
      "outputs": [
        {
          "data": {
            "text/html": [
              "<div>\n",
              "<style scoped>\n",
              "    .dataframe tbody tr th:only-of-type {\n",
              "        vertical-align: middle;\n",
              "    }\n",
              "\n",
              "    .dataframe tbody tr th {\n",
              "        vertical-align: top;\n",
              "    }\n",
              "\n",
              "    .dataframe thead th {\n",
              "        text-align: right;\n",
              "    }\n",
              "</style>\n",
              "<table border=\"1\" class=\"dataframe\">\n",
              "  <thead>\n",
              "    <tr style=\"text-align: right;\">\n",
              "      <th></th>\n",
              "      <th>year</th>\n",
              "      <th>state</th>\n",
              "      <th>pop</th>\n",
              "      <th>debt</th>\n",
              "    </tr>\n",
              "  </thead>\n",
              "  <tbody>\n",
              "    <tr>\n",
              "      <th>zero</th>\n",
              "      <td>2000</td>\n",
              "      <td>Ohio</td>\n",
              "      <td>1.5</td>\n",
              "      <td>NaN</td>\n",
              "    </tr>\n",
              "    <tr>\n",
              "      <th>one</th>\n",
              "      <td>2001</td>\n",
              "      <td>Ohio</td>\n",
              "      <td>1.7</td>\n",
              "      <td>NaN</td>\n",
              "    </tr>\n",
              "    <tr>\n",
              "      <th>two</th>\n",
              "      <td>2002</td>\n",
              "      <td>Ohio</td>\n",
              "      <td>3.6</td>\n",
              "      <td>-1.2</td>\n",
              "    </tr>\n",
              "    <tr>\n",
              "      <th>three</th>\n",
              "      <td>2001</td>\n",
              "      <td>Nevada</td>\n",
              "      <td>2.4</td>\n",
              "      <td>NaN</td>\n",
              "    </tr>\n",
              "    <tr>\n",
              "      <th>four</th>\n",
              "      <td>2002</td>\n",
              "      <td>Nevada</td>\n",
              "      <td>2.9</td>\n",
              "      <td>-1.5</td>\n",
              "    </tr>\n",
              "    <tr>\n",
              "      <th>five</th>\n",
              "      <td>2003</td>\n",
              "      <td>Nevada</td>\n",
              "      <td>3.2</td>\n",
              "      <td>-1.7</td>\n",
              "    </tr>\n",
              "  </tbody>\n",
              "</table>\n",
              "</div>"
            ],
            "text/plain": [
              "       year   state  pop  debt\n",
              "zero   2000    Ohio  1.5   NaN\n",
              "one    2001    Ohio  1.7   NaN\n",
              "two    2002    Ohio  3.6  -1.2\n",
              "three  2001  Nevada  2.4   NaN\n",
              "four   2002  Nevada  2.9  -1.5\n",
              "five   2003  Nevada  3.2  -1.7"
            ]
          },
          "execution_count": 744,
          "metadata": {},
          "output_type": "execute_result"
        }
      ],
      "source": [
        "val = pd.Series([-1.2, -1.5, -1.7], index=['two', 'four', 'five'])\n",
        "states['debt'] = val\n",
        "states"
      ]
    },
    {
      "cell_type": "code",
      "execution_count": 745,
      "metadata": {
        "colab": {
          "base_uri": "https://localhost:8080/",
          "height": 238
        },
        "deletable": true,
        "editable": true,
        "id": "QxHKwZeBj8i2",
        "outputId": "1ae040f3-e57d-4082-8099-4dc282f80575"
      },
      "outputs": [
        {
          "data": {
            "text/html": [
              "<div>\n",
              "<style scoped>\n",
              "    .dataframe tbody tr th:only-of-type {\n",
              "        vertical-align: middle;\n",
              "    }\n",
              "\n",
              "    .dataframe tbody tr th {\n",
              "        vertical-align: top;\n",
              "    }\n",
              "\n",
              "    .dataframe thead th {\n",
              "        text-align: right;\n",
              "    }\n",
              "</style>\n",
              "<table border=\"1\" class=\"dataframe\">\n",
              "  <thead>\n",
              "    <tr style=\"text-align: right;\">\n",
              "      <th></th>\n",
              "      <th>year</th>\n",
              "      <th>state</th>\n",
              "      <th>pop</th>\n",
              "      <th>debt</th>\n",
              "      <th>Eastern</th>\n",
              "    </tr>\n",
              "  </thead>\n",
              "  <tbody>\n",
              "    <tr>\n",
              "      <th>zero</th>\n",
              "      <td>2000</td>\n",
              "      <td>Ohio</td>\n",
              "      <td>1.5</td>\n",
              "      <td>NaN</td>\n",
              "      <td>True</td>\n",
              "    </tr>\n",
              "    <tr>\n",
              "      <th>one</th>\n",
              "      <td>2001</td>\n",
              "      <td>Ohio</td>\n",
              "      <td>1.7</td>\n",
              "      <td>NaN</td>\n",
              "      <td>True</td>\n",
              "    </tr>\n",
              "    <tr>\n",
              "      <th>two</th>\n",
              "      <td>2002</td>\n",
              "      <td>Ohio</td>\n",
              "      <td>3.6</td>\n",
              "      <td>-1.2</td>\n",
              "      <td>True</td>\n",
              "    </tr>\n",
              "    <tr>\n",
              "      <th>three</th>\n",
              "      <td>2001</td>\n",
              "      <td>Nevada</td>\n",
              "      <td>2.4</td>\n",
              "      <td>NaN</td>\n",
              "      <td>False</td>\n",
              "    </tr>\n",
              "    <tr>\n",
              "      <th>four</th>\n",
              "      <td>2002</td>\n",
              "      <td>Nevada</td>\n",
              "      <td>2.9</td>\n",
              "      <td>-1.5</td>\n",
              "      <td>False</td>\n",
              "    </tr>\n",
              "    <tr>\n",
              "      <th>five</th>\n",
              "      <td>2003</td>\n",
              "      <td>Nevada</td>\n",
              "      <td>3.2</td>\n",
              "      <td>-1.7</td>\n",
              "      <td>False</td>\n",
              "    </tr>\n",
              "  </tbody>\n",
              "</table>\n",
              "</div>"
            ],
            "text/plain": [
              "       year   state  pop  debt  Eastern\n",
              "zero   2000    Ohio  1.5   NaN     True\n",
              "one    2001    Ohio  1.7   NaN     True\n",
              "two    2002    Ohio  3.6  -1.2     True\n",
              "three  2001  Nevada  2.4   NaN    False\n",
              "four   2002  Nevada  2.9  -1.5    False\n",
              "five   2003  Nevada  3.2  -1.7    False"
            ]
          },
          "execution_count": 745,
          "metadata": {},
          "output_type": "execute_result"
        }
      ],
      "source": [
        "states['Eastern'] = states.state == 'Ohio'\n",
        "states\n",
        "#del frame2['eastern']"
      ]
    },
    {
      "cell_type": "markdown",
      "metadata": {
        "id": "FN3wDg8ot47F"
      },
      "source": [
        "<h2> Exercise </h2>\n",
        "1) Add a western state column that reads True for western states. <br> \n",
        "2) Print the resulting table. <br>\n",
        "3) Add an Eastern_Debt column that is populated with a random number from 0 to 100. Print the result. \n",
        "3) delete all western and eastern columns using del \n"
      ]
    },
    {
      "cell_type": "markdown",
      "metadata": {
        "id": "VLeOY530w4MZ"
      },
      "source": [
        "Solution"
      ]
    },
    {
      "cell_type": "code",
      "execution_count": 746,
      "metadata": {
        "id": "ssaAo33Pw5RA"
      },
      "outputs": [
        {
          "name": "stdout",
          "output_type": "stream",
          "text": [
            "zero      True\n",
            "one       True\n",
            "two       True\n",
            "three    False\n",
            "four     False\n",
            "five     False\n",
            "Name: Eastern, dtype: bool\n",
            "       year   state  pop  debt  Eastern  Western\n",
            "zero   2000    Ohio  1.5   NaN     True    False\n",
            "one    2001    Ohio  1.7   NaN     True    False\n",
            "two    2002    Ohio  3.6  -1.2     True    False\n",
            "three  2001  Nevada  2.4   NaN    False     True\n",
            "four   2002  Nevada  2.9  -1.5    False     True\n",
            "five   2003  Nevada  3.2  -1.7    False     True\n",
            "       year   state  pop  debt  Eastern  Western  Eastern_Debt\n",
            "zero   2000    Ohio  1.5   NaN     True    False            54\n",
            "one    2001    Ohio  1.7   NaN     True    False            33\n",
            "two    2002    Ohio  3.6  -1.2     True    False             5\n",
            "three  2001  Nevada  2.4   NaN    False     True            20\n",
            "four   2002  Nevada  2.9  -1.5    False     True            48\n",
            "five   2003  Nevada  3.2  -1.7    False     True            71\n",
            "       year   state  pop  debt\n",
            "zero   2000    Ohio  1.5   NaN\n",
            "one    2001    Ohio  1.7   NaN\n",
            "two    2002    Ohio  3.6  -1.2\n",
            "three  2001  Nevada  2.4   NaN\n",
            "four   2002  Nevada  2.9  -1.5\n",
            "five   2003  Nevada  3.2  -1.7\n"
          ]
        }
      ],
      "source": [
        "import pandas as pd\n",
        "import numpy as np\n",
        "\n",
        "print(states['Eastern'])\n",
        "states['Western'] = [False if state else True for state in states['Eastern']]\n",
        "print(states)\n",
        "\n",
        "states['Eastern_Debt'] = np.random.randint(0,101,size=len(states))\n",
        "print(states)\n",
        "\n",
        "del( states['Eastern_Debt'],states['Eastern'], states['Western'])\n",
        "print(states)"
      ]
    },
    {
      "cell_type": "markdown",
      "metadata": {
        "id": "LTTj87rhvV96"
      },
      "source": [
        "<h4> Transposing </h4>"
      ]
    },
    {
      "cell_type": "code",
      "execution_count": 747,
      "metadata": {
        "deletable": true,
        "editable": true,
        "id": "6F3SNi-Tj8i2"
      },
      "outputs": [
        {
          "name": "stdout",
          "output_type": "stream",
          "text": [
            "      Nevada  Ohio\n",
            "2001     2.4   1.7\n",
            "2002     2.9   3.6\n",
            "2000     NaN   1.5\n",
            "        2001  2002  2000\n",
            "Nevada   2.4   2.9   NaN\n",
            "Ohio     1.7   3.6   1.5\n"
          ]
        }
      ],
      "source": [
        "import pandas as pd\n",
        "\n",
        "pop = pd.DataFrame({'Nevada': {2001: 2.4, 2002: 2.9},\n",
        "       'Ohio': {2000: 1.5, 2001: 1.7, 2002: 3.6}})\n",
        "print(pop)\n",
        "print(pop.T)\n",
        "\n"
      ]
    },
    {
      "cell_type": "code",
      "execution_count": 748,
      "metadata": {
        "colab": {
          "base_uri": "https://localhost:8080/",
          "height": 143
        },
        "deletable": true,
        "editable": true,
        "id": "zW2ZSA0Hj8i2",
        "outputId": "18d32bd2-6e53-46a8-8c3c-55f675d3f6ce"
      },
      "outputs": [
        {
          "name": "stdout",
          "output_type": "stream",
          "text": [
            "      Nevada  Ohio\n",
            "2001     2.4   1.7\n",
            "2002     2.9   3.6\n",
            "2000     NaN   1.5\n",
            "          0     1     2       3       4       5\n",
            "year   2000  2001  2002    2001    2002    2003\n",
            "state  Ohio  Ohio  Ohio  Nevada  Nevada  Nevada\n",
            "pop     1.5   1.7   3.6     2.4     2.9     3.2\n",
            "area    NaN   NaN   NaN     NaN     NaN     NaN\n"
          ]
        }
      ],
      "source": [
        "frame3 = pd.DataFrame(pop)\n",
        "print(frame3)\n",
        "print(frame.T)"
      ]
    },
    {
      "cell_type": "code",
      "execution_count": 749,
      "metadata": {
        "colab": {
          "base_uri": "https://localhost:8080/",
          "height": 143
        },
        "deletable": true,
        "editable": true,
        "id": "ItC2OMv-j8i3",
        "outputId": "2845b17f-f081-46b7-ab42-b68b52795c77"
      },
      "outputs": [
        {
          "name": "stdout",
          "output_type": "stream",
          "text": [
            "        2001  2002  2003\n",
            "Nevada   2.4   2.9   NaN\n",
            "Ohio     1.7   3.6   NaN\n"
          ]
        }
      ],
      "source": [
        "data = pd.DataFrame(pop, index=[2001, 2002, 2003])\n",
        "print(data.T)"
      ]
    },
    {
      "cell_type": "code",
      "execution_count": 750,
      "metadata": {
        "colab": {
          "base_uri": "https://localhost:8080/",
          "height": 112
        },
        "deletable": true,
        "editable": true,
        "id": "vi2r1TzAj8i3",
        "outputId": "7d43b43b-f6f9-4c42-b45a-5d6c35e4c31c"
      },
      "outputs": [
        {
          "data": {
            "text/html": [
              "<div>\n",
              "<style scoped>\n",
              "    .dataframe tbody tr th:only-of-type {\n",
              "        vertical-align: middle;\n",
              "    }\n",
              "\n",
              "    .dataframe tbody tr th {\n",
              "        vertical-align: top;\n",
              "    }\n",
              "\n",
              "    .dataframe thead th {\n",
              "        text-align: right;\n",
              "    }\n",
              "</style>\n",
              "<table border=\"1\" class=\"dataframe\">\n",
              "  <thead>\n",
              "    <tr style=\"text-align: right;\">\n",
              "      <th></th>\n",
              "      <th>Ohio</th>\n",
              "      <th>Nevada</th>\n",
              "    </tr>\n",
              "  </thead>\n",
              "  <tbody>\n",
              "    <tr>\n",
              "      <th>2001</th>\n",
              "      <td>1.7</td>\n",
              "      <td>2.4</td>\n",
              "    </tr>\n",
              "    <tr>\n",
              "      <th>2002</th>\n",
              "      <td>3.6</td>\n",
              "      <td>2.9</td>\n",
              "    </tr>\n",
              "  </tbody>\n",
              "</table>\n",
              "</div>"
            ],
            "text/plain": [
              "      Ohio  Nevada\n",
              "2001   1.7     2.4\n",
              "2002   3.6     2.9"
            ]
          },
          "execution_count": 750,
          "metadata": {},
          "output_type": "execute_result"
        }
      ],
      "source": [
        "pdata = {'Ohio': frame3['Ohio'][:-1],\n",
        "         'Nevada': frame3['Nevada'][:2]}\n",
        "pd.DataFrame(pdata)"
      ]
    },
    {
      "cell_type": "code",
      "execution_count": 751,
      "metadata": {
        "colab": {
          "base_uri": "https://localhost:8080/",
          "height": 174
        },
        "deletable": true,
        "editable": true,
        "id": "kCLj6zaXj8i3",
        "outputId": "851bb901-99b4-4c72-c3ba-ab69174188a6"
      },
      "outputs": [
        {
          "data": {
            "text/html": [
              "<div>\n",
              "<style scoped>\n",
              "    .dataframe tbody tr th:only-of-type {\n",
              "        vertical-align: middle;\n",
              "    }\n",
              "\n",
              "    .dataframe tbody tr th {\n",
              "        vertical-align: top;\n",
              "    }\n",
              "\n",
              "    .dataframe thead th {\n",
              "        text-align: right;\n",
              "    }\n",
              "</style>\n",
              "<table border=\"1\" class=\"dataframe\">\n",
              "  <thead>\n",
              "    <tr style=\"text-align: right;\">\n",
              "      <th>state</th>\n",
              "      <th>Nevada</th>\n",
              "      <th>Ohio</th>\n",
              "    </tr>\n",
              "    <tr>\n",
              "      <th>year</th>\n",
              "      <th></th>\n",
              "      <th></th>\n",
              "    </tr>\n",
              "  </thead>\n",
              "  <tbody>\n",
              "    <tr>\n",
              "      <th>2001</th>\n",
              "      <td>2.4</td>\n",
              "      <td>1.7</td>\n",
              "    </tr>\n",
              "    <tr>\n",
              "      <th>2002</th>\n",
              "      <td>2.9</td>\n",
              "      <td>3.6</td>\n",
              "    </tr>\n",
              "    <tr>\n",
              "      <th>2000</th>\n",
              "      <td>NaN</td>\n",
              "      <td>1.5</td>\n",
              "    </tr>\n",
              "  </tbody>\n",
              "</table>\n",
              "</div>"
            ],
            "text/plain": [
              "state  Nevada  Ohio\n",
              "year               \n",
              "2001      2.4   1.7\n",
              "2002      2.9   3.6\n",
              "2000      NaN   1.5"
            ]
          },
          "execution_count": 751,
          "metadata": {},
          "output_type": "execute_result"
        }
      ],
      "source": [
        "frame3.index.name = 'year'; frame3.columns.name = 'state'\n",
        "frame3"
      ]
    },
    {
      "cell_type": "code",
      "execution_count": 752,
      "metadata": {
        "colab": {
          "base_uri": "https://localhost:8080/"
        },
        "deletable": true,
        "editable": true,
        "id": "s9g2KLHyj8i3",
        "outputId": "35d512a7-1009-44d9-9586-c200a2634d87"
      },
      "outputs": [
        {
          "name": "stdout",
          "output_type": "stream",
          "text": [
            "[[2.4 1.7]\n",
            " [2.9 3.6]\n",
            " [nan 1.5]]\n",
            "[[2.4 2.9 nan]\n",
            " [1.7 3.6 1.5]]\n"
          ]
        }
      ],
      "source": [
        "print(frame3.values)\n",
        "print(frame3.values.T)"
      ]
    },
    {
      "cell_type": "markdown",
      "metadata": {
        "deletable": true,
        "editable": true,
        "id": "xb9lxvrDj8jF"
      },
      "source": [
        "### Correlation and Covariance"
      ]
    },
    {
      "cell_type": "markdown",
      "metadata": {
        "deletable": true,
        "editable": true,
        "id": "C5-z542Dj8jF"
      },
      "source": [
        "DONT ->conda install pandas-datareader\n",
        "\n",
        "DO: activate virtual environment and\n",
        "pip install pandas-datareader"
      ]
    },
    {
      "cell_type": "code",
      "execution_count": 753,
      "metadata": {
        "deletable": true,
        "editable": true,
        "id": "apLwQsNsj8jF"
      },
      "outputs": [],
      "source": [
        "import pandas_datareader as pdr\n",
        "\n",
        "price = pd.read_pickle('yahoo_price.pkl')\n",
        "volume = pd.read_pickle('yahoo_volume.pkl')"
      ]
    },
    {
      "cell_type": "markdown",
      "metadata": {
        "deletable": true,
        "editable": true,
        "id": "l7Y4-05Sj8jF"
      },
      "source": [
        "import pandas_datareader.data as web\n",
        "all_data = {ticker: web.get_data_yahoo(ticker)\n",
        "            for ticker in ['AAPL', 'IBM', 'MSFT', 'GOOG']}\n",
        "\n",
        "price = pd.DataFrame({ticker: data['Adj Close']\n",
        "                     for ticker, data in all_data.items()})\n",
        "volume = pd.DataFrame({ticker: data['Volume']\n",
        "                      for ticker, data in all_data.items()})"
      ]
    },
    {
      "cell_type": "code",
      "execution_count": 754,
      "metadata": {
        "deletable": true,
        "editable": true,
        "id": "EnClMAZfj8jF"
      },
      "outputs": [
        {
          "data": {
            "text/html": [
              "<div>\n",
              "<style scoped>\n",
              "    .dataframe tbody tr th:only-of-type {\n",
              "        vertical-align: middle;\n",
              "    }\n",
              "\n",
              "    .dataframe tbody tr th {\n",
              "        vertical-align: top;\n",
              "    }\n",
              "\n",
              "    .dataframe thead th {\n",
              "        text-align: right;\n",
              "    }\n",
              "</style>\n",
              "<table border=\"1\" class=\"dataframe\">\n",
              "  <thead>\n",
              "    <tr style=\"text-align: right;\">\n",
              "      <th></th>\n",
              "      <th>AAPL</th>\n",
              "      <th>GOOG</th>\n",
              "      <th>IBM</th>\n",
              "      <th>MSFT</th>\n",
              "    </tr>\n",
              "    <tr>\n",
              "      <th>Date</th>\n",
              "      <th></th>\n",
              "      <th></th>\n",
              "      <th></th>\n",
              "      <th></th>\n",
              "    </tr>\n",
              "  </thead>\n",
              "  <tbody>\n",
              "    <tr>\n",
              "      <th>2016-10-17</th>\n",
              "      <td>-0.000680</td>\n",
              "      <td>0.001837</td>\n",
              "      <td>0.002072</td>\n",
              "      <td>-0.003483</td>\n",
              "    </tr>\n",
              "    <tr>\n",
              "      <th>2016-10-18</th>\n",
              "      <td>-0.000681</td>\n",
              "      <td>0.019616</td>\n",
              "      <td>-0.026168</td>\n",
              "      <td>0.007690</td>\n",
              "    </tr>\n",
              "    <tr>\n",
              "      <th>2016-10-19</th>\n",
              "      <td>-0.002979</td>\n",
              "      <td>0.007846</td>\n",
              "      <td>0.003583</td>\n",
              "      <td>-0.002255</td>\n",
              "    </tr>\n",
              "    <tr>\n",
              "      <th>2016-10-20</th>\n",
              "      <td>-0.000512</td>\n",
              "      <td>-0.005652</td>\n",
              "      <td>0.001719</td>\n",
              "      <td>-0.004867</td>\n",
              "    </tr>\n",
              "    <tr>\n",
              "      <th>2016-10-21</th>\n",
              "      <td>-0.003930</td>\n",
              "      <td>0.003011</td>\n",
              "      <td>-0.012474</td>\n",
              "      <td>0.042096</td>\n",
              "    </tr>\n",
              "  </tbody>\n",
              "</table>\n",
              "</div>"
            ],
            "text/plain": [
              "                AAPL      GOOG       IBM      MSFT\n",
              "Date                                              \n",
              "2016-10-17 -0.000680  0.001837  0.002072 -0.003483\n",
              "2016-10-18 -0.000681  0.019616 -0.026168  0.007690\n",
              "2016-10-19 -0.002979  0.007846  0.003583 -0.002255\n",
              "2016-10-20 -0.000512 -0.005652  0.001719 -0.004867\n",
              "2016-10-21 -0.003930  0.003011 -0.012474  0.042096"
            ]
          },
          "execution_count": 754,
          "metadata": {},
          "output_type": "execute_result"
        }
      ],
      "source": [
        "returns = price.pct_change()\n",
        "returns.tail()"
      ]
    },
    {
      "cell_type": "code",
      "execution_count": 755,
      "metadata": {},
      "outputs": [
        {
          "name": "stdout",
          "output_type": "stream",
          "text": [
            "                  Open        High         Low       Close   Adj Close  \\\n",
            "Date                                                                     \n",
            "2022-01-03  177.830002  182.880005  177.710007  182.009995  181.778397   \n",
            "2022-01-04  182.630005  182.940002  179.119995  179.699997  179.471344   \n",
            "2022-01-05  179.610001  180.169998  174.639999  174.919998  174.697418   \n",
            "2022-01-06  172.699997  175.300003  171.639999  172.000000  171.781143   \n",
            "2022-01-07  172.889999  174.139999  171.029999  172.169998  171.950928   \n",
            "2022-01-10  169.080002  172.500000  168.169998  172.190002  171.970901   \n",
            "2022-01-11  172.320007  175.179993  170.820007  175.080002  174.857224   \n",
            "2022-01-12  176.119995  177.179993  174.820007  175.529999  175.306641   \n",
            "2022-01-13  175.779999  176.619995  171.789993  172.190002  171.970901   \n",
            "2022-01-14  171.339996  173.779999  171.089996  173.070007  172.849792   \n",
            "2022-01-18  171.509995  172.539993  169.410004  169.800003  169.583939   \n",
            "\n",
            "               Volume  \n",
            "Date                   \n",
            "2022-01-03  104487900  \n",
            "2022-01-04   99310400  \n",
            "2022-01-05   94537600  \n",
            "2022-01-06   96904000  \n",
            "2022-01-07   86580100  \n",
            "2022-01-10  106765600  \n",
            "2022-01-11   76138300  \n",
            "2022-01-12   74805200  \n",
            "2022-01-13   84505800  \n",
            "2022-01-14   80355000  \n",
            "2022-01-18   90956700  \n"
          ]
        }
      ],
      "source": [
        "import yfinance as yf\n",
        "aapl_df = yf.download('AAPL',start='2022-01-03',end='2022-01-19',progress=False,)\n",
        "print(aapl_df)"
      ]
    },
    {
      "cell_type": "code",
      "execution_count": 756,
      "metadata": {},
      "outputs": [
        {
          "name": "stdout",
          "output_type": "stream",
          "text": [
            "<class 'pandas.core.frame.DataFrame'>\n"
          ]
        }
      ],
      "source": [
        "# Getting a dict of returns from a list of company code using the data as a key\n",
        "\n",
        "import yfinance as yf\n",
        "companies = ['AAPL','GOOG','IBM','MSFT']\n",
        "data = {company:yf.download(company,start='2022-01-03',end='2022-01-19',progress=False) for company in companies}\n",
        "print(type(data['AAPL']))"
      ]
    },
    {
      "cell_type": "code",
      "execution_count": 757,
      "metadata": {},
      "outputs": [
        {
          "name": "stdout",
          "output_type": "stream",
          "text": [
            "{'AAPL': None, 'GOOG': None, 'IBM': None, 'MSFT': None}\n"
          ]
        }
      ],
      "source": [
        "from pathlib import Path  \n",
        "filepath = Path('folder/subfolder/out.csv')\n",
        "\n",
        "header = ['Close']\n",
        "\n",
        "# rounding off the numbers and saving each to its own csv with the company code as file name\n",
        "data = {company:data[company].round(1).to_csv(f'{company}.csv') for company in data}\n",
        "print(data)"
      ]
    },
    {
      "cell_type": "code",
      "execution_count": 758,
      "metadata": {
        "deletable": true,
        "editable": true,
        "id": "ogzehgXJj8jG"
      },
      "outputs": [
        {
          "data": {
            "text/plain": [
              "8.870655479703546e-05"
            ]
          },
          "execution_count": 758,
          "metadata": {},
          "output_type": "execute_result"
        }
      ],
      "source": [
        "returns['MSFT'].corr(returns['IBM'])\n",
        "returns['MSFT'].cov(returns['IBM'])"
      ]
    },
    {
      "cell_type": "code",
      "execution_count": 759,
      "metadata": {
        "deletable": true,
        "editable": true,
        "id": "jBxASB8pj8jG"
      },
      "outputs": [
        {
          "data": {
            "text/plain": [
              "0.49976361144151155"
            ]
          },
          "execution_count": 759,
          "metadata": {},
          "output_type": "execute_result"
        }
      ],
      "source": [
        "returns.MSFT.corr(returns.IBM)"
      ]
    },
    {
      "cell_type": "code",
      "execution_count": 760,
      "metadata": {
        "deletable": true,
        "editable": true,
        "id": "VIN1nc6ij8jG"
      },
      "outputs": [
        {
          "data": {
            "text/html": [
              "<div>\n",
              "<style scoped>\n",
              "    .dataframe tbody tr th:only-of-type {\n",
              "        vertical-align: middle;\n",
              "    }\n",
              "\n",
              "    .dataframe tbody tr th {\n",
              "        vertical-align: top;\n",
              "    }\n",
              "\n",
              "    .dataframe thead th {\n",
              "        text-align: right;\n",
              "    }\n",
              "</style>\n",
              "<table border=\"1\" class=\"dataframe\">\n",
              "  <thead>\n",
              "    <tr style=\"text-align: right;\">\n",
              "      <th></th>\n",
              "      <th>AAPL</th>\n",
              "      <th>GOOG</th>\n",
              "      <th>IBM</th>\n",
              "      <th>MSFT</th>\n",
              "    </tr>\n",
              "  </thead>\n",
              "  <tbody>\n",
              "    <tr>\n",
              "      <th>AAPL</th>\n",
              "      <td>0.000277</td>\n",
              "      <td>0.000107</td>\n",
              "      <td>0.000078</td>\n",
              "      <td>0.000095</td>\n",
              "    </tr>\n",
              "    <tr>\n",
              "      <th>GOOG</th>\n",
              "      <td>0.000107</td>\n",
              "      <td>0.000251</td>\n",
              "      <td>0.000078</td>\n",
              "      <td>0.000108</td>\n",
              "    </tr>\n",
              "    <tr>\n",
              "      <th>IBM</th>\n",
              "      <td>0.000078</td>\n",
              "      <td>0.000078</td>\n",
              "      <td>0.000146</td>\n",
              "      <td>0.000089</td>\n",
              "    </tr>\n",
              "    <tr>\n",
              "      <th>MSFT</th>\n",
              "      <td>0.000095</td>\n",
              "      <td>0.000108</td>\n",
              "      <td>0.000089</td>\n",
              "      <td>0.000215</td>\n",
              "    </tr>\n",
              "  </tbody>\n",
              "</table>\n",
              "</div>"
            ],
            "text/plain": [
              "          AAPL      GOOG       IBM      MSFT\n",
              "AAPL  0.000277  0.000107  0.000078  0.000095\n",
              "GOOG  0.000107  0.000251  0.000078  0.000108\n",
              "IBM   0.000078  0.000078  0.000146  0.000089\n",
              "MSFT  0.000095  0.000108  0.000089  0.000215"
            ]
          },
          "execution_count": 760,
          "metadata": {},
          "output_type": "execute_result"
        }
      ],
      "source": [
        "returns.corr()\n",
        "returns.cov()"
      ]
    },
    {
      "cell_type": "code",
      "execution_count": 761,
      "metadata": {
        "deletable": true,
        "editable": true,
        "id": "2DdLuxsYj8jG"
      },
      "outputs": [
        {
          "data": {
            "text/plain": [
              "AAPL    0.386817\n",
              "GOOG    0.405099\n",
              "IBM     1.000000\n",
              "MSFT    0.499764\n",
              "dtype: float64"
            ]
          },
          "execution_count": 761,
          "metadata": {},
          "output_type": "execute_result"
        }
      ],
      "source": [
        "returns.corrwith(returns.IBM)"
      ]
    },
    {
      "cell_type": "code",
      "execution_count": 762,
      "metadata": {
        "deletable": true,
        "editable": true,
        "id": "rNLxE3-lj8jG"
      },
      "outputs": [
        {
          "data": {
            "text/plain": [
              "AAPL   -0.075565\n",
              "GOOG   -0.007067\n",
              "IBM    -0.204849\n",
              "MSFT   -0.092950\n",
              "dtype: float64"
            ]
          },
          "execution_count": 762,
          "metadata": {},
          "output_type": "execute_result"
        }
      ],
      "source": [
        "returns.corrwith(volume)"
      ]
    },
    {
      "cell_type": "markdown",
      "metadata": {
        "id": "89nrZlVFgUCk"
      },
      "source": [
        "This notebook is part of a course at www.codeimmersives.com called Data Science. If you accessed this notebook outside the course, you can get more information about this course online by clicking here."
      ]
    },
    {
      "cell_type": "markdown",
      "metadata": {
        "id": "YQNN6S-LgUCk"
      },
      "source": [
        "<hr>\n",
        "\n",
        "Copyright &copy; 2021  Code Immersives"
      ]
    }
  ],
  "metadata": {
    "colab": {
      "name": "CI Data Science - Lesson 10 with Answers.ipynb",
      "provenance": []
    },
    "kernelspec": {
      "display_name": "Python 3",
      "language": "python",
      "name": "python3"
    },
    "language_info": {
      "codemirror_mode": {
        "name": "ipython",
        "version": 3
      },
      "file_extension": ".py",
      "mimetype": "text/x-python",
      "name": "python",
      "nbconvert_exporter": "python",
      "pygments_lexer": "ipython3",
      "version": "3.9.5"
    }
  },
  "nbformat": 4,
  "nbformat_minor": 0
}
