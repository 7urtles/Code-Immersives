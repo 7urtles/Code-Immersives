{
  "cells": [
    {
      "cell_type": "markdown",
      "metadata": {
        "id": "fC38DqEk36bJ"
      },
      "source": [
        "<a href=\"https://codeimmersives.com\"><img src = \"https://www.codeimmersives.com/wp-content/uploads/2019/09/CodeImmersives_Logo_RGB_NYC_BW.png\" width = 400> </a>\n",
        "\n",
        "\n",
        "<h1 align=center><font size = 5>Agenda</font></h1>"
      ]
    },
    {
      "cell_type": "markdown",
      "metadata": {
        "id": "nx_NlfsX36bL"
      },
      "source": [
        "### \n",
        "<div class=\"alert alert-block alert-info\" style=\"margin-top: 20px\">\n",
        "\n",
        "1.  [Review](#0)<br>\n",
        "2.  [Covariance](#2)<br> \n",
        "3.  [Correlation](#4)<br>        \n",
        "4.  [Exercise 1](#12)<br> \n",
        "5.  [Exercise 2](#14)<br>\n",
        "6.  [Exercise 3](#16)<br>    \n",
        "</div>\n",
        "<hr>"
      ]
    },
    {
      "cell_type": "markdown",
      "metadata": {
        "id": "53NLQJL636bL"
      },
      "source": [
        "<h2>Exercise</h2>\n",
        "You have the following list:<br>\n",
        "<code>\n",
        "product_numbers = ['AS-500','TR-700','TR-800','TR-100','AX-131','AX-232','AL-3400','TR-300']\n",
        "</code><br>\n",
        "You need to process the product_numbers as a batch process but all of the<br>\n",
        "processes that start with 'TR' need to be run first.  Arrange the list so that<br>\n",
        "they are in the beginning of the list.<br>"
      ]
    },
    {
      "cell_type": "markdown",
      "metadata": {
        "id": "I-QCXST436bL"
      },
      "source": [
        "<h4>Solution</h4>"
      ]
    },
    {
      "cell_type": "code",
      "execution_count": 98,
      "metadata": {
        "id": "qu7xxWsZ36bL"
      },
      "outputs": [
        {
          "name": "stdout",
          "output_type": "stream",
          "text": [
            "['TR-300', 'TR-100', 'TR-800', 'TR-700', 'AS-500', 'AX-131', 'AX-232', 'AL-3400']\n"
          ]
        }
      ],
      "source": [
        "product_numbers = ['AS-500','TR-700','TR-800','TR-100','AX-131','AX-232','AL-3400','TR-300']\n",
        "ordered = []\n",
        "for n in product_numbers:\n",
        "    ordered.insert(0,n) if n[:2] == 'TR' else ordered.append(n)\n",
        "print(ordered)\n",
        "# [ordered.insert(0,n) for n in product_numbers if n[:2] == 'TR' else ordered.append(n)] IDK why list comp is a no go"
      ]
    },
    {
      "cell_type": "markdown",
      "metadata": {
        "id": "j-bGkMOA36bN"
      },
      "source": [
        "<h2>Exercise</h2>\n",
        "You have the following data structure:<br>\n",
        "<code>\n",
        "processes = [{'command':'docker build -t python101:1.0'},\n",
        "             'Reboot server',\n",
        "             'Data cleaning',\n",
        "             {'command': 'git stash','server':'mid west'}]\n",
        "</code><br>\n",
        "How do you execute the process that contains the command - 'git stash' first?<br>"
      ]
    },
    {
      "cell_type": "markdown",
      "metadata": {
        "id": "y83a8l4S36bN"
      },
      "source": [
        "<h4>Solution</h4>"
      ]
    },
    {
      "cell_type": "code",
      "execution_count": 99,
      "metadata": {
        "id": "Dd2c2fHJ36bN"
      },
      "outputs": [],
      "source": [
        "processes = [{'command':'docker build -t python101:1.0'},\n",
        "             'Reboot server',\n",
        "             'Data cleaning',\n",
        "             {'command': 'git stash','server':'mid west'}]\n",
        "             "
      ]
    },
    {
      "cell_type": "markdown",
      "metadata": {
        "id": "aO9ySyV736bN"
      },
      "source": [
        "<h2>Covariance</h2>\n",
        "Covariance is the measure of the directional relationship between two random variables<br><br>\n",
        "$\\sum_{i=1}^{n} (X_i - meanX)(Y_i - meanY)$/(n-1)<br><br>\n",
        "Where X is the first list of data and Y is the second list."
      ]
    },
    {
      "cell_type": "markdown",
      "metadata": {
        "id": "KcgbmO0M36bO"
      },
      "source": [
        "For example.  If we measured the temperate on 7 consecutive summer days and<br>\n",
        "also measure ice_cream_sales for the same 7 consecutive days.  The covariance will<br>\n",
        "measure the direction of the relationship between the 2 lists.<br>\n",
        "<code>\n",
        "collection1 = [89, 93, 77, 79, 93, 95, 94]\n",
        "icecream_sales = [20000, 25000, 16000, 18000, 21000, 24000, 23000]\n",
        "</code>"
      ]
    },
    {
      "cell_type": "markdown",
      "metadata": {
        "id": "RS9CkBx036bO"
      },
      "source": [
        "<h4>Solution</h4>"
      ]
    },
    {
      "cell_type": "code",
      "execution_count": 100,
      "metadata": {
        "id": "OsJoa-IZ36bO"
      },
      "outputs": [],
      "source": [
        "import pprint\n",
        "# means of temp and sales\n",
        "# difference elementwise from the mean of the respective list for x and y\n",
        "# Multiply the differences over all elements in the differences list\n",
        "# Sum multiplied differences\n",
        "# divide by number of elements\n",
        "temperatures = [89, 93, 77, 79, 93, 95, 94]\n",
        "icecream_sales = [20000, 25000, 16000, 18000, 21000, 24000, 23000]\n",
        "\n",
        "def fmean(source:list)->float:\n",
        "    return sum(source)/len(source)\n",
        "\n",
        "def covariance(collection1:list, collection2:list)->float:\n",
        "    avg1 = fmean(collection1)\n",
        "    avg2 = fmean(collection2)\n",
        "    diff1 = [temp-avg1 for temp in collection1]\n",
        "    diff2 = [cream-avg2 for cream in collection2]\n",
        "    multis = [diff1[n]*diff2[n] for n in range(len(collection1))]\n",
        "    sum_multis = sum(multis)\n",
        "    divided = sum_multis/(len(multis)-1)\n",
        "    return divided\n",
        "\n",
        "\n"
      ]
    },
    {
      "cell_type": "markdown",
      "metadata": {
        "id": "X3P2IbAg36bO"
      },
      "source": [
        "<h2>Object Oriented Programming</h2>"
      ]
    },
    {
      "cell_type": "markdown",
      "metadata": {
        "id": "GUtdl6bi36bO"
      },
      "source": [
        "<h4>Static Methods</h4>\n",
        "A static method is a method that is part of the class but does<br>\n",
        "not use the self reference and can be called outside of the class structure.<br>\n",
        "The decoratored method could be a regular function but due to its relationship<br>\n",
        "with the other methods it is included in the class."
      ]
    },
    {
      "cell_type": "markdown",
      "metadata": {
        "id": "e9kYl57836bP"
      },
      "source": [
        "<h4>Class Methods</h4>\n",
        "Class methods don't need a class instance. They can't access the instance ( self ) but they <br>\n",
        "have access to the class itself via cls "
      ]
    },
    {
      "cell_type": "code",
      "execution_count": null,
      "metadata": {
        "id": "58-w7eZn36bP"
      },
      "outputs": [],
      "source": []
    },
    {
      "cell_type": "markdown",
      "metadata": {
        "id": "YTQBUbvP36bP"
      },
      "source": [
        "<h2>Exercise</h2>\n",
        "Create a class called Geometry.  The class should include the following:<br>\n",
        "1 - constructor that takes up to 3 arguments for shape type, side 1, side 2, side 3<br>\n",
        "2 - static method for calc_perimeter<br>\n",
        "3 - static method for calc_area<br>\n",
        "4 - The shape types are: C for Circle, T for Triangle, R for Rectangle<br>\n"
      ]
    },
    {
      "cell_type": "code",
      "execution_count": 101,
      "metadata": {
        "id": "hthpjYFa36bP"
      },
      "outputs": [
        {
          "name": "stdout",
          "output_type": "stream",
          "text": [
            "18.84955592153876\n",
            "28.274333882308138\n"
          ]
        }
      ],
      "source": [
        "import math\n",
        "class Geometry:\n",
        "    def __init__(self, shape, *args) -> None:\n",
        "        \"\"\"Takes in the name of the shape as a string and the lenght of the shapes sides.\n",
        "        If the shape is a circle just the radius in addition to the shape name 'circle' \"\"\"\n",
        "        self.shape = {shape:(args)}\n",
        "        pass\n",
        "\n",
        "    def perimeter(self)->int:\n",
        "        \"\"\"returns perimeter of the shape\"\"\"\n",
        "        values=list(self.shape.values())[0][0]\n",
        "        match list(self.shape.keys())[0].lower():\n",
        "            case 'circle':\n",
        "                return 2* math.pi * values\n",
        "            case _ :\n",
        "                return sum(values)\n",
        "\n",
        "    def area(self)->int:\n",
        "        \"\"\"returns area of the shape\"\"\"\n",
        "        values=list(self.shape.values())[0][0]\n",
        "        match list(self.shape.keys())[0]:\n",
        "            case 'triangle':\n",
        "                half_perimeter = math.prod(values) / 2\n",
        "                return [half_perimeter*[math.prod([half_perimeter-side]) for side in values]]\n",
        "            case 'circle':\n",
        "                return math.pi * values**2\n",
        "            case _ :\n",
        "                return math.prod(values[:3])\n",
        "\n",
        "shape = Geometry('circle', 3)\n",
        "print(shape.perimeter())\n",
        "print(shape.area())\n"
      ]
    },
    {
      "cell_type": "markdown",
      "metadata": {
        "id": "zsPPs0mg36bP"
      },
      "source": [
        "<h2>Correlation</h2>\n",
        "The correlation is a measure of the direction of the relation of 2 lists and the<br>\n",
        "strength of the relation.  The correlation can only be a number from -1 to 1.  A positive<br>\n",
        "correlation of .7 or more is significant and signals that there is a strong relationship<br>\n",
        "between the 2 data sets. When there is a rise in one of the numbers in the list there is also <br>\n",
        "a rise in the value of the corresponding index value.  A negative correlation of -.07 to 1 means<br>\n",
        "that there is an inverse relationship between the 2 lists.  When one of the values in 1st list<br>\n",
        "goes up, the value in the other list will go down.<br>\n",
        "The formula for correlation is:<br>\n",
        "<br>\n",
        "$ covariance/(S_x* S_y)$<br><br>\n",
        "Where S is the standard deviation of each data set"
      ]
    },
    {
      "cell_type": "markdown",
      "metadata": {
        "id": "SX7F1IvE36bP"
      },
      "source": [
        "<h2>Exercise</h2>\n",
        "Find the correlation of the following data sets:<br>\n",
        "<code>\n",
        "temperatures = [89, 93, 77, 79, 93, 95, 94]\n",
        "icecream_sales = [20000, 25000, 16000, 18000, 21000, 24000, 23000]\n",
        "</code>"
      ]
    },
    {
      "cell_type": "markdown",
      "metadata": {
        "id": "eAVJHiS136bQ"
      },
      "source": [
        "<h4>Solution</h4>"
      ]
    },
    {
      "cell_type": "code",
      "execution_count": 102,
      "metadata": {
        "id": "1AZkJTQ136bQ"
      },
      "outputs": [
        {
          "name": "stdout",
          "output_type": "stream",
          "text": [
            "0.9141761783739408\n"
          ]
        }
      ],
      "source": [
        "import statistics\n",
        "temperatures = [89, 93, 77, 79, 93, 95, 94]\n",
        "icecream_sales = [20000, 25000, 16000, 18000, 21000, 24000, 23000]\n",
        "\n",
        "def find_correlation(collection1:list, collection2:list) -> float:\n",
        "    cov = covariance(collection1, collection2)\n",
        "    # correlation = covariance / (standard_deviation_list1 * standard_deviation_list2)\n",
        "    return (cov / (statistics.stdev(collection1) * statistics.stdev(collection2)))\n",
        "\n",
        "print(find_correlation(temperatures, icecream_sales))"
      ]
    },
    {
      "cell_type": "markdown",
      "metadata": {
        "id": "Xt_EP_Zd36bQ"
      },
      "source": [
        "<h2>Exercise</h2>\n",
        "We have the following class called 'Deck_of_Cards'<br>\n",
        "<code>\n",
        "class Deck_of_Cards:\n",
        "    def __init__(self):\n",
        "        self.cards = self.create_deck()\n",
        "        \n",
        "    def create_deck(self):\n",
        "        face_cards = ['Jack','Queen','King','Ace']\n",
        "        non_face_cards = list(range(2,11))\n",
        "        suit = ['Spades','Clubs','Hearts','Diamonds']\n",
        "        cards = [f'{card} of {s}' for card in non_face_cards + face_cards for s in suit]\n",
        "        return cards\n",
        "\n",
        "    def __str__(self):\n",
        "        return f'There are {self.number_of_cards} cards in the deck'\n",
        "    \n",
        "new_deal = Deck_of_Cards()\n",
        "print(new_deal.cards)\n",
        "</code>\n",
        "<br>\n",
        "Create the following methods:<br>\n",
        "1 - 'shuffle' to reorder the cards<br>\n",
        "2 - 'cut' which takes in an interger or defaults to zero which is called a tap and no<br>\n",
        "reorder is done.<br>\n",
        "3 - 'deal' which takes in 1 arguments the number of cards and removes them from the deck<br>\n",
        "\n"
      ]
    },
    {
      "cell_type": "code",
      "execution_count": 27,
      "metadata": {
        "id": "SaXYBAzd36bQ"
      },
      "outputs": [
        {
          "ename": "KeyboardInterrupt",
          "evalue": "",
          "output_type": "error",
          "traceback": [
            "\u001b[0;31m---------------------------------------------------------------------------\u001b[0m",
            "\u001b[0;31mKeyboardInterrupt\u001b[0m                         Traceback (most recent call last)",
            "Input \u001b[0;32mIn [27]\u001b[0m, in \u001b[0;36m<module>\u001b[0;34m\u001b[0m\n\u001b[1;32m    158\u001b[0m                         \u001b[38;5;66;03m# break the gameplay loop and begin a new round\u001b[39;00m\n\u001b[1;32m    159\u001b[0m                         \u001b[38;5;28;01mbreak\u001b[39;00m\n\u001b[0;32m--> 160\u001b[0m \u001b[43mrun\u001b[49m\u001b[43m(\u001b[49m\u001b[43mgame\u001b[49m\u001b[43m)\u001b[49m\n",
            "Input \u001b[0;32mIn [27]\u001b[0m, in \u001b[0;36mrun\u001b[0;34m(game)\u001b[0m\n\u001b[1;32m    144\u001b[0m \u001b[38;5;66;03m#[---MAIN GAMEPLAY---]\u001b[39;00m\n\u001b[1;32m    145\u001b[0m \u001b[38;5;28;01mfor\u001b[39;00m player \u001b[38;5;129;01min\u001b[39;00m game\u001b[38;5;241m.\u001b[39mplayers:\n\u001b[1;32m    146\u001b[0m     \u001b[38;5;66;03m# If player is in play\u001b[39;00m\n\u001b[0;32m--> 147\u001b[0m     \u001b[38;5;28;01mif\u001b[39;00m game\u001b[38;5;241m.\u001b[39mplayers[player][\u001b[38;5;124m'\u001b[39m\u001b[38;5;124mactive\u001b[39m\u001b[38;5;124m'\u001b[39m] \u001b[38;5;241m==\u001b[39m \u001b[38;5;28;01mTrue\u001b[39;00m:\n\u001b[1;32m    148\u001b[0m         \u001b[38;5;66;03m# Show current hands in play to user\u001b[39;00m\n\u001b[1;32m    149\u001b[0m         \u001b[38;5;28minput\u001b[39m(\u001b[38;5;124mf\u001b[39m\u001b[38;5;124m\"\u001b[39m\u001b[38;5;124mDealer: \u001b[39m\u001b[38;5;132;01m{\u001b[39;00mgame\u001b[38;5;241m.\u001b[39mplayers[\u001b[38;5;241m0\u001b[39m][\u001b[38;5;124m'\u001b[39m\u001b[38;5;124mtotal\u001b[39m\u001b[38;5;124m'\u001b[39m]\u001b[38;5;132;01m}\u001b[39;00m\u001b[38;5;124m    You: \u001b[39m\u001b[38;5;132;01m{\u001b[39;00mgame\u001b[38;5;241m.\u001b[39mplayers[\u001b[38;5;241m1\u001b[39m][\u001b[38;5;124m'\u001b[39m\u001b[38;5;124mtotal\u001b[39m\u001b[38;5;124m'\u001b[39m]\u001b[38;5;132;01m}\u001b[39;00m\u001b[38;5;124m\"\u001b[39m)\n\u001b[1;32m    150\u001b[0m         \u001b[38;5;66;03m# have them hit or stay\u001b[39;00m\n",
            "\u001b[0;31mKeyboardInterrupt\u001b[0m: "
          ]
        }
      ],
      "source": [
        "import random \n",
        "\n",
        "class Deck:\n",
        "    def __init__(self):\n",
        "        self.cards = self.create()\n",
        "\n",
        "    def create(self)->list:\n",
        "        \"\"\"Building a list of dictionaries that represend each card ie: {card:(suit,value)}\"\"\"\n",
        "        suits = ['Spades','Clubs','Hearts','Diamonds']\n",
        "        face_cards = {'Ace':11,'King':10,'Queen':10,'Jack':10}\n",
        "        # same as face_cards but with the number cards\n",
        "        value_cards = {str(card):card for card in list(range(10,1,-1))}\n",
        "        # combine the dictionaries\n",
        "        cards = {**face_cards, **value_cards}\n",
        "        final = []\n",
        "        # fill a list with cards. EXAMPLE final_deck = [{'Ace':(value,suit)}, {'2':(value,suit)}, etc.......]\n",
        "        [{final.append({name:(suit,value)}) for name,value in cards.items()} for suit in suits]\n",
        "        return final\n",
        "\n",
        "    def shuffle(self)->list:\n",
        "        # add a random card to a new list 52 times\n",
        "        self.cards = [self.cards[random.randint(0,51)] for _ in range(len(self.cards))]\n",
        "        return self.cards\n",
        "\n",
        "    def cut(self, position:int=0)->list:\n",
        "        # if a cut is requested  cut the deck at the position chosen, and re-arrage the two halves\n",
        "        return self.cards[position:]+self.cards[:position]\n",
        "\n",
        "    def deal(self,cards:int=5)->list:\n",
        "        return [self.cards.pop(0) for _ in range(cards)]\n",
        "\n",
        "\n",
        "class BlackJack:\n",
        "    def __init__(self, deck:list, players:int=2) -> None:\n",
        "        self.running = True\n",
        "        self.deck = deck\n",
        "        self.dirty = []\n",
        "        # shuffle deck\n",
        "        self.deck.shuffle()\n",
        "        # create players\n",
        "        self.players = { \n",
        "            player:{\n",
        "                'name':'',\n",
        "                'cards':[],\n",
        "                'total':0,\n",
        "                'money':0,\n",
        "                'active':True,\n",
        "            }\n",
        "            for player in range(players)\n",
        "        }\n",
        "        self.players[0]['name'] = 'Dealer'\n",
        "        self.players[1]['name'] = 'Charles'\n",
        "        self.new_hand = True\n",
        "        # deal each player 2 cards\n",
        "        self.wash_cards()\n",
        "\n",
        "    def deal(self, cards:int=2, player:int=2)->None:\n",
        "        # if its the first deal of a round\n",
        "        if self.new_hand:\n",
        "            # for as many cards as we want to deal\n",
        "            for _ in range(cards):\n",
        "                # add a card from the deck to each players hand\n",
        "                for player in sorted(self.players, reverse=True):\n",
        "                    self.players[player]['cards'].append(self.deck.deal(1)[0])\n",
        "                    # store each players cards total\n",
        "                    self.players[player]['total'] += list(self.players[player]['cards'][-1].values())[0][1]\n",
        "            self.new_hand = False\n",
        "        else:\n",
        "            for _ in range(cards):\n",
        "                self.players[player]['cards'].append(self.deck.deal(1)[0])\n",
        "                self.players[player]['total'] += list(self.players[player]['cards'][-1].values())[0][1]\n",
        "\n",
        "    def hit_stay(self, player:int):\n",
        "        # ask player if they want to hit or stay\n",
        "        choice = input(f\"{self.players[player]['name']} hit? (y/n)\")\n",
        "        # if they hit deal them a card\n",
        "        if choice == 'y':\n",
        "            self.deal(1, player) \n",
        "        # otherwise their hand is locked until end of round\n",
        "        else:\n",
        "            self.players[player]['active'] = False\n",
        "\n",
        "    def check_bust(self,player:int)->bool:\n",
        "        # if the player passed has a hand total over 21\n",
        "        if self.players[player]['total'] > 21:\n",
        "            self.players[player]['active'] = False\n",
        "            # notify loop the players hand busted\n",
        "            return True\n",
        "        return False\n",
        "\n",
        "    def check_21(self)->dict|bool:\n",
        "        # on deal if player hits blackjack then player wins, if not and dealer has blackjack then dealer wins\n",
        "        players_with_21 = [player for player in range(len(self.players)-1,0,-1) if self.players[player]['total'] == 21]\n",
        "        # if a player is found\n",
        "        if len(players_with_21) > 0:\n",
        "            # return the winner\n",
        "            return players_with_21[0]\n",
        "        return False\n",
        "\n",
        "\n",
        "    def win_lose(self,player:int,condition:bool)->None:\n",
        "        # depending on the game ending condition passed\n",
        "        condition = 'win' if condition else 'loses'\n",
        "        # Show the results and ask user to play again\n",
        "        if input(f\"{self.players[player]['name']} {condition}!  Dealer: {self.players[0]['total']}  You: {self.players[1]['total']}  Play again? y/n\") != 'y': \n",
        "            # if they dont say yes end the script\n",
        "            self.running = False\n",
        "\n",
        "    def clear_hands(self)->None:\n",
        "        for player in self.players:\n",
        "            # put players cards in the discard pile\n",
        "            self.dirty += self.players[player]['cards']\n",
        "            self.players[player]['cards'].clear()\n",
        "            self.players[player]['total'] = 0\n",
        "            # set flag to signify begenning of a new round\n",
        "            self.new_hand = True\n",
        "\n",
        "    def wash_cards(self)->None:\n",
        "        # put players hands into the discard pile\n",
        "        self.clear_hands()\n",
        "        # combine discard pile and remaining deck\n",
        "        self.deck.cards += self.dirty\n",
        "        # kill the clones!\n",
        "        self.dirty.clear()\n",
        "\n",
        "game = BlackJack(Deck(),2)\n",
        "\n",
        "def run(game):\n",
        "        # until the user quits (or error)\n",
        "        while game.running == True:\n",
        "            #[---FIRST DEAL OF ROUND---]\n",
        "            # if it is the first deal of a hand\n",
        "            if game.new_hand:\n",
        "                # deal two cards to each player\n",
        "                game.deal()\n",
        "                # see if players have blackjack\n",
        "                winner = game.check_21()\n",
        "                # if so\n",
        "                if winner:\n",
        "                    # player wins, reset hands\n",
        "                    game.win_lose(winner, True)\n",
        "                    game.clear_hands()\n",
        "                    continue\n",
        "            #[---MAIN GAMEPLAY---]\n",
        "            for player in game.players:\n",
        "                # If player is in play\n",
        "                if game.players[player]['active'] == True:\n",
        "                    # Show current hands in play to user\n",
        "                    input(f\"Dealer: {game.players[0]['total']}    You: {game.players[1]['total']}\")\n",
        "                    # have them hit or stay\n",
        "                    game.hit_stay(player)\n",
        "                    # check if players went over 21 on their hit\n",
        "                    if game.check_bust(player):\n",
        "                        # they lost\n",
        "                        game.win_lose(player, False)\n",
        "                        # collect their cards\n",
        "                        game.clear_hands()\n",
        "                        # break the gameplay loop and begin a new round\n",
        "                        break\n",
        "run(game)"
      ]
    },
    {
      "cell_type": "markdown",
      "metadata": {
        "id": "-dDHu2k836bR"
      },
      "source": [
        "<h2>Exercise</h2>\n",
        "Without using the built in max function in python, find the maximum value<br>\n",
        "in the following sequence:<br>\n",
        "<code>\n",
        "x = [1,2,0,5,1,4,-1,2]\n",
        "</code>"
      ]
    },
    {
      "cell_type": "markdown",
      "metadata": {
        "id": "VCLHI4nG36bR"
      },
      "source": [
        "<h4>Solution</h4>"
      ]
    },
    {
      "cell_type": "code",
      "execution_count": null,
      "metadata": {
        "id": "9PF7Uce436bR"
      },
      "outputs": [],
      "source": []
    },
    {
      "cell_type": "markdown",
      "metadata": {
        "id": "8tBC-Fi936bR"
      },
      "source": [
        "This notebook is part of a course at www.codeimmersives.com called Data Science. If you accessed this notebook outside the course, you can get more information about this course online by clicking here."
      ]
    },
    {
      "cell_type": "markdown",
      "metadata": {
        "id": "ATYIk37-36bS"
      },
      "source": [
        "<hr>\n",
        "\n",
        "Copyright &copy; 2021  Code Immersives"
      ]
    }
  ],
  "metadata": {
    "colab": {
      "name": "CI Data Science - Lesson 04 - NO ANSWER.ipynb",
      "provenance": []
    },
    "kernelspec": {
      "display_name": "Python 3",
      "language": "python",
      "name": "python3"
    },
    "language_info": {
      "codemirror_mode": {
        "name": "ipython",
        "version": 3
      },
      "file_extension": ".py",
      "mimetype": "text/x-python",
      "name": "python",
      "nbconvert_exporter": "python",
      "pygments_lexer": "ipython3",
      "version": "3.10.2"
    }
  },
  "nbformat": 4,
  "nbformat_minor": 0
}
