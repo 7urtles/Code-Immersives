{
  "cells": [
    {
      "cell_type": "markdown",
      "metadata": {
        "id": "dyb6pNSGsNqY"
      },
      "source": [
        "\n",
        "\n",
        "\n",
        "\n",
        "\n",
        "<a href=\"https://codeimmersives.com\"><img src = \"https://www.codeimmersives.com/wp-content/uploads/2019/09/CodeImmersives_Logo_RGB_NYC_BW.png\" width = 400> </a>\n",
        "\n",
        "\n",
        "<h1 align=center><font size = 5>Agenda</font></h1>"
      ]
    },
    {
      "cell_type": "markdown",
      "metadata": {
        "id": "5Ftuc9zjvOi2"
      },
      "source": [
        "### \n",
        "<div class=\"alert alert-block alert-info\" style=\"margin-top: 20px\">\n",
        "\n",
        "1.  [Hwk Review](#0)<br>\n",
        "2.  [Matplotlib+Pandas Exercises](#2)<br>\n",
        "3.  Exercises in-class\n",
        "4.  [Review](#12)<br>     \n",
        "</div>\n",
        "<hr>"
      ]
    },
    {
      "cell_type": "markdown",
      "metadata": {
        "id": "A8fDiSXEBa42"
      },
      "source": [
        "<h2> Hwk Review </h2>\n"
      ]
    },
    {
      "cell_type": "markdown",
      "metadata": {
        "id": "BS37NeloCVns"
      },
      "source": [
        "<h2> Working with Pandas and Matplotlib </h2>"
      ]
    },
    {
      "cell_type": "code",
      "execution_count": 2,
      "metadata": {
        "id": "Um8hBzziCbvH"
      },
      "outputs": [],
      "source": []
    },
    {
      "cell_type": "markdown",
      "metadata": {
        "id": "lvAyWRuQD08z"
      },
      "source": [
        "## MovieLens 1M Dataset"
      ]
    },
    {
      "cell_type": "markdown",
      "metadata": {
        "id": "vnjtiSvxD4YL"
      },
      "source": [
        "working with 3 dat files - generic data types, in this case holding plain text, read in using pd.read_table(), assign labels with a look \n"
      ]
    },
    {
      "cell_type": "code",
      "execution_count": 11,
      "metadata": {
        "id": "k_OuAEHOD6yZ"
      },
      "outputs": [
        {
          "name": "stdout",
          "output_type": "stream",
          "text": [
            "      user_id gender  age  occupation    zip\n",
            "0           1      F    1          10  48067\n",
            "1           2      M   56          16  70072\n",
            "2           3      M   25          15  55117\n",
            "3           4      M   45           7  02460\n",
            "4           5      M   25          20  55455\n",
            "...       ...    ...  ...         ...    ...\n",
            "6035     6036      F   25          15  32603\n",
            "6036     6037      F   45           1  76006\n",
            "6037     6038      F   56           1  14706\n",
            "6038     6039      F   45           0  01060\n",
            "6039     6040      M   25           6  11106\n",
            "\n",
            "[6040 rows x 5 columns]\n"
          ]
        }
      ],
      "source": [
        "import pandas as pd\n",
        "\n",
        "# Make display smaller\n",
        "pd.options.display.max_rows = 10\n",
        "\n",
        "unames = ['user_id', 'gender', 'age', 'occupation', 'zip']\n",
        "users = pd.read_table('users.dat', sep='::',\n",
        "                      header=None, names=unames, engine='python')\n",
        "\n",
        "rnames = ['user_id', 'movie_id', 'rating', 'timestamp']\n",
        "ratings = pd.read_table('ratings.dat', sep='::',\n",
        "                        header=None, names=rnames, engine='python')\n",
        "\n",
        "mnames = ['movie_id', 'title', 'genres']\n",
        "movies = pd.read_table('movies.dat', sep='::',\n",
        "                       header=None, names=mnames, engine='python')\n",
        "\n",
        "print(users)"
      ]
    },
    {
      "cell_type": "markdown",
      "metadata": {
        "id": "dEeHyH6kFH3x"
      },
      "source": [
        "<h2>Pandas .merge() method</h2>"
      ]
    },
    {
      "cell_type": "code",
      "execution_count": 14,
      "metadata": {
        "id": "QfUzbK0wFL3y"
      },
      "outputs": [
        {
          "data": {
            "text/html": [
              "<div>\n",
              "<style scoped>\n",
              "    .dataframe tbody tr th:only-of-type {\n",
              "        vertical-align: middle;\n",
              "    }\n",
              "\n",
              "    .dataframe tbody tr th {\n",
              "        vertical-align: top;\n",
              "    }\n",
              "\n",
              "    .dataframe thead th {\n",
              "        text-align: right;\n",
              "    }\n",
              "</style>\n",
              "<table border=\"1\" class=\"dataframe\">\n",
              "  <thead>\n",
              "    <tr style=\"text-align: right;\">\n",
              "      <th></th>\n",
              "      <th>user_id</th>\n",
              "      <th>movie_id</th>\n",
              "      <th>rating</th>\n",
              "      <th>timestamp</th>\n",
              "      <th>title</th>\n",
              "      <th>genres</th>\n",
              "    </tr>\n",
              "  </thead>\n",
              "  <tbody>\n",
              "    <tr>\n",
              "      <th>0</th>\n",
              "      <td>1</td>\n",
              "      <td>1193</td>\n",
              "      <td>5</td>\n",
              "      <td>978300760</td>\n",
              "      <td>One Flew Over the Cuckoo's Nest (1975)</td>\n",
              "      <td>Drama</td>\n",
              "    </tr>\n",
              "    <tr>\n",
              "      <th>1</th>\n",
              "      <td>2</td>\n",
              "      <td>1193</td>\n",
              "      <td>5</td>\n",
              "      <td>978298413</td>\n",
              "      <td>One Flew Over the Cuckoo's Nest (1975)</td>\n",
              "      <td>Drama</td>\n",
              "    </tr>\n",
              "    <tr>\n",
              "      <th>2</th>\n",
              "      <td>12</td>\n",
              "      <td>1193</td>\n",
              "      <td>4</td>\n",
              "      <td>978220179</td>\n",
              "      <td>One Flew Over the Cuckoo's Nest (1975)</td>\n",
              "      <td>Drama</td>\n",
              "    </tr>\n",
              "    <tr>\n",
              "      <th>3</th>\n",
              "      <td>15</td>\n",
              "      <td>1193</td>\n",
              "      <td>4</td>\n",
              "      <td>978199279</td>\n",
              "      <td>One Flew Over the Cuckoo's Nest (1975)</td>\n",
              "      <td>Drama</td>\n",
              "    </tr>\n",
              "    <tr>\n",
              "      <th>4</th>\n",
              "      <td>17</td>\n",
              "      <td>1193</td>\n",
              "      <td>5</td>\n",
              "      <td>978158471</td>\n",
              "      <td>One Flew Over the Cuckoo's Nest (1975)</td>\n",
              "      <td>Drama</td>\n",
              "    </tr>\n",
              "    <tr>\n",
              "      <th>...</th>\n",
              "      <td>...</td>\n",
              "      <td>...</td>\n",
              "      <td>...</td>\n",
              "      <td>...</td>\n",
              "      <td>...</td>\n",
              "      <td>...</td>\n",
              "    </tr>\n",
              "    <tr>\n",
              "      <th>1000204</th>\n",
              "      <td>5949</td>\n",
              "      <td>2198</td>\n",
              "      <td>5</td>\n",
              "      <td>958846401</td>\n",
              "      <td>Modulations (1998)</td>\n",
              "      <td>Documentary</td>\n",
              "    </tr>\n",
              "    <tr>\n",
              "      <th>1000205</th>\n",
              "      <td>5675</td>\n",
              "      <td>2703</td>\n",
              "      <td>3</td>\n",
              "      <td>976029116</td>\n",
              "      <td>Broken Vessels (1998)</td>\n",
              "      <td>Drama</td>\n",
              "    </tr>\n",
              "    <tr>\n",
              "      <th>1000206</th>\n",
              "      <td>5780</td>\n",
              "      <td>2845</td>\n",
              "      <td>1</td>\n",
              "      <td>958153068</td>\n",
              "      <td>White Boys (1999)</td>\n",
              "      <td>Drama</td>\n",
              "    </tr>\n",
              "    <tr>\n",
              "      <th>1000207</th>\n",
              "      <td>5851</td>\n",
              "      <td>3607</td>\n",
              "      <td>5</td>\n",
              "      <td>957756608</td>\n",
              "      <td>One Little Indian (1973)</td>\n",
              "      <td>Comedy|Drama|Western</td>\n",
              "    </tr>\n",
              "    <tr>\n",
              "      <th>1000208</th>\n",
              "      <td>5938</td>\n",
              "      <td>2909</td>\n",
              "      <td>4</td>\n",
              "      <td>957273353</td>\n",
              "      <td>Five Wives, Three Secretaries and Me (1998)</td>\n",
              "      <td>Documentary</td>\n",
              "    </tr>\n",
              "  </tbody>\n",
              "</table>\n",
              "<p>1000209 rows × 6 columns</p>\n",
              "</div>"
            ],
            "text/plain": [
              "         user_id  movie_id  rating  timestamp  \\\n",
              "0              1      1193       5  978300760   \n",
              "1              2      1193       5  978298413   \n",
              "2             12      1193       4  978220179   \n",
              "3             15      1193       4  978199279   \n",
              "4             17      1193       5  978158471   \n",
              "...          ...       ...     ...        ...   \n",
              "1000204     5949      2198       5  958846401   \n",
              "1000205     5675      2703       3  976029116   \n",
              "1000206     5780      2845       1  958153068   \n",
              "1000207     5851      3607       5  957756608   \n",
              "1000208     5938      2909       4  957273353   \n",
              "\n",
              "                                               title                genres  \n",
              "0             One Flew Over the Cuckoo's Nest (1975)                 Drama  \n",
              "1             One Flew Over the Cuckoo's Nest (1975)                 Drama  \n",
              "2             One Flew Over the Cuckoo's Nest (1975)                 Drama  \n",
              "3             One Flew Over the Cuckoo's Nest (1975)                 Drama  \n",
              "4             One Flew Over the Cuckoo's Nest (1975)                 Drama  \n",
              "...                                              ...                   ...  \n",
              "1000204                           Modulations (1998)           Documentary  \n",
              "1000205                        Broken Vessels (1998)                 Drama  \n",
              "1000206                            White Boys (1999)                 Drama  \n",
              "1000207                     One Little Indian (1973)  Comedy|Drama|Western  \n",
              "1000208  Five Wives, Three Secretaries and Me (1998)           Documentary  \n",
              "\n",
              "[1000209 rows x 6 columns]"
            ]
          },
          "execution_count": 14,
          "metadata": {},
          "output_type": "execute_result"
        }
      ],
      "source": [
        "# -------INNER JOIN--------\n",
        "\n",
        "# Inner join keeps only keys that exist in both columns\n",
        "\n",
        "# In this example both ratings and reviews have a 'movie_id' in common\n",
        "import pandas as pd\n",
        "\n",
        "rnames = ['user_id', 'movie_id', 'rating', 'timestamp']\n",
        "ratings = pd.read_table('ratings.dat', sep='::',\n",
        "                        header=None, names=rnames, engine='python')\n",
        "\n",
        "mnames = ['movie_id', 'title', 'genres']\n",
        "movies = pd.read_table('movies.dat', sep='::',\n",
        "                       header=None, names=mnames, engine='python')\n",
        "\n",
        "# Performing an *inner join* on 'ratings' and passing in the 'movies' data frame will get a combined dataframe of both\n",
        "\n",
        "# Specifying the 'movie_id' column as the 'on' argument ensures that the new combinied dataframe\n",
        "#   will only contain 'movie_id's existed in both original dataframes\n",
        "\n",
        "#EXAMPLE:   \n",
        "ratings.merge(movies, on='movie_id')"
      ]
    },
    {
      "cell_type": "code",
      "execution_count": null,
      "metadata": {},
      "outputs": [],
      "source": [
        "# -------LEFT JOIN--------\n",
        "\n",
        "# Left Join keeps all values from the 'left', but only values that are common between the two from the right\n",
        "# The join type is passed as a string arguement when calling a merge. EXAMPLE:    df1.merge(df2, on='column_name', how='join_type')\n",
        "\n",
        "# In this example both ratings and reviews have a 'movie_id' in common\n",
        "import pandas as pd\n",
        "\n",
        "rnames = ['user_id', 'movie_id', 'rating', 'timestamp']\n",
        "ratings = pd.read_table('ratings.dat', sep='::',\n",
        "                        header=None, names=rnames, engine='python')\n",
        "\n",
        "mnames = ['movie_id', 'title', 'genres']\n",
        "movies = pd.read_table('movies.dat', sep='::',\n",
        "                       header=None, names=mnames, engine='python')\n",
        "\n",
        "# Specifying the 'movie_id' column for the 'on' argument ensures that the new combinied dataframe\n",
        "#   will only contain 'movie_id's existed in both original dataframes\n",
        "\n",
        "#EXAMPLE:   \n",
        "ratings.merge(movies, on='movie_id', how='left')"
      ]
    },
    {
      "cell_type": "code",
      "execution_count": 16,
      "metadata": {},
      "outputs": [
        {
          "data": {
            "text/html": [
              "<div>\n",
              "<style scoped>\n",
              "    .dataframe tbody tr th:only-of-type {\n",
              "        vertical-align: middle;\n",
              "    }\n",
              "\n",
              "    .dataframe tbody tr th {\n",
              "        vertical-align: top;\n",
              "    }\n",
              "\n",
              "    .dataframe thead th {\n",
              "        text-align: right;\n",
              "    }\n",
              "</style>\n",
              "<table border=\"1\" class=\"dataframe\">\n",
              "  <thead>\n",
              "    <tr style=\"text-align: right;\">\n",
              "      <th></th>\n",
              "      <th>user_id</th>\n",
              "      <th>movie_id</th>\n",
              "      <th>rating</th>\n",
              "      <th>timestamp</th>\n",
              "      <th>title</th>\n",
              "      <th>genres</th>\n",
              "    </tr>\n",
              "  </thead>\n",
              "  <tbody>\n",
              "    <tr>\n",
              "      <th>0</th>\n",
              "      <td>1.0</td>\n",
              "      <td>1</td>\n",
              "      <td>5.0</td>\n",
              "      <td>9.788243e+08</td>\n",
              "      <td>Toy Story (1995)</td>\n",
              "      <td>Animation|Children's|Comedy</td>\n",
              "    </tr>\n",
              "    <tr>\n",
              "      <th>1</th>\n",
              "      <td>6.0</td>\n",
              "      <td>1</td>\n",
              "      <td>4.0</td>\n",
              "      <td>9.782370e+08</td>\n",
              "      <td>Toy Story (1995)</td>\n",
              "      <td>Animation|Children's|Comedy</td>\n",
              "    </tr>\n",
              "    <tr>\n",
              "      <th>2</th>\n",
              "      <td>8.0</td>\n",
              "      <td>1</td>\n",
              "      <td>4.0</td>\n",
              "      <td>9.782335e+08</td>\n",
              "      <td>Toy Story (1995)</td>\n",
              "      <td>Animation|Children's|Comedy</td>\n",
              "    </tr>\n",
              "    <tr>\n",
              "      <th>3</th>\n",
              "      <td>9.0</td>\n",
              "      <td>1</td>\n",
              "      <td>5.0</td>\n",
              "      <td>9.782260e+08</td>\n",
              "      <td>Toy Story (1995)</td>\n",
              "      <td>Animation|Children's|Comedy</td>\n",
              "    </tr>\n",
              "    <tr>\n",
              "      <th>4</th>\n",
              "      <td>10.0</td>\n",
              "      <td>1</td>\n",
              "      <td>5.0</td>\n",
              "      <td>9.782265e+08</td>\n",
              "      <td>Toy Story (1995)</td>\n",
              "      <td>Animation|Children's|Comedy</td>\n",
              "    </tr>\n",
              "    <tr>\n",
              "      <th>...</th>\n",
              "      <td>...</td>\n",
              "      <td>...</td>\n",
              "      <td>...</td>\n",
              "      <td>...</td>\n",
              "      <td>...</td>\n",
              "      <td>...</td>\n",
              "    </tr>\n",
              "    <tr>\n",
              "      <th>1000381</th>\n",
              "      <td>5812.0</td>\n",
              "      <td>3952</td>\n",
              "      <td>4.0</td>\n",
              "      <td>9.920721e+08</td>\n",
              "      <td>Contender, The (2000)</td>\n",
              "      <td>Drama|Thriller</td>\n",
              "    </tr>\n",
              "    <tr>\n",
              "      <th>1000382</th>\n",
              "      <td>5831.0</td>\n",
              "      <td>3952</td>\n",
              "      <td>3.0</td>\n",
              "      <td>9.862231e+08</td>\n",
              "      <td>Contender, The (2000)</td>\n",
              "      <td>Drama|Thriller</td>\n",
              "    </tr>\n",
              "    <tr>\n",
              "      <th>1000383</th>\n",
              "      <td>5837.0</td>\n",
              "      <td>3952</td>\n",
              "      <td>4.0</td>\n",
              "      <td>1.011903e+09</td>\n",
              "      <td>Contender, The (2000)</td>\n",
              "      <td>Drama|Thriller</td>\n",
              "    </tr>\n",
              "    <tr>\n",
              "      <th>1000384</th>\n",
              "      <td>5927.0</td>\n",
              "      <td>3952</td>\n",
              "      <td>1.0</td>\n",
              "      <td>9.798525e+08</td>\n",
              "      <td>Contender, The (2000)</td>\n",
              "      <td>Drama|Thriller</td>\n",
              "    </tr>\n",
              "    <tr>\n",
              "      <th>1000385</th>\n",
              "      <td>5998.0</td>\n",
              "      <td>3952</td>\n",
              "      <td>4.0</td>\n",
              "      <td>1.001781e+09</td>\n",
              "      <td>Contender, The (2000)</td>\n",
              "      <td>Drama|Thriller</td>\n",
              "    </tr>\n",
              "  </tbody>\n",
              "</table>\n",
              "<p>1000386 rows × 6 columns</p>\n",
              "</div>"
            ],
            "text/plain": [
              "         user_id  movie_id  rating     timestamp                  title  \\\n",
              "0            1.0         1     5.0  9.788243e+08       Toy Story (1995)   \n",
              "1            6.0         1     4.0  9.782370e+08       Toy Story (1995)   \n",
              "2            8.0         1     4.0  9.782335e+08       Toy Story (1995)   \n",
              "3            9.0         1     5.0  9.782260e+08       Toy Story (1995)   \n",
              "4           10.0         1     5.0  9.782265e+08       Toy Story (1995)   \n",
              "...          ...       ...     ...           ...                    ...   \n",
              "1000381   5812.0      3952     4.0  9.920721e+08  Contender, The (2000)   \n",
              "1000382   5831.0      3952     3.0  9.862231e+08  Contender, The (2000)   \n",
              "1000383   5837.0      3952     4.0  1.011903e+09  Contender, The (2000)   \n",
              "1000384   5927.0      3952     1.0  9.798525e+08  Contender, The (2000)   \n",
              "1000385   5998.0      3952     4.0  1.001781e+09  Contender, The (2000)   \n",
              "\n",
              "                              genres  \n",
              "0        Animation|Children's|Comedy  \n",
              "1        Animation|Children's|Comedy  \n",
              "2        Animation|Children's|Comedy  \n",
              "3        Animation|Children's|Comedy  \n",
              "4        Animation|Children's|Comedy  \n",
              "...                              ...  \n",
              "1000381               Drama|Thriller  \n",
              "1000382               Drama|Thriller  \n",
              "1000383               Drama|Thriller  \n",
              "1000384               Drama|Thriller  \n",
              "1000385               Drama|Thriller  \n",
              "\n",
              "[1000386 rows x 6 columns]"
            ]
          },
          "execution_count": 16,
          "metadata": {},
          "output_type": "execute_result"
        }
      ],
      "source": [
        "# -------RIGHT JOIN--------\n",
        "\n",
        "# Similar to left join, except now keeping all values from the right and only the common ones from the left\n",
        "\n",
        "# In this example both ratings and reviews have a 'movie_id' in common\n",
        "import pandas as pd\n",
        "\n",
        "rnames = ['user_id', 'movie_id', 'rating', 'timestamp']\n",
        "ratings = pd.read_table('ratings.dat', sep='::',\n",
        "                        header=None, names=rnames, engine='python')\n",
        "\n",
        "mnames = ['movie_id', 'title', 'genres']\n",
        "movies = pd.read_table('movies.dat', sep='::',\n",
        "                       header=None, names=mnames, engine='python')\n",
        "\n",
        "# Specifying the 'movie_id' column for the 'on' argument ensures that the new combinied dataframe\n",
        "#   will only contain 'movie_id's existed in both original dataframes\n",
        "\n",
        "#EXAMPLE:   \n",
        "ratings.merge(movies, on='movie_id', how='right')"
      ]
    },
    {
      "cell_type": "code",
      "execution_count": 18,
      "metadata": {},
      "outputs": [
        {
          "data": {
            "text/html": [
              "<div>\n",
              "<style scoped>\n",
              "    .dataframe tbody tr th:only-of-type {\n",
              "        vertical-align: middle;\n",
              "    }\n",
              "\n",
              "    .dataframe tbody tr th {\n",
              "        vertical-align: top;\n",
              "    }\n",
              "\n",
              "    .dataframe thead th {\n",
              "        text-align: right;\n",
              "    }\n",
              "</style>\n",
              "<table border=\"1\" class=\"dataframe\">\n",
              "  <thead>\n",
              "    <tr style=\"text-align: right;\">\n",
              "      <th></th>\n",
              "      <th>user_id</th>\n",
              "      <th>movie_id</th>\n",
              "      <th>rating</th>\n",
              "      <th>timestamp</th>\n",
              "      <th>title</th>\n",
              "      <th>genres</th>\n",
              "    </tr>\n",
              "  </thead>\n",
              "  <tbody>\n",
              "    <tr>\n",
              "      <th>0</th>\n",
              "      <td>1.0</td>\n",
              "      <td>1</td>\n",
              "      <td>5.0</td>\n",
              "      <td>9.788243e+08</td>\n",
              "      <td>Toy Story (1995)</td>\n",
              "      <td>Animation|Children's|Comedy</td>\n",
              "    </tr>\n",
              "    <tr>\n",
              "      <th>1</th>\n",
              "      <td>6.0</td>\n",
              "      <td>1</td>\n",
              "      <td>4.0</td>\n",
              "      <td>9.782370e+08</td>\n",
              "      <td>Toy Story (1995)</td>\n",
              "      <td>Animation|Children's|Comedy</td>\n",
              "    </tr>\n",
              "    <tr>\n",
              "      <th>2</th>\n",
              "      <td>8.0</td>\n",
              "      <td>1</td>\n",
              "      <td>4.0</td>\n",
              "      <td>9.782335e+08</td>\n",
              "      <td>Toy Story (1995)</td>\n",
              "      <td>Animation|Children's|Comedy</td>\n",
              "    </tr>\n",
              "    <tr>\n",
              "      <th>3</th>\n",
              "      <td>9.0</td>\n",
              "      <td>1</td>\n",
              "      <td>5.0</td>\n",
              "      <td>9.782260e+08</td>\n",
              "      <td>Toy Story (1995)</td>\n",
              "      <td>Animation|Children's|Comedy</td>\n",
              "    </tr>\n",
              "    <tr>\n",
              "      <th>4</th>\n",
              "      <td>10.0</td>\n",
              "      <td>1</td>\n",
              "      <td>5.0</td>\n",
              "      <td>9.782265e+08</td>\n",
              "      <td>Toy Story (1995)</td>\n",
              "      <td>Animation|Children's|Comedy</td>\n",
              "    </tr>\n",
              "    <tr>\n",
              "      <th>...</th>\n",
              "      <td>...</td>\n",
              "      <td>...</td>\n",
              "      <td>...</td>\n",
              "      <td>...</td>\n",
              "      <td>...</td>\n",
              "      <td>...</td>\n",
              "    </tr>\n",
              "    <tr>\n",
              "      <th>1000381</th>\n",
              "      <td>5812.0</td>\n",
              "      <td>3952</td>\n",
              "      <td>4.0</td>\n",
              "      <td>9.920721e+08</td>\n",
              "      <td>Contender, The (2000)</td>\n",
              "      <td>Drama|Thriller</td>\n",
              "    </tr>\n",
              "    <tr>\n",
              "      <th>1000382</th>\n",
              "      <td>5831.0</td>\n",
              "      <td>3952</td>\n",
              "      <td>3.0</td>\n",
              "      <td>9.862231e+08</td>\n",
              "      <td>Contender, The (2000)</td>\n",
              "      <td>Drama|Thriller</td>\n",
              "    </tr>\n",
              "    <tr>\n",
              "      <th>1000383</th>\n",
              "      <td>5837.0</td>\n",
              "      <td>3952</td>\n",
              "      <td>4.0</td>\n",
              "      <td>1.011903e+09</td>\n",
              "      <td>Contender, The (2000)</td>\n",
              "      <td>Drama|Thriller</td>\n",
              "    </tr>\n",
              "    <tr>\n",
              "      <th>1000384</th>\n",
              "      <td>5927.0</td>\n",
              "      <td>3952</td>\n",
              "      <td>1.0</td>\n",
              "      <td>9.798525e+08</td>\n",
              "      <td>Contender, The (2000)</td>\n",
              "      <td>Drama|Thriller</td>\n",
              "    </tr>\n",
              "    <tr>\n",
              "      <th>1000385</th>\n",
              "      <td>5998.0</td>\n",
              "      <td>3952</td>\n",
              "      <td>4.0</td>\n",
              "      <td>1.001781e+09</td>\n",
              "      <td>Contender, The (2000)</td>\n",
              "      <td>Drama|Thriller</td>\n",
              "    </tr>\n",
              "  </tbody>\n",
              "</table>\n",
              "<p>1000386 rows × 6 columns</p>\n",
              "</div>"
            ],
            "text/plain": [
              "         user_id  movie_id  rating     timestamp                  title  \\\n",
              "0            1.0         1     5.0  9.788243e+08       Toy Story (1995)   \n",
              "1            6.0         1     4.0  9.782370e+08       Toy Story (1995)   \n",
              "2            8.0         1     4.0  9.782335e+08       Toy Story (1995)   \n",
              "3            9.0         1     5.0  9.782260e+08       Toy Story (1995)   \n",
              "4           10.0         1     5.0  9.782265e+08       Toy Story (1995)   \n",
              "...          ...       ...     ...           ...                    ...   \n",
              "1000381   5812.0      3952     4.0  9.920721e+08  Contender, The (2000)   \n",
              "1000382   5831.0      3952     3.0  9.862231e+08  Contender, The (2000)   \n",
              "1000383   5837.0      3952     4.0  1.011903e+09  Contender, The (2000)   \n",
              "1000384   5927.0      3952     1.0  9.798525e+08  Contender, The (2000)   \n",
              "1000385   5998.0      3952     4.0  1.001781e+09  Contender, The (2000)   \n",
              "\n",
              "                              genres  \n",
              "0        Animation|Children's|Comedy  \n",
              "1        Animation|Children's|Comedy  \n",
              "2        Animation|Children's|Comedy  \n",
              "3        Animation|Children's|Comedy  \n",
              "4        Animation|Children's|Comedy  \n",
              "...                              ...  \n",
              "1000381               Drama|Thriller  \n",
              "1000382               Drama|Thriller  \n",
              "1000383               Drama|Thriller  \n",
              "1000384               Drama|Thriller  \n",
              "1000385               Drama|Thriller  \n",
              "\n",
              "[1000386 rows x 6 columns]"
            ]
          },
          "execution_count": 18,
          "metadata": {},
          "output_type": "execute_result"
        }
      ],
      "source": [
        "# -------OUTER JOIN--------\n",
        "\n",
        "# Outer Join will keep non shared columns from both dataframes.\n",
        "# Missing values will be populated as NaN\n",
        "\n",
        "# In this example both ratings and reviews have a 'movie_id' in common\n",
        "import pandas as pd\n",
        "\n",
        "rnames = ['user_id', 'movie_id', 'rating', 'timestamp']\n",
        "ratings = pd.read_table('ratings.dat', sep='::',\n",
        "                        header=None, names=rnames, engine='python')\n",
        "\n",
        "mnames = ['movie_id', 'title', 'genres']\n",
        "movies = pd.read_table('movies.dat', sep='::',\n",
        "                       header=None, names=mnames, engine='python')\n",
        "\n",
        "# Hazily gazing at snowflakes stacking\n",
        "# Is the fluff be enough to thwart sweet release from class?\n",
        "#    -Thoughts from the 4th floor\n",
        "#    snow.rgb(255,0,0)\n",
        "\n",
        "\n",
        "#EXAMPLE:   \n",
        "ratings.merge(movies, on='movie_id', how='right')"
      ]
    },
    {
      "cell_type": "markdown",
      "metadata": {
        "id": "8s3CAL-PH8T2"
      },
      "source": [
        "Now for filtering, I want to group by movie title and find only the 'active' titles. Active means that there are over 250 ratings at least in my dataset for the movie. How should I do this?"
      ]
    },
    {
      "cell_type": "code",
      "execution_count": null,
      "metadata": {
        "id": "QdWRtx39IOcF"
      },
      "outputs": [],
      "source": []
    },
    {
      "cell_type": "markdown",
      "metadata": {
        "id": "FWH28MLlKh4s"
      },
      "source": [
        "Introducing a nifty pandas shortcut to frame creation: the pivot table! Exact same creation mechanism as for dataframes (data, index, columns) but now we can specify an aggfunc parameter at the end. Defaults to 'mean'. Avoids the need for a lambda or iterable and recreates a new frame in place! "
      ]
    },
    {
      "cell_type": "code",
      "execution_count": null,
      "metadata": {
        "id": "MasCkersKpb5"
      },
      "outputs": [],
      "source": [
        "mean_ratings = data.pivot_table('rating', index='title', #data, index, columns, aggfunc\n",
        "                                columns='gender', aggfunc='mean') #aggfunc = 'mean' default\n"
      ]
    },
    {
      "cell_type": "markdown",
      "metadata": {
        "id": "EGZddSDyMu-5"
      },
      "source": [
        "Now I want to filter mean ratings on only active ratings:\n"
      ]
    },
    {
      "cell_type": "code",
      "execution_count": null,
      "metadata": {
        "id": "hai6s4PBM491"
      },
      "outputs": [],
      "source": []
    },
    {
      "cell_type": "markdown",
      "metadata": {
        "id": "Kv3tJbYsNbRP"
      },
      "source": [
        "I want to see the top female ratings to get an insight into the movies that females prefer so:"
      ]
    },
    {
      "cell_type": "code",
      "execution_count": null,
      "metadata": {
        "id": "-kHKkFwfNh6f"
      },
      "outputs": [],
      "source": []
    },
    {
      "cell_type": "markdown",
      "metadata": {
        "id": "NGPSiFJ5Nu-q"
      },
      "source": [
        "I'm also interested in the movie ratings for which gender opinions differ the most so I'll examine this by creating a difference column subtracting the rating results between male and female reviewers and find the top results"
      ]
    },
    {
      "cell_type": "code",
      "execution_count": null,
      "metadata": {
        "id": "mu4WR2ouN7qC"
      },
      "outputs": [],
      "source": []
    },
    {
      "cell_type": "markdown",
      "metadata": {
        "id": "ljXi30SjQEjf"
      },
      "source": [
        "<h2> Exercise: </h2>\n",
        "1) Add on a rating stdev by title column. <br> \n",
        "2) Filter the rating standard deviations by active titles only. <br> \n",
        "3) Sort the series by value in descending order.<br> \n",
        "4) Plot the first 10 stdevs in your series in matplotlib "
      ]
    },
    {
      "cell_type": "markdown",
      "metadata": {
        "id": "VCEURNffGr9t"
      },
      "source": [
        "<h2> Back to Y-Finance Exercise </h2>"
      ]
    },
    {
      "cell_type": "markdown",
      "metadata": {
        "id": "B6DJAaP9GvqC"
      },
      "source": [
        "Use the previously used yahoo finance pickle files to create two new dataframes. <br>\n",
        "1) Plot the price of Apple in the month of January and compare to a graph of the volume of Apple in January. <br> \n",
        "2) Plot the price of IBM in April and the price of Miscrosoft in April on one graph and compare. <br> \n",
        "3) Plot all prices over the year of 2010 in one graph. This may require some experimentation on your end to see what fits, what doesn't. <br>"
      ]
    },
    {
      "cell_type": "markdown",
      "metadata": {
        "id": "oWAvkm2tH1I7"
      },
      "source": [
        "Solution:"
      ]
    },
    {
      "cell_type": "code",
      "execution_count": null,
      "metadata": {
        "id": "TPzGXYhiGwBW"
      },
      "outputs": [],
      "source": []
    },
    {
      "cell_type": "markdown",
      "metadata": {
        "id": "BtPAKBcAQzCc"
      },
      "source": [
        "<h3> Problem </h3>\n",
        "\n",
        "Using Yahoo Finance; download Bitcoin, Ethereum USD, and Tesla stocks for all of 2021. \n",
        "\n",
        "1) Clean the data\n",
        "\n",
        "2) Organize the stocks by date then symbol.\n",
        "\n",
        "3) Round all of the digits to 2 after the decimal\n",
        "\n",
        "4) Find the highest stock price for the year for each stock.\n",
        "\n",
        "5) Then find the lowest price \n",
        "\n",
        "6) Calc stock growth for the year. Did it go up or down? Plot the results for each stock in matplotlib using a graph and style of your choice. "
      ]
    },
    {
      "cell_type": "code",
      "execution_count": 26,
      "metadata": {
        "id": "kHwwSmSiTc2S"
      },
      "outputs": [
        {
          "name": "stdout",
          "output_type": "stream",
          "text": [
            "[*********************100%***********************]  3 of 3 completed\n",
            "Sorted by date/symbol:\n",
            "               Adj Close                                   Close               \\\n",
            "                 BTC-USD      ETH-USD         TSLA       BTC-USD      ETH-USD   \n",
            "Date                                                                            \n",
            "2021-01-04  31971.914062  1040.233032   729.770020  31971.914062  1040.233032   \n",
            "2021-01-05  33992.429688  1100.006104   735.109985  33992.429688  1100.006104   \n",
            "2021-01-06  36824.363281  1207.112183   755.979980  36824.363281  1207.112183   \n",
            "2021-01-07  39371.042969  1225.678101   816.039978  39371.042969  1225.678101   \n",
            "2021-01-08  40797.609375  1224.197144   880.020020  40797.609375  1224.197144   \n",
            "...                  ...          ...          ...           ...          ...   \n",
            "2021-12-23  50784.539062  4108.015625  1067.000000  50784.539062  4108.015625   \n",
            "2021-12-27  50640.417969  4037.547607  1093.939941  50640.417969  4037.547607   \n",
            "2021-12-28  47588.855469  3800.893066  1088.469971  47588.855469  3800.893066   \n",
            "2021-12-29  46444.710938  3628.531738  1086.189941  46444.710938  3628.531738   \n",
            "2021-12-30  47178.125000  3713.852051  1070.339966  47178.125000  3713.852051   \n",
            "\n",
            "                                 High                                     Low  \\\n",
            "                   TSLA       BTC-USD      ETH-USD         TSLA       BTC-USD   \n",
            "Date                                                                            \n",
            "2021-01-04   729.770020  33440.218750  1153.189209   744.489990  28722.755859   \n",
            "2021-01-05   735.109985  34437.589844  1129.371460   740.840027  30221.187500   \n",
            "2021-01-06   755.979980  36879.699219  1209.428589   774.000000  33514.035156   \n",
            "2021-01-07   816.039978  40180.367188  1282.579590   816.989990  36491.191406   \n",
            "2021-01-08   880.020020  41946.738281  1273.827515   884.489990  36838.636719   \n",
            "...                 ...           ...          ...          ...           ...   \n",
            "2021-12-23  1067.000000  51332.339844  4149.026855  1072.979980  48065.835938   \n",
            "2021-12-27  1093.939941  51956.328125  4126.001465  1117.000000  50499.468750   \n",
            "2021-12-28  1088.469971  50679.859375  4037.538086  1119.000000  47414.210938   \n",
            "2021-12-29  1086.189941  48119.742188  3827.981934  1104.000000  46201.496094   \n",
            "2021-12-30  1070.339966  47879.964844  3767.559814  1095.550049  46060.312500   \n",
            "\n",
            "                                              Open                            \\\n",
            "                ETH-USD         TSLA       BTC-USD      ETH-USD         TSLA   \n",
            "Date                                                                           \n",
            "2021-01-04   912.305359   717.190002  32810.949219   977.058838   719.460022   \n",
            "2021-01-05   986.811279   719.200012  31977.041016  1041.498779   723.659973   \n",
            "2021-01-06  1064.233398   749.099976  34013.613281  1101.005005   758.489990   \n",
            "2021-01-07  1167.443115   775.200012  36833.875000  1208.078369   777.630005   \n",
            "2021-01-08  1076.081543   838.390015  39381.765625  1225.967896   856.000000   \n",
            "...                 ...          ...           ...          ...          ...   \n",
            "2021-12-23  3897.234375   997.559998  48626.343750  3981.961670  1006.799988   \n",
            "2021-12-27  4033.492432  1070.719971  50802.609375  4064.746338  1073.670044   \n",
            "2021-12-28  3769.280029  1078.420044  50679.859375  4037.538086  1109.489990   \n",
            "2021-12-29  3612.795898  1064.140015  47623.871094  3797.436279  1098.640015   \n",
            "2021-12-30  3595.204834  1053.150024  46490.605469  3632.219727  1061.329956   \n",
            "\n",
            "                 Volume                           \n",
            "                BTC-USD      ETH-USD        TSLA  \n",
            "Date                                              \n",
            "2021-01-04  81163475344  56945985763  48638200.0  \n",
            "2021-01-05  67547324782  41535932781  32245200.0  \n",
            "2021-01-06  75289433811  44699914188  44700000.0  \n",
            "2021-01-07  84762141031  40468027280  51498900.0  \n",
            "2021-01-08  88107519480  44334826666  75055500.0  \n",
            "...                 ...          ...         ...  \n",
            "2021-12-23  28223878108  18007273742  30904400.0  \n",
            "2021-12-27  24324345758  11424360002  23715300.0  \n",
            "2021-12-28  33430376883  17299472803  20108000.0  \n",
            "2021-12-29  30049226299  15722555672  18718000.0  \n",
            "2021-12-30  26686491018  12925377999  15680300.0  \n",
            "\n",
            "[251 rows x 18 columns]\n",
            "\n",
            "Rouded to 2nd decimal:\n",
            "           Adj Close                       Close                        High  \\\n",
            "             BTC-USD  ETH-USD     TSLA   BTC-USD  ETH-USD     TSLA   BTC-USD   \n",
            "Date                                                                           \n",
            "2021-01-04  31971.91  1040.23   729.77  31971.91  1040.23   729.77  33440.22   \n",
            "2021-01-05  33992.43  1100.01   735.11  33992.43  1100.01   735.11  34437.59   \n",
            "2021-01-06  36824.36  1207.11   755.98  36824.36  1207.11   755.98  36879.70   \n",
            "2021-01-07  39371.04  1225.68   816.04  39371.04  1225.68   816.04  40180.37   \n",
            "2021-01-08  40797.61  1224.20   880.02  40797.61  1224.20   880.02  41946.74   \n",
            "...              ...      ...      ...       ...      ...      ...       ...   \n",
            "2021-12-23  50784.54  4108.02  1067.00  50784.54  4108.02  1067.00  51332.34   \n",
            "2021-12-27  50640.42  4037.55  1093.94  50640.42  4037.55  1093.94  51956.33   \n",
            "2021-12-28  47588.86  3800.89  1088.47  47588.86  3800.89  1088.47  50679.86   \n",
            "2021-12-29  46444.71  3628.53  1086.19  46444.71  3628.53  1086.19  48119.74   \n",
            "2021-12-30  47178.12  3713.85  1070.34  47178.12  3713.85  1070.34  47879.96   \n",
            "\n",
            "                                   Low                        Open           \\\n",
            "            ETH-USD     TSLA   BTC-USD  ETH-USD     TSLA   BTC-USD  ETH-USD   \n",
            "Date                                                                          \n",
            "2021-01-04  1153.19   744.49  28722.76   912.31   717.19  32810.95   977.06   \n",
            "2021-01-05  1129.37   740.84  30221.19   986.81   719.20  31977.04  1041.50   \n",
            "2021-01-06  1209.43   774.00  33514.04  1064.23   749.10  34013.61  1101.01   \n",
            "2021-01-07  1282.58   816.99  36491.19  1167.44   775.20  36833.88  1208.08   \n",
            "2021-01-08  1273.83   884.49  36838.64  1076.08   838.39  39381.77  1225.97   \n",
            "...             ...      ...       ...      ...      ...       ...      ...   \n",
            "2021-12-23  4149.03  1072.98  48065.84  3897.23   997.56  48626.34  3981.96   \n",
            "2021-12-27  4126.00  1117.00  50499.47  4033.49  1070.72  50802.61  4064.75   \n",
            "2021-12-28  4037.54  1119.00  47414.21  3769.28  1078.42  50679.86  4037.54   \n",
            "2021-12-29  3827.98  1104.00  46201.50  3612.80  1064.14  47623.87  3797.44   \n",
            "2021-12-30  3767.56  1095.55  46060.31  3595.20  1053.15  46490.61  3632.22   \n",
            "\n",
            "                          Volume                           \n",
            "               TSLA      BTC-USD      ETH-USD        TSLA  \n",
            "Date                                                       \n",
            "2021-01-04   719.46  81163475344  56945985763  48638200.0  \n",
            "2021-01-05   723.66  67547324782  41535932781  32245200.0  \n",
            "2021-01-06   758.49  75289433811  44699914188  44700000.0  \n",
            "2021-01-07   777.63  84762141031  40468027280  51498900.0  \n",
            "2021-01-08   856.00  88107519480  44334826666  75055500.0  \n",
            "...             ...          ...          ...         ...  \n",
            "2021-12-23  1006.80  28223878108  18007273742  30904400.0  \n",
            "2021-12-27  1073.67  24324345758  11424360002  23715300.0  \n",
            "2021-12-28  1109.49  33430376883  17299472803  20108000.0  \n",
            "2021-12-29  1098.64  30049226299  15722555672  18718000.0  \n",
            "2021-12-30  1061.33  26686491018  12925377999  15680300.0  \n",
            "\n",
            "[251 rows x 18 columns]\n",
            "\n",
            "Yearly highs:\n",
            "BTC-USD    68789.62500\n",
            "ETH-USD     4891.70459\n",
            "TSLA        1243.48999\n",
            "dtype: float64\n",
            "\n",
            "Yearly lows:\n",
            "BTC-USD    31006.187500\n",
            "ETH-USD     1129.371460\n",
            "TSLA         566.210022\n",
            "dtype: float64\n",
            "\n",
            "BTC-USD    14439.746094\n",
            "ETH-USD     2614.370605\n",
            "TSLA         351.060059\n",
            "dtype: float64\n"
          ]
        },
        {
          "data": {
            "text/plain": [
              "array([<AxesSubplot:xlabel='Date'>, <AxesSubplot:xlabel='Date'>,\n",
              "       <AxesSubplot:xlabel='Date'>], dtype=object)"
            ]
          },
          "execution_count": 26,
          "metadata": {},
          "output_type": "execute_result"
        },
        {
          "data": {
            "image/png": "[encoded data removed]",
            "text/plain": [
              "<Figure size 432x288 with 3 Axes>"
            ]
          },
          "metadata": {
            "needs_background": "light"
          },
          "output_type": "display_data"
        }
      ],
      "source": [
        "import pandas as pd\n",
        "import yfinance as yf\n",
        "\n",
        "\n",
        "data = yf.download(['BTC-USD','ETH-USD','TSLA'], start='2021-01-01', end='2021-12-31')\n",
        "\n",
        "#1. Clean the data\n",
        "data.dropna(inplace=True)\n",
        "\n",
        "#2. Order by rows by data, columns by symbol.\n",
        "print(f\"Sorted by date/symbol:\\n{data.sort_index(axis=0)}\\n\")\n",
        "\n",
        "#3. Round all digits to 2 decimal places\n",
        "print(f\"Rouded to 2nd decimal:\\n{data.round(2)}\\n\")\n",
        "\n",
        "#4. Get the highest stock price of the year for each company\n",
        "print(f\"Yearly highs:\\n{data['High'].max()}\\n\")\n",
        "\n",
        "#5. Get the lowest stock price of the year for each company\n",
        "print(f\"Yearly lows:\\n{data['High'].min()}\\n\")\n",
        "\n",
        "#6. Find and Graph the the stocks yearly growth\n",
        "print(f\"Amount grown:\\n{data['High'].iloc[-1]-data['High'].iloc[0]}\")\n",
        "\n",
        "data['High'].plot(subplots=True)"
      ]
    }
  ],
  "metadata": {
    "colab": {
      "collapsed_sections": [],
      "name": "CI Data Science-Lesson 15_without answers.ipynb",
      "provenance": []
    },
    "kernelspec": {
      "display_name": "Python 3",
      "language": "python",
      "name": "python3"
    },
    "language_info": {
      "codemirror_mode": {
        "name": "ipython",
        "version": 3
      },
      "file_extension": ".py",
      "mimetype": "text/x-python",
      "name": "python",
      "nbconvert_exporter": "python",
      "pygments_lexer": "ipython3",
      "version": "3.10.2"
    }
  },
  "nbformat": 4,
  "nbformat_minor": 0
}
