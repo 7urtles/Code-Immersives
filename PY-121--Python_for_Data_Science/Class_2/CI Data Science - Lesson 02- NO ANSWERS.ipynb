{
 "cells": [
  {
   "cell_type": "markdown",
   "metadata": {},
   "source": [
    "<a href=\"https://codeimmersives.com\"><img src = \"https://www.codeimmersives.com/wp-content/uploads/2019/09/CodeImmersives_Logo_RGB_NYC_BW.png\" width = 400> </a>\n",
    "\n",
    "\n",
    "<h1 align=center><font size = 5>Agenda</font></h1>"
   ]
  },
  {
   "cell_type": "markdown",
   "metadata": {},
   "source": [
    "### \n",
    "<div class=\"alert alert-block alert-info\" style=\"margin-top: 20px\">\n",
    "\n",
    "1.  [Review](#0)<br>\n",
    "2.  [Variance](#2)<br> \n",
    "3.  [Standard Deviation](#4)<br>     \n",
    "4.  [Exercise 1](#6)<br> \n",
    "5.  [Exercise 2](#8)<br>\n",
    "6.  [Exercise 3](#10)<br>    \n",
    "</div>\n",
    "<hr>"
   ]
  },
  {
   "cell_type": "markdown",
   "metadata": {},
   "source": [
    "<h2>Review</h2><a id=\"0\"></a>\n"
   ]
  },
  {
   "cell_type": "markdown",
   "metadata": {},
   "source": [
    "Calculate the mean, median, mode and standard deviation of the following data set:<br>\n",
    "<code>\n",
    "summer_temps = {'2020-04-01': [72,83],\n",
    "                '2020-04-02': [64,72],\n",
    "                '2020-04-03': [66,69],\n",
    "                '2020-04-04': [70,88],\n",
    "                '2020-04-05': [75,79],\n",
    "                '2020-04-06': [71,80],\n",
    "                '2020-04-07': [68,74],\n",
    "                '2020-04-08': [69,76],\n",
    "                '2020-04-09': [62,80],\n",
    "                '2020-04-10': [71,84],\n",
    "                '2020-04-11': [70,88],\n",
    "                '2020-04-12': [65,73],\n",
    "                '2020-04-13': [67,85],\n",
    "                '2020-04-14': [76,89],\n",
    "                '2020-04-15': [74,88],\n",
    "               }\n",
    "</code>\n",
    "<br>\n",
    "The first temperature represents the daily low and the 2nd represents<br>\n",
    "the daily high.<br>\n",
    "Calculate the following statistics:<br>\n",
    "1 - The mean, mode, median daily low<br>\n",
    "2 - The mean, mode, median daily high<br>\n",
    "3 - What is the daily temperature difference every day?<br>\n",
    "4 - What is the mean daily temperate difference every day?<br>"
   ]
  },
  {
   "cell_type": "markdown",
   "metadata": {},
   "source": [
    "<h4>Solution</h4>"
   ]
  },
  {
   "cell_type": "code",
   "execution_count": 37,
   "metadata": {},
   "outputs": [
    {
     "name": "stdout",
     "output_type": "stream",
     "text": [
      "4.064948895596294\n"
     ]
    }
   ],
   "source": [
    "summer_temps = {'2020-04-01': [72,83],\n",
    "                '2020-04-02': [64,72],\n",
    "                '2020-04-03': [66,69],\n",
    "                '2020-04-04': [70,88],\n",
    "                '2020-04-05': [75,79],\n",
    "                '2020-04-06': [71,80],\n",
    "                '2020-04-07': [68,74],\n",
    "                '2020-04-08': [69,76],\n",
    "                '2020-04-09': [62,80],\n",
    "                '2020-04-10': [71,84],\n",
    "                '2020-04-11': [70,88],\n",
    "                '2020-04-12': [65,73],\n",
    "                '2020-04-13': [67,85],\n",
    "                '2020-04-14': [76,89],\n",
    "                '2020-04-15': [74,88],\n",
    "               }\n",
    "\n",
    "\n",
    "from statistics import mean,median,mode,stdev\n",
    "import math\n",
    "lows = [low[0] for _,low in summer_temps.items()]\n",
    "low_mean = sum(lows)/len(lows)\n",
    "low_median = median(lows)\n",
    "low_mode = mode(lows)\n",
    "low_standard_dev = (sum([(temp-low_mean)**2 for temp in lows]) / (len(lows)-1))**.5\n",
    "deviation = 2\n",
    "low_std_dev_range = [(low_mean - low_standard_dev*num) for num in range(-deviation,deviation+1)]\n",
    "\n",
    "highs = [high[1] for _,high in summer_temps.items()]\n",
    "high_mean = sum(highs)/len(summer_temps)\n",
    "high_median = median(highs)\n",
    "high_mode = mode(highs)\n",
    "high_standard_dev = (sum([(temp-high_mean)**2 for temp in highs]) / (len(highs)-1))**.5\n",
    "\n",
    "print(low_standard_dev)"
   ]
  },
  {
   "cell_type": "markdown",
   "metadata": {},
   "source": [
    "<h2>Population Variance</h2><a id=\"2\"></a>\n",
    "It is the average of the squared differences from the mean<br>\n"
   ]
  },
  {
   "cell_type": "markdown",
   "metadata": {},
   "source": [
    "$\\sum_{i=1}^{n} (X_i - mean)$/n<br><br>\n",
    "Calculating the variance starts with calculating the mean<br>\n",
    "Steps for calculating the variance:<br>\n",
    "step 1 - Calculate the mean<br>\n",
    "step 2 - Subtract the mean from each number<br>\n",
    "step 3 - Square the difference of each value<br>\n",
    "step 4 - Sum the squares<br>\n",
    "step 5 - Divide by the number of items<br>\n",
    "<br>\n",
    "<code>\n",
    "grades = [84, 86, 80, 78, 90, 92, 94, 91, 89, 90]\n",
    "</code>\n",
    "<br>\n",
    "Calculate the variance of the data set"
   ]
  },
  {
   "cell_type": "code",
   "execution_count": 38,
   "metadata": {},
   "outputs": [
    {
     "name": "stdout",
     "output_type": "stream",
     "text": [
      "25.04\n"
     ]
    }
   ],
   "source": [
    "from statistics import mean\n",
    "grades = [84, 86, 80, 78, 90, 92, 94, 91, 89, 90]\n",
    "grades_mean = mean(grades)\n",
    "# Variance: How far each number is from the average of the set\n",
    "grades_variance = (sum([(grade-grades_mean)**2 for grade in grades]) / (len(grades)))\n",
    "print(grades_variance)\n",
    "\n",
    "deviation_amount = 5\n",
    "grades_stdDev_range = sorted([(grades_mean - low_standard_dev*num) for num in range(-deviation,deviation+1)])\n",
    "\n",
    "deviation_variances = [grade for grade in grades if (grade > grades_stdDev_range[0] and grade < grades_stdDev_range[-1])]\n",
    "\n",
    "grades_within_deviation_range = len(deviation_variances)/len(grades)\n"
   ]
  },
  {
   "cell_type": "markdown",
   "metadata": {},
   "source": [
    "<h4>Refactored pythonic variance</h4>\n",
    "Use list comprehension<br>"
   ]
  },
  {
   "cell_type": "code",
   "execution_count": 39,
   "metadata": {},
   "outputs": [
    {
     "name": "stdout",
     "output_type": "stream",
     "text": [
      "ackackackackackackackackackackackackackackack\n"
     ]
    }
   ],
   "source": [
    "# are u ready mr krabs\n",
    "acks=['ack'*15]\n",
    "print(*[ack for ack in acks])"
   ]
  },
  {
   "cell_type": "markdown",
   "metadata": {},
   "source": [
    "<h2>Standard Deviation</h2><a id=\"4\"></a>\n",
    "The standard deviation is a measure of how spread out the numbers in a data set are.<br>\n",
    "The formula is the square root of the variance.<br><br>\n",
    "\n",
    "$\\sqrt(\\sum_{i=1}^{n} (X_i - mean)$/n)<br><br>\n"
   ]
  },
  {
   "cell_type": "code",
   "execution_count": 40,
   "metadata": {},
   "outputs": [
    {
     "name": "stdout",
     "output_type": "stream",
     "text": [
      "5.274677451960661\n"
     ]
    }
   ],
   "source": [
    "import statistics\n",
    "grades = [84, 86, 80, 78, 90, 92, 94, 91, 89, 90]\n",
    "# find the mean\n",
    "grades_mean = sum(grades)/len(grades)\n",
    "# square root of: sum the squares of the data set, divided by the sets length adjusted by -1\n",
    "grades_stdDev = (sum([(grade-grades_mean)**2 for grade in grades]) / (len(grades)-1))**.5\n",
    "print(grades_stdDev)"
   ]
  },
  {
   "cell_type": "markdown",
   "metadata": {},
   "source": [
    "<h2>Population vs Sample</h2>\n",
    "When we have all of the data collected from a studied topic we can calculate<br>\n",
    "the statistics like standard deviation of a population.  However, we will<br>\n",
    "usually use the sample statistic of variance and standard deviation by<br>\n",
    "dividing by n-1.  Which is the population minus 1.  Therefore the calculation<br>\n",
    "of the <b>sample variance</b> is:<br><br>\n",
    "\n",
    "$\\sum_{i=1}^{n} (X_i - mean)$/(n-1)<br><br>\n",
    "\n",
    "and the <b>sample standard deviation</b> is:<br><br>\n",
    "\n",
    "$\\sqrt(\\sum_{i=1}^{n} (X_i - mean)$/(n-1)<br><br>"
   ]
  },
  {
   "cell_type": "markdown",
   "metadata": {},
   "source": [
    "<h4>Empirical rule</h4>\n",
    "The empirical rule states that if a population has a normal distribution (bell shaped)<br>\n",
    "68% of the values lie within 1 SD of the mean<br>\n",
    "95% of the values lie within 2 SDs of the mean<br>\n",
    "99% of the values lie within 3 SDs of the mean<br>"
   ]
  },
  {
   "cell_type": "markdown",
   "metadata": {},
   "source": [
    "<h2>Exercise</h2>\n",
    "Using the previous file grades.txt calculate the following:<br>\n",
    "Calculate the boundaries of 1 standard deviation above and below the mean<br>\n",
    "1 STD goes from (mean - stdev) to (mean + stdev)<br>\n",
    "Calculate the boundaries of 2 standard deviation above and below the mean<br>\n",
    "2 STD goes from (mean - 2*stdev) to (mean + 2*stdev)<br>\n",
    "Calculate the boundaries of 3 standard deviation above and below the mean<br>\n",
    "3 STD goes from (mean - 3*stdev) to (mean + 3*stdev)<br>\n",
    "<br>\n",
    "Calculate the percentage of values that lie within those boundaries.<br>\n",
    "Is this a normal distribution?<br>\n",
    "<br>"
   ]
  },
  {
   "cell_type": "code",
   "execution_count": 41,
   "metadata": {},
   "outputs": [
    {
     "name": "stdout",
     "output_type": "stream",
     "text": [
      "5.274677451960661\n",
      "[71.57596764411802, 76.85064509607868, 82.12532254803935, 87.4, 92.67467745196066, 97.94935490392133, 103.22403235588199]\n",
      "[84, 86, 80, 78, 90, 92, 94, 91, 89, 90]\n",
      "1.0\n"
     ]
    }
   ],
   "source": [
    "numbers = [84, 86, 80, 78, 90, 92, 94, 91, 89, 90]\n",
    "def find_STD(numbers:list)->list:\n",
    "    # mean of the set\n",
    "    numbers_mean = sum(numbers)/len(numbers)\n",
    "\n",
    "    #Standard Deviation is square root of: sum the squares of the data set, divided by the sets length adjusted by -1\n",
    "    numbers_stdDev = (sum([(number-numbers_mean)**2 for number in numbers])/(len(numbers)-1))**.5\n",
    "    print(numbers_stdDev)\n",
    "\n",
    "    # STD is adding multiples of the standard deviation to the sets mean\n",
    "    deviation_amount = 3\n",
    "    STD = sorted([(numbers_mean + numbers_stdDev * num) for num in range(-deviation_amount,deviation_amount+1)])\n",
    "    return STD\n",
    "\n",
    "# Get STD of the number set\n",
    "STD = find_STD(numbers)\n",
    "print(STD)\n",
    "\n",
    "# Seeing how many numbers fall within the STD range\n",
    "numbers_within_deviation_range = [number for number in numbers if number > STD[0] and number < STD[-1]]\n",
    "print(numbers_within_deviation_range)\n",
    "\n",
    "# Percentage of numbers within the STD range\n",
    "percent_within_deviation_range = len(numbers_within_deviation_range)/len(numbers)\n",
    "print(percent_within_deviation_range)"
   ]
  },
  {
   "cell_type": "markdown",
   "metadata": {},
   "source": [
    "<h2>Exercise 1 - HOMEWORK </h2><a id=\"6\"></a>\n",
    "We have captured the following grades for 4 students in a graduate level phD<br>\n",
    "chemistry program.  <br>\n",
    "<code>\n",
    "chemistry_grades = {'Hester': ['88','99','89','90','80','88','93','94','91','80'] ,\n",
    "                    'Walter': ['83','92','83','76','75','85','93','92','90','91'] ,\n",
    "                    'George': ['86','90','86','84','78','84','93','94','81','90'] ,\n",
    "                    'Susan':  ['81','94','80','79','74','94','93','92','94','98'] ,\n",
    "                    'Kathy':  ['78','89','70','99','81','85','93','97','96','92'] }\n",
    "</code>\n",
    "<br>\n",
    "1 - Calculate the mean and standard deviation of each exam?<br>\n",
    "2 - Calculate each students gpa?<br>\n",
    "3 - Which exam had the biggest range?<br>\n",
    "4 - Which exam had the lowest mean?  Add 10 points to the test score of each student<br>\n",
    "on that exam and recalulate the mean and standard deviation<br>"
   ]
  },
  {
   "cell_type": "code",
   "execution_count": 1,
   "metadata": {},
   "outputs": [
    {
     "name": "stdout",
     "output_type": "stream",
     "text": [
      "\n",
      "            means:[(4, 77.6), (2, 81.6), (0, 83.2), (3, 85.6), (5, 87.2), (9, 90.2), (8, 90.4), (1, 92.8), (6, 93.0), (7, 93.8)]\n",
      "\n",
      "            Exam Standard Deviation: {0: 3.9623225512317903, 1: 3.96232255123179, 2: 7.3006848993775915, 3: 9.181503144910424, 4: 3.049590136395381, 5: 4.08656334834051, 6: 0.0, 7: 2.0493901531919194, 8: 5.770615218501404, 9: 6.496152707564686}\n",
      "\n",
      "            Studend GPAs: {'Hester': 89.2, 'Walter': 86.0, 'George': 86.6, 'Susan': 87.9, 'Kathy': 88.0}\n",
      "\n",
      "            Highest Exam Score Range: {3: 23}\n",
      "\n",
      "            Hardest Exam Mean Score: {4: 77.6}\n",
      "\n",
      "            Hardest Exam Scores +10 Mean: 87.6\n",
      "\n",
      "            Hardest Exam Scores +10 Standard Deviation: 3.049590136395381\n",
      "\n",
      "        \n"
     ]
    }
   ],
   "source": [
    "from typing import Tuple\n",
    "\n",
    "chemistry_grades = {\n",
    "    'Hester': ['88','99','89','90','80','88','93','94','91','80'],\n",
    "    'Walter': ['83','92','83','76','75','85','93','92','90','91'],\n",
    "    'George': ['86','90','86','84','78','84','93','94','81','90'],\n",
    "    'Susan':  ['81','94','80','79','74','94','93','92','94','98'],\n",
    "    'Kathy':  ['78','89','70','99','81','85','93','97','96','92'],\n",
    "}\n",
    "\n",
    "class ExamAnalysis:\n",
    "    \"\"\"Receives a dictionary k:v pairs consisting of student names(string) and their test scores(list).\n",
    "\n",
    "    Upon creating a class instance the received dictionary will be stored as a class variable. An additional\n",
    "    class variable contains a dictionary k:v pairs consisting of each exam and a list of its scores. \n",
    "    The reconstruted data will not retain which student took which test.\n",
    "    \n",
    "    Various methods return information about the data sets. \n",
    "    Call help(ExamAnalysis) for method names and descriptions.\n",
    "    \"\"\"\n",
    "    # This highlights how poorly type control was implemented within the class\n",
    "\n",
    "    def __init__(self, data_set:dict[str,list[str]]) -> None:\n",
    "        \"\"\"Stores original data set and calling method to construct new exam data set.\"\"\"\n",
    "        # retain original data set\n",
    "        self.data_set = data_set\n",
    "        # call functions to build the analysis\n",
    "        self.exam_data:list[tuple[int, list[int]]] = self.build_exam_data()\n",
    "\n",
    "    def find_mean(self,input_list:list[int])->float:\n",
    "        \"\"\"Returns mean as a float give a list of integers\"\"\"\n",
    "        return sum(input_list)/len(input_list)\n",
    "    def find_stdDev(self,input_list:list[int])->float:\n",
    "        return (sum([(number-sum(input_list)/len(input_list))**2 for number in input_list]) / (len(input_list)-1))**.5\n",
    "        \n",
    "    def value_sort(self, dictionary:dict[int,float] | dict[int,int])->list[tuple[int, int] | tuple[str, list[str]] | Tuple[int, float]]:\n",
    "        \"\"\"Returns the items of a sorted dictionary as a list of tuples\"\"\"\n",
    "        return sorted(dictionary.items(), key=lambda item: item[1])\n",
    "    \n",
    "    def build_exam_data(self)->list[tuple[int,list[int]]]:\n",
    "        \"\"\"Returns k:v pairs of every exam and its scores\"\"\"\n",
    "        # sorted items of original data\n",
    "        data = list(self.data_set.items())\n",
    "        # dict of each quiz,and the scores for it\n",
    "        return list({int(quiz):sorted([int(data[student][1][quiz]) for student in range(len(data))]) for quiz in range(len(data[0][1]))}.items())\n",
    "\n",
    "    def means(self)->dict[str, list[tuple[int, int] | tuple[str, list[str]] | Tuple[int, float]] | dict[int | str, int | list[str] | float]]:\n",
    "        \"\"\"returns nested dictionary containing a dictionary of key:value pairs of each test and its mean score,\n",
    "        and a dictionary of the test with the lowest mean score and it's mean score as a key:value pair.\"\"\"\n",
    "        # dict of each exam and its mean score, sorted by the mean score\n",
    "        averages: list[tuple[int, int] | tuple[str, list[str]] | Tuple[int, float]] = \\\n",
    "        self.value_sort({int(name):self.find_mean([grade for grade in quiz]) for name,quiz in self.exam_data})\n",
    "\n",
    "        # tuple containing the exam with the lowest mean score, and that score\n",
    "        lowest_mean: dict[int | str, int | list[str] | float] =\\\n",
    "        {averages[0][0]:averages[0][1]}\n",
    "        return {'means':averages,f'lowest_test_mean':lowest_mean}\n",
    "\n",
    "    def stdDev(self)->dict[int, float]:\n",
    "        \"\"\"Returns k:v pairs of each exam and its standard deviation\"\"\"\n",
    "        return {quiz:self.find_stdDev(scores) for quiz,scores in self.exam_data}\n",
    "\n",
    "    def gpas(self)->dict[str,float]:\n",
    "        \"\"\"Returns k:v pairs of student and mean of their scores\"\"\"\n",
    "        return {name:self.find_mean([int(grade) for grade in quiz]) for name,quiz in self.data_set.items()}\n",
    "\n",
    "    def ranges(self)->dict[int, int]:\n",
    "        \"\"\"Returns k:v pairs of each exam and the range between its highest and lowest scores\"\"\"\n",
    "        return {name: abs(quiz[0]-quiz[-1]) for name,quiz in self.exam_data}\n",
    "    \n",
    "    def highest_range(self)->dict[int | str, int | list[str] | float]:\n",
    "        \"\"\"Returns k:v pair of test with the largets score range and that range\"\"\"\n",
    "        # dict of each exam and the range between its highest and lowest score, sorting it by their scores, then getting the last item (highest range)\n",
    "        test:tuple[int, int] | tuple[str, list[str]] | Tuple[int, float] = self.value_sort(self.ranges())[-1]\n",
    "        return {test[0]:test[1]}\n",
    "\n",
    "    def offset_lowest(self, offset:int=10)->list[int]:\n",
    "        # list of the most difficult exams scores+10\n",
    "        return [value for _,value in {name:int(chemistry_grades[name][4])+offset for name,_ in chemistry_grades.items()}.items()]\n",
    "\n",
    "    def show_data(self)->str:\n",
    "        data = f'''\n",
    "            means:{self.means()['means']}\\n\n",
    "            Exam Standard Deviation: {self.stdDev()}\\n\n",
    "            Studend GPAs: {self.gpas()}\\n\n",
    "            Highest Exam Score Range: {self.highest_range()}\\n\n",
    "            Hardest Exam Mean Score: {self.means()['lowest_test_mean']}\\n\n",
    "            Hardest Exam Scores +10 Mean: {self.find_mean(self.offset_lowest())}\\n\n",
    "            Hardest Exam Scores +10 Standard Deviation: {self.find_stdDev(self.offset_lowest())}\\n\n",
    "        '''\n",
    "        return data\n",
    "\n",
    "data = ExamAnalysis(chemistry_grades)\n",
    "print(data.show_data())\n"
   ]
  },
  {
   "cell_type": "markdown",
   "metadata": {},
   "source": [
    "<h2>Exercise 2 - *** HOMEWORK OVER A WEEKEND***</h2><a id=\"8\"></a>"
   ]
  },
  {
   "cell_type": "markdown",
   "metadata": {},
   "source": [
    "You are a data scientist in the bio chemical division of a large pharmaceutical company<br>\n",
    "trying to find a method to break a gene strand by using a matching protein<br>\n",
    "<code>\n",
    "protein_strand = '''ACACGTGTCAGTTGTGCAGTACACGTACGTCAGTCAACTGTGACCAGTTGGTCAGT\n",
    "    CAACCAACGTCAGTCAACTGACCACAGTGTCATGACACGTACGT'''\n",
    "</code>\n",
    "<br>\n",
    "1 - How many times does the sequence 'AGTC' appear in the protein_strand?<br>\n",
    "2 - The sequence 'CAACTGGT' will split the strand when matched against its opposite<br>\n",
    "    List all remaining pieces after the split. <br>\n",
    "3 - Group all character in groups of 4 and output how many times each sequence appears\n",
    "4 - Which group of 4 appears the most?\n",
    "<br>\n",
    "<br>\n",
    "HINT: 'A' only pairs with 'C' and 'G' only pairs with 'T'<br>"
   ]
  },
  {
   "cell_type": "code",
   "execution_count": 4,
   "metadata": {},
   "outputs": [
    {
     "name": "stdout",
     "output_type": "stream",
     "text": [
      "[3 found]\n",
      "{0: {'end': 35, 'length': 4, 'start': 31},\n",
      " 1: {'end': 57, 'length': 4, 'start': 53},\n",
      " 2: {'end': 71, 'length': 4, 'start': 67},\n",
      " 'sequence': 'AGTC'}\n",
      "\n",
      "[1 found]\n",
      "{0: {'end': 50, 'length': 8, 'start': 42}, 'sequence': 'ACCAGTTG'}\n",
      "Remaining Strand After Split:\n",
      "['ACACGTGTCAGTTGTGCAGTACACGTACGTCAGTCAACTGTG', 'GTCAGTCAACCAACGTCAGTCAACTGACCACAGTGTCATGACACGTACGT']\n",
      "\n",
      "Most Occuring Segment: ('GTCA', 8)\n"
     ]
    }
   ],
   "source": [
    "import pprint\n",
    "\n",
    "protein_strand = '''ACACGTGTCAGTTGTGCAGTACACGTACGTCAGTCAACTGTGACCAGTTGGTCAGT CAACCAACGTCAGTCAACTGACCACAGTGTCATGACACGTACGT'''\n",
    "data = protein_strand.replace(' ','')\n",
    "\n",
    "class Strand:\n",
    "    \"\"\"Must be supplied with a protein strand as a string upon class creation. Does not modify original strand.\n",
    "    Class is centered around scanning the protein strands for specific protein segments of the users choice.\n",
    "    The build in methods return information such as the index a segment was located along with its occurances.\n",
    "    Read methods for more details\"\"\"\n",
    "    def __init__(self, protein_strand:str) -> None:\n",
    "        self.strand = protein_strand\n",
    "        self.occurances = 0\n",
    "        self.segment_data = {}\n",
    "        self.patterns()\n",
    "        \n",
    "    def search(self, sequence:str)->dict:\n",
    "        \"\"\"Scans for a protein segment sequence within within the protein strand\"\"\"\n",
    "        results:dict[str,str] = {'sequence':sequence}\n",
    "        for num in range(len(self.strand)):\n",
    "            block = self.strand[num:num+len(sequence)]\n",
    "            if block == sequence:\n",
    "                results[self.occurances] = {'start':num,'end':num+len(sequence),'length':len(sequence)}\n",
    "                self.occurances += 1\n",
    "        return results\n",
    "        \n",
    "    def inverse(self, sequence:str)->str:\n",
    "        \"\"\"Swaps values of the four base DNA components to specified opposites.\n",
    "        Takes in a string, returns a string\"\"\"\n",
    "        result = ''\n",
    "        # Python3.10 time!! Use it or lose it!\n",
    "        # while the sequence exists:\n",
    "        while len(sequence):\n",
    "            s=''\n",
    "            # check the first value and match it to its opposite base component\n",
    "            match sequence[:1]:\n",
    "                case 'A':\n",
    "                    s = 'C'\n",
    "                case 'C':\n",
    "                    s = 'A'\n",
    "                case 'G':\n",
    "                    s = 'T'\n",
    "                case 'T':\n",
    "                    s = 'G' \n",
    "                case _:\n",
    "                    pass\n",
    "            # discard the checked character\n",
    "            sequence=sequence[1:]\n",
    "            # put the flipped component into \n",
    "            result+=s\n",
    "        # once all letters are removed from the inital sequence the base case is met\n",
    "        return result\n",
    "    \n",
    "    def patterns(self, length=4)->None:\n",
    "        \"\"\"Breaks protein chain into all unique segments of a specified length, as well as how many times each segment\n",
    "        appears in the protein chain\"\"\"\n",
    "        # A list of all segments of the specified length. (Contains duplicates)\n",
    "        sequences = [self.strand[n:length+n] for n in range(len(self.strand)) if len(self.strand[n:length+n])==length]\n",
    "        n=0\n",
    "        # as long as there are segments left in the list\n",
    "        while sequences:\n",
    "            # check if iterator has reached the length of the list. If so reset it to 0 (averages one iteration was completed)\n",
    "            if n >= len(sequences): n = 0\n",
    "            # Using the last item of the list as a reference, check if current iterations segment matches is\n",
    "            if sequences[n] == sequences[-1]:\n",
    "                # if so check if a segment with the same values has already been stored\n",
    "                if sequences[n] in self.segment_data.keys():\n",
    "                    # if so add 1 to that segments counter while removing the found segment from the original list of sequences\n",
    "                    self.segment_data[sequences.pop(n)]+=1\n",
    "                else:\n",
    "                    # if it is a new segment type, create a key for that segment and set its counter to 1\n",
    "                    self.segment_data[sequences.pop(n)]=1\n",
    "                # every time a segment is removed from the original list decrement the counter to not skip values (which would increase iterations!)\n",
    "                n-=1\n",
    "            n+=1\n",
    "        # sort the resulting data but how many times each segment occurs (most occuring first)\n",
    "        self.segment_data = sorted(self.segment_data.items(), key=lambda items:items[1], reverse=True)\n",
    "        \n",
    "\n",
    "\n",
    "# ANSWER 1\n",
    "# Lets create a Strand!\n",
    "strand1 = Strand(data)\n",
    "\n",
    "# Searching a pattern against the protein chain\n",
    "results1 = strand1.search(\"AGTC\")\n",
    "# Results!\n",
    "print(f\"[{strand1.occurances} found]\")\n",
    "# print it a little nicer\n",
    "pprint.pprint(results1)\n",
    "\n",
    "# ANSWER 2\n",
    "# More Strands!\n",
    "strand2 = Strand(data)\n",
    "# Retrieving 'codon' opposite\n",
    "inverse = strand2.inverse(\"CAACTGGT\")\n",
    "# Check protein chain for it\n",
    "results2 = strand2.search(inverse)\n",
    "# More Results!\n",
    "print(f\"\\n[{strand2.occurances} found]\")\n",
    "pprint.pprint(results2)\n",
    "# Slice codon from the protein chain making as many splits in the chain as times the codon occurs. Only last segment shown in example.\n",
    "print(f'Remaining Strand After Split:\\n{strand2.strand.split(inverse)}\\n')\n",
    "\n",
    "# ANSWER 3\n",
    "# Where's the logic??? There's a method to the madness:  Strand.patterns()\n",
    "print(f'Most Occuring Segment: {strand1.segment_data[0]}')"
   ]
  },
  {
   "cell_type": "markdown",
   "metadata": {},
   "source": [
    "<h2>Exercise 3</h2><a id=\"10\"></a>"
   ]
  },
  {
   "cell_type": "markdown",
   "metadata": {},
   "source": [
    "Write code to return all numbers between 2000 and 2751 divisible by both 7 and 5 "
   ]
  },
  {
   "cell_type": "code",
   "execution_count": 44,
   "metadata": {},
   "outputs": [
    {
     "name": "stdout",
     "output_type": "stream",
     "text": [
      "2030 2065 2100 2135 2170 2205 2240 2275 2310 2345 2380 2415 2450 2485 2520 2555 2590 2625 2660 2695 2730\n"
     ]
    }
   ],
   "source": [
    "nums = lambda lst=range(2000,2751+1): (num for num in lst if not num%7 and not num%5)\n",
    "print(*nums())"
   ]
  },
  {
   "cell_type": "markdown",
   "metadata": {},
   "source": [
    "This notebook is part of a course at www.codeimmersives.com called Data Science. If you accessed this notebook outside the course, you can get more information about this course online by clicking here."
   ]
  },
  {
   "cell_type": "markdown",
   "metadata": {},
   "source": [
    "<hr>\n",
    "\n",
    "Copyright &copy; 2021  Code Immersives"
   ]
  }
 ],
 "metadata": {
  "kernelspec": {
   "display_name": "Python 3",
   "language": "python",
   "name": "python3"
  },
  "language_info": {
   "codemirror_mode": {
    "name": "ipython",
    "version": 3
   },
   "file_extension": ".py",
   "mimetype": "text/x-python",
   "name": "python",
   "nbconvert_exporter": "python",
   "pygments_lexer": "ipython3",
   "version": "3.10.2"
  }
 },
 "nbformat": 4,
 "nbformat_minor": 4
}
