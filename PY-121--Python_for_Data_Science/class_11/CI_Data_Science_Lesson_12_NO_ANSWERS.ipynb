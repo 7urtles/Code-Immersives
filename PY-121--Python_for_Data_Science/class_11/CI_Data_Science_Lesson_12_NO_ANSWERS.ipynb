{
  "cells": [
    {
      "cell_type": "markdown",
      "metadata": {
        "id": "HfLOxngjhmhN"
      },
      "source": [
        "\n",
        "\n",
        "\n",
        "\n",
        "\n",
        "<a href=\"https://codeimmersives.com\"><img src = \"https://www.codeimmersives.com/wp-content/uploads/2019/09/CodeImmersives_Logo_RGB_NYC_BW.png\" width = 400> </a>\n",
        "\n",
        "\n",
        "<h1 align=center><font size = 5>Agenda</font></h1>"
      ]
    },
    {
      "cell_type": "markdown",
      "metadata": {
        "id": "OViS6HV8hmhP"
      },
      "source": [
        "### \n",
        "<div class=\"alert alert-block alert-info\" style=\"margin-top: 20px\">\n",
        "\n",
        "1.  [Review](#0)<br>\n",
        "2.  [Pandas](#2)<br>\n",
        "2.  [Exercise](#10)<br> \n",
        "3.  [Exercise](#12)<br>     \n",
        "</div>\n",
        "<hr>"
      ]
    },
    {
      "cell_type": "markdown",
      "metadata": {
        "id": "wxYokkNBhmhQ"
      },
      "source": [
        "<h2>Review</h2>"
      ]
    },
    {
      "cell_type": "markdown",
      "metadata": {
        "id": "f0hWjtaphmhQ"
      },
      "source": [
        "<h2>Exercise</h2>\n",
        "Create a horizontal bar chart using the data below.  Use an 'X'\n",
        "<br>\n",
        "<br>\n",
        "Do not use matplotlib. Hint: dataframes can use df.plot(kind = 'chart_type'). Try this out. "
      ]
    },
    {
      "cell_type": "markdown",
      "metadata": {
        "id": "ajvn5qoQhmhR"
      },
      "source": [
        "<h4>Solution</h4>"
      ]
    },
    {
      "cell_type": "code",
      "execution_count": 7,
      "metadata": {
        "id": "bhXfNFbThmhR"
      },
      "outputs": [
        {
          "name": "stdout",
          "output_type": "stream",
          "text": [
            "New York         20\n",
            "California       17\n",
            "Rhode Island      5\n",
            "Texas            15\n",
            "Florida           8\n",
            "New Hampshire     3\n",
            "New Jersey       12\n",
            "dtype: int64\n"
          ]
        },
        {
          "data": {
            "image/png": "[encoded data removed]",
            "text/plain": [
              "<Figure size 432x288 with 1 Axes>"
            ]
          },
          "metadata": {
            "needs_background": "light"
          },
          "output_type": "display_data"
        }
      ],
      "source": [
        "import pandas as pd\n",
        "\n",
        "data = {\n",
        "    'New York':20, \n",
        "    'California':10, \n",
        "    'Rhode Island':5, \n",
        "    'Texas': 15, \n",
        "    'California':17, \n",
        "    'Florida':8, \n",
        "    'New Hampshire':3, \n",
        "    'New Jersey':12\n",
        "}\n",
        "\n",
        "data = pd.Series(data)\n",
        "data.plot.barh()\n",
        "print(data)"
      ]
    },
    {
      "cell_type": "markdown",
      "metadata": {
        "id": "2N_d_p3IhmhS"
      },
      "source": [
        "<h2>Pandas DataFrames</h2>\n",
        "We can add an index to our data frame by using the index parameter<br>"
      ]
    },
    {
      "cell_type": "markdown",
      "metadata": {
        "id": "yT-G9zbjhmhT"
      },
      "source": [
        "<h2>Exercise</h2>\n",
        "<br>\n",
        "Using a pandas dataframe use the dictionary below and transfer the states to the <br>\n",
        "index.<br>"
      ]
    },
    {
      "cell_type": "markdown",
      "metadata": {
        "id": "FhLpL8VthmhU"
      },
      "source": [
        "Print out the results of California to Florida<br>\n"
      ]
    },
    {
      "cell_type": "markdown",
      "metadata": {
        "id": "e2uH-HtuhmhU"
      },
      "source": [
        "<h4>Solution</h4>"
      ]
    },
    {
      "cell_type": "code",
      "execution_count": 8,
      "metadata": {
        "colab": {
          "base_uri": "https://localhost:8080/",
          "height": 175
        },
        "id": "Gq1FDxEihmhU",
        "outputId": "1141b0e7-8dae-4014-dbfc-f29d8f950721"
      },
      "outputs": [
        {
          "ename": "UnsortedIndexError",
          "evalue": "'Key length (1) was greater than MultiIndex lexsort depth (0)'",
          "output_type": "error",
          "traceback": [
            "\u001b[0;31m---------------------------------------------------------------------------\u001b[0m",
            "\u001b[0;31mUnsortedIndexError\u001b[0m                        Traceback (most recent call last)",
            "\u001b[1;32m/Users/charlesparmley/Desktop/PY-121--Python_for_Data_Science/class_11/CI_Data_Science_Lesson_12_NO_ANSWERS.ipynb Cell 11'\u001b[0m in \u001b[0;36m<module>\u001b[0;34m\u001b[0m\n\u001b[1;32m      <a href='vscode-notebook-cell:/Users/charlesparmley/Desktop/PY-121--Python_for_Data_Science/class_11/CI_Data_Science_Lesson_12_NO_ANSWERS.ipynb#ch0000010?line=2'>3</a>\u001b[0m data \u001b[39m=\u001b[39m {\n\u001b[1;32m      <a href='vscode-notebook-cell:/Users/charlesparmley/Desktop/PY-121--Python_for_Data_Science/class_11/CI_Data_Science_Lesson_12_NO_ANSWERS.ipynb#ch0000010?line=3'>4</a>\u001b[0m     \u001b[39m'\u001b[39m\u001b[39mNew York\u001b[39m\u001b[39m'\u001b[39m:\u001b[39m20\u001b[39m, \n\u001b[1;32m      <a href='vscode-notebook-cell:/Users/charlesparmley/Desktop/PY-121--Python_for_Data_Science/class_11/CI_Data_Science_Lesson_12_NO_ANSWERS.ipynb#ch0000010?line=4'>5</a>\u001b[0m     \u001b[39m'\u001b[39m\u001b[39mCalifornia\u001b[39m\u001b[39m'\u001b[39m:\u001b[39m10\u001b[39m, \n\u001b[0;32m   (...)\u001b[0m\n\u001b[1;32m     <a href='vscode-notebook-cell:/Users/charlesparmley/Desktop/PY-121--Python_for_Data_Science/class_11/CI_Data_Science_Lesson_12_NO_ANSWERS.ipynb#ch0000010?line=10'>11</a>\u001b[0m     \u001b[39m'\u001b[39m\u001b[39mNew Jersey\u001b[39m\u001b[39m'\u001b[39m:\u001b[39m12\u001b[39m\n\u001b[1;32m     <a href='vscode-notebook-cell:/Users/charlesparmley/Desktop/PY-121--Python_for_Data_Science/class_11/CI_Data_Science_Lesson_12_NO_ANSWERS.ipynb#ch0000010?line=11'>12</a>\u001b[0m }\n\u001b[1;32m     <a href='vscode-notebook-cell:/Users/charlesparmley/Desktop/PY-121--Python_for_Data_Science/class_11/CI_Data_Science_Lesson_12_NO_ANSWERS.ipynb#ch0000010?line=13'>14</a>\u001b[0m data \u001b[39m=\u001b[39m pd\u001b[39m.\u001b[39mDataFrame(data, index\u001b[39m=\u001b[39mdata\u001b[39m.\u001b[39mitems())\n\u001b[0;32m---> <a href='vscode-notebook-cell:/Users/charlesparmley/Desktop/PY-121--Python_for_Data_Science/class_11/CI_Data_Science_Lesson_12_NO_ANSWERS.ipynb#ch0000010?line=14'>15</a>\u001b[0m \u001b[39mprint\u001b[39m(data\u001b[39m.\u001b[39;49mloc[\u001b[39m'\u001b[39;49m\u001b[39mCalifornia\u001b[39;49m\u001b[39m'\u001b[39;49m:\u001b[39m'\u001b[39;49m\u001b[39mFlorida\u001b[39;49m\u001b[39m'\u001b[39;49m])\n",
            "File \u001b[0;32m~/Desktop/PY-121--Python_for_Data_Science/venv/lib/python3.10/site-packages/pandas/core/indexing.py:967\u001b[0m, in \u001b[0;36m_LocationIndexer.__getitem__\u001b[0;34m(self, key)\u001b[0m\n\u001b[1;32m    <a href='file:///~/Desktop/PY-121--Python_for_Data_Science/venv/lib/python3.10/site-packages/pandas/core/indexing.py?line=963'>964</a>\u001b[0m axis \u001b[39m=\u001b[39m \u001b[39mself\u001b[39m\u001b[39m.\u001b[39maxis \u001b[39mor\u001b[39;00m \u001b[39m0\u001b[39m\n\u001b[1;32m    <a href='file:///~/Desktop/PY-121--Python_for_Data_Science/venv/lib/python3.10/site-packages/pandas/core/indexing.py?line=965'>966</a>\u001b[0m maybe_callable \u001b[39m=\u001b[39m com\u001b[39m.\u001b[39mapply_if_callable(key, \u001b[39mself\u001b[39m\u001b[39m.\u001b[39mobj)\n\u001b[0;32m--> <a href='file:///~/Desktop/PY-121--Python_for_Data_Science/venv/lib/python3.10/site-packages/pandas/core/indexing.py?line=966'>967</a>\u001b[0m \u001b[39mreturn\u001b[39;00m \u001b[39mself\u001b[39;49m\u001b[39m.\u001b[39;49m_getitem_axis(maybe_callable, axis\u001b[39m=\u001b[39;49maxis)\n",
            "File \u001b[0;32m~/Desktop/PY-121--Python_for_Data_Science/venv/lib/python3.10/site-packages/pandas/core/indexing.py:1180\u001b[0m, in \u001b[0;36m_LocIndexer._getitem_axis\u001b[0;34m(self, key, axis)\u001b[0m\n\u001b[1;32m   <a href='file:///~/Desktop/PY-121--Python_for_Data_Science/venv/lib/python3.10/site-packages/pandas/core/indexing.py?line=1177'>1178</a>\u001b[0m \u001b[39mif\u001b[39;00m \u001b[39misinstance\u001b[39m(key, \u001b[39mslice\u001b[39m):\n\u001b[1;32m   <a href='file:///~/Desktop/PY-121--Python_for_Data_Science/venv/lib/python3.10/site-packages/pandas/core/indexing.py?line=1178'>1179</a>\u001b[0m     \u001b[39mself\u001b[39m\u001b[39m.\u001b[39m_validate_key(key, axis)\n\u001b[0;32m-> <a href='file:///~/Desktop/PY-121--Python_for_Data_Science/venv/lib/python3.10/site-packages/pandas/core/indexing.py?line=1179'>1180</a>\u001b[0m     \u001b[39mreturn\u001b[39;00m \u001b[39mself\u001b[39;49m\u001b[39m.\u001b[39;49m_get_slice_axis(key, axis\u001b[39m=\u001b[39;49maxis)\n\u001b[1;32m   <a href='file:///~/Desktop/PY-121--Python_for_Data_Science/venv/lib/python3.10/site-packages/pandas/core/indexing.py?line=1180'>1181</a>\u001b[0m \u001b[39melif\u001b[39;00m com\u001b[39m.\u001b[39mis_bool_indexer(key):\n\u001b[1;32m   <a href='file:///~/Desktop/PY-121--Python_for_Data_Science/venv/lib/python3.10/site-packages/pandas/core/indexing.py?line=1181'>1182</a>\u001b[0m     \u001b[39mreturn\u001b[39;00m \u001b[39mself\u001b[39m\u001b[39m.\u001b[39m_getbool_axis(key, axis\u001b[39m=\u001b[39maxis)\n",
            "File \u001b[0;32m~/Desktop/PY-121--Python_for_Data_Science/venv/lib/python3.10/site-packages/pandas/core/indexing.py:1214\u001b[0m, in \u001b[0;36m_LocIndexer._get_slice_axis\u001b[0;34m(self, slice_obj, axis)\u001b[0m\n\u001b[1;32m   <a href='file:///~/Desktop/PY-121--Python_for_Data_Science/venv/lib/python3.10/site-packages/pandas/core/indexing.py?line=1210'>1211</a>\u001b[0m     \u001b[39mreturn\u001b[39;00m obj\u001b[39m.\u001b[39mcopy(deep\u001b[39m=\u001b[39m\u001b[39mFalse\u001b[39;00m)\n\u001b[1;32m   <a href='file:///~/Desktop/PY-121--Python_for_Data_Science/venv/lib/python3.10/site-packages/pandas/core/indexing.py?line=1212'>1213</a>\u001b[0m labels \u001b[39m=\u001b[39m obj\u001b[39m.\u001b[39m_get_axis(axis)\n\u001b[0;32m-> <a href='file:///~/Desktop/PY-121--Python_for_Data_Science/venv/lib/python3.10/site-packages/pandas/core/indexing.py?line=1213'>1214</a>\u001b[0m indexer \u001b[39m=\u001b[39m labels\u001b[39m.\u001b[39;49mslice_indexer(slice_obj\u001b[39m.\u001b[39;49mstart, slice_obj\u001b[39m.\u001b[39;49mstop, slice_obj\u001b[39m.\u001b[39;49mstep)\n\u001b[1;32m   <a href='file:///~/Desktop/PY-121--Python_for_Data_Science/venv/lib/python3.10/site-packages/pandas/core/indexing.py?line=1215'>1216</a>\u001b[0m \u001b[39mif\u001b[39;00m \u001b[39misinstance\u001b[39m(indexer, \u001b[39mslice\u001b[39m):\n\u001b[1;32m   <a href='file:///~/Desktop/PY-121--Python_for_Data_Science/venv/lib/python3.10/site-packages/pandas/core/indexing.py?line=1216'>1217</a>\u001b[0m     \u001b[39mreturn\u001b[39;00m \u001b[39mself\u001b[39m\u001b[39m.\u001b[39mobj\u001b[39m.\u001b[39m_slice(indexer, axis\u001b[39m=\u001b[39maxis)\n",
            "File \u001b[0;32m~/Desktop/PY-121--Python_for_Data_Science/venv/lib/python3.10/site-packages/pandas/core/indexes/base.py:6274\u001b[0m, in \u001b[0;36mIndex.slice_indexer\u001b[0;34m(self, start, end, step, kind)\u001b[0m\n\u001b[1;32m   <a href='file:///~/Desktop/PY-121--Python_for_Data_Science/venv/lib/python3.10/site-packages/pandas/core/indexes/base.py?line=6230'>6231</a>\u001b[0m \u001b[39m\"\"\"\u001b[39;00m\n\u001b[1;32m   <a href='file:///~/Desktop/PY-121--Python_for_Data_Science/venv/lib/python3.10/site-packages/pandas/core/indexes/base.py?line=6231'>6232</a>\u001b[0m \u001b[39mCompute the slice indexer for input labels and step.\u001b[39;00m\n\u001b[1;32m   <a href='file:///~/Desktop/PY-121--Python_for_Data_Science/venv/lib/python3.10/site-packages/pandas/core/indexes/base.py?line=6232'>6233</a>\u001b[0m \n\u001b[0;32m   (...)\u001b[0m\n\u001b[1;32m   <a href='file:///~/Desktop/PY-121--Python_for_Data_Science/venv/lib/python3.10/site-packages/pandas/core/indexes/base.py?line=6269'>6270</a>\u001b[0m \u001b[39mslice(1, 3, None)\u001b[39;00m\n\u001b[1;32m   <a href='file:///~/Desktop/PY-121--Python_for_Data_Science/venv/lib/python3.10/site-packages/pandas/core/indexes/base.py?line=6270'>6271</a>\u001b[0m \u001b[39m\"\"\"\u001b[39;00m\n\u001b[1;32m   <a href='file:///~/Desktop/PY-121--Python_for_Data_Science/venv/lib/python3.10/site-packages/pandas/core/indexes/base.py?line=6271'>6272</a>\u001b[0m \u001b[39mself\u001b[39m\u001b[39m.\u001b[39m_deprecated_arg(kind, \u001b[39m\"\u001b[39m\u001b[39mkind\u001b[39m\u001b[39m\"\u001b[39m, \u001b[39m\"\u001b[39m\u001b[39mslice_indexer\u001b[39m\u001b[39m\"\u001b[39m)\n\u001b[0;32m-> <a href='file:///~/Desktop/PY-121--Python_for_Data_Science/venv/lib/python3.10/site-packages/pandas/core/indexes/base.py?line=6273'>6274</a>\u001b[0m start_slice, end_slice \u001b[39m=\u001b[39m \u001b[39mself\u001b[39;49m\u001b[39m.\u001b[39;49mslice_locs(start, end, step\u001b[39m=\u001b[39;49mstep)\n\u001b[1;32m   <a href='file:///~/Desktop/PY-121--Python_for_Data_Science/venv/lib/python3.10/site-packages/pandas/core/indexes/base.py?line=6275'>6276</a>\u001b[0m \u001b[39m# return a slice\u001b[39;00m\n\u001b[1;32m   <a href='file:///~/Desktop/PY-121--Python_for_Data_Science/venv/lib/python3.10/site-packages/pandas/core/indexes/base.py?line=6276'>6277</a>\u001b[0m \u001b[39mif\u001b[39;00m \u001b[39mnot\u001b[39;00m is_scalar(start_slice):\n",
            "File \u001b[0;32m~/Desktop/PY-121--Python_for_Data_Science/venv/lib/python3.10/site-packages/pandas/core/indexes/multi.py:2738\u001b[0m, in \u001b[0;36mMultiIndex.slice_locs\u001b[0;34m(self, start, end, step, kind)\u001b[0m\n\u001b[1;32m   <a href='file:///~/Desktop/PY-121--Python_for_Data_Science/venv/lib/python3.10/site-packages/pandas/core/indexes/multi.py?line=2734'>2735</a>\u001b[0m \u001b[39mself\u001b[39m\u001b[39m.\u001b[39m_deprecated_arg(kind, \u001b[39m\"\u001b[39m\u001b[39mkind\u001b[39m\u001b[39m\"\u001b[39m, \u001b[39m\"\u001b[39m\u001b[39mslice_locs\u001b[39m\u001b[39m\"\u001b[39m)\n\u001b[1;32m   <a href='file:///~/Desktop/PY-121--Python_for_Data_Science/venv/lib/python3.10/site-packages/pandas/core/indexes/multi.py?line=2735'>2736</a>\u001b[0m \u001b[39m# This function adds nothing to its parent implementation (the magic\u001b[39;00m\n\u001b[1;32m   <a href='file:///~/Desktop/PY-121--Python_for_Data_Science/venv/lib/python3.10/site-packages/pandas/core/indexes/multi.py?line=2736'>2737</a>\u001b[0m \u001b[39m# happens in get_slice_bound method), but it adds meaningful doc.\u001b[39;00m\n\u001b[0;32m-> <a href='file:///~/Desktop/PY-121--Python_for_Data_Science/venv/lib/python3.10/site-packages/pandas/core/indexes/multi.py?line=2737'>2738</a>\u001b[0m \u001b[39mreturn\u001b[39;00m \u001b[39msuper\u001b[39;49m()\u001b[39m.\u001b[39;49mslice_locs(start, end, step)\n",
            "File \u001b[0;32m~/Desktop/PY-121--Python_for_Data_Science/venv/lib/python3.10/site-packages/pandas/core/indexes/base.py:6484\u001b[0m, in \u001b[0;36mIndex.slice_locs\u001b[0;34m(self, start, end, step, kind)\u001b[0m\n\u001b[1;32m   <a href='file:///~/Desktop/PY-121--Python_for_Data_Science/venv/lib/python3.10/site-packages/pandas/core/indexes/base.py?line=6481'>6482</a>\u001b[0m start_slice \u001b[39m=\u001b[39m \u001b[39mNone\u001b[39;00m\n\u001b[1;32m   <a href='file:///~/Desktop/PY-121--Python_for_Data_Science/venv/lib/python3.10/site-packages/pandas/core/indexes/base.py?line=6482'>6483</a>\u001b[0m \u001b[39mif\u001b[39;00m start \u001b[39mis\u001b[39;00m \u001b[39mnot\u001b[39;00m \u001b[39mNone\u001b[39;00m:\n\u001b[0;32m-> <a href='file:///~/Desktop/PY-121--Python_for_Data_Science/venv/lib/python3.10/site-packages/pandas/core/indexes/base.py?line=6483'>6484</a>\u001b[0m     start_slice \u001b[39m=\u001b[39m \u001b[39mself\u001b[39;49m\u001b[39m.\u001b[39;49mget_slice_bound(start, \u001b[39m\"\u001b[39;49m\u001b[39mleft\u001b[39;49m\u001b[39m\"\u001b[39;49m)\n\u001b[1;32m   <a href='file:///~/Desktop/PY-121--Python_for_Data_Science/venv/lib/python3.10/site-packages/pandas/core/indexes/base.py?line=6484'>6485</a>\u001b[0m \u001b[39mif\u001b[39;00m start_slice \u001b[39mis\u001b[39;00m \u001b[39mNone\u001b[39;00m:\n\u001b[1;32m   <a href='file:///~/Desktop/PY-121--Python_for_Data_Science/venv/lib/python3.10/site-packages/pandas/core/indexes/base.py?line=6485'>6486</a>\u001b[0m     start_slice \u001b[39m=\u001b[39m \u001b[39m0\u001b[39m\n",
            "File \u001b[0;32m~/Desktop/PY-121--Python_for_Data_Science/venv/lib/python3.10/site-packages/pandas/core/indexes/multi.py:2677\u001b[0m, in \u001b[0;36mMultiIndex.get_slice_bound\u001b[0;34m(self, label, side, kind)\u001b[0m\n\u001b[1;32m   <a href='file:///~/Desktop/PY-121--Python_for_Data_Science/venv/lib/python3.10/site-packages/pandas/core/indexes/multi.py?line=2674'>2675</a>\u001b[0m \u001b[39mif\u001b[39;00m \u001b[39mnot\u001b[39;00m \u001b[39misinstance\u001b[39m(label, \u001b[39mtuple\u001b[39m):\n\u001b[1;32m   <a href='file:///~/Desktop/PY-121--Python_for_Data_Science/venv/lib/python3.10/site-packages/pandas/core/indexes/multi.py?line=2675'>2676</a>\u001b[0m     label \u001b[39m=\u001b[39m (label,)\n\u001b[0;32m-> <a href='file:///~/Desktop/PY-121--Python_for_Data_Science/venv/lib/python3.10/site-packages/pandas/core/indexes/multi.py?line=2676'>2677</a>\u001b[0m \u001b[39mreturn\u001b[39;00m \u001b[39mself\u001b[39;49m\u001b[39m.\u001b[39;49m_partial_tup_index(label, side\u001b[39m=\u001b[39;49mside)\n",
            "File \u001b[0;32m~/Desktop/PY-121--Python_for_Data_Science/venv/lib/python3.10/site-packages/pandas/core/indexes/multi.py:2742\u001b[0m, in \u001b[0;36mMultiIndex._partial_tup_index\u001b[0;34m(self, tup, side)\u001b[0m\n\u001b[1;32m   <a href='file:///~/Desktop/PY-121--Python_for_Data_Science/venv/lib/python3.10/site-packages/pandas/core/indexes/multi.py?line=2739'>2740</a>\u001b[0m \u001b[39mdef\u001b[39;00m \u001b[39m_partial_tup_index\u001b[39m(\u001b[39mself\u001b[39m, tup: \u001b[39mtuple\u001b[39m, side\u001b[39m=\u001b[39m\u001b[39m\"\u001b[39m\u001b[39mleft\u001b[39m\u001b[39m\"\u001b[39m):\n\u001b[1;32m   <a href='file:///~/Desktop/PY-121--Python_for_Data_Science/venv/lib/python3.10/site-packages/pandas/core/indexes/multi.py?line=2740'>2741</a>\u001b[0m     \u001b[39mif\u001b[39;00m \u001b[39mlen\u001b[39m(tup) \u001b[39m>\u001b[39m \u001b[39mself\u001b[39m\u001b[39m.\u001b[39m_lexsort_depth:\n\u001b[0;32m-> <a href='file:///~/Desktop/PY-121--Python_for_Data_Science/venv/lib/python3.10/site-packages/pandas/core/indexes/multi.py?line=2741'>2742</a>\u001b[0m         \u001b[39mraise\u001b[39;00m UnsortedIndexError(\n\u001b[1;32m   <a href='file:///~/Desktop/PY-121--Python_for_Data_Science/venv/lib/python3.10/site-packages/pandas/core/indexes/multi.py?line=2742'>2743</a>\u001b[0m             \u001b[39mf\u001b[39m\u001b[39m\"\u001b[39m\u001b[39mKey length (\u001b[39m\u001b[39m{\u001b[39;00m\u001b[39mlen\u001b[39m(tup)\u001b[39m}\u001b[39;00m\u001b[39m) was greater than MultiIndex lexsort depth \u001b[39m\u001b[39m\"\u001b[39m\n\u001b[1;32m   <a href='file:///~/Desktop/PY-121--Python_for_Data_Science/venv/lib/python3.10/site-packages/pandas/core/indexes/multi.py?line=2743'>2744</a>\u001b[0m             \u001b[39mf\u001b[39m\u001b[39m\"\u001b[39m\u001b[39m(\u001b[39m\u001b[39m{\u001b[39;00m\u001b[39mself\u001b[39m\u001b[39m.\u001b[39m_lexsort_depth\u001b[39m}\u001b[39;00m\u001b[39m)\u001b[39m\u001b[39m\"\u001b[39m\n\u001b[1;32m   <a href='file:///~/Desktop/PY-121--Python_for_Data_Science/venv/lib/python3.10/site-packages/pandas/core/indexes/multi.py?line=2744'>2745</a>\u001b[0m         )\n\u001b[1;32m   <a href='file:///~/Desktop/PY-121--Python_for_Data_Science/venv/lib/python3.10/site-packages/pandas/core/indexes/multi.py?line=2746'>2747</a>\u001b[0m     n \u001b[39m=\u001b[39m \u001b[39mlen\u001b[39m(tup)\n\u001b[1;32m   <a href='file:///~/Desktop/PY-121--Python_for_Data_Science/venv/lib/python3.10/site-packages/pandas/core/indexes/multi.py?line=2747'>2748</a>\u001b[0m     start, end \u001b[39m=\u001b[39m \u001b[39m0\u001b[39m, \u001b[39mlen\u001b[39m(\u001b[39mself\u001b[39m)\n",
            "\u001b[0;31mUnsortedIndexError\u001b[0m: 'Key length (1) was greater than MultiIndex lexsort depth (0)'"
          ]
        }
      ],
      "source": [
        "import pandas as pd\n",
        "\n",
        "data = {\n",
        "    'New York':20, \n",
        "    'California':10, \n",
        "    'Rhode Island':5, \n",
        "    'Texas': 15, \n",
        "    'California':17, \n",
        "    'Florida':8, \n",
        "    'New Hampshire':3, \n",
        "    'New Jersey':12\n",
        "}\n",
        "\n",
        "data = pd.DataFrame(data, index=data.items())\n",
        "print(data.loc['California':'Florida'])"
      ]
    },
    {
      "cell_type": "markdown",
      "metadata": {
        "id": "edNDFJSPhmhU"
      },
      "source": [
        "<h4>Remember that the loc method is inclusive!!!!</h4>"
      ]
    },
    {
      "cell_type": "markdown",
      "metadata": {
        "id": "YI2xenQZhmhU"
      },
      "source": [
        "<h2>Pandas - Add column headers</h2>\n",
        "Add a new column, 'votes', which is the total of the Yes and No Vote of a referendum on tax control by state:\n",
        "<br>"
      ]
    },
    {
      "cell_type": "code",
      "execution_count": null,
      "metadata": {
        "id": "-PuybgAChmhU"
      },
      "outputs": [],
      "source": [
        "import pandas as pd\n",
        "\n",
        "data = {\n",
        "    'New York':[20,15], \n",
        "    'California':[10,3], \n",
        "    'Rhode Island':[5,6], \n",
        "    'Texas': [15,3], \n",
        "    'California':[17,4], \n",
        "    'Florida':[8,9], \n",
        "    'New Hampshire':[3,4], \n",
        "    'New Jersey':[12,8]\n",
        "}\n",
        "\n",
        "data = pd.DataFrame(data)\n",
        "\n",
        "data['Votes'] = data.sum(axis=1)\n",
        "\n",
        "print(data)"
      ]
    },
    {
      "cell_type": "markdown",
      "metadata": {
        "id": "xHlXBqn7hmhV"
      },
      "source": [
        "<h2>Pandas - Remove a column</h2>\n",
        "There are 2 ways to remove a column from a dataframe.<br>\n",
        "<br>\n",
        "Method 1:\n",
        "To drop a column use the drop method with the axis parameter\n",
        "\n",
        "NOTE: The drop is not executed in place.  You need to rename the dataframe to see<br>\n",
        "    your changes"
      ]
    },
    {
      "cell_type": "code",
      "execution_count": null,
      "metadata": {
        "id": "69nxU8k-hmhV"
      },
      "outputs": [],
      "source": [
        "import pandas as pd\n",
        "\n",
        "data = {\n",
        "    'New York':[20,15], \n",
        "    'California':[10,3], \n",
        "    'Rhode Island':[5,6], \n",
        "    'Texas': [15,3],\n",
        "    'California':[17,4], \n",
        "    'Florida':[8,9], \n",
        "    'New Hampshire':[3,4], \n",
        "    'New Jersey':[12,8]\n",
        "}\n",
        "\n",
        "data = pd.DataFrame(data)\n",
        "\n",
        "data.drop_duplicates()\n",
        "data['Votes'] = data.sum(axis=1)\n",
        "data.loc['2'] = data.sum(axis=0)\n",
        "data.loc['3'] = data.sum(axis=0)\n",
        "print(data)"
      ]
    },
    {
      "cell_type": "markdown",
      "metadata": {
        "id": "kIq6_8uMhmhV"
      },
      "source": [
        "<h2>Pandas - Remove a column - Method 2</h2>\n",
        "Use the pop method to remove the column in place<br>"
      ]
    },
    {
      "cell_type": "code",
      "execution_count": null,
      "metadata": {
        "id": "lJUCSol0hmhW"
      },
      "outputs": [],
      "source": [
        "import pandas as pd\n",
        "\n",
        "data = {\n",
        "    'New York':[20,15], \n",
        "    'California':[10,3], \n",
        "    'Rhode Island':[5,6], \n",
        "    'Texas': [15,3], \n",
        "    'California':[17,4], \n",
        "    'Florida':[8,9], \n",
        "    'New Hampshire':[3,4], \n",
        "    'New Jersey':[12,8]\n",
        "}\n",
        "\n",
        "data = pd.DataFrame(data)\n",
        "\n",
        "data.drop('New York', axis=1, inplace=True)\n",
        "\n",
        "print(data)"
      ]
    },
    {
      "cell_type": "markdown",
      "metadata": {
        "id": "ARbIeTZ3hmhW"
      },
      "source": [
        "<h2>Exercise</h2>\n",
        "Take the columns yes and no ([yes,no]) and transform them from values to a percentage of the votes for each State<br>"
      ]
    },
    {
      "cell_type": "markdown",
      "metadata": {
        "id": "xPhxsRzXhmhW"
      },
      "source": [
        "<h4>Solution</h4>"
      ]
    },
    {
      "cell_type": "code",
      "execution_count": null,
      "metadata": {
        "id": "DnyIFxiOhmhW"
      },
      "outputs": [],
      "source": [
        "import pandas as pd\n",
        "\n",
        "data = { \n",
        "    'New York':[20,15], \n",
        "    'California':[10,3], \n",
        "    'Rhode Island':[5,6], \n",
        "    'Texas': [15,3], \n",
        "    'California':[17,4], \n",
        "    'Florida':[8,9], \n",
        "    'New Hampshire':[3,4], \n",
        "    'New Jersey':[12,8]\n",
        "}\n",
        "def percentage(column_data):\n",
        "    print(column_data[0]/column_data[2], column_data[1]/column_data[2])\n",
        "\n",
        "data = pd.DataFrame(data, index=['yes', 'no', 'sum'])\n",
        "\n",
        "data.drop_duplicates()\n",
        "data['Votes'] = data.sum(axis=1)\n",
        "data.loc['2'] = data.sum(axis=0)\n",
        "\n",
        "data = data.apply(lambda x:round((x/sum(x)*2)*100, 2))\n",
        "\n",
        "print(data)\n"
      ]
    },
    {
      "cell_type": "markdown",
      "metadata": {
        "id": "yGB0d5ubFoxY"
      },
      "source": []
    },
    {
      "cell_type": "markdown",
      "metadata": {
        "id": "MTEbss7UF-Us"
      },
      "source": [
        "<h2> Pandas Continued: Cleaning and Sorting Data </h2>"
      ]
    },
    {
      "cell_type": "markdown",
      "metadata": {
        "deletable": true,
        "editable": true,
        "id": "GB6eptj6E50E"
      },
      "source": [
        "### Indexing, Selection, and Filtering"
      ]
    },
    {
      "cell_type": "code",
      "execution_count": null,
      "metadata": {
        "deletable": true,
        "editable": true,
        "id": "0YOiYdwOE50E"
      },
      "outputs": [],
      "source": [
        "import numpy as np\n",
        "\n",
        "obj = pd.Series(np.arange(4.), index=['a', 'b', 'c', 'd'])\n",
        "obj\n",
        "obj['b']\n",
        "obj[1]\n",
        "obj[2:4]\n",
        "obj[['b', 'a', 'd']]\n",
        "obj[[1, 3]]\n",
        "obj[obj < 2]"
      ]
    },
    {
      "cell_type": "code",
      "execution_count": null,
      "metadata": {
        "deletable": true,
        "editable": true,
        "id": "IJOvm6dnE50E"
      },
      "outputs": [],
      "source": [
        "obj['b':'c']"
      ]
    },
    {
      "cell_type": "code",
      "execution_count": null,
      "metadata": {
        "deletable": true,
        "editable": true,
        "id": "T_uc5-SvE50E"
      },
      "outputs": [],
      "source": [
        "obj['b':'c'] = 5\n",
        "obj"
      ]
    },
    {
      "cell_type": "code",
      "execution_count": null,
      "metadata": {
        "deletable": true,
        "editable": true,
        "id": "-lWOINUnE50E"
      },
      "outputs": [],
      "source": [
        "data = pd.DataFrame(np.arange(16).reshape((4, 4)),\n",
        "                    index=['Ohio', 'Colorado', 'Utah', 'New York'],\n",
        "                    columns=['one', 'two', 'three', 'four'])\n",
        "data\n",
        "data['two']\n",
        "data[['three', 'one']]"
      ]
    },
    {
      "cell_type": "code",
      "execution_count": null,
      "metadata": {
        "deletable": true,
        "editable": true,
        "id": "O8FG7z6VE50E"
      },
      "outputs": [],
      "source": [
        "data[:2]\n",
        "data[data['three'] > 5]"
      ]
    },
    {
      "cell_type": "code",
      "execution_count": null,
      "metadata": {
        "deletable": true,
        "editable": true,
        "id": "jjmsUxIvE50F"
      },
      "outputs": [],
      "source": [
        "data < 5\n",
        "data[data < 5] = 0\n",
        "data"
      ]
    },
    {
      "cell_type": "markdown",
      "metadata": {
        "deletable": true,
        "editable": true,
        "id": "Zb3qPl58E50F"
      },
      "source": [
        "#### Selection with loc and iloc"
      ]
    },
    {
      "cell_type": "code",
      "execution_count": null,
      "metadata": {
        "deletable": true,
        "editable": true,
        "id": "YN39R3FaE50F"
      },
      "outputs": [],
      "source": [
        "data.loc['Colorado', ['two', 'three']]"
      ]
    },
    {
      "cell_type": "code",
      "execution_count": null,
      "metadata": {
        "deletable": true,
        "editable": true,
        "id": "17r6mMRKE50F"
      },
      "outputs": [],
      "source": [
        "data.iloc[2, [3, 0, 1]]\n",
        "data.iloc[2]\n",
        "data.iloc[[1, 2], [3, 0, 1]]"
      ]
    },
    {
      "cell_type": "code",
      "execution_count": null,
      "metadata": {
        "deletable": true,
        "editable": true,
        "id": "7TqzO4RCE50F"
      },
      "outputs": [],
      "source": [
        "data.loc[:'Utah', 'two']\n",
        "data.iloc[:, :3][data.three > 5]"
      ]
    },
    {
      "cell_type": "markdown",
      "metadata": {
        "deletable": true,
        "editable": true,
        "id": "RLVdOxPgE50L"
      },
      "source": [
        "### Axis Indexes with Duplicate Labels"
      ]
    },
    {
      "cell_type": "code",
      "execution_count": null,
      "metadata": {
        "deletable": true,
        "editable": true,
        "id": "MCufeRtRE50L"
      },
      "outputs": [],
      "source": [
        "obj = pd.Series(range(5), index=['a', 'a', 'b', 'b', 'c'])\n",
        "obj"
      ]
    },
    {
      "cell_type": "code",
      "execution_count": null,
      "metadata": {
        "deletable": true,
        "editable": true,
        "id": "QkGsptjnE50M"
      },
      "outputs": [],
      "source": [
        "obj.index.is_unique"
      ]
    },
    {
      "cell_type": "code",
      "execution_count": null,
      "metadata": {
        "deletable": true,
        "editable": true,
        "id": "opOJcJfZE50M"
      },
      "outputs": [],
      "source": [
        "obj['a']\n",
        "obj['c']"
      ]
    },
    {
      "cell_type": "code",
      "execution_count": null,
      "metadata": {
        "deletable": true,
        "editable": true,
        "id": "1j34WFL-E50M"
      },
      "outputs": [],
      "source": [
        "df = pd.DataFrame(np.random.randn(4, 3), index=['a', 'a', 'b', 'b'])\n",
        "df\n",
        "df.loc['b']"
      ]
    },
    {
      "cell_type": "markdown",
      "metadata": {
        "id": "_gKAzXa7vdo9"
      },
      "source": [
        "<h2> Exercise </h2>\n",
        "\n",
        "Using our US_Presidents.txt file and Pandas\n",
        "\n",
        "1) Clean the data\n",
        "\n",
        "2) Reorder all the presidents by their index. Which is the number of president they are. Washington is 1st, Adams is 2nd, etc\n",
        "\n",
        "3) Create columns first name, middle name, last name. If they don't have a a middle name, leave it blank\n",
        "\n",
        "4) Add a column called term length. Which tells us how long they were in office for "
      ]
    },
    {
      "cell_type": "code",
      "execution_count": null,
      "metadata": {},
      "outputs": [
        {
          "name": "stdout",
          "output_type": "stream",
          "text": [
            "                           'Name'  'Term Start'    'Term End'\n",
            "0            [40, Ronald, Reagan]  [01/20/1981]  [01/20/1989]\n",
            "1              [41, George, Bush]  [01/20/1989]  [01/20/1993]\n",
            "2        [29, Warren, G, Harding]  [03/04/1921]  [08/02/1923]\n",
            "3          [30, Calvin, Coolidge]  [08/02/1923]  [03/04/1929]\n",
            "4           [43, George, W, Bush]  [01/20/2001]  [01/20/2009]\n",
            "5             [4, James, Madison]  [03/04/1809]  [03/04/1817]\n",
            "6               [10, John, Tyler]  [04/04/1841]  [03/04/1845]\n",
            "7         [1, George, Washington]  [04/30/1789]  [03/04/1797]\n",
            "8         [25, William, McKinley]  [03/04/1897]  [09/14/1901]\n",
            "9       [26, Theodore, Roosevelt]  [09/14/1901]  [03/04/1909]\n",
            "10    [27, William, Howard, Taft]  [03/04/1909]  [03/04/1913]\n",
            "11         [3, Thomas, Jefferson]  [03/04/1801]  [03/04/1809]\n",
            "12       [23, Benjamin, Harrison]  [03/04/1889]  [03/04/1893]\n",
            "13             [5, James, Monroe]  [03/04/1817]  [03/04/1825]\n",
            "14       [6, John, Quincy, Adams]  [03/04/1825]  [03/04/1829]\n",
            "15           [7, Andrew, Jackson]  [03/04/1829]  [03/04/1837]\n",
            "16        [8, Martin, Van, Buren]  [03/04/1837]  [03/04/1841]\n",
            "17       [36, Lyndon, B, Johnson]  [11/22/1963]  [01/20/1969]\n",
            "18  [9, William, Henry, Harrison]  [03/04/1841]  [04/04/1841]\n",
            "19   [32, Franklin, D, Roosevelt]  [03/04/1933]  [04/12/1945]\n",
            "20           [11, James, K, Polk]  [03/04/1845]  [03/04/1849]\n",
            "21            [44, Barack, Obama]  [01/20/2009]  [01/20/2017]\n",
            "22          [12, Zachary, Taylor]  [03/04/1849]  [07/09/1850]\n",
            "23         [33, Harry, S, Truman]  [04/12/1945]  [01/20/1953]\n",
            "24       [34, Dwight, Eisenhower]  [01/20/1953]  [01/20/1961]\n",
            "25          [15, James, Buchanan]  [03/04/1857]  [03/04/1861]\n",
            "26         [16, Abraham, Lincoln]  [03/04/1861]  [04/15/1865]\n",
            "27             [38, Gerald, Ford]  [08/09/1974]  [01/20/1977]\n",
            "28     [19, Rutherford, B, Hayes]  [03/04/1877]  [03/04/1881]\n",
            "29          [20, James, Garfield]  [03/04/1881]  [09/19/1881]\n",
            "30          [21, Chester, Arthur]  [09/19/1881]  [03/04/1885]\n",
            "31        [22, Grover, Cleveland]  [03/04/1885]  [03/04/1889]\n",
            "32               [2, John, Adams]  [03/04/1797]  [03/04/1801]\n",
            "33        [24, Grover, Cleveland]  [03/04/1893]  [03/04/1897]\n",
            "34            [42, Bill, Clinton]  [01/20/1993]  [01/20/2001]\n",
            "35          [28, Woodrow, Wilson]  [03/04/1913]  [03/04/1921]\n",
            "36        [13, Millard, Fillmore]  [07/09/1850]  [03/04/1853]\n",
            "37         [14, Franklin, Pierce]  [03/04/1853]  [03/04/1857]\n",
            "38          [31, Herbert, Hoover]  [03/04/1929]  [03/04/1933]\n",
            "39            [39, Jimmy, Carter]  [01/20/1977]  [01/20/1981]\n",
            "40         [35, John, F, Kennedy]  [01/20/1961]  [11/22/1963]\n",
            "41           [37, Richard, Nixon]  [01/20/1969]  [08/09/1974]\n",
            "42          [17, Andrew, Johnson]  [04/15/1865]  [03/04/1869]\n",
            "43        [18, Ulysses, S, Grant]  [03/04/1869]  [03/04/1877]\n"
          ]
        },
        {
          "name": "stderr",
          "output_type": "stream",
          "text": [
            "/var/folders/hl/rnkm2m_d3s92k66lxdhnvbpr0000gn/T/ipykernel_14752/2688772782.py:7: FutureWarning: The default value of regex will change from True to False in a future version. In addition, single character regular expressions will *not* be treated as literal strings when regex=True.\n",
            "  x = x.str.replace(\"\\'\", \"\").str.replace(\".\", \"\").str.split(' ')\n"
          ]
        }
      ],
      "source": [
        "import pandas as pd\n",
        "df = pd.read_csv('US_Presidents_unordered.txt')\n",
        "# df=df[\"'Name'\"].str.split(\".\", expand=True)\n",
        "\n",
        "\n",
        "def stripper(x):\n",
        "    x = x.str.replace(\"\\'\", \"\").str.replace(\".\", \"\").str.split(' ')\n",
        "    return x\n",
        "\n",
        "\n",
        "df = df.apply(stripper, 1)\n",
        "print(df)"
      ]
    },
    {
      "cell_type": "markdown",
      "metadata": {
        "id": "V5x9pRnAhmhX"
      },
      "source": [
        "This notebook is part of a course at www.codeimmersives.com called Data Science. If you accessed this notebook outside the course, you can get more information about this course online by clicking here."
      ]
    },
    {
      "cell_type": "markdown",
      "metadata": {
        "id": "FMP1sC3YGnsn"
      },
      "source": []
    },
    {
      "cell_type": "markdown",
      "metadata": {
        "deletable": true,
        "editable": true,
        "id": "n7ZMHOIUGd1P"
      },
      "source": [
        "## Handling Missing Data"
      ]
    },
    {
      "cell_type": "code",
      "execution_count": null,
      "metadata": {
        "deletable": true,
        "editable": true,
        "id": "FCCDuvKDGd1Q"
      },
      "outputs": [],
      "source": [
        "string_data = pd.Series(['aardvark', 'artichoke', np.nan, 'avocado'])\n",
        "string_data\n",
        "string_data.isnull()"
      ]
    },
    {
      "cell_type": "code",
      "execution_count": null,
      "metadata": {
        "deletable": true,
        "editable": true,
        "id": "gO-IJDiXGd1Q"
      },
      "outputs": [],
      "source": [
        "string_data[0] = None\n",
        "string_data.isnull()"
      ]
    },
    {
      "cell_type": "markdown",
      "metadata": {
        "deletable": true,
        "editable": true,
        "id": "_61D9zAnGd1Q"
      },
      "source": [
        "### Filtering Out Missing Data"
      ]
    },
    {
      "cell_type": "code",
      "execution_count": null,
      "metadata": {
        "deletable": true,
        "editable": true,
        "id": "_8QN1LX5Gd1R"
      },
      "outputs": [],
      "source": [
        "from numpy import nan as NA\n",
        "data = pd.Series([1, NA, 3.5, NA, 7])\n",
        "data.dropna()"
      ]
    },
    {
      "cell_type": "code",
      "execution_count": null,
      "metadata": {
        "deletable": true,
        "editable": true,
        "id": "g7veVEbtGd1S"
      },
      "outputs": [],
      "source": [
        "data[data.notnull()]"
      ]
    },
    {
      "cell_type": "code",
      "execution_count": null,
      "metadata": {
        "deletable": true,
        "editable": true,
        "id": "t5YQavsIGd1S"
      },
      "outputs": [],
      "source": [
        "data = pd.DataFrame([[1., 6.5, 3.], [1., NA, NA],\n",
        "                     [NA, NA, NA], [NA, 6.5, 3.]])\n",
        "cleaned = data.dropna()\n",
        "data\n",
        "cleaned"
      ]
    },
    {
      "cell_type": "code",
      "execution_count": null,
      "metadata": {
        "deletable": true,
        "editable": true,
        "id": "3VELnQxuGd1T"
      },
      "outputs": [],
      "source": [
        "data.dropna(how='all')"
      ]
    },
    {
      "cell_type": "code",
      "execution_count": null,
      "metadata": {
        "deletable": true,
        "editable": true,
        "id": "M7POJvXpGd1T"
      },
      "outputs": [],
      "source": [
        "data[4] = NA\n",
        "data\n",
        "data.dropna(axis=1, how='all')"
      ]
    },
    {
      "cell_type": "code",
      "execution_count": null,
      "metadata": {
        "deletable": true,
        "editable": true,
        "id": "4wEtsVPHGd1U"
      },
      "outputs": [],
      "source": [
        "df = pd.DataFrame(np.random.randn(7, 3))\n",
        "df.iloc[:4, 1] = NA\n",
        "df.iloc[:2, 2] = NA\n",
        "df\n",
        "df.dropna()\n",
        "df.dropna(thresh=2)"
      ]
    },
    {
      "cell_type": "markdown",
      "metadata": {
        "deletable": true,
        "editable": true,
        "id": "bMDLeFk1Gd1U"
      },
      "source": [
        "### Filling In Missing Data"
      ]
    },
    {
      "cell_type": "code",
      "execution_count": null,
      "metadata": {
        "deletable": true,
        "editable": true,
        "id": "U4xum4i8Gd1U"
      },
      "outputs": [],
      "source": [
        "df.fillna(0)"
      ]
    },
    {
      "cell_type": "code",
      "execution_count": null,
      "metadata": {
        "deletable": true,
        "editable": true,
        "id": "YTeoViYsGd1V"
      },
      "outputs": [],
      "source": [
        "df.fillna({1: 0.5, 2: 0})"
      ]
    },
    {
      "cell_type": "code",
      "execution_count": null,
      "metadata": {
        "deletable": true,
        "editable": true,
        "id": "py37mcVzGd1V"
      },
      "outputs": [],
      "source": [
        "_ = df.fillna(0, inplace=True)\n",
        "df"
      ]
    },
    {
      "cell_type": "code",
      "execution_count": null,
      "metadata": {
        "deletable": true,
        "editable": true,
        "id": "2kdOTJesGd1V"
      },
      "outputs": [],
      "source": [
        "df = pd.DataFrame(np.random.randn(6, 3))\n",
        "df.iloc[2:, 1] = NA\n",
        "df.iloc[4:, 2] = NA\n",
        "df\n",
        "df.fillna(method='ffill')\n",
        "df.fillna(method='ffill', limit=2)"
      ]
    },
    {
      "cell_type": "code",
      "execution_count": null,
      "metadata": {
        "deletable": true,
        "editable": true,
        "id": "Hy6Wzj59Gd1V"
      },
      "outputs": [],
      "source": [
        "data = pd.Series([1., NA, 3.5, NA, 7])\n",
        "data.fillna(data.mean())"
      ]
    },
    {
      "cell_type": "markdown",
      "metadata": {
        "id": "ZnKk4IKwhmhX"
      },
      "source": [
        "<hr>\n",
        "\n",
        "Copyright &copy; 2021  Code Immersives"
      ]
    },
    {
      "cell_type": "code",
      "execution_count": null,
      "metadata": {
        "id": "pgZlEZaJGuSc"
      },
      "outputs": [],
      "source": []
    },
    {
      "cell_type": "markdown",
      "metadata": {
        "deletable": true,
        "editable": true,
        "id": "J_v2vIG_Gd1W"
      },
      "source": [
        "## Data Transformation"
      ]
    },
    {
      "cell_type": "markdown",
      "metadata": {
        "deletable": true,
        "editable": true,
        "id": "G5eopaEkGd1W"
      },
      "source": [
        "### Removing Duplicates"
      ]
    },
    {
      "cell_type": "code",
      "execution_count": null,
      "metadata": {
        "deletable": true,
        "editable": true,
        "id": "iDqtjY_qGd1W"
      },
      "outputs": [],
      "source": [
        "data = pd.DataFrame({'k1': ['one', 'two'] * 3 + ['two'],\n",
        "                     'k2': [1, 1, 2, 3, 3, 4, 4]})\n",
        "data"
      ]
    },
    {
      "cell_type": "code",
      "execution_count": null,
      "metadata": {
        "deletable": true,
        "editable": true,
        "id": "6m5ieWqYGd1W"
      },
      "outputs": [],
      "source": [
        "data.duplicated()"
      ]
    },
    {
      "cell_type": "code",
      "execution_count": null,
      "metadata": {
        "deletable": true,
        "editable": true,
        "id": "cavikb6bGd1W"
      },
      "outputs": [],
      "source": [
        "data.drop_duplicates()"
      ]
    },
    {
      "cell_type": "code",
      "execution_count": null,
      "metadata": {
        "deletable": true,
        "editable": true,
        "id": "NNB6JdYTGd1X"
      },
      "outputs": [],
      "source": [
        "data['v1'] = range(7)\n",
        "data.drop_duplicates(['k1'])"
      ]
    },
    {
      "cell_type": "code",
      "execution_count": null,
      "metadata": {
        "deletable": true,
        "editable": true,
        "id": "6gNgL4auGd1X"
      },
      "outputs": [],
      "source": [
        "data.drop_duplicates(['k1', 'k2'], keep='last')"
      ]
    },
    {
      "cell_type": "markdown",
      "metadata": {
        "deletable": true,
        "editable": true,
        "id": "-9cf1IttGd1X"
      },
      "source": [
        "### Transforming Data Using a Function or Mapping"
      ]
    },
    {
      "cell_type": "code",
      "execution_count": 9,
      "metadata": {
        "deletable": true,
        "editable": true,
        "id": "8joaBLL5Gd1X"
      },
      "outputs": [
        {
          "data": {
            "text/html": [
              "<div>\n",
              "<style scoped>\n",
              "    .dataframe tbody tr th:only-of-type {\n",
              "        vertical-align: middle;\n",
              "    }\n",
              "\n",
              "    .dataframe tbody tr th {\n",
              "        vertical-align: top;\n",
              "    }\n",
              "\n",
              "    .dataframe thead th {\n",
              "        text-align: right;\n",
              "    }\n",
              "</style>\n",
              "<table border=\"1\" class=\"dataframe\">\n",
              "  <thead>\n",
              "    <tr style=\"text-align: right;\">\n",
              "      <th></th>\n",
              "      <th>food</th>\n",
              "      <th>ounces</th>\n",
              "    </tr>\n",
              "  </thead>\n",
              "  <tbody>\n",
              "    <tr>\n",
              "      <th>0</th>\n",
              "      <td>bacon</td>\n",
              "      <td>4.0</td>\n",
              "    </tr>\n",
              "    <tr>\n",
              "      <th>1</th>\n",
              "      <td>pulled pork</td>\n",
              "      <td>3.0</td>\n",
              "    </tr>\n",
              "    <tr>\n",
              "      <th>2</th>\n",
              "      <td>bacon</td>\n",
              "      <td>12.0</td>\n",
              "    </tr>\n",
              "    <tr>\n",
              "      <th>3</th>\n",
              "      <td>Pastrami</td>\n",
              "      <td>6.0</td>\n",
              "    </tr>\n",
              "    <tr>\n",
              "      <th>4</th>\n",
              "      <td>corned beef</td>\n",
              "      <td>7.5</td>\n",
              "    </tr>\n",
              "    <tr>\n",
              "      <th>5</th>\n",
              "      <td>Bacon</td>\n",
              "      <td>8.0</td>\n",
              "    </tr>\n",
              "    <tr>\n",
              "      <th>6</th>\n",
              "      <td>pastrami</td>\n",
              "      <td>3.0</td>\n",
              "    </tr>\n",
              "    <tr>\n",
              "      <th>7</th>\n",
              "      <td>honey ham</td>\n",
              "      <td>5.0</td>\n",
              "    </tr>\n",
              "    <tr>\n",
              "      <th>8</th>\n",
              "      <td>nova lox</td>\n",
              "      <td>6.0</td>\n",
              "    </tr>\n",
              "  </tbody>\n",
              "</table>\n",
              "</div>"
            ],
            "text/plain": [
              "          food  ounces\n",
              "0        bacon     4.0\n",
              "1  pulled pork     3.0\n",
              "2        bacon    12.0\n",
              "3     Pastrami     6.0\n",
              "4  corned beef     7.5\n",
              "5        Bacon     8.0\n",
              "6     pastrami     3.0\n",
              "7    honey ham     5.0\n",
              "8     nova lox     6.0"
            ]
          },
          "execution_count": 9,
          "metadata": {},
          "output_type": "execute_result"
        }
      ],
      "source": [
        "data = pd.DataFrame({'food': ['bacon', 'pulled pork', 'bacon',\n",
        "                              'Pastrami', 'corned beef', 'Bacon',\n",
        "                              'pastrami', 'honey ham', 'nova lox'],\n",
        "                     'ounces': [4, 3, 12, 6, 7.5, 8, 3, 5, 6]})\n",
        "data"
      ]
    },
    {
      "cell_type": "code",
      "execution_count": 11,
      "metadata": {
        "deletable": true,
        "editable": true,
        "id": "Kis3yje3Gd1X"
      },
      "outputs": [],
      "source": [
        "meat_to_animal = {\n",
        "  'bacon': 'pig',\n",
        "  'pulled pork': 'pig',\n",
        "  'pastrami': 'cow',\n",
        "  'corned beef': 'cow',\n",
        "  'honey ham': 'pig',\n",
        "  'nova lox': 'salmon'\n",
        "}"
      ]
    },
    {
      "cell_type": "code",
      "execution_count": 12,
      "metadata": {
        "deletable": true,
        "editable": true,
        "id": "abIFP6P_Gd1Y"
      },
      "outputs": [
        {
          "data": {
            "text/html": [
              "<div>\n",
              "<style scoped>\n",
              "    .dataframe tbody tr th:only-of-type {\n",
              "        vertical-align: middle;\n",
              "    }\n",
              "\n",
              "    .dataframe tbody tr th {\n",
              "        vertical-align: top;\n",
              "    }\n",
              "\n",
              "    .dataframe thead th {\n",
              "        text-align: right;\n",
              "    }\n",
              "</style>\n",
              "<table border=\"1\" class=\"dataframe\">\n",
              "  <thead>\n",
              "    <tr style=\"text-align: right;\">\n",
              "      <th></th>\n",
              "      <th>food</th>\n",
              "      <th>ounces</th>\n",
              "      <th>animal</th>\n",
              "    </tr>\n",
              "  </thead>\n",
              "  <tbody>\n",
              "    <tr>\n",
              "      <th>0</th>\n",
              "      <td>bacon</td>\n",
              "      <td>4.0</td>\n",
              "      <td>pig</td>\n",
              "    </tr>\n",
              "    <tr>\n",
              "      <th>1</th>\n",
              "      <td>pulled pork</td>\n",
              "      <td>3.0</td>\n",
              "      <td>pig</td>\n",
              "    </tr>\n",
              "    <tr>\n",
              "      <th>2</th>\n",
              "      <td>bacon</td>\n",
              "      <td>12.0</td>\n",
              "      <td>pig</td>\n",
              "    </tr>\n",
              "    <tr>\n",
              "      <th>3</th>\n",
              "      <td>Pastrami</td>\n",
              "      <td>6.0</td>\n",
              "      <td>cow</td>\n",
              "    </tr>\n",
              "    <tr>\n",
              "      <th>4</th>\n",
              "      <td>corned beef</td>\n",
              "      <td>7.5</td>\n",
              "      <td>cow</td>\n",
              "    </tr>\n",
              "    <tr>\n",
              "      <th>5</th>\n",
              "      <td>Bacon</td>\n",
              "      <td>8.0</td>\n",
              "      <td>pig</td>\n",
              "    </tr>\n",
              "    <tr>\n",
              "      <th>6</th>\n",
              "      <td>pastrami</td>\n",
              "      <td>3.0</td>\n",
              "      <td>cow</td>\n",
              "    </tr>\n",
              "    <tr>\n",
              "      <th>7</th>\n",
              "      <td>honey ham</td>\n",
              "      <td>5.0</td>\n",
              "      <td>pig</td>\n",
              "    </tr>\n",
              "    <tr>\n",
              "      <th>8</th>\n",
              "      <td>nova lox</td>\n",
              "      <td>6.0</td>\n",
              "      <td>salmon</td>\n",
              "    </tr>\n",
              "  </tbody>\n",
              "</table>\n",
              "</div>"
            ],
            "text/plain": [
              "          food  ounces  animal\n",
              "0        bacon     4.0     pig\n",
              "1  pulled pork     3.0     pig\n",
              "2        bacon    12.0     pig\n",
              "3     Pastrami     6.0     cow\n",
              "4  corned beef     7.5     cow\n",
              "5        Bacon     8.0     pig\n",
              "6     pastrami     3.0     cow\n",
              "7    honey ham     5.0     pig\n",
              "8     nova lox     6.0  salmon"
            ]
          },
          "execution_count": 12,
          "metadata": {},
          "output_type": "execute_result"
        }
      ],
      "source": [
        "lowercased = data['food'].str.lower()\n",
        "data['animal'] = lowercased.map(meat_to_animal) # noooooooooooooo\n",
        "data['animal'].str.lower()\n",
        "data"
      ]
    },
    {
      "cell_type": "code",
      "execution_count": null,
      "metadata": {
        "deletable": true,
        "editable": true,
        "id": "ytsbx8bDGd1Y"
      },
      "outputs": [],
      "source": [
        "data['food'].map(lambda x: meat_to_animal[x.lower()]) # Never use this.... lambda plus iterables == nono"
      ]
    },
    {
      "cell_type": "markdown",
      "metadata": {
        "deletable": true,
        "editable": true,
        "id": "akcxSjjyGd1Y"
      },
      "source": [
        "### Replacing Values"
      ]
    },
    {
      "cell_type": "code",
      "execution_count": null,
      "metadata": {
        "deletable": true,
        "editable": true,
        "id": "etaqpyqRGd1Y"
      },
      "outputs": [],
      "source": [
        "data = pd.Series([1., -999., 2., -999., -1000., 3.])\n",
        "data"
      ]
    },
    {
      "cell_type": "code",
      "execution_count": null,
      "metadata": {
        "deletable": true,
        "editable": true,
        "id": "eKQdtMFkGd1Y"
      },
      "outputs": [],
      "source": [
        "data.replace(-999, np.nan)"
      ]
    },
    {
      "cell_type": "code",
      "execution_count": null,
      "metadata": {
        "deletable": true,
        "editable": true,
        "id": "Oji4NmN7Gd1Y"
      },
      "outputs": [],
      "source": [
        "data.replace([-999, -1000], np.nan)"
      ]
    },
    {
      "cell_type": "code",
      "execution_count": null,
      "metadata": {
        "deletable": true,
        "editable": true,
        "id": "VO--eshVGd1Z"
      },
      "outputs": [],
      "source": [
        "data.replace([-999, -1000], [np.nan, 0])"
      ]
    },
    {
      "cell_type": "code",
      "execution_count": null,
      "metadata": {
        "deletable": true,
        "editable": true,
        "id": "Qy5Zgut3Gd1Z"
      },
      "outputs": [],
      "source": [
        "data.replace({-999: np.nan, -1000: 0})"
      ]
    },
    {
      "cell_type": "markdown",
      "metadata": {
        "deletable": true,
        "editable": true,
        "id": "pYe4HvcOGd1Z"
      },
      "source": [
        "### Renaming Axis Indexes"
      ]
    },
    {
      "cell_type": "code",
      "execution_count": null,
      "metadata": {
        "deletable": true,
        "editable": true,
        "id": "lXqYM6kaGd1Z"
      },
      "outputs": [],
      "source": [
        "data = pd.DataFrame(np.arange(12).reshape((3, 4)),\n",
        "                    index=['Ohio', 'Colorado', 'New York'],\n",
        "                    columns=['one', 'two', 'three', 'four'])"
      ]
    },
    {
      "cell_type": "code",
      "execution_count": null,
      "metadata": {
        "deletable": true,
        "editable": true,
        "id": "-3E6rD9ZGd1Z"
      },
      "outputs": [],
      "source": [
        "transform = lambda x: x[:4].upper()\n",
        "data.index.map(transform)"
      ]
    },
    {
      "cell_type": "code",
      "execution_count": null,
      "metadata": {
        "deletable": true,
        "editable": true,
        "id": "IMz5Y1EnGd1Z"
      },
      "outputs": [],
      "source": [
        "data.index = data.index.map(transform)\n",
        "data"
      ]
    },
    {
      "cell_type": "code",
      "execution_count": null,
      "metadata": {
        "deletable": true,
        "editable": true,
        "id": "pltaDoAPGd1a"
      },
      "outputs": [],
      "source": [
        "data.rename(index=str.title, columns=str.upper)"
      ]
    },
    {
      "cell_type": "code",
      "execution_count": null,
      "metadata": {
        "deletable": true,
        "editable": true,
        "id": "IQURq52KGd1a"
      },
      "outputs": [],
      "source": [
        "data.rename(index={'OHIO': 'INDIANA'},\n",
        "            columns={'three': 'peekaboo'})"
      ]
    },
    {
      "cell_type": "code",
      "execution_count": null,
      "metadata": {
        "deletable": true,
        "editable": true,
        "id": "8IDvPYxQGd1a"
      },
      "outputs": [],
      "source": [
        "data.rename(index={'OHIO': 'INDIANA'}, inplace=True)\n",
        "data"
      ]
    },
    {
      "cell_type": "markdown",
      "metadata": {
        "deletable": true,
        "editable": true,
        "id": "7NjU0mxvGd1b"
      },
      "source": [
        "### Detecting and Filtering Outliers"
      ]
    },
    {
      "cell_type": "code",
      "execution_count": null,
      "metadata": {
        "deletable": true,
        "editable": true,
        "id": "FOi4GdL-Gd1b"
      },
      "outputs": [],
      "source": [
        "data = pd.DataFrame(np.random.randn(1000, 4))\n",
        "data.describe()"
      ]
    },
    {
      "cell_type": "code",
      "execution_count": null,
      "metadata": {
        "deletable": true,
        "editable": true,
        "id": "MMFqXxNiGd1b"
      },
      "outputs": [],
      "source": [
        "col = data[2]\n",
        "col[np.abs(col) > 3]"
      ]
    },
    {
      "cell_type": "code",
      "execution_count": null,
      "metadata": {
        "deletable": true,
        "editable": true,
        "id": "Te3WQSrBGd1c"
      },
      "outputs": [],
      "source": [
        "data[(np.abs(data) > 3).any(1)]"
      ]
    },
    {
      "cell_type": "code",
      "execution_count": null,
      "metadata": {
        "deletable": true,
        "editable": true,
        "id": "-AoBRQGzGd1c"
      },
      "outputs": [],
      "source": [
        "data[np.abs(data) > 3] = np.sign(data) * 3\n",
        "data.describe()"
      ]
    },
    {
      "cell_type": "code",
      "execution_count": null,
      "metadata": {
        "deletable": true,
        "editable": true,
        "id": "SD_DizxYGd1c"
      },
      "outputs": [],
      "source": [
        "np.sign(data).head()"
      ]
    },
    {
      "cell_type": "markdown",
      "metadata": {
        "id": "-PDW5o9PHFNj"
      },
      "source": [
        "<h2> Exercise </h2>\n",
        "Using the class_heights.txt file and Pandas\n",
        "\n",
        "1) Clean the data\n",
        "\n",
        "2) Make column names Title Case \n",
        "\n",
        "3) Sort gender column by Gender. Female first\n",
        "\n",
        "4) Convert heights to centimeters\n",
        "\n",
        "5) Count how many of each gender are in the total class_heights\n",
        "\n",
        "6) Calc the average height of each gender and the class total\n",
        "\n",
        "7) Calc the median, mode, and standard deviantion for the total class"
      ]
    },
    {
      "cell_type": "code",
      "execution_count": null,
      "metadata": {
        "id": "OusShtaTHVhV"
      },
      "outputs": [],
      "source": []
    }
  ],
  "metadata": {
    "colab": {
      "collapsed_sections": [],
      "name": "CI Data Science - Lesson 12 - NO ANSWERS.ipynb",
      "provenance": []
    },
    "kernelspec": {
      "display_name": "Python 3",
      "language": "python",
      "name": "python3"
    },
    "language_info": {
      "codemirror_mode": {
        "name": "ipython",
        "version": 3
      },
      "file_extension": ".py",
      "mimetype": "text/x-python",
      "name": "python",
      "nbconvert_exporter": "python",
      "pygments_lexer": "ipython3",
      "version": "3.10.2"
    }
  },
  "nbformat": 4,
  "nbformat_minor": 0
}
