{
  "cells": [
    {
      "cell_type": "markdown",
      "metadata": {
        "id": "cIsJUe-zPxhb"
      },
      "source": [
        "<h4>Object Oriented</h4>\n",
        "This type of coding relies creating objects which in turn have properties and atributes.<br>\n",
        "For example if we want to create a model of a zoo.<br>\n",
        "The zoo has certain charactristics.  It has the following attributes:<br>\n",
        "- Location<br>\n",
        "- Employees<br>\n",
        "- Animals<br>\n",
        "- Cages<br>\n",
        "\n",
        "The zoo can also implement certain behaviors<br>\n",
        "- Charge admission<br>\n",
        "- Open<br>\n",
        "- Close<br>\n",
        "- Purchase animals<br>\n",
        "- Display animals<br>\n",
        "- Hire employees<br>\n",
        "- Fire employees<br>\n",
        "- Borrow animals<br>\n",
        "- Loan animals<br>\n",
        "- Feed animals<br>\n",
        "- Sell animals<br>\n",
        "<br>\n",
        "In Object Oriented Programming (OOP) the behaviors are methods and the charateristics or<br>\n",
        "attributes are variables (instance or class).<br>"
      ]
    },
    {
      "cell_type": "markdown",
      "metadata": {
        "id": "j5RYDLzXPxhc"
      },
      "source": [
        "<h2>Python implementation of OOP</h2>\n",
        "<h4>Base class</h4><br>\n",
        "1. Classes typically start with a capital letter<br>\n",
        "2. Classes can contain methods and attributes<br>\n",
        "<br>\n",
        "We can create a simple class with no attributes<br>\n",
        "<code>\n",
        "class Fruit:\n",
        "    pass\n",
        "print(Fruit)\n",
        "print(type(Fruit))\n",
        "</code>"
      ]
    },
    {
      "cell_type": "code",
      "execution_count": 16,
      "metadata": {
        "id": "u3UHFNXTPxhc"
      },
      "outputs": [
        {
          "name": "stdout",
          "output_type": "stream",
          "text": [
            "<class '__main__.Fruit'>\n",
            "<class 'type'>\n"
          ]
        }
      ],
      "source": [
        "class Fruit:\n",
        "    pass\n",
        "print(Fruit)\n",
        "print(type(Fruit))"
      ]
    },
    {
      "cell_type": "code",
      "execution_count": 17,
      "metadata": {
        "id": "5tvjB6AWPxhd"
      },
      "outputs": [
        {
          "name": "stdout",
          "output_type": "stream",
          "text": [
            "['__class__', '__delattr__', '__dict__', '__dir__', '__doc__', '__eq__', '__format__', '__ge__', '__getattribute__', '__gt__', '__hash__', '__init__', '__init_subclass__', '__le__', '__lt__', '__module__', '__ne__', '__new__', '__reduce__', '__reduce_ex__', '__repr__', '__setattr__', '__sizeof__', '__str__', '__subclasshook__', '__weakref__']\n"
          ]
        }
      ],
      "source": [
        "# Examine the attributes of the object\n",
        "print(dir(Fruit()))"
      ]
    },
    {
      "cell_type": "markdown",
      "metadata": {
        "id": "4vztdHZuPxhd"
      },
      "source": [
        "<h2>Dunder methods</h2>\n",
        "Dunder or magic methods in Python are the methods having two prefix and suffix underscores in the method name. Dunder here means “Double Under (Underscores)”. Built in methods of a class. <br>\n",
        "<br>\n",
        "To list all of the methods of a class using list comprehension: <br>\n",
        "[x for x in dir(Fruit()) if x.startswith('__')]"
      ]
    },
    {
      "cell_type": "code",
      "execution_count": 18,
      "metadata": {
        "id": "sniU7RGMPxhd"
      },
      "outputs": [
        {
          "data": {
            "text/plain": [
              "['__class__',\n",
              " '__delattr__',\n",
              " '__dict__',\n",
              " '__dir__',\n",
              " '__doc__',\n",
              " '__eq__',\n",
              " '__format__',\n",
              " '__ge__',\n",
              " '__getattribute__',\n",
              " '__gt__',\n",
              " '__hash__',\n",
              " '__init__',\n",
              " '__init_subclass__',\n",
              " '__le__',\n",
              " '__lt__',\n",
              " '__module__',\n",
              " '__ne__',\n",
              " '__new__',\n",
              " '__reduce__',\n",
              " '__reduce_ex__',\n",
              " '__repr__',\n",
              " '__setattr__',\n",
              " '__sizeof__',\n",
              " '__str__',\n",
              " '__subclasshook__',\n",
              " '__weakref__']"
            ]
          },
          "execution_count": 18,
          "metadata": {},
          "output_type": "execute_result"
        }
      ],
      "source": [
        "[x for x in dir(Fruit()) if x.startswith('__')]"
      ]
    },
    {
      "cell_type": "code",
      "execution_count": 19,
      "metadata": {
        "id": "0vFDQdjZPxhe"
      },
      "outputs": [
        {
          "name": "stdout",
          "output_type": "stream",
          "text": [
            "<class '__main__.Fruit'> <class '__main__.Fruit'>\n"
          ]
        }
      ],
      "source": [
        "class Fruit:\n",
        "    pass\n",
        "fruit1 = Fruit()\n",
        "fruit2 = Fruit()\n",
        "print(type(fruit1),type(fruit2))"
      ]
    },
    {
      "cell_type": "markdown",
      "metadata": {
        "id": "YspAr07OPxhe"
      },
      "source": [
        "Are these objects the same or different?<br>\n",
        "We can investigate by using the id() function.<br>\n",
        "<code>\n",
        "class Fruit:\n",
        "    pass\n",
        "fruit1 = Fruit()\n",
        "fruit2 = Fruit()\n",
        "print(type(fruit1), type(fruit2))\n",
        "print(id(fruit1),id(fruit2))\n",
        "</code>\n",
        "<br>\n",
        "NOTE: The ids are different"
      ]
    },
    {
      "cell_type": "code",
      "execution_count": 20,
      "metadata": {
        "id": "AxH8qelxPxhf"
      },
      "outputs": [
        {
          "name": "stdout",
          "output_type": "stream",
          "text": [
            "<class '__main__.Fruit'> <class '__main__.Fruit'>\n",
            "4355583440 4355577920\n"
          ]
        }
      ],
      "source": [
        "class Fruit:\n",
        "    pass\n",
        "fruit1 = Fruit()\n",
        "fruit2 = Fruit()\n",
        "print(type(fruit1), type(fruit2))\n",
        "print(id(fruit1),id(fruit2))"
      ]
    },
    {
      "cell_type": "markdown",
      "metadata": {
        "id": "BT-bqMppPxhf"
      },
      "source": [
        "<h2>Default inheritance</h2>\n",
        "By default every class inherits from object."
      ]
    },
    {
      "cell_type": "code",
      "execution_count": 21,
      "metadata": {
        "id": "HsetqWutPxhg"
      },
      "outputs": [
        {
          "name": "stdout",
          "output_type": "stream",
          "text": [
            "<__main__.Fruit object at 0x1039cead0>\n"
          ]
        }
      ],
      "source": [
        "class Fruit(object):\n",
        "    pass\n",
        "fruit1 = Fruit()\n",
        "print(fruit1)"
      ]
    },
    {
      "cell_type": "markdown",
      "metadata": {
        "id": "DCRw_RfNPxhg"
      },
      "source": [
        "<h2>On the Fly Attribution</h2>\n",
        "You can assign an attribute on the fly using a dot operator<br>\n",
        "<code>\n",
        "class Fruit:\n",
        "    pass\n",
        "fruit1 = Fruit()   # instantiate the object\n",
        "fruit1.name = 'Orange'\n",
        "print(fruit1.name)\n",
        "</code>"
      ]
    },
    {
      "cell_type": "code",
      "execution_count": 22,
      "metadata": {
        "id": "Y0UlnC7iPxhg"
      },
      "outputs": [
        {
          "name": "stdout",
          "output_type": "stream",
          "text": [
            "Orange\n",
            "Sweet\n"
          ]
        }
      ],
      "source": [
        "class Fruit:\n",
        "    pass\n",
        "fruit1 = Fruit()   # instantiate the object\n",
        "fruit2 = Fruit()   # instantiate the object\n",
        "fruit1.name = 'Orange'\n",
        "fruit1.taste = 'Sweet'\n",
        "print(fruit1.name)\n",
        "print(fruit1.taste)\n",
        "#print(fruit2.name)"
      ]
    },
    {
      "cell_type": "code",
      "execution_count": 23,
      "metadata": {
        "id": "hnC1GBr_Pxhh",
        "outputId": "1b43961f-158f-48e9-ca5e-b4bbdca70d5a"
      },
      "outputs": [
        {
          "name": "stdout",
          "output_type": "stream",
          "text": [
            "Orange\n",
            "Orange is RIPE\n",
            "Apple\n",
            "Apple is NOT RIPE\n"
          ]
        }
      ],
      "source": [
        "class Fruit:\n",
        "    ripe = True\n",
        "fruit1 = Fruit()   # instantiate the object\n",
        "fruit1.name = 'Orange'\n",
        "fruit1.ripe = True\n",
        "print(fruit1.name)\n",
        "print(f\"{fruit1.name} is {'RIPE' if fruit1.ripe else 'NOT RIPE'}\")\n",
        "fruit2 = Fruit()\n",
        "fruit2.name = 'Apple'\n",
        "print(fruit2.name)\n",
        "fruit2.ripe = False\n",
        "print(f\"{fruit2.name} is {'RIPE' if fruit2.ripe else 'NOT RIPE'}\")"
      ]
    },
    {
      "cell_type": "markdown",
      "metadata": {
        "id": "PIWRlo9cPxhh"
      },
      "source": [
        "<h2>Constructor Attribution</h2>\n",
        "<h4>We can assign a constructor that initializes attributes using the __init__ method</h4>\n",
        "Below we create the class Fruit and require that it is created with a name<br>\n",
        "<code>\n",
        "class Fruit:\n",
        "    def __init__(self,name): \n",
        "        '''Constructor'''\n",
        "        self.name = name\n",
        "        \n",
        "fruit1 = Fruit('Apple')\n",
        "</code>\n",
        "\n",
        "In its current form if you try to create a fruit object without a name it<br>\n",
        "will give you an error"
      ]
    },
    {
      "cell_type": "code",
      "execution_count": 24,
      "metadata": {
        "id": "aCs5J_PnPxhi"
      },
      "outputs": [
        {
          "name": "stdout",
          "output_type": "stream",
          "text": [
            "Kiwi\n",
            "Banana\n",
            "<__main__.Fruit object at 0x1039cf3d0>\n"
          ]
        }
      ],
      "source": [
        "class Fruit:\n",
        "    def __init__(self,name): \n",
        "        '''Constructor'''\n",
        "        self.name = name\n",
        "\n",
        "        \n",
        "fruit1 = Fruit('Kiwi')\n",
        "print(fruit1.name)\n",
        "fruit2 = Fruit('Banana')\n",
        "print(fruit2.name)\n",
        "print(fruit2)"
      ]
    },
    {
      "cell_type": "markdown",
      "metadata": {
        "id": "Pm9linAQoNZW"
      },
      "source": [
        "Add a __str__(self) to output a default statement upon construction:"
      ]
    },
    {
      "cell_type": "code",
      "execution_count": 25,
      "metadata": {
        "id": "WU491pGIPxhi",
        "outputId": "e796d588-5537-45ae-8114-62977375f71b"
      },
      "outputs": [
        {
          "name": "stdout",
          "output_type": "stream",
          "text": [
            "The name of the fruit is Apple\n"
          ]
        }
      ],
      "source": [
        "class Fruit:\n",
        "    def __init__(self,name): # <-- Constructor\n",
        "        self.name = name\n",
        "        \n",
        "    def __str__(self):\n",
        "        return f'The name of the fruit is {self.name}'\n",
        "    \n",
        "fruit1 = Fruit('Apple')\n",
        "print(fruit1)"
      ]
    },
    {
      "cell_type": "code",
      "execution_count": 26,
      "metadata": {
        "id": "wutDEdOdPxhi"
      },
      "outputs": [
        {
          "name": "stdout",
          "output_type": "stream",
          "text": [
            "The name of the fruit is Kiwi and its seeds are soft\n"
          ]
        }
      ],
      "source": [
        "class Fruit:\n",
        "    def __init__(self,name, seed_type = 'hard'): # <-- Constructor\n",
        "        self.name = name\n",
        "        self.seed_type = seed_type\n",
        "        \n",
        "    def __str__(self):\n",
        "        return f'The name of the fruit is {self.name} and its seeds are {self.seed_type}'\n",
        "    \n",
        "fruit1 = Fruit('Kiwi','soft')\n",
        "print(fruit1)"
      ]
    },
    {
      "cell_type": "markdown",
      "metadata": {
        "id": "f46EHytMPxhz"
      },
      "source": [
        "Task: <br>\n",
        "1) add 2 attributes: Taste and color<br>\n",
        "2) Add 3 instances of the object"
      ]
    },
    {
      "cell_type": "code",
      "execution_count": 27,
      "metadata": {
        "id": "sIl4HSnVPxh0"
      },
      "outputs": [
        {
          "name": "stdout",
          "output_type": "stream",
          "text": [
            "[{'name': 'pear', 'seed': 'small', 'taste': 'fresh', 'color': 'green'}, {'name': 'apple', 'seed': 'small', 'taste': 'fresh', 'color': 'red'}, {'name': 'banana', 'seed': 'tiny', 'taste': 'fresh', 'color': 'yellow'}]\n"
          ]
        }
      ],
      "source": [
        "types = ['pear', 'apple', 'banana']\n",
        "fruits = []\n",
        "#your code here\n",
        "class Fruit:\n",
        "    def __init__(self,name='apple',color='red',seed='small',taste='fresh') -> None:\n",
        "        self.name = name\n",
        "        self.seed = seed\n",
        "        self.taste = taste\n",
        "        self.color = color\n",
        "        pass\n",
        "\n",
        "pear = Fruit('pear','green')\n",
        "apple = Fruit()\n",
        "banana = Fruit('banana', 'yellow', 'tiny')\n",
        "fruits += [pear,apple,banana]\n",
        "print([fruit.__dict__ for fruit in fruits])"
      ]
    },
    {
      "cell_type": "markdown",
      "metadata": {
        "id": "KmIiA7XdpNTG"
      },
      "source": [
        "Create a new class called NumberTheory with the following\n",
        "methods:\n",
        "1) is_prime\n",
        "2) factors\n",
        "3) prime_factors\n",
        "4) square_root\n",
        "<br> Hint for prime number finder is below:"
      ]
    },
    {
      "cell_type": "code",
      "execution_count": 28,
      "metadata": {
        "id": "8ifI57HOivFe"
      },
      "outputs": [
        {
          "name": "stdout",
          "output_type": "stream",
          "text": [
            "2\n",
            "3\n"
          ]
        }
      ],
      "source": [
        "import math\n",
        "for i in range(2,int(math.sqrt(10))+1):\n",
        "  print(i)"
      ]
    },
    {
      "cell_type": "code",
      "execution_count": 29,
      "metadata": {
        "id": "92hAWBaUPxh1"
      },
      "outputs": [
        {
          "name": "stdout",
          "output_type": "stream",
          "text": [
            "{'number': 0, 'even': False, 'is_prime': True, 'factors': [], 'prime_factors': [], 'square_root': 0.0}\n",
            "\n",
            "{'number': 3, 'even': False, 'is_prime': True, 'factors': [1, 3], 'prime_factors': [1, 3], 'square_root': 1.7320508075688772}\n",
            "\n",
            "{'number': 6, 'even': False, 'is_prime': False, 'factors': [1, 2, 3, 6], 'prime_factors': [1, 2, 3], 'square_root': 2.449489742783178}\n",
            "\n",
            "{'number': 9, 'even': False, 'is_prime': False, 'factors': [1, 3, 9], 'prime_factors': [1, 3], 'square_root': 3.0}\n",
            "\n",
            "{'number': 12, 'even': False, 'is_prime': False, 'factors': [1, 2, 3, 4, 6, 12], 'prime_factors': [1, 2, 3], 'square_root': 3.4641016151377544}\n",
            "\n",
            "{'number': 15, 'even': False, 'is_prime': False, 'factors': [1, 3, 5, 15], 'prime_factors': [1, 3, 5], 'square_root': 3.872983346207417}\n",
            "\n",
            "{'number': 18, 'even': False, 'is_prime': False, 'factors': [1, 2, 3, 6, 9, 18], 'prime_factors': [1, 2, 3], 'square_root': 4.242640687119285}\n",
            "\n",
            "{'number': 21, 'even': False, 'is_prime': False, 'factors': [1, 3, 7, 21], 'prime_factors': [1, 3, 7], 'square_root': 4.58257569495584}\n",
            "\n",
            "{'number': 24, 'even': False, 'is_prime': False, 'factors': [1, 2, 3, 4, 6, 8, 12, 24], 'prime_factors': [1, 2, 3], 'square_root': 4.898979485566356}\n",
            "\n",
            "{'number': 27, 'even': False, 'is_prime': False, 'factors': [1, 3, 9, 27], 'prime_factors': [1, 3], 'square_root': 5.196152422706632}\n",
            "\n",
            "{'number': 30, 'even': False, 'is_prime': False, 'factors': [1, 2, 3, 5, 6, 10, 15, 30], 'prime_factors': [1, 2, 3, 5], 'square_root': 5.477225575051661}\n",
            "\n",
            "{'number': 33, 'even': False, 'is_prime': False, 'factors': [1, 3, 11, 33], 'prime_factors': [1, 3, 11], 'square_root': 5.744562646538029}\n",
            "\n"
          ]
        }
      ],
      "source": [
        "import math\n",
        "#Your code here\n",
        "class NumberTheory:\n",
        "    def __init__(self, number) -> None:\n",
        "        self.number = number\n",
        "        self.even = False\n",
        "        self.is_prime = self.find_prime(number)\n",
        "        self.factors = self.find_factors()\n",
        "        self.prime_factors = []\n",
        "        self.find_prime_factors()\n",
        "        self.square_root = math.sqrt(number)\n",
        "        \n",
        "    def even(self)->bool:\n",
        "        return True if self.number % 2 == 0 else False\n",
        "\n",
        "    def find_prime(self,number)->None:\n",
        "        \"\"\"Finds whether or not the classes number is prime\"\"\"\n",
        "        for num in range(2,int(number**1/2)+1):\n",
        "            if number % num ==0:\n",
        "                return False\n",
        "        return True\n",
        "\n",
        "    def find_factors(self)->None:\n",
        "        \"\"\"Finds factors of the classes number\"\"\"\n",
        "        factors = []\n",
        "        for num in range(1,self.number+1):\n",
        "            if self.number % num==0:\n",
        "                factors.append(num)\n",
        "        return factors\n",
        "    \n",
        "    def find_prime_factors(self)->None:\n",
        "        \"\"\"Finds all the prime factors in the factors of the classes number\"\"\"\n",
        "        if self.factors != []:\n",
        "            [self.prime_factors.append(factor) for factor in self.factors if self.find_prime(factor)]\n",
        "\n",
        "    def find_GCD(self,number:int)->int:\n",
        "        x = self.number, y = number\n",
        "        while(y):\n",
        "            x, y = y, x % y\n",
        "        return x\n",
        "        \n",
        "number_classes = [NumberTheory(num) for num in range(0,36,3)]\n",
        "for number in number_classes:\n",
        "    print(f'{number.__dict__}\\n')\n",
        "\n",
        "    "
      ]
    },
    {
      "cell_type": "markdown",
      "metadata": {
        "id": "8adtG9FxPxh2"
      },
      "source": [
        "<h2>Revisiting the Geometry Class Exercise</h2>\n",
        "Now for review, we'll briefly revisit the structure of the class you created yesterday. <br>\n",
        "TASK: Simplify this code to accept 2 sides only and switch accepted shape types to include circle, square, and rectangle (you're replacing triangle with square, so you'll only need 1 side for area and perimeter). "
      ]
    },
    {
      "cell_type": "code",
      "execution_count": 30,
      "metadata": {
        "id": "wdw3CU2dPxh2"
      },
      "outputs": [
        {
          "name": "stdout",
          "output_type": "stream",
          "text": [
            "14\n"
          ]
        },
        {
          "ename": "ValueError",
          "evalue": "math domain error",
          "output_type": "error",
          "traceback": [
            "\u001b[0;31m---------------------------------------------------------------------------\u001b[0m",
            "\u001b[0;31mValueError\u001b[0m                                Traceback (most recent call last)",
            "Input \u001b[0;32mIn [30]\u001b[0m, in \u001b[0;36m<module>\u001b[0;34m\u001b[0m\n\u001b[1;32m     30\u001b[0m shape \u001b[38;5;241m=\u001b[39m Geometry(\u001b[38;5;124m'\u001b[39m\u001b[38;5;124mtriangle\u001b[39m\u001b[38;5;124m'\u001b[39m, \u001b[38;5;241m4\u001b[39m,\u001b[38;5;241m2\u001b[39m,\u001b[38;5;241m8\u001b[39m)\n\u001b[1;32m     31\u001b[0m \u001b[38;5;28mprint\u001b[39m(shape\u001b[38;5;241m.\u001b[39mperimeter())\n\u001b[0;32m---> 32\u001b[0m \u001b[38;5;28mprint\u001b[39m(\u001b[43mshape\u001b[49m\u001b[38;5;241;43m.\u001b[39;49m\u001b[43marea\u001b[49m\u001b[43m(\u001b[49m\u001b[43m)\u001b[49m)\n",
            "Input \u001b[0;32mIn [30]\u001b[0m, in \u001b[0;36mGeometry.area\u001b[0;34m(self)\u001b[0m\n\u001b[1;32m     19\u001b[0m \u001b[38;5;124;03m\"\"\"returns area of the shape\"\"\"\u001b[39;00m\n\u001b[1;32m     20\u001b[0m values\u001b[38;5;241m=\u001b[39m\u001b[38;5;28mlist\u001b[39m(\u001b[38;5;28mself\u001b[39m\u001b[38;5;241m.\u001b[39mshape\u001b[38;5;241m.\u001b[39mvalues())[\u001b[38;5;241m0\u001b[39m]\n\u001b[1;32m     21\u001b[0m \u001b[38;5;28;01mmatch\u001b[39;00m \u001b[38;5;28mlist\u001b[39m(\u001b[38;5;28mself\u001b[39m\u001b[38;5;241m.\u001b[39mshape\u001b[38;5;241m.\u001b[39mkeys())[\u001b[38;5;241m0\u001b[39m]:\n\u001b[1;32m     22\u001b[0m     \u001b[38;5;28;01mcase\u001b[39;00m \u001b[38;5;124m'\u001b[39m\u001b[38;5;124mtriangle\u001b[39m\u001b[38;5;124m'\u001b[39m:\n\u001b[1;32m     23\u001b[0m         half_perimeter \u001b[38;5;241m=\u001b[39m \u001b[38;5;28msum\u001b[39m(values) \u001b[38;5;241m/\u001b[39m \u001b[38;5;241m2\u001b[39m\n\u001b[0;32m---> 24\u001b[0m         \u001b[38;5;28;01mreturn\u001b[39;00m \u001b[43mmath\u001b[49m\u001b[38;5;241;43m.\u001b[39;49m\u001b[43msqrt\u001b[49m\u001b[43m(\u001b[49m\u001b[43mhalf_perimeter\u001b[49m\u001b[38;5;241;43m*\u001b[39;49m\u001b[43mmath\u001b[49m\u001b[38;5;241;43m.\u001b[39;49m\u001b[43mprod\u001b[49m\u001b[43m(\u001b[49m\u001b[43m[\u001b[49m\u001b[43mhalf_perimeter\u001b[49m\u001b[38;5;241;43m-\u001b[39;49m\u001b[43mside\u001b[49m\u001b[43m \u001b[49m\u001b[38;5;28;43;01mfor\u001b[39;49;00m\u001b[43m \u001b[49m\u001b[43mside\u001b[49m\u001b[43m \u001b[49m\u001b[38;5;129;43;01min\u001b[39;49;00m\u001b[43m \u001b[49m\u001b[43mvalues\u001b[49m\u001b[43m]\u001b[49m\u001b[43m)\u001b[49m\u001b[43m)\u001b[49m\n\u001b[1;32m     25\u001b[0m     \u001b[38;5;28;01mcase\u001b[39;00m \u001b[38;5;124m'\u001b[39m\u001b[38;5;124mcircle\u001b[39m\u001b[38;5;124m'\u001b[39m:\n\u001b[1;32m     26\u001b[0m         \u001b[38;5;28;01mreturn\u001b[39;00m math\u001b[38;5;241m.\u001b[39mpi \u001b[38;5;241m*\u001b[39m values[\u001b[38;5;241m0\u001b[39m]\u001b[38;5;241m*\u001b[39m\u001b[38;5;241m*\u001b[39m\u001b[38;5;241m2\u001b[39m\n\u001b[1;32m     27\u001b[0m     \u001b[38;5;28;01mcase\u001b[39;00m \u001b[38;5;28;01m_\u001b[39;00m :\n\u001b[1;32m     28\u001b[0m         \u001b[38;5;28;01mreturn\u001b[39;00m math\u001b[38;5;241m.\u001b[39mprod(values)\n",
            "\u001b[0;31mValueError\u001b[0m: math domain error"
          ]
        }
      ],
      "source": [
        "import math\n",
        "class Geometry:\n",
        "    def __init__(self, shape, *args) -> None:\n",
        "        \"\"\"Takes in the name of the shape as a string and the lenght of the shapes sides.\n",
        "        If the shape is a circle just the radius in addition to the shape name 'circle' \"\"\"\n",
        "        self.shape = {shape:(args)}\n",
        "        pass\n",
        "\n",
        "    def perimeter(self)->int:\n",
        "        \"\"\"returns perimeter of the shape\"\"\"\n",
        "        values=list(self.shape.values())[0]\n",
        "        match list(self.shape.keys())[0].lower():\n",
        "            case 'circle':\n",
        "                return 2* math.pi * values[0]\n",
        "            case _ :\n",
        "                return sum(values)\n",
        "\n",
        "    def area(self)->int:\n",
        "        \"\"\"returns area of the shape\"\"\"\n",
        "        values=list(self.shape.values())[0]\n",
        "        match list(self.shape.keys())[0]:\n",
        "            case 'triangle':\n",
        "                half_perimeter = sum(values) / 2\n",
        "                return math.sqrt(half_perimeter*math.prod([half_perimeter-side for side in values]))\n",
        "            case 'circle':\n",
        "                return math.pi * values[0]**2\n",
        "            case _ :\n",
        "                return math.prod(values)\n",
        "\n",
        "shape = Geometry('triangle', 4,2,8)\n",
        "print(shape.perimeter())\n",
        "print(shape.area())"
      ]
    },
    {
      "cell_type": "markdown",
      "metadata": {
        "id": "82G8nPvqPxh3"
      },
      "source": [
        "<h2>Banking App Model</h2>"
      ]
    },
    {
      "cell_type": "markdown",
      "metadata": {
        "id": "qJ1wZ2spq0FN"
      },
      "source": [
        "Open an account with Name and possibly an initial deposit amount\n",
        "When you print the object have This person deposited X amount and now has Y amount on deposit\n"
      ]
    },
    {
      "cell_type": "code",
      "execution_count": 13,
      "metadata": {
        "id": "CKgGTPXAPxh4"
      },
      "outputs": [
        {
          "name": "stdout",
          "output_type": "stream",
          "text": [
            "[Account objects]:\n",
            "[<__main__.Account object at 0x1115bfbb0>, <__main__.Account object at 0x1115bfd60>, <__main__.Account object at 0x1115bf8e0>, <__main__.Account object at 0x1115bf370>]\n",
            "\n",
            "[Rogers Account Info]:\n",
            "('roger', 21059251731671, 7314859588064, 50000, 0)\n",
            "\n",
            "[Rogers Transaction Object]:\n",
            "<__main__.Transaction object at 0x110445870>\n",
            "\n",
            "[Rogers Transaction Details]:\n",
            "(21059251731671, 7314859588064, 2236245136403, 7314859588064, 500)\n",
            "\n",
            "[Rogers Updated Account]:\n",
            "('roger', 21059251731671, 7314859588064, 49500, 0)\n",
            "[Dans Updated Account]:\n",
            "('dan', 2236245136403, 7314859588064, 50500, 0)\n",
            "\n",
            "[Diannes Updated Account]:\n",
            "('dianne', 17480601048255, 7937286666771, -95366513, 0)\n",
            "\n",
            "[Rogers Updated Account]:\n",
            "('roger', 21059251731671, 7314859588064, 95466013, 0)\n",
            "[Roger After Withdraw]:\n",
            "('roger', 21059251731671, 7314859588064, 95464513, 1500)\n",
            "Bank Vault Balance: 998500\n",
            "\n",
            "[Roger After Deposit]:\n",
            "('roger', 21059251731671, 7314859588064, 95466013, 0)\n",
            "Bank Vault Balance: 1000000\n",
            "\n"
          ]
        }
      ],
      "source": [
        "from random import randint\n",
        "\n",
        "'''    --------OVERVIEW--------\n",
        " All actions are performed by using the \n",
        " Bank class and its methods.\n",
        "\n",
        " The bank creates a Transaction instance\n",
        " using details from the request.\n",
        "\n",
        " Finally the Transaction instance acts directly on\n",
        " the Account instance transferring money from account\n",
        " to account.\n",
        "\n",
        " Or in the case of deposits and withdraws, the Transaction\n",
        " interfaces with the banks vault and users wallet instead.\n",
        "'''\n",
        "\n",
        "class Account:\n",
        "    \"\"\"Each account only requires a name. INSECURE defaults are used if no other arguments are passed.\n",
        "    Other optional arguments are the starting balance, account password, banks master password (this is bad lol), unique account number, \n",
        "    storage list of all involved transactions, and routing number of the bank the Account was opened at, and a personal wallet.\"\"\"\n",
        "    def __init__(self, name:str, balance:float=50_000, password:str='admin', bank_password:str='admin', bank_routing_number:int=666) -> None:\n",
        "        self.name = name\n",
        "        self.__balance = balance\n",
        "        self.__wallet = 0\n",
        "        self.__pasword = password\n",
        "        self.__bank_password = bank_password\n",
        "        self.__transactions = []\n",
        "        # putting two underscores infront of class variable names makes them private to the class\n",
        "        # these variables may not be called with dot notation or by key, only through class methods\n",
        "        self.__account_number = int(('').join([str(randint(0,10)) for _ in range(13)]))\n",
        "        self.routing_number = bank_routing_number\n",
        "\n",
        "    def account_info(self, password:str)->tuple|bool:\n",
        "        \"\"\"Get user account and routing number if the correct password is supplied\"\"\"\n",
        "        # if the password supplied matches the Account or Bank admin password\n",
        "        if password == self.__pasword or password == self.__bank_password:\n",
        "            # return the deets\n",
        "            return self.name, self.__account_number, self.routing_number, self.__balance, self.__wallet\n",
        "        # if wrong password\n",
        "        else: raise Exception('Invalid Password')\n",
        "\n",
        "    def change_password(self, password:str)->bool:\n",
        "        \"\"\"changes or updates the accounts password. Must supply the existing password\"\"\"\n",
        "        # If correct password provided\n",
        "        if password == self.__pasword:\n",
        "            # user must enter and re-enter a new passwore\n",
        "            pass1 = input('Enter new password: ')\n",
        "            pass2 = input('Confirm password: ')\n",
        "            # if passwords match\n",
        "            if pass1 == pass2: \n",
        "                self.__pasword = pass2\n",
        "                # exit gracefully\n",
        "                return True\n",
        "            # better get it right the first time\n",
        "            else: raise Exception('Password Missmatch')\n",
        "        else: raise Exception('Invalid Password')\n",
        "\n",
        "    def atm(self, account_number:int, amount:float)->bool:\n",
        "        \"\"\"Gets called on atm transactions to perform the transaction using\n",
        "        account number and transaction amount\"\"\"\n",
        "        # if the account number is correct\n",
        "        if account_number == self.__account_number:\n",
        "            # perform the transaction and adjust wallet and balance\n",
        "            self.__balance += amount\n",
        "            self.__wallet -= amount\n",
        "            return True\n",
        "        # if wrong account number supplied\n",
        "        else: raise Exception('Invalid Account Numbers')\n",
        "\n",
        "    def check_password(self, password:str)->bool:\n",
        "        \"\"\"Checks the user password. Used by the bank for account verification\"\"\"\n",
        "        # user or bank may view the password\n",
        "        if password == self.__bank_password or password == self.__pasword:\n",
        "            return True\n",
        "        # bad password == error\n",
        "        else: raise Exception('Invalid Password')\n",
        "            \n",
        "    def bill(self, account_number:int, amount:float)->bool:\n",
        "        \"\"\"Called on by Transaction instances during non ATM transactions.\n",
        "        Gets passed an account number and transaction amount. Almost redundant\"\"\"\n",
        "        # if the account number supplied matches the accounts\n",
        "        if account_number == self.__account_number:\n",
        "            # perform the transaction\n",
        "            self.__balance -= amount\n",
        "            # return a success \n",
        "            return True\n",
        "        # if wrong account number provided\n",
        "        raise Exception('Invalid Account Numbers')\n",
        "\n",
        "    def record_transaction(self, transaction, password:str)->bool:\n",
        "        \"\"\"stores Account involved transactions. After Transaction instance completes a\n",
        "           transaction\"\"\"\n",
        "        # verify password\n",
        "        if password == self.__pasword or password == self.__bank_password:\n",
        "            # add transaction to Account\n",
        "            self.__transactions.append(transaction)\n",
        "\n",
        "\n",
        "class Transaction:\n",
        "    \"\"\"Carries out and records the exchanging and moving of money for every requested bank transaction.\n",
        "    See help for method details and usage\"\"\"\n",
        "    # Very basic encryption. Sets defaults to a random number for every new transaction.\n",
        "    defaults = [randint(0, 12) for _ in range (15)][0]\n",
        "    def __init__(\n",
        "        # Initializing gob of variables (gross)\n",
        "            self,\n",
        "            from_account:Account, \n",
        "            account_number, \n",
        "            routing_number, \n",
        "            transaction_type:'str'=defaults,\n",
        "            amount:float=defaults, \n",
        "            to_account:Account=defaults, \n",
        "            to_account_number:int=defaults, \n",
        "            to_routing_number:int=defaults, \n",
        "        )-> None:    \n",
        "        # sender details\n",
        "        self.__from_account_number = account_number\n",
        "        self.__from_routing_number = routing_number\n",
        "        # recipient details\n",
        "        self.__to_account_number = to_account_number\n",
        "        self.__to_routing_number = to_routing_number\n",
        "        # transaction type\n",
        "        self.__transaction_type = transaction_type\n",
        "        # amount\n",
        "        self.__amount = amount\n",
        "        # depending on transaction type, perform the right transaction actions\n",
        "        match self.__transaction_type:\n",
        "            case 'deposit':\n",
        "                self.__atm(from_account) \n",
        "            case 'withdraw':\n",
        "                self.__atm(from_account) \n",
        "            case 'internal':\n",
        "                self.__make_transaction(from_account, to_account)\n",
        "            case 'external':\n",
        "                self.__make_transaction(from_account, to_account)\n",
        "    \n",
        "    def __make_transaction(self, from_account:Account, to_account:Account)->bool:\n",
        "        '''bills and debits the accounts involved in a transaction.\n",
        "        sender Account instance and recipient Account instance required'''\n",
        "        # performing transaction on each account\n",
        "        updated_account = from_account.bill(self.__from_account_number, self.__amount)\n",
        "        updated_to_account = to_account.bill(self.__to_account_number, -self.__amount)\n",
        "        # If both transactions were successful\n",
        "        if updated_to_account and updated_account: \n",
        "            from_account.record_transaction(self)\n",
        "            to_account.record_transaction(self)\n",
        "            return True \n",
        "        else: raise Exception('Transaction Failed')\n",
        "\n",
        "    def __atm(self, from_account:Account)->bool:\n",
        "        \"\"\"Handles 'ATM' withdraws and deposits. requires Account instance.\n",
        "        BANK VAULT UPDATING HANDLED IN BANK CLASS\"\"\"\n",
        "        # set Transaction routing number so transaction may be accessed later\n",
        "        # self.__from_account_number = from_account.routing_number\n",
        "        withdraw = from_account.atm(self.__from_account_number, self.__amount)\n",
        "        if withdraw: \n",
        "            from_account.record_transaction(self)\n",
        "            return True \n",
        "        else: raise Exception('Invalid Account Numbers')\n",
        "\n",
        "    def view_details(self, account_number, routing_number)->tuple:\n",
        "        \"\"\"Shows the account and routing numbers for both Accounts involved in the transaction, as well as the transaction amount.\n",
        "            Account and routing numbers of an involved Account instance must be supplied.\"\"\"\n",
        "        # Check account and routing number supplied. If they match either sender or receiver account details\n",
        "        if account_number == self.__from_account_number and routing_number == self.__from_routing_number or \\\n",
        "            account_number == self.__to_account_number and routing_number == self.__to_routing_number:\n",
        "            # return the transaction details\n",
        "            return self.__from_account_number, self.__from_routing_number, self.__to_account_number, self.__to_routing_number, self.__amount\n",
        "        # If the provided numbers are not valid\n",
        "        else: raise Exception('Invalid Account Numbers')\n",
        "\n",
        "\n",
        "\n",
        "\n",
        "class Bank:\n",
        "    \"\"\"A fully fledged bank branch. Handles user creation, formatting requests, creating transactions\n",
        "        basic validation, ATM functionality, and vault maintenance. Each bank has a unique routing number,\n",
        "        changeable password, accounts list and transaction history. Internal transfers as well as transfers\n",
        "        to other Banks are supported.\"\"\"\n",
        "\n",
        "    def __init__(self) -> None:\n",
        "        \"\"\"Initializing the Bank. No input needed. Update to dynamic initialization values pending....\"\"\"\n",
        "        self.__vault = 1_000_000\n",
        "        self.routing_number = int(('').join([str(randint(0,9)) for _ in range(13)]))\n",
        "        self.__admin_password = 'admin'\n",
        "        self.accounts = []\n",
        "        self.transactions = []\n",
        "    \n",
        "    def new_account(self, name:str, balance:float=50_000, password:str='admin', bank_password:str='admin')->bool:\n",
        "        \"\"\"For creating new accounts only a name is required if the default arguments are sufficient. If\n",
        "        so the users will have a default password of 'admin' and a starting balance of 50K. \n",
        "        Users may change their password any time using Account.change_password()\"\"\"\n",
        "        # Banks admin password is required to create accounts\n",
        "        if bank_password != self.__admin_password:\n",
        "            raise Exception('Invalid Password')\n",
        "        # initialize a new account\n",
        "        new_account = Account(name, balance, password)\n",
        "        new_account.routing_number = self.routing_number\n",
        "        # add it to the list of user accounts\n",
        "        self.accounts.append(new_account)\n",
        "        return True\n",
        "\n",
        "    def new_transaction(self, account_name:str, to_account_name:str, transaction_type:str, transaction_amount:float, password:str)->Transaction|bool:\n",
        "        \"\"\"For sending money from account to account. Needs a sending Account instance, receiving Account instance, \n",
        "        what type of transaction it is, and the password of the sending account.\n",
        "        \"\"\"\n",
        "        # check account for the two users\n",
        "        for user in self.accounts:\n",
        "            # when the sender is found, and password is verified\n",
        "            if user.name == account_name and user.check_password(password):\n",
        "                # save user as sender\n",
        "                from_user = user\n",
        "                # along with their account and routing numbers\n",
        "                from_info = from_user.account_info(password)[1:3]\n",
        "            # when the receiver is found\n",
        "            if user.name == to_account_name:\n",
        "                # save their instance\n",
        "                to_user = user\n",
        "                # get account/routing data using the banks admin password\n",
        "                to_info = to_user.account_info(self.__admin_password)[1:3]\n",
        "        # now that both users are found, create a Transaction instance to handle the money transfer\n",
        "        transaction = Transaction(from_user, *from_info, transaction_type, transaction_amount, to_user, *to_info)\n",
        "        # if the transaction was a success retun the transaction instance\n",
        "        if transaction: return transaction\n",
        "        # Or raise exception if transaction failed\n",
        "        else: raise Exception('Transaction Error')\n",
        "\n",
        "    def receive_external_transfer(self, account:Account, receiving_account_number, amount):\n",
        "        \"\"\"Allows user from another bank to send money to a user of this bank.\n",
        "        Senders Account instance, recipients account number, and transfer amount are required.\"\"\"\n",
        "        # If a user tried to request money using this method an error is raised\n",
        "        if amount <= 0: raise Exception('Invalid transfer. Inbound Payments only')\n",
        "        # find the recipient from their account number\n",
        "        recipient = [user for user in self.accounts if receiving_account_number == user.account_info(self.__admin_password)[1]][0]\n",
        "        # create a transaction instance (sender Account instance, sender account number, \n",
        "        #   the receiving banks routing number, the transfer type, amount, and recipients account number)\n",
        "        transaction = Transaction(account, account.account_info('admin')[1], self.routing_number, 'external', amount, recipient, receiving_account_number)\n",
        "        # if tranaction was successful\n",
        "        if transaction: return transaction\n",
        "        # if not.....ERROR\n",
        "        else: raise Exception('Transaction Error')\n",
        "\n",
        "    def display_account(self, account_name:str, password:str):\n",
        "        \"\"\"For retrieving user account information from an Account instance.\n",
        "        Requires account name and either user or bank_admin password\"\"\"\n",
        "        # search for the user\n",
        "        for user in self.accounts:\n",
        "            # once found\n",
        "            if user.name == account_name:\n",
        "                # check if the supplied password is correct\n",
        "                if user.check_password(password):\n",
        "                    # store and return the account details\n",
        "                    details = user.account_info(password)\n",
        "                    return details\n",
        "        raise Exception('Account Not Found')\n",
        "\n",
        "    def atm(self, account_name:str, password:str, transaction_type:str, amount:float)->None:\n",
        "        \"\"\"Allows a user to withraw and deposit money. This can be thought of not as an individual ATM,\n",
        "        but as the system than manages all ATM transactions. Takes in an account name, password, \n",
        "        transaction type ('withdraw' or 'deposit'), and an amount for the transaction\"\"\"\n",
        "        # This is beefy, but it IS the banks whole atm system. Mostly condition and error checks\n",
        "        # flip values depending on withdraw or deposit\n",
        "        match transaction_type:\n",
        "            case 'withdraw':\n",
        "                amount *= -1\n",
        "                pass\n",
        "            case 'deposit':\n",
        "                pass\n",
        "            case _:\n",
        "                # if invalid transfer type, do nothing and return False indication transaction failure\n",
        "                return False\n",
        "        # search for the user\n",
        "        for user in self.accounts:\n",
        "            # once found\n",
        "            if user.name == account_name:\n",
        "                # check if the supplied password is correct\n",
        "                if user.check_password(password):\n",
        "                    # store account details\n",
        "                    details = user.account_info(password)\n",
        "                    # if the transaction is a withdraw, make sure the funds are available and the account is positive\n",
        "                    if transaction_type == 'withdraw' and (details[-2] < abs(amount) and details[-2] < 0):\n",
        "                        raise Exception('Insuffecient Funds')\n",
        "                    # dont let the user deposit a negative amount or deposit if their wallet is empty or negative\n",
        "                    if transaction_type == 'deposit' and (amount <= 0 or details[-1] <= 0):\n",
        "                        raise Exception('Invalid Transaction. Positive deposits only.')\n",
        "                    # send transaction using account details and type\n",
        "                    transaction = Transaction(user, *details[1:3], transaction_type, amount)\n",
        "                    # if transaction was successful\n",
        "                    if transaction:\n",
        "                        # update the bank vault\n",
        "                        self.__vault += amount\n",
        "                        # return the transaction instance\n",
        "                        return transaction \n",
        "                    # if transaction failed raise error\n",
        "                    else: raise Exception('Transaction Failed')\n",
        "                else: raise Exception('Invalid Password')\n",
        "        else: raise Exception('Account Not Found')\n",
        "\n",
        "    def check_password(self, password:str)->bool:\n",
        "        \"\"\"Verifies bank admin password. Takes in a password\"\"\"\n",
        "        # comparint supplied password matches the bank admin password and returing the appropriate bool\n",
        "        if password == self.__admin_password: return True \n",
        "        else: raise Exception('Invalid Password')\n",
        "\n",
        "    def check_vault(self, password:str)->float:\n",
        "        \"\"\"Send supplied password to admin password verififier and if correct returns the banks vault balance,\n",
        "        or False if the password was invalid\"\"\"\n",
        "        if self.check_password(password):return self.__vault \n",
        "        else: raise Exception('Invalid Password')\n",
        "\n",
        "\n",
        "\n",
        "demo=True\n",
        "if demo == True:\n",
        "    # [--------CREATING ACCOUNTS--------]\n",
        "    # Creating accounts (like most everything else) is done via a Bank instance.\n",
        "    #   1. All that is needed is a name (string), but optionally a user password (string) can be specified.\n",
        "    #      If no password is passed 'admin' will be the default user password\n",
        "    #   2. Each user will be assigned a random account number and the routing number associated with the bank.\n",
        "    # initializing a new bank\n",
        "    bank = Bank()\n",
        "    names = ['roger', 'dan', 'bill', 'stephen']\n",
        "    _ = [bank.new_account(name) for name in names]\n",
        "\n",
        "    # The accounts are all located in bank.accounts (list)\n",
        "    print(f\"[Account objects]:\\n{bank.accounts}\\n\")\n",
        "    # To show the details of an account call bank.display_account()\n",
        "    #   the users name and either the users password, or the banks password must be provided.\n",
        "    # The users name, account number, routing number, account balance, and wallet will be returned.\n",
        "    rogers_details = bank.display_account('roger', 'admin')\n",
        "    # saving the account and routing number for later\n",
        "    roger_account_number = rogers_details[1]\n",
        "    roger_routing_number = rogers_details[2]\n",
        "    print(f\"[Rogers Account Info]:\\n{rogers_details}\\n\")\n",
        "\n",
        "\n",
        "    # [--------INTERNAL TRANSACTIONS--------]\n",
        "    #   Call the new_transaction() method on the bank with the following arguments:\n",
        "    #       senders name, receivers name, and the amount of the transaction. (internal transfers only)\n",
        "    #   The bank will create a Transaction class instance that handles the money.\n",
        "    #   Transactions instances are returned upon creation, and also stored in bank.history (list)\n",
        "    rogers_transaction = bank.new_transaction('roger','dan','internal', 500, 'admin')\n",
        "    print(f\"[Rogers Transaction Object]:\\n{rogers_transaction}\\n\")\n",
        "\n",
        "    #   View the transaction details using .view_details() on the TRANSACTION not the bank and passing\n",
        "    #       the account and routing number of the user the transaction was for.\n",
        "    #   Transaction are stored in bank.transactions (list) in addition to being returned upon creation.\n",
        "    rogers_transaction_details = rogers_transaction.view_details(roger_account_number, roger_routing_number)\n",
        "    print(f\"[Rogers Transaction Details]:\\n{rogers_transaction_details}\\n\")\n",
        "\n",
        "    # Both accounts are updated using the transfer amount:\n",
        "    rogers_details = bank.display_account('roger', 'admin')\n",
        "    dan_details = bank.display_account('dan', 'admin')\n",
        "    # Displaying updated accounts:\n",
        "    print(f\"[Rogers Updated Account]:\\n{rogers_details}\")\n",
        "    print(f\"[Dans Updated Account]:\\n{dan_details}\\n\")\n",
        "\n",
        "\n",
        "    # [--------EXTERNAL TRANSFERS-------]\n",
        "    # External transfers are transfers from one bank to another.\n",
        "    # This requires two or more banks:\n",
        "    # Initializing bank similar to the first\n",
        "    bank2 = Bank()\n",
        "    # Giving bank some accounts\n",
        "    names2 = ['dianne', 'bethany', 'rachel', 'carla']\n",
        "    _ = [bank2.new_account(name) for name in names2]\n",
        "\n",
        "    # External transfers require the senders Account instance, the recepients account number, and amount to transfer\n",
        "    # Find the Account instance of sender\n",
        "    dianne = [user for user in bank2.accounts if user.name == 'dianne'][0]\n",
        "    # That's it! a Transaction instance handles the rest and updates both accounts\n",
        "    bank.receive_external_transfer(dianne, roger_account_number, 95416513)\n",
        "    # See the accounts. (diannes very negative. Now roger is rich!)\n",
        "    dianne_account_details = dianne.account_info('admin')\n",
        "    rogers_details = bank.display_account('roger', 'admin')\n",
        "    print(f\"[Diannes Updated Account]:\\n{dianne_account_details}\\n\")\n",
        "    print(f\"[Rogers Updated Account]:\\n{rogers_details}\")\n",
        "\n",
        "\n",
        "    # [--------USING THE ATM---------]\n",
        "    #   Each user has a personal wallet they may put money in from their bank account by using the ATM\n",
        "    #   Banks vault also updates accordingly for withraw/deposit transactions\n",
        "    #   Pass in to the bank.atm() method a username, password, transaction type ('withdraw', or 'deposit'), and the amount desired.\n",
        "    #   No overdraft protection, sorry.\n",
        "    roger_withdraw_transaction = bank.atm('roger', 'admin', 'withdraw', 1500)\n",
        "    rogers_details = bank.display_account('roger', 'admin')\n",
        "    print(f\"[Roger After Withdraw]:\\n{rogers_details}\")\n",
        "    print(f\"Bank Vault Balance: {bank.check_vault('admin')}\\n\")\n",
        "\n",
        "    #   Depositing is the same except the transaction type is set to 'deposit'\n",
        "    roger_depoist_transaction = bank.atm('roger', 'admin', 'deposit', 1500)\n",
        "    rogers_details = bank.display_account('roger', 'admin')\n",
        "    print(f\"[Roger After Deposit]:\\n{rogers_details}\")\n",
        "    print(f\"Bank Vault Balance: {bank.check_vault('admin')}\\n\")\n",
        "\n",
        "# known uncaught errors center around purposeful misuse of transaction types\n",
        "#   when conducting transactions"
      ]
    },
    {
      "cell_type": "markdown",
      "metadata": {
        "id": "l0jI_X5gPxh5"
      },
      "source": [
        "<h2>HW</h2>\n",
        "Add a withdrawal method<br>\n",
        "NOTE: you cannot let someone withdraw more money than they have in their account<br>\n"
      ]
    },
    {
      "cell_type": "code",
      "execution_count": null,
      "metadata": {
        "id": "w-EyZKEcPxh5"
      },
      "outputs": [],
      "source": []
    }
  ],
  "metadata": {
    "colab": {
      "name": "CI Data Science-Lesson 05_no answers.ipynb",
      "provenance": []
    },
    "kernelspec": {
      "display_name": "Python 3",
      "language": "python",
      "name": "python3"
    },
    "language_info": {
      "codemirror_mode": {
        "name": "ipython",
        "version": 3
      },
      "file_extension": ".py",
      "mimetype": "text/x-python",
      "name": "python",
      "nbconvert_exporter": "python",
      "pygments_lexer": "ipython3",
      "version": "3.10.2"
    }
  },
  "nbformat": 4,
  "nbformat_minor": 0
}
