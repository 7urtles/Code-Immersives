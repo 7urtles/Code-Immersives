{
  "cells": [
    {
      "cell_type": "markdown",
      "metadata": {
        "id": "dyb6pNSGsNqY"
      },
      "source": [
        "\n",
        "\n",
        "\n",
        "\n",
        "\n",
        "<a href=\"https://codeimmersives.com\"><img src = \"https://www.codeimmersives.com/wp-content/uploads/2019/09/CodeImmersives_Logo_RGB_NYC_BW.png\" width = 400> </a>\n",
        "\n",
        "\n",
        "<h1 align=center><font size = 5>Agenda</font></h1>"
      ]
    },
    {
      "cell_type": "markdown",
      "metadata": {
        "id": "5Ftuc9zjvOi2"
      },
      "source": [
        "### \n",
        "<div class=\"alert alert-block alert-info\" style=\"margin-top: 20px\">\n",
        "\n",
        "1. Exercise - racial bias  \n",
        "2. [Pie Charts]\n",
        "3.  Pandas/Matplotlib Exercises in-class\n",
        "4.  [Review](#12)<br>     \n",
        "</div>\n",
        "<hr>"
      ]
    },
    {
      "cell_type": "markdown",
      "metadata": {
        "id": "326qotxX_LP_"
      },
      "source": [
        "<h2> Analyzing and filtering racial bias from 2015 to 2019 </h2>\n",
        "1) Read in the csv"
      ]
    },
    {
      "cell_type": "code",
      "execution_count": 216,
      "metadata": {
        "id": "j5lOXn-y_LQA"
      },
      "outputs": [
        {
          "name": "stdout",
          "output_type": "stream",
          "text": [
            "                                   Race_Ethnicity  2015  2016  2017  2018  \\\n",
            "0                                      Anti-White   613   720   741   762   \n",
            "1                  Anti-Black or African American  1745  1739  2013  1943   \n",
            "2           Anti-American Indian or Alaska Native   131   154   251   194   \n",
            "3                                      Anti-Asian   111   113   131   148   \n",
            "4  Anti-Native Hawaiian or Other Pacific Islander     4     9    16    20   \n",
            "5                      Anti-Multiple Races- Group   113   136   180   137   \n",
            "6                                       Anti-Arab    37    51   102    82   \n",
            "7                         Anti-Hispanic or Latino   299   344   427   485   \n",
            "8              Anti-Other Race/Ethnicity/Ancestry   257   223   270   276   \n",
            "\n",
            "   2019  \n",
            "0   666  \n",
            "1  1930  \n",
            "2   119  \n",
            "3   158  \n",
            "4    21  \n",
            "5   134  \n",
            "6    95  \n",
            "7   527  \n",
            "8   313  \n"
          ]
        }
      ],
      "source": [
        "import pandas as pd\n",
        "import matplotlib.pyplot as plt\n",
        "df = pd.read_csv('Bias_crime_2015_2019.csv')\n",
        "print(df)"
      ]
    },
    {
      "cell_type": "markdown",
      "metadata": {},
      "source": []
    },
    {
      "cell_type": "markdown",
      "metadata": {
        "id": "As8jN2sMGGU8"
      },
      "source": [
        "2) Find the differences in bias from 2019 to 2015 and plot this difference using a barchart with race on the x-axis and the associated bias on the y-axis."
      ]
    },
    {
      "cell_type": "code",
      "execution_count": null,
      "metadata": {
        "id": "ETVMUPBsGNEE"
      },
      "outputs": [],
      "source": []
    },
    {
      "cell_type": "markdown",
      "metadata": {
        "id": "EQFqFwbOGhEP"
      },
      "source": [
        "3) Get the max bias in the year 2015:"
      ]
    },
    {
      "cell_type": "code",
      "execution_count": 217,
      "metadata": {
        "id": "oGV1o2Ka_LQB"
      },
      "outputs": [
        {
          "data": {
            "text/plain": [
              "1745"
            ]
          },
          "execution_count": 217,
          "metadata": {},
          "output_type": "execute_result"
        }
      ],
      "source": [
        "df['2015'].max()\n",
        "\n"
      ]
    },
    {
      "cell_type": "code",
      "execution_count": 218,
      "metadata": {
        "id": "nfOLyMqI_LQB"
      },
      "outputs": [
        {
          "name": "stdout",
          "output_type": "stream",
          "text": [
            "[613, 1745, 131, 111, 4, 113, 37, 299, 257]\n"
          ]
        },
        {
          "ename": "NameError",
          "evalue": "name 'df_max' is not defined",
          "output_type": "error",
          "traceback": [
            "\u001b[0;31m---------------------------------------------------------------------------\u001b[0m",
            "\u001b[0;31mNameError\u001b[0m                                 Traceback (most recent call last)",
            "\u001b[1;32m/Users/charlesparmley/Desktop/PY-121--Python_for_Data_Science/class_16/Copy_of_CI_Data_Science_Lesson_17_without_answers.ipynb Cell 9'\u001b[0m in \u001b[0;36m<module>\u001b[0;34m\u001b[0m\n\u001b[1;32m      <a href='vscode-notebook-cell:/Users/charlesparmley/Desktop/PY-121--Python_for_Data_Science/class_16/Copy_of_CI_Data_Science_Lesson_17_without_answers.ipynb#ch0000009?line=2'>3</a>\u001b[0m x \u001b[39m=\u001b[39m [v \u001b[39mfor\u001b[39;00m k,v \u001b[39min\u001b[39;00m eth_dict\u001b[39m.\u001b[39mitems()]\n\u001b[1;32m      <a href='vscode-notebook-cell:/Users/charlesparmley/Desktop/PY-121--Python_for_Data_Science/class_16/Copy_of_CI_Data_Science_Lesson_17_without_answers.ipynb#ch0000009?line=3'>4</a>\u001b[0m \u001b[39mprint\u001b[39m(x)\n\u001b[0;32m----> <a href='vscode-notebook-cell:/Users/charlesparmley/Desktop/PY-121--Python_for_Data_Science/class_16/Copy_of_CI_Data_Science_Lesson_17_without_answers.ipynb#ch0000009?line=4'>5</a>\u001b[0m explode \u001b[39m=\u001b[39m [\u001b[39m.05\u001b[39m \u001b[39mif\u001b[39;00m v \u001b[39m==\u001b[39m df_max \u001b[39melse\u001b[39;00m \u001b[39m0\u001b[39m \u001b[39mfor\u001b[39;00m k,v \u001b[39min\u001b[39;00m eth_dict\u001b[39m.\u001b[39mitems()] \u001b[39m#only 'explode' the largest slide\u001b[39;00m\n\u001b[1;32m      <a href='vscode-notebook-cell:/Users/charlesparmley/Desktop/PY-121--Python_for_Data_Science/class_16/Copy_of_CI_Data_Science_Lesson_17_without_answers.ipynb#ch0000009?line=5'>6</a>\u001b[0m \u001b[39mprint\u001b[39m(explode)\n\u001b[1;32m      <a href='vscode-notebook-cell:/Users/charlesparmley/Desktop/PY-121--Python_for_Data_Science/class_16/Copy_of_CI_Data_Science_Lesson_17_without_answers.ipynb#ch0000009?line=6'>7</a>\u001b[0m pie_data \u001b[39m=\u001b[39m pd\u001b[39m.\u001b[39mDataFrame({\u001b[39m'\u001b[39m\u001b[39m2015\u001b[39m\u001b[39m'\u001b[39m: df[\u001b[39m'\u001b[39m\u001b[39m2015\u001b[39m\u001b[39m'\u001b[39m]\u001b[39m.\u001b[39mtolist()}, index \u001b[39m=\u001b[39m df[\u001b[39m'\u001b[39m\u001b[39mRace_Ethnicity\u001b[39m\u001b[39m'\u001b[39m])\n",
            "\u001b[1;32m/Users/charlesparmley/Desktop/PY-121--Python_for_Data_Science/class_16/Copy_of_CI_Data_Science_Lesson_17_without_answers.ipynb Cell 9'\u001b[0m in \u001b[0;36m<listcomp>\u001b[0;34m(.0)\u001b[0m\n\u001b[1;32m      <a href='vscode-notebook-cell:/Users/charlesparmley/Desktop/PY-121--Python_for_Data_Science/class_16/Copy_of_CI_Data_Science_Lesson_17_without_answers.ipynb#ch0000009?line=2'>3</a>\u001b[0m x \u001b[39m=\u001b[39m [v \u001b[39mfor\u001b[39;00m k,v \u001b[39min\u001b[39;00m eth_dict\u001b[39m.\u001b[39mitems()]\n\u001b[1;32m      <a href='vscode-notebook-cell:/Users/charlesparmley/Desktop/PY-121--Python_for_Data_Science/class_16/Copy_of_CI_Data_Science_Lesson_17_without_answers.ipynb#ch0000009?line=3'>4</a>\u001b[0m \u001b[39mprint\u001b[39m(x)\n\u001b[0;32m----> <a href='vscode-notebook-cell:/Users/charlesparmley/Desktop/PY-121--Python_for_Data_Science/class_16/Copy_of_CI_Data_Science_Lesson_17_without_answers.ipynb#ch0000009?line=4'>5</a>\u001b[0m explode \u001b[39m=\u001b[39m [\u001b[39m.05\u001b[39m \u001b[39mif\u001b[39;00m v \u001b[39m==\u001b[39m df_max \u001b[39melse\u001b[39;00m \u001b[39m0\u001b[39m \u001b[39mfor\u001b[39;00m k,v \u001b[39min\u001b[39;00m eth_dict\u001b[39m.\u001b[39mitems()] \u001b[39m#only 'explode' the largest slide\u001b[39;00m\n\u001b[1;32m      <a href='vscode-notebook-cell:/Users/charlesparmley/Desktop/PY-121--Python_for_Data_Science/class_16/Copy_of_CI_Data_Science_Lesson_17_without_answers.ipynb#ch0000009?line=5'>6</a>\u001b[0m \u001b[39mprint\u001b[39m(explode)\n\u001b[1;32m      <a href='vscode-notebook-cell:/Users/charlesparmley/Desktop/PY-121--Python_for_Data_Science/class_16/Copy_of_CI_Data_Science_Lesson_17_without_answers.ipynb#ch0000009?line=6'>7</a>\u001b[0m pie_data \u001b[39m=\u001b[39m pd\u001b[39m.\u001b[39mDataFrame({\u001b[39m'\u001b[39m\u001b[39m2015\u001b[39m\u001b[39m'\u001b[39m: df[\u001b[39m'\u001b[39m\u001b[39m2015\u001b[39m\u001b[39m'\u001b[39m]\u001b[39m.\u001b[39mtolist()}, index \u001b[39m=\u001b[39m df[\u001b[39m'\u001b[39m\u001b[39mRace_Ethnicity\u001b[39m\u001b[39m'\u001b[39m])\n",
            "\u001b[0;31mNameError\u001b[0m: name 'df_max' is not defined"
          ]
        }
      ],
      "source": [
        "eth_dict = zip(df['Race_Ethnicity'].tolist(),df['2015'].tolist())\n",
        "eth_dict = dict(eth_dict)\n",
        "x = [v for k,v in eth_dict.items()]\n",
        "print(x)\n",
        "explode = [.05 if v == df_max else 0 for k,v in eth_dict.items()] #only 'explode' the largest slide\n",
        "print(explode)\n",
        "pie_data = pd.DataFrame({'2015': df['2015'].tolist()}, index = df['Race_Ethnicity'])\n",
        "pie_data.plot.pie(y = '2015', explode=explode, figsize = (10,10))"
      ]
    },
    {
      "cell_type": "code",
      "execution_count": null,
      "metadata": {
        "id": "eek_LoXc_LQB"
      },
      "outputs": [],
      "source": [
        "# Show top 2 items\n",
        "eth_dict = zip(df['Race_Ethnicity'].tolist(),df['2015'].tolist())\n",
        "eth_dict = dict(eth_dict)\n",
        "x = [v for k,v in eth_dict.items()]\n",
        "print(x)\n",
        "explode = [.05 if v> 300 else 0 for k,v in eth_dict.items()]\n",
        "print(explode)\n",
        "pie_data = pd.DataFrame({'2015': df['2015'].tolist()}, index = df['Race_Ethnicity'])\n",
        "pie_data.plot.pie(y = '2015', explode=explode, figsize = (10,10))"
      ]
    },
    {
      "cell_type": "markdown",
      "metadata": {
        "id": "XTXZhEzUJ2Qk"
      },
      "source": [
        "4) Find the Top 3 groups in 2015 and plot a pie chart that explodes them out."
      ]
    },
    {
      "cell_type": "code",
      "execution_count": null,
      "metadata": {
        "id": "lB3LYx71KILd"
      },
      "outputs": [],
      "source": [
        "df.sort_values(['2015'], inplace=True)\n",
        "df = df.tail(3)\n",
        "print(df)"
      ]
    },
    {
      "cell_type": "code",
      "execution_count": null,
      "metadata": {
        "id": "XHcgZ_x_K5-K"
      },
      "outputs": [],
      "source": [
        "df.index=df['Race_Ethnicity']\n",
        "df.plot.pie(y='2015')\n"
      ]
    },
    {
      "cell_type": "markdown",
      "metadata": {
        "id": "Wbe7AumyPC2L"
      },
      "source": [
        "Renaming DF's:"
      ]
    },
    {
      "cell_type": "code",
      "execution_count": null,
      "metadata": {
        "id": "OaM4qkCVAqdo"
      },
      "outputs": [],
      "source": [
        "import pandas as pd\n",
        "\n",
        "df = pd.DataFrame({'A': [11, 21, 31],\n",
        "                   'B': [12, 22, 32],\n",
        "                   'C': [13, 23, 33]},\n",
        "                  index=['ONE', 'TWO', 'THREE'])\n",
        "\n",
        "df.add_suffix('-1')"
      ]
    },
    {
      "cell_type": "markdown",
      "metadata": {
        "id": "MWZTgtcmMz45"
      },
      "source": [
        "6) What is the advantage of a pie chart versus bar chart in this use case? "
      ]
    },
    {
      "cell_type": "markdown",
      "metadata": {
        "id": "Aa-tSgVxLSPP"
      },
      "source": [
        "<h2> Exercise: </h2>\n",
        "Converting dict to df:"
      ]
    },
    {
      "cell_type": "code",
      "execution_count": null,
      "metadata": {
        "id": "Dt5BUVpw_LQB"
      },
      "outputs": [],
      "source": [
        "import pandas as pd\n",
        "\n",
        "emps = { '001': ['001','John','2005-03-20','012'],\\\n",
        "         '002': ['002','Rhona','2020-04-20','011'],\\\n",
        "         '003': ['003','Michael','2011-01-20','012'],\\\n",
        "         '004': ['004','Cara','2016-11-20','011'],\\\n",
        "         '005': ['005','Tom','2012-09-20','012'],\\\n",
        "         '011' : ['011','Frank','2005-03-20','999'],\\\n",
        "         '012': ['012','Sara','2001-12-01','999'],\\\n",
        "        '999': ['999','Felisha','1999-10-02','']\n",
        "       }\n",
        "df=pd.DataFrame(emps)\n",
        "x=df.transpose()\n",
        "x2=x.rename(columns=lambda x:f'colum{x}')\n",
        "x2['colum3'][-1]=None\n",
        "x2"
      ]
    },
    {
      "cell_type": "markdown",
      "metadata": {
        "id": "1RJge5XsLbHr"
      },
      "source": [
        " Convert this dict to an appropriate dataframe:"
      ]
    },
    {
      "cell_type": "code",
      "execution_count": null,
      "metadata": {
        "id": "YCYVFl0y_LQB"
      },
      "outputs": [],
      "source": [
        "# make dataframe\n",
        "df = pd.DataFrame(emps.values(),columns=['emp_id','name','hiring_date','super_id']).replace('',0)\n",
        "# re-type columns\n",
        "df = df.astype({'emp_id':'int','hiring_date':'datetime64','super_id':'int'})\n",
        "\n",
        "df\n"
      ]
    },
    {
      "cell_type": "markdown",
      "metadata": {
        "id": "X2z9HU0KAqdo"
      },
      "source": [
        "<h2>Copy a dataframe</h2>"
      ]
    },
    {
      "cell_type": "code",
      "execution_count": null,
      "metadata": {
        "id": "iNMIVsVfAqdo"
      },
      "outputs": [],
      "source": [
        "df = pd.read_csv('Bias_crime_2015_2019.csv')\n",
        "df2 = df.copy()\n",
        "df2.index.names = ['First row']\n",
        "df2\n"
      ]
    },
    {
      "cell_type": "markdown",
      "metadata": {
        "id": "uFuD14-ZAqdq"
      },
      "source": [
        "<h2>Axis()</h2>"
      ]
    },
    {
      "cell_type": "code",
      "execution_count": null,
      "metadata": {
        "id": "cp2HWHw1Aqdq"
      },
      "outputs": [],
      "source": [
        "import pandas as pd\n",
        "\n",
        "df = pd.DataFrame({'A': [11, 21, 31],\n",
        "                   'B': [12, 22, 32],\n",
        "                   'C': [13, 23, 33]},\n",
        "                  index=['ONE', 'TWO', 'THREE'])\n",
        "df"
      ]
    },
    {
      "cell_type": "code",
      "execution_count": null,
      "metadata": {
        "id": "i6BaEmvxAqdq"
      },
      "outputs": [],
      "source": [
        "df.index=['Row_1', 'Row_2', 'Row_3']\n",
        "df"
      ]
    },
    {
      "cell_type": "markdown",
      "metadata": {
        "id": "I92xiHQpAqdq"
      },
      "source": [
        "<h2>Redo our bias crime index change using set_axis()</h2>"
      ]
    },
    {
      "cell_type": "code",
      "execution_count": null,
      "metadata": {
        "id": "9IzXdm-kP79o"
      },
      "outputs": [],
      "source": [
        "\n"
      ]
    },
    {
      "cell_type": "markdown",
      "metadata": {
        "id": "6k8wm8z9Aqdr"
      },
      "source": [
        "<h2>Exercise</h2>\n",
        "Rename the column to Year_YYYY<br>\n",
        "Do it two different ways"
      ]
    },
    {
      "cell_type": "code",
      "execution_count": 230,
      "metadata": {
        "id": "QmWZrmW5QJgy"
      },
      "outputs": [
        {
          "data": {
            "text/html": [
              "<div>\n",
              "<style scoped>\n",
              "    .dataframe tbody tr th:only-of-type {\n",
              "        vertical-align: middle;\n",
              "    }\n",
              "\n",
              "    .dataframe tbody tr th {\n",
              "        vertical-align: top;\n",
              "    }\n",
              "\n",
              "    .dataframe thead th {\n",
              "        text-align: right;\n",
              "    }\n",
              "</style>\n",
              "<table border=\"1\" class=\"dataframe\">\n",
              "  <thead>\n",
              "    <tr style=\"text-align: right;\">\n",
              "      <th></th>\n",
              "      <th>Year_2015</th>\n",
              "      <th>Year_2016</th>\n",
              "      <th>Year_2017</th>\n",
              "      <th>Year_2018</th>\n",
              "      <th>Year_2019</th>\n",
              "    </tr>\n",
              "    <tr>\n",
              "      <th>Race_Ethnicity</th>\n",
              "      <th></th>\n",
              "      <th></th>\n",
              "      <th></th>\n",
              "      <th></th>\n",
              "      <th></th>\n",
              "    </tr>\n",
              "  </thead>\n",
              "  <tbody>\n",
              "    <tr>\n",
              "      <th>Anti-White</th>\n",
              "      <td>613</td>\n",
              "      <td>720</td>\n",
              "      <td>741</td>\n",
              "      <td>762</td>\n",
              "      <td>666</td>\n",
              "    </tr>\n",
              "    <tr>\n",
              "      <th>Anti-Black or African American</th>\n",
              "      <td>1745</td>\n",
              "      <td>1739</td>\n",
              "      <td>2013</td>\n",
              "      <td>1943</td>\n",
              "      <td>1930</td>\n",
              "    </tr>\n",
              "    <tr>\n",
              "      <th>Anti-American Indian or Alaska Native</th>\n",
              "      <td>131</td>\n",
              "      <td>154</td>\n",
              "      <td>251</td>\n",
              "      <td>194</td>\n",
              "      <td>119</td>\n",
              "    </tr>\n",
              "    <tr>\n",
              "      <th>Anti-Asian</th>\n",
              "      <td>111</td>\n",
              "      <td>113</td>\n",
              "      <td>131</td>\n",
              "      <td>148</td>\n",
              "      <td>158</td>\n",
              "    </tr>\n",
              "    <tr>\n",
              "      <th>Anti-Native Hawaiian or Other Pacific Islander</th>\n",
              "      <td>4</td>\n",
              "      <td>9</td>\n",
              "      <td>16</td>\n",
              "      <td>20</td>\n",
              "      <td>21</td>\n",
              "    </tr>\n",
              "    <tr>\n",
              "      <th>Anti-Multiple Races- Group</th>\n",
              "      <td>113</td>\n",
              "      <td>136</td>\n",
              "      <td>180</td>\n",
              "      <td>137</td>\n",
              "      <td>134</td>\n",
              "    </tr>\n",
              "    <tr>\n",
              "      <th>Anti-Arab</th>\n",
              "      <td>37</td>\n",
              "      <td>51</td>\n",
              "      <td>102</td>\n",
              "      <td>82</td>\n",
              "      <td>95</td>\n",
              "    </tr>\n",
              "    <tr>\n",
              "      <th>Anti-Hispanic or Latino</th>\n",
              "      <td>299</td>\n",
              "      <td>344</td>\n",
              "      <td>427</td>\n",
              "      <td>485</td>\n",
              "      <td>527</td>\n",
              "    </tr>\n",
              "    <tr>\n",
              "      <th>Anti-Other Race/Ethnicity/Ancestry</th>\n",
              "      <td>257</td>\n",
              "      <td>223</td>\n",
              "      <td>270</td>\n",
              "      <td>276</td>\n",
              "      <td>313</td>\n",
              "    </tr>\n",
              "  </tbody>\n",
              "</table>\n",
              "</div>"
            ],
            "text/plain": [
              "                                                Year_2015  Year_2016  \\\n",
              "Race_Ethnicity                                                         \n",
              "Anti-White                                            613        720   \n",
              "Anti-Black or African American                       1745       1739   \n",
              "Anti-American Indian or Alaska Native                 131        154   \n",
              "Anti-Asian                                            111        113   \n",
              "Anti-Native Hawaiian or Other Pacific Islander          4          9   \n",
              "Anti-Multiple Races- Group                            113        136   \n",
              "Anti-Arab                                              37         51   \n",
              "Anti-Hispanic or Latino                               299        344   \n",
              "Anti-Other Race/Ethnicity/Ancestry                    257        223   \n",
              "\n",
              "                                                Year_2017  Year_2018  \\\n",
              "Race_Ethnicity                                                         \n",
              "Anti-White                                            741        762   \n",
              "Anti-Black or African American                       2013       1943   \n",
              "Anti-American Indian or Alaska Native                 251        194   \n",
              "Anti-Asian                                            131        148   \n",
              "Anti-Native Hawaiian or Other Pacific Islander         16         20   \n",
              "Anti-Multiple Races- Group                            180        137   \n",
              "Anti-Arab                                             102         82   \n",
              "Anti-Hispanic or Latino                               427        485   \n",
              "Anti-Other Race/Ethnicity/Ancestry                    270        276   \n",
              "\n",
              "                                                Year_2019  \n",
              "Race_Ethnicity                                             \n",
              "Anti-White                                            666  \n",
              "Anti-Black or African American                       1930  \n",
              "Anti-American Indian or Alaska Native                 119  \n",
              "Anti-Asian                                            158  \n",
              "Anti-Native Hawaiian or Other Pacific Islander         21  \n",
              "Anti-Multiple Races- Group                            134  \n",
              "Anti-Arab                                              95  \n",
              "Anti-Hispanic or Latino                               527  \n",
              "Anti-Other Race/Ethnicity/Ancestry                    313  "
            ]
          },
          "execution_count": 230,
          "metadata": {},
          "output_type": "execute_result"
        }
      ],
      "source": [
        "import pandas as pd\n",
        "df = pd.read_csv('Bias_crime_2015_2019.csv')\n",
        "# Change the index to be the race column\n",
        "df.set_index('Race_Ethnicity', drop=True, inplace=True)\n",
        "# add prefix to remaining columns\n",
        "df.add_prefix('Year_')"
      ]
    }
  ],
  "metadata": {
    "colab": {
      "name": "Copy of CI Data Science-Lesson 17 without answers.ipynb",
      "provenance": []
    },
    "kernelspec": {
      "display_name": "Python 3",
      "language": "python",
      "name": "python3"
    },
    "language_info": {
      "codemirror_mode": {
        "name": "ipython",
        "version": 3
      },
      "file_extension": ".py",
      "mimetype": "text/x-python",
      "name": "python",
      "nbconvert_exporter": "python",
      "pygments_lexer": "ipython3",
      "version": "3.10.2"
    }
  },
  "nbformat": 4,
  "nbformat_minor": 0
}
